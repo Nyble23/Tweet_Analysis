{
  "nbformat": 4,
  "nbformat_minor": 0,
  "metadata": {
    "colab": {
      "name": "pk_task.ipynb",
      "provenance": [],
      "collapsed_sections": [
        "fIpLJWV6qdb4"
      ]
    },
    "kernelspec": {
      "name": "python3",
      "display_name": "Python 3"
    },
    "accelerator": "TPU"
  },
  "cells": [
    {
      "cell_type": "markdown",
      "metadata": {
        "id": "TSLNmfUrwLiC",
        "colab_type": "text"
      },
      "source": [
        "importing libraries"
      ]
    },
    {
      "cell_type": "code",
      "metadata": {
        "id": "16XRYJ6ljYDC",
        "colab_type": "code",
        "outputId": "11497d93-d140-473e-ca4d-513fcac4c322",
        "colab": {
          "base_uri": "https://localhost:8080/",
          "height": 207
        }
      },
      "source": [
        "#for handling emoticons\n",
        "!pip install emoji"
      ],
      "execution_count": 1,
      "outputs": [
        {
          "output_type": "stream",
          "text": [
            "Collecting emoji\n",
            "\u001b[?25l  Downloading https://files.pythonhosted.org/packages/40/8d/521be7f0091fe0f2ae690cc044faf43e3445e0ff33c574eae752dd7e39fa/emoji-0.5.4.tar.gz (43kB)\n",
            "\r\u001b[K     |███████▌                        | 10kB 16.5MB/s eta 0:00:01\r\u001b[K     |███████████████                 | 20kB 2.2MB/s eta 0:00:01\r\u001b[K     |██████████████████████▋         | 30kB 2.8MB/s eta 0:00:01\r\u001b[K     |██████████████████████████████▏ | 40kB 3.1MB/s eta 0:00:01\r\u001b[K     |████████████████████████████████| 51kB 1.9MB/s \n",
            "\u001b[?25hBuilding wheels for collected packages: emoji\n",
            "  Building wheel for emoji (setup.py) ... \u001b[?25l\u001b[?25hdone\n",
            "  Created wheel for emoji: filename=emoji-0.5.4-cp36-none-any.whl size=42176 sha256=f82fe8469b223157e32443465948dcf108cb14903f5be282d024fcdf1796c0c1\n",
            "  Stored in directory: /root/.cache/pip/wheels/2a/a9/0a/4f8e8cce8074232aba240caca3fade315bb49fac68808d1a9c\n",
            "Successfully built emoji\n",
            "Installing collected packages: emoji\n",
            "Successfully installed emoji-0.5.4\n"
          ],
          "name": "stdout"
        }
      ]
    },
    {
      "cell_type": "code",
      "metadata": {
        "id": "rlT7cqZVuLtB",
        "colab_type": "code",
        "outputId": "2568c418-a3c4-43a3-961a-caaa4a4a6a89",
        "colab": {
          "base_uri": "https://localhost:8080/",
          "height": 139
        }
      },
      "source": [
        "pip install num2words"
      ],
      "execution_count": 2,
      "outputs": [
        {
          "output_type": "stream",
          "text": [
            "Collecting num2words\n",
            "\u001b[?25l  Downloading https://files.pythonhosted.org/packages/eb/a2/ea800689730732e27711c41beed4b2a129b34974435bdc450377ec407738/num2words-0.5.10-py3-none-any.whl (101kB)\n",
            "\r\u001b[K     |███▎                            | 10kB 16.6MB/s eta 0:00:01\r\u001b[K     |██████▌                         | 20kB 2.1MB/s eta 0:00:01\r\u001b[K     |█████████▊                      | 30kB 2.8MB/s eta 0:00:01\r\u001b[K     |█████████████                   | 40kB 3.1MB/s eta 0:00:01\r\u001b[K     |████████████████▏               | 51kB 2.4MB/s eta 0:00:01\r\u001b[K     |███████████████████▍            | 61kB 2.8MB/s eta 0:00:01\r\u001b[K     |██████████████████████▋         | 71kB 3.0MB/s eta 0:00:01\r\u001b[K     |█████████████████████████▉      | 81kB 3.3MB/s eta 0:00:01\r\u001b[K     |█████████████████████████████   | 92kB 3.5MB/s eta 0:00:01\r\u001b[K     |████████████████████████████████| 102kB 2.7MB/s \n",
            "\u001b[?25hRequirement already satisfied: docopt>=0.6.2 in /usr/local/lib/python3.6/dist-packages (from num2words) (0.6.2)\n",
            "Installing collected packages: num2words\n",
            "Successfully installed num2words-0.5.10\n"
          ],
          "name": "stdout"
        }
      ]
    },
    {
      "cell_type": "code",
      "metadata": {
        "id": "LS5tmcvrLNaa",
        "colab_type": "code",
        "outputId": "91658971-b5ec-46d9-88a4-33c84767a24d",
        "colab": {
          "base_uri": "https://localhost:8080/",
          "height": 207
        }
      },
      "source": [
        "pip install vaderSentiment"
      ],
      "execution_count": 3,
      "outputs": [
        {
          "output_type": "stream",
          "text": [
            "Collecting vaderSentiment\n",
            "\u001b[?25l  Downloading https://files.pythonhosted.org/packages/76/fc/310e16254683c1ed35eeb97386986d6c00bc29df17ce280aed64d55537e9/vaderSentiment-3.3.2-py2.py3-none-any.whl (125kB)\n",
            "\r\u001b[K     |██▋                             | 10kB 16.2MB/s eta 0:00:01\r\u001b[K     |█████▏                          | 20kB 2.2MB/s eta 0:00:01\r\u001b[K     |███████▉                        | 30kB 2.8MB/s eta 0:00:01\r\u001b[K     |██████████▍                     | 40kB 3.1MB/s eta 0:00:01\r\u001b[K     |█████████████                   | 51kB 2.5MB/s eta 0:00:01\r\u001b[K     |███████████████▋                | 61kB 2.8MB/s eta 0:00:01\r\u001b[K     |██████████████████▏             | 71kB 3.0MB/s eta 0:00:01\r\u001b[K     |████████████████████▉           | 81kB 3.3MB/s eta 0:00:01\r\u001b[K     |███████████████████████▍        | 92kB 3.4MB/s eta 0:00:01\r\u001b[K     |██████████████████████████      | 102kB 3.4MB/s eta 0:00:01\r\u001b[K     |████████████████████████████▋   | 112kB 3.4MB/s eta 0:00:01\r\u001b[K     |███████████████████████████████▏| 122kB 3.4MB/s eta 0:00:01\r\u001b[K     |████████████████████████████████| 133kB 3.4MB/s \n",
            "\u001b[?25hRequirement already satisfied: requests in /usr/local/lib/python3.6/dist-packages (from vaderSentiment) (2.23.0)\n",
            "Requirement already satisfied: urllib3!=1.25.0,!=1.25.1,<1.26,>=1.21.1 in /usr/local/lib/python3.6/dist-packages (from requests->vaderSentiment) (1.24.3)\n",
            "Requirement already satisfied: chardet<4,>=3.0.2 in /usr/local/lib/python3.6/dist-packages (from requests->vaderSentiment) (3.0.4)\n",
            "Requirement already satisfied: certifi>=2017.4.17 in /usr/local/lib/python3.6/dist-packages (from requests->vaderSentiment) (2020.4.5.1)\n",
            "Requirement already satisfied: idna<3,>=2.5 in /usr/local/lib/python3.6/dist-packages (from requests->vaderSentiment) (2.9)\n",
            "Installing collected packages: vaderSentiment\n",
            "Successfully installed vaderSentiment-3.3.2\n"
          ],
          "name": "stdout"
        }
      ]
    },
    {
      "cell_type": "code",
      "metadata": {
        "id": "ptKjt4GM5lGb",
        "colab_type": "code",
        "colab": {
          "base_uri": "https://localhost:8080/",
          "height": 632
        },
        "outputId": "a5e72ff4-2612-4261-c361-06562eaee90a"
      },
      "source": [
        "pip install pyLDAvis"
      ],
      "execution_count": 122,
      "outputs": [
        {
          "output_type": "stream",
          "text": [
            "Collecting pyLDAvis\n",
            "\u001b[?25l  Downloading https://files.pythonhosted.org/packages/a5/3a/af82e070a8a96e13217c8f362f9a73e82d61ac8fff3a2561946a97f96266/pyLDAvis-2.1.2.tar.gz (1.6MB)\n",
            "\u001b[K     |████████████████████████████████| 1.6MB 3.3MB/s \n",
            "\u001b[?25hRequirement already satisfied: wheel>=0.23.0 in /usr/local/lib/python3.6/dist-packages (from pyLDAvis) (0.34.2)\n",
            "Requirement already satisfied: numpy>=1.9.2 in /usr/local/lib/python3.6/dist-packages (from pyLDAvis) (1.18.5)\n",
            "Requirement already satisfied: scipy>=0.18.0 in /usr/local/lib/python3.6/dist-packages (from pyLDAvis) (1.4.1)\n",
            "Requirement already satisfied: pandas>=0.17.0 in /usr/local/lib/python3.6/dist-packages (from pyLDAvis) (1.0.4)\n",
            "Requirement already satisfied: joblib>=0.8.4 in /usr/local/lib/python3.6/dist-packages (from pyLDAvis) (0.15.1)\n",
            "Requirement already satisfied: jinja2>=2.7.2 in /usr/local/lib/python3.6/dist-packages (from pyLDAvis) (2.11.2)\n",
            "Requirement already satisfied: numexpr in /usr/local/lib/python3.6/dist-packages (from pyLDAvis) (2.7.1)\n",
            "Requirement already satisfied: pytest in /usr/local/lib/python3.6/dist-packages (from pyLDAvis) (3.6.4)\n",
            "Requirement already satisfied: future in /usr/local/lib/python3.6/dist-packages (from pyLDAvis) (0.16.0)\n",
            "Collecting funcy\n",
            "\u001b[?25l  Downloading https://files.pythonhosted.org/packages/ce/4b/6ffa76544e46614123de31574ad95758c421aae391a1764921b8a81e1eae/funcy-1.14.tar.gz (548kB)\n",
            "\u001b[K     |████████████████████████████████| 552kB 21.2MB/s \n",
            "\u001b[?25hRequirement already satisfied: python-dateutil>=2.6.1 in /usr/local/lib/python3.6/dist-packages (from pandas>=0.17.0->pyLDAvis) (2.8.1)\n",
            "Requirement already satisfied: pytz>=2017.2 in /usr/local/lib/python3.6/dist-packages (from pandas>=0.17.0->pyLDAvis) (2018.9)\n",
            "Requirement already satisfied: MarkupSafe>=0.23 in /usr/local/lib/python3.6/dist-packages (from jinja2>=2.7.2->pyLDAvis) (1.1.1)\n",
            "Requirement already satisfied: atomicwrites>=1.0 in /usr/local/lib/python3.6/dist-packages (from pytest->pyLDAvis) (1.4.0)\n",
            "Requirement already satisfied: more-itertools>=4.0.0 in /usr/local/lib/python3.6/dist-packages (from pytest->pyLDAvis) (8.3.0)\n",
            "Requirement already satisfied: pluggy<0.8,>=0.5 in /usr/local/lib/python3.6/dist-packages (from pytest->pyLDAvis) (0.7.1)\n",
            "Requirement already satisfied: py>=1.5.0 in /usr/local/lib/python3.6/dist-packages (from pytest->pyLDAvis) (1.8.1)\n",
            "Requirement already satisfied: attrs>=17.4.0 in /usr/local/lib/python3.6/dist-packages (from pytest->pyLDAvis) (19.3.0)\n",
            "Requirement already satisfied: six>=1.10.0 in /usr/local/lib/python3.6/dist-packages (from pytest->pyLDAvis) (1.12.0)\n",
            "Requirement already satisfied: setuptools in /usr/local/lib/python3.6/dist-packages (from pytest->pyLDAvis) (47.1.1)\n",
            "Building wheels for collected packages: pyLDAvis, funcy\n",
            "  Building wheel for pyLDAvis (setup.py) ... \u001b[?25l\u001b[?25hdone\n",
            "  Created wheel for pyLDAvis: filename=pyLDAvis-2.1.2-py2.py3-none-any.whl size=97711 sha256=4a63acf21113fca6d04c81b8ad1cc008cca35189b3177aa16498c90c7a24bebe\n",
            "  Stored in directory: /root/.cache/pip/wheels/98/71/24/513a99e58bb6b8465bae4d2d5e9dba8f0bef8179e3051ac414\n",
            "  Building wheel for funcy (setup.py) ... \u001b[?25l\u001b[?25hdone\n",
            "  Created wheel for funcy: filename=funcy-1.14-py2.py3-none-any.whl size=32042 sha256=1fc6c5476c11fd5d5542e39f019dc281dfe5ecaf6a5629dc5378cc98761970cc\n",
            "  Stored in directory: /root/.cache/pip/wheels/20/5a/d8/1d875df03deae6f178dfdf70238cca33f948ef8a6f5209f2eb\n",
            "Successfully built pyLDAvis funcy\n",
            "Installing collected packages: funcy, pyLDAvis\n",
            "Successfully installed funcy-1.14 pyLDAvis-2.1.2\n"
          ],
          "name": "stdout"
        }
      ]
    },
    {
      "cell_type": "code",
      "metadata": {
        "id": "p3pRVsL9wJ0l",
        "colab_type": "code",
        "colab": {}
      },
      "source": [
        "import json\n",
        "import csv\n",
        "from collections import defaultdict\n",
        "from collections import Counter\n",
        "import numpy as np\n",
        "import re\n",
        "from num2words import num2words\n",
        "import nltk\n",
        "import pandas as pd\n",
        "\n",
        "#for topic modelling\n",
        "import gensim\n",
        "from gensim import models\n",
        "from gensim import corpora\n",
        "from gensim.models import CoherenceModel\n",
        "\n",
        "#for plotting\n",
        "import seaborn as sns\n",
        "import matplotlib.pyplot as plt\n",
        "\n",
        "import pyLDAvis\n",
        "import pyLDAvis.gensim  \n",
        "%matplotlib inline\n",
        "\n",
        "#for handling emoticons\n",
        "import emoji\n",
        "\n",
        "#for sentiment analysis\n",
        "from vaderSentiment.vaderSentiment import SentimentIntensityAnalyzer "
      ],
      "execution_count": 0,
      "outputs": []
    },
    {
      "cell_type": "markdown",
      "metadata": {
        "id": "blmbpKRmwQhX",
        "colab_type": "text"
      },
      "source": [
        "**Loading data**"
      ]
    },
    {
      "cell_type": "code",
      "metadata": {
        "id": "k3A1FNx9kgef",
        "colab_type": "code",
        "colab": {}
      },
      "source": [
        "with open('/content/drive/My Drive/Yuvi_RIP.json') as tweets:\n",
        "  tweet_data = json.load(tweets)"
      ],
      "execution_count": 0,
      "outputs": []
    },
    {
      "cell_type": "markdown",
      "metadata": {
        "id": "qc1A13uPh9CA",
        "colab_type": "text"
      },
      "source": [
        "*Storing it as dataframe*"
      ]
    },
    {
      "cell_type": "code",
      "metadata": {
        "id": "6fayaUVZh2eV",
        "colab_type": "code",
        "colab": {}
      },
      "source": [
        "tweet_data_frame = pd.DataFrame.from_dict(tweet_data)"
      ],
      "execution_count": 0,
      "outputs": []
    },
    {
      "cell_type": "code",
      "metadata": {
        "id": "y7hcbUS3iUus",
        "colab_type": "code",
        "outputId": "02c95240-2ff6-4ef8-c9fd-5195ce304099",
        "colab": {
          "base_uri": "https://localhost:8080/",
          "height": 34
        }
      },
      "source": [
        "tweet_data_frame.shape"
      ],
      "execution_count": 7,
      "outputs": [
        {
          "output_type": "execute_result",
          "data": {
            "text/plain": [
              "(9189, 27)"
            ]
          },
          "metadata": {
            "tags": []
          },
          "execution_count": 7
        }
      ]
    },
    {
      "cell_type": "code",
      "metadata": {
        "id": "PC54kQRBkEf_",
        "colab_type": "code",
        "outputId": "0b5b0f40-6539-452f-fe6a-3bae8bbab17c",
        "colab": {
          "base_uri": "https://localhost:8080/",
          "height": 153
        }
      },
      "source": [
        "tweet_data_frame.columns"
      ],
      "execution_count": 8,
      "outputs": [
        {
          "output_type": "execute_result",
          "data": {
            "text/plain": [
              "Index(['_id', 'created_at', 'id', 'id_str', 'full_text', 'truncated',\n",
              "       'display_text_range', 'entities', 'metadata', 'source',\n",
              "       'in_reply_to_status_id', 'in_reply_to_status_id_str',\n",
              "       'in_reply_to_user_id', 'in_reply_to_user_id_str',\n",
              "       'in_reply_to_screen_name', 'user', 'geo', 'coordinates', 'place',\n",
              "       'contributors', 'retweeted_status', 'is_quote_status', 'retweet_count',\n",
              "       'favorite_count', 'favorited', 'retweeted', 'lang'],\n",
              "      dtype='object')"
            ]
          },
          "metadata": {
            "tags": []
          },
          "execution_count": 8
        }
      ]
    },
    {
      "cell_type": "code",
      "metadata": {
        "id": "a782jq1diBNf",
        "colab_type": "code",
        "outputId": "95b1fb63-081a-4bee-d4af-3e0293dce033",
        "colab": {
          "base_uri": "https://localhost:8080/",
          "height": 462
        }
      },
      "source": [
        "tweet_data_frame.head()"
      ],
      "execution_count": 9,
      "outputs": [
        {
          "output_type": "execute_result",
          "data": {
            "text/html": [
              "<div>\n",
              "<style scoped>\n",
              "    .dataframe tbody tr th:only-of-type {\n",
              "        vertical-align: middle;\n",
              "    }\n",
              "\n",
              "    .dataframe tbody tr th {\n",
              "        vertical-align: top;\n",
              "    }\n",
              "\n",
              "    .dataframe thead th {\n",
              "        text-align: right;\n",
              "    }\n",
              "</style>\n",
              "<table border=\"1\" class=\"dataframe\">\n",
              "  <thead>\n",
              "    <tr style=\"text-align: right;\">\n",
              "      <th></th>\n",
              "      <th>_id</th>\n",
              "      <th>created_at</th>\n",
              "      <th>id</th>\n",
              "      <th>id_str</th>\n",
              "      <th>full_text</th>\n",
              "      <th>truncated</th>\n",
              "      <th>display_text_range</th>\n",
              "      <th>entities</th>\n",
              "      <th>metadata</th>\n",
              "      <th>source</th>\n",
              "      <th>in_reply_to_status_id</th>\n",
              "      <th>in_reply_to_status_id_str</th>\n",
              "      <th>in_reply_to_user_id</th>\n",
              "      <th>in_reply_to_user_id_str</th>\n",
              "      <th>in_reply_to_screen_name</th>\n",
              "      <th>user</th>\n",
              "      <th>geo</th>\n",
              "      <th>coordinates</th>\n",
              "      <th>place</th>\n",
              "      <th>contributors</th>\n",
              "      <th>retweeted_status</th>\n",
              "      <th>is_quote_status</th>\n",
              "      <th>retweet_count</th>\n",
              "      <th>favorite_count</th>\n",
              "      <th>favorited</th>\n",
              "      <th>retweeted</th>\n",
              "      <th>lang</th>\n",
              "    </tr>\n",
              "  </thead>\n",
              "  <tbody>\n",
              "    <tr>\n",
              "      <th>0</th>\n",
              "      <td>{'$oid': '5ee1244dc51e2d8beb570717'}</td>\n",
              "      <td>Wed Jun 10 18:19:05 +0000 2020</td>\n",
              "      <td>1270782555357212700</td>\n",
              "      <td>1270782555357212672</td>\n",
              "      <td>RT @PTTVOnlineNews: திமுக எம்எல்ஏ ஜெ.அன்பழகன் ...</td>\n",
              "      <td>False</td>\n",
              "      <td>[0, 140]</td>\n",
              "      <td>{'hashtags': [{'text': 'JAnbazhagan', 'indices...</td>\n",
              "      <td>{'iso_language_code': 'ta', 'result_type': 're...</td>\n",
              "      <td>&lt;a href=\"https://mobile.twitter.com\" rel=\"nofo...</td>\n",
              "      <td>NaN</td>\n",
              "      <td>None</td>\n",
              "      <td>NaN</td>\n",
              "      <td>None</td>\n",
              "      <td>None</td>\n",
              "      <td>{'id': 1146440916527243300, 'id_str': '1146440...</td>\n",
              "      <td>None</td>\n",
              "      <td>None</td>\n",
              "      <td>None</td>\n",
              "      <td>None</td>\n",
              "      <td>{'created_at': 'Wed Jun 10 06:32:16 +0000 2020...</td>\n",
              "      <td>False</td>\n",
              "      <td>90</td>\n",
              "      <td>0</td>\n",
              "      <td>False</td>\n",
              "      <td>False</td>\n",
              "      <td>ta</td>\n",
              "    </tr>\n",
              "    <tr>\n",
              "      <th>1</th>\n",
              "      <td>{'$oid': '5ee1244dc51e2d8beb570718'}</td>\n",
              "      <td>Wed Jun 10 18:18:55 +0000 2020</td>\n",
              "      <td>1270782513577963500</td>\n",
              "      <td>1270782513577963525</td>\n",
              "      <td>RT @ShikharDhawan85: @WasimJaffer14 @virenders...</td>\n",
              "      <td>False</td>\n",
              "      <td>[0, 107]</td>\n",
              "      <td>{'hashtags': [{'text': 'TeamIndia', 'indices':...</td>\n",
              "      <td>{'iso_language_code': 'en', 'result_type': 're...</td>\n",
              "      <td>&lt;a href=\"https://mobile.twitter.com\" rel=\"nofo...</td>\n",
              "      <td>NaN</td>\n",
              "      <td>None</td>\n",
              "      <td>NaN</td>\n",
              "      <td>None</td>\n",
              "      <td>None</td>\n",
              "      <td>{'id': 2939301529, 'id_str': '2939301529', 'na...</td>\n",
              "      <td>None</td>\n",
              "      <td>None</td>\n",
              "      <td>None</td>\n",
              "      <td>None</td>\n",
              "      <td>{'created_at': 'Wed Jun 10 12:10:56 +0000 2020...</td>\n",
              "      <td>False</td>\n",
              "      <td>1</td>\n",
              "      <td>0</td>\n",
              "      <td>False</td>\n",
              "      <td>False</td>\n",
              "      <td>en</td>\n",
              "    </tr>\n",
              "    <tr>\n",
              "      <th>2</th>\n",
              "      <td>{'$oid': '5ee1244dc51e2d8beb570719'}</td>\n",
              "      <td>Wed Jun 10 18:18:43 +0000 2020</td>\n",
              "      <td>1270782461304164400</td>\n",
              "      <td>1270782461304164352</td>\n",
              "      <td>RT @TheCricketWire: #OnThisDay last year, Yuvr...</td>\n",
              "      <td>False</td>\n",
              "      <td>[0, 140]</td>\n",
              "      <td>{'hashtags': [{'text': 'OnThisDay', 'indices':...</td>\n",
              "      <td>{'iso_language_code': 'en', 'result_type': 're...</td>\n",
              "      <td>&lt;a href=\"http://twitter.com/download/android\" ...</td>\n",
              "      <td>NaN</td>\n",
              "      <td>None</td>\n",
              "      <td>NaN</td>\n",
              "      <td>None</td>\n",
              "      <td>None</td>\n",
              "      <td>{'id': 1256605147355988000, 'id_str': '1256605...</td>\n",
              "      <td>None</td>\n",
              "      <td>None</td>\n",
              "      <td>None</td>\n",
              "      <td>None</td>\n",
              "      <td>{'created_at': 'Wed Jun 10 10:26:06 +0000 2020...</td>\n",
              "      <td>False</td>\n",
              "      <td>36</td>\n",
              "      <td>0</td>\n",
              "      <td>False</td>\n",
              "      <td>False</td>\n",
              "      <td>en</td>\n",
              "    </tr>\n",
              "    <tr>\n",
              "      <th>3</th>\n",
              "      <td>{'$oid': '5ee1244dc51e2d8beb57071a'}</td>\n",
              "      <td>Wed Jun 10 18:18:41 +0000 2020</td>\n",
              "      <td>1270782454454837200</td>\n",
              "      <td>1270782454454837248</td>\n",
              "      <td>RT @Sra1karne: We are at 5th place in Trending...</td>\n",
              "      <td>False</td>\n",
              "      <td>[0, 140]</td>\n",
              "      <td>{'hashtags': [], 'symbols': [], 'user_mentions...</td>\n",
              "      <td>{'iso_language_code': 'en', 'result_type': 're...</td>\n",
              "      <td>&lt;a href=\"http://twitter.com/download/android\" ...</td>\n",
              "      <td>NaN</td>\n",
              "      <td>None</td>\n",
              "      <td>NaN</td>\n",
              "      <td>None</td>\n",
              "      <td>None</td>\n",
              "      <td>{'id': 464766558, 'id_str': '464766558', 'name...</td>\n",
              "      <td>None</td>\n",
              "      <td>None</td>\n",
              "      <td>None</td>\n",
              "      <td>None</td>\n",
              "      <td>{'created_at': 'Wed Jun 10 06:25:26 +0000 2020...</td>\n",
              "      <td>False</td>\n",
              "      <td>4</td>\n",
              "      <td>0</td>\n",
              "      <td>False</td>\n",
              "      <td>False</td>\n",
              "      <td>en</td>\n",
              "    </tr>\n",
              "    <tr>\n",
              "      <th>4</th>\n",
              "      <td>{'$oid': '5ee1244dc51e2d8beb57071b'}</td>\n",
              "      <td>Wed Jun 10 18:18:34 +0000 2020</td>\n",
              "      <td>1270782423538647000</td>\n",
              "      <td>1270782423538647040</td>\n",
              "      <td>RT @fadnavis_amruta: He was out on streets of ...</td>\n",
              "      <td>False</td>\n",
              "      <td>[0, 144]</td>\n",
              "      <td>{'hashtags': [{'text': 'Dharavi', 'indices': [...</td>\n",
              "      <td>{'iso_language_code': 'en', 'result_type': 're...</td>\n",
              "      <td>&lt;a href=\"https://mobile.twitter.com\" rel=\"nofo...</td>\n",
              "      <td>NaN</td>\n",
              "      <td>None</td>\n",
              "      <td>NaN</td>\n",
              "      <td>None</td>\n",
              "      <td>None</td>\n",
              "      <td>{'id': 1850478770, 'id_str': '1850478770', 'na...</td>\n",
              "      <td>None</td>\n",
              "      <td>None</td>\n",
              "      <td>None</td>\n",
              "      <td>None</td>\n",
              "      <td>{'created_at': 'Wed Jun 10 08:00:34 +0000 2020...</td>\n",
              "      <td>False</td>\n",
              "      <td>269</td>\n",
              "      <td>0</td>\n",
              "      <td>False</td>\n",
              "      <td>False</td>\n",
              "      <td>en</td>\n",
              "    </tr>\n",
              "  </tbody>\n",
              "</table>\n",
              "</div>"
            ],
            "text/plain": [
              "                                    _id  ... lang\n",
              "0  {'$oid': '5ee1244dc51e2d8beb570717'}  ...   ta\n",
              "1  {'$oid': '5ee1244dc51e2d8beb570718'}  ...   en\n",
              "2  {'$oid': '5ee1244dc51e2d8beb570719'}  ...   en\n",
              "3  {'$oid': '5ee1244dc51e2d8beb57071a'}  ...   en\n",
              "4  {'$oid': '5ee1244dc51e2d8beb57071b'}  ...   en\n",
              "\n",
              "[5 rows x 27 columns]"
            ]
          },
          "metadata": {
            "tags": []
          },
          "execution_count": 9
        }
      ]
    },
    {
      "cell_type": "markdown",
      "metadata": {
        "id": "XjQXkUJdmhfl",
        "colab_type": "text"
      },
      "source": [
        "**Separating the tweets into different classes**"
      ]
    },
    {
      "cell_type": "code",
      "metadata": {
        "id": "_S5Ziq9g2p2E",
        "colab_type": "code",
        "colab": {}
      },
      "source": [
        "df_A = pd.DataFrame()                       #dataframe that stores tweets of class A\n",
        "df_B = pd.DataFrame()                       #dataframe that stores tweets of class B\n",
        "df_C = pd.DataFrame()                       #dataframe that stores tweets of class C\n",
        "\n",
        "\n",
        "for i in range(len(tweet_data_frame)):\n",
        "  text = tweet_data_frame.loc[i,'full_text']\n",
        "\n",
        "  if(\"#MissYouYuvi\" in text and \"#RestInPeace\" not in text):\n",
        "    df_A = df_A.append(tweet_data_frame.loc[[i]])\n",
        "  elif(\"#RestInPeace\" in text and \"#MissYouYuvi\" not in text):\n",
        "    df_B = df_B.append(tweet_data_frame.loc[[i]])\n",
        "  elif(\"#RestInPeace\" in text and \"#MissYouYuvi\" in text):\n",
        "    df_C = df_C.append(tweet_data_frame.loc[[i]])"
      ],
      "execution_count": 0,
      "outputs": []
    },
    {
      "cell_type": "markdown",
      "metadata": {
        "id": "fIpLJWV6qdb4",
        "colab_type": "text"
      },
      "source": [
        "####**Analysing the data fetched**"
      ]
    },
    {
      "cell_type": "code",
      "metadata": {
        "id": "ZpfNQnVzoZ4P",
        "colab_type": "code",
        "outputId": "174841fa-cbf4-416e-adfe-eee0425f7cd0",
        "colab": {
          "base_uri": "https://localhost:8080/",
          "height": 68
        }
      },
      "source": [
        "print(\"Size of class A = \",len(df_A.index))\n",
        "print(\"Size of class B = \",len(df_B.index))\n",
        "print(\"Size of class C = \",len(df_C.index))"
      ],
      "execution_count": 0,
      "outputs": [
        {
          "output_type": "stream",
          "text": [
            "Size of class A =  5665\n",
            "Size of class B =  416\n",
            "Size of class C =  269\n"
          ],
          "name": "stdout"
        }
      ]
    },
    {
      "cell_type": "code",
      "metadata": {
        "id": "nENRjMpItyQk",
        "colab_type": "code",
        "outputId": "077e5d84-01ca-4d15-8aee-fb4919676c30",
        "colab": {
          "base_uri": "https://localhost:8080/",
          "height": 305
        }
      },
      "source": [
        "class_name = ['A','B','C']\n",
        "count = [len(df_A.index),len(df_B.index),len(df_C.index)]\n",
        "\n",
        "index = np.arange(len(class_name))\n",
        "\n",
        "sns.barplot(x=class_name, y=count, linewidth=2.5, errcolor=\".2\", edgecolor=\".2\")\n",
        "plt.xlabel('Class', fontsize=15)\n",
        "plt.ylabel('Number of data', fontsize=15)\n",
        "plt.xticks(index, class_name, fontsize=15)\n",
        "plt.title('Class distribution')\n",
        "plt.show()"
      ],
      "execution_count": 0,
      "outputs": [
        {
          "output_type": "display_data",
          "data": {
            "image/png": "[encoded data removed]",
            "text/plain": [
              "<Figure size 432x288 with 1 Axes>"
            ]
          },
          "metadata": {
            "tags": [],
            "needs_background": "light"
          }
        }
      ]
    },
    {
      "cell_type": "markdown",
      "metadata": {
        "id": "NDB_9r6e5sgr",
        "colab_type": "text"
      },
      "source": [
        "**Number of users in each class**"
      ]
    },
    {
      "cell_type": "markdown",
      "metadata": {
        "id": "bZqPQSo28h8T",
        "colab_type": "text"
      },
      "source": [
        "*Class A*"
      ]
    },
    {
      "cell_type": "code",
      "metadata": {
        "id": "xdRwm6W95Hvd",
        "colab_type": "code",
        "colab": {}
      },
      "source": [
        "users_A = []\n",
        "\n",
        "for i in df_A.index:\n",
        "  users_A.append(df_A.loc[i,'user']['id_str'])"
      ],
      "execution_count": 0,
      "outputs": []
    },
    {
      "cell_type": "code",
      "metadata": {
        "id": "3Bpq74px7aNS",
        "colab_type": "code",
        "outputId": "8f083f27-2213-4677-bafb-f2b8f7df2a05",
        "colab": {
          "base_uri": "https://localhost:8080/",
          "height": 0
        }
      },
      "source": [
        "print(\"Tweets for class A: \", len(users_A))\n",
        "print(\"Number of users tweeting for class A :\", len(set(users_A)))"
      ],
      "execution_count": 278,
      "outputs": [
        {
          "output_type": "stream",
          "text": [
            "Tweets for class A:  5665\n",
            "Number of users tweeting for class A : 1617\n"
          ],
          "name": "stdout"
        }
      ]
    },
    {
      "cell_type": "markdown",
      "metadata": {
        "id": "uOXizDyk8_SG",
        "colab_type": "text"
      },
      "source": [
        "*Class B*"
      ]
    },
    {
      "cell_type": "code",
      "metadata": {
        "id": "8Cw0WIG18_Er",
        "colab_type": "code",
        "colab": {}
      },
      "source": [
        "users_B = []\n",
        "\n",
        "for i in df_B.index:\n",
        "  users_B.append(df_B.loc[i,'user']['id_str'])"
      ],
      "execution_count": 0,
      "outputs": []
    },
    {
      "cell_type": "code",
      "metadata": {
        "id": "enAmAZ6r9GXK",
        "colab_type": "code",
        "outputId": "91fe38f0-699e-48dd-c725-fdb6446ec3b2",
        "colab": {
          "base_uri": "https://localhost:8080/",
          "height": 51
        }
      },
      "source": [
        "print(\"Tweets for class B: \", len(users_B))\n",
        "print(\"Number of users tweeting for class B :\", len(set(users_B)))"
      ],
      "execution_count": 0,
      "outputs": [
        {
          "output_type": "stream",
          "text": [
            "Tweets for class B:  416\n",
            "Number of users tweeting for class B : 381\n"
          ],
          "name": "stdout"
        }
      ]
    },
    {
      "cell_type": "markdown",
      "metadata": {
        "id": "XcT8zMhK9KkW",
        "colab_type": "text"
      },
      "source": [
        "*Class C*"
      ]
    },
    {
      "cell_type": "code",
      "metadata": {
        "id": "kfhhTq5K9Ond",
        "colab_type": "code",
        "colab": {}
      },
      "source": [
        "users_C = []\n",
        "\n",
        "for i in df_C.index:\n",
        "  users_C.append(df_C.loc[i,'user']['id_str'])"
      ],
      "execution_count": 0,
      "outputs": []
    },
    {
      "cell_type": "code",
      "metadata": {
        "id": "8vGrrYkW9KKo",
        "colab_type": "code",
        "outputId": "d7ba0273-3207-44ea-b228-ca03c3964943",
        "colab": {
          "base_uri": "https://localhost:8080/",
          "height": 51
        }
      },
      "source": [
        "print(\"Tweets for class C: \", len(users_C))\n",
        "print(\"Number of users tweeting for class C :\", len(set(users_C)))"
      ],
      "execution_count": 0,
      "outputs": [
        {
          "output_type": "stream",
          "text": [
            "Tweets for class C:  269\n",
            "Number of users tweeting for class C : 197\n"
          ],
          "name": "stdout"
        }
      ]
    },
    {
      "cell_type": "markdown",
      "metadata": {
        "id": "9aIHE42y9WL-",
        "colab_type": "text"
      },
      "source": [
        "**Number of verified users in each class**"
      ]
    },
    {
      "cell_type": "code",
      "metadata": {
        "id": "ZwoQyfwj9hpf",
        "colab_type": "code",
        "outputId": "7443bfe3-abcd-49e9-fc90-10296804591a",
        "colab": {
          "base_uri": "https://localhost:8080/",
          "height": 51
        }
      },
      "source": [
        "count_A = 0\n",
        "\n",
        "for i in df_A.index:\n",
        "  if(df_A.loc[i,'user']['verified'] == True):\n",
        "    count_A +=1\n",
        "\n",
        "print(\"Number of verified users in class A = \", count_A)\n",
        "print(\"Number of non-verified users in class A = \",len(set(users_A))-count_A)"
      ],
      "execution_count": 0,
      "outputs": [
        {
          "output_type": "stream",
          "text": [
            "Number of verified users in class A =  34\n",
            "Number of non-verified users in class A =  1583\n"
          ],
          "name": "stdout"
        }
      ]
    },
    {
      "cell_type": "markdown",
      "metadata": {
        "id": "A-rYxM7X9zq0",
        "colab_type": "text"
      },
      "source": [
        "*Class B*"
      ]
    },
    {
      "cell_type": "code",
      "metadata": {
        "id": "OaAgYPIf9yQq",
        "colab_type": "code",
        "outputId": "47607a0c-685d-49c1-d140-d9f10a1087af",
        "colab": {
          "base_uri": "https://localhost:8080/",
          "height": 51
        }
      },
      "source": [
        "count_B = 0\n",
        "\n",
        "for i in df_B.index:\n",
        "  if(df_B.loc[i,'user']['verified'] == True):\n",
        "    count_B +=1\n",
        "\n",
        "print(\"Number of verified users in class B = \", count_B)\n",
        "print(\"Number of non-verified users in class B = \",len(set(users_B))-count_B)"
      ],
      "execution_count": 0,
      "outputs": [
        {
          "output_type": "stream",
          "text": [
            "Number of verified users in class B =  6\n",
            "Number of non-verified users in class B =  375\n"
          ],
          "name": "stdout"
        }
      ]
    },
    {
      "cell_type": "markdown",
      "metadata": {
        "id": "5d8KKdoW9-ep",
        "colab_type": "text"
      },
      "source": [
        "*Class C*"
      ]
    },
    {
      "cell_type": "code",
      "metadata": {
        "id": "b_hFYbZA9zBr",
        "colab_type": "code",
        "outputId": "98ab6808-dc13-4072-812f-f98d18bd30dd",
        "colab": {
          "base_uri": "https://localhost:8080/",
          "height": 51
        }
      },
      "source": [
        "count_C = 0\n",
        "\n",
        "for i in df_C.index:\n",
        "  if(df_C.loc[i,'user']['verified'] == True):\n",
        "    count_C +=1\n",
        "\n",
        "print(\"Number of verified users in class C = \", count_C)\n",
        "print(\"Number of non-verified users in class C = \",len(set(users_C))-count_C)"
      ],
      "execution_count": 0,
      "outputs": [
        {
          "output_type": "stream",
          "text": [
            "Number of verified users in class C =  0\n",
            "Number of non-verified users in class C =  197\n"
          ],
          "name": "stdout"
        }
      ]
    },
    {
      "cell_type": "markdown",
      "metadata": {
        "id": "MSKCc74U_Q2y",
        "colab_type": "text"
      },
      "source": [
        "**Number of hashtags vs timeline**"
      ]
    },
    {
      "cell_type": "code",
      "metadata": {
        "id": "Yxk56WsGXMGt",
        "colab_type": "code",
        "colab": {}
      },
      "source": [
        "time_A = defaultdict(lambda:0)\n",
        "\n",
        "for i in df_A.index:\n",
        "  date_time = df_A.loc[i,'created_at']\n",
        "  time = date_time.split('Wed Jun 10')[1].strip()\n",
        "  hour = time.split(\":\")[0]\n",
        "  time_A[hour] +=1"
      ],
      "execution_count": 0,
      "outputs": []
    },
    {
      "cell_type": "code",
      "metadata": {
        "id": "br-LUUqkZa_E",
        "colab_type": "code",
        "outputId": "9e1df9b6-9327-45fc-9917-573e064ed8ac",
        "colab": {
          "base_uri": "https://localhost:8080/",
          "height": 0
        }
      },
      "source": [
        "plt.plot(list(time_A.keys()), list(time_A.values()))\n",
        "plt.xlabel('Time of the day on Wed Jun 10 ') \n",
        "plt.ylabel('Number of hashtags')\n",
        "plt.title(\"Usage of hash-tags of class A\")\n",
        "plt.show()"
      ],
      "execution_count": 281,
      "outputs": [
        {
          "output_type": "display_data",
          "data": {
            "image/png": "[encoded data removed]",
            "text/plain": [
              "<Figure size 432x288 with 1 Axes>"
            ]
          },
          "metadata": {
            "tags": [],
            "needs_background": "light"
          }
        }
      ]
    },
    {
      "cell_type": "code",
      "metadata": {
        "id": "M_adyfQn_VpF",
        "colab_type": "code",
        "colab": {}
      },
      "source": [
        "time_B = defaultdict(lambda:0)\n",
        "\n",
        "for i in df_B.index:\n",
        "  date_time = df_B.loc[i,'created_at']\n",
        "  time = date_time.split('Wed Jun 10')[1].strip()\n",
        "  hour = time.split(\":\")[0]\n",
        "  time_B[hour] +=1"
      ],
      "execution_count": 0,
      "outputs": []
    },
    {
      "cell_type": "code",
      "metadata": {
        "id": "XgRpnqBxZZA0",
        "colab_type": "code",
        "outputId": "62fff39f-c474-44b5-d9db-c1388e469421",
        "colab": {
          "base_uri": "https://localhost:8080/",
          "height": 0
        }
      },
      "source": [
        "plt.plot(list(time_B.keys()), list(time_B.values()))\n",
        "plt.xlabel('Time of the day on Wed Jun 10 ') \n",
        "plt.ylabel('Number of hashtags')\n",
        "plt.title(\"Usage of hash-tags of class B\")\n",
        "plt.show()"
      ],
      "execution_count": 283,
      "outputs": [
        {
          "output_type": "display_data",
          "data": {
            "image/png": "[encoded data removed]",
            "text/plain": [
              "<Figure size 432x288 with 1 Axes>"
            ]
          },
          "metadata": {
            "tags": [],
            "needs_background": "light"
          }
        }
      ]
    },
    {
      "cell_type": "code",
      "metadata": {
        "id": "-VIluFvtYZDg",
        "colab_type": "code",
        "colab": {}
      },
      "source": [
        "time_C = defaultdict(lambda:0)\n",
        "\n",
        "for i in df_C.index:\n",
        "  date_time = df_C.loc[i,'created_at']\n",
        "  time = date_time.split('Wed Jun 10')[1].strip()\n",
        "  hour = time.split(\":\")[0]\n",
        "  time_C[hour] +=1"
      ],
      "execution_count": 0,
      "outputs": []
    },
    {
      "cell_type": "code",
      "metadata": {
        "id": "p7X8HBj9ZDto",
        "colab_type": "code",
        "outputId": "41537ced-5bed-4883-c801-13398fc5b99b",
        "colab": {
          "base_uri": "https://localhost:8080/",
          "height": 0
        }
      },
      "source": [
        "plt.plot(list(time_C.keys()), list(time_C.values()))\n",
        "plt.xlabel('Time of the day on Wed Jun 10 ') \n",
        "plt.ylabel('Number of hashtags')\n",
        "plt.title(\"Usage of hash-tags of class C\")\n",
        "plt.show()"
      ],
      "execution_count": 285,
      "outputs": [
        {
          "output_type": "display_data",
          "data": {
            "image/png": "[encoded data removed]",
            "text/plain": [
              "<Figure size 432x288 with 1 Axes>"
            ]
          },
          "metadata": {
            "tags": [],
            "needs_background": "light"
          }
        }
      ]
    },
    {
      "cell_type": "code",
      "metadata": {
        "id": "WTTTacGhlZvt",
        "colab_type": "code",
        "colab": {
          "base_uri": "https://localhost:8080/",
          "height": 0
        },
        "outputId": "9ad785fc-9945-4163-8483-82abe930318d"
      },
      "source": [
        "f, axs = plt.subplots(3,2,figsize=(10,10))\n",
        "\n",
        "plt.subplot(311)\n",
        "plt.plot(list(time_A.keys()), list(time_A.values()))\n",
        "plt.ylabel(\"No of #MissYouYuvi only\")\n",
        "plt.xlabel(\"Time of the day on Wed Jun 10 \")\n",
        "\n",
        "plt.subplot(312)\n",
        "plt.plot(list(time_B.keys()), list(time_B.values()))\n",
        "plt.ylabel(\"No of #RestInPeace only\")\n",
        "plt.xlabel(\"Time of the day on Wed Jun 10\")\n",
        "\n",
        "plt.subplot(313)\n",
        "plt.plot(list(time_C.keys()), list(time_C.values()))\n",
        "plt.ylabel(\"No of #RestInPeace and #MissYouYuvi\")\n",
        "plt.xlabel(\"Time of the day on Wed Jun 10\")\n",
        "\n",
        "f.subplots_adjust(hspace=0.4)\n",
        "plt.show()"
      ],
      "execution_count": 299,
      "outputs": [
        {
          "output_type": "display_data",
          "data": {
            "image/png": "[encoded data removed]",
            "text/plain": [
              "<Figure size 720x720 with 3 Axes>"
            ]
          },
          "metadata": {
            "tags": [],
            "needs_background": "light"
          }
        }
      ]
    },
    {
      "cell_type": "code",
      "metadata": {
        "id": "O4vMeyRvaYAa",
        "colab_type": "code",
        "outputId": "862bc7e5-10d3-4f30-beb4-6b0f0054d1fb",
        "colab": {
          "base_uri": "https://localhost:8080/",
          "height": 0
        }
      },
      "source": [
        "plt.figure(figsize=(8,6))\n",
        "\n",
        "plt.plot(list(time_A.keys()), list(time_A.values()), label = \"#MissYouYuvi only\")  \n",
        "plt.plot(list(time_B.keys()), list(time_B.values()), label = \"#RestInPeace only\")  \n",
        "plt.plot(list(time_C.keys()), list(time_C.values()), label = \"#RestInPeace and #MissYouYuvi\")  \n",
        "  \n",
        "plt.xlabel('Time of the day on Wed Jun 10 ') \n",
        "\n",
        "plt.ylabel('Number of hashtags') \n",
        "\n",
        "plt.title('Hash-tag Usage')\n",
        "plt.legend()\n",
        "plt.show() "
      ],
      "execution_count": 301,
      "outputs": [
        {
          "output_type": "display_data",
          "data": {
            "image/png": "[encoded data removed]",
            "text/plain": [
              "<Figure size 576x432 with 1 Axes>"
            ]
          },
          "metadata": {
            "tags": [],
            "needs_background": "light"
          }
        }
      ]
    },
    {
      "cell_type": "markdown",
      "metadata": {
        "id": "P8CPcBRQeEIt",
        "colab_type": "text"
      },
      "source": [
        "####**Preparing the data for processing**"
      ]
    },
    {
      "cell_type": "markdown",
      "metadata": {
        "id": "L_84DPoVuadC",
        "colab_type": "text"
      },
      "source": [
        "**Data pre-processing**"
      ]
    },
    {
      "cell_type": "code",
      "metadata": {
        "id": "4zuid08-dwU2",
        "colab_type": "code",
        "colab": {}
      },
      "source": [
        "def remove_hashtag(sent):\n",
        "  sent = re.sub(r'(@[A-Za-z0-9]+)|(#[A-Za-z0-9]+)','',sent)\n",
        "  return sent"
      ],
      "execution_count": 0,
      "outputs": []
    },
    {
      "cell_type": "code",
      "metadata": {
        "id": "mPh1n5FkqMRL",
        "colab_type": "code",
        "colab": {}
      },
      "source": [
        "def remove_links(text):\n",
        "  text = re.sub(r'(\\w+:\\/\\/\\S+)','',text)\n",
        "  \n",
        "  return text"
      ],
      "execution_count": 0,
      "outputs": []
    },
    {
      "cell_type": "code",
      "metadata": {
        "id": "W0-4p7CPszgH",
        "colab_type": "code",
        "colab": {}
      },
      "source": [
        "def remove_specialChars(text):\n",
        "  text = (re.sub(r'[\\.•,;:?!#=+$%^&*_~><\\-\\(\\)\\{\\}\\[\\]\\\"\\'\\|\\/]','',text)).replace('RT','')\n",
        "  \n",
        "  # changing to lower case\n",
        "  text = text.lower()\n",
        "  return text"
      ],
      "execution_count": 0,
      "outputs": []
    },
    {
      "cell_type": "code",
      "metadata": {
        "id": "38b8BrFSlkkr",
        "colab_type": "code",
        "colab": {}
      },
      "source": [
        "def replace_emoji(text):\n",
        "  text = emoji.demojize(text)\n",
        "  text = text.replace(\":\",\" \")\n",
        "  tweet = ' '.join(text.split())\n",
        "\n",
        "  return tweet"
      ],
      "execution_count": 0,
      "outputs": []
    },
    {
      "cell_type": "code",
      "metadata": {
        "id": "kY4ljyqTuCpI",
        "colab_type": "code",
        "colab": {}
      },
      "source": [
        "def numberTowords(tweet):\n",
        "\n",
        "  final_tweet = []\n",
        "\n",
        "  for word in tweet:\n",
        "    if(word.isnumeric()):\n",
        "      final_tweet.append(num2words(word))\n",
        "    else:\n",
        "      final_tweet.append(word)\n",
        "  \n",
        "  return final_tweet"
      ],
      "execution_count": 0,
      "outputs": []
    },
    {
      "cell_type": "code",
      "metadata": {
        "id": "RK1juVUNC4wg",
        "colab_type": "code",
        "colab": {}
      },
      "source": [
        "# function to handle negative contractions\n",
        "\n",
        "def handle_negation(text):\n",
        "  text = re.sub(r'(\\w+)n\\'t', '\\g<1> not',text)\n",
        "  return text"
      ],
      "execution_count": 0,
      "outputs": []
    },
    {
      "cell_type": "markdown",
      "metadata": {
        "id": "PwTnwoPpEE8C",
        "colab_type": "text"
      },
      "source": [
        "**Tokenise and Lemmatise**"
      ]
    },
    {
      "cell_type": "code",
      "metadata": {
        "id": "5l2d-r5-EMUD",
        "colab_type": "code",
        "outputId": "859b6240-7415-460f-cee1-49250c50e5a3",
        "colab": {
          "base_uri": "https://localhost:8080/",
          "height": 51
        }
      },
      "source": [
        "nltk.download('wordnet')\n",
        "from nltk.stem import WordNetLemmatizer\n",
        "\n",
        "lm = WordNetLemmatizer()"
      ],
      "execution_count": 16,
      "outputs": [
        {
          "output_type": "stream",
          "text": [
            "[nltk_data] Downloading package wordnet to /root/nltk_data...\n",
            "[nltk_data]   Unzipping corpora/wordnet.zip.\n"
          ],
          "name": "stdout"
        }
      ]
    },
    {
      "cell_type": "code",
      "metadata": {
        "id": "kQvPTq4TDYRp",
        "colab_type": "code",
        "colab": {}
      },
      "source": [
        "def tokenise(line):\n",
        "  lem_words = []\n",
        "\n",
        "  tokens = line.split()\n",
        "\n",
        "  for j in tokens:\n",
        "    lem_words.append(lm.lemmatize(j))\n",
        "    \n",
        "  return lem_words"
      ],
      "execution_count": 0,
      "outputs": []
    },
    {
      "cell_type": "markdown",
      "metadata": {
        "id": "_Y1dfP_SEXFV",
        "colab_type": "text"
      },
      "source": [
        "**Preparing data for analysis**"
      ]
    },
    {
      "cell_type": "code",
      "metadata": {
        "id": "UfOfCFlxEWl6",
        "colab_type": "code",
        "colab": {}
      },
      "source": [
        "def get_tweets(df):\n",
        "  cleaned_tweets = []\n",
        "  vocab = set()\n",
        "\n",
        "  tokens_dict = defaultdict(list)                           # dictionary that stores tokens of each tweet\n",
        "  wd_count = defaultdict(lambda:defaultdict(lambda:0))      # dictionary that stores count(term,tweet) i.e. tf\n",
        "  w_count = defaultdict(lambda:0)                           # dictionary that stores df(term)\n",
        "\n",
        "  for i in df.index:\n",
        "    text = df.loc[i,'full_text']\n",
        "\n",
        "    #cleaning the tweets\n",
        "    h_tweet = remove_hashtag(text)\n",
        "    l_tweet = remove_links(h_tweet)\n",
        "    demoji = replace_emoji(l_tweet)\n",
        "    n_tweet = handle_negation(demoji)\n",
        "    clean_tweet = remove_specialChars(n_tweet)\n",
        "\n",
        "    #generate tokens\n",
        "    tokens = tokenise(clean_tweet)\n",
        "\n",
        "    # final = numberTowords(tokens)\n",
        "    # print(final)\n",
        "    \n",
        "    cleaned_tweets.append(tokens)\n",
        "\n",
        "  return cleaned_tweets"
      ],
      "execution_count": 0,
      "outputs": []
    },
    {
      "cell_type": "code",
      "metadata": {
        "id": "0sGK8dNtgboL",
        "colab_type": "code",
        "colab": {}
      },
      "source": [
        "tweets_A = get_tweets(df_A)"
      ],
      "execution_count": 0,
      "outputs": []
    },
    {
      "cell_type": "code",
      "metadata": {
        "id": "hY6zw4LXE4sc",
        "colab_type": "code",
        "colab": {}
      },
      "source": [
        "tweets_B = get_tweets(df_B)"
      ],
      "execution_count": 0,
      "outputs": []
    },
    {
      "cell_type": "code",
      "metadata": {
        "id": "WUjHVt-xE8V5",
        "colab_type": "code",
        "colab": {}
      },
      "source": [
        "tweets_C = get_tweets(df_C)"
      ],
      "execution_count": 0,
      "outputs": []
    },
    {
      "cell_type": "markdown",
      "metadata": {
        "id": "qm--acui36uB",
        "colab_type": "text"
      },
      "source": [
        "####**Topic Modelling using LDA**"
      ]
    },
    {
      "cell_type": "code",
      "metadata": {
        "id": "b2SWQc4WsfJU",
        "colab_type": "code",
        "colab": {}
      },
      "source": [
        "def build_corpus(final_tweet):\n",
        "  dictionary = corpora.Dictionary()\n",
        "\n",
        "  BoW_corpus = [dictionary.doc2bow(sent, allow_update=True) for sent in final_tweet]\n",
        "  dictionary = gensim.corpora.Dictionary(final_tweet)\n",
        "\n",
        "  tfidf = models.TfidfModel(BoW_corpus)\n",
        "  corpus_tfidf = tfidf[BoW_corpus]\n",
        "\n",
        "  return corpus_tfidf,dictionary"
      ],
      "execution_count": 0,
      "outputs": []
    },
    {
      "cell_type": "code",
      "metadata": {
        "id": "NeOUbPg-Fb6n",
        "colab_type": "code",
        "colab": {}
      },
      "source": [
        "BoW_A,dict_A = build_corpus(tweets_A)\n",
        "BoW_B,dict_B = build_corpus(tweets_B)\n",
        "BoW_C,dict_C = build_corpus(tweets_C)"
      ],
      "execution_count": 0,
      "outputs": []
    },
    {
      "cell_type": "code",
      "metadata": {
        "id": "lU77BtZ7G2mz",
        "colab_type": "code",
        "colab": {}
      },
      "source": [
        "def find_topics(corpus_tfidf,dictionary,num):\n",
        "\n",
        "  lda_model_tfidf = gensim.models.LdaMulticore(corpus_tfidf, num_topics=num, id2word=dictionary, passes=2, workers=4)\n",
        "\n",
        "  return lda_model_tfidf"
      ],
      "execution_count": 0,
      "outputs": []
    },
    {
      "cell_type": "code",
      "metadata": {
        "id": "f8v2xfLfInOt",
        "colab_type": "code",
        "colab": {}
      },
      "source": [
        "def show_topics(model,corpus,dictionary):\n",
        "  for idx, topic in model.print_topics(-1):\n",
        "    print('Topic: {} Word: {}'.format(idx, topic))"
      ],
      "execution_count": 0,
      "outputs": []
    },
    {
      "cell_type": "markdown",
      "metadata": {
        "id": "Ng3GiiSDOYKI",
        "colab_type": "text"
      },
      "source": [
        "**For Class A (#MissYouYuvi only)**"
      ]
    },
    {
      "cell_type": "code",
      "metadata": {
        "id": "iNrxGyUJHzaV",
        "colab_type": "code",
        "colab": {}
      },
      "source": [
        "#perform topic modelling\n",
        "topics = 15\n",
        "model_A = find_topics(BoW_A,dict_A,topics)"
      ],
      "execution_count": 0,
      "outputs": []
    },
    {
      "cell_type": "code",
      "metadata": {
        "id": "vVQVe3w6KSCO",
        "colab_type": "code",
        "colab": {
          "base_uri": "https://localhost:8080/",
          "height": 292
        },
        "outputId": "dc544442-c4c6-4147-b93a-5d791b04c6e0"
      },
      "source": [
        "show_topics(model_A,BoW_A,dict_A)"
      ],
      "execution_count": 336,
      "outputs": [
        {
          "output_type": "stream",
          "text": [
            "Topic: 0 Word: 0.021*\"one\" + 0.020*\"emotion\" + 0.018*\"million\" + 0.016*\"man\" + 0.015*\"love\" + 0.011*\"you\" + 0.011*\"sir\" + 0.011*\"happy\" + 0.010*\"enjoy\" + 0.010*\"of\"\n",
            "Topic: 1 Word: 0.016*\"fire\" + 0.014*\"heavyheartexclamation\" + 0.013*\"foldedhands\" + 0.011*\"brokenheart\" + 0.011*\"12\" + 0.011*\"you\" + 0.010*\"champion\" + 0.009*\"king\" + 0.009*\"the\" + 0.008*\"forever\"\n",
            "Topic: 2 Word: 0.026*\"heartsuit\" + 0.021*\"brokenheart\" + 0.016*\"foldedhands\" + 0.014*\"legend\" + 0.012*\"retire\" + 0.011*\"never\" + 0.010*\"you\" + 0.010*\"we\" + 0.008*\"blueheart\" + 0.008*\"yuvi\"\n",
            "Topic: 3 Word: 0.013*\"6\" + 0.012*\"the\" + 0.009*\"and\" + 0.008*\"i\" + 0.008*\"a\" + 0.008*\"to\" + 0.007*\"yuvi\" + 0.007*\"in\" + 0.006*\"six\" + 0.006*\"of\"\n",
            "Topic: 4 Word: 0.041*\"collision\" + 0.012*\"than\" + 0.012*\"six\" + 0.012*\"more\" + 0.011*\"who\" + 0.011*\"man\" + 0.010*\"the\" + 0.010*\"just\" + 0.010*\"6\" + 0.009*\"cup\"\n",
            "Topic: 5 Word: 0.042*\"redheart\" + 0.021*\"stalwart\" + 0.016*\"loudlycryingface\" + 0.015*\"rt\" + 0.014*\"faceblowingakiss\" + 0.011*\"smilingfacewithhearteyes\" + 0.011*\"you\" + 0.010*\"immense\" + 0.010*\"is\" + 0.010*\"love\"\n",
            "Topic: 6 Word: 0.031*\"are\" + 0.020*\"always\" + 0.020*\"with\" + 0.019*\"yuvi\" + 0.019*\"phase\" + 0.016*\"you\" + 0.015*\"we\" + 0.014*\"tag\" + 0.011*\"in\" + 0.010*\"good\"\n",
            "Topic: 7 Word: 0.017*\"you\" + 0.015*\"fire\" + 0.013*\"in\" + 0.011*\"cult\" + 0.010*\"many\" + 0.010*\"tweet\" + 0.010*\"completed\" + 0.009*\"speed\" + 0.009*\"up\" + 0.008*\"have\"\n",
            "Topic: 8 Word: 0.027*\"redheart\" + 0.018*\"yuvian\" + 0.013*\"pensiveface\" + 0.012*\"retweet\" + 0.010*\"you\" + 0.010*\"yuvi\" + 0.010*\"no\" + 0.010*\"tweet\" + 0.009*\"a\" + 0.008*\"fire\"\n",
            "Topic: 9 Word: 0.017*\"bhavi\" + 0.016*\"champ\" + 0.012*\"you\" + 0.009*\"paji\" + 0.008*\"for\" + 0.008*\"thank\" + 0.007*\"stalwart\" + 0.007*\"yuvi\" + 0.007*\"love\" + 0.006*\"smilingfacewithhearteyes\"\n",
            "Topic: 10 Word: 0.015*\"paaji\" + 0.012*\"is\" + 0.010*\"you\" + 0.009*\"a\" + 0.009*\"yuvi\" + 0.008*\"six\" + 0.008*\"singh\" + 0.007*\"the\" + 0.007*\"always\" + 0.007*\"yuvraj\"\n",
            "Topic: 11 Word: 0.013*\"are\" + 0.012*\"the\" + 0.012*\"u\" + 0.012*\"trend\" + 0.011*\"online\" + 0.011*\"participating\" + 0.011*\"if\" + 0.011*\"in\" + 0.010*\"loudlycryingface\" + 0.010*\"you\"\n",
            "Topic: 12 Word: 0.009*\"of\" + 0.009*\"you\" + 0.009*\"a\" + 0.008*\"the\" + 0.008*\"not\" + 0.008*\"indian\" + 0.007*\"will\" + 0.007*\"cricket\" + 0.007*\"are\" + 0.006*\"yuvraj\"\n",
            "Topic: 13 Word: 0.015*\"miss\" + 0.015*\"up\" + 0.013*\"hour\" + 0.013*\"speed\" + 0.012*\"tweet\" + 0.012*\"minute\" + 0.012*\"yuvians\" + 0.011*\"in\" + 0.010*\"my\" + 0.010*\"really\"\n",
            "Topic: 14 Word: 0.010*\"my\" + 0.009*\"one\" + 0.009*\"champion\" + 0.009*\"a\" + 0.008*\"follow\" + 0.008*\"you\" + 0.008*\"of\" + 0.008*\"fire\" + 0.008*\"year\" + 0.007*\"retirement\"\n"
          ],
          "name": "stdout"
        }
      ]
    },
    {
      "cell_type": "code",
      "metadata": {
        "id": "TocD_hAgJ5CP",
        "colab_type": "code",
        "colab": {
          "base_uri": "https://localhost:8080/",
          "height": 881
        },
        "outputId": "9fb63ba1-0dcb-4e8e-e1ee-73aa2c12e784"
      },
      "source": [
        "pyLDAvis.enable_notebook()\n",
        "vis = pyLDAvis.gensim.prepare(model_A, BoW_A, dict_A)\n",
        "vis"
      ],
      "execution_count": 335,
      "outputs": [
        {
          "output_type": "execute_result",
          "data": {
            "text/html": [
              "\n",
              "<link rel=\"stylesheet\" type=\"text/css\" href=\"https://cdn.rawgit.com/bmabey/pyLDAvis/files/ldavis.v1.0.0.css\">\n",
              "\n",
              "\n",
              "<div id=\"ldavis_el1211406444813305368993029385\"></div>\n",
              "<script type=\"text/javascript\">\n",
              "\n",
              "var ldavis_el1211406444813305368993029385_data = {\"mdsDat\": {\"x\": [0.020399166659414842, -0.09812563854970556, -0.00011843510462493488, 0.07310508700265188, -0.0708108751476625, -0.00799860785818582, -0.0052228630183721175, 0.05561794549882598, -0.0813118871594456, 0.0351112389865014, -0.006359305005091179, 0.0030058350230847625, 0.07415077826282863, -0.001870935048528822, 0.010428495458308937], \"y\": [-0.054993617928661385, -0.030539840489196533, -0.06753442341044096, -0.034944310724300515, 0.03971834804678463, 0.040916764142553776, -0.04754319260345519, -0.042097342473631075, 0.032527183171184616, 0.0238528255740937, -0.009709879547468514, 0.034365031759353334, 0.10060402352712251, 0.00596975131397447, 0.009408679642087277], \"topics\": [1, 2, 3, 4, 5, 6, 7, 8, 9, 10, 11, 12, 13, 14, 15], \"cluster\": [1, 1, 1, 1, 1, 1, 1, 1, 1, 1, 1, 1, 1, 1, 1], \"Freq\": [8.263664245605469, 7.4698686599731445, 7.449593544006348, 7.412265777587891, 7.231929779052734, 7.23140811920166, 6.915408134460449, 6.8354949951171875, 6.7205963134765625, 6.129424095153809, 6.006473064422607, 5.82683801651001, 5.823148250579834, 5.414513111114502, 5.269382476806641]}, \"tinfo\": {\"Term\": [\"collision\", \"redheart\", \"heartsuit\", \"are\", \"emotion\", \"brokenheart\", \"phase\", \"stalwart\", \"million\", \"paaji\", \"bhavi\", \"faceblowingakiss\", \"loudlycryingface\", \"champion\", \"champ\", \"with\", \"rt\", \"fire\", \"hour\", \"pensiveface\", \"man\", \"heavyheartexclamation\", \"if\", \"tag\", \"speed\", \"one\", \"up\", \"always\", \"foldedhands\", \"participating\", \"walked\", \"10k\", \"0f\", \"20k\", \"perseveringface\", \"c\", \"slightlysmilingface\", \"thalaivaa\", \"collected\", \"\\u092e\\u093f\\u0936\\u094d\\u0930\\u093e\", \"\\u0915\\u092a\\u093f\\u0932\", \"ndtv\", \"kapil\", \"skill\", \"buy\", \"retiredyour\", \"attendance\", \"served\", \"yr\", \"felt\", \"hn\", \"mishra\", \"amark\", \"these\", \"\\u0baf\\u0bc1\\u0bb5\\u0bcd\\u0bb0\\u0bbe\\u0b9c\\u0bcd\\u0b9a\\u0bbf\\u0b99\\u0bcd\", \"@akshay17\", \"manfacepalminglightskintone\", \"grimacingface\", \"bring\", \"golden\", \"reply\", \"right\", \"50k\", \"34k\", \"have\", \"many\", \"way\", \"cult\", \"58\", \"15k\", \"completed\", \"how\", \"fire\", \"hour\", \"speed\", \"cricketgame\", \"1\", \"now\", \"up\", \"you\", \"in\", \"minute\", \"tweet\", \"field\", \"very\", \"anyone\", \"our\", \"will\", \"always\", \"of\", \"love\", \"for\", \"and\", \"the\", \"world\", \"we\", \"yuvi\", \"cricket\", \"thala\", \"dearly\", \"everyday\", \"grit\", \"shown\", \"hander\", \"20b\", \"smashing\", \"s\\u2026\", \"fieldthose\", \"nervous\", \"excitement\", \"taking\", \"heartwithribbon\", \"shit\", \"akmeher\", \"indelible\", \"226k\", \"thrill\", \"noticed\", \"vp10\", \"broad\\u2019s\", \"expression\", \"billion\", \"heartbreaking\", \"muje\", \"vinesh\", \"leeded\", \"flintoff\", \"smashed\", \"singh36\", \"impression\", \"you\\u2019ve\", \"aggression\", \"t20\", \"legendary\", \"sadbutrelievedface\", \"6\", \"an\\u2026\", \"give\", \"moment\", \"those\", \"goosebump\", \"watch\", \"i\", \"the\", \"and\", \"an\", \"to\", \"been\", \"six\", \"a\", \"field\", \"memory\", \"yuvi\", \"he\", \"in\", \"for\", \"of\", \"you\", \"never\", \"year\", \"is\", \"on\", \"u\", \"miss\", \"yuvian\", \"world\", \"phase\", \"p\\u2026\", \"shrma\", \"bad\", \"good\", \"heas\", \"t1786\", \"saptam\", \"hash\", \"spread\", \"tag\", \"bos\", \"timefav\", \"bai\", \"warrier\", \"talk\", \"because\", \"irruku\", \"nalla\", \"evident\", \"could\", \"paaa\", \"satisfaction\", \"batman\", \"gtgtgtgtgtgtgtgt\", \"yuvrajs\", \"indiawide\", \"use\", \"ahead\", \"fansyuvian\", \"share\", \"with\", \"yuvian15\", \"are\", \"clear\", \"here\", \"1001\", \"always\", \"if\", \"yuvi\", \"we\", \"retweet\", \"you\", \"all\", \"in\", \"this\", \"your\", \"love\", \"fan\", \"of\", \"heartsuit\", \"from\", \"tweet\", \"is\", \"the\", \"and\", \"one\", \"@zakeera\", \"bhaji\", \"really\", \"uv\", \"3rd\", \"whole\", \"early\", \"attitudedt\", \"resolute\", \"defeati\\u2026\", \"comebackdt\", \"everythingdt\", \"34\", \"armaan\", \"27\", \"youvi\", \"admires\", \"sixhitting\", \"awake\", \"sleep\", \"alert\", \"wifi\", \"plus\", \"camera\", \"360\\u00b0\", \"cp\", \"security\", \"yovi\", \"nutshell\", \"dts\", \"power\", \"strong12\", \"25k\", \"build\", \"4\", \"style\", \"yuvians\", \"common\", \"hour\", \"determination\", \"boling\", \"speed\", \"up\", \"minute\", \"idol\", \"sixer\", \"completed\", \"miss\", \"game\", \"tweet\", \"my\", \"30k\", \"in\", \"give\", \"u\", \"we\", \"the\", \"you\", \"redheart\", \"of\", \"yuvi\", \"never\", \"champion\", \"foldedhands\", \"cricket\", \"fire\", \"missing\", \"vintage\", \"missu\", \"smilingfacewithsmilingeyes\", \"reaction\", \"action\", \"usse\", \"dq369\", \"manfacepalming\", \"increase\", \"se\", \"pehle\", \"hindupur\", \"coach\", \"panjabda\", \"sher\", \"aakhela\", \"bhari\", \"boundary\", \"classy\", \"timing\", \"sanghvi2\", \"growingheart\", \"ram\", \"publicity\", \"50over\", \"mo\", \"kota\", \"factory\", \"row\", \"incident\", \"song\", \"long\", \"paaji\", \"elegant\", \"backlift\", \"high\", \"fleet\", \"youll\", \"\\u0915\\u0947\\u2026\", \"fandom\", \"wee\", \"hasn\\u2019t\", \"facewithtearsofjoy\", \"\\u0939\\u0940\", \"is\", \"six\", \"singh\", \"a\", \"you\", \"1\", \"yuvi\", \"yuvraj\", \"always\", \"to\", \"the\", \"this\", \"no\", \"of\", \"year\", \"love\", \"for\", \"when\", \"on\", \"retirement\", \"in\", \"emotion\", \"3ok\", \"fb\", \"million\", \"yuvipaaji\", \"pajii\", \"lot\", \"enjoy\", \"oyee\", \"khayegi\", \"fav\", \"retweets\", \"ohhok\", \"happy\", \"heardfan\", \"vikramsingh\", \"car\", \"boy\", \"telugu\", \"ekkada\", \"incomplete\", \"11k\", \"surya\", \"thankyou\", \"update\", \"pazi\", \"impressive\", \"collection\", \"khrb\", \"dimag\", \"ase\", \"sir\", \"thalaivaaaaa\", \"pic\", \"backhandindexpointingright\", \"one\", \"man\", \"unique\", \"faceblowingakiss\", \"blackheart\", \"life\", \"yuvifan\", \"whiteheavycheckmark\", \"love\", \"jersey\", \"be\", \"retirement\", \"your\", \"year\", \"miss\", \"of\", \"we\", \"u\", \"you\", \"yuvi\", \"no\", \"a\", \"bhavi\", \"redheart\", \"paaji\", \"is\", \"anna\", \"latest\", \"rollingonthefloorlaughing\", \"trade\", \"intensity\", \"16k\", \"nearly\", \"july1207\", \"author\", \"event\", \"individual\", \"unbelievable\", \"124k\", \"kelaaa\", \"wh\", \"umatched\", \"thalaivaaaaaaa\", \"guyz\", \"beh\\u2026\", \"dizzyface\", \"others\", \"lovely\", \"wow\", \"staaar\", \"online\", \"different\", \"legend12\", \"mark\", \"t2o\", \"5050\", \"participating\", \"remember\", \"nation\\u2026\", \"level\", \"if\", \"against\", \"trend\", \"form\", \"his\", \"announced\", \"loudlycryingface\", \"dedication\", \"u\", \"are\", \"many\", \"the\", \"how\", \"in\", \"and\", \"wa\", \"you\", \"of\", \"retirement\", \"champ\", \"for\", \"foldedhands\", \"this\", \"world\", \"heartsuit\", \"always\", \"fire\", \"we\", \"yuvi\", \"redheart\", \"love\", \"fram\", \"bhaiya\", \"\\u0baa\\u0bc2\\u0ba4\\u0bcd\\u0ba4\\u0bb5\\u0bb3\\u0bc7\", \"\\u0b85\\u0bb4\\u0b95\\u0bc2\\u0bb0\\u0bbf\\u0bb2\\u0bcd\", \"chandani\", \"prowess\", \"seeing\", \"dhoniamp\", \"seenoevilmonkey\", \"within\", \"21\", \"\\u0280\\u1d07s\\u1d18\\u1d07\\u1d04\\u1d1b\\u0493\\u1d1c\\u029f\", \"\\u1d0d\\u1d0f\\u1d0d\\u1d07\\u0274\\u1d1b\", \"smilingcatfacewithhearteyes\", \"next\", \"pointing\", \"thalaivaaaa\", \"\\u201coverwhelmed\\u201d\", \"little\", \"chandnishah\", \"called\", \"int\", \"facewithhandovermouth\", \"respectful\", \"wavinghand\", \"mids\", \"japanesesymbolforbeginner\", \"dont\", \"risked\", \"y\\u2019ll\", \"heartsuit\", \"8\", \"brokenheart\", \"they\", \"retire\", \"combination\", \"blueheart\", \"make\", \"legend\", \"foldedhands\", \"never\", \"missing\", \"trending\", \"remain\", \"ground\", \"badly\", \"top\", \"we\", \"at\", \"on\", \"heart\", \"will\", \"you\", \"it\", \"keep\", \"yuvian\", \"yuvi\", \"are\", \"is\", \"yuvraj\", \"miss\", \"in\", \"redheart\", \"the\", \"a\", \"always\", \"and\", \"collision\", \"livedareinspire\", \"\\u0bb0\\u0b9a\\u0bbf\\u0b95\\u0bb0\\u0bcd\\u0b95\\u0bb3\\u0bcd\", \"\\u0b8f\\u0b95\\u0bcd\\u0b95\\u0ba4\\u0bcd\\u0ba4\\u0bbf\\u0bb2\\u0bcd\", \"punjab\", \"roar\", \"10am\", \"follower\", \"@\", \"paajj\", \"ret\\u2026\", \"4ever\", \"pa\", \"paajji\", \"10th\", \"step\", \"diamant\", \"bliss\", \"shastris\", \"foldedhandslightskintone\", \"celebrate\", \"personshrugging\", \"cryingface\", \"c\\u2026\", \"simple\", \"ka\", \"\\u0917\\u0932\\u0940\", \"\\u0926\\u093f\\u0928\\u094b\\u0902\", \"\\u091a\\u093e\\u0902\\u0926\", \"\\u0928\\u093f\\u0915\\u0932\\u093e\", \"same\", \"200\", \"flick\", \"than\", \"join\", \"hi\", \"more\", \"just\", \"who\", \"666666\", \"anniversary\", \"six\", \"cup\", \"man\", \"6\", \"\\u2026\", \"world\", \"singh\", \"the\", \"on\", \"yuvraj\", \"to\", \"and\", \"stalwart\", \"retirement\", \"of\", \"a\", \"year\", \"can\", \"his\", \"we\", \"is\", \"yuvi\", \"cricket\", \"u\", \"you\", \"neutralface\", \"male\", \"female\", \"168\", \"din\", \"rha\", \"\\u092f\\u0941\\u0935\\u0930\\u093e\\u091c\\u0938\\u093f\\u0902\\u0939\\u092e\\u093e\\u092b\\u0940\\u092e\\u093e\\u0902\\u0917\\u094b\", \"taise\", \"phle\", \"chal\", \"ajeeb\", \"6\\u00d76yuvi\", \"manoj7\", \"mkr17\", \"aur\", \"@weirdo\", \"brotherhood\", \"bhi\", \"26k\", \"sydney\", \"139\", \"mandancing\", \"singh39\", \"tha\", \"gade\", \"bahut\", \"sunlo\", \"men\", \"yeh\", \"dhfm1510\", \"heavyheartexclamation\", \"important\", \"hai\", \"king\", \"smilingfacewith3hearts\", \"12\", \"fire\", \"champion\", \"brokenheart\", \"foldedhands\", \"forever\", \"yuvism\", \"sixer\", \"human\", \"our\", \"you\", \"smilingfacewithhearteyes\", \"the\", \"be\", \"retire\", \"blackheart\", \"will\", \"heart\", \"always\", \"singh\", \"redheart\", \"miss\", \"of\", \"yuvraj\", \"heartsuit\", \"never\", \"in\", \"66\", \"micheal\", \"each\", \"found\", \"hina\", \"khar\", \"rabbani\", \"gunnu\", \"againstfreedomofexpression\", \"19th\", \"27th\", \"ca\", \"clarke\", \"yuvimahi\", \"put\", \"10062019\", \"brave\", \"pl\\u2026\", \"fr\", \"fielderthe\", \"allrounderthe\", \"true\", \"finisher\", \"expect\", \"loving\", \"pakistan\", \"devil\", \"downcastfacewithsweat\", \"belief\", \"kb\", \"believe\", \"started\", \"replacement\", \"order\", \"middle\", \"indian\", \"not\", \"v\", \"favorite\", \"india\", \"favourite\", \"handed\", \"team\", \"hero\", \"will\", \"me\", \"cricket\", \"a\", \"of\", \"trending\", \"forever\", \"yuvraj\", \"the\", \"you\", \"are\", \"for\", \"be\", \"all\", \"my\", \"heartsuit\", \"time\", \"singh\", \"always\", \"u\", \"yuvi\", \"in\", \"we\", \"is\", \"love\", \"and\", \"on\", \"ngo\", \"website\", \"survivor\", \"theme\", \"anxiousfacewithsweat\", \"pazi\\u2019s\", \"welcome\", \"mass\", \"longer\", \"wrong\", \"believed\", \"clockwiseverticalarrows\", \"t20is\", \"wicket\", \"vsbutton\", \"having\", \"imissyou\", \"pensiveface\", \"born\", \"reach\", \"thelegend\", \"jug\", \"controversy\", \"bouquet\", \"gift\", \"nd\", \"becoming\", \"wc2011\", \"fc\", \"conversation\", \"proved\", \"available\", \"there\", \"know\", \"like\", \"retweet\", \"yuvian\", \"reason\", \"being\", \"redheart\", \"tell\", \"again\", \"no\", \"he\", \"tweet\", \"a\", \"here\", \"yuvi\", \"you\", \"fire\", \"foldedhands\", \"legend\", \"is\", \"love\", \"one\", \"the\", \"of\", \"in\", \"miss\", \"for\", \"thalaiva\", \"ntd\", \"paaajii\", \"sensation\", \"openhands\", \"immense\", \"35k\", \"presenting\", \"emoji\", \"\\u0938\\u092c\\u0938\\u0947\", \"contribution\", \"talkwalker\", \"congratulation\", \"\\u092e\\u0948\\u0926\\u093e\\u0928\", \"\\u0906\\u092a\\u0915\\u0940\", \"\\u092c\\u0932\\u0935\\u093e\\u0928\", \"\\u0938\\u092e\\u092f\", \"\\u0930\\u0939\\u0947\\u0917\\u0940\", \"\\u092c\\u0921\\u093c\\u093e\", \"\\u0915\\u092e\\u0940\", \"\\u0916\\u0932\\u0924\\u0940\", \"sagar12\", \"\\u0915\\u094c\\u0928\\u0938\\u093e\", \"\\u0918\\u091f\\u093f\\u092f\\u093e\", \"\\u0928\\u094d\\u092f\\u0942\\u091c\", \"deserved\", \"uvi\", \"hey\", \"making\", \"netizens\", \"rt\", \"cry\", \"stalwart\", \"faceblowingakiss\", \"redheart\", \"birthday\", \"smile\", \"loudlycryingface\", \"wish\", \"yuvism\", \"smilingfacewithhearteyes\", \"sun\", \"hero\", \"today\", \"champion\", \"me\", \"is\", \"first\", \"love\", \"please\", \"you\", \"forever\", \"my\", \"this\", \"yuvi\", \"to\", \"cricket\", \"your\", \"\\u2026\", \"tweet\", \"yuvian\", \"miss\", \"celebration\", \"nowadays\", \"sriv\", \"celebrity\", \"childhood\", \"number\", \"awesome\", \"ruthless\", \"agression\", \"rummy\", \"\\u092d\\u093e\\u0908\", \"peace\", \"\\u091c\\u0928\\u0928\\u093e\\u092f\\u0915\\u091b\\u093e\\u0924\\u094d\\u0930\\u094b\\u0902\\u0915\\u094b\\u092a\\u094d\\u0930\\u092e\\u094b\\u091f\\u0915\\u0930\\u094b\", \"junday\", \"delhi\", \"aajata\", \"almost\", \"perform\", \"suffer\", \"\\u092c\\u0924\\u093e\", \"187k\", \"dra\", \"tour\", \"admin\", \"bcci\", \"kingdom\", \"rule\", \"sneezingface\", \"amazing\", \"instant\", \"passion\", \"work\", \"confoundedface\", \"follow\", \"y\\u2026\", \"pleadingface\", \"1st\", \"jersey\", \"once\", \"inspiring\", \"god\", \"made\", \"back\", \"champion\", \"tribute\", \"idol\", \"my\", \"me\", \"favorite\", \"one\", \"year\", \"hero\", \"a\", \"retirement\", \"fire\", \"of\", \"cricket\", \"you\", \"this\", \"u\", \"the\", \"i\", \"to\", \"always\", \"love\", \"keep\", \"is\", \"redheart\", \"yuvi\", \"and\", \"we\", \"in\", \"dheera\", \"noticing\", \"effort\", \"combo\", \"gratitude\", \"defiantly\", \"no12\", \"overwhelmed\", \"natwest\", \"full\", \"celebrates\", \"help\", \"balakrishna\", \"patient\", \"uncountable\", \"kind\", \"2nd\", \"read\", \"pen\", \"least\", \"samal7\", \"\\u0936\\u0941\\u0915\\u094d\\u0930\\u093f\\u092f\\u093e\", \"thalaivaaa\", \"attitude\", \"chaddi\", \"dekhi\", \"dekhya\\u2026\", \"nu\", \"rabb\", \"bhut\", \"england\", \"choudhary28\", \"boost\", \"bhavi\", \"champ\", \"small\", \"disappointedface\", \"paji\", \"take\", \"until\", \"thank\", \"raisinghands\", \"huggingface\", \"conquered\", \"need\", \"smilingfacewithhearteyes\", \"for\", \"stalwart\", \"you\", \"top\", \"guy\", \"to\", \"love\", \"u\", \"miss\", \"fan\", \"at\", \"yuvi\", \"on\", \"always\", \"foldedhands\", \"a\", \"redheart\", \"are\", \"singh\", \"of\", \"in\", \"the\", \"we\", \"is\", \"never\", \"up\"], \"Freq\": [46.0, 117.0, 54.0, 84.0, 28.0, 49.0, 30.0, 47.0, 30.0, 30.0, 34.0, 32.0, 48.0, 37.0, 32.0, 46.0, 29.0, 73.0, 33.0, 22.0, 52.0, 25.0, 35.0, 27.0, 37.0, 69.0, 45.0, 76.0, 71.0, 23.0, 3.5143795013427734, 5.993797302246094, 5.258121967315674, 2.354797124862671, 3.1434545516967773, 2.7416810989379883, 2.2546932697296143, 1.270102858543396, 5.815123081207275, 2.531425952911377, 2.531425952911377, 2.531426429748535, 2.531425952911377, 2.25331711769104, 1.2304108142852783, 0.9039631485939026, 5.126572132110596, 2.2226345539093018, 1.9787514209747314, 1.3797956705093384, 1.1686434745788574, 2.465078830718994, 1.4857547283172607, 5.125345706939697, 0.8982197046279907, 0.7140113711357117, 0.8883804082870483, 0.888380229473114, 1.4227893352508545, 1.870015263557434, 4.963794708251953, 5.956751346588135, 2.5064640045166016, 2.5064637660980225, 9.73004150390625, 11.987332344055176, 3.1561808586120605, 12.496587753295898, 4.3351521492004395, 4.335150718688965, 11.4513521194458, 8.541740417480469, 17.430286407470703, 9.430606842041016, 10.053092956542969, 8.391798973083496, 9.205129623413086, 5.117956638336182, 9.936184883117676, 19.484027862548828, 15.002293586730957, 8.464991569519043, 11.530244827270508, 6.0055460929870605, 4.024179935455322, 4.124300003051758, 7.639206409454346, 8.411267280578613, 8.732656478881836, 9.120295524597168, 8.107351303100586, 7.274166584014893, 7.610653877258301, 8.187530517578125, 6.660412788391113, 7.121945381164551, 7.120007514953613, 6.456088542938232, 2.4516847133636475, 2.3503336906433105, 2.311473846435547, 2.1475658416748047, 2.1058425903320312, 2.6650285720825195, 1.3609625101089478, 3.088228464126587, 4.11137580871582, 4.102519989013672, 4.102519512176514, 4.102519512176514, 4.282879829406738, 2.213374376296997, 2.255690813064575, 2.476288318634033, 2.524540901184082, 1.3604710102081299, 4.015426158905029, 1.8293476104736328, 1.511383056640625, 2.437157392501831, 2.437157392501831, 3.2559995651245117, 1.9775105714797974, 1.1595193147659302, 1.4274108409881592, 1.4274109601974487, 2.6189723014831543, 2.6568431854248047, 3.042814254760742, 2.4947943687438965, 2.462435483932495, 3.683960199356079, 3.1730058193206787, 5.013598918914795, 3.9182002544403076, 13.676128387451172, 3.491746425628662, 5.513025760650635, 5.165696620941162, 4.496495246887207, 3.5121521949768066, 4.778472423553467, 8.027766227722168, 12.186413764953613, 9.504379272460938, 5.479234218597412, 7.881437301635742, 4.990107536315918, 6.653350830078125, 8.00042724609375, 4.677524089813232, 3.8713958263397217, 7.817399978637695, 4.915842533111572, 7.218075275421143, 5.9748735427856445, 6.600407123565674, 6.14423131942749, 4.96075963973999, 5.054072856903076, 5.216518878936768, 4.914426326751709, 4.967930316925049, 4.6449408531188965, 4.355887413024902, 4.270979404449463, 19.764415740966797, 9.865041732788086, 1.9807733297348022, 10.279050827026367, 10.534036636352539, 4.923377513885498, 1.0819697380065918, 1.0819696187973022, 7.545327186584473, 7.5153489112854, 14.92667293548584, 4.8939995765686035, 0.837902307510376, 0.8156684637069702, 1.3195644617080688, 2.0409674644470215, 2.4109623432159424, 1.589328646659851, 1.589328408241272, 1.9489272832870483, 1.9489269256591797, 0.7605288028717041, 1.0418280363082886, 1.0418280363082886, 1.0418280363082886, 1.0418280363082886, 2.3538591861724854, 7.5704240798950195, 0.8766374588012695, 1.0871537923812866, 7.242851257324219, 20.89359474182129, 5.215059757232666, 31.937477111816406, 1.9043244123458862, 9.441585540771484, 1.6955994367599487, 21.274864196777344, 10.095198631286621, 20.0382137298584, 15.971918106079102, 7.53899621963501, 16.497785568237305, 7.229984760284424, 11.138904571533203, 7.720126628875732, 7.2828898429870605, 8.693424224853516, 4.909860134124756, 8.127561569213867, 6.450929164886475, 4.754268169403076, 6.264960765838623, 6.393983840942383, 6.718148231506348, 6.017520904541016, 5.93770170211792, 2.354581117630005, 1.5843030214309692, 10.298487663269043, 3.8953912258148193, 1.7541439533233643, 2.801398277282715, 1.0039774179458618, 4.849542140960693, 4.849542617797852, 4.849542617797852, 4.849542617797852, 4.849541664123535, 5.150261402130127, 1.8430012464523315, 9.23741340637207, 1.032335638999939, 1.0323355197906494, 1.0323357582092285, 1.688001036643982, 1.688001036643982, 1.6880007982254028, 1.115080714225769, 1.115080714225769, 1.115080714225769, 1.115080714225769, 1.115080714225769, 1.1150805950164795, 1.559268593788147, 1.3598017692565918, 1.3598017692565918, 4.717983245849609, 2.144995927810669, 10.081863403320312, 2.582570791244507, 8.810773849487305, 3.9254791736602783, 12.006872177124023, 9.00943660736084, 13.184845924377441, 4.581271648406982, 1.7637848854064941, 12.977483749389648, 15.180500030517578, 12.46674633026123, 5.667647838592529, 4.142466068267822, 9.48242473602295, 15.968620300292969, 6.687882900238037, 12.518087387084961, 10.604321479797363, 4.661998271942139, 11.425424575805664, 5.091434001922607, 9.1659517288208, 9.429295539855957, 9.583626747131348, 9.89254093170166, 9.116714477539062, 8.457643508911133, 7.466019630432129, 6.248008728027344, 5.775334358215332, 6.184140205383301, 5.894159317016602, 5.608790397644043, 5.160768032073975, 4.62414026260376, 1.7273237705230713, 3.419647455215454, 4.022567272186279, 4.022567272186279, 4.022567272186279, 2.1075286865234375, 3.9852778911590576, 1.2678396701812744, 3.9499027729034424, 3.949903726577759, 1.6872881650924683, 2.6021649837493896, 1.201360821723938, 1.2013607025146484, 1.2013607025146484, 1.2013607025146484, 6.163811683654785, 6.083454132080078, 6.08345365524292, 0.8915224075317383, 0.8597594499588013, 3.5869407653808594, 0.8512788414955139, 2.0141046047210693, 2.0141043663024902, 1.6111721992492676, 1.6111719608306885, 4.13895845413208, 4.138958930969238, 5.967559814453125, 5.990071773529053, 15.649480819702148, 5.9402313232421875, 5.940230369567871, 5.856494903564453, 2.6150128841400146, 3.9020328521728516, 3.362896680831909, 3.339714288711548, 3.339714288711548, 3.3397140502929688, 4.466657638549805, 3.5749783515930176, 12.236910820007324, 8.489471435546875, 8.204414367675781, 9.106849670410156, 10.418779373168945, 6.212015151977539, 8.705102920532227, 6.792094707489014, 7.177249908447266, 6.721434116363525, 7.586441516876221, 6.052969455718994, 5.655653476715088, 6.571967601776123, 5.994853496551514, 6.247054100036621, 5.775430202484131, 4.910125732421875, 5.047110557556152, 4.8993330001831055, 5.028505802154541, 19.861785888671875, 1.4892147779464722, 5.238503932952881, 18.178997039794922, 1.074680209159851, 2.075223207473755, 6.531304359436035, 9.936408042907715, 1.1844348907470703, 1.1844348907470703, 3.3131632804870605, 2.256530284881592, 0.8411343693733215, 11.118337631225586, 2.1105878353118896, 1.6061313152313232, 1.7566187381744385, 0.970245897769928, 0.9702458381652832, 0.9702457189559937, 1.8182337284088135, 0.7524434924125671, 0.7450131177902222, 1.678809404373169, 1.2430264949798584, 1.2430263757705688, 1.2571805715560913, 1.2571805715560913, 0.6828123331069946, 0.6828123331069946, 0.6828123331069946, 11.237862586975098, 9.619414329528809, 3.0152785778045654, 3.4250288009643555, 21.34849739074707, 15.831890106201172, 1.6105149984359741, 9.050175666809082, 8.671375274658203, 8.686450004577637, 1.8253045082092285, 2.4282617568969727, 14.906673431396484, 4.293245792388916, 8.095390319824219, 9.139233589172363, 8.569252014160156, 8.810750961303711, 9.115073204040527, 9.90776252746582, 9.329126358032227, 8.488417625427246, 11.496142387390137, 9.646985054016113, 5.339670658111572, 6.456549167633057, 4.439152717590332, 5.793126106262207, 4.118809700012207, 4.262831211090088, 1.8145999908447266, 1.9586888551712036, 1.3782778978347778, 0.9171052575111389, 0.8702854514122009, 2.132256269454956, 1.9137402772903442, 1.4697166681289673, 2.114311695098877, 6.2236647605896, 2.110746383666992, 1.2713017463684082, 0.8100689053535461, 3.34200119972229, 1.6125824451446533, 1.1622811555862427, 0.7434808611869812, 1.8803696632385254, 0.9006037712097168, 0.7284914255142212, 3.7612357139587402, 0.9445951581001282, 1.0756078958511353, 1.401076316833496, 11.041550636291504, 3.932365655899048, 1.5446171760559082, 0.8730995655059814, 2.501284122467041, 2.4792561531066895, 10.702241897583008, 6.04354190826416, 1.7250370979309082, 3.6285338401794434, 10.657429695129395, 3.1791162490844727, 11.265443801879883, 3.444796562194824, 8.942521095275879, 4.6181559562683105, 9.650465965270996, 3.414623975753784, 11.52484130859375, 12.336581230163574, 5.912698268890381, 12.091403007507324, 5.381397724151611, 10.173674583435059, 8.584399223327637, 4.714649677276611, 9.37074089050293, 7.710485935211182, 5.774285316467285, 4.643904209136963, 5.598233222961426, 5.924130916595459, 5.259816646575928, 5.063121318817139, 4.959968566894531, 5.187282085418701, 5.074946880340576, 5.0115485191345215, 5.123139381408691, 5.114380359649658, 4.856210708618164, 1.7287575006484985, 1.477510929107666, 1.3820799589157104, 1.382080078125, 3.439213752746582, 1.4004027843475342, 1.4097689390182495, 2.0258946418762207, 2.025895118713379, 5.245597839355469, 5.245597839355469, 1.4745118618011475, 1.4745116233825684, 2.9619343280792236, 2.281079053878784, 2.0185160636901855, 5.334508419036865, 2.17618727684021, 1.8581937551498413, 0.786578893661499, 1.9537303447723389, 1.2328894138336182, 2.8565316200256348, 0.7607812285423279, 1.5766218900680542, 1.0513787269592285, 0.708421528339386, 0.8650305271148682, 0.8650305271148682, 0.8650305271148682, 24.77704620361328, 4.99999475479126, 20.18361473083496, 1.3105816841125488, 11.715295791625977, 1.5863693952560425, 8.049830436706543, 4.659602165222168, 12.996855735778809, 15.050192832946777, 10.616414070129395, 6.79386568069458, 5.937960624694824, 5.083270072937012, 3.225904703140259, 4.574019432067871, 4.67471170425415, 9.567037582397461, 5.111273765563965, 6.875646591186523, 5.268867492675781, 6.586514949798584, 9.759329795837402, 5.6432600021362305, 4.012545585632324, 6.167035102844238, 7.81003475189209, 6.922359466552734, 6.2956366539001465, 5.679036617279053, 6.267113208770752, 6.554516792297363, 6.447629451751709, 6.0311994552612305, 5.838709831237793, 5.419591903686523, 5.285350322723389, 38.93891525268555, 3.2605326175689697, 2.5853054523468018, 2.585305690765381, 1.6261920928955078, 3.014749050140381, 3.59381103515625, 1.8487004041671753, 3.568220376968384, 0.874621570110321, 3.2798233032226562, 0.8442138433456421, 3.7971086502075195, 0.8201111555099487, 3.6351125240325928, 1.6459283828735352, 1.5180529356002808, 1.6635597944259644, 1.6635597944259644, 1.6622209548950195, 3.3707826137542725, 0.7102447748184204, 6.79219388961792, 1.0933926105499268, 0.651394248008728, 0.8077385425567627, 0.8839292526245117, 0.8839292526245117, 0.8839291334152222, 0.8839291334152222, 3.029956102371216, 1.3683202266693115, 2.0308849811553955, 11.698801040649414, 3.309570074081421, 3.367349147796631, 10.941482543945312, 9.803439140319824, 10.720507621765137, 2.1052350997924805, 3.7372374534606934, 11.694994926452637, 8.809483528137207, 10.349419593811035, 9.07319164276123, 8.056487083435059, 8.372700691223145, 6.848551273345947, 9.821990966796875, 7.258088111877441, 6.652719020843506, 7.081159591674805, 7.2564005851745605, 5.613260269165039, 5.281520366668701, 6.1147027015686035, 5.57551383972168, 5.117064952850342, 4.030033111572266, 4.426578998565674, 4.781193256378174, 4.684913635253906, 4.595428466796875, 4.331223487854004, 4.055697917938232, 4.03117561340332, 3.2715461254119873, 1.7527711391448975, 1.7527706623077393, 1.7527711391448975, 2.4738047122955322, 2.338188886642456, 2.338188886642456, 2.338188886642456, 2.338188648223877, 2.338188886642456, 2.3381881713867188, 2.4672887325286865, 2.4672889709472656, 2.4672887325286865, 2.44758939743042, 1.0940779447555542, 1.4899306297302246, 5.218356132507324, 1.5544345378875732, 2.5462076663970947, 2.5462076663970947, 3.1609723567962646, 1.1867492198944092, 3.363016366958618, 0.8841949701309204, 3.4621500968933105, 3.4621496200561523, 3.0533766746520996, 3.4269607067108154, 2.4870765209198, 12.009241104125977, 3.3326282501220703, 5.304391860961914, 7.808962345123291, 3.934339761734009, 9.290884017944336, 13.672993659973145, 8.321075439453125, 9.384859085083008, 11.320444107055664, 6.619831562042236, 3.7570579051971436, 3.6388254165649414, 2.881884813308716, 5.836257457733154, 9.187695503234863, 5.490976810455322, 7.801537990570068, 5.4334821701049805, 5.032506942749023, 4.918917179107666, 5.810701370239258, 4.900148868560791, 5.662104606628418, 4.737009525299072, 5.227339744567871, 4.8662309646606445, 5.0059309005737305, 4.304655075073242, 4.104412078857422, 4.039947509765625, 3.839780569076538, 2.455057382583618, 1.7685128450393677, 1.5792505741119385, 3.3491833209991455, 0.776365339756012, 0.776365339756012, 0.7763652205467224, 0.7672557830810547, 0.7672557234764099, 1.7573829889297485, 1.7573829889297485, 3.43581485748291, 1.734202265739441, 1.0048338174819946, 1.1260071992874146, 1.1691988706588745, 0.9335509538650513, 1.4523752927780151, 1.4096487760543823, 0.9820696711540222, 0.9820696711540222, 4.639246463775635, 0.755327045917511, 0.56769198179245, 0.5663104057312012, 0.7392101287841797, 1.2448424100875854, 1.6198058128356934, 0.5502947568893433, 0.5409018397331238, 2.006577730178833, 0.7968089580535889, 3.1075832843780518, 2.1126461029052734, 2.1126461029052734, 6.727907657623291, 6.854019641876221, 2.5436246395111084, 2.8092212677001953, 5.379846572875977, 2.671262502670288, 1.4218106269836426, 3.5960023403167725, 4.82503604888916, 6.268796443939209, 4.370190143585205, 6.198233127593994, 7.198098182678223, 7.668738842010498, 3.787642240524292, 4.675134658813477, 5.439276695251465, 6.878307342529297, 7.550436496734619, 6.055230140686035, 5.000497817993164, 4.360036373138428, 4.4040350914001465, 4.7607340812683105, 4.586015701293945, 3.3078055381774902, 4.228387832641602, 4.711854934692383, 4.6138153076171875, 5.085384368896484, 4.754652976989746, 4.483840465545654, 4.147330284118652, 4.0715107917785645, 3.985236883163452, 3.8167765140533447, 2.64029860496521, 2.093557119369507, 3.6497223377227783, 2.6054482460021973, 3.251924514770508, 1.9034250974655151, 1.7784162759780884, 3.329939842224121, 5.045645713806152, 1.5776549577713013, 1.5776546001434326, 1.7723394632339478, 0.8812832236289978, 1.3532668352127075, 0.8152230381965637, 0.8115179538726807, 0.6871537566184998, 10.738471984863281, 4.86278772354126, 1.0407265424728394, 1.0407265424728394, 1.302109718322754, 1.1499426364898682, 1.5735701322555542, 1.0287996530532837, 4.911635398864746, 1.2564736604690552, 0.6348429918289185, 1.1165904998779297, 2.218480348587036, 1.2870880365371704, 3.939774990081787, 4.85507345199585, 2.88385272026062, 6.0231757164001465, 9.777105331420898, 14.478596687316895, 3.572256326675415, 4.566318988800049, 22.40286636352539, 2.1457295417785645, 3.9079673290252686, 8.164901733398438, 4.785696506500244, 8.150100708007812, 7.362649917602539, 4.169841289520264, 8.218745231628418, 8.536075592041016, 6.15705680847168, 6.0660400390625, 4.899919033050537, 5.583115100860596, 5.032835483551025, 4.310733318328857, 4.162207126617432, 4.10305643081665, 3.938795328140259, 3.8859212398529053, 3.652918577194214, 4.507346153259277, 4.214638710021973, 1.8758488893508911, 4.623510360717773, 1.2331385612487793, 7.863848686218262, 4.663318634033203, 1.3619253635406494, 1.746659755706787, 0.956052303314209, 7.432404518127441, 0.9033750295639038, 1.477606177330017, 1.2296788692474365, 1.1082303524017334, 1.1082303524017334, 1.1082303524017334, 1.1082303524017334, 1.1082301139831543, 1.1082303524017334, 1.1082303524017334, 3.630892753601074, 0.7958931922912598, 0.7958930730819702, 0.7958928346633911, 2.022470712661743, 1.2094850540161133, 1.5564786195755005, 3.709989547729492, 1.2019160985946655, 12.629836082458496, 4.482487201690674, 17.219528198242188, 11.63643741607666, 34.14460754394531, 2.9269344806671143, 2.4395911693573, 12.746037483215332, 2.826226234436035, 3.729236125946045, 8.91916561126709, 2.332679271697998, 6.799036026000977, 3.177140951156616, 6.945666790008545, 5.032613754272461, 7.837066173553467, 2.616119623184204, 7.790543079376221, 3.2170114517211914, 8.805455207824707, 5.014445781707764, 5.758372783660889, 5.497201919555664, 6.540693283081055, 5.416973114013672, 5.250805854797363, 4.9001970291137695, 4.04601526260376, 4.440522193908691, 4.108665466308594, 3.8954126834869385, 2.179933786392212, 2.0799026489257812, 1.7436151504516602, 1.9719136953353882, 3.0848278999328613, 2.0564050674438477, 3.9285569190979004, 2.4510498046875, 2.4510490894317627, 0.7134732007980347, 0.8404490351676941, 0.6259576082229614, 0.6096724271774292, 0.6096723079681396, 1.4824702739715576, 0.5685076713562012, 0.8360782861709595, 0.928939700126648, 0.9289394617080688, 0.7346299886703491, 0.5490158200263977, 0.5325164794921875, 1.3183996677398682, 1.2074459791183472, 0.8232911229133606, 0.68348628282547, 0.6834860444068909, 0.5166043639183044, 1.5043424367904663, 0.6796706318855286, 0.9342761635780334, 2.051985740661621, 1.198872685432434, 6.156606674194336, 2.0798299312591553, 3.0104329586029053, 2.783081293106079, 4.048501014709473, 3.2274351119995117, 2.685244560241699, 3.1227118968963623, 2.575697422027588, 3.65069317817688, 6.800546646118164, 2.030697822570801, 3.2509944438934326, 7.2548065185546875, 4.712123394012451, 2.3427364826202393, 6.81572151184082, 5.754509925842285, 4.243049144744873, 6.573952674865723, 4.96774435043335, 5.777747631072998, 6.064876079559326, 4.611359596252441, 6.074886798858643, 4.49178409576416, 4.6621994972229, 4.832523345947266, 3.6722443103790283, 3.989574432373047, 4.110061168670654, 4.092815399169922, 2.9863240718841553, 3.530540943145752, 3.6956114768981934, 3.566591262817383, 3.425769805908203, 3.411762237548828, 3.2452096939086914, 1.8544321060180664, 1.5395228862762451, 1.5395230054855347, 1.3247665166854858, 3.0724165439605713, 1.0265889167785645, 1.6403673887252808, 3.6775355339050293, 0.8456657528877258, 3.1649129390716553, 0.6610575914382935, 0.8066732287406921, 0.8066733479499817, 0.8066732287406921, 1.3147797584533691, 1.4284279346466064, 2.8736867904663086, 2.2567996978759766, 0.9799378514289856, 1.3209329843521118, 0.5545634627342224, 0.7825173139572144, 0.9627236723899841, 2.7118773460388184, 0.6237738728523254, 0.6237739324569702, 0.6237738728523254, 0.6237739324569702, 0.6237738728523254, 0.6237738132476807, 0.8153099417686462, 0.9311582446098328, 1.7957231998443604, 12.250238418579102, 11.62564754486084, 1.5107554197311401, 1.4670618772506714, 6.565592288970947, 1.9542202949523926, 1.320932149887085, 5.777360439300537, 4.744036674499512, 2.05332612991333, 1.617693543434143, 2.07260799407959, 4.775739669799805, 6.123673915863037, 5.458150386810303, 9.050622940063477, 3.2342634201049805, 2.144181966781616, 4.6256561279296875, 4.815668106079102, 4.64495325088501, 4.574741840362549, 3.100437879562378, 3.0809786319732666, 4.918373107910156, 3.7718710899353027, 4.038846015930176, 3.9618701934814453, 4.030212879180908, 4.417275905609131, 3.8161981105804443, 3.343898296356201, 3.7961645126342773, 3.5444419384002686, 3.510704278945923, 3.4173953533172607, 3.292139768600464, 3.2013072967529297, 3.171046257019043], \"Total\": [46.0, 117.0, 54.0, 84.0, 28.0, 49.0, 30.0, 47.0, 30.0, 30.0, 34.0, 32.0, 48.0, 37.0, 32.0, 46.0, 29.0, 73.0, 33.0, 22.0, 52.0, 25.0, 35.0, 27.0, 37.0, 69.0, 45.0, 76.0, 71.0, 23.0, 4.772221565246582, 9.456381797790527, 8.506406784057617, 3.8504960536956787, 5.250213146209717, 4.624885082244873, 3.819984197616577, 2.1659371852874756, 10.02800464630127, 4.419859886169434, 4.419859409332275, 4.419860363006592, 4.419860363006592, 3.939704656600952, 2.225677967071533, 1.64737868309021, 9.541827201843262, 4.137428283691406, 3.690779685974121, 2.5738818645477295, 2.1838202476501465, 4.6087870597839355, 2.7917912006378174, 10.062897682189941, 1.8047624826431274, 1.4574272632598877, 1.8222483396530151, 1.8222484588623047, 2.9249894618988037, 3.8725314140319824, 10.800076484680176, 13.132390975952148, 5.344985485076904, 5.3449859619140625, 22.901466369628906, 29.879732131958008, 6.910899639129639, 32.69442367553711, 10.186168670654297, 10.186505317687988, 35.6430549621582, 26.405550003051758, 73.42573547363281, 33.65491485595703, 37.52323913574219, 29.377849578857422, 36.42360305786133, 14.794705390930176, 45.579803466796875, 146.2999267578125, 94.10688781738281, 37.291412353515625, 68.90849304199219, 21.336000442504883, 10.755105018615723, 11.323369979858398, 42.17228698730469, 54.28483581542969, 76.70591735839844, 96.05081939697266, 80.7142562866211, 57.07912063598633, 72.5522689819336, 106.36197662353516, 49.87141418457031, 87.45378875732422, 110.23817443847656, 60.65354919433594, 3.191307544708252, 3.089954376220703, 3.0510942935943604, 2.8871867656707764, 3.0336296558380127, 4.103186130523682, 2.1005828380584717, 4.907155513763428, 6.562565326690674, 6.643529415130615, 6.643528461456299, 6.643529891967773, 7.087541580200195, 3.721618890762329, 3.823395013809204, 4.218418598175049, 4.355018138885498, 2.370008707046509, 7.029123306274414, 3.2160391807556152, 2.66677188873291, 4.372043609619141, 4.372043609619141, 5.904140949249268, 3.590193510055542, 2.132124423980713, 2.632946014404297, 2.632946252822876, 4.83669900894165, 4.9317522048950195, 5.685938358306885, 4.6633992195129395, 4.606104850769043, 7.244024276733398, 6.330638885498047, 11.535293579101562, 8.477852821350098, 44.73665237426758, 7.690087795257568, 17.18294906616211, 17.26408576965332, 13.532663345336914, 8.620394706726074, 15.562881469726562, 42.496337890625, 106.36197662353516, 72.5522689819336, 24.598848342895508, 64.65988159179688, 22.675315856933594, 49.372894287109375, 82.43496704101562, 21.336000442504883, 12.689494132995605, 110.23817443847656, 26.309677124023438, 94.10688781738281, 57.07912063598633, 96.05081939697266, 146.2999267578125, 49.37195587158203, 58.5088005065918, 75.92585754394531, 57.89108657836914, 73.6856460571289, 77.94810485839844, 58.324398040771484, 49.87141418457031, 30.192949295043945, 15.380571365356445, 3.178905725479126, 16.609617233276367, 17.079370498657227, 8.297069549560547, 1.8245019912719727, 1.8245021104812622, 13.614554405212402, 13.720046043395996, 27.611188888549805, 9.164905548095703, 1.580434799194336, 1.5582010746002197, 2.5350003242492676, 3.9289629459381104, 4.652015686035156, 3.1064553260803223, 3.1064553260803223, 3.8513615131378174, 3.85136079788208, 1.5030609369277954, 2.067411184310913, 2.067411184310913, 2.067411184310913, 2.067411184310913, 4.811771392822266, 15.554837226867676, 1.8012280464172363, 2.2388722896575928, 15.193903923034668, 46.680381774902344, 11.846137046813965, 84.72759246826172, 4.067107200622559, 24.947101593017578, 3.579923391342163, 76.70591735839844, 35.05938720703125, 110.23817443847656, 87.45378875732422, 35.22431564331055, 146.2999267578125, 42.69562911987305, 94.10688781738281, 56.10883331298828, 52.568912506103516, 80.7142562866211, 27.83258056640625, 96.05081939697266, 54.86433792114258, 29.73092269897461, 68.90849304199219, 75.92585754394531, 106.36197662353516, 72.5522689819336, 69.39600372314453, 3.098299026489258, 2.3280177116394043, 15.680316925048828, 6.303165435791016, 2.8795368671417236, 4.862083911895752, 1.7476918697357178, 8.565573692321777, 8.565573692321777, 8.565573692321777, 8.565573692321777, 8.565573692321777, 9.10409164428711, 3.3105826377868652, 16.677352905273438, 1.9233331680297852, 1.9233331680297852, 1.9233334064483643, 3.159193277359009, 3.159193277359009, 3.1591930389404297, 2.114490270614624, 2.114490270614624, 2.114490270614624, 2.114490509033203, 2.114490509033203, 2.114490509033203, 2.9882121086120605, 2.610597610473633, 2.610597848892212, 9.345279693603516, 4.211213111877441, 21.775205612182617, 5.153045177459717, 19.14704704284668, 8.159135818481445, 28.302879333496094, 21.014484405517578, 33.65491485595703, 10.407648086547852, 3.5256481170654297, 37.52323913574219, 45.579803466796875, 37.291412353515625, 14.965648651123047, 10.620867729187012, 35.6430549621582, 77.94810485839844, 22.115379333496094, 68.90849304199219, 55.940975189208984, 14.291914939880371, 94.10688781738281, 17.18294906616211, 73.6856460571289, 87.45378875732422, 106.36197662353516, 146.2999267578125, 117.98981475830078, 96.05081939697266, 110.23817443847656, 49.37195587158203, 37.54037857055664, 71.67595672607422, 60.65354919433594, 73.42573547363281, 28.195091247558594, 6.457939147949219, 2.4665069580078125, 5.18287992477417, 6.162223815917969, 6.162223815917969, 6.1622233390808105, 3.2652409076690674, 6.303628921508789, 2.0070207118988037, 6.306187629699707, 6.338141918182373, 2.749600648880005, 4.515421390533447, 2.106656551361084, 2.106656551361084, 2.106656551361084, 2.106656551361084, 11.1336088180542, 11.075342178344727, 11.075343132019043, 1.6307036876678467, 1.598940372467041, 6.671284198760986, 1.5904595851898193, 3.817277193069458, 3.817277193069458, 3.063786506652832, 3.063786268234253, 7.883337497711182, 7.88333797454834, 11.415860176086426, 11.474409103393555, 30.70343017578125, 11.588767051696777, 12.069077491760254, 12.075793266296387, 5.090959548950195, 8.181056022644043, 6.943400859832764, 7.036349773406982, 7.036350250244141, 7.036350250244141, 11.551021575927734, 8.627726554870605, 75.92585754394531, 49.372894287109375, 50.67538833618164, 82.43496704101562, 146.2999267578125, 36.42360305786133, 110.23817443847656, 54.29096984863281, 76.70591735839844, 64.65988159179688, 106.36197662353516, 56.10883331298828, 40.14784240722656, 96.05081939697266, 58.5088005065918, 80.7142562866211, 57.07912063598633, 24.18944549560547, 57.89108657836914, 50.4503059387207, 94.10688781738281, 28.784963607788086, 2.2315452098846436, 8.048569679260254, 30.304798126220703, 1.817010521888733, 3.533207654953003, 11.547506332397461, 17.868633270263672, 2.1966891288757324, 2.1966888904571533, 6.226973533630371, 4.246165752410889, 1.5834654569625854, 21.014846801757812, 3.9902915954589844, 3.0996487140655518, 3.4617154598236084, 1.923404335975647, 1.923404335975647, 1.923404335975647, 3.606740951538086, 1.4947737455368042, 1.487343430519104, 3.3542439937591553, 2.5655786991119385, 2.5655784606933594, 2.608444929122925, 2.608445167541504, 1.4251421689987183, 1.4251421689987183, 1.4251421689987183, 24.93775177001953, 21.78742790222168, 6.80669641494751, 8.192557334899902, 69.39600372314453, 52.35535430908203, 3.6029272079467773, 32.394222259521484, 32.650001525878906, 34.80596923828125, 4.292276382446289, 6.480993747711182, 80.7142562866211, 14.54875373840332, 40.841644287109375, 50.4503059387207, 52.568912506103516, 58.5088005065918, 77.94810485839844, 96.05081939697266, 87.45378875732422, 73.6856460571289, 146.2999267578125, 110.23817443847656, 40.14784240722656, 82.43496704101562, 34.189266204833984, 117.98981475830078, 30.70343017578125, 75.92585754394531, 2.764333724975586, 3.4502460956573486, 2.4876585006713867, 1.6576132774353027, 1.6107943058013916, 3.9642560482025146, 3.5747833251953125, 2.7512950897216797, 3.963296413421631, 11.680834770202637, 3.9631054401397705, 2.4106099605560303, 1.5505775213241577, 6.546537399291992, 3.2014691829681396, 2.3142430782318115, 1.4839891195297241, 3.756995439529419, 1.8101140260696411, 1.4689995050430298, 7.659787654876709, 1.9238942861557007, 2.2006380558013916, 2.908881902694702, 23.110027313232422, 8.252866744995117, 3.2485573291778564, 1.8463679552078247, 5.345258712768555, 5.437307834625244, 23.99726104736328, 13.538134574890137, 3.8013687133789062, 9.335914611816406, 35.05938720703125, 8.2332763671875, 39.18941116333008, 10.397895812988281, 38.65638732910156, 16.327571868896484, 48.71131896972656, 10.681243896484375, 73.6856460571289, 84.72759246826172, 29.879732131958008, 106.36197662353516, 26.405550003051758, 94.10688781738281, 72.5522689819336, 24.490880966186523, 146.2999267578125, 96.05081939697266, 50.4503059387207, 32.536075592041016, 57.07912063598633, 71.67595672607422, 56.10883331298828, 49.87141418457031, 54.86433792114258, 76.70591735839844, 73.42573547363281, 87.45378875732422, 110.23817443847656, 117.98981475830078, 80.7142562866211, 2.467254161834717, 2.41048526763916, 2.4090735912323, 2.4090735912323, 6.026104927062988, 2.469783306121826, 2.5144474506378174, 3.661442279815674, 3.661442518234253, 9.505247116088867, 9.5052490234375, 2.681156873703003, 2.681156635284424, 5.405893325805664, 4.246225357055664, 3.7642900943756104, 10.04294490814209, 4.106395721435547, 3.5431485176086426, 1.5250756740570068, 3.7961931228637695, 2.3972506523132324, 5.626233100891113, 1.499277949333191, 3.1313610076904297, 2.1281745433807373, 1.4469181299209595, 1.7674208879470825, 1.767421007156372, 1.767421007156372, 54.86433792114258, 11.045318603515625, 49.819644927978516, 2.7587170600891113, 33.13594055175781, 3.506279945373535, 25.12986946105957, 13.430383682250977, 50.45112609863281, 71.67595672607422, 49.37195587158203, 28.195091247558594, 24.989696502685547, 19.642438888549805, 9.934697151184082, 18.735116958618164, 20.204635620117188, 87.45378875732422, 27.794889450073242, 57.89108657836914, 32.5342903137207, 54.28483581542969, 146.2999267578125, 41.693763732910156, 19.038267135620117, 58.324398040771484, 110.23817443847656, 84.72759246826172, 75.92585754394531, 54.29096984863281, 77.94810485839844, 94.10688781738281, 117.98981475830078, 106.36197662353516, 82.43496704101562, 76.70591735839844, 72.5522689819336, 46.84356689453125, 4.837613105773926, 4.272637367248535, 4.272637844085693, 2.702021598815918, 5.330970287322998, 6.502708435058594, 3.407262086868286, 6.580021381378174, 1.6148593425750732, 6.0950117111206055, 1.5844511985778809, 7.1935224533081055, 1.560348391532898, 6.947912216186523, 3.176708221435547, 2.93998122215271, 3.3066470623016357, 3.3066470623016357, 3.3054325580596924, 6.8699846267700195, 1.45048189163208, 14.008428573608398, 2.3198869228363037, 1.3916311264038086, 1.7269039154052734, 1.909724235534668, 1.909724235534668, 1.909724235534668, 1.9097241163253784, 6.653158187866211, 2.975318431854248, 4.4790167808532715, 27.583328247070312, 7.615882396697998, 7.866112232208252, 29.416629791259766, 27.939491271972656, 34.223243713378906, 4.968092918395996, 10.439391136169434, 49.372894287109375, 37.14622497558594, 52.35535430908203, 44.73665237426758, 38.13563537597656, 49.87141418457031, 50.67538833618164, 106.36197662353516, 57.89108657836914, 54.29096984863281, 64.65988159179688, 72.5522689819336, 47.57664489746094, 50.4503059387207, 96.05081939697266, 82.43496704101562, 58.5088005065918, 19.33343505859375, 38.65638732910156, 87.45378875732422, 75.92585754394531, 110.23817443847656, 60.65354919433594, 73.6856460571289, 146.2999267578125, 4.877376556396484, 2.680288076400757, 2.6802878379821777, 2.680288076400757, 4.018324375152588, 3.8009121417999268, 3.8009121417999268, 3.800912380218506, 3.8009121417999268, 3.800912380218506, 3.8009119033813477, 4.048874378204346, 4.097620010375977, 4.112867832183838, 4.099853038787842, 1.8337169885635376, 2.5076069831848145, 8.806376457214355, 2.6233556270599365, 4.548166275024414, 4.548166275024414, 5.693472862243652, 2.1604597568511963, 6.163355827331543, 1.6238347291946411, 6.413919925689697, 6.414697170257568, 5.805388450622559, 6.522577285766602, 4.747574806213379, 25.964839935302734, 6.799145698547363, 12.271658897399902, 23.397985458374023, 9.293364524841309, 33.825843811035156, 73.42573547363281, 37.54037857055664, 49.819644927978516, 71.67595672607422, 38.545379638671875, 11.013294219970703, 10.620867729187012, 6.522294044494629, 42.17228698730469, 146.2999267578125, 36.494873046875, 106.36197662353516, 40.841644287109375, 33.13594055175781, 32.650001525878906, 54.28483581542969, 32.5342903137207, 76.70591735839844, 50.67538833618164, 117.98981475830078, 77.94810485839844, 96.05081939697266, 54.29096984863281, 54.86433792114258, 49.37195587158203, 94.10688781738281, 3.9355273246765137, 3.0694899559020996, 2.836864709854126, 6.545395374298096, 1.5233129262924194, 1.5233128070831299, 1.5233128070831299, 1.5142040252685547, 1.5142040252685547, 3.4703707695007324, 3.4703712463378906, 6.853664875030518, 3.4596621990203857, 2.0521416664123535, 2.351109027862549, 2.4956345558166504, 2.019010305404663, 3.1487114429473877, 3.098090410232544, 2.2366621494293213, 2.2366621494293213, 10.582182884216309, 1.725641131401062, 1.3146392107009888, 1.3132579326629639, 1.7199763059616089, 2.9070446491241455, 3.787008285522461, 1.2972421646118164, 1.2878491878509521, 4.907276630401611, 1.92043936252594, 8.241114616394043, 5.4961090087890625, 5.4961090087890625, 24.29584503173828, 30.11752700805664, 8.342225074768066, 9.910665512084961, 31.331857681274414, 11.130781173706055, 4.03085470199585, 18.395593643188477, 31.841642379760742, 54.28483581542969, 29.795141220092773, 60.65354919433594, 82.43496704101562, 96.05081939697266, 24.989696502685547, 38.545379638671875, 54.29096984863281, 106.36197662353516, 146.2999267578125, 84.72759246826172, 57.07912063598633, 40.841644287109375, 42.69562911987305, 55.940975189208984, 54.86433792114258, 22.306608200073242, 50.67538833618164, 76.70591735839844, 73.6856460571289, 110.23817443847656, 94.10688781738281, 87.45378875732422, 75.92585754394531, 80.7142562866211, 72.5522689819336, 57.89108657836914, 3.5867271423339844, 3.3495934009552, 5.845980167388916, 4.3611578941345215, 5.584230899810791, 3.4265122413635254, 3.2058746814727783, 6.133106708526611, 9.378469467163086, 3.0631675720214844, 3.0631673336029053, 3.4440064430236816, 1.7682654857635498, 2.7993221282958984, 1.6885578632354736, 1.684117317199707, 1.4331321716308594, 22.65719223022461, 10.300682067871094, 2.2153408527374268, 2.215341091156006, 2.7729318141937256, 2.4791316986083984, 3.3988866806030273, 2.2260563373565674, 10.659268379211426, 2.7291958332061768, 1.3808209896087646, 2.441082239151001, 4.910740375518799, 2.8770110607147217, 9.28308391571045, 12.550260543823242, 7.444615840911865, 19.32107162475586, 35.22431564331055, 58.324398040771484, 10.714591026306152, 14.78900146484375, 117.98981475830078, 5.674534797668457, 12.697198867797852, 40.14784240722656, 26.309677124023438, 68.90849304199219, 82.43496704101562, 24.947101593017578, 110.23817443847656, 146.2999267578125, 73.42573547363281, 71.67595672607422, 50.45112609863281, 75.92585754394531, 80.7142562866211, 69.39600372314453, 106.36197662353516, 96.05081939697266, 94.10688781738281, 77.94810485839844, 57.07912063598633, 6.038023948669434, 5.7901411056518555, 2.9652981758117676, 7.365721702575684, 1.9715787172317505, 12.711572647094727, 7.619009494781494, 2.384178400039673, 3.094398021697998, 1.6944923400878906, 13.485815048217773, 1.6418159008026123, 2.6919143199920654, 2.2444114685058594, 2.1303162574768066, 2.1303162574768066, 2.1303164958953857, 2.1303164958953857, 2.1303162574768066, 2.1303164958953857, 2.1303164958953857, 6.998711585998535, 1.5343327522277832, 1.5343327522277832, 1.5343327522277832, 3.9006083011627197, 2.348616123199463, 3.0652499198913574, 7.5335588455200195, 2.4465227127075195, 29.643383026123047, 10.47501277923584, 47.57664489746094, 32.394222259521484, 117.98981475830078, 6.73425817489624, 5.609780311584473, 48.71131896972656, 7.180088520050049, 11.013294219970703, 36.494873046875, 6.173730850219727, 31.841642379760742, 10.608879089355469, 37.54037857055664, 29.795141220092773, 75.92585754394531, 8.671493530273438, 80.7142562866211, 13.439674377441406, 146.2999267578125, 38.545379638671875, 55.940975189208984, 56.10883331298828, 110.23817443847656, 64.65988159179688, 60.65354919433594, 52.568912506103516, 38.13563537597656, 68.90849304199219, 58.324398040771484, 77.94810485839844, 3.2830936908721924, 3.2093846797943115, 2.8820087909698486, 3.6503353118896484, 5.777436256408691, 4.009993553161621, 7.786055088043213, 4.916329860687256, 4.9163289070129395, 1.4558464288711548, 1.7411060333251953, 1.368330478668213, 1.3520451784133911, 1.3520452976226807, 3.398251533508301, 1.310880422592163, 1.95157790184021, 2.176988124847412, 2.176988363265991, 1.7274904251098633, 1.2913882732391357, 1.2748891115188599, 3.1740286350250244, 2.9089555740356445, 2.0020806789398193, 1.6624507904052734, 1.6624507904052734, 1.258976936340332, 3.6813180446624756, 1.6693247556686401, 2.2978785037994385, 5.358922004699707, 3.0414018630981445, 19.36665153503418, 6.150275230407715, 9.674822807312012, 8.862696647644043, 14.54875373840332, 11.244303703308105, 9.032965660095215, 11.15754508972168, 8.890411376953125, 15.126396179199219, 37.54037857055664, 7.253246307373047, 14.965648651123047, 55.940975189208984, 29.795141220092773, 9.910665512084961, 69.39600372314453, 58.5088005065918, 31.841642379760742, 82.43496704101562, 50.4503059387207, 73.42573547363281, 96.05081939697266, 60.65354919433594, 146.2999267578125, 56.10883331298828, 73.6856460571289, 106.36197662353516, 42.496337890625, 64.65988159179688, 76.70591735839844, 80.7142562866211, 19.038267135620117, 75.92585754394531, 117.98981475830078, 110.23817443847656, 72.5522689819336, 87.45378875732422, 94.10688781738281, 2.990314245223999, 2.6227505207061768, 2.6227505207061768, 2.3692150115966797, 5.832101345062256, 2.0010576248168945, 3.3659069538116455, 7.6033782958984375, 1.764549970626831, 6.649774551391602, 1.4062601327896118, 1.7358369827270508, 1.7358369827270508, 1.7358368635177612, 2.853562355041504, 3.1096601486206055, 6.2941083908081055, 5.050327301025391, 2.2134528160095215, 3.064683437347412, 1.299766182899475, 1.8367419242858887, 2.265042543411255, 6.449156761169434, 1.4919724464416504, 1.4919724464416504, 1.4919724464416504, 1.4919724464416504, 1.4919724464416504, 1.4919724464416504, 1.952472448348999, 2.233790874481201, 4.40645694732666, 34.189266204833984, 32.536075592041016, 3.949367046356201, 4.073239326477051, 24.91057586669922, 5.898042678833008, 3.6244466304779053, 28.384357452392578, 23.414329528808594, 7.315324306488037, 5.128611087799072, 8.362676620483398, 36.494873046875, 57.07912063598633, 47.57664489746094, 146.2999267578125, 20.204635620117188, 9.859756469726562, 64.65988159179688, 80.7142562866211, 73.6856460571289, 77.94810485839844, 27.83258056640625, 27.794889450073242, 110.23817443847656, 57.89108657836914, 76.70591735839844, 71.67595672607422, 82.43496704101562, 117.98981475830078, 84.72759246826172, 50.67538833618164, 96.05081939697266, 94.10688781738281, 106.36197662353516, 87.45378875732422, 75.92585754394531, 49.37195587158203, 45.579803466796875], \"Category\": [\"Default\", \"Default\", \"Default\", \"Default\", \"Default\", \"Default\", \"Default\", \"Default\", \"Default\", \"Default\", \"Default\", \"Default\", \"Default\", \"Default\", \"Default\", \"Default\", \"Default\", \"Default\", \"Default\", \"Default\", \"Default\", \"Default\", \"Default\", \"Default\", \"Default\", \"Default\", \"Default\", \"Default\", \"Default\", \"Default\", \"Topic1\", \"Topic1\", \"Topic1\", \"Topic1\", \"Topic1\", \"Topic1\", \"Topic1\", \"Topic1\", \"Topic1\", \"Topic1\", \"Topic1\", \"Topic1\", \"Topic1\", \"Topic1\", \"Topic1\", \"Topic1\", \"Topic1\", \"Topic1\", \"Topic1\", \"Topic1\", \"Topic1\", \"Topic1\", \"Topic1\", \"Topic1\", \"Topic1\", \"Topic1\", \"Topic1\", \"Topic1\", \"Topic1\", \"Topic1\", \"Topic1\", \"Topic1\", \"Topic1\", \"Topic1\", \"Topic1\", \"Topic1\", \"Topic1\", \"Topic1\", \"Topic1\", \"Topic1\", \"Topic1\", \"Topic1\", \"Topic1\", \"Topic1\", \"Topic1\", \"Topic1\", \"Topic1\", \"Topic1\", \"Topic1\", \"Topic1\", \"Topic1\", \"Topic1\", \"Topic1\", \"Topic1\", \"Topic1\", \"Topic1\", \"Topic1\", \"Topic1\", \"Topic1\", \"Topic1\", \"Topic1\", \"Topic1\", \"Topic1\", \"Topic1\", \"Topic1\", \"Topic1\", \"Topic1\", \"Topic1\", \"Topic2\", \"Topic2\", \"Topic2\", \"Topic2\", \"Topic2\", \"Topic2\", \"Topic2\", \"Topic2\", \"Topic2\", \"Topic2\", \"Topic2\", \"Topic2\", \"Topic2\", \"Topic2\", \"Topic2\", \"Topic2\", \"Topic2\", \"Topic2\", \"Topic2\", \"Topic2\", \"Topic2\", \"Topic2\", \"Topic2\", \"Topic2\", \"Topic2\", \"Topic2\", \"Topic2\", \"Topic2\", \"Topic2\", \"Topic2\", \"Topic2\", \"Topic2\", \"Topic2\", \"Topic2\", \"Topic2\", \"Topic2\", \"Topic2\", \"Topic2\", \"Topic2\", \"Topic2\", \"Topic2\", \"Topic2\", \"Topic2\", \"Topic2\", \"Topic2\", \"Topic2\", \"Topic2\", \"Topic2\", \"Topic2\", \"Topic2\", \"Topic2\", \"Topic2\", \"Topic2\", \"Topic2\", \"Topic2\", \"Topic2\", \"Topic2\", \"Topic2\", \"Topic2\", \"Topic2\", \"Topic2\", \"Topic2\", \"Topic2\", \"Topic2\", \"Topic2\", \"Topic2\", \"Topic2\", \"Topic2\", \"Topic3\", \"Topic3\", \"Topic3\", \"Topic3\", \"Topic3\", \"Topic3\", \"Topic3\", \"Topic3\", \"Topic3\", \"Topic3\", \"Topic3\", \"Topic3\", \"Topic3\", \"Topic3\", \"Topic3\", \"Topic3\", \"Topic3\", \"Topic3\", \"Topic3\", \"Topic3\", \"Topic3\", \"Topic3\", \"Topic3\", \"Topic3\", \"Topic3\", \"Topic3\", \"Topic3\", \"Topic3\", \"Topic3\", \"Topic3\", \"Topic3\", \"Topic3\", \"Topic3\", \"Topic3\", \"Topic3\", \"Topic3\", \"Topic3\", \"Topic3\", \"Topic3\", \"Topic3\", \"Topic3\", \"Topic3\", \"Topic3\", \"Topic3\", \"Topic3\", \"Topic3\", \"Topic3\", \"Topic3\", \"Topic3\", \"Topic3\", \"Topic3\", \"Topic3\", \"Topic3\", \"Topic3\", \"Topic3\", \"Topic3\", \"Topic3\", \"Topic4\", \"Topic4\", \"Topic4\", \"Topic4\", \"Topic4\", \"Topic4\", \"Topic4\", \"Topic4\", \"Topic4\", \"Topic4\", \"Topic4\", \"Topic4\", \"Topic4\", \"Topic4\", \"Topic4\", \"Topic4\", \"Topic4\", \"Topic4\", \"Topic4\", \"Topic4\", \"Topic4\", \"Topic4\", \"Topic4\", \"Topic4\", \"Topic4\", \"Topic4\", \"Topic4\", \"Topic4\", \"Topic4\", \"Topic4\", \"Topic4\", \"Topic4\", \"Topic4\", \"Topic4\", \"Topic4\", \"Topic4\", \"Topic4\", \"Topic4\", \"Topic4\", \"Topic4\", \"Topic4\", \"Topic4\", \"Topic4\", \"Topic4\", \"Topic4\", \"Topic4\", \"Topic4\", \"Topic4\", \"Topic4\", \"Topic4\", \"Topic4\", \"Topic4\", \"Topic4\", \"Topic4\", \"Topic4\", \"Topic4\", \"Topic4\", \"Topic4\", \"Topic4\", \"Topic4\", \"Topic4\", \"Topic4\", \"Topic4\", \"Topic4\", \"Topic4\", \"Topic4\", \"Topic4\", \"Topic5\", \"Topic5\", \"Topic5\", \"Topic5\", \"Topic5\", \"Topic5\", \"Topic5\", \"Topic5\", \"Topic5\", \"Topic5\", \"Topic5\", \"Topic5\", \"Topic5\", \"Topic5\", \"Topic5\", \"Topic5\", \"Topic5\", \"Topic5\", \"Topic5\", \"Topic5\", \"Topic5\", \"Topic5\", \"Topic5\", \"Topic5\", \"Topic5\", \"Topic5\", \"Topic5\", \"Topic5\", \"Topic5\", \"Topic5\", \"Topic5\", \"Topic5\", \"Topic5\", \"Topic5\", \"Topic5\", \"Topic5\", \"Topic5\", \"Topic5\", \"Topic5\", \"Topic5\", \"Topic5\", \"Topic5\", \"Topic5\", \"Topic5\", \"Topic5\", \"Topic5\", \"Topic5\", \"Topic5\", \"Topic5\", \"Topic5\", \"Topic5\", \"Topic5\", \"Topic5\", \"Topic5\", \"Topic5\", \"Topic5\", \"Topic5\", \"Topic5\", \"Topic5\", \"Topic5\", \"Topic5\", \"Topic5\", \"Topic5\", \"Topic5\", \"Topic5\", \"Topic6\", \"Topic6\", \"Topic6\", \"Topic6\", \"Topic6\", \"Topic6\", \"Topic6\", \"Topic6\", \"Topic6\", \"Topic6\", \"Topic6\", \"Topic6\", \"Topic6\", \"Topic6\", \"Topic6\", \"Topic6\", \"Topic6\", \"Topic6\", \"Topic6\", \"Topic6\", \"Topic6\", \"Topic6\", \"Topic6\", \"Topic6\", \"Topic6\", \"Topic6\", \"Topic6\", \"Topic6\", \"Topic6\", \"Topic6\", \"Topic6\", \"Topic6\", \"Topic6\", \"Topic6\", \"Topic6\", \"Topic6\", \"Topic6\", \"Topic6\", \"Topic6\", \"Topic6\", \"Topic6\", \"Topic6\", \"Topic6\", \"Topic6\", \"Topic6\", \"Topic6\", \"Topic6\", \"Topic6\", \"Topic6\", \"Topic6\", \"Topic6\", \"Topic6\", \"Topic6\", \"Topic6\", \"Topic6\", \"Topic6\", \"Topic6\", \"Topic6\", \"Topic6\", \"Topic6\", \"Topic6\", \"Topic7\", \"Topic7\", \"Topic7\", \"Topic7\", \"Topic7\", \"Topic7\", \"Topic7\", \"Topic7\", \"Topic7\", \"Topic7\", \"Topic7\", \"Topic7\", \"Topic7\", \"Topic7\", \"Topic7\", \"Topic7\", \"Topic7\", \"Topic7\", \"Topic7\", \"Topic7\", \"Topic7\", \"Topic7\", \"Topic7\", \"Topic7\", \"Topic7\", \"Topic7\", \"Topic7\", \"Topic7\", \"Topic7\", \"Topic7\", \"Topic7\", \"Topic7\", \"Topic7\", \"Topic7\", \"Topic7\", \"Topic7\", \"Topic7\", \"Topic7\", \"Topic7\", \"Topic7\", \"Topic7\", \"Topic7\", \"Topic7\", \"Topic7\", \"Topic7\", \"Topic7\", \"Topic7\", \"Topic7\", \"Topic7\", \"Topic7\", \"Topic7\", \"Topic7\", \"Topic7\", \"Topic7\", \"Topic7\", \"Topic7\", \"Topic7\", \"Topic7\", \"Topic7\", \"Topic7\", \"Topic7\", \"Topic7\", \"Topic7\", \"Topic7\", \"Topic7\", \"Topic8\", \"Topic8\", \"Topic8\", \"Topic8\", \"Topic8\", \"Topic8\", \"Topic8\", \"Topic8\", \"Topic8\", \"Topic8\", \"Topic8\", \"Topic8\", \"Topic8\", \"Topic8\", \"Topic8\", \"Topic8\", \"Topic8\", \"Topic8\", \"Topic8\", \"Topic8\", \"Topic8\", \"Topic8\", \"Topic8\", \"Topic8\", \"Topic8\", \"Topic8\", \"Topic8\", \"Topic8\", \"Topic8\", \"Topic8\", \"Topic8\", \"Topic8\", \"Topic8\", \"Topic8\", \"Topic8\", \"Topic8\", \"Topic8\", \"Topic8\", \"Topic8\", \"Topic8\", \"Topic8\", \"Topic8\", \"Topic8\", \"Topic8\", \"Topic8\", \"Topic8\", \"Topic8\", \"Topic8\", \"Topic8\", \"Topic8\", \"Topic8\", \"Topic8\", \"Topic8\", \"Topic8\", \"Topic8\", \"Topic8\", \"Topic8\", \"Topic8\", \"Topic8\", \"Topic8\", \"Topic8\", \"Topic8\", \"Topic8\", \"Topic8\", \"Topic8\", \"Topic8\", \"Topic8\", \"Topic9\", \"Topic9\", \"Topic9\", \"Topic9\", \"Topic9\", \"Topic9\", \"Topic9\", \"Topic9\", \"Topic9\", \"Topic9\", \"Topic9\", \"Topic9\", \"Topic9\", \"Topic9\", \"Topic9\", \"Topic9\", \"Topic9\", \"Topic9\", \"Topic9\", \"Topic9\", \"Topic9\", \"Topic9\", \"Topic9\", \"Topic9\", \"Topic9\", \"Topic9\", \"Topic9\", \"Topic9\", \"Topic9\", \"Topic9\", \"Topic9\", \"Topic9\", \"Topic9\", \"Topic9\", \"Topic9\", \"Topic9\", \"Topic9\", \"Topic9\", \"Topic9\", \"Topic9\", \"Topic9\", \"Topic9\", \"Topic9\", \"Topic9\", \"Topic9\", \"Topic9\", \"Topic9\", \"Topic9\", \"Topic9\", \"Topic9\", \"Topic9\", \"Topic9\", \"Topic9\", \"Topic9\", \"Topic9\", \"Topic9\", \"Topic9\", \"Topic9\", \"Topic9\", \"Topic9\", \"Topic9\", \"Topic9\", \"Topic9\", \"Topic9\", \"Topic9\", \"Topic9\", \"Topic10\", \"Topic10\", \"Topic10\", \"Topic10\", \"Topic10\", \"Topic10\", \"Topic10\", \"Topic10\", \"Topic10\", \"Topic10\", \"Topic10\", \"Topic10\", \"Topic10\", \"Topic10\", \"Topic10\", \"Topic10\", \"Topic10\", \"Topic10\", \"Topic10\", \"Topic10\", \"Topic10\", \"Topic10\", \"Topic10\", \"Topic10\", \"Topic10\", \"Topic10\", \"Topic10\", \"Topic10\", \"Topic10\", \"Topic10\", \"Topic10\", \"Topic10\", \"Topic10\", \"Topic10\", \"Topic10\", \"Topic10\", \"Topic10\", \"Topic10\", \"Topic10\", \"Topic10\", \"Topic10\", \"Topic10\", \"Topic10\", \"Topic10\", \"Topic10\", \"Topic10\", \"Topic10\", \"Topic10\", \"Topic10\", \"Topic10\", \"Topic10\", \"Topic10\", \"Topic10\", \"Topic10\", \"Topic10\", \"Topic10\", \"Topic10\", \"Topic10\", \"Topic10\", \"Topic10\", \"Topic10\", \"Topic10\", \"Topic11\", \"Topic11\", \"Topic11\", \"Topic11\", \"Topic11\", \"Topic11\", \"Topic11\", \"Topic11\", \"Topic11\", \"Topic11\", \"Topic11\", \"Topic11\", \"Topic11\", \"Topic11\", \"Topic11\", \"Topic11\", \"Topic11\", \"Topic11\", \"Topic11\", \"Topic11\", \"Topic11\", \"Topic11\", \"Topic11\", \"Topic11\", \"Topic11\", \"Topic11\", \"Topic11\", \"Topic11\", \"Topic11\", \"Topic11\", \"Topic11\", \"Topic11\", \"Topic11\", \"Topic11\", \"Topic11\", \"Topic11\", \"Topic11\", \"Topic11\", \"Topic11\", \"Topic11\", \"Topic11\", \"Topic11\", \"Topic11\", \"Topic11\", \"Topic11\", \"Topic11\", \"Topic11\", \"Topic11\", \"Topic11\", \"Topic11\", \"Topic11\", \"Topic11\", \"Topic11\", \"Topic11\", \"Topic11\", \"Topic11\", \"Topic11\", \"Topic11\", \"Topic11\", \"Topic11\", \"Topic11\", \"Topic11\", \"Topic11\", \"Topic11\", \"Topic11\", \"Topic11\", \"Topic11\", \"Topic11\", \"Topic11\", \"Topic11\", \"Topic11\", \"Topic12\", \"Topic12\", \"Topic12\", \"Topic12\", \"Topic12\", \"Topic12\", \"Topic12\", \"Topic12\", \"Topic12\", \"Topic12\", \"Topic12\", \"Topic12\", \"Topic12\", \"Topic12\", \"Topic12\", \"Topic12\", \"Topic12\", \"Topic12\", \"Topic12\", \"Topic12\", \"Topic12\", \"Topic12\", \"Topic12\", \"Topic12\", \"Topic12\", \"Topic12\", \"Topic12\", \"Topic12\", \"Topic12\", \"Topic12\", \"Topic12\", \"Topic12\", \"Topic12\", \"Topic12\", \"Topic12\", \"Topic12\", \"Topic12\", \"Topic12\", \"Topic12\", \"Topic12\", \"Topic12\", \"Topic12\", \"Topic12\", \"Topic12\", \"Topic12\", \"Topic12\", \"Topic12\", \"Topic12\", \"Topic12\", \"Topic12\", \"Topic12\", \"Topic12\", \"Topic12\", \"Topic12\", \"Topic12\", \"Topic12\", \"Topic12\", \"Topic12\", \"Topic12\", \"Topic12\", \"Topic13\", \"Topic13\", \"Topic13\", \"Topic13\", \"Topic13\", \"Topic13\", \"Topic13\", \"Topic13\", \"Topic13\", \"Topic13\", \"Topic13\", \"Topic13\", \"Topic13\", \"Topic13\", \"Topic13\", \"Topic13\", \"Topic13\", \"Topic13\", \"Topic13\", \"Topic13\", \"Topic13\", \"Topic13\", \"Topic13\", \"Topic13\", \"Topic13\", \"Topic13\", \"Topic13\", \"Topic13\", \"Topic13\", \"Topic13\", \"Topic13\", \"Topic13\", \"Topic13\", \"Topic13\", \"Topic13\", \"Topic13\", \"Topic13\", \"Topic13\", \"Topic13\", \"Topic13\", \"Topic13\", \"Topic13\", \"Topic13\", \"Topic13\", \"Topic13\", \"Topic13\", \"Topic13\", \"Topic13\", \"Topic13\", \"Topic13\", \"Topic13\", \"Topic13\", \"Topic13\", \"Topic13\", \"Topic13\", \"Topic13\", \"Topic13\", \"Topic13\", \"Topic13\", \"Topic13\", \"Topic13\", \"Topic13\", \"Topic14\", \"Topic14\", \"Topic14\", \"Topic14\", \"Topic14\", \"Topic14\", \"Topic14\", \"Topic14\", \"Topic14\", \"Topic14\", \"Topic14\", \"Topic14\", \"Topic14\", \"Topic14\", \"Topic14\", \"Topic14\", \"Topic14\", \"Topic14\", \"Topic14\", \"Topic14\", \"Topic14\", \"Topic14\", \"Topic14\", \"Topic14\", \"Topic14\", \"Topic14\", \"Topic14\", \"Topic14\", \"Topic14\", \"Topic14\", \"Topic14\", \"Topic14\", \"Topic14\", \"Topic14\", \"Topic14\", \"Topic14\", \"Topic14\", \"Topic14\", \"Topic14\", \"Topic14\", \"Topic14\", \"Topic14\", \"Topic14\", \"Topic14\", \"Topic14\", \"Topic14\", \"Topic14\", \"Topic14\", \"Topic14\", \"Topic14\", \"Topic14\", \"Topic14\", \"Topic14\", \"Topic14\", \"Topic14\", \"Topic14\", \"Topic14\", \"Topic14\", \"Topic14\", \"Topic14\", \"Topic14\", \"Topic14\", \"Topic14\", \"Topic14\", \"Topic14\", \"Topic14\", \"Topic14\", \"Topic14\", \"Topic14\", \"Topic14\", \"Topic14\", \"Topic14\", \"Topic15\", \"Topic15\", \"Topic15\", \"Topic15\", \"Topic15\", \"Topic15\", \"Topic15\", \"Topic15\", \"Topic15\", \"Topic15\", \"Topic15\", \"Topic15\", \"Topic15\", \"Topic15\", \"Topic15\", \"Topic15\", \"Topic15\", \"Topic15\", \"Topic15\", \"Topic15\", \"Topic15\", \"Topic15\", \"Topic15\", \"Topic15\", \"Topic15\", \"Topic15\", \"Topic15\", \"Topic15\", \"Topic15\", \"Topic15\", \"Topic15\", \"Topic15\", \"Topic15\", \"Topic15\", \"Topic15\", \"Topic15\", \"Topic15\", \"Topic15\", \"Topic15\", \"Topic15\", \"Topic15\", \"Topic15\", \"Topic15\", \"Topic15\", \"Topic15\", \"Topic15\", \"Topic15\", \"Topic15\", \"Topic15\", \"Topic15\", \"Topic15\", \"Topic15\", \"Topic15\", \"Topic15\", \"Topic15\", \"Topic15\", \"Topic15\", \"Topic15\", \"Topic15\", \"Topic15\", \"Topic15\", \"Topic15\", \"Topic15\", \"Topic15\", \"Topic15\", \"Topic15\", \"Topic15\", \"Topic15\", \"Topic15\", \"Topic15\", \"Topic15\", \"Topic15\"], \"logprob\": [30.0, 29.0, 28.0, 27.0, 26.0, 25.0, 24.0, 23.0, 22.0, 21.0, 20.0, 19.0, 18.0, 17.0, 16.0, 15.0, 14.0, 13.0, 12.0, 11.0, 10.0, 9.0, 8.0, 7.0, 6.0, 5.0, 4.0, 3.0, 2.0, 1.0, -5.79640007019043, -5.262499809265137, -5.393499851226807, -6.196800231933594, -5.907899856567383, -6.0447001457214355, -6.240200042724609, -6.8140997886657715, -5.292799949645996, -6.1244001388549805, -6.1244001388549805, -6.1244001388549805, -6.1244001388549805, -6.240799903869629, -6.845900058746338, -7.154200077056885, -5.418799877166748, -6.254499912261963, -6.370800018310547, -6.731299877166748, -6.89739990234375, -6.151000022888184, -6.657299995422363, -5.419000148773193, -7.160600185394287, -7.390100002288818, -7.171599864959717, -7.171599864959717, -6.7006001472473145, -6.427299976348877, -5.451099872589111, -5.268700122833252, -6.134399890899658, -6.134399890899658, -4.7779998779296875, -4.569399833679199, -5.903900146484375, -4.5278000831604, -5.58650016784668, -5.58650016784668, -4.615099906921387, -4.908299922943115, -4.195000171661377, -4.809299945831299, -4.7453999519348145, -4.926000118255615, -4.833499908447266, -5.420499801635742, -4.756999969482422, -4.083600044250488, -4.34499979019165, -4.917300224304199, -4.60830020904541, -5.260499954223633, -5.660900115966797, -5.636300086975098, -5.019899845123291, -4.923699855804443, -4.886199951171875, -4.842700004577637, -4.9604997634887695, -5.068900108337402, -5.02370023727417, -4.9506001472473145, -5.1570000648498535, -5.090000152587891, -5.0903000831604, -5.188199996948242, -6.055500030517578, -6.097700119018555, -6.1143999099731445, -6.187900066375732, -6.207499980926514, -5.9720001220703125, -6.644000053405762, -5.8246002197265625, -5.53849983215332, -5.540599822998047, -5.540599822998047, -5.540599822998047, -5.497600078582764, -6.157700061798096, -6.138800144195557, -6.045499801635742, -6.026199817657471, -6.644400119781494, -5.562099933624268, -6.348299980163574, -6.5391998291015625, -6.061399936676025, -6.061399936676025, -5.771699905395508, -6.270400047302246, -6.804200172424316, -6.596399784088135, -6.596399784088135, -5.989500045776367, -5.975100040435791, -5.8394999504089355, -6.038000106811523, -6.05109977722168, -5.6483001708984375, -5.797599792480469, -5.340099811553955, -5.586599826812744, -4.336599826812744, -5.7017998695373535, -5.245100021362305, -5.310200214385986, -5.44890022277832, -5.696000099182129, -5.3881001472473145, -4.86929988861084, -4.451900005340576, -4.700500011444092, -5.251299858093262, -4.887700080871582, -5.344799995422363, -5.05709981918335, -4.872700214385986, -5.4095001220703125, -5.598599910736084, -4.895899772644043, -5.359799861907959, -4.9756999015808105, -5.164700031280518, -5.065100193023682, -5.13670015335083, -5.3506999015808105, -5.331999778747559, -5.3003997802734375, -5.360099792480469, -5.3491997718811035, -5.416500091552734, -5.4807000160217285, -5.500400066375732, -3.96560001373291, -4.6605000495910645, -6.265999794006348, -4.6194000244140625, -4.594900131225586, -5.355500221252441, -6.870699882507324, -6.870699882507324, -4.928599834442139, -4.932600021362305, -4.246399879455566, -5.361499786376953, -7.126399993896484, -7.153299808502197, -6.6722002029418945, -6.236100196838379, -6.069499969482422, -6.486199855804443, -6.486199855804443, -6.282199859619141, -6.282199859619141, -7.223299980163574, -6.9085001945495605, -6.9085001945495605, -6.9085001945495605, -6.9085001945495605, -6.093500137329102, -4.925300121307373, -7.081200122833252, -6.866000175476074, -4.9695000648498535, -3.910099983215332, -5.297999858856201, -3.4856998920440674, -6.3053998947143555, -4.704400062561035, -6.421500205993652, -3.8919999599456787, -4.637499809265137, -3.951900005340576, -4.178699970245361, -4.9293999671936035, -4.146299839019775, -4.97130012512207, -4.539100170135498, -4.905700206756592, -4.964000225067139, -4.7870001792907715, -5.35830020904541, -4.854300022125244, -5.085299968719482, -5.390500068664551, -5.114500045776367, -5.094200134277344, -5.0447001457214355, -5.154799938201904, -5.1682000160217285, -6.088099956512451, -6.484399795532227, -4.612500190734863, -5.584700107574463, -6.382500171661377, -5.914400100708008, -6.940499782562256, -5.365600109100342, -5.365600109100342, -5.365600109100342, -5.365600109100342, -5.365600109100342, -5.305500030517578, -6.333099842071533, -4.721199989318848, -6.912700176239014, -6.912700176239014, -6.912700176239014, -6.421000003814697, -6.421000003814697, -6.421000003814697, -6.835599899291992, -6.835599899291992, -6.835599899291992, -6.835599899291992, -6.835599899291992, -6.835599899291992, -6.50029993057251, -6.637199878692627, -6.637199878692627, -5.393099784851074, -6.181399822235107, -4.633800029754639, -5.995699882507324, -4.768499851226807, -5.577000141143799, -4.459000110626221, -4.746200084686279, -4.3653998374938965, -5.422500133514404, -6.376999855041504, -4.38129997253418, -4.2245001792907715, -4.42140007019043, -5.209700107574463, -5.523200035095215, -4.695099830627441, -4.173900127410889, -5.0441999435424805, -4.417300224304199, -4.583199977874756, -5.405099868774414, -4.508699893951416, -5.31689977645874, -4.729000091552734, -4.700699806213379, -4.6844000816345215, -4.652699947357178, -4.734399795532227, -4.8094000816345215, -4.934100151062012, -5.112199783325195, -5.190899848937988, -5.122499942779541, -5.170499801635742, -5.220200061798096, -5.303400039672852, -5.388599872589111, -6.373300075531006, -5.690299987792969, -5.527900218963623, -5.527900218963623, -5.527900218963623, -6.1743998527526855, -5.537300109863281, -6.682600021362305, -5.546199798583984, -5.546199798583984, -6.396699905395508, -5.963500022888184, -6.736400127410889, -6.736400127410889, -6.736400127410889, -6.736400127410889, -5.101200103759766, -5.114299774169922, -5.114299774169922, -7.0346999168396, -7.071000099182129, -5.642600059509277, -7.080900192260742, -6.219699859619141, -6.219699859619141, -6.44290018081665, -6.44290018081665, -5.4994001388549805, -5.4994001388549805, -5.133500099182129, -5.129799842834473, -4.169400215148926, -5.1381001472473145, -5.1381001472473145, -5.152299880981445, -5.958600044250488, -5.5584001541137695, -5.707099914550781, -5.714000225067139, -5.714000225067139, -5.714000225067139, -5.4232001304626465, -5.645899772644043, -4.41540002822876, -4.781000137329102, -4.815199851989746, -4.7108001708984375, -4.576300144195557, -5.093400001525879, -4.75600004196167, -5.0040998458862305, -4.948999881744385, -5.014599800109863, -4.893499851226807, -5.11929988861084, -5.18720006942749, -5.037099838256836, -5.129000186920166, -5.087800025939941, -5.166299819946289, -5.32859992980957, -5.30109977722168, -5.3308000564575195, -5.304699897766113, -3.930999994277954, -6.521500110626221, -5.263800144195557, -4.019499778747559, -6.847799777984619, -6.189700126647949, -5.0432000160217285, -4.623600006103516, -6.750500202178955, -6.750500202178955, -5.72189998626709, -6.105999946594238, -7.092800140380859, -4.511199951171875, -6.172800064086914, -6.446000099182129, -6.356400012969971, -6.949999809265137, -6.949999809265137, -6.949999809265137, -6.321899890899658, -7.20419979095459, -7.214200019836426, -6.401700019836426, -6.702199935913086, -6.702199935913086, -6.690899848937988, -6.690899848937988, -7.301300048828125, -7.301300048828125, -7.301300048828125, -4.500500202178955, -4.656000137329102, -5.816100120544434, -5.688700199127197, -3.858799934387207, -4.157800197601318, -6.44320011138916, -4.7170000076293945, -4.759799957275391, -4.757999897003174, -6.317999839782715, -6.032599925994873, -4.2179999351501465, -5.462800025939941, -4.828499794006348, -4.707200050354004, -4.771599769592285, -4.743800163269043, -4.70989990234375, -4.626500129699707, -4.686699867248535, -4.781099796295166, -4.477799892425537, -4.653200149536133, -5.24459981918335, -5.054699897766113, -5.429299831390381, -5.163099765777588, -5.504199981689453, -5.469900131225586, -6.279200077056885, -6.2027997970581055, -6.554299831390381, -6.961599826812744, -7.013999938964844, -6.1178998947143555, -6.226099967956543, -6.489999771118164, -6.126399993896484, -5.046800136566162, -6.1280999183654785, -6.6350998878479, -7.0858001708984375, -5.668499946594238, -6.397299766540527, -6.724699974060059, -7.171500205993652, -6.243599891662598, -6.979800224304199, -7.19189977645874, -5.5503997802734375, -6.93209981918335, -6.802199840545654, -6.537899971008301, -4.473400115966797, -5.505899906158447, -6.440299987792969, -7.010799884796143, -5.9583001136779785, -5.967199802398682, -4.504700183868408, -5.076099872589111, -6.329899787902832, -5.586299896240234, -4.508900165557861, -5.718500137329102, -4.453400135040283, -5.638199806213379, -4.684299945831299, -5.345099925994873, -4.608099937438965, -5.646999835968018, -4.430600166320801, -4.362500190734863, -5.0980000495910645, -4.382599830627441, -5.192200183868408, -4.555300235748291, -4.725200176239014, -5.324399948120117, -4.637499809265137, -4.832499980926514, -5.121699810028076, -5.339600086212158, -5.152699947357178, -5.096099853515625, -5.215000152587891, -5.2530999183654785, -5.27370023727417, -5.228899955749512, -5.250800132751465, -5.263400077819824, -5.241300106048584, -5.243100166320801, -5.294899940490723, -6.316100120544434, -6.473100185394287, -6.539899826049805, -6.539899826049805, -5.628200054168701, -6.526700019836426, -6.520100116729736, -6.15749979019165, -6.15749979019165, -5.206099987030029, -5.206099987030029, -6.475200176239014, -6.475200176239014, -5.777599811553955, -6.03879976272583, -6.161099910736084, -5.189300060272217, -6.085899829864502, -6.243899822235107, -7.103600025177002, -6.19379997253418, -6.654099941253662, -5.813899993896484, -7.136899948120117, -6.408199787139893, -6.813399791717529, -7.208199977874756, -7.008500099182129, -7.008500099182129, -7.008500099182129, -3.653599977493286, -5.2540998458862305, -3.858599901199341, -6.5929999351501465, -4.402599811553955, -6.4019999504089355, -4.7778000831604, -5.3246002197265625, -4.298799991607666, -4.152100086212158, -4.501100063323975, -4.947500228881836, -5.082099914550781, -5.237500190734863, -5.692299842834473, -5.343100070953369, -5.321300029754639, -4.605199813842773, -5.23199987411499, -4.935500144958496, -5.201700210571289, -4.978499889373779, -4.585299968719482, -5.132999897003174, -5.474100112915039, -5.044300079345703, -4.80810022354126, -4.928699970245361, -5.023600101470947, -5.126699924468994, -5.028200149536133, -4.98330020904541, -4.999800205230713, -5.066500186920166, -5.098999977111816, -5.173500061035156, -5.198599815368652, -3.184499979019165, -5.664599895477295, -5.896699905395508, -5.896699905395508, -6.360300064086914, -5.743000030517578, -5.567299842834473, -6.232100009918213, -5.57450008392334, -6.980500221252441, -5.65880012512207, -7.015900135040283, -5.51230001449585, -7.044899940490723, -5.5559000968933105, -6.348199844360352, -6.429100036621094, -6.337600231170654, -6.337600231170654, -6.338399887084961, -5.631400108337402, -7.188700199127197, -4.930799961090088, -6.757299900054932, -7.275199890136719, -7.060100078582764, -6.969900131225586, -6.969900131225586, -6.969900131225586, -6.969900131225586, -5.73799991607666, -6.5329999923706055, -6.1381001472473145, -4.3871002197265625, -5.649700164794922, -5.632400035858154, -4.453999996185303, -4.563799858093262, -4.474400043487549, -6.102099895477295, -5.528200149536133, -4.387400150299072, -4.6707000732421875, -4.5096001625061035, -4.641200065612793, -4.7600998878479, -4.72160005569458, -4.922500133514404, -4.5619001388549805, -4.8643999099731445, -4.951499938964844, -4.889100074768066, -4.864699840545654, -5.121399879455566, -5.182300090789795, -5.035799980163574, -5.128200054168701, -5.214000225067139, -5.4527997970581055, -5.35890007019043, -5.281799793243408, -5.302199840545654, -5.321499824523926, -5.38070011138916, -5.446400165557861, -5.452499866485596, -5.569200038909912, -6.193299770355225, -6.193299770355225, -6.193299770355225, -5.848700046539307, -5.905099868774414, -5.905099868774414, -5.905099868774414, -5.905099868774414, -5.905099868774414, -5.905099868774414, -5.85129976272583, -5.85129976272583, -5.85129976272583, -5.859399795532227, -6.664599895477295, -6.3557000160217285, -5.10230016708374, -6.313399791717529, -5.819900035858154, -5.819900035858154, -5.603600025177002, -6.583199977874756, -5.541600227355957, -6.877500057220459, -5.512599945068359, -5.512599945068359, -5.638199806213379, -5.522799968719482, -5.843400001525879, -4.268799781799316, -5.5507001876831055, -5.085899829864502, -4.69920015335083, -5.384699821472168, -4.525400161743164, -4.138999938964844, -4.635700225830078, -4.515399932861328, -4.327899932861328, -4.8643999099731445, -5.430799961090088, -5.462800025939941, -5.696000099182129, -4.9903998374938965, -4.536600112915039, -5.051400184631348, -4.700099945068359, -5.0619001388549805, -5.138500213623047, -5.161399841308594, -4.994800090789795, -5.165200233459473, -5.020699977874756, -5.199100017547607, -5.100599765777588, -5.172100067138672, -5.143799781799316, -5.2947998046875, -5.342400074005127, -5.3582000732421875, -5.408999919891357, -5.835999965667725, -6.164100170135498, -6.277200222015381, -5.5254998207092285, -6.987299919128418, -6.987299919128418, -6.987299919128418, -6.999100208282471, -6.999100208282471, -6.170400142669678, -6.170400142669678, -5.499899864196777, -6.183700084686279, -6.729400157928467, -6.615499973297119, -6.577899932861328, -6.802999973297119, -6.361000061035156, -6.390900135040283, -6.752299785614014, -6.752299785614014, -5.1996002197265625, -7.014800071716309, -7.3003997802734375, -7.302800178527832, -7.036399841308594, -6.515200138092041, -6.2519001960754395, -7.331500053405762, -7.348700046539307, -6.037799835205078, -6.961299896240234, -5.600399971008301, -5.986299991607666, -5.986299991607666, -4.827899932861328, -4.8094000816345215, -5.800600051879883, -5.701300144195557, -5.051499843597412, -5.7515997886657715, -6.382299900054932, -5.454400062561035, -5.160399913787842, -4.898600101470947, -5.259399890899658, -4.909900188446045, -4.76039981842041, -4.697000026702881, -5.402500152587891, -5.19189977645874, -5.040599822998047, -4.805799961090088, -4.712600231170654, -4.933300018310547, -5.12470006942749, -5.26170015335083, -5.251699924468994, -5.173799991607666, -5.21120023727417, -5.537899971008301, -5.292399883270264, -5.184100151062012, -5.205100059509277, -5.107800006866455, -5.175099849700928, -5.233699798583984, -5.311699867248535, -5.3302001953125, -5.351600170135498, -5.394800186157227, -5.732900142669678, -5.965000152587891, -5.409200191497803, -5.746200084686279, -5.524600028991699, -6.060200214385986, -6.1280999183654785, -5.500899791717529, -5.085299968719482, -6.247900009155273, -6.247900009155273, -6.131499767303467, -6.8302001953125, -6.401299953460693, -6.908100128173828, -6.912700176239014, -7.078999996185303, -4.329999923706055, -5.122200012207031, -6.663899898529053, -6.663899898529053, -6.439899921417236, -6.5640997886657715, -6.250500202178955, -6.6753997802734375, -5.112199783325195, -6.475500106811523, -7.158199787139893, -6.593599796295166, -5.9070000648498535, -6.451499938964844, -5.332699775695801, -5.123799800872803, -5.644700050354004, -4.908199787139893, -4.423799991607666, -4.031199932098389, -5.430600166320801, -5.185100078582764, -3.594599962234497, -5.940400123596191, -5.340799808502197, -4.604000091552734, -5.138199806213379, -4.605800151824951, -4.707399845123291, -5.276000022888184, -4.597400188446045, -4.559500217437744, -4.886199951171875, -4.901100158691406, -5.11460018157959, -4.984099864959717, -5.087900161743164, -5.242700099945068, -5.2778000831604, -5.292099952697754, -5.333000183105469, -5.346499919891357, -5.408299922943115, -5.197500228881836, -5.264599800109863, -6.074100017547607, -5.171999931335449, -6.493599891662598, -4.640900135040283, -5.16349983215332, -6.3942999839782715, -6.145500183105469, -6.7480998039245605, -4.697400093078613, -6.804800033569336, -6.31279993057251, -6.496500015258789, -6.600399971008301, -6.600399971008301, -6.600399971008301, -6.600399971008301, -6.600399971008301, -6.600399971008301, -6.600399971008301, -5.413700103759766, -6.93149995803833, -6.93149995803833, -6.93149995803833, -5.998899936676025, -6.513000011444092, -6.260799884796143, -5.392199993133545, -6.5192999839782715, -4.167099952697754, -5.203000068664551, -3.8571999073028564, -4.249100208282471, -3.172600030899048, -5.629199981689453, -5.811399936676025, -4.1579999923706055, -5.664299964904785, -5.38700008392334, -4.514999866485596, -5.856200218200684, -4.786399841308594, -5.5472002029418945, -4.765100002288818, -5.087299823760986, -4.6442999839782715, -5.741499900817871, -4.650300025939941, -5.534800052642822, -4.5278000831604, -5.09089994430542, -4.952499866485596, -4.999000072479248, -4.825200080871582, -5.013700008392334, -5.0447998046875, -5.113900184631348, -5.305500030517578, -5.212399959564209, -5.29010009765625, -5.343400001525879, -5.851200103759766, -5.898099899291992, -6.07450008392334, -5.951399803161621, -5.503900051116943, -5.9095001220703125, -5.262199878692627, -5.73390007019043, -5.73390007019043, -6.968100070953369, -6.804299831390381, -7.098899841308594, -7.12529993057251, -7.12529993057251, -6.236700057983398, -7.195199966430664, -6.809500217437744, -6.70419979095459, -6.70419979095459, -6.938799858093262, -7.230100154876709, -7.2606000900268555, -6.354000091552734, -6.44189977645874, -6.824900150299072, -7.011000156402588, -7.011000156402588, -7.290900230407715, -6.222099781036377, -7.016600131988525, -6.698400020599365, -5.911600112915039, -6.449100017547607, -4.812900066375732, -5.898200035095215, -5.52839994430542, -5.606900215148926, -5.232100009918213, -5.458799839019775, -5.6427001953125, -5.491700172424316, -5.684299945831299, -5.3354997634887695, -4.713399887084961, -5.922100067138672, -5.451499938964844, -4.648799896240234, -5.0802998542785645, -5.779099941253662, -4.71120023727417, -4.880499839782715, -5.185200214385986, -4.747300148010254, -5.027500152587891, -4.876399993896484, -4.827899932861328, -5.101900100708008, -4.826300144195557, -5.128200054168701, -5.091000080108643, -5.055099964141846, -5.329599857330322, -5.246799945831299, -5.2170000076293945, -5.221199989318848, -5.536399841308594, -5.36899995803833, -5.323299884796143, -5.358799934387207, -5.399099826812744, -5.403200149536133, -5.4532999992370605, -5.9857001304626465, -6.171800136566162, -6.171800136566162, -6.322000026702881, -5.480800151824951, -6.577000141143799, -6.108399868011475, -5.301000118255615, -6.770899772644043, -5.451200008392334, -7.017199993133545, -6.8180999755859375, -6.8180999755859375, -6.8180999755859375, -6.329599857330322, -6.246699810028076, -5.547699928283691, -5.789299964904785, -6.623499870300293, -6.324900150299072, -7.192800045013428, -6.848499774932861, -6.641300201416016, -5.605599880218506, -7.075200080871582, -7.075200080871582, -7.075200080871582, -7.075200080871582, -7.075200080871582, -7.075200080871582, -6.807499885559082, -6.674600124359131, -6.017899990081787, -4.097700119018555, -4.150100231170654, -6.190700054168701, -6.21999979019165, -4.721399784088135, -5.933300018310547, -6.324900150299072, -4.849299907684326, -5.04640007019043, -5.883800029754639, -6.122300148010254, -5.874499797821045, -5.039700031280518, -4.791100025177002, -4.906199932098389, -4.400400161743164, -5.429500102996826, -5.8404998779296875, -5.071700096130371, -5.031400203704834, -5.067500114440918, -5.082699775695801, -5.471700191497803, -5.478000164031982, -5.010300159454346, -5.275700092315674, -5.207300186157227, -5.226600170135498, -5.209499835968018, -5.117800235748291, -5.263999938964844, -5.396100044250488, -5.2692999839782715, -5.337900161743164, -5.347499847412109, -5.3744001388549805, -5.4116997718811035, -5.439700126647949, -5.44920015335083], \"loglift\": [30.0, 29.0, 28.0, 27.0, 26.0, 25.0, 24.0, 23.0, 22.0, 21.0, 20.0, 19.0, 18.0, 17.0, 16.0, 15.0, 14.0, 13.0, 12.0, 11.0, 10.0, 9.0, 8.0, 7.0, 6.0, 5.0, 4.0, 3.0, 2.0, 1.0, 2.1874001026153564, 2.0373001098632812, 2.0123000144958496, 2.0016000270843506, 1.9803999662399292, 1.9703999757766724, 1.9660999774932861, 1.9594999551773071, 1.9484000205993652, 1.9359999895095825, 1.9359999895095825, 1.9359999895095825, 1.9359999895095825, 1.9345999956130981, 1.9005999565124512, 1.8932000398635864, 1.8720999956130981, 1.871899962425232, 1.8698999881744385, 1.8697999715805054, 1.8681000471115112, 1.8675999641418457, 1.8624999523162842, 1.818600058555603, 1.7955000400543213, 1.7798000574111938, 1.774899959564209, 1.774899959564209, 1.7726000547409058, 1.7653000354766846, 1.71589994430542, 1.7027000188827515, 1.7359999418258667, 1.7359999418258667, 1.6373000144958496, 1.5800000429153442, 1.7095999717712402, 1.531599998474121, 1.6390000581741333, 1.6390000581741333, 1.3579000234603882, 1.3646999597549438, 1.0551999807357788, 1.2210999727249146, 1.176200032234192, 1.2403000593185425, 1.117799997329712, 1.4318000078201294, 0.9700000286102295, 0.4772000014781952, 0.6571000218391418, 1.0104999542236328, 0.7055000066757202, 1.225600004196167, 1.510200023651123, 1.483299970626831, 0.7847999930381775, 0.628600001335144, 0.3203999996185303, 0.1388999968767166, 0.19519999623298645, 0.43320000171661377, 0.23849999904632568, -0.07090000063180923, 0.47999998927116394, -0.014600000344216824, -0.24639999866485596, 0.2531000077724457, 2.3306000232696533, 2.32069993019104, 2.316699981689453, 2.29830002784729, 2.2291998863220215, 2.1626999378204346, 2.1603000164031982, 2.131200075149536, 2.126699924468994, 2.112299919128418, 2.112299919128418, 2.112299919128418, 2.09060001373291, 2.074700117111206, 2.0666000843048096, 2.0615999698638916, 2.0490000247955322, 2.0392000675201416, 2.03439998626709, 2.030100107192993, 2.026400089263916, 2.0099000930786133, 2.0099000930786133, 1.9990999698638916, 1.9979000091552734, 1.985200047492981, 1.982100009918213, 1.982100009918213, 1.9808000326156616, 1.9757000207901, 1.969099998474121, 1.9687999486923218, 1.9680999517440796, 1.9180999994277954, 1.9035999774932861, 1.7610000371932983, 1.8224999904632568, 1.4091999530792236, 1.804800033569336, 1.4574999809265137, 1.3876999616622925, 1.4924999475479126, 1.6964000463485718, 1.4134999513626099, 0.9277999997138977, 0.4277999997138977, 0.5616999864578247, 1.0925999879837036, 0.48969998955726624, 1.0805000066757202, 0.5899999737739563, 0.26179999113082886, 1.07669997215271, 1.407099962234497, -0.052000001072883606, 0.9168000221252441, 0.026399999856948853, 0.33739998936653137, -0.08349999785423279, -0.5759000182151794, 0.29649999737739563, 0.1453000009059906, -0.0835999995470047, 0.12790000438690186, -0.10249999910593033, -0.22599999606609344, -0.00019999999494757503, 0.13670000433921814, 2.17330002784729, 2.152899980545044, 2.124000072479248, 2.1171000003814697, 2.113800048828125, 2.0750999450683594, 2.07450008392334, 2.07450008392334, 2.0067999362945557, 1.9951000213623047, 1.9818999767303467, 1.969599962234497, 1.962499976158142, 1.9496999979019165, 1.944100022315979, 1.9421000480651855, 1.9397000074386597, 1.926800012588501, 1.926800012588501, 1.9158999919891357, 1.9158999919891357, 1.9157999753952026, 1.9117000102996826, 1.9117000102996826, 1.9117000102996826, 1.9117000102996826, 1.8819999694824219, 1.8768999576568604, 1.8768999576568604, 1.8746000528335571, 1.8560999631881714, 1.7930999994277954, 1.7766000032424927, 1.6212999820709229, 1.8381999731063843, 1.6253999471664429, 1.8496999740600586, 1.3145999908447266, 1.3519999980926514, 0.8920000195503235, 0.8967000246047974, 1.055400013923645, 0.4146000146865845, 0.8212000131607056, 0.46299999952316284, 0.6134999990463257, 0.6204000115394592, 0.3686999976634979, 0.8619999885559082, 0.1273999959230423, 0.4564000070095062, 0.7638999819755554, 0.19920000433921814, 0.1225999966263771, -0.16500000655651093, 0.10740000009536743, 0.13850000500679016, 2.327500104904175, 2.2172000408172607, 2.1816000938415527, 2.120800018310547, 2.1064000129699707, 2.0506999492645264, 2.0476999282836914, 2.0332000255584717, 2.0332000255584717, 2.0332000255584717, 2.0332000255584717, 2.0332000255584717, 2.032399892807007, 2.0162999629974365, 2.011199951171875, 1.9797999858856201, 1.9797999858856201, 1.9797999858856201, 1.9752999544143677, 1.9752999544143677, 1.9752999544143677, 1.9621000289916992, 1.9621000289916992, 1.9621000289916992, 1.9621000289916992, 1.9621000289916992, 1.9621000289916992, 1.9515999555587769, 1.9498000144958496, 1.9498000144958496, 1.9184999465942383, 1.92739999294281, 1.8320000171661377, 1.9112000465393066, 1.8258999586105347, 1.8703999519348145, 1.7445000410079956, 1.7551000118255615, 1.6648999452590942, 1.781499981880188, 1.9093999862670898, 1.5403000116348267, 1.5025999546051025, 1.5062999725341797, 1.631100058555603, 1.6605000495910645, 1.277899980545044, 1.0166000127792358, 1.4061000347137451, 0.896399974822998, 0.9390000104904175, 1.4817999601364136, 0.4934000074863434, 1.385699987411499, 0.5177000164985657, 0.37470000982284546, 0.19519999623298645, -0.09179999679327011, 0.04149999842047691, 0.17219999432563782, -0.09019999951124191, 0.5349000096321106, 0.7301999926567078, 0.15189999341964722, 0.27079999446868896, 0.03009999915957451, 0.9039999842643738, 2.29259991645813, 2.270400047302246, 2.2107999324798584, 2.2000999450683594, 2.2000999450683594, 2.2000999450683594, 2.188800096511841, 2.168100118637085, 2.16729998588562, 2.158799886703491, 2.1538000106811523, 2.1382999420166016, 2.075500011444092, 2.065000057220459, 2.065000057220459, 2.065000057220459, 2.065000057220459, 2.035399913787842, 2.0274999141693115, 2.0274999141693115, 2.0227999687194824, 2.006200075149536, 2.006200075149536, 2.0016000270843506, 1.9873000383377075, 1.9873000383377075, 1.9839999675750732, 1.9839999675750732, 1.9823999404907227, 1.9823999404907227, 1.9780000448226929, 1.9766000509262085, 1.9527000188827515, 1.958400011062622, 1.917799949645996, 1.902999997138977, 1.9605000019073486, 1.886299967765808, 1.9017000198364258, 1.881500005722046, 1.881500005722046, 1.881500005722046, 1.6764999628067017, 1.7455999851226807, 0.8014000058174133, 0.866100013256073, 0.805899977684021, 0.4237000048160553, -0.015399999916553497, 0.8579000234603882, 0.08789999783039093, 0.5480999946594238, 0.25760000944137573, 0.3628000020980835, -0.013799999840557575, 0.39989998936653137, 0.6668000221252441, -0.055399999022483826, 0.3483999967575073, 0.06790000200271606, 0.3357999920845032, 1.031999945640564, 0.18690000474452972, 0.2948000133037567, -0.3025999963283539, 2.25570011138916, 2.2223000526428223, 2.1972999572753906, 2.1157000064849854, 2.101599931716919, 2.094599962234497, 2.0569000244140625, 2.039900064468384, 2.0090999603271484, 2.0090999603271484, 1.9957000017166138, 1.9945000410079956, 1.9940999746322632, 1.9901000261306763, 1.989799976348877, 1.9693000316619873, 1.9484000205993652, 1.9423999786376953, 1.9423999786376953, 1.9423999786376953, 1.9417999982833862, 1.9402999877929688, 1.9354000091552734, 1.9345999956130981, 1.9020999670028687, 1.9020999670028687, 1.8969000577926636, 1.8969000577926636, 1.8909000158309937, 1.8909000158309937, 1.8909000158309937, 1.8295999765396118, 1.8092000484466553, 1.8125, 1.7546000480651855, 1.4479000568389893, 1.4306999444961548, 1.8214999437332153, 1.3515000343322754, 1.3008999824523926, 1.238700032234192, 1.7717000246047974, 1.6449999809265137, 0.9376000165939331, 1.4062999486923218, 1.0082999467849731, 0.9182999730110168, 0.8127999901771545, 0.7335000038146973, 0.4805999994277954, 0.35519999265670776, 0.3887999951839447, 0.46560001373291016, 0.08309999853372574, 0.1906999945640564, 0.6093000173568726, 0.07980000227689743, 0.5853000283241272, -0.3871999979019165, 0.617900013923645, -0.2531000077724457, 2.250499963760376, 2.1052000522613525, 2.080899953842163, 2.0794999599456787, 2.055799961090088, 2.051300048828125, 2.046600103378296, 2.0443999767303467, 2.043100118637085, 2.041800022125244, 2.0413999557495117, 2.031599998474121, 2.022200107574463, 1.9990999698638916, 1.9855999946594238, 1.982699990272522, 1.980299949645996, 1.9793000221252441, 1.9732999801635742, 1.9701000452041626, 1.9601999521255493, 1.9601000547409058, 1.9556000232696533, 1.9408999681472778, 1.932800054550171, 1.9300999641418457, 1.9279999732971191, 1.9225000143051147, 1.9119999408721924, 1.8861000537872314, 1.8638999462127686, 1.86489999294281, 1.8812999725341797, 1.7264000177383423, 1.4805999994277954, 1.7197999954223633, 1.4248000383377075, 1.5666999816894531, 1.2074999809265137, 1.4085999727249146, 1.0525000095367432, 1.531000018119812, 0.816100001335144, 0.7444999814033508, 1.051300048828125, 0.49709999561309814, 1.0808000564575195, 0.44679999351501465, 0.5371000170707703, 1.023800015449524, -0.07660000026226044, 0.14910000562667847, 0.5037999749183655, 0.7246000170707703, 0.34940001368522644, 0.17829999327659607, 0.3041999936103821, 0.3840000033378601, 0.2680000066757202, -0.02239999920129776, -0.0005000000237487257, -0.18790000677108765, -0.39750000834465027, -0.46709999442100525, -0.13920000195503235, 2.3273000717163086, 2.1935999393463135, 2.1273999214172363, 2.1273999214172363, 2.1222000122070312, 2.1157000064849854, 2.1043999195098877, 2.091200113296509, 2.091200113296509, 2.088599920272827, 2.088599920272827, 2.085099935531616, 2.085099935531616, 2.081399917602539, 2.0617001056671143, 2.059799909591675, 2.0504000186920166, 2.048099994659424, 2.037600040435791, 2.020900011062622, 2.0188000202178955, 2.0181000232696533, 2.005199909210205, 2.0046000480651855, 1.996899962425232, 1.9779000282287598, 1.9688999652862549, 1.968500018119812, 1.968500018119812, 1.968500018119812, 1.888100028038025, 1.8904999494552612, 1.7795000076293945, 1.9386999607086182, 1.6433000564575195, 1.8898999691009521, 1.544600009918213, 1.624500036239624, 1.32669997215271, 1.1223000288009644, 1.1461000442504883, 1.2598999738693237, 1.24590003490448, 1.3313000202178955, 1.5582000017166138, 1.2730000019073486, 1.2193000316619873, 0.47029998898506165, 0.9896000027656555, 0.5525000095367432, 0.8626000285148621, 0.5738000273704529, -0.024399999529123306, 0.6832000017166138, 1.1260000467300415, 0.43619999289512634, 0.03579999879002571, 0.17839999496936798, 0.1931000053882599, 0.4255000054836273, 0.1623000055551529, 0.018799999728798866, -0.22380000352859497, -0.18690000474452972, 0.03550000116229057, 0.03310000151395798, 0.06369999796152115, 2.515199899673462, 2.305500030517578, 2.1975998878479004, 2.1975998878479004, 2.192199945449829, 2.130000114440918, 2.1070001125335693, 2.088599920272827, 2.0880000591278076, 2.0868000984191895, 2.0803000926971436, 2.0703999996185303, 2.0611000061035156, 2.05679988861084, 2.0522000789642334, 2.0425000190734863, 2.0390000343322754, 2.013000011444092, 2.013000011444092, 2.0125999450683594, 1.9880000352859497, 1.9859999418258667, 1.976099967956543, 1.9478000402450562, 1.9408999681472778, 1.9400999546051025, 1.9297000169754028, 1.9297000169754028, 1.9297000169754028, 1.9297000169754028, 1.9134000539779663, 1.923200011253357, 1.90910005569458, 1.8423000574111938, 1.8666000366210938, 1.8516000509262085, 1.7109999656677246, 1.6526999473571777, 1.539199948310852, 1.8414000272750854, 1.6727999448776245, 1.2597999572753906, 1.2610000371932983, 1.0788999795913696, 1.1045000553131104, 1.145300030708313, 0.9154999852180481, 0.6985999941825867, 0.31779998540878296, 0.6234999895095825, 0.6007000207901001, 0.48829999566078186, 0.397599995136261, 0.5627999901771545, 0.4431999921798706, -0.05420000106096268, 0.006399999838322401, 0.26339998841285706, 1.1318999528884888, 0.5328999757766724, -0.20640000700950623, -0.08540000021457672, -0.47760000824928284, 0.06069999933242798, -0.1996999979019165, -0.8916000127792358, 2.392699956893921, 2.367300033569336, 2.367300033569336, 2.367300033569336, 2.306999921798706, 2.3062000274658203, 2.3062000274658203, 2.3062000274658203, 2.3062000274658203, 2.3062000274658203, 2.3062000274658203, 2.296799898147583, 2.2848000526428223, 2.281100034713745, 2.27620005607605, 2.275599956512451, 2.2715001106262207, 2.2688000202178955, 2.268699884414673, 2.2119998931884766, 2.2119998931884766, 2.2035999298095703, 2.193000078201294, 2.186300039291382, 2.1842000484466553, 2.17549991607666, 2.1754000186920166, 2.1494998931884766, 2.1484999656677246, 2.1454999446868896, 2.0209999084472656, 2.0789999961853027, 1.9532999992370605, 1.694700002670288, 1.9325000047683716, 1.499899983406067, 1.111199975013733, 1.2854000329971313, 1.1227999925613403, 0.9465000033378601, 1.0303000211715698, 1.716599941253662, 1.720900058746338, 1.9752999544143677, 0.8144000172615051, 0.024299999698996544, 0.8980000019073486, 0.17949999868869781, 0.7749000191688538, 0.9074000120162964, 0.8992999792098999, 0.5575000047683716, 0.8989999890327454, 0.1859000027179718, 0.421999990940094, -0.3246000111103058, 0.018300000578165054, -0.16220000386238098, 0.2574000060558319, 0.19930000603199005, 0.2888999879360199, -0.40689998865127563, 2.340399980545044, 2.260999917984009, 2.226599931716919, 2.1422998905181885, 2.1382999420166016, 2.1382999420166016, 2.1382999420166016, 2.132499933242798, 2.132499933242798, 2.1319000720977783, 2.1319000720977783, 2.121799945831299, 2.1217000484466553, 2.098299980163574, 2.0761001110076904, 2.0541000366210938, 2.0409998893737793, 2.0385000705718994, 2.024899959564209, 1.989300012588501, 1.989300012588501, 1.9876999855041504, 1.9860999584197998, 1.972599983215332, 1.9711999893188477, 1.9678000211715698, 1.9642000198364258, 1.9630999565124512, 1.954800009727478, 1.9448000192642212, 1.9179999828338623, 1.9326000213623047, 1.8370000123977661, 1.8561999797821045, 1.8561999797821045, 1.5283000469207764, 1.3321000337600708, 1.6246000528335571, 1.5515999794006348, 1.0504000186920166, 1.385200023651123, 1.770300030708313, 1.1799999475479126, 0.9254000186920166, 0.6536999940872192, 0.892799973487854, 0.5314000248908997, 0.374099999666214, 0.28459998965263367, 0.925599992275238, 0.7027999758720398, 0.5116000175476074, 0.0738999992609024, -0.1517000049352646, 0.1738000065088272, 0.3774000108242035, 0.5751000046730042, 0.5407999753952026, 0.3483999967575073, 0.3305000066757202, 0.9036999940872192, 0.3287000060081482, 0.02239999920129776, 0.041600000113248825, -0.2639000117778778, -0.17299999296665192, -0.1582999974489212, -0.0949999988079071, -0.1746000051498413, -0.08940000087022781, 0.09319999814033508, 2.53629994392395, 2.3726999759674072, 2.3715999126434326, 2.3276000022888184, 2.302000045776367, 2.2548000812530518, 2.2534000873565674, 2.2318999767303467, 2.2228000164031982, 2.1791999340057373, 2.1791999340057373, 2.1784000396728516, 2.1463000774383545, 2.115799903869629, 2.114500045776367, 2.112600088119507, 2.107599973678589, 2.096100091934204, 2.092099905014038, 2.0871999263763428, 2.0871999263763428, 2.0868000984191895, 2.07450008392334, 2.0725998878479004, 2.0708999633789062, 2.0678999423980713, 2.066999912261963, 2.0655999183654785, 2.060499906539917, 2.048099994659424, 2.038300037384033, 1.9855999946594238, 1.8930000066757202, 1.8942999839782715, 1.6770999431610107, 1.5609999895095825, 1.4493000507354736, 1.7443000078201294, 1.6675000190734863, 1.1813000440597534, 1.8702000379562378, 1.6642999649047852, 1.25, 1.1383999586105347, 0.7078999876976013, 0.4271000027656555, 1.0537999868392944, 0.24650000035762787, 0.0013000000035390258, 0.36399999260902405, 0.373199999332428, 0.5109000205993652, 0.23270000517368317, 0.06780000030994415, 0.06400000303983688, -0.39809998869895935, -0.31040000915527344, -0.33090001344680786, -0.15600000321865082, 0.09380000084638596, 2.5510001182556152, 2.525700092315674, 2.3854000568389893, 2.3775999546051025, 2.3740999698638916, 2.363100051879883, 2.352400064468384, 2.283400058746338, 2.271399974822998, 2.2709999084472656, 2.247499942779541, 2.2458999156951904, 2.243499994277954, 2.2416000366210938, 2.1898000240325928, 2.1898000240325928, 2.1898000240325928, 2.1898000240325928, 2.1898000240325928, 2.1898000240325928, 2.1898000240325928, 2.1870999336242676, 2.1868999004364014, 2.1868999004364014, 2.1868999004364014, 2.186500072479248, 2.1796998977661133, 2.165600061416626, 2.134999990463257, 2.1326000690460205, 1.9902000427246094, 1.9945000410079956, 1.8270000219345093, 1.8194999694824219, 1.6032999753952026, 2.0100998878479004, 2.0106000900268555, 1.5025999546051025, 1.9110000133514404, 1.7604000568389893, 1.434399962425232, 1.8700000047683716, 1.299299955368042, 1.6375999450683594, 1.156000018119812, 1.0649000406265259, 0.5723999738693237, 1.6449999809265137, 0.505299985408783, 1.413599967956543, 0.032999999821186066, 0.8037999868392944, 0.5697000026702881, 0.5202999711036682, 0.018699999898672104, 0.3637000024318695, 0.39649999141693115, 0.47049999237060547, 0.5999000072479248, 0.10130000114440918, 0.19040000438690186, -0.15289999544620514, 2.5065999031066895, 2.482300043106079, 2.413599967956543, 2.300299882888794, 2.288599967956543, 2.248300075531006, 2.2320001125335693, 2.2200000286102295, 2.2200000286102295, 2.202899932861328, 2.187700033187866, 2.134000062942505, 2.1196000576019287, 2.1196000576019287, 2.0864999294281006, 2.0806000232696533, 2.0683999061584473, 2.0643999576568604, 2.0643999576568604, 2.061000108718872, 2.060699939727783, 2.043100118637085, 2.0374999046325684, 2.036799907684326, 2.0274999141693115, 2.0271999835968018, 2.0271999835968018, 2.0253000259399414, 2.021199941635132, 2.0174999237060547, 2.0160999298095703, 1.9560999870300293, 1.985200047492981, 1.7700999975204468, 1.8319000005722046, 1.7486000061035156, 1.7577999830245972, 1.6368999481201172, 1.6678999662399292, 1.7029999494552612, 1.642699956893921, 1.6771999597549438, 1.4946000576019287, 1.2077000141143799, 1.6430000066757202, 1.389299988746643, 0.8734999895095825, 1.0719000101089478, 1.4737999439239502, 0.5954999923706055, 0.5968999862670898, 0.900600016117096, 0.3871999979019165, 0.5981000065803528, 0.37380000948905945, 0.15369999408721924, 0.3393999934196472, -0.2653999924659729, 0.39100000262260437, 0.155799999833107, -0.1754000037908554, 0.4675000011920929, 0.1306000053882599, -0.010499999858438969, -0.06560000032186508, 1.0636999607086182, -0.15219999849796295, -0.5473999977111816, -0.5149000287055969, -0.13689999282360077, -0.3278000056743622, -0.451200008392334, 2.4655001163482666, 2.4105000495910645, 2.4105000495910645, 2.3619000911712646, 2.302299976348877, 2.2757999897003174, 2.2244999408721924, 2.216900110244751, 2.20770001411438, 2.2007999420166016, 2.1884000301361084, 2.1768999099731445, 2.1768999099731445, 2.1768999099731445, 2.1684000492095947, 2.165299892425537, 2.1591999530792236, 2.1377999782562256, 2.1284000873565674, 2.1017000675201416, 2.0915000438690186, 2.0899999141693115, 2.0876998901367188, 2.076900005340576, 2.071199893951416, 2.071199893951416, 2.071199893951416, 2.071199893951416, 2.071199893951416, 2.071199893951416, 2.069999933242798, 2.06820011138916, 2.045599937438965, 1.9169000387191772, 1.9141000509262085, 1.982300043106079, 1.9220999479293823, 1.6097999811172485, 1.8386000394821167, 1.933899998664856, 1.3514000177383423, 1.3467999696731567, 1.672700047492981, 1.7893999814987183, 1.54830002784729, 0.909600019454956, 0.7110000252723694, 0.777999997138977, 0.16040000319480896, 1.1110999584197998, 1.4176000356674194, 0.30570000410079956, 0.1242000013589859, 0.17919999361038208, 0.10779999941587448, 0.7486000061035156, 0.7437000274658203, -0.1664000004529953, 0.21230000257492065, -0.0007999999797903001, 0.04780000075697899, -0.07490000128746033, -0.3418000042438507, -0.15690000355243683, 0.22499999403953552, -0.28760001063346863, -0.3357999920845032, -0.46779999136924744, -0.29899999499320984, -0.19499999284744263, 0.20739999413490295, 0.27790001034736633]}, \"token.table\": {\"Topic\": [1, 5, 6, 7, 1, 2, 3, 4, 5, 6, 7, 8, 9, 10, 11, 12, 14, 15, 3, 12, 11, 2, 9, 1, 2, 9, 6, 1, 2, 3, 4, 5, 6, 8, 10, 11, 12, 14, 15, 7, 10, 1, 4, 10, 7, 14, 11, 1, 3, 7, 9, 14, 9, 2, 1, 13, 1, 6, 8, 2, 1, 4, 7, 8, 9, 13, 14, 10, 1, 4, 7, 8, 9, 13, 14, 11, 4, 11, 15, 2, 4, 6, 7, 9, 12, 14, 15, 4, 7, 15, 1, 1, 12, 13, 4, 6, 4, 1, 4, 6, 7, 8, 9, 12, 13, 14, 9, 4, 7, 1, 5, 1, 4, 1, 2, 3, 4, 5, 6, 7, 8, 9, 11, 12, 13, 14, 15, 11, 9, 10, 1, 10, 1, 4, 6, 8, 10, 2, 9, 1, 10, 4, 1, 2, 3, 4, 5, 6, 7, 8, 9, 10, 11, 12, 13, 14, 15, 14, 5, 1, 5, 14, 4, 1, 2, 8, 9, 10, 11, 12, 14, 2, 7, 15, 11, 2, 3, 2, 12, 14, 3, 10, 2, 4, 1, 2, 3, 4, 5, 6, 7, 8, 9, 10, 11, 12, 13, 14, 15, 11, 14, 1, 2, 3, 4, 5, 6, 7, 8, 9, 10, 11, 12, 13, 14, 15, 1, 1, 14, 1, 2, 3, 4, 5, 6, 7, 8, 9, 11, 12, 14, 1, 2, 3, 4, 5, 6, 7, 8, 9, 10, 11, 12, 13, 14, 15, 7, 2, 5, 6, 8, 9, 11, 15, 1, 2, 4, 5, 6, 7, 9, 12, 1, 9, 10, 12, 1, 2, 4, 9, 11, 12, 14, 2, 7, 9, 15, 1, 2, 3, 4, 5, 6, 7, 8, 9, 10, 11, 12, 13, 14, 15, 4, 6, 1, 2, 3, 4, 6, 8, 10, 11, 12, 13, 14, 15, 1, 3, 7, 11, 2, 15, 4, 11, 14, 15, 10, 7, 1, 2, 12, 13, 4, 1, 4, 14, 1, 2, 3, 6, 10, 11, 12, 14, 15, 1, 2, 6, 11, 1, 2, 5, 8, 9, 10, 15, 3, 4, 7, 8, 11, 15, 2, 3, 4, 6, 7, 8, 10, 11, 2, 10, 11, 3, 15, 3, 14, 1, 2, 3, 4, 5, 6, 7, 8, 9, 10, 11, 12, 13, 14, 15, 1, 3, 12, 1, 2, 4, 5, 6, 7, 9, 10, 11, 12, 14, 15, 7, 1, 3, 5, 6, 9, 10, 11, 12, 15, 11, 11, 12, 12, 8, 4, 5, 1, 2, 3, 4, 5, 6, 7, 8, 10, 12, 14, 15, 2, 10, 15, 2, 1, 8, 13, 1, 3, 4, 5, 6, 7, 8, 9, 10, 11, 12, 15, 7, 9, 1, 2, 6, 7, 8, 9, 11, 12, 13, 14, 15, 4, 2, 15, 1, 3, 6, 12, 1, 3, 10, 11, 14, 1, 2, 5, 9, 15, 12, 15, 6, 11, 1, 2, 5, 1, 3, 4, 5, 6, 7, 8, 9, 10, 11, 12, 13, 14, 15, 10, 4, 1, 1, 11, 11, 1, 8, 4, 1, 2, 3, 4, 5, 6, 7, 9, 10, 11, 12, 13, 14, 6, 2, 6, 9, 15, 14, 7, 14, 15, 10, 1, 2, 3, 4, 6, 7, 8, 9, 10, 11, 12, 14, 15, 1, 3, 4, 5, 6, 7, 8, 9, 10, 11, 13, 14, 8, 12, 8, 4, 10, 14, 15, 11, 1, 2, 5, 9, 15, 3, 12, 5, 1, 5, 6, 8, 6, 3, 5, 6, 7, 8, 9, 10, 13, 15, 8, 15, 4, 11, 14, 15, 1, 2, 4, 7, 8, 9, 12, 13, 14, 1, 2, 3, 4, 5, 6, 7, 8, 9, 10, 11, 13, 14, 15, 3, 14, 13, 2, 15, 2, 5, 6, 11, 13, 12, 5, 8, 12, 3, 4, 1, 2, 3, 4, 5, 6, 7, 8, 9, 10, 11, 12, 13, 14, 15, 1, 3, 4, 5, 6, 7, 8, 9, 10, 11, 12, 13, 14, 15, 4, 6, 7, 13, 14, 4, 5, 7, 9, 11, 1, 2, 3, 4, 6, 7, 8, 9, 10, 11, 12, 13, 14, 15, 1, 2, 3, 4, 5, 6, 7, 8, 9, 11, 12, 13, 14, 15, 9, 2, 1, 4, 7, 8, 11, 13, 15, 4, 11, 14, 15, 15, 15, 15, 14, 13, 15, 2, 4, 11, 14, 15, 11, 15, 5, 10, 8, 9, 1, 7, 8, 11, 13, 6, 10, 10, 15, 7, 8, 6, 11, 5, 14, 4, 11, 4, 15, 6, 1, 2, 5, 8, 9, 14, 15, 2, 13, 2, 3, 5, 6, 9, 11, 14, 15, 15, 1, 4, 5, 6, 8, 9, 15, 3, 7, 9, 13, 2, 4, 11, 14, 15, 3, 2, 6, 11, 2, 5, 1, 3, 4, 5, 6, 8, 9, 10, 12, 13, 14, 15, 1, 7, 8, 1, 3, 5, 8, 14, 5, 1, 2, 3, 4, 5, 6, 7, 8, 9, 10, 11, 12, 15, 1, 2, 5, 7, 3, 6, 9, 1, 2, 9, 11, 14, 15, 1, 2, 11, 14, 15, 6, 15, 6, 12, 1, 10, 1, 2, 3, 4, 6, 7, 8, 9, 10, 12, 14, 11, 2, 6, 11, 1, 2, 3, 4, 5, 6, 7, 8, 9, 10, 11, 12, 13, 14, 15, 3, 5, 7, 12, 13, 5, 13, 4, 9, 2, 1, 2, 3, 4, 5, 6, 7, 8, 9, 10, 11, 12, 13, 14, 15, 9, 1, 2, 3, 5, 6, 9, 10, 11, 13, 14, 9, 1, 2, 3, 4, 5, 6, 7, 8, 9, 10, 11, 12, 13, 14, 15, 1, 2, 3, 4, 5, 6, 7, 8, 10, 11, 12, 13, 14, 15, 1, 7, 8, 9, 11, 12, 6, 11, 15, 11, 8, 1, 2, 3, 4, 5, 6, 7, 8, 9, 10, 11, 12, 13, 14, 15, 6, 15, 10, 1, 2, 3, 4, 5, 7, 8, 10, 11, 12, 14, 15, 12, 1, 2, 4, 5, 7, 11, 14, 15, 1, 2, 4, 5, 7, 9, 13, 14, 15, 1, 3, 7, 8, 11, 14, 15, 2, 7, 9, 15, 15, 1, 2, 1, 3, 4, 8, 12, 5, 3, 11, 3, 5, 7, 8, 9, 14, 15, 7, 2, 3, 10, 11, 12, 5, 11, 2, 1, 4, 5, 6, 7, 8, 9, 12, 14, 15, 3, 4, 8, 9, 13, 15, 1, 2, 5, 7, 1, 2, 3, 4, 5, 6, 7, 8, 10, 11, 12, 14, 15, 12, 1, 2, 3, 4, 5, 6, 7, 8, 9, 10, 11, 12, 14, 6, 15, 1, 2, 3, 4, 5, 6, 7, 8, 9, 10, 11, 12, 13, 14, 15, 2, 1, 2, 3, 6, 7, 8, 9, 10, 11, 13, 14, 15, 2, 1, 3, 1, 2, 4, 6, 7, 8, 9, 10, 11, 13, 14, 15, 15, 1, 2, 3, 4, 5, 6, 8, 9, 11, 12, 13, 14, 15, 1, 2, 3, 4, 6, 7, 8, 9, 11, 13, 14, 15, 13, 2, 6, 9, 2, 5, 8, 9, 10, 15, 11, 5, 1, 2, 3, 4, 5, 6, 7, 8, 9, 10, 11, 12, 13, 14, 15, 1, 1, 2, 4, 5, 6, 7, 8, 9, 11, 13, 14, 15, 1, 2, 3, 5, 6, 7, 8, 9, 10, 11, 13, 15, 2, 5, 11, 13, 14, 15, 9, 10, 12, 1, 2, 3, 4, 5, 6, 7, 8, 9, 10, 11, 12, 13, 14, 15, 2, 3, 4, 5, 11, 12, 14, 15, 1, 2, 3, 5, 6, 7, 8, 9, 10, 11, 14, 15, 12, 2, 5, 6, 11, 12, 13, 2, 7, 10, 11, 1, 2, 6, 1, 2, 3, 4, 5, 6, 7, 8, 9, 10, 11, 12, 13, 14, 15, 1, 5, 6, 5, 2, 1, 2, 3, 4, 5, 6, 7, 8, 9, 10, 11, 12, 13, 14, 15, 1, 2, 3, 5, 6, 8, 9, 10, 11, 12, 14, 15, 3, 14, 7, 1, 3, 4, 8, 9, 12, 14, 14, 8, 7, 3, 1, 2, 3, 4, 5, 6, 7, 8, 9, 10, 11, 12, 13, 14, 15, 1, 2, 3, 4, 5, 6, 7, 8, 9, 10, 11, 12, 13, 14, 15, 8, 2, 3, 5, 6, 14, 2, 9, 12, 15, 12, 7, 14, 1, 2, 3, 4, 5, 6, 7, 8, 9, 10, 11, 12, 13, 14, 9, 1, 11, 1, 2, 3, 4, 5, 8, 11, 12, 13, 14, 15, 7, 8, 11, 11, 6, 6, 15, 1, 2, 3, 4, 5, 6, 8, 9, 10, 11, 12, 14, 5, 6, 9, 12, 5, 7, 15, 2, 1, 2, 3, 4, 5, 6, 7, 8, 9, 10, 11, 12, 13, 14, 15, 7, 2, 5, 7, 9, 12, 15, 1, 3, 7, 8, 10, 11, 1, 2, 3, 4, 5, 6, 7, 8, 9, 10, 11, 12, 13, 14, 15, 1, 3, 4, 5, 6, 7, 9, 10, 11, 12, 13, 15, 8, 9, 1, 2, 5, 9, 14, 15, 1, 3, 5, 9, 12, 1, 2, 6, 9, 14, 1, 2, 4, 5, 6, 7, 8, 9, 10, 11, 12, 13, 15, 1, 2, 3, 4, 5, 6, 7, 8, 9, 10, 11, 12, 13, 14, 15, 7, 11, 1, 3, 4, 5, 7, 12, 14, 1, 2, 4, 6, 8, 11, 15, 6, 11, 13, 14, 10, 1, 2, 3, 4, 5, 6, 7, 8, 9, 11, 12, 13, 14, 15, 10, 12, 1, 5, 1, 8, 10, 1, 2, 3, 4, 5, 6, 7, 8, 9, 11, 12, 13, 15, 7, 1, 12, 14, 1, 2, 3, 4, 5, 6, 7, 8, 9, 10, 11, 12, 13, 14, 15, 1, 2, 3, 4, 5, 7, 8, 10, 11, 15, 2, 10, 13, 11, 3, 4, 11, 12, 8, 1, 3, 5, 6, 9, 10, 13, 14, 15, 1, 2, 4, 5, 6, 7, 8, 9, 10, 11, 13, 14, 15, 1, 1, 2, 3, 4, 5, 6, 7, 8, 9, 10, 11, 12, 13, 14, 15, 1, 2, 3, 4, 5, 6, 7, 8, 9, 10, 11, 12, 14, 5, 8, 10, 5, 1, 2, 3, 6, 7, 9, 11, 12, 1, 2, 3, 4, 5, 6, 8, 9, 11, 12, 13, 14, 15, 2, 1, 2, 3, 4, 5, 6, 7, 8, 9, 10, 11, 12, 13, 14, 15, 3, 7, 15, 1, 3, 5, 12, 15, 1, 7, 3, 4, 6, 12, 15, 2, 6, 13, 10, 1, 2, 3, 4, 5, 6, 7, 8, 9, 10, 11, 12, 13, 14, 15, 8, 12, 1, 2, 3, 4, 5, 6, 8, 9, 10, 11, 12, 13, 14, 15, 15, 1, 2, 3, 4, 5, 6, 7, 8, 9, 10, 11, 12, 13, 14, 15, 2, 15, 1, 2, 3, 7, 8, 11, 12, 14, 14, 4, 13, 15, 5, 14, 4, 1, 2, 3, 4, 5, 6, 7, 8, 9, 10, 11, 12, 13, 14, 15, 6, 1, 2, 3, 4, 5, 6, 7, 8, 9, 10, 11, 12, 13, 14, 15, 4, 5, 10, 12, 14, 1, 2, 3, 4, 5, 6, 7, 8, 9, 10, 11, 12, 13, 14, 15, 1, 2, 3, 5, 7, 8, 11, 14, 15, 13, 3, 4, 11, 12, 1, 7, 8, 11, 1, 2, 3, 4, 5, 6, 7, 8, 9, 10, 11, 12, 13, 14, 15, 9, 11, 15, 6, 2, 6, 9, 3, 13, 1, 3, 5, 6, 10, 13, 14, 15, 9, 9, 1, 2, 5, 6, 7, 8, 9, 10, 11, 12, 13, 14, 15, 6, 11, 5, 1, 3, 5, 7, 8, 11, 15, 14, 15, 6, 6, 12, 14, 1, 5, 15, 1, 3, 4, 5, 6, 7, 9, 11, 12, 14, 1, 9, 3, 4, 7, 8, 11, 14, 15, 10, 3, 6, 10, 1, 4, 5, 7, 11, 13, 14, 3, 4, 5, 6, 7, 8, 11, 13, 14, 4, 11, 4, 8, 4, 11, 14, 15, 13, 12, 8, 5, 9, 11, 3, 7, 8, 11, 15, 15, 11, 1, 2, 3, 4, 5, 6, 7, 8, 9, 12, 13, 14, 15, 5, 12, 1, 5, 15, 4, 10, 11, 12, 3, 6, 7, 9, 10, 12, 15, 1, 2, 3, 4, 5, 6, 7, 8, 9, 10, 11, 12, 13, 14, 15, 1, 2, 3, 4, 5, 6, 7, 8, 10, 11, 12, 14, 15, 3, 6, 7, 9, 13, 14, 1, 4, 6, 11, 15, 1, 3, 7, 9, 11, 4, 11, 14, 15, 8, 1, 2, 3, 4, 5, 6, 7, 8, 9, 10, 11, 12, 14, 15, 1, 1, 2, 3, 4, 5, 6, 7, 8, 9, 10, 11, 12, 13, 14, 15, 1, 2, 3, 4, 5, 6, 7, 8, 9, 10, 11, 12, 13, 14, 15, 6, 7, 2, 9, 10, 1, 2, 3, 7, 11, 8, 5, 9, 10, 7, 1, 5, 1, 4, 5, 6, 7, 8, 9, 10, 12, 13, 15, 14, 14, 2, 12, 14, 2, 3, 8, 12, 15, 3, 13, 15, 4, 9, 11, 15, 5, 3, 3, 1, 5, 4, 8, 8, 5, 13, 1, 14, 2, 3, 4, 6, 8, 9, 11, 13, 15, 7, 9, 5, 2, 2, 3, 5, 9, 1, 2, 3, 4, 5, 6, 7, 8, 9, 10, 11, 12, 13, 14, 15, 2, 10, 1, 2, 3, 4, 5, 6, 9, 10, 12, 14, 1, 2, 3, 4, 5, 6, 7, 8, 9, 10, 11, 12, 13, 14, 15, 1, 4, 10, 12, 4, 1, 4, 1, 15, 2, 9, 2, 11, 4, 8, 13, 7, 8, 9, 10, 11, 12, 13, 1, 2, 3, 4, 5, 6, 7, 8, 9, 10, 11, 12, 13, 14, 15, 5, 8, 14, 1, 2, 5, 8, 9, 15, 1, 2, 4, 5, 6, 7, 8, 9, 11, 13, 14, 15, 3, 4, 8, 9, 13, 15, 14, 7, 1, 2, 4, 5, 6, 7, 8, 9, 10, 11, 12, 13, 14, 15, 11, 9, 4, 1, 4, 8, 10, 14, 10, 13, 2, 10, 11, 4, 12, 6, 10, 2, 6, 3, 2, 7, 12, 12, 4, 7, 1, 2, 3, 4, 6, 8, 9, 11, 13, 14, 15, 10, 3, 5, 14, 15, 1, 2, 6, 3, 13, 1, 3, 5, 6, 8, 9, 11, 12, 13, 14, 15, 1, 4, 11, 12, 6, 6, 10, 2, 13, 1, 15, 3, 7, 8, 11, 1, 3, 4, 5, 6, 7, 8, 9, 14, 15, 7, 1, 2, 3, 4, 5, 6, 8, 9, 11, 12, 13, 14, 1, 2, 3, 5, 6, 7, 8, 9, 10, 11, 12, 13, 14, 15, 6, 1, 2, 3, 4, 5, 6, 7, 8, 9, 10, 11, 12, 13, 14, 15, 12, 12, 1, 3, 4, 5, 6, 11, 12, 15, 1, 6, 7, 11, 8, 1, 2, 3, 4, 5, 6, 7, 8, 9, 10, 11, 12, 13, 14, 15, 1, 2, 7, 8, 10, 11, 13, 15, 2, 6, 1, 2, 3, 4, 7, 8, 9, 11, 12, 13, 14, 15, 3, 1, 2, 5, 9, 15, 1, 2, 3, 4, 5, 6, 7, 8, 9, 10, 11, 12, 13, 14, 15, 4, 5, 7, 8, 11, 12, 13, 1, 4, 6, 8, 9, 11, 12, 13, 14, 15, 14, 7, 1, 2, 3, 4, 5, 6, 7, 8, 9, 10, 11, 12, 13, 14, 15, 1, 2, 4, 6, 7, 8, 10, 11, 12, 13, 14, 15, 3, 5, 6, 14, 15, 3, 6, 10, 11, 13, 1, 2, 3, 4, 5, 6, 7, 8, 9, 10, 11, 12, 13, 14, 15, 1, 2, 3, 4, 5, 6, 7, 8, 9, 10, 11, 12, 13, 14, 15, 7, 7, 15, 6, 8, 15, 1, 2, 3, 4, 5, 6, 7, 8, 9, 11, 13, 14, 15, 6, 2, 3, 4, 8, 9, 13, 15, 1, 5, 4, 10, 13, 1, 4, 10, 11, 1, 3, 6, 9, 11, 12, 6, 2, 5, 2, 12, 1, 2, 3, 5, 6, 7, 8, 9, 11, 12, 13, 14, 15, 1, 3, 1, 2, 3, 7, 9, 11, 13, 14, 15, 8, 1, 3, 10, 12, 1, 2, 3, 4, 5, 6, 7, 8, 9, 10, 11, 12, 13, 14, 15, 12, 1, 2, 5, 7, 12, 7, 1, 2, 3, 4, 5, 6, 7, 8, 9, 10, 12, 13, 14, 15, 1, 6, 11, 1, 2, 3, 4, 5, 6, 7, 8, 9, 10, 11, 12, 13, 14, 15, 4, 12, 4, 1, 2, 3, 4, 5, 6, 7, 8, 9, 10, 11, 12, 13, 14, 15, 1, 4, 8, 13, 1, 2, 3, 4, 5, 6, 7, 8, 9, 10, 11, 12, 13, 14, 15, 1, 6, 8, 12, 14, 1, 2, 3, 4, 5, 6, 7, 8, 9, 10, 11, 12, 13, 14, 15, 7, 12, 1, 2, 3, 4, 5, 6, 7, 8, 9, 10, 11, 12, 13, 14, 15, 2, 10, 11, 1, 2, 3, 4, 5, 6, 7, 8, 9, 10, 11, 12, 13, 14, 15, 1, 5, 11, 1, 2, 3, 4, 5, 6, 7, 8, 9, 10, 11, 12, 13, 14, 15, 4, 2, 4, 1, 1, 2, 3, 4, 5, 6, 7, 8, 9, 10, 11, 12, 13, 14, 15, 1, 2, 3, 4, 5, 6, 7, 8, 9, 10, 11, 12, 13, 14, 15, 3, 5, 8, 10, 13, 1, 2, 4, 5, 6, 7, 8, 9, 11, 12, 13, 14, 15, 2, 3, 6, 11, 6, 1, 3, 5, 10, 13, 1, 2, 3, 4, 5, 6, 7, 8, 9, 10, 11, 12, 13, 14, 15, 3, 8, 11, 14, 8, 15, 13, 1, 13, 1, 2, 5, 7, 13, 13, 9, 13, 9, 14, 9, 9, 13, 13, 14, 13, 14, 1, 13, 10, 13, 15, 13, 13, 2, 5, 6, 7, 8, 5, 9, 8, 1, 5, 9, 8, 15, 8, 11, 1, 2, 3, 4, 5, 6, 7, 8, 9, 11, 12, 13, 14, 15], \"Freq\": [0.5877922773361206, 0.11755844950675964, 0.11755844950675964, 0.11755844950675964, 0.24709253013134003, 0.02745472453534603, 0.02745472453534603, 0.08236417174339294, 0.1647283434867859, 0.05490944907069206, 0.05490944907069206, 0.05490944907069206, 0.10981889814138412, 0.02745472453534603, 0.08236417174339294, 0.02745472453534603, 0.05490944907069206, 0.05490944907069206, 0.5586711764335632, 0.2793355882167816, 0.4006997048854828, 0.15378206968307495, 0.6151282787322998, 0.6344921588897705, 0.14392812550067902, 0.5757125020027161, 0.668997585773468, 0.17737916111946106, 0.029563194140791893, 0.059126388281583786, 0.029563194140791893, 0.029563194140791893, 0.11825277656316757, 0.029563194140791893, 0.2660687565803528, 0.08868958055973053, 0.029563194140791893, 0.08868958055973053, 0.029563194140791893, 0.6449210047721863, 0.6596065163612366, 0.39267638325691223, 0.29450729489326477, 0.7461884617805481, 0.5045082569122314, 0.7743604183197021, 0.5763072967529297, 0.11283247172832489, 0.11283247172832489, 0.11283247172832489, 0.11283247172832489, 0.33849743008613586, 0.33609849214553833, 0.47605836391448975, 0.5194135904312134, 0.2597067952156067, 0.10520502924919128, 0.10520502924919128, 0.526025116443634, 0.4219393730163574, 0.09184758365154266, 0.4592379033565521, 0.1377713680267334, 0.09184758365154266, 0.09184758365154266, 0.04592379182577133, 0.04592379182577133, 0.7623823285102844, 0.059961553663015366, 0.539654016494751, 0.059961553663015366, 0.059961553663015366, 0.059961553663015366, 0.059961553663015366, 0.059961553663015366, 0.5763072371482849, 0.15887874364852905, 0.15887874364852905, 0.47663620114326477, 0.06996963173151016, 0.3498481512069702, 0.06996963173151016, 0.13993926346302032, 0.06996963173151016, 0.06996963173151016, 0.06996963173151016, 0.06996963173151016, 0.549203634262085, 0.10984072089195251, 0.10984072089195251, 0.5612736940383911, 0.13125064969062805, 0.13125064969062805, 0.6562532782554626, 0.47292715311050415, 0.44811996817588806, 0.6945561170578003, 0.05222737416625023, 0.47004637122154236, 0.05222737416625023, 0.10445474833250046, 0.05222737416625023, 0.05222737416625023, 0.05222737416625023, 0.05222737416625023, 0.05222737416625023, 0.6311333775520325, 0.18391454219818115, 0.3678290843963623, 0.5612737536430359, 0.5239336490631104, 0.3926893472671509, 0.29451701045036316, 0.0447060726583004, 0.3129425048828125, 0.0447060726583004, 0.0894121453166008, 0.06705910712480545, 0.0223530363291502, 0.06705910712480545, 0.0223530363291502, 0.20117732882499695, 0.0447060726583004, 0.0223530363291502, 0.0223530363291502, 0.0447060726583004, 0.0223530363291502, 0.5081911087036133, 0.4025689661502838, 0.2012844830751419, 0.24698223173618317, 0.49396446347236633, 0.09053609520196915, 0.09053609520196915, 0.09053609520196915, 0.45268046855926514, 0.1810721904039383, 0.15197518467903137, 0.6079007387161255, 0.6861405968666077, 0.5453404188156128, 0.645515501499176, 0.06065387278795242, 0.09704619646072388, 0.04852309823036194, 0.04852309823036194, 0.10917697101831436, 0.07278464734554291, 0.04852309823036194, 0.07278464734554291, 0.07278464734554291, 0.04852309823036194, 0.08491542190313339, 0.08491542190313339, 0.02426154911518097, 0.08491542190313339, 0.04852309823036194, 0.7628461122512817, 0.47468581795692444, 0.16227908432483673, 0.6491163372993469, 0.3437660038471222, 0.5199307203292847, 0.15751506388187408, 0.07875753194093704, 0.07875753194093704, 0.07875753194093704, 0.07875753194093704, 0.07875753194093704, 0.31503012776374817, 0.07875753194093704, 0.12145832926034927, 0.3643749952316284, 0.12145832926034927, 0.6604129672050476, 0.5521792769432068, 0.1380448192358017, 0.2034038007259369, 0.2034038007259369, 0.4068076014518738, 0.5551767945289612, 0.5261895060539246, 0.47411131858825684, 0.6330730319023132, 0.04684320092201233, 0.0702648013830185, 0.16395120322704315, 0.0702648013830185, 0.023421600461006165, 0.04684320092201233, 0.04684320092201233, 0.11710800975561142, 0.0702648013830185, 0.023421600461006165, 0.09368640184402466, 0.04684320092201233, 0.0702648013830185, 0.0702648013830185, 0.023421600461006165, 0.44709479808807373, 0.5124058723449707, 0.11733123660087585, 0.026073608547449112, 0.2737728953361511, 0.026073608547449112, 0.09125762432813644, 0.026073608547449112, 0.06518401950597763, 0.06518401950597763, 0.013036804273724556, 0.07822082191705704, 0.06518401950597763, 0.026073608547449112, 0.026073608547449112, 0.052147217094898224, 0.052147217094898224, 0.35819298028945923, 0.2716418504714966, 0.5432837009429932, 0.040652308613061905, 0.20326155424118042, 0.040652308613061905, 0.040652308613061905, 0.08130461722612381, 0.08130461722612381, 0.08130461722612381, 0.040652308613061905, 0.08130461722612381, 0.08130461722612381, 0.08130461722612381, 0.08130461722612381, 0.1102653294801712, 0.1378316581249237, 0.0826990008354187, 0.06891582906246185, 0.06891582906246185, 0.0275663323700428, 0.12404850125312805, 0.06891582906246185, 0.09648216515779495, 0.04134950041770935, 0.0551326647400856, 0.04134950041770935, 0.0275663323700428, 0.04134950041770935, 0.0275663323700428, 0.7235016226768494, 0.09579102694988251, 0.09579102694988251, 0.09579102694988251, 0.09579102694988251, 0.38316410779953003, 0.09579102694988251, 0.09579102694988251, 0.06124609336256981, 0.06124609336256981, 0.06124609336256981, 0.18373827636241913, 0.06124609336256981, 0.30623045563697815, 0.12249218672513962, 0.06124609336256981, 0.179075688123703, 0.179075688123703, 0.179075688123703, 0.5372270941734314, 0.35325172543525696, 0.08831293135881424, 0.08831293135881424, 0.08831293135881424, 0.08831293135881424, 0.17662586271762848, 0.08831293135881424, 0.39011257886886597, 0.13003753125667572, 0.13003753125667572, 0.13003753125667572, 0.07081518322229385, 0.023605061694979668, 0.3776809871196747, 0.03540759161114693, 0.03540759161114693, 0.011802530847489834, 0.1416303664445877, 0.08261771500110626, 0.011802530847489834, 0.023605061694979668, 0.07081518322229385, 0.011802530847489834, 0.03540759161114693, 0.023605061694979668, 0.047210123389959335, 0.6041232943534851, 0.7016843557357788, 0.07195567339658737, 0.07195567339658737, 0.035977836698293686, 0.07195567339658737, 0.07195567339658737, 0.17988918721675873, 0.10793351382017136, 0.035977836698293686, 0.10793351382017136, 0.07195567339658737, 0.035977836698293686, 0.10793351382017136, 0.5240086317062378, 0.1048017293214798, 0.1048017293214798, 0.1048017293214798, 0.31011804938316345, 0.46517708897590637, 0.5837320685386658, 0.11674641072750092, 0.11674641072750092, 0.11674641072750092, 0.48782235383987427, 0.504630446434021, 0.10772281885147095, 0.2154456377029419, 0.4308912754058838, 0.10772281885147095, 0.6330730319023132, 0.12843474745750427, 0.12843474745750427, 0.5137389898300171, 0.06610959768295288, 0.06610959768295288, 0.06610959768295288, 0.06610959768295288, 0.06610959768295288, 0.13221919536590576, 0.13221919536590576, 0.2644383907318115, 0.13221919536590576, 0.3661860227584839, 0.12206200510263443, 0.3661860227584839, 0.12206200510263443, 0.08285637199878693, 0.08285637199878693, 0.49713823199272156, 0.08285637199878693, 0.08285637199878693, 0.08285637199878693, 0.08285637199878693, 0.602060854434967, 0.060206081718206406, 0.060206081718206406, 0.060206081718206406, 0.060206081718206406, 0.060206081718206406, 0.05337570235133171, 0.05337570235133171, 0.21350280940532684, 0.16012710332870483, 0.05337570235133171, 0.26687851548194885, 0.10675140470266342, 0.05337570235133171, 0.1559108942747116, 0.467732697725296, 0.1559108942747116, 0.6417657136917114, 0.5760909914970398, 0.48369672894477844, 0.49948036670684814, 0.09793925285339355, 0.04896962642669678, 0.04896962642669678, 0.02448481321334839, 0.07345443964004517, 0.1958785057067871, 0.07345443964004517, 0.04896962642669678, 0.04896962642669678, 0.12242405861616135, 0.09793925285339355, 0.02448481321334839, 0.02448481321334839, 0.02448481321334839, 0.02448481321334839, 0.21496057510375977, 0.42992115020751953, 0.3664082884788513, 0.08820163458585739, 0.22050409018993378, 0.08820163458585739, 0.13230246305465698, 0.044100817292928696, 0.13230246305465698, 0.13230246305465698, 0.044100817292928696, 0.044100817292928696, 0.08820163458585739, 0.044100817292928696, 0.044100817292928696, 0.5524513721466064, 0.06761781871318817, 0.06761781871318817, 0.06761781871318817, 0.06761781871318817, 0.06761781871318817, 0.13523563742637634, 0.06761781871318817, 0.33808907866477966, 0.06761781871318817, 0.7708660960197449, 0.40755802392959595, 0.20377901196479797, 0.6529189348220825, 0.4148542284965515, 0.8590999841690063, 0.47468581795692444, 0.02924894541501999, 0.02924894541501999, 0.02924894541501999, 0.02924894541501999, 0.11699578166007996, 0.11699578166007996, 0.05849789083003998, 0.14624473452568054, 0.02924894541501999, 0.02924894541501999, 0.02924894541501999, 0.35098734498023987, 0.11355408281087875, 0.5677704215049744, 0.6702536940574646, 0.5081179738044739, 0.14849445223808289, 0.14849445223808289, 0.44548335671424866, 0.06125573813915253, 0.030627869069576263, 0.12251147627830505, 0.030627869069576263, 0.27565082907676697, 0.09188360720872879, 0.09188360720872879, 0.06125573813915253, 0.15313935279846191, 0.030627869069576263, 0.030627869069576263, 0.030627869069576263, 0.3024211525917053, 0.6048423051834106, 0.07958656549453735, 0.03979328274726868, 0.03979328274726868, 0.07958656549453735, 0.3183462619781494, 0.03979328274726868, 0.07958656549453735, 0.11937984824180603, 0.11937984824180603, 0.03979328274726868, 0.07958656549453735, 0.5672715902328491, 0.22693969309329987, 0.45387938618659973, 0.09708095341920853, 0.09708095341920853, 0.09708095341920853, 0.48540475964546204, 0.10911187529563904, 0.5455593466758728, 0.10911187529563904, 0.10911187529563904, 0.10911187529563904, 0.08981813490390778, 0.08981813490390778, 0.538908839225769, 0.08981813490390778, 0.08981813490390778, 0.5884279608726501, 0.2942139804363251, 0.5199114680290222, 0.49529218673706055, 0.34188157320022583, 0.4574519693851471, 0.22872598469257355, 0.02007240243256092, 0.04014480486512184, 0.06021720916032791, 0.04014480486512184, 0.02007240243256092, 0.02007240243256092, 0.4014480710029602, 0.04014480486512184, 0.18065163493156433, 0.04014480486512184, 0.02007240243256092, 0.02007240243256092, 0.02007240243256092, 0.06021720916032791, 0.3987865746021271, 0.5821800231933594, 0.4493013024330139, 0.6486647725105286, 0.21622158586978912, 0.43772202730178833, 0.26342180371284485, 0.5268436074256897, 0.4729272127151489, 0.05172386392951012, 0.15517160296440125, 0.05172386392951012, 0.05172386392951012, 0.05172386392951012, 0.05172386392951012, 0.05172386392951012, 0.20689545571804047, 0.05172386392951012, 0.05172386392951012, 0.10344772785902023, 0.10344772785902023, 0.05172386392951012, 0.5777482390403748, 0.14556072652339935, 0.14556072652339935, 0.43668219447135925, 0.71110600233078, 0.6091815233230591, 0.27394744753837585, 0.5478948950767517, 0.6702536940574646, 0.5261894464492798, 0.030735114589333534, 0.030735114589333534, 0.12294045835733414, 0.030735114589333534, 0.030735114589333534, 0.15367557108402252, 0.06147022917866707, 0.030735114589333534, 0.030735114589333534, 0.06147022917866707, 0.06147022917866707, 0.030735114589333534, 0.368821382522583, 0.026637984439730644, 0.05327596887946129, 0.15982790291309357, 0.026637984439730644, 0.026637984439730644, 0.05327596887946129, 0.026637984439730644, 0.026637984439730644, 0.21310387551784515, 0.026637984439730644, 0.18646588921546936, 0.18646588921546936, 0.4978340268135071, 0.1659446656703949, 0.6557051539421082, 0.17308714985847473, 0.17308714985847473, 0.5192614793777466, 0.44766947627067566, 0.5780911445617676, 0.09029066562652588, 0.09029066562652588, 0.5417439937591553, 0.09029066562652588, 0.09029066562652588, 0.49175000190734863, 0.580718994140625, 0.6643898487091064, 0.5983244180679321, 0.09972073882818222, 0.09972073882818222, 0.09972073882818222, 0.38337013125419617, 0.02134764939546585, 0.02134764939546585, 0.02134764939546585, 0.02134764939546585, 0.02134764939546585, 0.832558274269104, 0.02134764939546585, 0.02134764939546585, 0.02134764939546585, 0.570405125617981, 0.42208072543144226, 0.5837320685386658, 0.11674641072750092, 0.11674641072750092, 0.11674641072750092, 0.14275868237018585, 0.04758622497320175, 0.42827603220939636, 0.0951724499464035, 0.04758622497320175, 0.04758622497320175, 0.04758622497320175, 0.04758622497320175, 0.04758622497320175, 0.3086155354976654, 0.028055956587195396, 0.028055956587195396, 0.2525036036968231, 0.028055956587195396, 0.028055956587195396, 0.05611191317439079, 0.05611191317439079, 0.028055956587195396, 0.028055956587195396, 0.028055956587195396, 0.08416786789894104, 0.028055956587195396, 0.028055956587195396, 0.32879576086997986, 0.32879576086997986, 0.37148284912109375, 0.194984570145607, 0.389969140291214, 0.07415198534727097, 0.07415198534727097, 0.07415198534727097, 0.07415198534727097, 0.5190638899803162, 0.4033670425415039, 0.20363527536392212, 0.20363527536392212, 0.40727055072784424, 0.5192969441413879, 0.47292715311050415, 0.0989224910736084, 0.06594832241535187, 0.06594832241535187, 0.0989224910736084, 0.0494612455368042, 0.032974161207675934, 0.0494612455368042, 0.06594832241535187, 0.06594832241535187, 0.06594832241535187, 0.0989224910736084, 0.0494612455368042, 0.08243540674448013, 0.08243540674448013, 0.032974161207675934, 0.27231401205062866, 0.06807850301265717, 0.17019625008106232, 0.03403925150632858, 0.03403925150632858, 0.03403925150632858, 0.06807850301265717, 0.03403925150632858, 0.06807850301265717, 0.03403925150632858, 0.03403925150632858, 0.06807850301265717, 0.06807850301265717, 0.03403925150632858, 0.0954652801156044, 0.1909305602312088, 0.0954652801156044, 0.3818611204624176, 0.0954652801156044, 0.07138559222221375, 0.07138559222221375, 0.07138559222221375, 0.4996991753578186, 0.1427711844444275, 0.36703506112098694, 0.030586255714297295, 0.030586255714297295, 0.12234502285718918, 0.06117251142859459, 0.030586255714297295, 0.15293127298355103, 0.030586255714297295, 0.030586255714297295, 0.030586255714297295, 0.030586255714297295, 0.06117251142859459, 0.030586255714297295, 0.06117251142859459, 0.08076190948486328, 0.10768254101276398, 0.026920635253190994, 0.026920635253190994, 0.05384127050638199, 0.05384127050638199, 0.10768254101276398, 0.05384127050638199, 0.24228572845458984, 0.05384127050638199, 0.05384127050638199, 0.026920635253190994, 0.05384127050638199, 0.05384127050638199, 0.43105548620224, 0.6472587585449219, 0.09362205117940903, 0.18724410235881805, 0.28086617588996887, 0.09362205117940903, 0.09362205117940903, 0.09362205117940903, 0.09362205117940903, 0.5837320685386658, 0.11674641072750092, 0.11674641072750092, 0.11674641072750092, 0.4997357428073883, 0.6702536940574646, 0.6702536940574646, 0.29426896572113037, 0.5127405524253845, 0.25637027621269226, 0.19216637313365936, 0.480415940284729, 0.09608318656682968, 0.09608318656682968, 0.09608318656682968, 0.3439919650554657, 0.6688260436058044, 0.21063385903835297, 0.42126771807670593, 0.5462328195571899, 0.6802764534950256, 0.12117001414299011, 0.48468005657196045, 0.12117001414299011, 0.12117001414299011, 0.12117001414299011, 0.7016843557357788, 0.4977198839187622, 0.24550484120845795, 0.24550484120845795, 0.6807354092597961, 0.5657961964607239, 0.2640606760978699, 0.5281213521957397, 0.6125122308731079, 0.7843819260597229, 0.3830540180206299, 0.7050036787986755, 0.5721832513809204, 0.7625582218170166, 0.5199114680290222, 0.08629045635461807, 0.08629045635461807, 0.5177427530288696, 0.08629045635461807, 0.08629045635461807, 0.08629045635461807, 0.08629045635461807, 0.3231646418571472, 0.6463292837142944, 0.03474035859107971, 0.03474035859107971, 0.06948071718215942, 0.6948071718215942, 0.03474035859107971, 0.03474035859107971, 0.03474035859107971, 0.03474035859107971, 0.5121711492538452, 0.05596398934721947, 0.05596398934721947, 0.05596398934721947, 0.5596398711204529, 0.05596398934721947, 0.05596398934721947, 0.05596398934721947, 0.08561032265424728, 0.5136619210243225, 0.08561032265424728, 0.17122064530849457, 0.6555024981498718, 0.5837320685386658, 0.11674641072750092, 0.11674641072750092, 0.11674641072750092, 0.5192968845367432, 0.6020895838737488, 0.1505223959684372, 0.7606649994850159, 0.4574519693851471, 0.22872598469257355, 0.06173940375447273, 0.06173940375447273, 0.030869701877236366, 0.030869701877236366, 0.27782732248306274, 0.030869701877236366, 0.030869701877236366, 0.030869701877236366, 0.030869701877236366, 0.370436429977417, 0.030869701877236366, 0.030869701877236366, 0.17773881554603577, 0.17773881554603577, 0.5332164168357849, 0.08657243102788925, 0.08657243102788925, 0.346289724111557, 0.1731448620557785, 0.08657243102788925, 0.6527870297431946, 0.0359291136264801, 0.0359291136264801, 0.1796455830335617, 0.0718582272529602, 0.0718582272529602, 0.0718582272529602, 0.0718582272529602, 0.1437164545059204, 0.0718582272529602, 0.1077873483300209, 0.0718582272529602, 0.0359291136264801, 0.1077873483300209, 0.1421191394329071, 0.1421191394329071, 0.4263574182987213, 0.1421191394329071, 0.44665342569351196, 0.4817749857902527, 0.16059166193008423, 0.10090139508247375, 0.10090139508247375, 0.10090139508247375, 0.30270418524742126, 0.2018027901649475, 0.10090139508247375, 0.26952287554740906, 0.08984095603227615, 0.26952287554740906, 0.08984095603227615, 0.08984095603227615, 0.6212283968925476, 0.12424568086862564, 0.4096543788909912, 0.4096543788909912, 0.38851821422576904, 0.7461885213851929, 0.2812148332595825, 0.2343457043170929, 0.04686914011836052, 0.04686914011836052, 0.04686914011836052, 0.04686914011836052, 0.04686914011836052, 0.04686914011836052, 0.09373828023672104, 0.04686914011836052, 0.04686914011836052, 0.44709479808807373, 0.6020895838737488, 0.1505223959684372, 0.5794947743415833, 0.2315264493227005, 0.027238406240940094, 0.027238406240940094, 0.08171521872282028, 0.013619203120470047, 0.013619203120470047, 0.06809601187705994, 0.04085760936141014, 0.04085760936141014, 0.19066883623600006, 0.027238406240940094, 0.08171521872282028, 0.04085760936141014, 0.08171521872282028, 0.04085760936141014, 0.11532038450241089, 0.11532038450241089, 0.11532038450241089, 0.11532038450241089, 0.34596115350723267, 0.5892798900604248, 0.1964266300201416, 0.22326327860355377, 0.44652655720710754, 0.6202577352523804, 0.02790335938334465, 0.0558067187666893, 0.06975840032100677, 0.08371008187532425, 0.02790335938334465, 0.013951679691672325, 0.08371008187532425, 0.20927520096302032, 0.02790335938334465, 0.15346847474575043, 0.041855040937662125, 0.08371008187532425, 0.013951679691672325, 0.041855040937662125, 0.0558067187666893, 0.6050645112991333, 0.10327030718326569, 0.05163515359163284, 0.05163515359163284, 0.05163515359163284, 0.10327030718326569, 0.05163515359163284, 0.05163515359163284, 0.15490545332431793, 0.05163515359163284, 0.30981090664863586, 0.5869815349578857, 0.12263678759336472, 0.10511724650859833, 0.035039082169532776, 0.035039082169532776, 0.10511724650859833, 0.035039082169532776, 0.10511724650859833, 0.052558623254299164, 0.052558623254299164, 0.035039082169532776, 0.08759770542383194, 0.07007816433906555, 0.017519541084766388, 0.035039082169532776, 0.10511724650859833, 0.15566067397594452, 0.025943446904420853, 0.07783033698797226, 0.051886893808841705, 0.025943446904420853, 0.025943446904420853, 0.051886893808841705, 0.025943446904420853, 0.18160413205623627, 0.12971723079681396, 0.025943446904420853, 0.12971723079681396, 0.07783033698797226, 0.051886893808841705, 0.09617330133914948, 0.2885199189186096, 0.09617330133914948, 0.19234660267829895, 0.09617330133914948, 0.09617330133914948, 0.15277916193008423, 0.4583374857902527, 0.15277916193008423, 0.32277947664260864, 0.8106177449226379, 0.06727002561092377, 0.033635012805461884, 0.16817507147789001, 0.033635012805461884, 0.06727002561092377, 0.033635012805461884, 0.13454005122184753, 0.06727002561092377, 0.13454005122184753, 0.10090503841638565, 0.033635012805461884, 0.06727002561092377, 0.033635012805461884, 0.033635012805461884, 0.033635012805461884, 0.15038104355335236, 0.4511431157588959, 0.6158261895179749, 0.09043480455875397, 0.045217402279376984, 0.13565219938755035, 0.3165218234062195, 0.09043480455875397, 0.045217402279376984, 0.045217402279376984, 0.045217402279376984, 0.045217402279376984, 0.045217402279376984, 0.045217402279376984, 0.045217402279376984, 0.44922491908073425, 0.058197226375341415, 0.3491833806037903, 0.29098615050315857, 0.058197226375341415, 0.058197226375341415, 0.058197226375341415, 0.058197226375341415, 0.058197226375341415, 0.08962544798851013, 0.17925089597702026, 0.08962544798851013, 0.08962544798851013, 0.08962544798851013, 0.08962544798851013, 0.08962544798851013, 0.2688763439655304, 0.08962544798851013, 0.5164580345153809, 0.6440518498420715, 0.058550167828798294, 0.058550167828798294, 0.058550167828798294, 0.058550167828798294, 0.058550167828798294, 0.4640158712863922, 0.11600396782159805, 0.11600396782159805, 0.11600396782159805, 0.5143943428993225, 0.5487725734710693, 0.6927158236503601, 0.10065732151269913, 0.20131464302539825, 0.20131464302539825, 0.301971971988678, 0.10065732151269913, 0.6254141926765442, 0.48369672894477844, 0.6604129672050476, 0.10142238438129425, 0.10142238438129425, 0.10142238438129425, 0.10142238438129425, 0.10142238438129425, 0.10142238438129425, 0.2028447687625885, 0.5323402881622314, 0.16297714412212372, 0.08148857206106186, 0.4074428677558899, 0.08148857206106186, 0.08148857206106186, 0.2480863481760025, 0.2480863481760025, 0.7311391234397888, 0.09517081081867218, 0.04758540540933609, 0.04758540540933609, 0.5234394669532776, 0.04758540540933609, 0.04758540540933609, 0.04758540540933609, 0.04758540540933609, 0.04758540540933609, 0.04758540540933609, 0.5876064300537109, 0.07345080375671387, 0.07345080375671387, 0.07345080375671387, 0.07345080375671387, 0.07345080375671387, 0.1421191394329071, 0.1421191394329071, 0.4263573884963989, 0.1421191394329071, 0.4366532564163208, 0.0436653271317482, 0.0873306542634964, 0.0436653271317482, 0.0436653271317482, 0.0436653271317482, 0.0436653271317482, 0.0436653271317482, 0.0436653271317482, 0.0436653271317482, 0.0436653271317482, 0.0436653271317482, 0.0436653271317482, 0.5937828421592712, 0.07601765543222427, 0.19004413485527039, 0.03800882771611214, 0.07601765543222427, 0.03800882771611214, 0.03800882771611214, 0.07601765543222427, 0.03800882771611214, 0.03800882771611214, 0.03800882771611214, 0.07601765543222427, 0.19004413485527039, 0.07601765543222427, 0.5012165307998657, 0.25060826539993286, 0.15368400514125824, 0.030736800283193588, 0.061473600566387177, 0.061473600566387177, 0.061473600566387177, 0.030736800283193588, 0.09221040457487106, 0.15368400514125824, 0.030736800283193588, 0.15368400514125824, 0.030736800283193588, 0.030736800283193588, 0.030736800283193588, 0.030736800283193588, 0.030736800283193588, 0.5570730566978455, 0.018226776272058487, 0.036453552544116974, 0.10936065763235092, 0.018226776272058487, 0.09113387763500214, 0.4556694030761719, 0.036453552544116974, 0.07290710508823395, 0.09113387763500214, 0.018226776272058487, 0.018226776272058487, 0.018226776272058487, 0.5374005436897278, 0.12052448093891144, 0.602622389793396, 0.07702723890542984, 0.03851361945271492, 0.03851361945271492, 0.03851361945271492, 0.03851361945271492, 0.03851361945271492, 0.11554086208343506, 0.46216344833374023, 0.03851361945271492, 0.03851361945271492, 0.03851361945271492, 0.03851361945271492, 0.5760909914970398, 0.04008481651544571, 0.04008481651544571, 0.3607633411884308, 0.04008481651544571, 0.04008481651544571, 0.04008481651544571, 0.04008481651544571, 0.04008481651544571, 0.04008481651544571, 0.16033926606178284, 0.04008481651544571, 0.04008481651544571, 0.04008481651544571, 0.03140541538596153, 0.03140541538596153, 0.0942162424325943, 0.03140541538596153, 0.12562166154384613, 0.03140541538596153, 0.03140541538596153, 0.03140541538596153, 0.15702708065509796, 0.21983790397644043, 0.12562166154384613, 0.03140541538596153, 0.6524753570556641, 0.12712760269641876, 0.12712760269641876, 0.3813828229904175, 0.08281029760837555, 0.4968617558479309, 0.08281029760837555, 0.08281029760837555, 0.08281029760837555, 0.08281029760837555, 0.6564639210700989, 0.7273783683776855, 0.051737893372774124, 0.10347578674554825, 0.025868946686387062, 0.025868946686387062, 0.12934473156929016, 0.025868946686387062, 0.2328205108642578, 0.10347578674554825, 0.10347578674554825, 0.025868946686387062, 0.025868946686387062, 0.025868946686387062, 0.025868946686387062, 0.025868946686387062, 0.025868946686387062, 0.4579131603240967, 0.26742008328437805, 0.0297133419662714, 0.38627344369888306, 0.0297133419662714, 0.0297133419662714, 0.0594266839325428, 0.0594266839325428, 0.0297133419662714, 0.0297133419662714, 0.0297133419662714, 0.0297133419662714, 0.0297133419662714, 0.3408374488353729, 0.07574165612459183, 0.07574165612459183, 0.037870828062295914, 0.07574165612459183, 0.18935413658618927, 0.037870828062295914, 0.037870828062295914, 0.037870828062295914, 0.037870828062295914, 0.07574165612459183, 0.037870828062295914, 0.13669933378696442, 0.13669933378696442, 0.13669933378696442, 0.13669933378696442, 0.13669933378696442, 0.27339866757392883, 0.1533202826976776, 0.4599608778953552, 0.1533202826976776, 0.09412575513124466, 0.18825151026248932, 0.07059431821107864, 0.023531438782811165, 0.04706287756562233, 0.04706287756562233, 0.07059431821107864, 0.023531438782811165, 0.07059431821107864, 0.09412575513124466, 0.07059431821107864, 0.04706287756562233, 0.04706287756562233, 0.09412575513124466, 0.023531438782811165, 0.0668196901679039, 0.0668196901679039, 0.4009181261062622, 0.0668196901679039, 0.0668196901679039, 0.0668196901679039, 0.2004590630531311, 0.0668196901679039, 0.028523031622171402, 0.028523031622171402, 0.2852303087711334, 0.028523031622171402, 0.028523031622171402, 0.3137533366680145, 0.057046063244342804, 0.028523031622171402, 0.028523031622171402, 0.08556909114122391, 0.08556909114122391, 0.028523031622171402, 0.6977723240852356, 0.07866847515106201, 0.07866847515106201, 0.07866847515106201, 0.07866847515106201, 0.07866847515106201, 0.6293478012084961, 0.1470773071050644, 0.1470773071050644, 0.441231906414032, 0.1470773071050644, 0.2144358605146408, 0.4288717210292816, 0.38337019085884094, 0.15939322113990784, 0.07438350468873978, 0.11688835918903351, 0.11688835918903351, 0.05313107371330261, 0.03187864273786545, 0.10626214742660522, 0.07438350468873978, 0.03187864273786545, 0.04250485822558403, 0.05313107371330261, 0.04250485822558403, 0.021252429112792015, 0.03187864273786545, 0.04250485822558403, 0.12684981524944305, 0.5073992609977722, 0.5545172095298767, 0.49825096130371094, 0.6888605356216431, 0.09574919193983078, 0.09574919193983078, 0.03191639855504036, 0.03191639855504036, 0.06383279711008072, 0.09574919193983078, 0.03191639855504036, 0.06383279711008072, 0.03191639855504036, 0.03191639855504036, 0.1595819890499115, 0.06383279711008072, 0.09574919193983078, 0.03191639855504036, 0.03191639855504036, 0.04115930199623108, 0.08231860399246216, 0.04115930199623108, 0.04115930199623108, 0.08231860399246216, 0.04115930199623108, 0.08231860399246216, 0.08231860399246216, 0.28811511397361755, 0.12347790598869324, 0.08231860399246216, 0.04115930199623108, 0.41564735770225525, 0.20782367885112762, 0.5046547651290894, 0.11070561408996582, 0.22141122817993164, 0.11070561408996582, 0.11070561408996582, 0.11070561408996582, 0.11070561408996582, 0.33211684226989746, 0.5990446209907532, 0.4171445369720459, 0.6208117008209229, 0.6438206434249878, 0.05268297344446182, 0.06585371494293213, 0.07902446389198303, 0.039512231945991516, 0.15804892778396606, 0.05268297344446182, 0.02634148672223091, 0.07902446389198303, 0.06585371494293213, 0.05268297344446182, 0.05268297344446182, 0.07902446389198303, 0.10536594688892365, 0.05268297344446182, 0.039512231945991516, 0.09593760967254639, 0.09593760967254639, 0.07195320725440979, 0.04796880483627319, 0.023984402418136597, 0.04796880483627319, 0.07195320725440979, 0.14390641450881958, 0.07195320725440979, 0.04796880483627319, 0.07195320725440979, 0.023984402418136597, 0.07195320725440979, 0.04796880483627319, 0.07195320725440979, 0.6911240816116333, 0.06873440742492676, 0.06873440742492676, 0.06873440742492676, 0.27493762969970703, 0.27493762969970703, 0.1313045471906662, 0.3939136564731598, 0.1313045471906662, 0.1313045471906662, 0.360629141330719, 0.36346518993377686, 0.7396202087402344, 0.035791631788015366, 0.07158326357603073, 0.035791631788015366, 0.035791631788015366, 0.07158326357603073, 0.035791631788015366, 0.07158326357603073, 0.035791631788015366, 0.35791632533073425, 0.035791631788015366, 0.1073748990893364, 0.035791631788015366, 0.035791631788015366, 0.035791631788015366, 0.5790709853172302, 0.678754448890686, 0.7764884233474731, 0.10505157709121704, 0.05252578854560852, 0.05252578854560852, 0.15757736563682556, 0.05252578854560852, 0.21010315418243408, 0.05252578854560852, 0.05252578854560852, 0.05252578854560852, 0.15757736563682556, 0.05252578854560852, 0.4582575261592865, 0.15275250375270844, 0.15275250375270844, 0.6564639806747437, 0.45523059368133545, 0.7016843557357788, 0.3215785622596741, 0.042738720774650574, 0.042738720774650574, 0.042738720774650574, 0.1709548830986023, 0.042738720774650574, 0.08547744154930115, 0.042738720774650574, 0.08547744154930115, 0.3419097661972046, 0.042738720774650574, 0.08547744154930115, 0.6015215516090393, 0.13432526588439941, 0.13432526588439941, 0.13432526588439941, 0.40297579765319824, 0.6527869701385498, 0.5796688199043274, 0.32629796862602234, 0.3798026740550995, 0.0792846530675888, 0.0396423265337944, 0.059463489800691605, 0.09910581260919571, 0.0792846530675888, 0.0198211632668972, 0.0792846530675888, 0.2576751112937927, 0.0396423265337944, 0.059463489800691605, 0.0396423265337944, 0.09910581260919571, 0.0198211632668972, 0.0198211632668972, 0.0396423265337944, 0.6156579256057739, 0.4334523379802704, 0.08669047057628632, 0.08669047057628632, 0.17338094115257263, 0.08669047057628632, 0.08669047057628632, 0.10711323469877243, 0.10711323469877243, 0.4284529387950897, 0.10711323469877243, 0.10711323469877243, 0.10711323469877243, 0.05746140703558922, 0.02873070351779461, 0.05746140703558922, 0.11492281407117844, 0.11492281407117844, 0.25857633352279663, 0.02873070351779461, 0.05746140703558922, 0.02873070351779461, 0.02873070351779461, 0.05746140703558922, 0.02873070351779461, 0.02873070351779461, 0.05746140703558922, 0.02873070351779461, 0.05175696313381195, 0.05175696313381195, 0.1035139262676239, 0.1035139262676239, 0.1035139262676239, 0.05175696313381195, 0.05175696313381195, 0.05175696313381195, 0.05175696313381195, 0.3105417788028717, 0.1035139262676239, 0.05175696313381195, 0.5644696950912476, 0.620140552520752, 0.0871504545211792, 0.0871504545211792, 0.5229027271270752, 0.0871504545211792, 0.0871504545211792, 0.0871504545211792, 0.1066272035241127, 0.1066272035241127, 0.1066272035241127, 0.1066272035241127, 0.5331360101699829, 0.08659878373146057, 0.08659878373146057, 0.6061914563179016, 0.08659878373146057, 0.08659878373146057, 0.06158732995390892, 0.020529109984636307, 0.10264554619789124, 0.020529109984636307, 0.08211643993854523, 0.20529109239578247, 0.10264554619789124, 0.041058219969272614, 0.06158732995390892, 0.020529109984636307, 0.020529109984636307, 0.2668784260749817, 0.020529109984636307, 0.09911508113145828, 0.012389385141432285, 0.111504465341568, 0.04955754056572914, 0.07433631271123886, 0.18584077060222626, 0.06194692477583885, 0.012389385141432285, 0.03716815635561943, 0.03716815635561943, 0.04955754056572914, 0.06194692477583885, 0.09911508113145828, 0.04955754056572914, 0.06194692477583885, 0.5197790861129761, 0.7614650130271912, 0.11248073726892471, 0.11248073726892471, 0.11248073726892471, 0.11248073726892471, 0.11248073726892471, 0.11248073726892471, 0.33744218945503235, 0.0744580402970314, 0.0744580402970314, 0.0744580402970314, 0.1489160805940628, 0.3722901940345764, 0.0744580402970314, 0.0744580402970314, 0.13273939490318298, 0.13273939490318298, 0.5309575796127319, 0.13273939490318298, 0.7461884617805481, 0.038200486451387405, 0.07640097290277481, 0.09550121426582336, 0.019100243225693703, 0.05730072781443596, 0.30560389161109924, 0.019100243225693703, 0.019100243225693703, 0.19100242853164673, 0.038200486451387405, 0.038200486451387405, 0.019100243225693703, 0.038200486451387405, 0.038200486451387405, 0.5269191861152649, 0.17563971877098083, 0.15863877534866333, 0.6345551013946533, 0.5487726330757141, 0.24404411017894745, 0.4880882203578949, 0.40161001682281494, 0.033467501401901245, 0.06693500280380249, 0.033467501401901245, 0.033467501401901245, 0.033467501401901245, 0.20080500841140747, 0.033467501401901245, 0.033467501401901245, 0.033467501401901245, 0.033467501401901245, 0.033467501401901245, 0.033467501401901245, 0.5416038632392883, 0.16304950416088104, 0.48914849758148193, 0.16304950416088104, 0.06712503731250763, 0.033562518656253815, 0.06712503731250763, 0.033562518656253815, 0.10068755596876144, 0.033562518656253815, 0.033562518656253815, 0.033562518656253815, 0.033562518656253815, 0.06712503731250763, 0.13425007462501526, 0.033562518656253815, 0.16781260073184967, 0.16781260073184967, 0.033562518656253815, 0.0788053497672081, 0.3152213990688324, 0.0788053497672081, 0.0788053497672081, 0.1576106995344162, 0.0788053497672081, 0.0788053497672081, 0.0788053497672081, 0.0788053497672081, 0.1576106995344162, 0.17225375771522522, 0.516761302947998, 0.17225375771522522, 0.6515740752220154, 0.18194690346717834, 0.18194690346717834, 0.3638938069343567, 0.18194690346717834, 0.46988627314567566, 0.03299807384610176, 0.13199229538440704, 0.06599614769220352, 0.5939653515815735, 0.03299807384610176, 0.03299807384610176, 0.03299807384610176, 0.03299807384610176, 0.03299807384610176, 0.21452660858631134, 0.026815826073288918, 0.3217898905277252, 0.026815826073288918, 0.053631652146577835, 0.053631652146577835, 0.13407912850379944, 0.026815826073288918, 0.026815826073288918, 0.026815826073288918, 0.026815826073288918, 0.026815826073288918, 0.053631652146577835, 0.4339536428451538, 0.06414524465799332, 0.06414524465799332, 0.025658097118139267, 0.20526477694511414, 0.051316194236278534, 0.11546143144369125, 0.051316194236278534, 0.0769742876291275, 0.051316194236278534, 0.06414524465799332, 0.03848714381456375, 0.051316194236278534, 0.051316194236278534, 0.03848714381456375, 0.06414524465799332, 0.03546716645359993, 0.03546716645359993, 0.07093433290719986, 0.17733582854270935, 0.03546716645359993, 0.07093433290719986, 0.10640150308609009, 0.2482701689004898, 0.03546716645359993, 0.07093433290719986, 0.07093433290719986, 0.07093433290719986, 0.03546716645359993, 0.8108633160591125, 0.2431393414735794, 0.4862786829471588, 0.5239336490631104, 0.05792371556162834, 0.289618581533432, 0.05792371556162834, 0.17377114295959473, 0.05792371556162834, 0.05792371556162834, 0.17377114295959473, 0.11584743112325668, 0.06798875331878662, 0.03399437665939331, 0.03399437665939331, 0.06798875331878662, 0.06798875331878662, 0.06798875331878662, 0.03399437665939331, 0.3739381432533264, 0.03399437665939331, 0.10198312997817993, 0.03399437665939331, 0.03399437665939331, 0.06798875331878662, 0.46901577711105347, 0.03575196862220764, 0.03575196862220764, 0.01787598431110382, 0.19663582742214203, 0.07150393724441528, 0.07150393724441528, 0.03575196862220764, 0.05362795293331146, 0.03575196862220764, 0.03575196862220764, 0.0893799215555191, 0.03575196862220764, 0.10725590586662292, 0.12513189017772675, 0.05362795293331146, 0.6438206434249878, 0.5261262655258179, 0.566716730594635, 0.09381506592035294, 0.09381506592035294, 0.09381506592035294, 0.46907535195350647, 0.09381506592035294, 0.678754448890686, 0.5594744682312012, 0.23915788531303406, 0.11957894265651703, 0.23915788531303406, 0.11957894265651703, 0.23915788531303406, 0.6020897030830383, 0.15052242577075958, 0.40874338150024414, 0.6150847673416138, 0.06076323986053467, 0.10127206891775131, 0.020254412665963173, 0.12152647972106934, 0.020254412665963173, 0.040508825331926346, 0.08101765066385269, 0.22279854118824005, 0.040508825331926346, 0.08101765066385269, 0.040508825331926346, 0.020254412665963173, 0.040508825331926346, 0.020254412665963173, 0.06076323986053467, 0.4710065722465515, 0.8364171385765076, 0.04981587827205658, 0.04981587827205658, 0.07472381740808487, 0.02490793913602829, 0.14944763481616974, 0.12453969568014145, 0.02490793913602829, 0.04981587827205658, 0.04981587827205658, 0.02490793913602829, 0.19926351308822632, 0.02490793913602829, 0.04981587827205658, 0.07472381740808487, 0.5941935181617737, 0.06640651822090149, 0.06640651822090149, 0.09960976988077164, 0.033203259110450745, 0.033203259110450745, 0.09960976988077164, 0.033203259110450745, 0.033203259110450745, 0.06640651822090149, 0.033203259110450745, 0.23242279887199402, 0.033203259110450745, 0.033203259110450745, 0.033203259110450745, 0.06640651822090149, 0.621882975101471, 0.7625582218170166, 0.33795875310897827, 0.13518349826335907, 0.13518349826335907, 0.06759174913167953, 0.06759174913167953, 0.06759174913167953, 0.06759174913167953, 0.06759174913167953, 0.623172402381897, 0.17270736396312714, 0.6908294558525085, 0.6702536940574646, 0.24937695264816284, 0.4987539052963257, 0.38305404782295227, 0.09370040148496628, 0.07287808507680893, 0.0832892432808876, 0.0832892432808876, 0.07287808507680893, 0.10411155223846436, 0.0832892432808876, 0.05205577611923218, 0.062466930598020554, 0.05205577611923218, 0.0832892432808876, 0.0416446216404438, 0.0208223108202219, 0.062466930598020554, 0.0416446216404438, 0.6315262317657471, 0.08636908233165741, 0.08636908233165741, 0.051821447908878326, 0.051821447908878326, 0.08636908233165741, 0.03454763442277908, 0.051821447908878326, 0.12091671675443649, 0.12091671675443649, 0.051821447908878326, 0.06909526884555817, 0.051821447908878326, 0.051821447908878326, 0.03454763442277908, 0.06909526884555817, 0.08893392235040665, 0.1778678447008133, 0.08893392235040665, 0.1778678447008133, 0.26680174469947815, 0.057640206068754196, 0.04323015362024307, 0.08646030724048615, 0.028820103034377098, 0.057640206068754196, 0.3026110827922821, 0.057640206068754196, 0.028820103034377098, 0.028820103034377098, 0.057640206068754196, 0.028820103034377098, 0.057640206068754196, 0.014410051517188549, 0.10087036341428757, 0.04323015362024307, 0.1730850338935852, 0.0432712584733963, 0.0432712584733963, 0.0432712584733963, 0.4759838581085205, 0.0432712584733963, 0.0865425169467926, 0.0432712584733963, 0.0432712584733963, 0.5072077512741089, 0.18194690346717834, 0.18194690346717834, 0.3638938069343567, 0.18194690346717834, 0.13055191934108734, 0.5222076773643494, 0.13055191934108734, 0.13055191934108734, 0.18969804048538208, 0.04742451012134552, 0.04742451012134552, 0.07113676518201828, 0.04742451012134552, 0.02371225506067276, 0.07113676518201828, 0.1185612753033638, 0.02371225506067276, 0.14227353036403656, 0.04742451012134552, 0.02371225506067276, 0.02371225506067276, 0.07113676518201828, 0.04742451012134552, 0.13152047991752625, 0.13152047991752625, 0.526081919670105, 0.45523056387901306, 0.13901396095752716, 0.13901396095752716, 0.5560558438301086, 0.6653090119361877, 0.674468457698822, 0.1302786022424698, 0.03256965056061745, 0.5211144089698792, 0.1302786022424698, 0.03256965056061745, 0.0651393011212349, 0.03256965056061745, 0.0651393011212349, 0.6192489862442017, 0.6408824920654297, 0.04014359042048454, 0.04014359042048454, 0.04014359042048454, 0.04014359042048454, 0.16057436168193817, 0.04014359042048454, 0.04014359042048454, 0.08028718084096909, 0.04014359042048454, 0.04014359042048454, 0.12043077498674393, 0.04014359042048454, 0.2810051441192627, 0.5660578608512878, 0.581403374671936, 0.47468581795692444, 0.20835711061954498, 0.08334284275770187, 0.04167142137885094, 0.4583856463432312, 0.04167142137885094, 0.08334284275770187, 0.04167142137885094, 0.4351840317249298, 0.5760909914970398, 0.3897756338119507, 0.29184195399284363, 0.5836839079856873, 0.7308176159858704, 0.1577749401330948, 0.6310997605323792, 0.45178285241127014, 0.04413609579205513, 0.04413609579205513, 0.04413609579205513, 0.08827219158411026, 0.04413609579205513, 0.04413609579205513, 0.08827219158411026, 0.08827219158411026, 0.48549705743789673, 0.45935022830963135, 0.5714053511619568, 0.689426064491272, 0.662406325340271, 0.03312031552195549, 0.09936094284057617, 0.03312031552195549, 0.06624063104391098, 0.03312031552195549, 0.03312031552195549, 0.5261895060539246, 0.14691415429115295, 0.4407424330711365, 0.14691415429115295, 0.10336106270551682, 0.10336106270551682, 0.10336106270551682, 0.10336106270551682, 0.10336106270551682, 0.10336106270551682, 0.31008321046829224, 0.07440656423568726, 0.07440656423568726, 0.07440656423568726, 0.07440656423568726, 0.07440656423568726, 0.1488131284713745, 0.07440656423568726, 0.22321969270706177, 0.07440656423568726, 0.4729272127151489, 0.31759023666381836, 0.2656543254852295, 0.531308650970459, 0.5350294709205627, 0.10700589418411255, 0.10700589418411255, 0.10700589418411255, 0.4194316864013672, 0.34758296608924866, 0.40489381551742554, 0.6287490725517273, 0.7401865124702454, 0.425331175327301, 0.6501709222793579, 0.06501708924770355, 0.06501708924770355, 0.06501708924770355, 0.06501708924770355, 0.6702536940574646, 0.6564639806747437, 0.08541777729988098, 0.08541777729988098, 0.04270888864994049, 0.08541777729988098, 0.04270888864994049, 0.04270888864994049, 0.08541777729988098, 0.08541777729988098, 0.04270888864994049, 0.04270888864994049, 0.04270888864994049, 0.12812666594982147, 0.21354444324970245, 0.599584698677063, 0.4513978064060211, 0.16227908432483673, 0.6491163372993469, 0.39601394534111023, 0.6377422213554382, 0.0637742206454277, 0.1275484412908554, 0.0637742206454277, 0.09333067387342453, 0.09333067387342453, 0.09333067387342453, 0.09333067387342453, 0.09333067387342453, 0.3733226954936981, 0.09333067387342453, 0.04237654060125351, 0.016950614750385284, 0.05085184797644615, 0.07627777010202408, 0.025425923988223076, 0.05085184797644615, 0.04237654060125351, 0.05085184797644615, 0.025425923988223076, 0.04237654060125351, 0.025425923988223076, 0.18645676970481873, 0.2881604731082916, 0.03390122950077057, 0.03390122950077057, 0.20364069938659668, 0.05091017484664917, 0.05091017484664917, 0.05091017484664917, 0.05091017484664917, 0.05091017484664917, 0.10182034969329834, 0.25455087423324585, 0.05091017484664917, 0.05091017484664917, 0.05091017484664917, 0.05091017484664917, 0.05091017484664917, 0.14773084223270416, 0.07386542111635208, 0.4431925117969513, 0.07386542111635208, 0.07386542111635208, 0.14773084223270416, 0.12134280800819397, 0.12134280800819397, 0.24268561601638794, 0.3640284240245819, 0.12134280800819397, 0.4629596769809723, 0.09259193390607834, 0.09259193390607834, 0.09259193390607834, 0.09259193390607834, 0.5837320685386658, 0.11674641072750092, 0.11674641072750092, 0.11674641072750092, 0.6669877171516418, 0.06035742536187172, 0.03017871268093586, 0.03017871268093586, 0.03017871268093586, 0.03017871268093586, 0.03017871268093586, 0.09053613245487213, 0.3621445298194885, 0.03017871268093586, 0.15089355409145355, 0.03017871268093586, 0.03017871268093586, 0.03017871268093586, 0.06035742536187172, 0.6070249676704407, 0.07928594201803207, 0.07928594201803207, 0.01982148550450802, 0.03964297100901604, 0.09910742938518524, 0.17839336395263672, 0.11892890930175781, 0.03964297100901604, 0.09910742938518524, 0.01982148550450802, 0.059464454650878906, 0.01982148550450802, 0.01982148550450802, 0.09910742938518524, 0.03964297100901604, 0.141947403550148, 0.056778959929943085, 0.22711583971977234, 0.028389479964971542, 0.028389479964971542, 0.056778959929943085, 0.028389479964971542, 0.056778959929943085, 0.028389479964971542, 0.028389479964971542, 0.056778959929943085, 0.283894807100296, 0.028389479964971542, 0.028389479964971542, 0.028389479964971542, 0.4710131585597992, 0.2355065792798996, 0.16406859457492828, 0.49220576882362366, 0.5261895060539246, 0.45688557624816895, 0.15229518711566925, 0.07614759355783463, 0.07614759355783463, 0.07614759355783463, 0.5657961368560791, 0.18758311867713928, 0.5627493262290955, 0.18758311867713928, 0.40198442339897156, 0.12684983015060425, 0.507399320602417, 0.10120302438735962, 0.06746868044137955, 0.033734340220689774, 0.06746868044137955, 0.10120302438735962, 0.033734340220689774, 0.06746868044137955, 0.033734340220689774, 0.033734340220689774, 0.43854644894599915, 0.033734340220689774, 0.6015215516090393, 0.6868856549263, 0.2034037709236145, 0.2034037709236145, 0.406807541847229, 0.47181758284568787, 0.11795439571142197, 0.11795439571142197, 0.11795439571142197, 0.11795439571142197, 0.14288343489170074, 0.571533739566803, 0.7693691253662109, 0.15030455589294434, 0.450913667678833, 0.15030455589294434, 0.15030455589294434, 0.6132321953773499, 0.5480947494506836, 0.48369672894477844, 0.1585744172334671, 0.6342976689338684, 0.47292715311050415, 0.3977016806602478, 0.5462328195571899, 0.135764017701149, 0.6788201332092285, 0.48339205980300903, 0.24169602990150452, 0.06581586599349976, 0.4607110917568207, 0.06581586599349976, 0.06581586599349976, 0.06581586599349976, 0.06581586599349976, 0.06581586599349976, 0.06581586599349976, 0.06581586599349976, 0.3024211525917053, 0.6048423051834106, 0.47468581795692444, 0.5230953097343445, 0.6592762470245361, 0.6291472911834717, 0.31457364559173584, 0.7185811996459961, 0.07893378287553787, 0.039466891437768936, 0.039466891437768936, 0.019733445718884468, 0.15786756575107574, 0.019733445718884468, 0.059200335294008255, 0.07893378287553787, 0.13813412189483643, 0.09866722673177719, 0.07893378287553787, 0.019733445718884468, 0.059200335294008255, 0.039466891437768936, 0.059200335294008255, 0.5276173949241638, 0.4628644287586212, 0.040099844336509705, 0.040099844336509705, 0.12029954046010971, 0.08019968867301941, 0.08019968867301941, 0.44109830260276794, 0.040099844336509705, 0.040099844336509705, 0.040099844336509705, 0.040099844336509705, 0.08101611584424973, 0.14177820086479187, 0.060762085020542145, 0.02025402896106243, 0.16203223168849945, 0.04050805792212486, 0.060762085020542145, 0.04050805792212486, 0.24304834008216858, 0.02025402896106243, 0.04050805792212486, 0.04050805792212486, 0.02025402896106243, 0.02025402896106243, 0.02025402896106243, 0.09415426850318909, 0.37661707401275635, 0.37661707401275635, 0.09415426850318909, 0.5199306607246399, 0.5076522827148438, 0.6330730319023132, 0.5235623717308044, 0.5064102411270142, 0.6083030700683594, 0.20276768505573273, 0.6113521456718445, 0.2037840485572815, 0.17826010286808014, 0.17826010286808014, 0.3565202057361603, 0.1849832981824875, 0.5549498796463013, 0.10760365426540375, 0.430414617061615, 0.2152073085308075, 0.10760365426540375, 0.2152073085308075, 0.027401108294725418, 0.027401108294725418, 0.027401108294725418, 0.08220332860946655, 0.027401108294725418, 0.027401108294725418, 0.027401108294725418, 0.027401108294725418, 0.08220332860946655, 0.13700555264949799, 0.027401108294725418, 0.054802216589450836, 0.24660998582839966, 0.027401108294725418, 0.13700555264949799, 0.578828752040863, 0.19294291734695435, 0.7942957282066345, 0.08759742975234985, 0.08759742975234985, 0.5255845785140991, 0.08759742975234985, 0.08759742975234985, 0.08759742975234985, 0.2665015161037445, 0.02665015123784542, 0.3464519679546356, 0.02665015123784542, 0.02665015123784542, 0.05330030247569084, 0.05330030247569084, 0.02665015123784542, 0.02665015123784542, 0.02665015123784542, 0.02665015123784542, 0.07995045185089111, 0.5830883979797363, 0.07288604974746704, 0.07288604974746704, 0.07288604974746704, 0.07288604974746704, 0.07288604974746704, 0.693960428237915, 0.3437747061252594, 0.04203743115067482, 0.02101871557533741, 0.02101871557533741, 0.02101871557533741, 0.04203743115067482, 0.02101871557533741, 0.04203743115067482, 0.12611229717731476, 0.04203743115067482, 0.06305614858865738, 0.04203743115067482, 0.3573181629180908, 0.04203743115067482, 0.1050935834646225, 0.5207141637802124, 0.6295825242996216, 0.4749225378036499, 0.1225619986653328, 0.4902479946613312, 0.1225619986653328, 0.1225619986653328, 0.4593501687049866, 0.32395321130752563, 0.32395321130752563, 0.1558919996023178, 0.4676760137081146, 0.1558919996023178, 0.17105771601200104, 0.6842308640480042, 0.672339677810669, 0.6596065163612366, 0.6095177531242371, 0.15237943828105927, 0.5480947494506836, 0.47388583421707153, 0.15796193480491638, 0.15796193480491638, 0.5655259490013123, 0.18708167970180511, 0.5612450242042542, 0.03621720150113106, 0.03621720150113106, 0.543258011341095, 0.07243440300226212, 0.03621720150113106, 0.07243440300226212, 0.03621720150113106, 0.03621720150113106, 0.03621720150113106, 0.03621720150113106, 0.03621720150113106, 0.5261894464492798, 0.16954776644706726, 0.16954776644706726, 0.16954776644706726, 0.3390955328941345, 0.14109264314174652, 0.5643705725669861, 0.14109264314174652, 0.5090401768684387, 0.6090816855430603, 0.10872168838977814, 0.05436084419488907, 0.10872168838977814, 0.05436084419488907, 0.05436084419488907, 0.05436084419488907, 0.21744337677955627, 0.05436084419488907, 0.05436084419488907, 0.10872168838977814, 0.05436084419488907, 0.17622590065002441, 0.17622590065002441, 0.17622590065002441, 0.35245180130004883, 0.5199114680290222, 0.16224926710128784, 0.4867478311061859, 0.6267023682594299, 0.8280854821205139, 0.4616939127445221, 0.44149282574653625, 0.09957239031791687, 0.09957239031791687, 0.49786192178726196, 0.09957239031791687, 0.09179605543613434, 0.04589802771806717, 0.09179605543613434, 0.04589802771806717, 0.4589802920818329, 0.04589802771806717, 0.04589802771806717, 0.04589802771806717, 0.09179605543613434, 0.04589802771806717, 0.6738594174385071, 0.10876134783029556, 0.036253783851861954, 0.036253783851861954, 0.07250756770372391, 0.07250756770372391, 0.07250756770372391, 0.036253783851861954, 0.43504539132118225, 0.036253783851861954, 0.07250756770372391, 0.036253783851861954, 0.036253783851861954, 0.10569201409816742, 0.10569201409816742, 0.07046134769916534, 0.10569201409816742, 0.03523067384958267, 0.07046134769916534, 0.03523067384958267, 0.03523067384958267, 0.03523067384958267, 0.03523067384958267, 0.03523067384958267, 0.10569201409816742, 0.07046134769916534, 0.21138402819633484, 0.5962595343589783, 0.07521484792232513, 0.1128222718834877, 0.06581299006938934, 0.09401856362819672, 0.07521484792232513, 0.03760742396116257, 0.1128222718834877, 0.05641113594174385, 0.09401856362819672, 0.07521484792232513, 0.06581299006938934, 0.03760742396116257, 0.028205567970871925, 0.04700928181409836, 0.03760742396116257, 0.45139774680137634, 0.6878907084465027, 0.07967962324619293, 0.07967962324619293, 0.07967962324619293, 0.07967962324619293, 0.07967962324619293, 0.07967962324619293, 0.39839810132980347, 0.07967962324619293, 0.49687477946281433, 0.09937495738267899, 0.09937495738267899, 0.09937495738267899, 0.3624873459339142, 0.01782250590622425, 0.0534675158560276, 0.142580047249794, 0.071290023624897, 0.1069350317120552, 0.0534675158560276, 0.0891125276684761, 0.071290023624897, 0.0534675158560276, 0.01782250590622425, 0.0356450118124485, 0.071290023624897, 0.0891125276684761, 0.071290023624897, 0.01782250590622425, 0.1477905660867691, 0.2955811321735382, 0.07389528304338455, 0.07389528304338455, 0.07389528304338455, 0.07389528304338455, 0.07389528304338455, 0.1477905660867691, 0.5690609812736511, 0.14226524531841278, 0.22414882481098175, 0.04482976347208023, 0.08965952694416046, 0.08965952694416046, 0.04482976347208023, 0.04482976347208023, 0.04482976347208023, 0.1344892978668213, 0.04482976347208023, 0.04482976347208023, 0.08965952694416046, 0.04482976347208023, 0.6327372789382935, 0.09029065817594528, 0.09029065817594528, 0.5417439341545105, 0.09029065817594528, 0.09029065817594528, 0.04639662057161331, 0.1237243190407753, 0.04639662057161331, 0.07732769846916199, 0.10825878381729126, 0.04639662057161331, 0.06186215952038765, 0.04639662057161331, 0.10825878381729126, 0.04639662057161331, 0.04639662057161331, 0.04639662057161331, 0.07732769846916199, 0.06186215952038765, 0.07732769846916199, 0.09426066279411316, 0.09426066279411316, 0.18852132558822632, 0.09426066279411316, 0.09426066279411316, 0.09426066279411316, 0.2827819883823395, 0.09898718446493149, 0.049493592232465744, 0.09898718446493149, 0.24746796488761902, 0.049493592232465744, 0.09898718446493149, 0.09898718446493149, 0.049493592232465744, 0.049493592232465744, 0.14848077297210693, 0.31505700945854187, 0.6032770276069641, 0.10206838697195053, 0.025517096742987633, 0.07655128836631775, 0.025517096742987633, 0.025517096742987633, 0.025517096742987633, 0.28068807721138, 0.10206838697195053, 0.051034193485975266, 0.051034193485975266, 0.07655128836631775, 0.025517096742987633, 0.025517096742987633, 0.025517096742987633, 0.07655128836631775, 0.04001649096608162, 0.04001649096608162, 0.08003298193216324, 0.08003298193216324, 0.04001649096608162, 0.2400989532470703, 0.04001649096608162, 0.16006596386432648, 0.04001649096608162, 0.04001649096608162, 0.12004947662353516, 0.08003298193216324, 0.13786929845809937, 0.13786929845809937, 0.13786929845809937, 0.27573859691619873, 0.13786929845809937, 0.09449846297502518, 0.09449846297502518, 0.09449846297502518, 0.4724923074245453, 0.09449846297502518, 0.174143984913826, 0.0435359962284565, 0.087071992456913, 0.18865598738193512, 0.014511999674141407, 0.05804799869656563, 0.0435359962284565, 0.05804799869656563, 0.0435359962284565, 0.029023999348282814, 0.029023999348282814, 0.11609599739313126, 0.05804799869656563, 0.014511999674141407, 0.029023999348282814, 0.04071349278092384, 0.0678558200597763, 0.0678558200597763, 0.12214047461748123, 0.027142329141497612, 0.10856931656599045, 0.16285397112369537, 0.054284658282995224, 0.054284658282995224, 0.013571164570748806, 0.0678558200597763, 0.04071349278092384, 0.04071349278092384, 0.0678558200597763, 0.0678558200597763, 0.43210673332214355, 0.4148327708244324, 0.3504391610622406, 0.5551041960716248, 0.27590417861938477, 0.27590417861938477, 0.21939541399478912, 0.06581862270832062, 0.021939542144536972, 0.3290931284427643, 0.021939542144536972, 0.043879084289073944, 0.043879084289073944, 0.043879084289073944, 0.021939542144536972, 0.021939542144536972, 0.021939542144536972, 0.043879084289073944, 0.06581862270832062, 0.3897756040096283, 0.0642886832356453, 0.5143094658851624, 0.0642886832356453, 0.0642886832356453, 0.0642886832356453, 0.1285773664712906, 0.0642886832356453, 0.16227908432483673, 0.6491163372993469, 0.6346017718315125, 0.1586504429578781, 0.4257826507091522, 0.1198720932006836, 0.1198720932006836, 0.2397441864013672, 0.3596162796020508, 0.37191641330718994, 0.18595820665359497, 0.09297910332679749, 0.09297910332679749, 0.09297910332679749, 0.09297910332679749, 0.6452344059944153, 0.3798027038574219, 0.7742407917976379, 0.7499704360961914, 0.5922213196754456, 0.08166304975748062, 0.04083152487874031, 0.08166304975748062, 0.12249457091093063, 0.04083152487874031, 0.20415762066841125, 0.04083152487874031, 0.04083152487874031, 0.12249457091093063, 0.04083152487874031, 0.04083152487874031, 0.04083152487874031, 0.04083152487874031, 0.8381840586662292, 0.3944772779941559, 0.06425545364618301, 0.3212772607803345, 0.06425545364618301, 0.06425545364618301, 0.12851090729236603, 0.12851090729236603, 0.06425545364618301, 0.06425545364618301, 0.06425545364618301, 0.6386998891830444, 0.4340968728065491, 0.14469896256923676, 0.14469896256923676, 0.7242068648338318, 0.0800422728061676, 0.03430383279919624, 0.18295376002788544, 0.10291149467229843, 0.03430383279919624, 0.10291149467229843, 0.057173050940036774, 0.11434610188007355, 0.057173050940036774, 0.02286922000348568, 0.04573844000697136, 0.03430383279919624, 0.04573844000697136, 0.03430383279919624, 0.03430383279919624, 0.5970873832702637, 0.1421191394329071, 0.1421191394329071, 0.4263573884963989, 0.1421191394329071, 0.6238546967506409, 0.6247131824493408, 0.04134034365415573, 0.16536137461662292, 0.04134034365415573, 0.04134034365415573, 0.20670172572135925, 0.08268068730831146, 0.08268068730831146, 0.08268068730831146, 0.04134034365415573, 0.08268068730831146, 0.04134034365415573, 0.04134034365415573, 0.04134034365415573, 0.04134034365415573, 0.30859464406967163, 0.30859464406967163, 0.15429732203483582, 0.05843981355428696, 0.08765972405672073, 0.05843981355428696, 0.02921990677714348, 0.05843981355428696, 0.05843981355428696, 0.02921990677714348, 0.02921990677714348, 0.32141897082328796, 0.02921990677714348, 0.05843981355428696, 0.05843981355428696, 0.02921990677714348, 0.08765972405672073, 0.05843981355428696, 0.6170193552970886, 0.3572293519973755, 0.4729272127151489, 0.14737080037593842, 0.055264052003622055, 0.018421350046992302, 0.07368540018796921, 0.055264052003622055, 0.055264052003622055, 0.055264052003622055, 0.12894944846630096, 0.036842700093984604, 0.11052810400724411, 0.11052810400724411, 0.055264052003622055, 0.018421350046992302, 0.055264052003622055, 0.036842700093984604, 0.13927404582500458, 0.13927404582500458, 0.13927404582500458, 0.4178221523761749, 0.06426682323217392, 0.04284455254673958, 0.44986778497695923, 0.04284455254673958, 0.02142227627336979, 0.02142227627336979, 0.06426682323217392, 0.04284455254673958, 0.02142227627336979, 0.02142227627336979, 0.06426682323217392, 0.02142227627336979, 0.02142227627336979, 0.04284455254673958, 0.06426682323217392, 0.10520505160093307, 0.10520505160093307, 0.5260252356529236, 0.18660469353199005, 0.3732093870639801, 0.1403609663248062, 0.08020626753568649, 0.040103133767843246, 0.08020626753568649, 0.040103133767843246, 0.06015470251441002, 0.10025783628225327, 0.06015470251441002, 0.16041253507137299, 0.020051566883921623, 0.06015470251441002, 0.06015470251441002, 0.020051566883921623, 0.040103133767843246, 0.040103133767843246, 0.45441365242004395, 0.6529188752174377, 0.10254867374897003, 0.0854572281241417, 0.03418289124965668, 0.051274336874485016, 0.10254867374897003, 0.15382301807403564, 0.06836578249931335, 0.06836578249931335, 0.0854572281241417, 0.01709144562482834, 0.051274336874485016, 0.03418289124965668, 0.01709144562482834, 0.10254867374897003, 0.03418289124965668, 0.15331363677978516, 0.4599408805370331, 0.15331363677978516, 0.1298701912164688, 0.041011638939380646, 0.10936437547206879, 0.06835273653268814, 0.06835273653268814, 0.07518801093101501, 0.06151746213436127, 0.06835273653268814, 0.027341093868017197, 0.06151746213436127, 0.05468218773603439, 0.06151746213436127, 0.06151746213436127, 0.041011638939380646, 0.06151746213436127, 0.12223360687494278, 0.4889344274997711, 0.12223360687494278, 0.05706794932484627, 0.07609059661626816, 0.13315854966640472, 0.07609059661626816, 0.07609059661626816, 0.1712038516998291, 0.05706794932484627, 0.05706794932484627, 0.05706794932484627, 0.01902264915406704, 0.03804529830813408, 0.03804529830813408, 0.09511324763298035, 0.01902264915406704, 0.03804529830813408, 0.5199307203292847, 0.43420636653900146, 0.6692965030670166, 0.5418909192085266, 0.06349887698888779, 0.07257014513015747, 0.18142536282539368, 0.06349887698888779, 0.08164141327142715, 0.09071268141269684, 0.04535634070634842, 0.07257014513015747, 0.04535634070634842, 0.036285072565078735, 0.04535634070634842, 0.07257014513015747, 0.06349887698888779, 0.036285072565078735, 0.04535634070634842, 0.08572741597890854, 0.06858193129301071, 0.034290965646505356, 0.034290965646505356, 0.05143645033240318, 0.05143645033240318, 0.08572741597890854, 0.10287290066480637, 0.017145482823252678, 0.05143645033240318, 0.05143645033240318, 0.2400367707014084, 0.06858193129301071, 0.017145482823252678, 0.017145482823252678, 0.42207852005958557, 0.25324711203575134, 0.08441570401191711, 0.08441570401191711, 0.08441570401191711, 0.0353320948779583, 0.0353320948779583, 0.4239851236343384, 0.0353320948779583, 0.0353320948779583, 0.1059962809085846, 0.0706641897559166, 0.1059962809085846, 0.0353320948779583, 0.0353320948779583, 0.0706641897559166, 0.0353320948779583, 0.0353320948779583, 0.23297661542892456, 0.23297661542892456, 0.4659532308578491, 0.48729580640792847, 0.550354540348053, 0.09079935401678085, 0.09079935401678085, 0.09079935401678085, 0.3631974160671234, 0.3631974160671234, 0.07367707788944244, 0.05525780841708183, 0.03683853894472122, 0.03683853894472122, 0.12893489003181458, 0.03683853894472122, 0.05525780841708183, 0.11051561683416367, 0.12893489003181458, 0.07367707788944244, 0.09209634363651276, 0.01841926947236061, 0.05525780841708183, 0.01841926947236061, 0.05525780841708183, 0.48369672894477844, 0.5657961368560791, 0.16259434819221497, 0.32518869638442993, 0.37297332286834717, 0.37297332286834717, 0.4694138765335083, 0.6787546277046204, 0.4694138169288635, 0.1440216451883316, 0.1440216451883316, 0.4320649206638336, 0.1440216451883316, 0.6517491340637207, 0.4694138169288635, 0.5236358046531677, 0.6517491340637207, 0.5236358046531677, 0.7396202683448792, 0.5236358046531677, 0.5236358642578125, 0.6517491340637207, 0.4694138765335083, 0.578874409198761, 0.4694138765335083, 0.5743475556373596, 0.6787545680999756, 0.4455510973930359, 0.5261895060539246, 0.4694138169288635, 0.5444422960281372, 0.5901472568511963, 0.4694138169288635, 0.2318107783794403, 0.4636215567588806, 0.11590538918972015, 0.11590538918972015, 0.41509732604026794, 0.23404745757579803, 0.7021423578262329, 0.41509732604026794, 0.5540895462036133, 0.23404747247695923, 0.7021424174308777, 0.37297335267066956, 0.37297335267066956, 0.4870451092720032, 0.2435225546360016, 0.0786665827035904, 0.0786665827035904, 0.05244438722729683, 0.0786665827035904, 0.05244438722729683, 0.026222193613648415, 0.05244438722729683, 0.026222193613648415, 0.20977754890918732, 0.05244438722729683, 0.0786665827035904, 0.10488877445459366, 0.026222193613648415, 0.05244438722729683], \"Term\": [\"0f\", \"0f\", \"0f\", \"0f\", \"1\", \"1\", \"1\", \"1\", \"1\", \"1\", \"1\", \"1\", \"1\", \"1\", \"1\", \"1\", \"1\", \"1\", \"1001\", \"1001\", \"10062019\", \"10am\", \"10am\", \"10k\", \"10th\", \"10th\", \"11k\", \"12\", \"12\", \"12\", \"12\", \"12\", \"12\", \"12\", \"12\", \"12\", \"12\", \"12\", \"12\", \"124k\", \"139\", \"15k\", \"15k\", \"168\", \"16k\", \"187k\", \"19th\", \"1st\", \"1st\", \"1st\", \"1st\", \"1st\", \"200\", \"20b\", \"20k\", \"20k\", \"21\", \"21\", \"21\", \"226k\", \"25k\", \"25k\", \"25k\", \"25k\", \"25k\", \"25k\", \"25k\", \"26k\", \"27\", \"27\", \"27\", \"27\", \"27\", \"27\", \"27\", \"27th\", \"2nd\", \"2nd\", \"2nd\", \"30k\", \"30k\", \"30k\", \"30k\", \"30k\", \"30k\", \"30k\", \"30k\", \"34\", \"34\", \"34\", \"34k\", \"35k\", \"35k\", \"35k\", \"360\\u00b0\", \"3ok\", \"3rd\", \"4\", \"4\", \"4\", \"4\", \"4\", \"4\", \"4\", \"4\", \"4\", \"4ever\", \"5050\", \"5050\", \"50k\", \"50over\", \"58\", \"58\", \"6\", \"6\", \"6\", \"6\", \"6\", \"6\", \"6\", \"6\", \"6\", \"6\", \"6\", \"6\", \"6\", \"6\", \"66\", \"666666\", \"666666\", \"6\\u00d76yuvi\", \"6\\u00d76yuvi\", \"8\", \"8\", \"8\", \"8\", \"8\", \"@\", \"@\", \"@akshay17\", \"@weirdo\", \"@zakeera\", \"a\", \"a\", \"a\", \"a\", \"a\", \"a\", \"a\", \"a\", \"a\", \"a\", \"a\", \"a\", \"a\", \"a\", \"a\", \"aajata\", \"aakhela\", \"action\", \"action\", \"admin\", \"admires\", \"again\", \"again\", \"again\", \"again\", \"again\", \"again\", \"again\", \"again\", \"against\", \"against\", \"against\", \"againstfreedomofexpression\", \"aggression\", \"aggression\", \"agression\", \"agression\", \"agression\", \"ahead\", \"ajeeb\", \"akmeher\", \"alert\", \"all\", \"all\", \"all\", \"all\", \"all\", \"all\", \"all\", \"all\", \"all\", \"all\", \"all\", \"all\", \"all\", \"all\", \"all\", \"allrounderthe\", \"almost\", \"always\", \"always\", \"always\", \"always\", \"always\", \"always\", \"always\", \"always\", \"always\", \"always\", \"always\", \"always\", \"always\", \"always\", \"always\", \"amark\", \"amazing\", \"amazing\", \"an\", \"an\", \"an\", \"an\", \"an\", \"an\", \"an\", \"an\", \"an\", \"an\", \"an\", \"an\", \"and\", \"and\", \"and\", \"and\", \"and\", \"and\", \"and\", \"and\", \"and\", \"and\", \"and\", \"and\", \"and\", \"and\", \"and\", \"anna\", \"anniversary\", \"anniversary\", \"anniversary\", \"anniversary\", \"anniversary\", \"anniversary\", \"anniversary\", \"announced\", \"announced\", \"announced\", \"announced\", \"announced\", \"announced\", \"announced\", \"announced\", \"anxiousfacewithsweat\", \"anxiousfacewithsweat\", \"anxiousfacewithsweat\", \"anxiousfacewithsweat\", \"anyone\", \"anyone\", \"anyone\", \"anyone\", \"anyone\", \"anyone\", \"anyone\", \"an\\u2026\", \"an\\u2026\", \"an\\u2026\", \"an\\u2026\", \"are\", \"are\", \"are\", \"are\", \"are\", \"are\", \"are\", \"are\", \"are\", \"are\", \"are\", \"are\", \"are\", \"are\", \"are\", \"armaan\", \"ase\", \"at\", \"at\", \"at\", \"at\", \"at\", \"at\", \"at\", \"at\", \"at\", \"at\", \"at\", \"at\", \"attendance\", \"attendance\", \"attendance\", \"attendance\", \"attitude\", \"attitude\", \"attitudedt\", \"attitudedt\", \"attitudedt\", \"attitudedt\", \"aur\", \"author\", \"available\", \"available\", \"available\", \"available\", \"awake\", \"awesome\", \"awesome\", \"awesome\", \"back\", \"back\", \"back\", \"back\", \"back\", \"back\", \"back\", \"back\", \"back\", \"backhandindexpointingright\", \"backhandindexpointingright\", \"backhandindexpointingright\", \"backhandindexpointingright\", \"backlift\", \"backlift\", \"backlift\", \"backlift\", \"backlift\", \"backlift\", \"backlift\", \"bad\", \"bad\", \"bad\", \"bad\", \"bad\", \"bad\", \"badly\", \"badly\", \"badly\", \"badly\", \"badly\", \"badly\", \"badly\", \"badly\", \"bahut\", \"bahut\", \"bahut\", \"bai\", \"balakrishna\", \"batman\", \"bcci\", \"be\", \"be\", \"be\", \"be\", \"be\", \"be\", \"be\", \"be\", \"be\", \"be\", \"be\", \"be\", \"be\", \"be\", \"be\", \"because\", \"because\", \"becoming\", \"been\", \"been\", \"been\", \"been\", \"been\", \"been\", \"been\", \"been\", \"been\", \"been\", \"been\", \"been\", \"beh\\u2026\", \"being\", \"being\", \"being\", \"being\", \"being\", \"being\", \"being\", \"being\", \"being\", \"belief\", \"believe\", \"believe\", \"believed\", \"bhaiya\", \"bhaji\", \"bhari\", \"bhavi\", \"bhavi\", \"bhavi\", \"bhavi\", \"bhavi\", \"bhavi\", \"bhavi\", \"bhavi\", \"bhavi\", \"bhavi\", \"bhavi\", \"bhavi\", \"bhi\", \"bhi\", \"bhut\", \"billion\", \"birthday\", \"birthday\", \"birthday\", \"blackheart\", \"blackheart\", \"blackheart\", \"blackheart\", \"blackheart\", \"blackheart\", \"blackheart\", \"blackheart\", \"blackheart\", \"blackheart\", \"blackheart\", \"blackheart\", \"bliss\", \"bliss\", \"blueheart\", \"blueheart\", \"blueheart\", \"blueheart\", \"blueheart\", \"blueheart\", \"blueheart\", \"blueheart\", \"blueheart\", \"blueheart\", \"blueheart\", \"boling\", \"boost\", \"boost\", \"born\", \"born\", \"born\", \"born\", \"bos\", \"bos\", \"bos\", \"bos\", \"bos\", \"boundary\", \"boundary\", \"boundary\", \"boundary\", \"boundary\", \"bouquet\", \"bouquet\", \"boy\", \"brave\", \"bring\", \"broad\\u2019s\", \"broad\\u2019s\", \"brokenheart\", \"brokenheart\", \"brokenheart\", \"brokenheart\", \"brokenheart\", \"brokenheart\", \"brokenheart\", \"brokenheart\", \"brokenheart\", \"brokenheart\", \"brokenheart\", \"brokenheart\", \"brokenheart\", \"brokenheart\", \"brotherhood\", \"build\", \"buy\", \"c\", \"c\", \"ca\", \"called\", \"called\", \"camera\", \"can\", \"can\", \"can\", \"can\", \"can\", \"can\", \"can\", \"can\", \"can\", \"can\", \"can\", \"can\", \"can\", \"car\", \"celebrate\", \"celebrate\", \"celebrate\", \"celebrates\", \"celebration\", \"celebrity\", \"celebrity\", \"chaddi\", \"chal\", \"champ\", \"champ\", \"champ\", \"champ\", \"champ\", \"champ\", \"champ\", \"champ\", \"champ\", \"champ\", \"champ\", \"champ\", \"champ\", \"champion\", \"champion\", \"champion\", \"champion\", \"champion\", \"champion\", \"champion\", \"champion\", \"champion\", \"champion\", \"champion\", \"champion\", \"chandani\", \"chandani\", \"chandnishah\", \"childhood\", \"childhood\", \"childhood\", \"choudhary28\", \"clarke\", \"classy\", \"classy\", \"classy\", \"classy\", \"classy\", \"clear\", \"clockwiseverticalarrows\", \"coach\", \"collected\", \"collected\", \"collected\", \"collected\", \"collection\", \"collision\", \"collision\", \"collision\", \"collision\", \"collision\", \"collision\", \"collision\", \"collision\", \"collision\", \"combination\", \"combo\", \"comebackdt\", \"comebackdt\", \"comebackdt\", \"comebackdt\", \"common\", \"common\", \"common\", \"common\", \"common\", \"common\", \"common\", \"common\", \"common\", \"completed\", \"completed\", \"completed\", \"completed\", \"completed\", \"completed\", \"completed\", \"completed\", \"completed\", \"completed\", \"completed\", \"completed\", \"completed\", \"completed\", \"confoundedface\", \"confoundedface\", \"congratulation\", \"conquered\", \"conquered\", \"contribution\", \"contribution\", \"contribution\", \"contribution\", \"contribution\", \"controversy\", \"conversation\", \"conversation\", \"conversation\", \"could\", \"cp\", \"cricket\", \"cricket\", \"cricket\", \"cricket\", \"cricket\", \"cricket\", \"cricket\", \"cricket\", \"cricket\", \"cricket\", \"cricket\", \"cricket\", \"cricket\", \"cricket\", \"cricket\", \"cricketgame\", \"cricketgame\", \"cricketgame\", \"cricketgame\", \"cricketgame\", \"cricketgame\", \"cricketgame\", \"cricketgame\", \"cricketgame\", \"cricketgame\", \"cricketgame\", \"cricketgame\", \"cricketgame\", \"cricketgame\", \"cry\", \"cry\", \"cry\", \"cry\", \"cry\", \"cryingface\", \"cryingface\", \"cryingface\", \"cryingface\", \"cryingface\", \"cult\", \"cult\", \"cult\", \"cult\", \"cult\", \"cult\", \"cult\", \"cult\", \"cult\", \"cult\", \"cult\", \"cult\", \"cult\", \"cult\", \"cup\", \"cup\", \"cup\", \"cup\", \"cup\", \"cup\", \"cup\", \"cup\", \"cup\", \"cup\", \"cup\", \"cup\", \"cup\", \"cup\", \"c\\u2026\", \"dearly\", \"dedication\", \"dedication\", \"dedication\", \"dedication\", \"dedication\", \"dedication\", \"dedication\", \"defeati\\u2026\", \"defeati\\u2026\", \"defeati\\u2026\", \"defeati\\u2026\", \"defiantly\", \"dekhi\", \"dekhya\\u2026\", \"delhi\", \"deserved\", \"deserved\", \"determination\", \"determination\", \"determination\", \"determination\", \"determination\", \"devil\", \"dheera\", \"dhfm1510\", \"dhfm1510\", \"dhoniamp\", \"diamant\", \"different\", \"different\", \"different\", \"different\", \"different\", \"dimag\", \"din\", \"disappointedface\", \"disappointedface\", \"dizzyface\", \"dont\", \"downcastfacewithsweat\", \"downcastfacewithsweat\", \"dq369\", \"dra\", \"dts\", \"each\", \"early\", \"effort\", \"ekkada\", \"elegant\", \"elegant\", \"elegant\", \"elegant\", \"elegant\", \"elegant\", \"elegant\", \"emoji\", \"emoji\", \"emotion\", \"emotion\", \"emotion\", \"emotion\", \"emotion\", \"emotion\", \"emotion\", \"emotion\", \"england\", \"enjoy\", \"enjoy\", \"enjoy\", \"enjoy\", \"enjoy\", \"enjoy\", \"enjoy\", \"event\", \"event\", \"event\", \"event\", \"everyday\", \"everythingdt\", \"everythingdt\", \"everythingdt\", \"everythingdt\", \"evident\", \"excitement\", \"excitement\", \"expect\", \"expression\", \"expression\", \"faceblowingakiss\", \"faceblowingakiss\", \"faceblowingakiss\", \"faceblowingakiss\", \"faceblowingakiss\", \"faceblowingakiss\", \"faceblowingakiss\", \"faceblowingakiss\", \"faceblowingakiss\", \"faceblowingakiss\", \"faceblowingakiss\", \"faceblowingakiss\", \"facewithhandovermouth\", \"facewithhandovermouth\", \"facewithhandovermouth\", \"facewithtearsofjoy\", \"facewithtearsofjoy\", \"facewithtearsofjoy\", \"facewithtearsofjoy\", \"facewithtearsofjoy\", \"factory\", \"fan\", \"fan\", \"fan\", \"fan\", \"fan\", \"fan\", \"fan\", \"fan\", \"fan\", \"fan\", \"fan\", \"fan\", \"fan\", \"fandom\", \"fandom\", \"fandom\", \"fandom\", \"fansyuvian\", \"fav\", \"fav\", \"favorite\", \"favorite\", \"favorite\", \"favorite\", \"favorite\", \"favorite\", \"favourite\", \"favourite\", \"favourite\", \"favourite\", \"favourite\", \"fb\", \"fb\", \"fc\", \"fc\", \"felt\", \"female\", \"field\", \"field\", \"field\", \"field\", \"field\", \"field\", \"field\", \"field\", \"field\", \"field\", \"field\", \"fielderthe\", \"fieldthose\", \"fieldthose\", \"finisher\", \"fire\", \"fire\", \"fire\", \"fire\", \"fire\", \"fire\", \"fire\", \"fire\", \"fire\", \"fire\", \"fire\", \"fire\", \"fire\", \"fire\", \"fire\", \"first\", \"first\", \"first\", \"first\", \"first\", \"fleet\", \"fleet\", \"flick\", \"flick\", \"flintoff\", \"foldedhands\", \"foldedhands\", \"foldedhands\", \"foldedhands\", \"foldedhands\", \"foldedhands\", \"foldedhands\", \"foldedhands\", \"foldedhands\", \"foldedhands\", \"foldedhands\", \"foldedhands\", \"foldedhands\", \"foldedhands\", \"foldedhands\", \"foldedhandslightskintone\", \"follow\", \"follow\", \"follow\", \"follow\", \"follow\", \"follow\", \"follow\", \"follow\", \"follow\", \"follow\", \"follower\", \"for\", \"for\", \"for\", \"for\", \"for\", \"for\", \"for\", \"for\", \"for\", \"for\", \"for\", \"for\", \"for\", \"for\", \"for\", \"forever\", \"forever\", \"forever\", \"forever\", \"forever\", \"forever\", \"forever\", \"forever\", \"forever\", \"forever\", \"forever\", \"forever\", \"forever\", \"forever\", \"form\", \"form\", \"form\", \"form\", \"form\", \"form\", \"found\", \"found\", \"found\", \"fr\", \"fram\", \"from\", \"from\", \"from\", \"from\", \"from\", \"from\", \"from\", \"from\", \"from\", \"from\", \"from\", \"from\", \"from\", \"from\", \"from\", \"full\", \"full\", \"gade\", \"game\", \"game\", \"game\", \"game\", \"game\", \"game\", \"game\", \"game\", \"game\", \"game\", \"game\", \"game\", \"gift\", \"give\", \"give\", \"give\", \"give\", \"give\", \"give\", \"give\", \"give\", \"god\", \"god\", \"god\", \"god\", \"god\", \"god\", \"god\", \"god\", \"god\", \"golden\", \"good\", \"good\", \"good\", \"good\", \"good\", \"good\", \"goosebump\", \"goosebump\", \"goosebump\", \"goosebump\", \"gratitude\", \"grimacingface\", \"grit\", \"ground\", \"ground\", \"ground\", \"ground\", \"ground\", \"growingheart\", \"gtgtgtgtgtgtgtgt\", \"gunnu\", \"guy\", \"guy\", \"guy\", \"guy\", \"guy\", \"guy\", \"guy\", \"guyz\", \"hai\", \"hai\", \"hai\", \"hai\", \"hai\", \"handed\", \"handed\", \"hander\", \"happy\", \"happy\", \"happy\", \"happy\", \"happy\", \"happy\", \"happy\", \"happy\", \"happy\", \"happy\", \"hash\", \"hash\", \"hash\", \"hash\", \"hash\", \"hash\", \"hasn\\u2019t\", \"hasn\\u2019t\", \"hasn\\u2019t\", \"hasn\\u2019t\", \"have\", \"have\", \"have\", \"have\", \"have\", \"have\", \"have\", \"have\", \"have\", \"have\", \"have\", \"have\", \"have\", \"having\", \"he\", \"he\", \"he\", \"he\", \"he\", \"he\", \"he\", \"he\", \"he\", \"he\", \"he\", \"he\", \"he\", \"heardfan\", \"heardfan\", \"heart\", \"heart\", \"heart\", \"heart\", \"heart\", \"heart\", \"heart\", \"heart\", \"heart\", \"heart\", \"heart\", \"heart\", \"heart\", \"heart\", \"heart\", \"heartbreaking\", \"heartsuit\", \"heartsuit\", \"heartsuit\", \"heartsuit\", \"heartsuit\", \"heartsuit\", \"heartsuit\", \"heartsuit\", \"heartsuit\", \"heartsuit\", \"heartsuit\", \"heartsuit\", \"heartwithribbon\", \"heas\", \"heas\", \"heavyheartexclamation\", \"heavyheartexclamation\", \"heavyheartexclamation\", \"heavyheartexclamation\", \"heavyheartexclamation\", \"heavyheartexclamation\", \"heavyheartexclamation\", \"heavyheartexclamation\", \"heavyheartexclamation\", \"heavyheartexclamation\", \"heavyheartexclamation\", \"heavyheartexclamation\", \"help\", \"here\", \"here\", \"here\", \"here\", \"here\", \"here\", \"here\", \"here\", \"here\", \"here\", \"here\", \"here\", \"here\", \"hero\", \"hero\", \"hero\", \"hero\", \"hero\", \"hero\", \"hero\", \"hero\", \"hero\", \"hero\", \"hero\", \"hero\", \"hey\", \"hi\", \"hi\", \"hi\", \"high\", \"high\", \"high\", \"high\", \"high\", \"high\", \"hina\", \"hindupur\", \"his\", \"his\", \"his\", \"his\", \"his\", \"his\", \"his\", \"his\", \"his\", \"his\", \"his\", \"his\", \"his\", \"his\", \"his\", \"hn\", \"hour\", \"hour\", \"hour\", \"hour\", \"hour\", \"hour\", \"hour\", \"hour\", \"hour\", \"hour\", \"hour\", \"hour\", \"how\", \"how\", \"how\", \"how\", \"how\", \"how\", \"how\", \"how\", \"how\", \"how\", \"how\", \"how\", \"huggingface\", \"huggingface\", \"huggingface\", \"huggingface\", \"huggingface\", \"huggingface\", \"human\", \"human\", \"human\", \"i\", \"i\", \"i\", \"i\", \"i\", \"i\", \"i\", \"i\", \"i\", \"i\", \"i\", \"i\", \"i\", \"i\", \"i\", \"idol\", \"idol\", \"idol\", \"idol\", \"idol\", \"idol\", \"idol\", \"idol\", \"if\", \"if\", \"if\", \"if\", \"if\", \"if\", \"if\", \"if\", \"if\", \"if\", \"if\", \"if\", \"imissyou\", \"immense\", \"immense\", \"immense\", \"immense\", \"immense\", \"immense\", \"important\", \"important\", \"important\", \"important\", \"impression\", \"impression\", \"impressive\", \"in\", \"in\", \"in\", \"in\", \"in\", \"in\", \"in\", \"in\", \"in\", \"in\", \"in\", \"in\", \"in\", \"in\", \"in\", \"incident\", \"incident\", \"incomplete\", \"increase\", \"indelible\", \"india\", \"india\", \"india\", \"india\", \"india\", \"india\", \"india\", \"india\", \"india\", \"india\", \"india\", \"india\", \"india\", \"india\", \"india\", \"indian\", \"indian\", \"indian\", \"indian\", \"indian\", \"indian\", \"indian\", \"indian\", \"indian\", \"indian\", \"indian\", \"indian\", \"indiawide\", \"indiawide\", \"individual\", \"inspiring\", \"inspiring\", \"inspiring\", \"inspiring\", \"inspiring\", \"inspiring\", \"inspiring\", \"instant\", \"int\", \"intensity\", \"irruku\", \"is\", \"is\", \"is\", \"is\", \"is\", \"is\", \"is\", \"is\", \"is\", \"is\", \"is\", \"is\", \"is\", \"is\", \"is\", \"it\", \"it\", \"it\", \"it\", \"it\", \"it\", \"it\", \"it\", \"it\", \"it\", \"it\", \"it\", \"it\", \"it\", \"it\", \"japanesesymbolforbeginner\", \"jersey\", \"jersey\", \"jersey\", \"jersey\", \"jersey\", \"join\", \"join\", \"join\", \"join\", \"jug\", \"july1207\", \"junday\", \"just\", \"just\", \"just\", \"just\", \"just\", \"just\", \"just\", \"just\", \"just\", \"just\", \"just\", \"just\", \"just\", \"just\", \"ka\", \"kapil\", \"kb\", \"keep\", \"keep\", \"keep\", \"keep\", \"keep\", \"keep\", \"keep\", \"keep\", \"keep\", \"keep\", \"keep\", \"kelaaa\", \"kelaaa\", \"kelaaa\", \"khar\", \"khayegi\", \"khrb\", \"kind\", \"king\", \"king\", \"king\", \"king\", \"king\", \"king\", \"king\", \"king\", \"king\", \"king\", \"king\", \"kingdom\", \"know\", \"know\", \"know\", \"know\", \"kota\", \"latest\", \"least\", \"leeded\", \"legend\", \"legend\", \"legend\", \"legend\", \"legend\", \"legend\", \"legend\", \"legend\", \"legend\", \"legend\", \"legend\", \"legend\", \"legend\", \"legend\", \"legend\", \"legend12\", \"legendary\", \"legendary\", \"legendary\", \"legendary\", \"legendary\", \"legendary\", \"level\", \"level\", \"level\", \"level\", \"level\", \"level\", \"life\", \"life\", \"life\", \"life\", \"life\", \"life\", \"life\", \"life\", \"life\", \"life\", \"life\", \"life\", \"life\", \"life\", \"life\", \"like\", \"like\", \"like\", \"like\", \"like\", \"like\", \"like\", \"like\", \"like\", \"like\", \"like\", \"like\", \"little\", \"livedareinspire\", \"long\", \"long\", \"long\", \"long\", \"long\", \"long\", \"longer\", \"longer\", \"longer\", \"longer\", \"longer\", \"lot\", \"lot\", \"lot\", \"lot\", \"lot\", \"loudlycryingface\", \"loudlycryingface\", \"loudlycryingface\", \"loudlycryingface\", \"loudlycryingface\", \"loudlycryingface\", \"loudlycryingface\", \"loudlycryingface\", \"loudlycryingface\", \"loudlycryingface\", \"loudlycryingface\", \"loudlycryingface\", \"loudlycryingface\", \"love\", \"love\", \"love\", \"love\", \"love\", \"love\", \"love\", \"love\", \"love\", \"love\", \"love\", \"love\", \"love\", \"love\", \"love\", \"lovely\", \"loving\", \"made\", \"made\", \"made\", \"made\", \"made\", \"made\", \"made\", \"make\", \"make\", \"make\", \"make\", \"make\", \"make\", \"make\", \"making\", \"making\", \"making\", \"making\", \"male\", \"man\", \"man\", \"man\", \"man\", \"man\", \"man\", \"man\", \"man\", \"man\", \"man\", \"man\", \"man\", \"man\", \"man\", \"mandancing\", \"mandancing\", \"manfacepalming\", \"manfacepalming\", \"manfacepalminglightskintone\", \"manoj7\", \"manoj7\", \"many\", \"many\", \"many\", \"many\", \"many\", \"many\", \"many\", \"many\", \"many\", \"many\", \"many\", \"many\", \"many\", \"mark\", \"mass\", \"mass\", \"mass\", \"me\", \"me\", \"me\", \"me\", \"me\", \"me\", \"me\", \"me\", \"me\", \"me\", \"me\", \"me\", \"me\", \"me\", \"me\", \"memory\", \"memory\", \"memory\", \"memory\", \"memory\", \"memory\", \"memory\", \"memory\", \"memory\", \"memory\", \"men\", \"men\", \"men\", \"micheal\", \"middle\", \"middle\", \"middle\", \"middle\", \"mids\", \"million\", \"million\", \"million\", \"million\", \"million\", \"million\", \"million\", \"million\", \"million\", \"minute\", \"minute\", \"minute\", \"minute\", \"minute\", \"minute\", \"minute\", \"minute\", \"minute\", \"minute\", \"minute\", \"minute\", \"minute\", \"mishra\", \"miss\", \"miss\", \"miss\", \"miss\", \"miss\", \"miss\", \"miss\", \"miss\", \"miss\", \"miss\", \"miss\", \"miss\", \"miss\", \"miss\", \"miss\", \"missing\", \"missing\", \"missing\", \"missing\", \"missing\", \"missing\", \"missing\", \"missing\", \"missing\", \"missing\", \"missing\", \"missing\", \"missing\", \"missu\", \"mkr17\", \"mkr17\", \"mo\", \"moment\", \"moment\", \"moment\", \"moment\", \"moment\", \"moment\", \"moment\", \"moment\", \"more\", \"more\", \"more\", \"more\", \"more\", \"more\", \"more\", \"more\", \"more\", \"more\", \"more\", \"more\", \"more\", \"muje\", \"my\", \"my\", \"my\", \"my\", \"my\", \"my\", \"my\", \"my\", \"my\", \"my\", \"my\", \"my\", \"my\", \"my\", \"my\", \"nalla\", \"nation\\u2026\", \"natwest\", \"nd\", \"nd\", \"nd\", \"nd\", \"nd\", \"ndtv\", \"nearly\", \"need\", \"need\", \"need\", \"need\", \"need\", \"nervous\", \"nervous\", \"netizens\", \"neutralface\", \"never\", \"never\", \"never\", \"never\", \"never\", \"never\", \"never\", \"never\", \"never\", \"never\", \"never\", \"never\", \"never\", \"never\", \"never\", \"next\", \"ngo\", \"no\", \"no\", \"no\", \"no\", \"no\", \"no\", \"no\", \"no\", \"no\", \"no\", \"no\", \"no\", \"no\", \"no\", \"no12\", \"not\", \"not\", \"not\", \"not\", \"not\", \"not\", \"not\", \"not\", \"not\", \"not\", \"not\", \"not\", \"not\", \"not\", \"not\", \"noticed\", \"noticing\", \"now\", \"now\", \"now\", \"now\", \"now\", \"now\", \"now\", \"now\", \"nowadays\", \"ntd\", \"ntd\", \"nu\", \"number\", \"number\", \"nutshell\", \"of\", \"of\", \"of\", \"of\", \"of\", \"of\", \"of\", \"of\", \"of\", \"of\", \"of\", \"of\", \"of\", \"of\", \"of\", \"ohhok\", \"on\", \"on\", \"on\", \"on\", \"on\", \"on\", \"on\", \"on\", \"on\", \"on\", \"on\", \"on\", \"on\", \"on\", \"on\", \"once\", \"once\", \"once\", \"once\", \"once\", \"one\", \"one\", \"one\", \"one\", \"one\", \"one\", \"one\", \"one\", \"one\", \"one\", \"one\", \"one\", \"one\", \"one\", \"one\", \"online\", \"online\", \"online\", \"online\", \"online\", \"online\", \"online\", \"online\", \"online\", \"openhands\", \"order\", \"order\", \"order\", \"order\", \"others\", \"others\", \"others\", \"others\", \"our\", \"our\", \"our\", \"our\", \"our\", \"our\", \"our\", \"our\", \"our\", \"our\", \"our\", \"our\", \"our\", \"our\", \"our\", \"overwhelmed\", \"overwhelmed\", \"overwhelmed\", \"oyee\", \"pa\", \"pa\", \"pa\", \"paaa\", \"paaajii\", \"paaji\", \"paaji\", \"paaji\", \"paaji\", \"paaji\", \"paaji\", \"paaji\", \"paaji\", \"paajj\", \"paajji\", \"paji\", \"paji\", \"paji\", \"paji\", \"paji\", \"paji\", \"paji\", \"paji\", \"paji\", \"paji\", \"paji\", \"paji\", \"paji\", \"pajii\", \"pakistan\", \"panjabda\", \"participating\", \"participating\", \"participating\", \"participating\", \"participating\", \"participating\", \"participating\", \"passion\", \"patient\", \"pazi\", \"pazi\\u2019s\", \"pazi\\u2019s\", \"peace\", \"pehle\", \"pehle\", \"pen\", \"pensiveface\", \"pensiveface\", \"pensiveface\", \"pensiveface\", \"pensiveface\", \"pensiveface\", \"pensiveface\", \"pensiveface\", \"pensiveface\", \"perform\", \"perseveringface\", \"personshrugging\", \"phase\", \"phase\", \"phase\", \"phase\", \"phase\", \"phase\", \"phase\", \"phle\", \"pic\", \"pic\", \"pic\", \"pleadingface\", \"pleadingface\", \"pleadingface\", \"pleadingface\", \"pleadingface\", \"pleadingface\", \"pleadingface\", \"please\", \"please\", \"please\", \"please\", \"please\", \"please\", \"please\", \"please\", \"please\", \"plus\", \"pl\\u2026\", \"pointing\", \"pointing\", \"power\", \"power\", \"power\", \"power\", \"presenting\", \"proved\", \"prowess\", \"publicity\", \"punjab\", \"put\", \"p\\u2026\", \"p\\u2026\", \"p\\u2026\", \"p\\u2026\", \"p\\u2026\", \"rabb\", \"rabbani\", \"raisinghands\", \"raisinghands\", \"raisinghands\", \"raisinghands\", \"raisinghands\", \"raisinghands\", \"raisinghands\", \"raisinghands\", \"raisinghands\", \"raisinghands\", \"raisinghands\", \"raisinghands\", \"raisinghands\", \"ram\", \"reach\", \"reaction\", \"reaction\", \"read\", \"really\", \"really\", \"really\", \"really\", \"reason\", \"reason\", \"reason\", \"reason\", \"reason\", \"reason\", \"reason\", \"redheart\", \"redheart\", \"redheart\", \"redheart\", \"redheart\", \"redheart\", \"redheart\", \"redheart\", \"redheart\", \"redheart\", \"redheart\", \"redheart\", \"redheart\", \"redheart\", \"redheart\", \"remain\", \"remain\", \"remain\", \"remain\", \"remain\", \"remain\", \"remain\", \"remain\", \"remain\", \"remain\", \"remain\", \"remain\", \"remain\", \"remember\", \"remember\", \"remember\", \"remember\", \"remember\", \"remember\", \"replacement\", \"replacement\", \"replacement\", \"replacement\", \"replacement\", \"reply\", \"reply\", \"reply\", \"reply\", \"reply\", \"resolute\", \"resolute\", \"resolute\", \"resolute\", \"respectful\", \"retire\", \"retire\", \"retire\", \"retire\", \"retire\", \"retire\", \"retire\", \"retire\", \"retire\", \"retire\", \"retire\", \"retire\", \"retire\", \"retire\", \"retiredyour\", \"retirement\", \"retirement\", \"retirement\", \"retirement\", \"retirement\", \"retirement\", \"retirement\", \"retirement\", \"retirement\", \"retirement\", \"retirement\", \"retirement\", \"retirement\", \"retirement\", \"retirement\", \"retweet\", \"retweet\", \"retweet\", \"retweet\", \"retweet\", \"retweet\", \"retweet\", \"retweet\", \"retweet\", \"retweet\", \"retweet\", \"retweet\", \"retweet\", \"retweet\", \"retweet\", \"retweets\", \"retweets\", \"ret\\u2026\", \"ret\\u2026\", \"rha\", \"right\", \"right\", \"right\", \"right\", \"right\", \"risked\", \"roar\", \"roar\", \"roar\", \"rollingonthefloorlaughing\", \"row\", \"row\", \"rt\", \"rt\", \"rt\", \"rt\", \"rt\", \"rt\", \"rt\", \"rt\", \"rt\", \"rt\", \"rt\", \"rule\", \"rummy\", \"ruthless\", \"ruthless\", \"ruthless\", \"sadbutrelievedface\", \"sadbutrelievedface\", \"sadbutrelievedface\", \"sadbutrelievedface\", \"sadbutrelievedface\", \"sagar12\", \"sagar12\", \"samal7\", \"same\", \"same\", \"same\", \"same\", \"sanghvi2\", \"saptam\", \"satisfaction\", \"se\", \"se\", \"security\", \"seeing\", \"seenoevilmonkey\", \"sensation\", \"sensation\", \"served\", \"served\", \"share\", \"share\", \"share\", \"share\", \"share\", \"share\", \"share\", \"share\", \"share\", \"shastris\", \"shastris\", \"sher\", \"shit\", \"shown\", \"shrma\", \"shrma\", \"simple\", \"singh\", \"singh\", \"singh\", \"singh\", \"singh\", \"singh\", \"singh\", \"singh\", \"singh\", \"singh\", \"singh\", \"singh\", \"singh\", \"singh\", \"singh\", \"singh36\", \"singh39\", \"sir\", \"sir\", \"sir\", \"sir\", \"sir\", \"sir\", \"sir\", \"sir\", \"sir\", \"sir\", \"six\", \"six\", \"six\", \"six\", \"six\", \"six\", \"six\", \"six\", \"six\", \"six\", \"six\", \"six\", \"six\", \"six\", \"six\", \"sixer\", \"sixer\", \"sixer\", \"sixer\", \"sixhitting\", \"skill\", \"sleep\", \"slightlysmilingface\", \"small\", \"smashed\", \"smashed\", \"smashing\", \"smashing\", \"smile\", \"smile\", \"smile\", \"smilingcatfacewithhearteyes\", \"smilingcatfacewithhearteyes\", \"smilingfacewith3hearts\", \"smilingfacewith3hearts\", \"smilingfacewith3hearts\", \"smilingfacewith3hearts\", \"smilingfacewith3hearts\", \"smilingfacewithhearteyes\", \"smilingfacewithhearteyes\", \"smilingfacewithhearteyes\", \"smilingfacewithhearteyes\", \"smilingfacewithhearteyes\", \"smilingfacewithhearteyes\", \"smilingfacewithhearteyes\", \"smilingfacewithhearteyes\", \"smilingfacewithhearteyes\", \"smilingfacewithhearteyes\", \"smilingfacewithhearteyes\", \"smilingfacewithhearteyes\", \"smilingfacewithhearteyes\", \"smilingfacewithhearteyes\", \"smilingfacewithhearteyes\", \"smilingfacewithsmilingeyes\", \"smilingfacewithsmilingeyes\", \"sneezingface\", \"song\", \"song\", \"song\", \"song\", \"song\", \"song\", \"speed\", \"speed\", \"speed\", \"speed\", \"speed\", \"speed\", \"speed\", \"speed\", \"speed\", \"speed\", \"speed\", \"speed\", \"spread\", \"spread\", \"spread\", \"spread\", \"spread\", \"spread\", \"sriv\", \"staaar\", \"stalwart\", \"stalwart\", \"stalwart\", \"stalwart\", \"stalwart\", \"stalwart\", \"stalwart\", \"stalwart\", \"stalwart\", \"stalwart\", \"stalwart\", \"stalwart\", \"stalwart\", \"stalwart\", \"started\", \"step\", \"strong12\", \"style\", \"style\", \"style\", \"style\", \"suffer\", \"sun\", \"sun\", \"sunlo\", \"sunlo\", \"sunlo\", \"survivor\", \"survivor\", \"surya\", \"sydney\", \"s\\u2026\", \"s\\u2026\", \"t1786\", \"t20\", \"t20\", \"t20\", \"t20is\", \"t2o\", \"t2o\", \"tag\", \"tag\", \"tag\", \"tag\", \"tag\", \"tag\", \"tag\", \"tag\", \"tag\", \"tag\", \"tag\", \"taise\", \"take\", \"take\", \"take\", \"take\", \"taking\", \"taking\", \"taking\", \"talk\", \"talkwalker\", \"team\", \"team\", \"team\", \"team\", \"team\", \"team\", \"team\", \"team\", \"team\", \"team\", \"team\", \"tell\", \"tell\", \"tell\", \"tell\", \"telugu\", \"tha\", \"tha\", \"thala\", \"thalaiva\", \"thalaivaa\", \"thalaivaaa\", \"thalaivaaaa\", \"thalaivaaaa\", \"thalaivaaaa\", \"thalaivaaaa\", \"thalaivaaaaa\", \"thalaivaaaaa\", \"thalaivaaaaa\", \"thalaivaaaaa\", \"thalaivaaaaa\", \"thalaivaaaaa\", \"thalaivaaaaa\", \"thalaivaaaaa\", \"thalaivaaaaa\", \"thalaivaaaaa\", \"thalaivaaaaaaa\", \"than\", \"than\", \"than\", \"than\", \"than\", \"than\", \"than\", \"than\", \"than\", \"than\", \"than\", \"than\", \"thank\", \"thank\", \"thank\", \"thank\", \"thank\", \"thank\", \"thank\", \"thank\", \"thank\", \"thank\", \"thank\", \"thank\", \"thank\", \"thank\", \"thankyou\", \"the\", \"the\", \"the\", \"the\", \"the\", \"the\", \"the\", \"the\", \"the\", \"the\", \"the\", \"the\", \"the\", \"the\", \"the\", \"thelegend\", \"theme\", \"there\", \"there\", \"there\", \"there\", \"there\", \"there\", \"there\", \"there\", \"these\", \"these\", \"these\", \"these\", \"they\", \"this\", \"this\", \"this\", \"this\", \"this\", \"this\", \"this\", \"this\", \"this\", \"this\", \"this\", \"this\", \"this\", \"this\", \"this\", \"those\", \"those\", \"those\", \"those\", \"those\", \"those\", \"those\", \"those\", \"thrill\", \"thrill\", \"time\", \"time\", \"time\", \"time\", \"time\", \"time\", \"time\", \"time\", \"time\", \"time\", \"time\", \"time\", \"timefav\", \"timing\", \"timing\", \"timing\", \"timing\", \"timing\", \"to\", \"to\", \"to\", \"to\", \"to\", \"to\", \"to\", \"to\", \"to\", \"to\", \"to\", \"to\", \"to\", \"to\", \"to\", \"today\", \"today\", \"today\", \"today\", \"today\", \"today\", \"today\", \"top\", \"top\", \"top\", \"top\", \"top\", \"top\", \"top\", \"top\", \"top\", \"top\", \"tour\", \"trade\", \"trend\", \"trend\", \"trend\", \"trend\", \"trend\", \"trend\", \"trend\", \"trend\", \"trend\", \"trend\", \"trend\", \"trend\", \"trend\", \"trend\", \"trend\", \"trending\", \"trending\", \"trending\", \"trending\", \"trending\", \"trending\", \"trending\", \"trending\", \"trending\", \"trending\", \"trending\", \"trending\", \"tribute\", \"tribute\", \"tribute\", \"tribute\", \"tribute\", \"true\", \"true\", \"true\", \"true\", \"true\", \"tweet\", \"tweet\", \"tweet\", \"tweet\", \"tweet\", \"tweet\", \"tweet\", \"tweet\", \"tweet\", \"tweet\", \"tweet\", \"tweet\", \"tweet\", \"tweet\", \"tweet\", \"u\", \"u\", \"u\", \"u\", \"u\", \"u\", \"u\", \"u\", \"u\", \"u\", \"u\", \"u\", \"u\", \"u\", \"u\", \"umatched\", \"unbelievable\", \"uncountable\", \"unique\", \"until\", \"until\", \"up\", \"up\", \"up\", \"up\", \"up\", \"up\", \"up\", \"up\", \"up\", \"up\", \"up\", \"up\", \"up\", \"update\", \"use\", \"use\", \"use\", \"use\", \"use\", \"use\", \"use\", \"usse\", \"usse\", \"uv\", \"uv\", \"uvi\", \"v\", \"v\", \"v\", \"v\", \"very\", \"very\", \"very\", \"very\", \"very\", \"very\", \"vikramsingh\", \"vinesh\", \"vintage\", \"vp10\", \"vsbutton\", \"wa\", \"wa\", \"wa\", \"wa\", \"wa\", \"wa\", \"wa\", \"wa\", \"wa\", \"wa\", \"wa\", \"wa\", \"wa\", \"walked\", \"warrier\", \"watch\", \"watch\", \"watch\", \"watch\", \"watch\", \"watch\", \"watch\", \"watch\", \"watch\", \"wavinghand\", \"way\", \"way\", \"way\", \"wc2011\", \"we\", \"we\", \"we\", \"we\", \"we\", \"we\", \"we\", \"we\", \"we\", \"we\", \"we\", \"we\", \"we\", \"we\", \"we\", \"website\", \"wee\", \"wee\", \"wee\", \"wee\", \"welcome\", \"wh\", \"when\", \"when\", \"when\", \"when\", \"when\", \"when\", \"when\", \"when\", \"when\", \"when\", \"when\", \"when\", \"when\", \"when\", \"whiteheavycheckmark\", \"whiteheavycheckmark\", \"whiteheavycheckmark\", \"who\", \"who\", \"who\", \"who\", \"who\", \"who\", \"who\", \"who\", \"who\", \"who\", \"who\", \"who\", \"who\", \"who\", \"who\", \"whole\", \"wicket\", \"wifi\", \"will\", \"will\", \"will\", \"will\", \"will\", \"will\", \"will\", \"will\", \"will\", \"will\", \"will\", \"will\", \"will\", \"will\", \"will\", \"wish\", \"wish\", \"wish\", \"wish\", \"with\", \"with\", \"with\", \"with\", \"with\", \"with\", \"with\", \"with\", \"with\", \"with\", \"with\", \"with\", \"with\", \"with\", \"with\", \"within\", \"within\", \"within\", \"work\", \"work\", \"world\", \"world\", \"world\", \"world\", \"world\", \"world\", \"world\", \"world\", \"world\", \"world\", \"world\", \"world\", \"world\", \"world\", \"world\", \"wow\", \"wrong\", \"year\", \"year\", \"year\", \"year\", \"year\", \"year\", \"year\", \"year\", \"year\", \"year\", \"year\", \"year\", \"year\", \"year\", \"year\", \"yeh\", \"yeh\", \"yeh\", \"you\", \"you\", \"you\", \"you\", \"you\", \"you\", \"you\", \"you\", \"you\", \"you\", \"you\", \"you\", \"you\", \"you\", \"you\", \"youll\", \"youll\", \"youll\", \"your\", \"your\", \"your\", \"your\", \"your\", \"your\", \"your\", \"your\", \"your\", \"your\", \"your\", \"your\", \"your\", \"your\", \"your\", \"youvi\", \"you\\u2019ve\", \"yovi\", \"yr\", \"yuvi\", \"yuvi\", \"yuvi\", \"yuvi\", \"yuvi\", \"yuvi\", \"yuvi\", \"yuvi\", \"yuvi\", \"yuvi\", \"yuvi\", \"yuvi\", \"yuvi\", \"yuvi\", \"yuvi\", \"yuvian\", \"yuvian\", \"yuvian\", \"yuvian\", \"yuvian\", \"yuvian\", \"yuvian\", \"yuvian\", \"yuvian\", \"yuvian\", \"yuvian\", \"yuvian\", \"yuvian\", \"yuvian\", \"yuvian\", \"yuvian15\", \"yuvian15\", \"yuvian15\", \"yuvian15\", \"yuvian15\", \"yuvians\", \"yuvians\", \"yuvians\", \"yuvians\", \"yuvians\", \"yuvians\", \"yuvians\", \"yuvians\", \"yuvians\", \"yuvians\", \"yuvians\", \"yuvians\", \"yuvians\", \"yuvifan\", \"yuvifan\", \"yuvifan\", \"yuvimahi\", \"yuvipaaji\", \"yuvism\", \"yuvism\", \"yuvism\", \"yuvism\", \"yuvism\", \"yuvraj\", \"yuvraj\", \"yuvraj\", \"yuvraj\", \"yuvraj\", \"yuvraj\", \"yuvraj\", \"yuvraj\", \"yuvraj\", \"yuvraj\", \"yuvraj\", \"yuvraj\", \"yuvraj\", \"yuvraj\", \"yuvraj\", \"yuvrajs\", \"y\\u2019ll\", \"y\\u2026\", \"y\\u2026\", \"\\u0280\\u1d07s\\u1d18\\u1d07\\u1d04\\u1d1b\\u0493\\u1d1c\\u029f\", \"\\u0280\\u1d07s\\u1d18\\u1d07\\u1d04\\u1d1b\\u0493\\u1d1c\\u029f\", \"\\u0906\\u092a\\u0915\\u0940\", \"\\u0915\\u092a\\u093f\\u0932\", \"\\u0915\\u092e\\u0940\", \"\\u0915\\u0947\\u2026\", \"\\u0915\\u0947\\u2026\", \"\\u0915\\u0947\\u2026\", \"\\u0915\\u0947\\u2026\", \"\\u0915\\u094c\\u0928\\u0938\\u093e\", \"\\u0916\\u0932\\u0924\\u0940\", \"\\u0917\\u0932\\u0940\", \"\\u0918\\u091f\\u093f\\u092f\\u093e\", \"\\u091a\\u093e\\u0902\\u0926\", \"\\u091c\\u0928\\u0928\\u093e\\u092f\\u0915\\u091b\\u093e\\u0924\\u094d\\u0930\\u094b\\u0902\\u0915\\u094b\\u092a\\u094d\\u0930\\u092e\\u094b\\u091f\\u0915\\u0930\\u094b\", \"\\u0926\\u093f\\u0928\\u094b\\u0902\", \"\\u0928\\u093f\\u0915\\u0932\\u093e\", \"\\u0928\\u094d\\u092f\\u0942\\u091c\", \"\\u092c\\u0921\\u093c\\u093e\", \"\\u092c\\u0924\\u093e\", \"\\u092c\\u0932\\u0935\\u093e\\u0928\", \"\\u092d\\u093e\\u0908\", \"\\u092e\\u093f\\u0936\\u094d\\u0930\\u093e\", \"\\u092e\\u0948\\u0926\\u093e\\u0928\", \"\\u092f\\u0941\\u0935\\u0930\\u093e\\u091c\\u0938\\u093f\\u0902\\u0939\\u092e\\u093e\\u092b\\u0940\\u092e\\u093e\\u0902\\u0917\\u094b\", \"\\u0930\\u0939\\u0947\\u0917\\u0940\", \"\\u0936\\u0941\\u0915\\u094d\\u0930\\u093f\\u092f\\u093e\", \"\\u0938\\u092c\\u0938\\u0947\", \"\\u0938\\u092e\\u092f\", \"\\u0939\\u0940\", \"\\u0939\\u0940\", \"\\u0939\\u0940\", \"\\u0939\\u0940\", \"\\u0b85\\u0bb4\\u0b95\\u0bc2\\u0bb0\\u0bbf\\u0bb2\\u0bcd\", \"\\u0b8f\\u0b95\\u0bcd\\u0b95\\u0ba4\\u0bcd\\u0ba4\\u0bbf\\u0bb2\\u0bcd\", \"\\u0b8f\\u0b95\\u0bcd\\u0b95\\u0ba4\\u0bcd\\u0ba4\\u0bbf\\u0bb2\\u0bcd\", \"\\u0baa\\u0bc2\\u0ba4\\u0bcd\\u0ba4\\u0bb5\\u0bb3\\u0bc7\", \"\\u0baf\\u0bc1\\u0bb5\\u0bcd\\u0bb0\\u0bbe\\u0b9c\\u0bcd\\u0b9a\\u0bbf\\u0b99\\u0bcd\", \"\\u0bb0\\u0b9a\\u0bbf\\u0b95\\u0bb0\\u0bcd\\u0b95\\u0bb3\\u0bcd\", \"\\u0bb0\\u0b9a\\u0bbf\\u0b95\\u0bb0\\u0bcd\\u0b95\\u0bb3\\u0bcd\", \"\\u1d0d\\u1d0f\\u1d0d\\u1d07\\u0274\\u1d1b\", \"\\u1d0d\\u1d0f\\u1d0d\\u1d07\\u0274\\u1d1b\", \"\\u201coverwhelmed\\u201d\", \"\\u201coverwhelmed\\u201d\", \"\\u2026\", \"\\u2026\", \"\\u2026\", \"\\u2026\", \"\\u2026\", \"\\u2026\", \"\\u2026\", \"\\u2026\", \"\\u2026\", \"\\u2026\", \"\\u2026\", \"\\u2026\", \"\\u2026\", \"\\u2026\"]}, \"R\": 30, \"lambda.step\": 0.01, \"plot.opts\": {\"xlab\": \"PC1\", \"ylab\": \"PC2\"}, \"topic.order\": [8, 4, 7, 14, 11, 1, 12, 3, 5, 2, 13, 9, 6, 15, 10]};\n",
              "\n",
              "function LDAvis_load_lib(url, callback){\n",
              "  var s = document.createElement('script');\n",
              "  s.src = url;\n",
              "  s.async = true;\n",
              "  s.onreadystatechange = s.onload = callback;\n",
              "  s.onerror = function(){console.warn(\"failed to load library \" + url);};\n",
              "  document.getElementsByTagName(\"head\")[0].appendChild(s);\n",
              "}\n",
              "\n",
              "if(typeof(LDAvis) !== \"undefined\"){\n",
              "   // already loaded: just create the visualization\n",
              "   !function(LDAvis){\n",
              "       new LDAvis(\"#\" + \"ldavis_el1211406444813305368993029385\", ldavis_el1211406444813305368993029385_data);\n",
              "   }(LDAvis);\n",
              "}else if(typeof define === \"function\" && define.amd){\n",
              "   // require.js is available: use it to load d3/LDAvis\n",
              "   require.config({paths: {d3: \"https://cdnjs.cloudflare.com/ajax/libs/d3/3.5.5/d3.min\"}});\n",
              "   require([\"d3\"], function(d3){\n",
              "      window.d3 = d3;\n",
              "      LDAvis_load_lib(\"https://cdn.rawgit.com/bmabey/pyLDAvis/files/ldavis.v1.0.0.js\", function(){\n",
              "        new LDAvis(\"#\" + \"ldavis_el1211406444813305368993029385\", ldavis_el1211406444813305368993029385_data);\n",
              "      });\n",
              "    });\n",
              "}else{\n",
              "    // require.js not available: dynamically load d3 & LDAvis\n",
              "    LDAvis_load_lib(\"https://cdnjs.cloudflare.com/ajax/libs/d3/3.5.5/d3.min.js\", function(){\n",
              "         LDAvis_load_lib(\"https://cdn.rawgit.com/bmabey/pyLDAvis/files/ldavis.v1.0.0.js\", function(){\n",
              "                 new LDAvis(\"#\" + \"ldavis_el1211406444813305368993029385\", ldavis_el1211406444813305368993029385_data);\n",
              "            })\n",
              "         });\n",
              "}\n",
              "</script>"
            ],
            "text/plain": [
              "PreparedData(topic_coordinates=              x         y  topics  cluster      Freq\n",
              "topic                                               \n",
              "7      0.020399 -0.054994       1        1  8.263664\n",
              "3     -0.098126 -0.030540       2        1  7.469869\n",
              "6     -0.000118 -0.067534       3        1  7.449594\n",
              "13     0.073105 -0.034944       4        1  7.412266\n",
              "10    -0.070811  0.039718       5        1  7.231930\n",
              "0     -0.007999  0.040917       6        1  7.231408\n",
              "11    -0.005223 -0.047543       7        1  6.915408\n",
              "2      0.055618 -0.042097       8        1  6.835495\n",
              "4     -0.081312  0.032527       9        1  6.720596\n",
              "1      0.035111  0.023853      10        1  6.129424\n",
              "12    -0.006359 -0.009710      11        1  6.006473\n",
              "8      0.003006  0.034365      12        1  5.826838\n",
              "5      0.074151  0.100604      13        1  5.823148\n",
              "14    -0.001871  0.005970      14        1  5.414513\n",
              "9      0.010428  0.009409      15        1  5.269382, topic_info=          Term        Freq       Total Category  logprob  loglift\n",
              "429  collision   46.000000   46.000000  Default  30.0000  30.0000\n",
              "86    redheart  117.000000  117.000000  Default  29.0000  29.0000\n",
              "283  heartsuit   54.000000   54.000000  Default  28.0000  28.0000\n",
              "9          are   84.000000   84.000000  Default  27.0000  27.0000\n",
              "231    emotion   28.000000   28.000000  Default  26.0000  26.0000\n",
              "..         ...         ...         ...      ...      ...      ...\n",
              "4          the    3.510704  106.361977  Topic15  -5.3475  -0.4678\n",
              "97          we    3.417395   87.453789  Topic15  -5.3744  -0.2990\n",
              "1           is    3.292140   75.925858  Topic15  -5.4117  -0.1950\n",
              "83       never    3.201307   49.371956  Topic15  -5.4397   0.2074\n",
              "189         up    3.171046   45.579803  Topic15  -5.4492   0.2779\n",
              "\n",
              "[1013 rows x 6 columns], token_table=      Topic      Freq Term\n",
              "term                      \n",
              "1103      1  0.587792   0f\n",
              "1103      5  0.117558   0f\n",
              "1103      6  0.117558   0f\n",
              "1103      7  0.117558   0f\n",
              "662       1  0.247093    1\n",
              "...     ...       ...  ...\n",
              "138      11  0.052444    …\n",
              "138      12  0.078667    …\n",
              "138      13  0.104889    …\n",
              "138      14  0.026222    …\n",
              "138      15  0.052444    …\n",
              "\n",
              "[2971 rows x 3 columns], R=30, lambda_step=0.01, plot_opts={'xlab': 'PC1', 'ylab': 'PC2'}, topic_order=[8, 4, 7, 14, 11, 1, 12, 3, 5, 2, 13, 9, 6, 15, 10])"
            ]
          },
          "metadata": {
            "tags": []
          },
          "execution_count": 335
        }
      ]
    },
    {
      "cell_type": "markdown",
      "metadata": {
        "id": "J9_R05xqOjl5",
        "colab_type": "text"
      },
      "source": [
        "**For Class B (#RestInPeace only)**"
      ]
    },
    {
      "cell_type": "code",
      "metadata": {
        "id": "z6IXInRINc_X",
        "colab_type": "code",
        "colab": {}
      },
      "source": [
        "topics = 8\n",
        "model_B = find_topics(BoW_B,dict_B,topics)"
      ],
      "execution_count": 0,
      "outputs": []
    },
    {
      "cell_type": "code",
      "metadata": {
        "id": "v8Lt0g6PNkKq",
        "colab_type": "code",
        "colab": {
          "base_uri": "https://localhost:8080/",
          "height": 173
        },
        "outputId": "ccae2821-da26-423f-ba96-5fa3cc42e78a"
      },
      "source": [
        "show_topics(model_B,BoW_B,dict_B)"
      ],
      "execution_count": 303,
      "outputs": [
        {
          "output_type": "stream",
          "text": [
            "Topic: 0 Word: 0.007*\"எம்எல்ஏ\" + 0.007*\"திமுக\" + 0.006*\"ht…\" + 0.006*\"சீமான்\" + 0.006*\"மறைவுக்கு\" + 0.006*\"இரங்கல்\" + 0.006*\"ஜெஅன்பழகன்\" + 0.006*\"வீரவணக்கம்\" + 0.006*\"campaign\" + 0.006*\"school\"\n",
            "Topic: 1 Word: 0.005*\"humanity\" + 0.004*\"to\" + 0.004*\"the\" + 0.004*\"ஆழ்ந்தஇரங்கல்\" + 0.003*\"in\" + 0.003*\"nothing\" + 0.003*\"see\" + 0.002*\"this\" + 0.002*\"party\" + 0.002*\"come\"\n",
            "Topic: 2 Word: 0.006*\"கேரள\" + 0.006*\"முதல்வர்\" + 0.006*\"பினராயி\" + 0.006*\"எமஎல்ஏ\" + 0.004*\"dhak\" + 0.004*\"grinningfacewithsweat\" + 0.004*\"ek\" + 0.004*\"விஜ…\" + 0.004*\"downcastfacewithsweat\" + 0.003*\"அண்ணனே\"\n",
            "Topic: 3 Word: 0.008*\"foldedhands\" + 0.004*\"tribute\" + 0.004*\"special\" + 0.004*\"dubey\" + 0.004*\"inning\" + 0.004*\"incredible\" + 0.004*\"what\" + 0.004*\"twitter\" + 0.004*\"திமுக\" + 0.004*\"an\"\n",
            "Topic: 4 Word: 0.011*\"ஜெஅன்பழகன்\" + 0.009*\"திமுக\" + 0.008*\"இரங்கல்\" + 0.008*\"புதல்வர்\" + 0.008*\"அவர்களுக்கு\" + 0.008*\"அவரது\" + 0.008*\"செலுத்தும்\" + 0.008*\"திருராஜாஅன்பழகன்\" + 0.008*\"மறைவுக்கு\" + 0.008*\"இன்று\"\n",
            "Topic: 5 Word: 0.008*\"the\" + 0.007*\"to\" + 0.006*\"what\" + 0.006*\"very\" + 0.005*\"pass\" + 0.005*\"end\" + 0.005*\"hungry\" + 0.005*\"till\" + 0.005*\"feed\" + 0.005*\"19he\"\n",
            "Topic: 6 Word: 0.047*\"ht…\" + 0.047*\"சீமான்\" + 0.045*\"எம்எல்ஏ\" + 0.043*\"இரங்கல்\" + 0.043*\"மறைவுக்கு\" + 0.041*\"திமுக\" + 0.038*\"ஜெஅன்பழகன்\" + 0.012*\"bouquet\" + 0.011*\"foldedhands\" + 0.011*\"may\"\n",
            "Topic: 7 Word: 0.019*\"rip\" + 0.007*\"rest\" + 0.006*\"the\" + 0.006*\"you\" + 0.006*\"love\" + 0.004*\"peace\" + 0.004*\"and\" + 0.004*\"we\" + 0.004*\"are\" + 0.004*\"wa\"\n"
          ],
          "name": "stdout"
        }
      ]
    },
    {
      "cell_type": "code",
      "metadata": {
        "id": "B_g1eWmrNvbh",
        "colab_type": "code",
        "colab": {
          "base_uri": "https://localhost:8080/",
          "height": 881
        },
        "outputId": "6f4b620a-a1ff-4ff6-e629-884da5748651"
      },
      "source": [
        "pyLDAvis.enable_notebook()\n",
        "vis = pyLDAvis.gensim.prepare(model_B, BoW_B, dict_B)\n",
        "vis"
      ],
      "execution_count": 304,
      "outputs": [
        {
          "output_type": "execute_result",
          "data": {
            "text/html": [
              "\n",
              "<link rel=\"stylesheet\" type=\"text/css\" href=\"https://cdn.rawgit.com/bmabey/pyLDAvis/files/ldavis.v1.0.0.css\">\n",
              "\n",
              "\n",
              "<div id=\"ldavis_el1211406444917587125700168099\"></div>\n",
              "<script type=\"text/javascript\">\n",
              "\n",
              "var ldavis_el1211406444917587125700168099_data = {\"mdsDat\": {\"x\": [0.141122591498026, 0.029205573856186683, 0.008583736700447462, -0.05017159740681334, -0.03344439665074484, -0.045417960765232336, -0.008836367762783136, -0.04104157946908647], \"y\": [-0.027647889100996026, 0.07884460872339864, -0.009385906996425001, -0.026748194110176177, 0.00493872324618957, -0.010121064397056699, -0.011252881496393112, 0.0013726041314590244], \"topics\": [1, 2, 3, 4, 5, 6, 7, 8], \"cluster\": [1, 1, 1, 1, 1, 1, 1, 1], \"Freq\": [21.940494537353516, 13.09945011138916, 12.693405151367188, 12.553276062011719, 11.39338207244873, 10.530012130737305, 9.228663444519043, 8.561325073242188]}, \"tinfo\": {\"Term\": [\"ht\\u2026\", \"\\u0b9a\\u0bc0\\u0bae\\u0bbe\\u0ba9\\u0bcd\", \"\\u0b8e\\u0bae\\u0bcd\\u0b8e\\u0bb2\\u0bcd\\u0b8f\", \"\\u0b87\\u0bb0\\u0b99\\u0bcd\\u0b95\\u0bb2\\u0bcd\", \"\\u0bae\\u0bb1\\u0bc8\\u0bb5\\u0bc1\\u0b95\\u0bcd\\u0b95\\u0bc1\", \"\\u0ba4\\u0bbf\\u0bae\\u0bc1\\u0b95\", \"\\u0b9c\\u0bc6\\u0b85\\u0ba9\\u0bcd\\u0baa\\u0bb4\\u0b95\\u0ba9\\u0bcd\", \"rip\", \"foldedhands\", \"bouquet\", \"may\", \"\\u0baa\\u0bc1\\u0ba4\\u0bb2\\u0bcd\\u0bb5\\u0bb0\\u0bcd\", \"\\u0b85\\u0bb5\\u0bb0\\u0bcd\\u0b95\\u0bb3\\u0bc1\\u0b95\\u0bcd\\u0b95\\u0bc1\", \"\\u0b85\\u0bb5\\u0bb0\\u0ba4\\u0bc1\", \"\\u0b9a\\u0bc6\\u0bb2\\u0bc1\\u0ba4\\u0bcd\\u0ba4\\u0bc1\\u0bae\\u0bcd\", \"\\u0ba4\\u0bbf\\u0bb0\\u0bc1\\u0bb0\\u0bbe\\u0b9c\\u0bbe\\u0b85\\u0ba9\\u0bcd\\u0baa\\u0bb4\\u0b95\\u0ba9\\u0bcd\", \"\\u0bae\\u0bb1\\u0bc8\\u0ba8\\u0bcd\\u0ba4\", \"\\u0b85\\u0b9e\\u0bcd\\u0b9a\\u0bb2\\u0bbf\", \"\\u0b87\\u0bb1\\u0bc1\\u0ba4\\u0bbf\", \"\\u0b87\\u0ba9\\u0bcd\\u0bb1\\u0bc1\", \"the\", \"what\", \"rest\", \"\\u0bb5\\u0bc0\\u0bb0\\u0bb5\\u0ba3\\u0b95\\u0bcd\\u0b95\\u0bae\\u0bcd\", \"very\", \"\\u0b95\\u0bc7\\u0bb0\\u0bb3\", \"\\u0bae\\u0bc1\\u0ba4\\u0bb2\\u0bcd\\u0bb5\\u0bb0\\u0bcd\", \"\\u0baa\\u0bbf\\u0ba9\\u0bb0\\u0bbe\\u0baf\\u0bbf\", \"\\u0b8e\\u0bae\\u0b8e\\u0bb2\\u0bcd\\u0b8f\", \"humanity\", \"ht\\u2026\", \"\\u0b9a\\u0bc0\\u0bae\\u0bbe\\u0ba9\\u0bcd\", \"\\u0b8e\\u0bae\\u0bcd\\u0b8e\\u0bb2\\u0bcd\\u0b8f\", \"bouquet\", \"\\u0b87\\u0bb0\\u0b99\\u0bcd\\u0b95\\u0bb2\\u0bcd\", \"\\u0bae\\u0bb1\\u0bc8\\u0bb5\\u0bc1\\u0b95\\u0bcd\\u0b95\\u0bc1\", \"\\u0ba4\\u0bbf\\u0bae\\u0bc1\\u0b95\", \"may\", \"\\u0b9c\\u0bc6\\u0b85\\u0ba9\\u0bcd\\u0baa\\u0bb4\\u0b95\\u0ba9\\u0bcd\", \"\\u0b9a\\u0bc6\\u0baf\\u0bcd\\u0baf\\u0baa\\u0bcd\\u0baa\\u0b9f\\u0bcd\\u0b9f\\u0ba4\\u0bc1\", \"midila\", \"respectblackpink\", \"fb\", \"2012\", \"foldedhands\", \"ideology\", \"june\", \"he\", \"raise\", \"ari\", \"abaire\", \"akapiira\", \"omukucanga\", \"omugyenzi\", \"purezidenti\", \"owomutaano\", \"arabic\", \"swearrr\", \"service\", \"beautiful\", \"\\u0b85\\u0b9f\\u0b95\\u0bcd\\u0b95\\u0bae\\u0bcd\", \"i\", \"\\u0b89\\u0b9f\\u0bb2\\u0bcd\", \"u\", \"\\u2026\", \"10th\", \"\\u0baa\\u0bc1\\u0ba4\\u0bb2\\u0bcd\\u0bb5\\u0bb0\\u0bcd\", \"\\u0b85\\u0bb5\\u0bb0\\u0bcd\\u0b95\\u0bb3\\u0bc1\\u0b95\\u0bcd\\u0b95\\u0bc1\", \"\\u0b85\\u0bb5\\u0bb0\\u0ba4\\u0bc1\", \"\\u0b9a\\u0bc6\\u0bb2\\u0bc1\\u0ba4\\u0bcd\\u0ba4\\u0bc1\\u0bae\\u0bcd\", \"\\u0ba4\\u0bbf\\u0bb0\\u0bc1\\u0bb0\\u0bbe\\u0b9c\\u0bbe\\u0b85\\u0ba9\\u0bcd\\u0baa\\u0bb4\\u0b95\\u0ba9\\u0bcd\", \"\\u0b87\\u0ba9\\u0bcd\\u0bb1\\u0bc1\", \"\\u0ba4\\u0bc1\\u0bb0\\u0bc8\\u0bae\\u0bc1\\u0bb0\\u0bc1\\u0b95\\u0ba9\\u0bcd\", \"\\u0baa\\u0bca\\u0bb0\\u0bc1\\u0bb3\\u0bbe\\u0bb3\\u0bb0\\u0bcd\", \"\\u0bae\\u0bb1\\u0bc8\\u0ba8\\u0bcd\\u0ba4\", \"\\u0b85\\u0b9e\\u0bcd\\u0b9a\\u0bb2\\u0bbf\", \"\\u0b87\\u0bb1\\u0bc1\\u0ba4\\u0bbf\", \"\\u0b95\\u0bca\\u0ba3\\u0bcd\\u0b9f\\u0bc1\", \"\\u0bb5\\u0bc0\\u0b9f\\u0bcd\\u0b9f\\u0bbf\\u0bb1\\u0bcd\\u0b95\\u0bc1\", \"\\u0b89\\u0bb3\\u0bcd\\u0bb3\", \"\\u0b9a\\u0bc6\\u0bb2\\u0bcd\\u0bb2\\u0baa\\u0bcd\\u0baa\\u0b9f\\u0bcd\\u0b9f\\u0ba4\\u0bc1\", \"\\u0ba4\\u0bbf\\u0ba8\\u0b95\\u0bb0\\u0bbf\\u0bb2\\u0bcd\", \"\\u0b8e\\u0bae\\u0bcd\\u0b8e\\u0bb2\\u0bcd\\u0b8f\\u0b95\\u0bcd\\u0b95\\u0bb3\\u0bc8\", \"\\u0baa\\u0bb2\\u0bae\\u0bcd\", \"\\u0b87\\u0bb4\\u0ba8\\u0bcd\\u0ba4\", \"\\u0b9a\\u0b9f\\u0bcd\\u0b9f\\u0b9a\\u0baa\\u0bc8\\u0baf\\u0bbf\\u0bb2\\u0bcd\", \"\\u0b95\\u0bc1\\u0bb1\\u0bc8\\u0ba8\\u0bcd\\u0ba4\\u0ba4\\u0bc1\", \"\\u0b86\\u0b95\", \"97\", \"\\u0b85\\u0b9f\\u0bc1\\u0ba4\\u0bcd\\u0ba4\\u0b9f\\u0bc1\\u0ba4\\u0bcd\\u0ba4\\u0bc1\", \"recovered\", \"coming\", \"ndrf\", \"jawan\", \"found\", \"employee\", \"\\u0b9a\\u0bc6\\u0ba9\\u0bcd\\u0ba9\\u0bc8\", \"\\u2026\", \"loudlycryingface\", \"two\", \"\\u0b9c\\u0bc6\\u0b85\\u0ba9\\u0bcd\\u0baa\\u0bb4\\u0b95\\u0ba9\\u0bcd\", \"\\u0ba4\\u0bbf\\u0bae\\u0bc1\\u0b95\", \"\\u0b87\\u0bb0\\u0b99\\u0bcd\\u0b95\\u0bb2\\u0bcd\", \"\\u0bae\\u0bb1\\u0bc8\\u0bb5\\u0bc1\\u0b95\\u0bcd\\u0b95\\u0bc1\", \"ht\\u2026\", \"\\u0b9a\\u0bc0\\u0bae\\u0bbe\\u0ba9\\u0bcd\", \"\\u0b8e\\u0bae\\u0bcd\\u0b8e\\u0bb2\\u0bcd\\u0b8f\", \"sad\", \"\\u0b89\\u0b9f\\u0bb2\\u0bcd\", \"have\", \"of\", \"and\", \"\\u0bb5\\u0bc0\\u0bb0\\u0bb5\\u0ba3\\u0b95\\u0bcd\\u0b95\\u0bae\\u0bcd\", \"let\", \"campaign\", \"school\", \"govt\", \"class\", \"covid\", \"yuvi\", \"pensiveface\", \"\\u0baa\\u0bc1\\u0b95\\u0bc8\\u0baa\\u0bcd\\u0baa\\u0b9f\\u0b99\\u0bcd\\u0b95\\u0bb3\\u0bcd\", \"supporting\", \"use\", \"\\u0b89\\u0baf\\u0bbf\\u0bb0\\u0bbf\\u0bb4\\u0baa\\u0bcd\\u0baa\\u0bc1\", \"via\", \"because\", \"everytime\", \"\\u0baa\\u0bbe\\u0ba4\\u0bbf\\u0baa\\u0bcd\\u0baa\\u0bbe\\u0bb2\\u0bcd\", \"\\u0b95\\u0bca\\u0bb0\\u0bcb\\u0ba9\\u0bbe\", \"10th\", \"traveller\", \"only\", \"fallen\", \"woman\", \"corrupt\", \"governor\", \"kitui\", \"\\u0b9c\\u0bc6\\u0b85\\u0ba9\\u0bcd\\u0baa\\u0bb4\\u0b95\\u0ba9\\u0bbf\\u0ba9\\u0bcd\", \"she\", \"silent\", \"that\\u2019s\", \"too\", \"19\", \"now\", \"this\", \"all\", \"a\", \"soon\", \"are\", \"criminal\", \"of\", \"to\", \"\\u2026\", \"\\u0b8e\\u0bae\\u0bcd\\u0b8e\\u0bb2\\u0bcd\\u0b8f\", \"\\u0ba4\\u0bbf\\u0bae\\u0bc1\\u0b95\", \"ht\\u2026\", \"\\u0b9a\\u0bc0\\u0bae\\u0bbe\\u0ba9\\u0bcd\", \"\\u0b9c\\u0bc6\\u0b85\\u0ba9\\u0bcd\\u0baa\\u0bb4\\u0b95\\u0ba9\\u0bcd\", \"\\u0bae\\u0bb1\\u0bc8\\u0bb5\\u0bc1\\u0b95\\u0bcd\\u0b95\\u0bc1\", \"\\u0b87\\u0bb0\\u0b99\\u0bcd\\u0b95\\u0bb2\\u0bcd\", \"the\", \"and\", \"is\", \"rip\", \"love\", \"kid\", \"bud\", \"easy\", \"john\", \"illuminardi\", \"rest\", \"famous\", \"state\", \"frank\", \"garden\", \"sparkle\", \"whitemediumstar\", \"peace\", \"birthday\", \"die\", \"\\u0b85\\u0bb5\\u0bb0\\u0bcd\\u0b95\\u0bb3\\u0bbf\\u0ba9\\u0bcd\", \"\\u0b85\\u0ba3\\u0bcd\\u0ba3\\u0ba3\\u0bcd\", \"ok\", \"miss\", \"dream\", \"\\u0915\\u093e\", \"jihad\", \"\\u0927\\u0930\\u094d\\u092e\\u093e\\u0902\\u0924\\u0930\\u0923\", \"\\u0926\\u0941\\u0937\\u094d\\u0915\\u0930\\u094d\\u092e\", \"\\u0915\\u0930\\u093e\\u092f\\u093e\", \"\\u0909\\u0926\\u092f\\u092a\\u0941\\u0930\", \"\\u092f\\u0941\\u0935\\u0924\\u0940\", \"\\u092c\\u093e\\u0921\\u093c\\u092e\\u0947\\u0930\", \"you\", \"glowingstar\", \"we\", \"great\", \"people\", \"memory\", \"died\", \"yes\", \"with\", \"the\", \"but\", \"they\", \"wa\", \"are\", \"and\", \"his\", \"in\", \"not\", \"from\", \"who\", \"on\", \"\\u0b95\\u0bc7\\u0bb0\\u0bb3\", \"\\u0bae\\u0bc1\\u0ba4\\u0bb2\\u0bcd\\u0bb5\\u0bb0\\u0bcd\", \"\\u0baa\\u0bbf\\u0ba9\\u0bb0\\u0bbe\\u0baf\\u0bbf\", \"\\u0b8e\\u0bae\\u0b8e\\u0bb2\\u0bcd\\u0b8f\", \"grinningfacewithsweat\", \"dhak\", \"ek\", \"\\u0bb5\\u0bbf\\u0b9c\\u2026\", \"\\u0b85\\u0ba3\\u0bcd\\u0ba3\\u0ba9\\u0bc7\", \"blackheart\", \"downcastfacewithsweat\", \"\\u0995\\u09f0\\u09bf\\u09b2\\u09cb\\u0964\", \"\\u0bb5\\u0bbf\\u0b9c\\u0baf\\u0ba9\\u0bcd\", \"\\u0986\\u09a4\\u09cd\\u09ae\\u09be\\u09f0\", \"\\u09b8\\u09a6\\u0997\\u09a4\\u09bf\", \"\\u09a6\\u09c1\\u09f0\\u09cd\\u09b2\\u09ad\", \"\\u0986\\u09f0\\u09c1\", \"\\u0997\\u09cb\\u09b9\\u09be\\u0981\\u0987\", \"\\u0995\\u09be\\u09ae\\u09a8\\u09be\", \"\\u0987\\u09a3\\u09cd\\u09a1\\u09bf\\u09af\\u09bc\\u09be\", \"\\u0997\\u0997\\u09c8\\u0995\", \"\\u09b2\\u09bf\\u09ae\\u09bf\\u099f\\u09c7\\u09a1\\u09f0\", \"\\u0995\\u09f0\\u09cd\\u09ae\\u099a\\u09be\\u09f0\\u09c0\", \"\\u0985\\u0987\\u09b2\", \"\\u09a4\\u09c0\\u0996\\u09c7\\u09b6\\u09cd\\u09ac\\u09f0\", \"photography\", \"amazing\", \"photo\", \"art\", \"credit\", \"\\u0b9a\\u0bc6\\u0baf\\u0bcd\\u0baf\\u0baa\\u0bcd\\u0baa\\u0b9f\\u0bc1\\u0b95\\u0bbf\\u0bb1\\u0ba4\\u0bc1\", \"\\u0b85\\u0ba9\\u0bcd\\u0baa\\u0bc1\", \"whiteheart\", \"foldedhandsmediumdarkskintone\", \"grandfather\", \"amp\", \"\\u2026\", \"being\", \"\\u0b9c\\u0bc6\\u0b85\\u0ba9\\u0bcd\\u0baa\\u0bb4\\u0b95\\u0ba9\\u0bcd\", \"on\", \"\\u0bae\\u0bb1\\u0bc8\\u0bb5\\u0bc1\\u0b95\\u0bcd\\u0b95\\u0bc1\", \"very\", \"19he\", \"devastating\", \"commited\", \"pass\", \"end\", \"hungry\", \"till\", \"feed\", \"democracy\", \"seeing\", \"due\", \"hashtags\", \"scary\", \"news\", \"ya\", \"post\", \"eagerly\", \"waiting\", \"title\", \"soham\", \"divine\", \"facewithtearsofjoy\", \"battery\", \"daya\", \"gadbad\", \"\\u0928\\u0939\\u0940\\u0902\", \"us\\u2026\", \"reaction\", \"what\", \"away\", \"the\", \"to\", \"\\u0939\\u0948\", \"after\", \"for\", \"wa\", \"a\", \"and\", \"me\", \"is\", \"trending\", \"my\", \"are\", \"\\u0baa\\u0bc1\\u0bb0\\u0bcb\\u0bb9\\u0bbf\\u0ba4\\u0bcd\", \"\\u0b86\\u0bb3\\u0bc1\\u0ba8\\u0bb0\\u0bcd\", \"\\u0baa\\u0ba9\\u0bcd\\u0bb5\\u0bbe\\u0bb0\\u0bbf\\u0bb2\\u0bbe\\u0bb2\\u0bcd\", \"tribute\", \"special\", \"dubey\", \"inning\", \"incredible\", \"\\u0b9a\\u0b9f\\u0bcd\\u0b9f\\u0bae\\u0ba9\\u0bcd\\u0bb1\", \"\\u0b89\\u0bb1\\u0bc1\\u0baa\\u0bcd\\u0baa\\u0bbf\\u0ba9\\u0bb0\\u0bcd\", \"justice\", \"giving\", \"leadership\", \"sleeve\", \"an\", \"pointer\", \"everybody\", \"please\", \"\\u0b89\\u0b9f\\u0bb2\\u0bc1\\u0b9f\\u0ba9\\u0bcd\", \"\\u0baa\\u0bc1\\u0bb1\\u0baa\\u0bcd\\u0baa\\u0b9f\\u0bcd\\u0b9f\\u0ba4\\u0bc1\", \"\\u0bae\\u0bb0\\u0bc1\\u0ba4\\u0bcd\\u0ba4\\u0bc1\\u0bb5\\u0bae\\u0ba9\\u0bc8\\u0baf\\u0bbf\\u0bb2\\u0bcd\", \"http\", \"\\u0b87\\u0bb0\\u0bc1\\u0ba8\\u0bcd\\u0ba4\\u0bc1\", \"\\u0b86\\u0bae\\u0bcd\\u0baa\\u0bc1\\u0bb2\\u0ba9\\u0bcd\\u0bb8\\u0bcd\", \"these\", \"lyric\", \"thank\", \"later\", \"google\", \"search\", \"watch\", \"\\u0b95\\u0bbe\\u0bb2\\u0bae\\u0bbe\\u0ba9\\u0bbe\\u0bb0\\u0bcd\", \"twitter\", \"foldedhands\", \"what\", \"help\", \"with\", \"from\", \"me\", \"on\", \"loudlycryingface\", \"this\", \"my\", \"and\", \"to\", \"\\u0ba4\\u0bbf\\u0bae\\u0bc1\\u0b95\", \"\\u2026\", \"\\u0b9c\\u0bc6\\u0b85\\u0ba9\\u0bcd\\u0baa\\u0bb4\\u0b95\\u0ba9\\u0bcd\", \"\\u0bae\\u0bb1\\u0bc8\\u0bb5\\u0bc1\\u0b95\\u0bcd\\u0b95\\u0bc1\", \"\\u0b87\\u0bb0\\u0b99\\u0bcd\\u0b95\\u0bb2\\u0bcd\", \"\\u0b8e\\u0bae\\u0bcd\\u0b8e\\u0bb2\\u0bcd\\u0b8f\", \"humanity\", \"\\u0b86\\u0bb4\\u0bcd\\u0ba8\\u0bcd\\u0ba4\\u0b87\\u0bb0\\u0b99\\u0bcd\\u0b95\\u0bb2\\u0bcd\", \"tan\", \"faith\", \"restore\", \"\\u0905\\u0932\\u0935\\u093f\\u0926\\u093e\", \"\\u0930\\u093e\\u091c\\u0928\\u0940\\u0924\\u093f\", \"\\u0928\\u093e\\u092f\\u0915\", \"fraudsters\", \"owed\", \"\\u0b95\\u0bc2\\u0b9f\", \"\\u0baa\\u0bbf\\u0bb1\\u0ba8\\u0bcd\\u0ba4\\u0ba8\\u0bbe\\u0bb3\\u0bc1\\u0bae\\u0bcd\", \"party\", \"shubham\", \"demo\", \"impossible\", \"alexader\", \"\\u0b9c\\u0bc6\\u0b85\\u0ba9\\u0bcd\\u0baa\\u0bb4\\u0b95\\u0ba9\", \"\\u0b95\\u2026\", \"\\u0b95\\u0ba3\\u0bcd\\u0ba3\\u0bae\\u0bcd\\u0bae\\u0bbe\\u0baa\\u0bc7\\u0b9f\\u0bcd\\u0b9f\\u0bc8\\u0baf\\u0bbf\\u0bb2\\u0bcd\", \"\\u2066\\u2026\", \"tortured\", \"black\", \"comme\", \"nous\", \"ensemble\", \"t\", \"639\", \"facewithmedicalmask\", \"de\", \"nothing\", \"come\", \"see\", \"to\", \"face\", \"the\", \"in\", \"2020\", \"this\", \"by\", \"it\", \"a\", \"news\"], \"Freq\": [15.0, 15.0, 14.0, 14.0, 14.0, 14.0, 13.0, 3.0, 4.0, 3.0, 3.0, 1.0, 1.0, 1.0, 1.0, 1.0, 1.0, 1.0, 1.0, 1.0, 3.0, 2.0, 1.0, 1.0, 1.0, 1.0, 1.0, 1.0, 1.0, 0.0, 12.424620628356934, 12.362957000732422, 11.95280647277832, 3.04728364944458, 11.490887641906738, 11.356274604797363, 10.844197273254395, 2.8324413299560547, 9.96751594543457, 1.0019818544387817, 0.6946167349815369, 0.6184782981872559, 0.61846524477005, 0.6471536755561829, 2.9112069606781006, 0.5126011967658997, 0.7235246896743774, 2.2557082176208496, 0.43192988634109497, 0.4248592257499695, 0.4248581826686859, 0.4248541295528412, 0.42485299706459045, 0.42484670877456665, 0.42484429478645325, 0.42483481764793396, 0.4195961654186249, 0.39804208278656006, 0.3865370452404022, 0.3865140676498413, 0.8417174816131592, 0.9465979337692261, 0.811401903629303, 0.5803289413452148, 0.9892638325691223, 0.5980049967765808, 1.2817909717559814, 1.2817713022232056, 1.2817599773406982, 1.2817555665969849, 1.2817280292510986, 1.2218005657196045, 0.7628121972084045, 0.7627944946289062, 1.2217015027999878, 1.2216583490371704, 1.2215652465820312, 0.6968932747840881, 0.6448224782943726, 0.644818902015686, 0.6448060870170593, 0.6448030471801758, 0.46273189783096313, 0.4627223610877991, 0.4627123475074768, 0.46271219849586487, 0.46270936727523804, 0.46270647644996643, 0.4627043604850769, 0.46268147230148315, 0.47789350152015686, 0.47789266705513, 0.4778897166252136, 0.4778878390789032, 0.47788581252098083, 0.4778861999511719, 0.6163324117660522, 1.1390472650527954, 0.7839276194572449, 0.6029979586601257, 1.803629755973816, 1.3720219135284424, 1.3062833547592163, 1.2759935855865479, 1.1123098134994507, 1.0956926345825195, 1.0864042043685913, 0.5098838806152344, 0.5947898030281067, 0.5340063571929932, 0.5596044659614563, 0.566027820110321, 0.8698536157608032, 0.810239851474762, 0.8591179847717285, 0.8591036200523376, 0.8590813875198364, 0.8298102021217346, 0.8583885431289673, 0.46050605177879333, 0.4705490171909332, 0.4103879928588867, 0.40624770522117615, 0.41348516941070557, 0.3701575696468353, 0.46367284655570984, 0.3793172240257263, 0.30236154794692993, 0.3831598460674286, 0.38315024971961975, 0.8042793869972229, 0.2923170328140259, 0.3477853238582611, 0.28601109981536865, 0.31934991478919983, 0.3193454444408417, 0.31934383511543274, 0.3193422853946686, 0.3831515312194824, 0.27241697907447815, 0.26726728677749634, 0.2555483281612396, 0.5647605657577515, 0.7975159883499146, 0.5309962630271912, 0.7001789808273315, 0.5371339917182922, 0.8210533261299133, 0.41942381858825684, 0.6760369539260864, 0.36021941900253296, 0.600560188293457, 0.7300453186035156, 0.663451075553894, 1.0583393573760986, 1.0110125541687012, 0.9940342903137207, 0.9789442420005798, 0.92977374792099, 0.9321306347846985, 0.9317876100540161, 0.5790809392929077, 0.48901045322418213, 0.4687839150428772, 2.87209415435791, 0.8535075783729553, 0.5530993938446045, 0.5530855059623718, 0.5530719757080078, 0.5530590415000916, 0.48989757895469666, 0.9967072010040283, 0.46091192960739136, 0.421520859003067, 0.42151975631713867, 0.42149439454078674, 0.4858700931072235, 0.4858510494232178, 0.6585518717765808, 0.5254234075546265, 0.4186016321182251, 0.3423549234867096, 0.3423413634300232, 0.3647042214870453, 0.5811076760292053, 0.31199318170547485, 0.31016576290130615, 0.31016501784324646, 0.3101608157157898, 0.3101579248905182, 0.3101530373096466, 0.31015297770500183, 0.310151070356369, 0.3101494014263153, 0.8918232917785645, 0.453065425157547, 0.6349524855613708, 0.3936350345611572, 0.5700535774230957, 0.4400068521499634, 0.4598003625869751, 0.4503677487373352, 0.49253740906715393, 0.9426607489585876, 0.5041007399559021, 0.5248275995254517, 0.6058549284934998, 0.6243026256561279, 0.6537770628929138, 0.5306822061538696, 0.5370206832885742, 0.4721536934375763, 0.4733523428440094, 0.45844802260398865, 0.46144232153892517, 0.7753974199295044, 0.7753815650939941, 0.7753573060035706, 0.775346040725708, 0.5582250952720642, 0.5582252740859985, 0.5582112669944763, 0.5534629821777344, 0.4595787823200226, 0.4496281147003174, 0.5338992476463318, 0.35681191086769104, 0.3808347284793854, 0.3724629282951355, 0.3724609315395355, 0.3724573850631714, 0.3724569082260132, 0.3724557161331177, 0.3724544942378998, 0.3724493384361267, 0.37244877219200134, 0.3724483251571655, 0.3724467158317566, 0.37243661284446716, 0.37243491411209106, 0.3105986714363098, 0.31059587001800537, 0.310596227645874, 0.3105955421924591, 0.3105908930301666, 0.39997538924217224, 0.43565741181373596, 0.3297596573829651, 0.3297511637210846, 0.32974979281425476, 0.41394785046577454, 0.4569990634918213, 0.35869622230529785, 0.3970346748828888, 0.36295807361602783, 0.36684665083885193, 0.7259218692779541, 0.5949501991271973, 0.5949473977088928, 0.5949416756629944, 0.6360779404640198, 0.6360679864883423, 0.6360656023025513, 0.636052668094635, 0.6360510587692261, 0.44935235381126404, 0.3593122661113739, 0.5850467681884766, 0.3062784969806671, 0.3062703311443329, 0.5714927315711975, 0.2868940532207489, 0.3192075788974762, 0.319204717874527, 0.3191922605037689, 0.2729056179523468, 0.2728973627090454, 0.2728727459907532, 0.3330141603946686, 0.2406930923461914, 0.23297245800495148, 0.23294977843761444, 0.23089604079723358, 0.2337465137243271, 0.3358195424079895, 0.7925200462341309, 0.5547278523445129, 1.009742259979248, 0.9205825328826904, 0.29128775000572205, 0.3944177031517029, 0.5004104375839233, 0.4395928978919983, 0.49489086866378784, 0.4861202538013458, 0.370882511138916, 0.37655147910118103, 0.3494974672794342, 0.3334132730960846, 0.32562029361724854, 0.42887139320373535, 0.428865909576416, 0.4288581609725952, 0.47037914395332336, 0.47037744522094727, 0.4703733026981354, 0.4703674912452698, 0.4703482389450073, 0.3338262438774109, 0.33380234241485596, 0.30837327241897583, 0.3083631098270416, 0.26270371675491333, 0.2602634131908417, 0.4332594573497772, 0.24893377721309662, 0.2845629155635834, 0.33267146348953247, 0.2832469940185547, 0.2832470238208771, 0.28324106335639954, 0.2832408547401428, 0.28323954343795776, 0.2832348644733429, 0.3336249589920044, 0.2617183029651642, 0.2617163360118866, 0.2617137134075165, 0.26171258091926575, 0.2617042064666748, 0.4190771281719208, 0.31183212995529175, 0.45536747574806213, 0.8793447613716125, 0.46970558166503906, 0.3288019597530365, 0.3549002707004547, 0.41150161623954773, 0.38552817702293396, 0.37504830956459045, 0.3667175769805908, 0.36149054765701294, 0.33811333775520325, 0.3832972049713135, 0.39120107889175415, 0.44046980142593384, 0.3538860082626343, 0.3897150158882141, 0.3731541633605957, 0.3548661172389984, 0.3508620262145996, 0.5422003865242004, 0.384173184633255, 0.22638793289661407, 0.22129514813423157, 0.221285879611969, 0.2210329920053482, 0.2210254669189453, 0.22102338075637817, 0.2099587470293045, 0.2099420428276062, 0.20439665019512177, 0.20439229905605316, 0.2382315695285797, 0.1972939819097519, 0.1960093230009079, 0.18475034832954407, 0.18474650382995605, 0.18148395419120789, 0.1814773827791214, 0.18147441744804382, 0.19877101480960846, 0.1987670660018921, 0.19876566529273987, 0.17177164554595947, 0.17176766693592072, 0.17176224291324615, 0.16943907737731934, 0.16943901777267456, 0.16943785548210144, 0.2233802229166031, 0.26653605699539185, 0.23230116069316864, 0.26444846391677856, 0.4242705702781677, 0.19751861691474915, 0.40372517704963684, 0.26874083280563354, 0.22620084881782532, 0.23904888331890106, 0.22077767550945282, 0.2132038027048111, 0.21912632882595062, 0.20179638266563416], \"Total\": [15.0, 15.0, 14.0, 14.0, 14.0, 14.0, 13.0, 3.0, 4.0, 3.0, 3.0, 1.0, 1.0, 1.0, 1.0, 1.0, 1.0, 1.0, 1.0, 1.0, 3.0, 2.0, 1.0, 1.0, 1.0, 1.0, 1.0, 1.0, 1.0, 0.0, 15.076142311096191, 15.005772590637207, 14.777758598327637, 3.791555166244507, 14.524046897888184, 14.527519226074219, 14.23878288269043, 3.7819466590881348, 13.75724983215332, 1.42875075340271, 1.0391826629638672, 0.9631572961807251, 0.963153064250946, 1.0620614290237427, 4.795569896697998, 0.85707026720047, 1.231386661529541, 3.8807332515716553, 0.7764168977737427, 0.769333004951477, 0.769333004951477, 0.7693317532539368, 0.7693313360214233, 0.7693300247192383, 0.7693290114402771, 0.7693265676498413, 0.76406329870224, 0.7425456643104553, 0.7310299873352051, 0.7310230731964111, 1.8160490989685059, 2.4962878227233887, 2.101019859313965, 1.3967596292495728, 3.9289755821228027, 1.7958494424819946, 1.7833242416381836, 1.783339262008667, 1.7833291292190552, 1.7833361625671387, 1.7833306789398193, 1.9071992635726929, 1.2110540866851807, 1.2110565900802612, 1.9549981355667114, 1.9549953937530518, 1.9550018310546875, 1.125731348991394, 1.077008843421936, 1.0770126581192017, 1.0770137310028076, 1.0770113468170166, 0.8244316577911377, 0.8244310617446899, 0.8244317770004272, 0.8244323134422302, 0.824431836605072, 0.8244311809539795, 0.8244317173957825, 0.8244314193725586, 0.879033625125885, 0.8790335655212402, 0.8790342807769775, 0.8790324926376343, 0.8790338039398193, 0.8790351748466492, 1.1468945741653442, 3.9289755821228027, 2.2234017848968506, 1.364329218864441, 13.75724983215332, 14.23878288269043, 14.524046897888184, 14.527519226074219, 15.076142311096191, 15.005772590637207, 14.777758598327637, 1.1130143404006958, 2.101019859313965, 1.445062518119812, 2.436582565307617, 3.118346929550171, 1.2323046922683716, 1.2112001180648804, 1.3993656635284424, 1.3993618488311768, 1.3993734121322632, 1.4154433012008667, 1.514707326889038, 0.8227486610412598, 0.8807227611541748, 0.7724724411964417, 0.7683195471763611, 0.8018561601638794, 0.7322785258293152, 0.9546114802360535, 0.807656466960907, 0.664454996585846, 0.852541446685791, 0.8525410294532776, 1.7958494424819946, 0.6543667912483215, 0.7802110910415649, 0.6480544209480286, 0.7321301698684692, 0.7321298718452454, 0.7321298122406006, 0.7321291565895081, 0.8902109265327454, 0.6344455480575562, 0.629285991191864, 0.6175897121429443, 1.3925418853759766, 2.0875449180603027, 1.4712789058685303, 2.1418280601501465, 1.5545704364776611, 3.0671918392181396, 1.1175479888916016, 2.430009126663208, 0.9134889245033264, 2.436582565307617, 3.805147886276245, 3.9289755821228027, 14.777758598327637, 14.23878288269043, 15.076142311096191, 15.005772590637207, 13.75724983215332, 14.527519226074219, 14.524046897888184, 3.935640335083008, 3.118346929550171, 2.2750906944274902, 3.2927908897399902, 1.3376657962799072, 0.9118880033493042, 0.9118871688842773, 0.9118850827217102, 0.9118846654891968, 0.8489028215408325, 1.748429298400879, 0.8197094202041626, 0.7802948951721191, 0.7802945971488953, 0.7802934646606445, 0.9239779710769653, 0.9239773750305176, 1.2841345071792603, 1.036233901977539, 0.8430061340332031, 0.7012053728103638, 0.7012050151824951, 0.757633626461029, 1.232609510421753, 0.6707928776741028, 0.6689228415489197, 0.6689223647117615, 0.6689223647117615, 0.6689223051071167, 0.6689215898513794, 0.6689215898513794, 0.6689223647117615, 0.6689225435256958, 1.9366194009780884, 0.9933074116706848, 1.4371519088745117, 0.8685996532440186, 1.4480913877487183, 1.0497469902038574, 1.1125861406326294, 1.1026829481124878, 1.3279054164886475, 3.935640335083008, 1.4351681470870972, 1.5516749620437622, 2.1396524906158447, 2.430009126663208, 3.118346929550171, 1.7426965236663818, 2.6328537464141846, 1.5741535425186157, 1.9584693908691406, 1.6303374767303467, 2.2830774784088135, 1.2357957363128662, 1.2357910871505737, 1.2357971668243408, 1.2357947826385498, 0.9678442478179932, 0.9678449034690857, 0.9678442478179932, 0.9717364311218262, 0.9082766771316528, 0.8923510313034058, 1.0670164823532104, 0.7510318160057068, 0.8018210530281067, 0.7919600009918213, 0.7919583320617676, 0.7919610142707825, 0.7919602394104004, 0.7919598817825317, 0.7919593453407288, 0.7919595837593079, 0.7919594049453735, 0.7919598817825317, 0.7919595241546631, 0.791959285736084, 0.7919612526893616, 0.6738527417182922, 0.6738523840904236, 0.6738531589508057, 0.6738519668579102, 0.6738521456718445, 0.876742959022522, 1.0087488889694214, 0.7494304776191711, 0.7494302988052368, 0.7494306564331055, 1.7692575454711914, 3.9289755821228027, 1.156386137008667, 13.75724983215332, 2.2830774784088135, 14.527519226074219, 1.2729408740997314, 1.050672173500061, 1.05066978931427, 1.0506739616394043, 1.1243153810501099, 1.1243170499801636, 1.1243172883987427, 1.1243185997009277, 1.1243175268173218, 0.8128427863121033, 0.7765924334526062, 1.2664908170700073, 0.6696043610572815, 0.6696048974990845, 1.2714611291885376, 0.6501654982566833, 0.7351487874984741, 0.7351481914520264, 0.7351483106613159, 0.6362054347991943, 0.6362069249153137, 0.6362078785896301, 0.8126270771026611, 0.6039606332778931, 0.5962523221969604, 0.5962529182434082, 0.5941550135612488, 0.6338320374488831, 0.9124096632003784, 2.196889877319336, 1.5482569932937622, 3.935640335083008, 3.805147886276245, 0.8390048742294312, 1.3566067218780518, 2.2773549556732178, 2.1396524906158447, 3.0671918392181396, 3.118346929550171, 1.7108945846557617, 2.2750906944274902, 1.8880010843276978, 1.6787090301513672, 2.430009126663208, 0.7975647449493408, 0.797565221786499, 0.7975661158561707, 0.9513307809829712, 0.9513288140296936, 0.9513248205184937, 0.9513319134712219, 0.9513315558433533, 0.7674106359481812, 0.7674155235290527, 0.7362421751022339, 0.7362446188926697, 0.6313765048980713, 0.6289214491844177, 1.0601723194122314, 0.6176064610481262, 0.7146083116531372, 0.8471876978874207, 0.7238393425941467, 0.7238448262214661, 0.7238432765007019, 0.7238446474075317, 0.7238455414772034, 0.7238425612449646, 0.85567307472229, 0.677921712398529, 0.6779215335845947, 0.6779217720031738, 0.6779223084449768, 0.6779235005378723, 1.090651512145996, 0.8727785348892212, 1.515470266342163, 4.795569896697998, 2.196889877319336, 1.0739717483520508, 1.3279054164886475, 1.9584693908691406, 1.7108945846557617, 2.2830774784088135, 2.2234017848968506, 2.1418280601501465, 1.6787090301513672, 3.118346929550171, 3.805147886276245, 14.23878288269043, 3.9289755821228027, 13.75724983215332, 14.527519226074219, 14.524046897888184, 14.777758598327637, 0.9130207896232605, 0.7549050450325012, 0.5969203114509583, 0.5918278694152832, 0.5918306112289429, 0.5915815234184265, 0.5915845036506653, 0.5915842056274414, 0.5804898142814636, 0.5804949998855591, 0.5749258995056152, 0.5749270915985107, 0.6857481002807617, 0.5682995915412903, 0.5665146708488464, 0.5552632212638855, 0.5552642345428467, 0.5519968867301941, 0.5519984364509583, 0.5519990921020508, 0.618393063545227, 0.6183925867080688, 0.6183918714523315, 0.5422762632369995, 0.5422773361206055, 0.5422785878181458, 0.5399521589279175, 0.5399522185325623, 0.5399528741836548, 0.7310283780097961, 0.9028804302215576, 0.7810520529747009, 1.1889212131500244, 3.805147886276245, 0.73100745677948, 3.935640335083008, 2.6328537464141846, 1.414219617843628, 2.1418280601501465, 1.5203534364700317, 1.3389455080032349, 3.0671918392181396, 1.2714611291885376], \"Category\": [\"Default\", \"Default\", \"Default\", \"Default\", \"Default\", \"Default\", \"Default\", \"Default\", \"Default\", \"Default\", \"Default\", \"Default\", \"Default\", \"Default\", \"Default\", \"Default\", \"Default\", \"Default\", \"Default\", \"Default\", \"Default\", \"Default\", \"Default\", \"Default\", \"Default\", \"Default\", \"Default\", \"Default\", \"Default\", \"Default\", \"Topic1\", \"Topic1\", \"Topic1\", \"Topic1\", \"Topic1\", \"Topic1\", \"Topic1\", \"Topic1\", \"Topic1\", \"Topic1\", \"Topic1\", \"Topic1\", \"Topic1\", \"Topic1\", \"Topic1\", \"Topic1\", \"Topic1\", \"Topic1\", \"Topic1\", \"Topic1\", \"Topic1\", \"Topic1\", \"Topic1\", \"Topic1\", \"Topic1\", \"Topic1\", \"Topic1\", \"Topic1\", \"Topic1\", \"Topic1\", \"Topic1\", \"Topic1\", \"Topic1\", \"Topic1\", \"Topic1\", \"Topic1\", \"Topic2\", \"Topic2\", \"Topic2\", \"Topic2\", \"Topic2\", \"Topic2\", \"Topic2\", \"Topic2\", \"Topic2\", \"Topic2\", \"Topic2\", \"Topic2\", \"Topic2\", \"Topic2\", \"Topic2\", \"Topic2\", \"Topic2\", \"Topic2\", \"Topic2\", \"Topic2\", \"Topic2\", \"Topic2\", \"Topic2\", \"Topic2\", \"Topic2\", \"Topic2\", \"Topic2\", \"Topic2\", \"Topic2\", \"Topic2\", \"Topic2\", \"Topic2\", \"Topic2\", \"Topic2\", \"Topic2\", \"Topic2\", \"Topic2\", \"Topic2\", \"Topic2\", \"Topic2\", \"Topic2\", \"Topic2\", \"Topic2\", \"Topic2\", \"Topic2\", \"Topic2\", \"Topic3\", \"Topic3\", \"Topic3\", \"Topic3\", \"Topic3\", \"Topic3\", \"Topic3\", \"Topic3\", \"Topic3\", \"Topic3\", \"Topic3\", \"Topic3\", \"Topic3\", \"Topic3\", \"Topic3\", \"Topic3\", \"Topic3\", \"Topic3\", \"Topic3\", \"Topic3\", \"Topic3\", \"Topic3\", \"Topic3\", \"Topic3\", \"Topic3\", \"Topic3\", \"Topic3\", \"Topic3\", \"Topic3\", \"Topic3\", \"Topic3\", \"Topic3\", \"Topic3\", \"Topic3\", \"Topic3\", \"Topic3\", \"Topic3\", \"Topic3\", \"Topic3\", \"Topic3\", \"Topic3\", \"Topic3\", \"Topic3\", \"Topic3\", \"Topic3\", \"Topic3\", \"Topic3\", \"Topic3\", \"Topic3\", \"Topic3\", \"Topic3\", \"Topic3\", \"Topic4\", \"Topic4\", \"Topic4\", \"Topic4\", \"Topic4\", \"Topic4\", \"Topic4\", \"Topic4\", \"Topic4\", \"Topic4\", \"Topic4\", \"Topic4\", \"Topic4\", \"Topic4\", \"Topic4\", \"Topic4\", \"Topic4\", \"Topic4\", \"Topic4\", \"Topic4\", \"Topic4\", \"Topic4\", \"Topic4\", \"Topic4\", \"Topic4\", \"Topic4\", \"Topic4\", \"Topic4\", \"Topic4\", \"Topic4\", \"Topic4\", \"Topic4\", \"Topic4\", \"Topic4\", \"Topic4\", \"Topic4\", \"Topic4\", \"Topic4\", \"Topic4\", \"Topic4\", \"Topic4\", \"Topic4\", \"Topic4\", \"Topic4\", \"Topic4\", \"Topic4\", \"Topic4\", \"Topic4\", \"Topic4\", \"Topic4\", \"Topic4\", \"Topic5\", \"Topic5\", \"Topic5\", \"Topic5\", \"Topic5\", \"Topic5\", \"Topic5\", \"Topic5\", \"Topic5\", \"Topic5\", \"Topic5\", \"Topic5\", \"Topic5\", \"Topic5\", \"Topic5\", \"Topic5\", \"Topic5\", \"Topic5\", \"Topic5\", \"Topic5\", \"Topic5\", \"Topic5\", \"Topic5\", \"Topic5\", \"Topic5\", \"Topic5\", \"Topic5\", \"Topic5\", \"Topic5\", \"Topic5\", \"Topic5\", \"Topic5\", \"Topic5\", \"Topic5\", \"Topic5\", \"Topic5\", \"Topic5\", \"Topic5\", \"Topic5\", \"Topic5\", \"Topic5\", \"Topic6\", \"Topic6\", \"Topic6\", \"Topic6\", \"Topic6\", \"Topic6\", \"Topic6\", \"Topic6\", \"Topic6\", \"Topic6\", \"Topic6\", \"Topic6\", \"Topic6\", \"Topic6\", \"Topic6\", \"Topic6\", \"Topic6\", \"Topic6\", \"Topic6\", \"Topic6\", \"Topic6\", \"Topic6\", \"Topic6\", \"Topic6\", \"Topic6\", \"Topic6\", \"Topic6\", \"Topic6\", \"Topic6\", \"Topic6\", \"Topic6\", \"Topic6\", \"Topic6\", \"Topic6\", \"Topic6\", \"Topic6\", \"Topic6\", \"Topic6\", \"Topic6\", \"Topic6\", \"Topic6\", \"Topic6\", \"Topic6\", \"Topic6\", \"Topic7\", \"Topic7\", \"Topic7\", \"Topic7\", \"Topic7\", \"Topic7\", \"Topic7\", \"Topic7\", \"Topic7\", \"Topic7\", \"Topic7\", \"Topic7\", \"Topic7\", \"Topic7\", \"Topic7\", \"Topic7\", \"Topic7\", \"Topic7\", \"Topic7\", \"Topic7\", \"Topic7\", \"Topic7\", \"Topic7\", \"Topic7\", \"Topic7\", \"Topic7\", \"Topic7\", \"Topic7\", \"Topic7\", \"Topic7\", \"Topic7\", \"Topic7\", \"Topic7\", \"Topic7\", \"Topic7\", \"Topic7\", \"Topic7\", \"Topic7\", \"Topic7\", \"Topic7\", \"Topic7\", \"Topic7\", \"Topic7\", \"Topic7\", \"Topic7\", \"Topic7\", \"Topic7\", \"Topic7\", \"Topic7\", \"Topic7\", \"Topic7\", \"Topic8\", \"Topic8\", \"Topic8\", \"Topic8\", \"Topic8\", \"Topic8\", \"Topic8\", \"Topic8\", \"Topic8\", \"Topic8\", \"Topic8\", \"Topic8\", \"Topic8\", \"Topic8\", \"Topic8\", \"Topic8\", \"Topic8\", \"Topic8\", \"Topic8\", \"Topic8\", \"Topic8\", \"Topic8\", \"Topic8\", \"Topic8\", \"Topic8\", \"Topic8\", \"Topic8\", \"Topic8\", \"Topic8\", \"Topic8\", \"Topic8\", \"Topic8\", \"Topic8\", \"Topic8\", \"Topic8\", \"Topic8\", \"Topic8\", \"Topic8\", \"Topic8\", \"Topic8\", \"Topic8\", \"Topic8\", \"Topic8\"], \"logprob\": [30.0, 29.0, 28.0, 27.0, 26.0, 25.0, 24.0, 23.0, 22.0, 21.0, 20.0, 19.0, 18.0, 17.0, 16.0, 15.0, 14.0, 13.0, 12.0, 11.0, 10.0, 9.0, 8.0, 7.0, 6.0, 5.0, 4.0, 3.0, 2.0, 1.0, -3.0578999519348145, -3.0629000663757324, -3.0966999530792236, -4.463399887084961, -3.1361000537872314, -3.147900104522705, -3.194000005722046, -4.536499977111816, -3.2783000469207764, -5.5756001472473145, -5.941999912261963, -6.05810022354126, -6.05810022354126, -6.012800216674805, -4.509099960327148, -6.2459001541137695, -5.901199817657471, -4.764200210571289, -6.417099952697754, -6.433599948883057, -6.433599948883057, -6.433599948883057, -6.433599948883057, -6.433700084686279, -6.433700084686279, -6.433700084686279, -6.446100234985352, -6.498799800872803, -6.528200149536133, -6.528200149536133, -5.749899864196777, -5.632500171661377, -5.786600112915039, -6.121799945831299, -5.588399887084961, -6.091800212860107, -4.813600063323975, -4.813600063323975, -4.813600063323975, -4.813600063323975, -4.813700199127197, -4.861499786376953, -5.332600116729736, -5.332600116729736, -4.861599922180176, -4.861700057983398, -4.861700057983398, -5.422999858856201, -5.5005998611450195, -5.5005998611450195, -5.500699996948242, -5.500699996948242, -5.832499980926514, -5.832499980926514, -5.832499980926514, -5.832499980926514, -5.832499980926514, -5.832499980926514, -5.832499980926514, -5.832600116729736, -5.80019998550415, -5.80019998550415, -5.80019998550415, -5.80019998550415, -5.80019998550415, -5.80019998550415, -5.54580020904541, -4.931700229644775, -5.305300235748291, -5.567699909210205, -4.472099781036377, -4.74560022354126, -4.7947001457214355, -4.8180999755859375, -4.955399990081787, -4.9704999923706055, -4.979000091552734, -5.735400199890137, -5.581399917602539, -5.689199924468994, -5.642399787902832, -5.63100004196167, -5.1697998046875, -5.240799903869629, -5.182199954986572, -5.182199954986572, -5.182300090789795, -5.216899871826172, -5.18310022354126, -5.805799961090088, -5.784200191497803, -5.921000003814697, -5.93120002746582, -5.91349983215332, -6.024199962615967, -5.798999786376953, -5.999800205230713, -6.226500034332275, -5.989699840545654, -5.989699840545654, -5.248199939727783, -6.260300159454346, -6.08650016784668, -6.282100200653076, -6.171800136566162, -6.171899795532227, -6.171899795532227, -6.171899795532227, -5.989699840545654, -6.3308000564575195, -6.349899768829346, -6.394700050354004, -5.6016998291015625, -5.2565999031066895, -5.663400173187256, -5.3867998123168945, -5.651899814605713, -5.227499961853027, -5.899199962615967, -5.421899795532227, -6.051400184631348, -5.540299892425537, -5.34499979019165, -5.440700054168701, -4.973700046539307, -5.019400119781494, -5.036399841308594, -5.051700115203857, -5.1031999588012695, -5.1006999015808105, -5.10099983215332, -5.576700210571289, -5.745699882507324, -5.788000106811523, -3.964200019836426, -5.177700042724609, -5.611499786376953, -5.611499786376953, -5.611499786376953, -5.611599922180176, -5.732800006866455, -5.022600173950195, -5.793799877166748, -5.883200168609619, -5.883200168609619, -5.883200168609619, -5.741099834442139, -5.741099834442139, -5.436999797821045, -5.662799835205078, -5.890100002288818, -6.09119987487793, -6.09119987487793, -6.027900218963623, -5.562099933624268, -6.184000015258789, -6.189899921417236, -6.189899921417236, -6.189899921417236, -6.189899921417236, -6.190000057220459, -6.190000057220459, -6.190000057220459, -6.190000057220459, -5.133800029754639, -5.810999870300293, -5.473499774932861, -5.951600074768066, -5.581299781799316, -5.840199947357178, -5.796199798583984, -5.816999912261963, -5.727499961853027, -5.0782999992370605, -5.7042999267578125, -5.664000034332275, -5.520400047302246, -5.4903998374938965, -5.444300174713135, -5.652900218963623, -5.640999794006348, -5.769700050354004, -5.767199993133545, -5.799200057983398, -5.792699813842773, -5.176700115203857, -5.176700115203857, -5.176799774169922, -5.176799774169922, -5.505300045013428, -5.505300045013428, -5.505300045013428, -5.513899803161621, -5.69980001449585, -5.721700191497803, -5.549900054931641, -5.952899932861328, -5.887700080871582, -5.909900188446045, -5.909900188446045, -5.909999847412109, -5.909999847412109, -5.909999847412109, -5.909999847412109, -5.909999847412109, -5.909999847412109, -5.909999847412109, -5.909999847412109, -5.909999847412109, -5.909999847412109, -6.091599941253662, -6.091599941253662, -6.091599941253662, -6.091599941253662, -6.091599941253662, -5.838699817657471, -5.753200054168701, -6.031700134277344, -6.031700134277344, -6.031700134277344, -5.804299831390381, -5.705399990081787, -5.9475998878479, -5.846099853515625, -5.935800075531006, -5.925099849700928, -5.16379976272583, -5.362800121307373, -5.362800121307373, -5.362800121307373, -5.296000003814697, -5.296000003814697, -5.296000003814697, -5.296000003814697, -5.296000003814697, -5.643499851226807, -5.867099761962891, -5.3796000480651855, -6.026800155639648, -6.026800155639648, -5.4029998779296875, -6.092199802398682, -5.985400199890137, -5.985400199890137, -5.985499858856201, -6.142199993133545, -6.142199993133545, -6.142300128936768, -5.9430999755859375, -6.2677998542785645, -6.3003997802734375, -6.30049991607666, -6.309299945831299, -6.296999931335449, -5.934700012207031, -5.076099872589111, -5.432799816131592, -4.833799839019775, -4.926300048828125, -6.077000141143799, -5.773900032043457, -5.535799980163574, -5.66540002822876, -5.546899795532227, -5.564799785614014, -5.835400104522705, -5.820199966430664, -5.894800186157227, -5.94189977645874, -5.9654998779296875, -5.558199882507324, -5.558199882507324, -5.558199882507324, -5.465799808502197, -5.465799808502197, -5.465799808502197, -5.465799808502197, -5.46589994430542, -5.808700084686279, -5.808800220489502, -5.888000011444092, -5.8881001472473145, -6.048299789428711, -6.057700157165527, -5.547999858856201, -6.102200031280518, -5.968400001525879, -5.81220006942749, -5.9730000495910645, -5.9730000495910645, -5.973100185394287, -5.973100185394287, -5.973100185394287, -5.973100185394287, -5.809299945831299, -6.05210018157959, -6.05210018157959, -6.05210018157959, -6.05210018157959, -6.05210018157959, -5.581299781799316, -5.8769001960754395, -5.498300075531006, -4.840199947357178, -5.467299938201904, -5.82390022277832, -5.747499942779541, -5.5995001792907715, -5.664700031280518, -5.692299842834473, -5.714799880981445, -5.729100227355957, -5.796000003814697, -5.670599937438965, -5.650100231170654, -5.531499862670898, -5.750400066375732, -5.653900146484375, -5.697400093078613, -5.747600078582764, -5.758999824523926, -5.248700141906738, -5.593200206756592, -6.122099876403809, -6.144800186157227, -6.144800186157227, -6.145999908447266, -6.145999908447266, -6.145999908447266, -6.197400093078613, -6.197500228881836, -6.2241997718811035, -6.224299907684326, -6.071100234985352, -6.2596001625061035, -6.26609992980957, -6.325300216674805, -6.325300216674805, -6.343100070953369, -6.343200206756592, -6.343200206756592, -6.252099990844727, -6.252200126647949, -6.252200126647949, -6.398099899291992, -6.398200035095215, -6.398200035095215, -6.411799907684326, -6.411799907684326, -6.411799907684326, -6.13539981842041, -5.958799839019775, -6.09630012512207, -5.966700077056885, -5.493899822235107, -6.258500099182129, -5.543600082397461, -5.9506001472473145, -6.122900009155273, -6.067599773406982, -6.14709997177124, -6.18209981918335, -6.154699802398682, -6.236999988555908], \"loglift\": [30.0, 29.0, 28.0, 27.0, 26.0, 25.0, 24.0, 23.0, 22.0, 21.0, 20.0, 19.0, 18.0, 17.0, 16.0, 15.0, 14.0, 13.0, 12.0, 11.0, 10.0, 9.0, 8.0, 7.0, 6.0, 5.0, 4.0, 3.0, 2.0, 1.0, 1.3234000205993652, 1.323099970817566, 1.3047000169754028, 1.29830002784729, 1.2826000452041626, 1.2705999612808228, 1.2445000410079956, 1.2276999950408936, 1.194599986076355, 1.1619999408721924, 1.1139999628067017, 1.0738999843597412, 1.0738999843597412, 1.0214999914169312, 1.017699956893921, 1.0027999877929688, 0.9850999712944031, 0.9743000268936157, 0.930400013923645, 0.9230999946594238, 0.9230999946594238, 0.9230999946594238, 0.9230999946594238, 0.9229999780654907, 0.9229999780654907, 0.9229999780654907, 0.9175000190734863, 0.8932999968528748, 0.8795999884605408, 0.8795999884605408, 0.7479000091552734, 0.5472000241279602, 0.5654000043869019, 0.6384999752044678, 0.13770000636577606, 0.4171999990940094, 1.7023999691009521, 1.7023999691009521, 1.7023999691009521, 1.702299952507019, 1.702299952507019, 1.5872999429702759, 1.5703999996185303, 1.5702999830245972, 1.5625, 1.562399983406067, 1.5622999668121338, 1.5529999732971191, 1.5196000337600708, 1.5196000337600708, 1.5196000337600708, 1.5196000337600708, 1.4551000595092773, 1.4550000429153442, 1.4550000429153442, 1.4550000429153442, 1.4550000429153442, 1.4550000429153442, 1.4550000429153442, 1.4549000263214111, 1.423200011253357, 1.423200011253357, 1.423200011253357, 1.423200011253357, 1.4230999946594238, 1.4230999946594238, 1.4115999937057495, 0.7943999767303467, 0.9901000261306763, 1.2160999774932861, 0.0007999999797903001, -0.30709999799728394, -0.37599998712539673, -0.39969998598098755, -0.5741000175476074, -0.5843999981880188, -0.5776000022888184, 1.2519999742507935, 0.7706000208854675, 1.0370999574661255, 0.5615000128746033, 0.326200008392334, 1.7158000469207764, 1.6620999574661255, 1.576200008392334, 1.576200008392334, 1.576200008392334, 1.5300999879837036, 1.4961999654769897, 1.4838000535964966, 1.4371999502182007, 1.4315999746322632, 1.426800012588501, 1.4018000364303589, 1.3818999528884888, 1.3420000076293945, 1.3083000183105469, 1.2767000198364258, 1.264299988746643, 1.264299988746643, 1.2608000040054321, 1.2582999467849731, 1.256100058555603, 1.2460999488830566, 1.2344000339508057, 1.2344000339508057, 1.2344000339508057, 1.2344000339508057, 1.2210999727249146, 1.2187000513076782, 1.207800030708313, 1.1816999912261963, 1.1615999937057495, 1.1017999649047852, 1.0449999570846558, 0.9459999799728394, 1.0013999938964844, 0.7462000250816345, 1.0841000080108643, 0.7846999764442444, 1.1334999799728394, 0.6636000275611877, 0.413100004196167, 0.28540000319480896, -0.5723000168800354, -0.5809000134468079, -0.6549999713897705, -0.6656000018119812, -0.630299985408783, -0.682200014591217, -0.6823999881744385, 0.1476999968290329, 0.21140000224113464, 0.484499990940094, 1.9385000467300415, 1.6259000301361084, 1.5751999616622925, 1.5751999616622925, 1.5751999616622925, 1.5750999450683594, 1.5254000425338745, 1.513200044631958, 1.499400019645691, 1.4594000577926636, 1.4594000577926636, 1.4593000411987305, 1.4323999881744385, 1.4323999881744385, 1.4074000120162964, 1.3960000276565552, 1.375100016593933, 1.358199954032898, 1.358199954032898, 1.344099998474121, 1.323199987411499, 1.3097000122070312, 1.3065999746322632, 1.3065999746322632, 1.3065999746322632, 1.3065999746322632, 1.3065999746322632, 1.3065999746322632, 1.3065999746322632, 1.3065999746322632, 1.2998000383377075, 1.2901999950408936, 1.2582999467849731, 1.2836999893188477, 1.142899990081787, 1.2057000398635864, 1.191499948501587, 1.179800033569336, 1.083400011062622, 0.6460999846458435, 1.0289000272750854, 0.9911999702453613, 0.8133999705314636, 0.7161999940872192, 0.5128999948501587, 0.8862000107765198, 0.48539999127388, 0.8709999918937683, 0.6550999879837036, 0.8065000176429749, 0.4763000011444092, 1.7059999704360962, 1.7059999704360962, 1.7059999704360962, 1.7059999704360962, 1.6217999458312988, 1.6217999458312988, 1.6217999458312988, 1.6092000007629395, 1.4909000396728516, 1.4867000579833984, 1.479699969291687, 1.427899956703186, 1.4276000261306763, 1.417799949645996, 1.417799949645996, 1.4177000522613525, 1.4177000522613525, 1.4177000522613525, 1.4177000522613525, 1.4177000522613525, 1.4177000522613525, 1.4177000522613525, 1.4177000522613525, 1.4177000522613525, 1.4177000522613525, 1.3976000547409058, 1.3976000547409058, 1.3976000547409058, 1.3976000547409058, 1.3976000547409058, 1.3873000144958496, 1.3324999809265137, 1.351199984550476, 1.351199984550476, 1.351199984550476, 0.7196000218391418, 0.02070000022649765, 1.0016000270843506, -1.3732000589370728, 0.33309999108314514, -1.506700038909912, 1.6892999410629272, 1.6821999549865723, 1.6821999549865723, 1.6821999549865723, 1.6813000440597534, 1.6813000440597534, 1.6813000440597534, 1.6813000440597534, 1.6813000440597534, 1.6582000255584717, 1.4802000522613525, 1.478600025177002, 1.4687000513076782, 1.4687000513076782, 1.451300024986267, 1.432800054550171, 1.416700005531311, 1.416700005531311, 1.416700005531311, 1.4045000076293945, 1.4045000076293945, 1.4043999910354614, 1.3588999509811401, 1.3309999704360962, 1.3112000226974487, 1.3111000061035156, 1.305799961090088, 1.2533999681472778, 1.2513999938964844, 1.2314000129699707, 1.2244999408721924, 0.8906000256538391, 0.8317999839782715, 1.1929999589920044, 1.0155999660491943, 0.7355999946594238, 0.66839998960495, 0.426800012588501, 0.392300009727478, 0.722100019454956, 0.4521999955177307, 0.5641999840736389, 0.6345000267028809, 0.2409999966621399, 1.7625000476837158, 1.7624000310897827, 1.7624000310897827, 1.6785000562667847, 1.6785000562667847, 1.6785000562667847, 1.6785000562667847, 1.6785000562667847, 1.5505000352859497, 1.5504000186920166, 1.5125999450683594, 1.5125999450683594, 1.50600004196167, 1.500499963760376, 1.4880000352859497, 1.4742000102996826, 1.4621000289916992, 1.448099970817566, 1.444599986076355, 1.444599986076355, 1.444599986076355, 1.444599986076355, 1.444599986076355, 1.444599986076355, 1.440999984741211, 1.4311000108718872, 1.4311000108718872, 1.4311000108718872, 1.4311000108718872, 1.430999994277954, 1.4263999462127686, 1.353600025177002, 1.1805000305175781, 0.6866000294685364, 0.8402000069618225, 1.1992000341415405, 1.0633000135421753, 0.8227999806404114, 0.8927000164985657, 0.5766000151634216, 0.5806999802589417, 0.6036999821662903, 0.7804999947547913, 0.2865999937057495, 0.1080000028014183, -1.093000054359436, -0.024299999698996544, -1.180999994277954, -1.2790000438690186, -1.3289999961853027, -1.3575999736785889, 1.9368000030517578, 1.7824000120162964, 1.4883999824523926, 1.4742000102996826, 1.4742000102996826, 1.4733999967575073, 1.4733999967575073, 1.4733999967575073, 1.440999984741211, 1.4408999681472778, 1.423699975013733, 1.423699975013733, 1.4005999565124512, 1.399999976158142, 1.3966000080108643, 1.3574999570846558, 1.3574999570846558, 1.3454999923706055, 1.3454999923706055, 1.3454999923706055, 1.3229000568389893, 1.3229000568389893, 1.3229000568389893, 1.3083000183105469, 1.3083000183105469, 1.3082000017166138, 1.2989000082015991, 1.2989000082015991, 1.2989000082015991, 1.2723000049591064, 1.2378000020980835, 1.245300054550171, 0.954800009727478, 0.26420000195503235, 1.1492999792099, 0.18080000579357147, 0.17579999566078186, 0.625, 0.2651999890804291, 0.5284000039100647, 0.6205000281333923, -0.1809999942779541, 0.6172999739646912]}, \"token.table\": {\"Topic\": [1, 3, 3, 6, 1, 3, 3, 2, 4, 3, 4, 6, 4, 1, 4, 4, 3, 3, 6, 3, 6, 5, 5, 6, 4, 5, 6, 1, 6, 1, 7, 6, 3, 5, 2, 1, 4, 1, 2, 3, 8, 6, 1, 1, 4, 4, 1, 4, 3, 2, 4, 1, 1, 4, 6, 3, 2, 3, 6, 4, 4, 1, 4, 4, 2, 3, 3, 4, 6, 4, 3, 6, 3, 6, 3, 2, 2, 2, 1, 6, 4, 4, 6, 4, 2, 1, 2, 2, 2, 1, 2, 3, 2, 1, 2, 2, 5, 1, 2, 3, 5, 2, 1, 2, 3, 2, 1, 2, 2, 1, 2, 3, 2, 1, 2, 3, 2, 2, 5, 2, 2, 2, 1, 2, 3, 5, 5, 2, 3, 1, 2, 3], \"Freq\": [0.5568395256996155, 0.5568395256996155, 0.47903162240982056, 0.9517716765403748, 0.9415650963783264, 0.3260311186313629, 0.6432645320892334, 0.32068273425102234, 0.32068273425102234, 0.4115210771560669, 0.4115210771560669, 0.6458876132965088, 0.9650331139564514, 0.7912320494651794, 1.096626877784729, 0.6967824697494507, 0.7146095037460327, 0.7064924240112305, 0.9517700672149658, 0.6601935625076294, 0.9517738223075867, 1.0332233905792236, 0.9371926188468933, 0.7895833253860474, 1.0966293811798096, 1.033224105834961, 0.8894288539886475, 1.0382565259933472, 0.889428436756134, 0.6255773901939392, 0.20852579176425934, 0.43910589814186096, 0.7146055698394775, 1.033224105834961, 0.6920115947723389, 0.5153664946556091, 0.5738233923912048, 0.7959595918655396, 0.0663299635052681, 0.0663299635052681, 1.09526526927948, 0.8894286155700684, 0.4005948305130005, 1.1667654514312744, 0.3798159956932068, 1.0966298580169678, 0.8120926022529602, 1.0966259241104126, 0.8256273865699768, 0.4497612714767456, 0.7475708723068237, 0.7932422757148743, 0.9622947573661804, 0.8112869262695312, 0.7864966988563538, 0.6796807646751404, 0.41041088104248047, 0.41041088104248047, 0.8894301652908325, 0.7787346243858337, 0.6905641555786133, 1.0382519960403442, 0.5719419121742249, 0.9110812544822693, 0.8984610438346863, 0.7146114706993103, 0.25408825278282166, 0.25408825278282166, 0.25408825278282166, 0.6444648504257202, 0.4668908715248108, 0.8894276022911072, 0.2628018856048584, 0.2628018856048584, 0.7181112766265869, 0.529660701751709, 0.6598612070083618, 0.7329609394073486, 0.7159428000450134, 0.785582423210144, 0.4673656225204468, 0.695820689201355, 0.45518895983695984, 0.5163637399673462, 0.5115101337432861, 0.5506458878517151, 0.5607489943504333, 0.5607457756996155, 0.5243290662765503, 0.7573646903038025, 0.06885133683681488, 0.06885133683681488, 0.5115084648132324, 0.47595933079719543, 0.47595933079719543, 0.9284942150115967, 0.8091958165168762, 0.8120311498641968, 0.06766925752162933, 0.06766925752162933, 0.8091952204704285, 0.8883113861083984, 0.7996922731399536, 0.06664101779460907, 0.06664101779460907, 0.8719197511672974, 0.6999121308326721, 0.5607467889785767, 0.9284932613372803, 0.7268894910812378, 0.14537788927555084, 0.07268894463777542, 0.9284953474998474, 0.7725379467010498, 0.07023072242736816, 0.07023072242736816, 0.5607485175132751, 0.8257269263267517, 0.8091942667961121, 0.5607505440711975, 0.825725257396698, 0.5115094184875488, 0.7571836709976196, 0.06883487850427628, 0.06883487850427628, 0.809198260307312, 1.029085636138916, 0.9284974932670593, 0.81148761510849, 0.2545192837715149, 0.2545192837715149, 0.2545192837715149], \"Term\": [\"10th\", \"10th\", \"19\", \"19he\", \"2012\", \"a\", \"all\", \"and\", \"and\", \"are\", \"are\", \"away\", \"birthday\", \"bouquet\", \"bud\", \"but\", \"campaign\", \"class\", \"commited\", \"covid\", \"devastating\", \"dhak\", \"downcastfacewithsweat\", \"due\", \"easy\", \"ek\", \"end\", \"fb\", \"feed\", \"foldedhands\", \"foldedhands\", \"for\", \"govt\", \"grinningfacewithsweat\", \"have\", \"he\", \"his\", \"ht\\u2026\", \"ht\\u2026\", \"ht\\u2026\", \"humanity\", \"hungry\", \"i\", \"ideology\", \"in\", \"john\", \"june\", \"kid\", \"let\", \"loudlycryingface\", \"love\", \"may\", \"midila\", \"miss\", \"news\", \"now\", \"of\", \"of\", \"pass\", \"peace\", \"people\", \"respectblackpink\", \"rest\", \"rip\", \"sad\", \"school\", \"the\", \"the\", \"the\", \"they\", \"this\", \"till\", \"to\", \"to\", \"too\", \"trending\", \"twitter\", \"two\", \"u\", \"very\", \"wa\", \"we\", \"what\", \"you\", \"\\u0b85\\u0b9e\\u0bcd\\u0b9a\\u0bb2\\u0bbf\", \"\\u0b85\\u0b9f\\u0b95\\u0bcd\\u0b95\\u0bae\\u0bcd\", \"\\u0b85\\u0bb5\\u0bb0\\u0ba4\\u0bc1\", \"\\u0b85\\u0bb5\\u0bb0\\u0bcd\\u0b95\\u0bb3\\u0bc1\\u0b95\\u0bcd\\u0b95\\u0bc1\", \"\\u0b87\\u0ba9\\u0bcd\\u0bb1\\u0bc1\", \"\\u0b87\\u0bb0\\u0b99\\u0bcd\\u0b95\\u0bb2\\u0bcd\", \"\\u0b87\\u0bb0\\u0b99\\u0bcd\\u0b95\\u0bb2\\u0bcd\", \"\\u0b87\\u0bb0\\u0b99\\u0bcd\\u0b95\\u0bb2\\u0bcd\", \"\\u0b87\\u0bb1\\u0bc1\\u0ba4\\u0bbf\", \"\\u0b89\\u0b9f\\u0bb2\\u0bcd\", \"\\u0b89\\u0b9f\\u0bb2\\u0bcd\", \"\\u0b89\\u0bb3\\u0bcd\\u0bb3\", \"\\u0b8e\\u0bae\\u0b8e\\u0bb2\\u0bcd\\u0b8f\", \"\\u0b8e\\u0bae\\u0bcd\\u0b8e\\u0bb2\\u0bcd\\u0b8f\", \"\\u0b8e\\u0bae\\u0bcd\\u0b8e\\u0bb2\\u0bcd\\u0b8f\", \"\\u0b8e\\u0bae\\u0bcd\\u0b8e\\u0bb2\\u0bcd\\u0b8f\", \"\\u0b95\\u0bc7\\u0bb0\\u0bb3\", \"\\u0b95\\u0bca\\u0ba3\\u0bcd\\u0b9f\\u0bc1\", \"\\u0b9a\\u0bc0\\u0bae\\u0bbe\\u0ba9\\u0bcd\", \"\\u0b9a\\u0bc0\\u0bae\\u0bbe\\u0ba9\\u0bcd\", \"\\u0b9a\\u0bc0\\u0bae\\u0bbe\\u0ba9\\u0bcd\", \"\\u0b9a\\u0bc6\\u0ba9\\u0bcd\\u0ba9\\u0bc8\", \"\\u0b9a\\u0bc6\\u0baf\\u0bcd\\u0baf\\u0baa\\u0bcd\\u0baa\\u0b9f\\u0bcd\\u0b9f\\u0ba4\\u0bc1\", \"\\u0b9a\\u0bc6\\u0bb2\\u0bc1\\u0ba4\\u0bcd\\u0ba4\\u0bc1\\u0bae\\u0bcd\", \"\\u0b9a\\u0bc6\\u0bb2\\u0bcd\\u0bb2\\u0baa\\u0bcd\\u0baa\\u0b9f\\u0bcd\\u0b9f\\u0ba4\\u0bc1\", \"\\u0b9c\\u0bc6\\u0b85\\u0ba9\\u0bcd\\u0baa\\u0bb4\\u0b95\\u0ba9\\u0bcd\", \"\\u0b9c\\u0bc6\\u0b85\\u0ba9\\u0bcd\\u0baa\\u0bb4\\u0b95\\u0ba9\\u0bcd\", \"\\u0b9c\\u0bc6\\u0b85\\u0ba9\\u0bcd\\u0baa\\u0bb4\\u0b95\\u0ba9\\u0bcd\", \"\\u0ba4\\u0bbf\\u0ba8\\u0b95\\u0bb0\\u0bbf\\u0bb2\\u0bcd\", \"\\u0ba4\\u0bbf\\u0bae\\u0bc1\\u0b95\", \"\\u0ba4\\u0bbf\\u0bae\\u0bc1\\u0b95\", \"\\u0ba4\\u0bbf\\u0bae\\u0bc1\\u0b95\", \"\\u0ba4\\u0bbf\\u0bb0\\u0bc1\\u0bb0\\u0bbe\\u0b9c\\u0bbe\\u0b85\\u0ba9\\u0bcd\\u0baa\\u0bb4\\u0b95\\u0ba9\\u0bcd\", \"\\u0ba4\\u0bc1\\u0bb0\\u0bc8\\u0bae\\u0bc1\\u0bb0\\u0bc1\\u0b95\\u0ba9\\u0bcd\", \"\\u0baa\\u0bbf\\u0ba9\\u0bb0\\u0bbe\\u0baf\\u0bbf\", \"\\u0baa\\u0bc1\\u0ba4\\u0bb2\\u0bcd\\u0bb5\\u0bb0\\u0bcd\", \"\\u0baa\\u0bca\\u0bb0\\u0bc1\\u0bb3\\u0bbe\\u0bb3\\u0bb0\\u0bcd\", \"\\u0bae\\u0bb1\\u0bc8\\u0ba8\\u0bcd\\u0ba4\", \"\\u0bae\\u0bb1\\u0bc8\\u0bb5\\u0bc1\\u0b95\\u0bcd\\u0b95\\u0bc1\", \"\\u0bae\\u0bb1\\u0bc8\\u0bb5\\u0bc1\\u0b95\\u0bcd\\u0b95\\u0bc1\", \"\\u0bae\\u0bb1\\u0bc8\\u0bb5\\u0bc1\\u0b95\\u0bcd\\u0b95\\u0bc1\", \"\\u0bae\\u0bc1\\u0ba4\\u0bb2\\u0bcd\\u0bb5\\u0bb0\\u0bcd\", \"\\u0bb5\\u0bbf\\u0b9c\\u2026\", \"\\u0bb5\\u0bc0\\u0b9f\\u0bcd\\u0b9f\\u0bbf\\u0bb1\\u0bcd\\u0b95\\u0bc1\", \"\\u0bb5\\u0bc0\\u0bb0\\u0bb5\\u0ba3\\u0b95\\u0bcd\\u0b95\\u0bae\\u0bcd\", \"\\u2026\", \"\\u2026\", \"\\u2026\"]}, \"R\": 30, \"lambda.step\": 0.01, \"plot.opts\": {\"xlab\": \"PC1\", \"ylab\": \"PC2\"}, \"topic.order\": [7, 5, 1, 8, 3, 6, 4, 2]};\n",
              "\n",
              "function LDAvis_load_lib(url, callback){\n",
              "  var s = document.createElement('script');\n",
              "  s.src = url;\n",
              "  s.async = true;\n",
              "  s.onreadystatechange = s.onload = callback;\n",
              "  s.onerror = function(){console.warn(\"failed to load library \" + url);};\n",
              "  document.getElementsByTagName(\"head\")[0].appendChild(s);\n",
              "}\n",
              "\n",
              "if(typeof(LDAvis) !== \"undefined\"){\n",
              "   // already loaded: just create the visualization\n",
              "   !function(LDAvis){\n",
              "       new LDAvis(\"#\" + \"ldavis_el1211406444917587125700168099\", ldavis_el1211406444917587125700168099_data);\n",
              "   }(LDAvis);\n",
              "}else if(typeof define === \"function\" && define.amd){\n",
              "   // require.js is available: use it to load d3/LDAvis\n",
              "   require.config({paths: {d3: \"https://cdnjs.cloudflare.com/ajax/libs/d3/3.5.5/d3.min\"}});\n",
              "   require([\"d3\"], function(d3){\n",
              "      window.d3 = d3;\n",
              "      LDAvis_load_lib(\"https://cdn.rawgit.com/bmabey/pyLDAvis/files/ldavis.v1.0.0.js\", function(){\n",
              "        new LDAvis(\"#\" + \"ldavis_el1211406444917587125700168099\", ldavis_el1211406444917587125700168099_data);\n",
              "      });\n",
              "    });\n",
              "}else{\n",
              "    // require.js not available: dynamically load d3 & LDAvis\n",
              "    LDAvis_load_lib(\"https://cdnjs.cloudflare.com/ajax/libs/d3/3.5.5/d3.min.js\", function(){\n",
              "         LDAvis_load_lib(\"https://cdn.rawgit.com/bmabey/pyLDAvis/files/ldavis.v1.0.0.js\", function(){\n",
              "                 new LDAvis(\"#\" + \"ldavis_el1211406444917587125700168099\", ldavis_el1211406444917587125700168099_data);\n",
              "            })\n",
              "         });\n",
              "}\n",
              "</script>"
            ],
            "text/plain": [
              "PreparedData(topic_coordinates=              x         y  topics  cluster       Freq\n",
              "topic                                                \n",
              "6      0.141123 -0.027648       1        1  21.940495\n",
              "4      0.029206  0.078845       2        1  13.099450\n",
              "0      0.008584 -0.009386       3        1  12.693405\n",
              "7     -0.050172 -0.026748       4        1  12.553276\n",
              "2     -0.033444  0.004939       5        1  11.393382\n",
              "5     -0.045418 -0.010121       6        1  10.530012\n",
              "3     -0.008836 -0.011253       7        1   9.228663\n",
              "1     -0.041042  0.001373       8        1   8.561325, topic_info=          Term       Freq      Total Category  logprob  loglift\n",
              "0          ht…  15.000000  15.000000  Default  30.0000  30.0000\n",
              "3       சீமான்  15.000000  15.000000  Default  29.0000  29.0000\n",
              "2      எம்எல்ஏ  14.000000  14.000000  Default  28.0000  28.0000\n",
              "1      இரங்கல்  14.000000  14.000000  Default  27.0000  27.0000\n",
              "6    மறைவுக்கு  14.000000  14.000000  Default  26.0000  26.0000\n",
              "..         ...        ...        ...      ...      ...      ...\n",
              "39        this   0.239049   2.141828   Topic8  -6.0676   0.2652\n",
              "140         by   0.220778   1.520353   Topic8  -6.1471   0.5284\n",
              "72          it   0.213204   1.338946   Topic8  -6.1821   0.6205\n",
              "7            a   0.219126   3.067192   Topic8  -6.1547  -0.1810\n",
              "653       news   0.201796   1.271461   Topic8  -6.2370   0.6173\n",
              "\n",
              "[394 rows x 6 columns], token_table=      Topic      Freq        Term\n",
              "term                             \n",
              "848       1  0.556840        10th\n",
              "848       3  0.556840        10th\n",
              "515       3  0.479032          19\n",
              "1279      6  0.951772        19he\n",
              "849       1  0.941565        2012\n",
              "...     ...       ...         ...\n",
              "400       2  0.928497  வீட்டிற்கு\n",
              "726       3  0.811488  வீரவணக்கம்\n",
              "127       1  0.254519           …\n",
              "127       2  0.254519           …\n",
              "127       3  0.254519           …\n",
              "\n",
              "[132 rows x 3 columns], R=30, lambda_step=0.01, plot_opts={'xlab': 'PC1', 'ylab': 'PC2'}, topic_order=[7, 5, 1, 8, 3, 6, 4, 2])"
            ]
          },
          "metadata": {
            "tags": []
          },
          "execution_count": 304
        }
      ]
    },
    {
      "cell_type": "markdown",
      "metadata": {
        "id": "Rk01xepNOrMq",
        "colab_type": "text"
      },
      "source": [
        "**For Class C (Both #RestInPeace and #MissYouYuvi)**"
      ]
    },
    {
      "cell_type": "code",
      "metadata": {
        "id": "piK1pFSIN13k",
        "colab_type": "code",
        "colab": {}
      },
      "source": [
        "topics = 8\n",
        "model_C = find_topics(BoW_C,dict_C,topics)"
      ],
      "execution_count": 0,
      "outputs": []
    },
    {
      "cell_type": "code",
      "metadata": {
        "id": "waAbBEs5N_1z",
        "colab_type": "code",
        "colab": {
          "base_uri": "https://localhost:8080/",
          "height": 173
        },
        "outputId": "97550f61-aa52-4469-e0b6-3db72623551c"
      },
      "source": [
        "show_topics(model_C,BoW_C,dict_C)"
      ],
      "execution_count": 239,
      "outputs": [
        {
          "output_type": "stream",
          "text": [
            "Topic: 0 Word: 0.057*\"fuck\" + 0.052*\"moment\" + 0.048*\"for\" + 0.046*\"a\" + 0.045*\"scared\" + 0.025*\"yuvraj\" + 0.024*\"singh\" + 0.020*\"after\" + 0.018*\"seeing\" + 0.015*\"together\"\n",
            "Topic: 1 Word: 0.014*\"trend\" + 0.012*\"i\" + 0.012*\"god\" + 0.011*\"is\" + 0.010*\"coincidence\" + 0.010*\"these\" + 0.009*\"for\" + 0.009*\"and\" + 0.009*\"2020\" + 0.008*\"scared\"\n",
            "Topic: 2 Word: 0.014*\"at\" + 0.013*\"when\" + 0.013*\"time\" + 0.013*\"same\" + 0.013*\"rn\" + 0.013*\"joking\" + 0.013*\"the\" + 0.013*\"every\" + 0.012*\"indian\" + 0.012*\"amp\"\n",
            "Topic: 3 Word: 0.021*\"me\" + 0.017*\"fan\" + 0.016*\"whats\" + 0.016*\"including\" + 0.015*\"seeing\" + 0.015*\"bloody\" + 0.015*\"all\" + 0.014*\"you\" + 0.013*\"like\" + 0.012*\"these\"\n",
            "Topic: 4 Word: 0.048*\"जननायकछात्रों…\" + 0.015*\"i\" + 0.012*\"and\" + 0.012*\"ge\" + 0.012*\"bai\" + 0.011*\"bandittalro\" + 0.010*\"like\" + 0.010*\"saw\" + 0.010*\"both\" + 0.009*\"when\"\n",
            "Topic: 5 Word: 0.020*\"they\" + 0.018*\"stuart\" + 0.018*\"broad\" + 0.017*\"watching\" + 0.015*\"le\" + 0.014*\"facewithrollingeyes\" + 0.014*\"cacsexa…\" + 0.013*\"in\" + 0.012*\"rollingonthefloorlaughing\" + 0.012*\"together\"\n",
            "Topic: 6 Word: 0.052*\"every\" + 0.052*\"rn\" + 0.051*\"indian\" + 0.050*\"joking\" + 0.047*\"amp\" + 0.045*\"time\" + 0.044*\"at\" + 0.044*\"same\" + 0.041*\"when\" + 0.038*\"the\"\n",
            "Topic: 7 Word: 0.015*\"…\" + 0.013*\"and\" + 0.012*\"you\" + 0.011*\"a\" + 0.011*\"same\" + 0.011*\"at\" + 0.011*\"stopped\" + 0.010*\"to\" + 0.010*\"me\" + 0.010*\"time\"\n"
          ],
          "name": "stdout"
        }
      ]
    },
    {
      "cell_type": "code",
      "metadata": {
        "id": "4uzZGwciOFy8",
        "colab_type": "code",
        "colab": {
          "base_uri": "https://localhost:8080/",
          "height": 881
        },
        "outputId": "d5fe594b-35d8-49be-a198-19371f231f58"
      },
      "source": [
        "pyLDAvis.enable_notebook()\n",
        "vis = pyLDAvis.gensim.prepare(model_C, BoW_C, dict_C)\n",
        "vis"
      ],
      "execution_count": 240,
      "outputs": [
        {
          "output_type": "execute_result",
          "data": {
            "text/html": [
              "\n",
              "<link rel=\"stylesheet\" type=\"text/css\" href=\"https://cdn.rawgit.com/bmabey/pyLDAvis/files/ldavis.v1.0.0.css\">\n",
              "\n",
              "\n",
              "<div id=\"ldavis_el1211406444917573929036620277\"></div>\n",
              "<script type=\"text/javascript\">\n",
              "\n",
              "var ldavis_el1211406444917573929036620277_data = {\"mdsDat\": {\"x\": [-0.18229078284082958, 0.11798935263281186, -0.006699165846629887, 0.03277943734543297, 0.05299814143481686, 0.013394739688853845, 0.041051437210705484, -0.06922315962516144], \"y\": [-0.04676995342955935, -0.10604818315607614, -0.010921114454529656, 0.052169364432386914, 0.033969785302567314, 0.07416124436018358, -0.003192731883916082, 0.006631588828943474], \"topics\": [1, 2, 3, 4, 5, 6, 7, 8], \"cluster\": [1, 1, 1, 1, 1, 1, 1, 1], \"Freq\": [20.460800170898438, 18.1174373626709, 12.56118106842041, 11.770998001098633, 10.408331871032715, 9.92971420288086, 9.85831356048584, 6.893222808837891]}, \"tinfo\": {\"Term\": [\"every\", \"rn\", \"joking\", \"indian\", \"fuck\", \"\\u091c\\u0928\\u0928\\u093e\\u092f\\u0915\\u091b\\u093e\\u0924\\u094d\\u0930\\u094b\\u0902\\u2026\", \"amp\", \"moment\", \"time\", \"at\", \"for\", \"same\", \"a\", \"when\", \"scared\", \"the\", \"yuvraj\", \"they\", \"me\", \"singh\", \"seeing\", \"watching\", \"\\u2026\", \"stuart\", \"broad\", \"i\", \"fan\", \"whats\", \"after\", \"you\", \"every\", \"joking\", \"rn\", \"indian\", \"amp\", \"time\", \"at\", \"same\", \"when\", \"the\", \"trending\", \"played\", \"inshallah\", \"boy\", \"lieheheheh\", \"how\", \"engaged\", \"someone\", \"random\", \"our\", \"alag\", \"raha\", \"dhak\", \"condition\", \"started\", \"twitterhopefully\", \"\\u0938\\u0941\\u0928\\u093e\\u0908\", \"\\u092e\\u094b\\u0926\\u0940\", \"\\u0928\\u093e\\u092e\", \"\\u092c\\u093e\\u0930\", \"well\", \"top\", \"ho\", \"twitter\", \"on\", \"saw\", \"of\", \"i\", \"and\", \"together\", \"people\", \"le\", \"a\", \"fuck\", \"writing\", \"moment\", \"yuvraj\", \"for\", \"yuvi\", \"singh\", \"a\", \"meanwhile\", \"making\", \"yuzvendra\", \"fun\", \"chahal\", \"scared\", \"h\\u2026\", \"share\", \"show\", \"respect\", \"naik008\", \"facewiththermometer\", \"beat\", \"skipped\", \"seeing\", \"along\", \"those\", \"after\", \"second\", \"dubey\", \"https\\u2026\", \"who\", \"watching\", \"le\", \"people\", \"together\", \"and\", \"be\", \"in\", \"on\", \"fan\", \"his\", \"are\", \"like\", \"trending\", \"twitter\", \"calm\", \"\\u2026\", \"seenoevilmonkey\", \"omg\", \"need\", \"vandana\", \"feeling\", \"while\", \"ka\", \"mahol\", \"stopped\", \"darr\", \"verma0\", \"down\", \"tell\", \"somdy\", \"pm\", \"little\", \"prasad\", \"same\\u2026\", \"if\", \"almost\", \"yuraj\", \"place\", \"trading\", \"that\", \"fine\", \"realize\", \"everything\", \"took\", \"you\", \"facewithtearsofjoy\", \"to\", \"my\", \"is\", \"heart\", \"it\", \"and\", \"me\", \"are\", \"a\", \"same\", \"at\", \"time\", \"the\", \"for\", \"moment\", \"singh\", \"people\", \"this\", \"trending\", \"bloody\", \"scared\", \"god\", \"foldedhandslightskintone\", \"misleading\", \"thank\", \"twitteraties\", \"facewithoutmouth\", \"t\", \"facewithraisedeyebrow\", \"644\", \"coincidence\", \"too\", \"seen\", \"most\", \"fucked\", \"far\", \"fearfulface\", \"have\", \"up\", \"trendi\\u2026\", \"again\", \"some\", \"2020\", \"but\", \"togther\", \"momemnt\", \"sid\", \"badittalro\", \"kgf2\", \"trend\", \"just\", \"hell\", \"attack\", \"scary\", \"these\", \"is\", \"i\", \"so\", \"it\", \"and\", \"for\", \"together\", \"scared\", \"saw\", \"a\", \"moment\", \"fuck\", \"whats\", \"including\", \"tulip\", \"all\", \"bloody\", \"\\u0930\\u0939\\u093e\", \"will\", \"gaand\", \"fatt\", \"pakistan\", \"gyi\", \"bhadwo\", \"madarchodo\", \"me\", \"soo\", \"worriedface\", \"much\", \"kra\", \"toghter\", \"ese\", \"fan\", \"m\", \"waqt\", \"always\", \"\\u092d\\u0940\", \"kyu\", \"ab\", \"\\u0907\\u0928\", \"\\u0926\\u093f\\u0928\\u094b\\u0902\", \"\\u092a\\u0930\", \"you\", \"these\", \"also\", \"his\", \"like\", \"seeing\", \"this\", \"kro\", \"see\", \"people\", \"are\", \"after\", \"be\", \"together\", \"scared\", \"trending\", \"friend\", \"singh\", \"\\u091c\\u0928\\u0928\\u093e\\u092f\\u0915\\u091b\\u093e\\u0924\\u094d\\u0930\\u094b\\u0902\\u2026\", \"bandittalro\", \"ge\", \"bai\", \"dboss\", \"feel\", \"thankgod\", \"simultaneously\", \"dieheart\", \"winkingface\", \"karde\", \"correlating\", \"jaldi\", \"10th\", \"first\", \"clear\", \"both\", \"card\", \"admit\", \"u\", \"boo09\", \"corona\", \"class\", \"here\", \"bhai\", \"make\", \"something\", \"got\", \"facescreaminginfear\", \"rbse\", \"i\", \"saw\", \"hashtags\", \"friend\", \"like\", \"be\", \"and\", \"are\", \"on\", \"twitter\", \"when\", \"fan\", \"my\", \"they\", \"cacsexa\\u2026\", \"stuart\", \"broad\", \"rollingonthefloorlaughing\", \"mini\", \"poutingface\", \"facewithrollingeyes\", \"heartattack\", \"\\ud835\\ude5b\\ud835\\ude56\\ud835\\ude63\\ud835\\ude68\", \"\\ud835\\ude57\\ud835\\ude5a\", \"\\ud835\\ude61\\ud835\\ude5e\\ud835\\ude60\\ud835\\ude5a\", \"\\ud835\\ude54\\ud835\\ude6a\\ud835\\ude6b\\ud835\\ude67\\ud835\\ude56\\ud835\\ude5f\", \"kawaii\", \"\\ud835\\ude4e\\ud835\\ude5e\\ud835\\ude63\\ud835\\ude5c\\ud835\\ude5d\", \"had\", \"yeh\", \"backhandindexpointingdown\", \"bp011\", \"trended\", \"watching\", \"hashtag\", \"topic\", \"\\u0932\\u094b\\u0917\", \"fuckkkkk\", \"suddenly\", \"downcastfacewithsweat\", \"wrong\", \"googled\", \"mazak\", \"le\", \"in\", \"economy\", \"together\", \"after\", \"and\", \"i\", \"fuck\", \"moment\", \"a\", \"for\", \"scared\", \"trending\", \"upsidedownface\", \"fans\\u2026\", \"facewithmedicalmask\", \"facewithhandovermouth\", \"smirkingface\", \"bluebirdie\", \"azad\", \"krishna\", \"sai\", \"google\", \"news\", \"being\", \"searched\", \"immediately\", \"k\", \"dara\", \"arey\", \"diye\", \"twitterhop\\u2026\", \"bhi\", \"padh\", \"gyie\", \"dia\", \"faat\", \"chal\", \"tip\", \"9111162909\", \"connect\", \"seosurfer\", \"trick\", \"bhai\", \"\\u2026\", \"twitter\", \"when\", \"at\", \"time\", \"same\", \"the\", \"joking\", \"rn\", \"every\", \"amp\", \"indian\", \"his\", \"on\", \"trending\", \"and\", \"me\", \"are\", \"facewithtearsofjoy\"], \"Freq\": [9.0, 9.0, 9.0, 9.0, 10.0, 4.0, 9.0, 10.0, 9.0, 9.0, 9.0, 9.0, 9.0, 9.0, 9.0, 9.0, 4.0, 2.0, 4.0, 5.0, 4.0, 3.0, 2.0, 2.0, 2.0, 3.0, 3.0, 2.0, 5.0, 3.0, 8.452905654907227, 8.135978698730469, 8.31320858001709, 8.235137939453125, 7.579224109649658, 7.176941871643066, 7.040374755859375, 7.033768653869629, 6.680130958557129, 6.12576961517334, 4.351980209350586, 0.4078538119792938, 0.40784507989883423, 0.40782901644706726, 0.5915276408195496, 0.38449105620384216, 0.38447147607803345, 0.3844715356826782, 0.3844574987888336, 0.3657672107219696, 0.3593243956565857, 0.33129116892814636, 0.44611313939094543, 0.6618487238883972, 0.6618406772613525, 0.30524376034736633, 0.2943161427974701, 0.2943155765533447, 0.2943137586116791, 0.2943124771118164, 0.36777493357658386, 0.549593448638916, 0.4254588484764099, 1.0659698247909546, 1.198056936264038, 0.5961781144142151, 0.5111111402511597, 0.5323954224586487, 0.5685243606567383, 0.5374468564987183, 0.5024069547653198, 0.4662353992462158, 0.39864808320999146, 8.135683059692383, 2.071564197540283, 7.364444732666016, 3.545099973678589, 6.893655300140381, 1.7470041513442993, 3.4407501220703125, 6.523446083068848, 0.8881906867027283, 0.9776255488395691, 0.9776228666305542, 0.9776121377944946, 0.9776034355163574, 6.3563995361328125, 0.7335730791091919, 0.7125575542449951, 0.7125505208969116, 0.7125274538993835, 0.6313174366950989, 0.6000324487686157, 0.7326443195343018, 0.732636034488678, 2.635266065597534, 0.5734922289848328, 0.5734831094741821, 2.8270795345306396, 0.6291559338569641, 0.41497644782066345, 0.6332963705062866, 0.5040231347084045, 1.4201552867889404, 1.4524320363998413, 1.8665745258331299, 2.1724863052368164, 2.063549757003784, 1.0664961338043213, 1.161669135093689, 1.2096762657165527, 1.0283842086791992, 0.9778674244880676, 0.960698127746582, 0.9240061640739441, 0.9880032539367676, 0.854671061038971, 0.8089061379432678, 1.5294688940048218, 0.8938266038894653, 0.893795371055603, 0.6166424751281738, 0.6643231511116028, 0.5567476749420166, 0.553761899471283, 0.5527434349060059, 0.5519505739212036, 1.0408051013946533, 0.5498136281967163, 0.5076209306716919, 0.5713295340538025, 0.559646487236023, 0.5596457719802856, 0.46273350715637207, 0.5713327527046204, 0.42919492721557617, 0.4291943609714508, 0.5227335691452026, 0.40124374628067017, 0.4632212519645691, 0.4632139503955841, 0.46320462226867676, 0.4271470606327057, 0.42714622616767883, 0.4271439015865326, 0.4271394610404968, 0.4271405339241028, 1.149422287940979, 0.929115891456604, 1.0225778818130493, 0.9189590215682983, 0.9505500197410583, 0.8635258078575134, 0.6977598071098328, 1.276673436164856, 0.9574283361434937, 0.8597489595413208, 1.114679217338562, 1.10026216506958, 1.0510425567626953, 0.9557444453239441, 0.7894071340560913, 0.7849271297454834, 0.7711475491523743, 0.6987390518188477, 0.6897589564323425, 0.6474166512489319, 0.70802903175354, 0.5960625410079956, 0.5965968370437622, 1.0883841514587402, 0.6718146800994873, 0.6810244917869568, 0.7194988131523132, 0.5706493258476257, 0.5485753417015076, 0.5485684275627136, 0.5485629439353943, 0.5485621690750122, 0.9608573913574219, 0.7558180093765259, 0.5957964658737183, 0.5957862734794617, 0.5957745909690857, 0.5957649946212769, 0.5206288695335388, 0.6300107836723328, 0.5985311269760132, 0.43664634227752686, 0.4366217851638794, 0.49415090680122375, 0.796667218208313, 0.636264443397522, 0.4065389037132263, 0.4065198600292206, 0.3867405652999878, 0.3849622905254364, 0.3849482834339142, 1.2780736684799194, 0.7693420052528381, 0.5867636203765869, 0.5658910274505615, 0.6500259041786194, 0.9510444402694702, 0.9984250664710999, 1.1088106632232666, 0.5482366681098938, 0.6067739129066467, 0.8000674247741699, 0.8466805815696716, 0.7239530682563782, 0.7703990936279297, 0.6069194674491882, 0.6838449239730835, 0.6366006135940552, 0.6173504590988159, 1.3484232425689697, 1.3190962076187134, 0.9590139985084534, 1.2268097400665283, 1.2404272556304932, 0.41274401545524597, 0.3787994980812073, 0.41058436036109924, 0.41057413816452026, 0.4105709493160248, 0.41056904196739197, 0.41056597232818604, 0.41056549549102783, 1.7473807334899902, 0.3810484707355499, 0.3810471296310425, 0.38104140758514404, 0.38103872537612915, 0.3810378611087799, 0.38102710247039795, 1.427348017692566, 0.3093314468860626, 0.30932122468948364, 0.3403724730014801, 0.3071092367172241, 0.307108610868454, 0.3071066439151764, 0.30710697174072266, 0.3071069121360779, 0.3071070909500122, 1.1085597276687622, 1.018667459487915, 0.3765738904476166, 0.9236271381378174, 1.075501561164856, 1.258669376373291, 0.9037725329399109, 0.35519465804100037, 0.404881089925766, 0.8654713034629822, 0.7848365306854248, 0.9116299748420715, 0.5716427564620972, 0.6780443787574768, 0.7713377475738525, 0.5094826221466064, 0.38311976194381714, 0.3917997181415558, 3.7655222415924072, 0.8721377849578857, 0.9095090627670288, 0.9094305038452148, 0.6148509979248047, 0.6025212407112122, 0.5577779412269592, 0.5577645301818848, 0.5404041409492493, 0.6264183521270752, 0.48884516954421997, 0.4888443946838379, 0.48882177472114563, 0.5907464623451233, 0.5952649116516113, 0.45364999771118164, 0.7746105194091797, 0.42230889201164246, 0.4222716987133026, 0.4372148811817169, 0.31557103991508484, 0.31310439109802246, 0.33685609698295593, 0.48613688349723816, 0.428613543510437, 0.29132676124572754, 0.29131510853767395, 0.28229162096977234, 0.2822883427143097, 0.33350080251693726, 1.171649694442749, 0.7846718430519104, 0.46540555357933044, 0.3800094723701477, 0.8031167984008789, 0.6089876294136047, 0.9183342456817627, 0.6897432804107666, 0.6198480129241943, 0.5801808834075928, 0.7017459273338318, 0.5155802965164185, 0.4807177782058716, 1.5451449155807495, 1.0688170194625854, 1.3891043663024902, 1.389091968536377, 0.967266321182251, 0.7936469316482544, 0.5922073125839233, 1.1049208641052246, 0.604617714881897, 0.43474164605140686, 0.4347369968891144, 0.4347352087497711, 0.4347350597381592, 0.4347272515296936, 0.43471094965934753, 0.3601222634315491, 0.31061455607414246, 0.4442436695098877, 0.30878695845603943, 0.3087656795978546, 1.3310459852218628, 0.5027598738670349, 0.3275497257709503, 0.28331464529037476, 0.280521035194397, 0.2717915177345276, 0.2613550126552582, 0.2558860778808594, 0.2558717131614685, 0.24642746150493622, 1.1372100114822388, 1.00799560546875, 0.2889043688774109, 0.9544885754585266, 0.853786289691925, 0.7854897379875183, 0.5702013969421387, 0.7729073762893677, 0.7635090947151184, 0.7463734149932861, 0.6971922516822815, 0.6854337453842163, 0.4846707284450531, 0.6048756241798401, 0.6048688292503357, 0.6048664450645447, 0.6048625111579895, 0.6048541069030762, 0.48724207282066345, 0.23542098701000214, 0.23541297018527985, 0.23541304469108582, 0.20668914914131165, 0.20668312907218933, 0.20668236911296844, 0.20668233931064606, 0.2066807895898819, 0.19805888831615448, 0.19805088639259338, 0.19804872572422028, 0.19804638624191284, 0.19721674919128418, 0.18775737285614014, 0.18775628507137299, 0.18775621056556702, 0.18775475025177002, 0.18775419890880585, 0.18774962425231934, 0.1688975989818573, 0.1688968986272812, 0.16889598965644836, 0.16889332234859467, 0.16889335215091705, 0.2643789052963257, 0.5263079404830933, 0.46978098154067993, 0.7271955013275146, 0.73868727684021, 0.7265340685844421, 0.7200929522514343, 0.6877228021621704, 0.6912035346031189, 0.6916064023971558, 0.6823616027832031, 0.6610320210456848, 0.6682324409484863, 0.3931554853916168, 0.4411568343639374, 0.49191537499427795, 0.4576679468154907, 0.37316396832466125, 0.3495958745479584, 0.23571255803108215], \"Total\": [9.0, 9.0, 9.0, 9.0, 10.0, 4.0, 9.0, 10.0, 9.0, 9.0, 9.0, 9.0, 9.0, 9.0, 9.0, 9.0, 4.0, 2.0, 4.0, 5.0, 4.0, 3.0, 2.0, 2.0, 2.0, 3.0, 3.0, 2.0, 5.0, 3.0, 9.861052513122559, 9.5175142288208, 9.734512329101562, 9.829206466674805, 9.376855850219727, 9.749794006347656, 9.665724754333496, 9.689767837524414, 9.276957511901855, 9.085083961486816, 8.338733673095703, 0.8729013204574585, 0.8728994727134705, 0.8728964328765869, 1.286623477935791, 0.8495325446128845, 0.8495288491249084, 0.8495289087295532, 0.8495252728462219, 0.8307919502258301, 0.8243480324745178, 0.7963202595710754, 1.085066556930542, 1.6108307838439941, 1.610830545425415, 0.7702674269676208, 0.7593361735343933, 0.759335994720459, 0.7593355178833008, 0.7593355774879456, 0.9690819382667542, 1.5554254055023193, 1.1635549068450928, 3.587808847427368, 4.2672834396362305, 2.433651924133301, 2.9872679710388184, 3.766890525817871, 7.092099189758301, 5.922316074371338, 4.802390098571777, 3.609403371810913, 9.772590637207031, 10.263720512390137, 2.8177413940429688, 10.142050743103027, 4.903387069702148, 9.875288963317871, 2.5709025859832764, 5.126440525054932, 9.772590637207031, 1.3557777404785156, 1.5041093826293945, 1.5041100978851318, 1.504110336303711, 1.5041052103042603, 9.820874214172363, 1.2014838457107544, 1.1801557540893555, 1.1801546812057495, 1.1801509857177734, 1.0988682508468628, 1.0676605701446533, 1.3040751218795776, 1.3040745258331299, 4.835396766662598, 1.1179591417312622, 1.1179579496383667, 5.650914669036865, 1.2625808715820312, 0.8825207352638245, 1.349819540977478, 1.2119264602661133, 3.4324560165405273, 3.609403371810913, 4.802390098571777, 5.922316074371338, 7.092099189758301, 2.789625644683838, 3.586721181869507, 4.2672834396362305, 3.57912540435791, 3.2328596115112305, 4.208101272583008, 3.9467175006866455, 8.338733673095703, 3.587808847427368, 1.3370646238327026, 2.6551084518432617, 1.5644032955169678, 1.5644081830978394, 1.0981345176696777, 1.229910135269165, 1.0600651502609253, 1.0593328475952148, 1.0590747594833374, 1.058882236480713, 1.9988415241241455, 1.0583548545837402, 0.9892991185188293, 1.1533279418945312, 1.135585069656372, 1.1355860233306885, 0.9442769885063171, 1.1863304376602173, 0.910622775554657, 0.9106231927871704, 1.1216272115707397, 0.8826773166656494, 1.0191035270690918, 1.01910400390625, 1.0191032886505127, 1.0045013427734375, 1.0045021772384644, 1.0045006275177002, 1.004501223564148, 1.0045037269592285, 3.008883476257324, 2.5132358074188232, 3.235729455947876, 3.0306451320648193, 3.1900980472564697, 2.789228916168213, 2.1794466972351074, 7.092099189758301, 4.196119785308838, 4.208101272583008, 9.772590637207031, 9.689767837524414, 9.665724754333496, 9.749794006347656, 9.085083961486816, 9.875288963317871, 10.142050743103027, 5.126440525054932, 4.802390098571777, 3.30572772026062, 8.338733673095703, 2.4137063026428223, 9.820874214172363, 1.8414164781570435, 1.151580572128296, 1.2149990797042847, 1.3016899824142456, 1.0504722595214844, 1.0283070802688599, 1.028306484222412, 1.028306007385254, 1.0283067226409912, 1.8092913627624512, 1.4321187734603882, 1.135813593864441, 1.135811448097229, 1.135812520980835, 1.1358122825622559, 1.0004181861877441, 1.2264155149459839, 1.1868945360183716, 0.9163432121276855, 0.9163429141044617, 1.0390863418579102, 1.682195782661438, 1.3736990690231323, 0.8862557411193848, 0.8862555623054504, 0.8672053813934326, 0.8647167682647705, 0.8647162914276123, 2.8859751224517822, 1.7670637369155884, 1.382951259613037, 1.328348159790039, 1.6809741258621216, 2.91117000579834, 3.1900980472564697, 3.766890525817871, 1.4774291515350342, 2.1794466972351074, 7.092099189758301, 9.875288963317871, 5.922316074371338, 9.820874214172363, 2.433651924133301, 9.772590637207031, 10.142050743103027, 10.263720512390137, 2.032317876815796, 2.0598526000976562, 1.517932653427124, 2.2298994064331055, 2.4137063026428223, 0.9248712062835693, 0.8598814010620117, 0.9506033658981323, 0.9506039023399353, 0.950603723526001, 0.9506015777587891, 0.9506047964096069, 0.9506040215492249, 4.196119785308838, 0.9159728288650513, 0.9159741997718811, 0.9159718751907349, 0.9159722924232483, 0.9159719944000244, 0.9159724712371826, 3.57912540435791, 0.7903822064399719, 0.7903823852539062, 0.9031678438186646, 0.8225150108337402, 0.8225148916244507, 0.8225130438804626, 0.8225144743919373, 0.8225150108337402, 0.8225164413452148, 3.008883476257324, 2.91117000579834, 1.0384950637817383, 3.2328596115112305, 3.9467175006866455, 4.835396766662598, 3.30572772026062, 0.9961177706718445, 1.2445874214172363, 4.802390098571777, 4.208101272583008, 5.650914669036865, 2.789625644683838, 5.922316074371338, 9.820874214172363, 8.338733673095703, 1.1814019680023193, 5.126440525054932, 4.597438812255859, 1.358913779258728, 1.5345016717910767, 1.5345057249069214, 1.1015598773956299, 1.089194655418396, 1.0444592237472534, 1.044459581375122, 1.0270665884017944, 1.2302768230438232, 0.9754849076271057, 0.9754873514175415, 0.9754897952079773, 1.1992002725601196, 1.227080225944519, 1.0515263080596924, 1.823124885559082, 0.9984614849090576, 0.9984683990478516, 1.1080435514450073, 0.8021790981292725, 0.7997090816497803, 0.860632598400116, 1.2672903537750244, 1.1284880638122559, 0.7779335379600525, 0.7779354453086853, 0.7688971757888794, 0.768896758556366, 0.920600414276123, 3.766890525817871, 2.433651924133301, 1.355293869972229, 1.1814019680023193, 3.9467175006866455, 2.789625644683838, 7.092099189758301, 4.208101272583008, 4.2672834396362305, 3.587808847427368, 9.276957511901855, 3.57912540435791, 3.0306451320648193, 2.2443010807037354, 1.5558360815048218, 2.10398268699646, 2.103985548019409, 1.537968397140503, 1.4265915155410767, 1.1594990491867065, 2.1784939765930176, 1.2476078271865845, 0.921306848526001, 0.9213064312934875, 0.9213071465492249, 0.9213070273399353, 0.9213072061538696, 0.9213103652000427, 0.8467098474502563, 0.7971621751785278, 1.14048433303833, 0.7953290343284607, 0.7953327298164368, 3.4324560165405273, 1.2998253107070923, 0.8544574975967407, 0.7698516845703125, 0.7670674324035645, 0.7583348751068115, 0.7478882670402527, 0.7424117922782898, 0.7424125075340271, 0.7329561114311218, 3.609403371810913, 3.586721181869507, 0.8760661482810974, 5.922316074371338, 5.650914669036865, 7.092099189758301, 3.766890525817871, 10.263720512390137, 10.142050743103027, 9.772590637207031, 9.875288963317871, 9.820874214172363, 8.338733673095703, 1.1031752824783325, 1.1031776666641235, 1.1031794548034668, 1.1031811237335205, 1.1031861305236816, 0.9855304956436157, 0.7336684465408325, 0.7336715459823608, 0.7336719632148743, 0.7049299478530884, 0.704932451248169, 0.704932451248169, 0.7049325108528137, 0.7049337029457092, 0.6963013410568237, 0.6963047981262207, 0.6963050961494446, 0.696306586265564, 0.6954565644264221, 0.6859973669052124, 0.6859976053237915, 0.6859978437423706, 0.6859978437423706, 0.6859983801841736, 0.6860002875328064, 0.6671278476715088, 0.6671279668807983, 0.6671280860900879, 0.667129397392273, 0.6671295166015625, 1.1284880638122559, 2.6551084518432617, 3.587808847427368, 9.276957511901855, 9.665724754333496, 9.749794006347656, 9.689767837524414, 9.085083961486816, 9.5175142288208, 9.734512329101562, 9.861052513122559, 9.376855850219727, 9.829206466674805, 3.2328596115112305, 4.2672834396362305, 8.338733673095703, 7.092099189758301, 4.196119785308838, 4.208101272583008, 2.5132358074188232], \"Category\": [\"Default\", \"Default\", \"Default\", \"Default\", \"Default\", \"Default\", \"Default\", \"Default\", \"Default\", \"Default\", \"Default\", \"Default\", \"Default\", \"Default\", \"Default\", \"Default\", \"Default\", \"Default\", \"Default\", \"Default\", \"Default\", \"Default\", \"Default\", \"Default\", \"Default\", \"Default\", \"Default\", \"Default\", \"Default\", \"Default\", \"Topic1\", \"Topic1\", \"Topic1\", \"Topic1\", \"Topic1\", \"Topic1\", \"Topic1\", \"Topic1\", \"Topic1\", \"Topic1\", \"Topic1\", \"Topic1\", \"Topic1\", \"Topic1\", \"Topic1\", \"Topic1\", \"Topic1\", \"Topic1\", \"Topic1\", \"Topic1\", \"Topic1\", \"Topic1\", \"Topic1\", \"Topic1\", \"Topic1\", \"Topic1\", \"Topic1\", \"Topic1\", \"Topic1\", \"Topic1\", \"Topic1\", \"Topic1\", \"Topic1\", \"Topic1\", \"Topic1\", \"Topic1\", \"Topic1\", \"Topic1\", \"Topic1\", \"Topic1\", \"Topic1\", \"Topic1\", \"Topic1\", \"Topic2\", \"Topic2\", \"Topic2\", \"Topic2\", \"Topic2\", \"Topic2\", \"Topic2\", \"Topic2\", \"Topic2\", \"Topic2\", \"Topic2\", \"Topic2\", \"Topic2\", \"Topic2\", \"Topic2\", \"Topic2\", \"Topic2\", \"Topic2\", \"Topic2\", \"Topic2\", \"Topic2\", \"Topic2\", \"Topic2\", \"Topic2\", \"Topic2\", \"Topic2\", \"Topic2\", \"Topic2\", \"Topic2\", \"Topic2\", \"Topic2\", \"Topic2\", \"Topic2\", \"Topic2\", \"Topic2\", \"Topic2\", \"Topic2\", \"Topic2\", \"Topic2\", \"Topic2\", \"Topic2\", \"Topic2\", \"Topic2\", \"Topic2\", \"Topic3\", \"Topic3\", \"Topic3\", \"Topic3\", \"Topic3\", \"Topic3\", \"Topic3\", \"Topic3\", \"Topic3\", \"Topic3\", \"Topic3\", \"Topic3\", \"Topic3\", \"Topic3\", \"Topic3\", \"Topic3\", \"Topic3\", \"Topic3\", \"Topic3\", \"Topic3\", \"Topic3\", \"Topic3\", \"Topic3\", \"Topic3\", \"Topic3\", \"Topic3\", \"Topic3\", \"Topic3\", \"Topic3\", \"Topic3\", \"Topic3\", \"Topic3\", \"Topic3\", \"Topic3\", \"Topic3\", \"Topic3\", \"Topic3\", \"Topic3\", \"Topic3\", \"Topic3\", \"Topic3\", \"Topic3\", \"Topic3\", \"Topic3\", \"Topic3\", \"Topic3\", \"Topic3\", \"Topic3\", \"Topic3\", \"Topic3\", \"Topic3\", \"Topic3\", \"Topic3\", \"Topic4\", \"Topic4\", \"Topic4\", \"Topic4\", \"Topic4\", \"Topic4\", \"Topic4\", \"Topic4\", \"Topic4\", \"Topic4\", \"Topic4\", \"Topic4\", \"Topic4\", \"Topic4\", \"Topic4\", \"Topic4\", \"Topic4\", \"Topic4\", \"Topic4\", \"Topic4\", \"Topic4\", \"Topic4\", \"Topic4\", \"Topic4\", \"Topic4\", \"Topic4\", \"Topic4\", \"Topic4\", \"Topic4\", \"Topic4\", \"Topic4\", \"Topic4\", \"Topic4\", \"Topic4\", \"Topic4\", \"Topic4\", \"Topic4\", \"Topic4\", \"Topic4\", \"Topic4\", \"Topic4\", \"Topic4\", \"Topic4\", \"Topic4\", \"Topic4\", \"Topic4\", \"Topic5\", \"Topic5\", \"Topic5\", \"Topic5\", \"Topic5\", \"Topic5\", \"Topic5\", \"Topic5\", \"Topic5\", \"Topic5\", \"Topic5\", \"Topic5\", \"Topic5\", \"Topic5\", \"Topic5\", \"Topic5\", \"Topic5\", \"Topic5\", \"Topic5\", \"Topic5\", \"Topic5\", \"Topic5\", \"Topic5\", \"Topic5\", \"Topic5\", \"Topic5\", \"Topic5\", \"Topic5\", \"Topic5\", \"Topic5\", \"Topic5\", \"Topic5\", \"Topic5\", \"Topic5\", \"Topic5\", \"Topic5\", \"Topic5\", \"Topic5\", \"Topic5\", \"Topic5\", \"Topic5\", \"Topic5\", \"Topic5\", \"Topic5\", \"Topic5\", \"Topic5\", \"Topic5\", \"Topic5\", \"Topic6\", \"Topic6\", \"Topic6\", \"Topic6\", \"Topic6\", \"Topic6\", \"Topic6\", \"Topic6\", \"Topic6\", \"Topic6\", \"Topic6\", \"Topic6\", \"Topic6\", \"Topic6\", \"Topic6\", \"Topic6\", \"Topic6\", \"Topic6\", \"Topic6\", \"Topic6\", \"Topic6\", \"Topic6\", \"Topic6\", \"Topic6\", \"Topic6\", \"Topic6\", \"Topic6\", \"Topic6\", \"Topic6\", \"Topic6\", \"Topic6\", \"Topic6\", \"Topic6\", \"Topic6\", \"Topic6\", \"Topic6\", \"Topic6\", \"Topic6\", \"Topic6\", \"Topic6\", \"Topic6\", \"Topic6\", \"Topic6\", \"Topic7\", \"Topic7\", \"Topic7\", \"Topic7\", \"Topic7\", \"Topic7\", \"Topic7\", \"Topic7\", \"Topic7\", \"Topic7\", \"Topic7\", \"Topic7\", \"Topic7\", \"Topic7\", \"Topic7\", \"Topic7\", \"Topic7\", \"Topic7\", \"Topic7\", \"Topic7\", \"Topic7\", \"Topic7\", \"Topic7\", \"Topic7\", \"Topic7\", \"Topic7\", \"Topic7\", \"Topic7\", \"Topic7\", \"Topic7\", \"Topic7\", \"Topic7\", \"Topic7\", \"Topic7\", \"Topic7\", \"Topic7\", \"Topic7\", \"Topic7\", \"Topic7\", \"Topic7\", \"Topic7\", \"Topic7\", \"Topic7\", \"Topic8\", \"Topic8\", \"Topic8\", \"Topic8\", \"Topic8\", \"Topic8\", \"Topic8\", \"Topic8\", \"Topic8\", \"Topic8\", \"Topic8\", \"Topic8\", \"Topic8\", \"Topic8\", \"Topic8\", \"Topic8\", \"Topic8\", \"Topic8\", \"Topic8\", \"Topic8\", \"Topic8\", \"Topic8\", \"Topic8\", \"Topic8\", \"Topic8\", \"Topic8\", \"Topic8\", \"Topic8\", \"Topic8\", \"Topic8\", \"Topic8\", \"Topic8\", \"Topic8\", \"Topic8\", \"Topic8\", \"Topic8\", \"Topic8\", \"Topic8\", \"Topic8\", \"Topic8\", \"Topic8\", \"Topic8\", \"Topic8\", \"Topic8\", \"Topic8\", \"Topic8\", \"Topic8\", \"Topic8\", \"Topic8\", \"Topic8\"], \"logprob\": [30.0, 29.0, 28.0, 27.0, 26.0, 25.0, 24.0, 23.0, 22.0, 21.0, 20.0, 19.0, 18.0, 17.0, 16.0, 15.0, 14.0, 13.0, 12.0, 11.0, 10.0, 9.0, 8.0, 7.0, 6.0, 5.0, 4.0, 3.0, 2.0, 1.0, -2.9477999210357666, -2.9860000610351562, -2.964400053024292, -2.973900079727173, -3.0569000244140625, -3.1113998889923096, -3.1305999755859375, -3.131500005722046, -3.1830999851226807, -3.2697999477386475, -3.611599922180176, -5.979100227355957, -5.979100227355957, -5.9791998863220215, -5.6072998046875, -6.038099765777588, -6.0381999015808105, -6.0381999015808105, -6.0381999015808105, -6.0879998207092285, -6.105800151824951, -6.186999797821045, -5.889400005340576, -5.494999885559082, -5.494999885559082, -6.268899917602539, -6.3053998947143555, -6.3053998947143555, -6.3053998947143555, -6.3053998947143555, -6.082600116729736, -5.680799961090088, -5.9369001388549805, -5.018400192260742, -4.901599884033203, -5.5995001792907715, -5.753399848937988, -5.712600231170654, -5.646999835968018, -5.703199863433838, -5.770599842071533, -5.845300197601318, -6.0019001960754395, -2.8643999099731445, -4.2322998046875, -2.9639999866485596, -3.6951000690460205, -3.0299999713897705, -4.402699947357178, -3.724900007247925, -3.085200071334839, -5.07919979095459, -4.98330020904541, -4.98330020904541, -4.98330020904541, -4.98330020904541, -3.1112000942230225, -5.270500183105469, -5.299499988555908, -5.299499988555908, -5.299600124359131, -5.420599937438965, -5.471399784088135, -5.271699905395508, -5.271699905395508, -3.9916000366210938, -5.516600131988525, -5.51669979095459, -3.9214000701904297, -5.423999786376953, -5.840199947357178, -5.417399883270264, -5.6458001136779785, -4.609899997711182, -4.587399959564209, -4.33650016784668, -4.184800148010254, -4.236199855804443, -4.896299839019775, -4.810800075531006, -4.770299911499023, -4.932600021362305, -4.982999801635742, -5.000699996948242, -5.039700031280518, -4.972700119018555, -5.117700099945068, -4.806399822235107, -4.169400215148926, -4.706600189208984, -4.706600189208984, -5.0777997970581055, -5.003399848937988, -5.179999828338623, -5.185400009155273, -5.18720006942749, -5.188700199127197, -4.5543999671936035, -5.192500114440918, -5.27239990234375, -5.154200077056885, -5.174799919128418, -5.174799919128418, -5.364999771118164, -5.154200077056885, -5.440199851989746, -5.440199851989746, -5.243100166320801, -5.507599830627441, -5.363900184631348, -5.363900184631348, -5.363999843597412, -5.445000171661377, -5.445000171661377, -5.445000171661377, -5.445000171661377, -5.445000171661377, -4.455100059509277, -4.667900085449219, -4.572000026702881, -4.678899765014648, -4.645100116729736, -4.741099834442139, -4.95419979095459, -4.350100040435791, -4.637899875640869, -4.745500087738037, -4.485799789428711, -4.498799800872803, -4.544600009918213, -4.639599800109863, -4.8308000564575195, -4.83650016784668, -4.8541998863220215, -4.9527997970581055, -4.965799808502197, -5.029099941253662, -4.939599990844727, -5.111800193786621, -5.110899925231934, -4.444699764251709, -4.927199840545654, -4.913599967956543, -4.85860013961792, -5.090400218963623, -5.129799842834473, -5.129799842834473, -5.129799842834473, -5.129799842834473, -4.569300174713135, -4.809299945831299, -5.047299861907959, -5.047299861907959, -5.047299861907959, -5.047299861907959, -5.18209981918335, -4.991399765014648, -5.042699813842773, -5.357999801635742, -5.358099937438965, -5.234300136566162, -4.756700038909912, -4.981500148773193, -5.429500102996826, -5.429500102996826, -5.479400157928467, -5.484000205993652, -5.484000205993652, -4.283999919891357, -4.791600227355957, -5.0625, -5.098700046539307, -4.960100173950195, -4.579599857330322, -4.531000137329102, -4.42609977722168, -5.13040018081665, -5.0289998054504395, -4.752500057220459, -4.695799827575684, -4.852399826049805, -4.790200233459473, -5.028800010681152, -4.90939998626709, -4.980999946594238, -5.01170015335083, -4.107399940490723, -4.12939977645874, -4.448200225830078, -4.201900005340576, -4.190899848937988, -5.291299819946289, -5.377099990844727, -5.296500205993652, -5.296599864959717, -5.296599864959717, -5.296599864959717, -5.296599864959717, -5.296599864959717, -3.8482000827789307, -5.371200084686279, -5.371200084686279, -5.371200084686279, -5.371200084686279, -5.371200084686279, -5.371200084686279, -4.05049991607666, -5.579699993133545, -5.579699993133545, -5.484099864959717, -5.586900234222412, -5.586900234222412, -5.586900234222412, -5.586900234222412, -5.586900234222412, -5.586900234222412, -4.303299903869629, -4.387899875640869, -5.382999897003174, -4.485799789428711, -4.333600044250488, -4.176300048828125, -4.507500171661377, -5.441500186920166, -5.310500144958496, -4.55079984664917, -4.648600101470947, -4.498899936676025, -4.96560001373291, -4.794899940490723, -4.665999889373779, -5.080699920654297, -5.365799903869629, -5.343400001525879, -3.033400058746338, -4.496099948883057, -4.454100131988525, -4.45419979095459, -4.845699787139893, -4.865900039672852, -4.9430999755859375, -4.9430999755859375, -4.974699974060059, -4.827000141143799, -5.074999809265137, -5.074999809265137, -5.074999809265137, -4.885700225830078, -4.877999782562256, -5.149700164794922, -4.614699840545654, -5.22130012512207, -5.221399784088135, -5.186600208282471, -5.512700080871582, -5.520500183105469, -5.447400093078613, -5.080599784851074, -5.206500053405762, -5.592599868774414, -5.592599868774414, -5.624100208282471, -5.624100208282471, -5.457399845123291, -4.200900077819824, -4.601799964904785, -5.124100208282471, -5.3267998695373535, -4.578499794006348, -4.855199813842773, -4.444499969482422, -4.7307000160217285, -4.837600231170654, -4.90369987487793, -4.713500022888184, -5.0218000411987305, -5.091800212860107, -3.9170000553131104, -4.2855000495910645, -4.023399829864502, -4.023399829864502, -4.38539981842041, -4.583199977874756, -4.875999927520752, -4.252299785614014, -4.855199813842773, -5.185100078582764, -5.185100078582764, -5.185100078582764, -5.185100078582764, -5.185100078582764, -5.185100078582764, -5.3734002113342285, -5.521299839019775, -5.16349983215332, -5.527200222015381, -5.527200222015381, -4.066100120544434, -5.039700031280518, -5.468200206756592, -5.61329984664917, -5.623199939727783, -5.654799938201904, -5.693900108337402, -5.715099811553955, -5.715199947357178, -5.752799987792969, -4.223499774932861, -4.344099998474121, -5.593699932098389, -4.39870023727417, -4.5100998878479, -4.593500137329102, -4.91379976272583, -4.6097002029418945, -4.6219000816345215, -4.644599914550781, -4.712800025939941, -4.729800224304199, -5.076399803161621, -4.497000217437744, -4.497000217437744, -4.497000217437744, -4.497000217437744, -4.497099876403809, -4.7133002281188965, -5.440700054168701, -5.440700054168701, -5.440700054168701, -5.570799827575684, -5.570899963378906, -5.570899963378906, -5.570899963378906, -5.570899963378906, -5.613500118255615, -5.613500118255615, -5.613500118255615, -5.613500118255615, -5.617700099945068, -5.666900157928467, -5.666900157928467, -5.666900157928467, -5.666900157928467, -5.666900157928467, -5.666900157928467, -5.772799968719482, -5.772799968719482, -5.772799968719482, -5.772799968719482, -5.772799968719482, -5.324699878692627, -4.636199951171875, -4.749800205230713, -4.312900066375732, -4.2972002029418945, -4.313799858093262, -4.322700023651123, -4.36870002746582, -4.36359977722168, -4.36299991607666, -4.376500129699707, -4.408199787139893, -4.39739990234375, -4.927800178527832, -4.812600135803223, -4.703700065612793, -4.775899887084961, -4.980000019073486, -5.045300006866455, -5.4394001960754395], \"loglift\": [30.0, 29.0, 28.0, 27.0, 26.0, 25.0, 24.0, 23.0, 22.0, 21.0, 20.0, 19.0, 18.0, 17.0, 16.0, 15.0, 14.0, 13.0, 12.0, 11.0, 10.0, 9.0, 8.0, 7.0, 6.0, 5.0, 4.0, 3.0, 2.0, 1.0, 1.4326000213623047, 1.429800033569336, 1.4287999868392944, 1.4097000360488892, 1.3738000392913818, 1.2803000211715698, 1.269700050354004, 1.2662999629974365, 1.2582999467849731, 1.1924999952316284, 0.9363999962806702, 0.8256999850273132, 0.8256999850273132, 0.8256999850273132, 0.8095999956130981, 0.7939000129699707, 0.7937999963760376, 0.7937999963760376, 0.7937999963760376, 0.7663000226020813, 0.7562999725341797, 0.7096999883651733, 0.6977999806404114, 0.6972000002861023, 0.6972000002861023, 0.6610000133514404, 0.6388999819755554, 0.6388999819755554, 0.6388999819755554, 0.6388999819755554, 0.6177999973297119, 0.5462999939918518, 0.5806000232696533, 0.37299999594688416, 0.3163999915122986, 0.1800999939441681, -0.17890000343322754, -0.3700000047683716, -0.9369999766349792, -0.8130000233650208, -0.670799970626831, -0.45989999175071716, -1.6125999689102173, 1.4759000539779663, 1.4006999731063843, 1.3882999420166016, 1.3839000463485718, 1.3488999605178833, 1.3219000101089478, 1.3095999956130981, 1.3041000366210938, 1.2854000329971313, 1.277500033378601, 1.277500033378601, 1.277500033378601, 1.277400016784668, 1.2732000350952148, 1.214900016784668, 1.2037999629974365, 1.2036999464035034, 1.2036999464035034, 1.154099941253662, 1.132099986076355, 1.131700038909912, 1.131700038909912, 1.1013000011444092, 1.0407999753952026, 1.0407999753952026, 1.0156999826431274, 1.0118000507354736, 0.9537000060081482, 0.9514999985694885, 0.8309999704360962, 0.8258000016212463, 0.7979999780654907, 0.7633000016212463, 0.7053999900817871, 0.47369998693466187, 0.7468000054359436, 0.5809000134468079, 0.44769999384880066, 0.4611999988555908, 0.512499988079071, 0.23119999468326569, 0.2563999891281128, -0.424699991941452, 0.2736999988555908, 1.5720000267028809, 1.5230000019073486, 1.514799952507019, 1.514799952507019, 1.497499942779541, 1.4586000442504883, 1.4306000471115112, 1.4258999824523926, 1.424299955368042, 1.4229999780654907, 1.4220000505447388, 1.419700026512146, 1.4072999954223633, 1.3720999956130981, 1.3669999837875366, 1.3669999837875366, 1.361299991607666, 1.3438999652862549, 1.3222999572753906, 1.3222999572753906, 1.3111000061035156, 1.2862000465393066, 1.2861000299453735, 1.2861000299453735, 1.2860000133514404, 1.2194000482559204, 1.2194000482559204, 1.2194000482559204, 1.2194000482559204, 1.2194000482559204, 1.1122000217437744, 1.0794999599456787, 0.9225999712944031, 0.8812999725341797, 0.8637999892234802, 0.9021000266075134, 0.9355999827384949, 0.3598000109195709, 0.5968999862670898, 0.4864000082015991, -0.09650000184774399, -0.10100000351667404, -0.14419999718666077, -0.24799999594688416, -0.3684999942779541, -0.4575999975204468, -0.5019999742507935, 0.08169999718666077, 0.1340000033378601, 0.4440999925136566, -0.39160001277923584, 0.6759999990463257, -0.7264999747276306, 1.613700032234192, 1.600600004196167, 1.5606000423431396, 1.5467000007629395, 1.5292999744415283, 1.511199951171875, 1.511199951171875, 1.511199951171875, 1.511199951171875, 1.506700038909912, 1.5003999471664429, 1.4943000078201294, 1.4943000078201294, 1.4943000078201294, 1.4943000078201294, 1.4864000082015991, 1.4733999967575073, 1.4549000263214111, 1.398300051689148, 1.3982000350952148, 1.396299958229065, 1.3920999765396118, 1.3698999881744385, 1.360200047492981, 1.360200047492981, 1.3320000171661377, 1.330299973487854, 1.330199956893921, 1.3250000476837158, 1.3079999685287476, 1.2821999788284302, 1.2862000465393066, 1.1893999576568604, 1.020799994468689, 0.9779000282287598, 0.9165999889373779, 1.1482000350952148, 0.8608999848365784, -0.042500000447034836, -0.31690001487731934, 0.03779999911785126, -0.4058000147342682, 0.7508000135421753, -0.5200999975204468, -0.6287999749183655, -0.6714000105857849, 1.8523000478744507, 1.8169000148773193, 1.8034000396728516, 1.6649999618530273, 1.5968999862670898, 1.4557000398635864, 1.4428000450134277, 1.4229999780654907, 1.4229999780654907, 1.4229999780654907, 1.4229999780654907, 1.4229999780654907, 1.4229999780654907, 1.3865000009536743, 1.3854999542236328, 1.3854999542236328, 1.3854999542236328, 1.3854999542236328, 1.3854999542236328, 1.3854000568389893, 1.3432999849319458, 1.3244999647140503, 1.3243999481201172, 1.2867000102996826, 1.277400016784668, 1.277400016784668, 1.277400016784668, 1.277400016784668, 1.277400016784668, 1.277400016784668, 1.2640999555587769, 1.212499976158142, 1.2482000589370728, 1.0096999406814575, 0.9624999761581421, 0.916700005531311, 0.9656999707221985, 1.2314000129699707, 1.1396000385284424, 0.5490000247955322, 0.583299994468689, 0.4381999969482422, 0.6773999929428101, 0.09529999643564224, -0.2815999984741211, -0.5327000021934509, 1.1365000009536743, -0.30889999866485596, 2.109999895095825, 1.8660999536514282, 1.7865999937057495, 1.7864999771118164, 1.7265000343322754, 1.7175999879837036, 1.6822999715805054, 1.6822999715805054, 1.6675000190734863, 1.6346999406814575, 1.6187000274658203, 1.6187000274658203, 1.6187000274658203, 1.6016000509262085, 1.586300015449524, 1.468999981880188, 1.4536999464035034, 1.4492000341415405, 1.4491000175476074, 1.379699945449829, 1.3767000436782837, 1.371899962425232, 1.3716000318527222, 1.3515000343322754, 1.341599941253662, 1.3273999691009521, 1.3273999691009521, 1.3076000213623047, 1.3076000213623047, 1.2942999601364136, 1.141800045967102, 1.1778000593185425, 1.2408000230789185, 1.1754000186920166, 0.7174999713897705, 0.7878000140190125, 0.265500009059906, 0.5012000203132629, 0.38040000200271606, 0.4876999855041504, -0.2721000015735626, 0.37209999561309814, 0.4684000015258789, 1.943600058555603, 1.9414000511169434, 1.9017000198364258, 1.9017000198364258, 1.8530999422073364, 1.7304999828338623, 1.6449999809265137, 1.6380000114440918, 1.5924999713897705, 1.5657999515533447, 1.5657999515533447, 1.5657999515533447, 1.5657999515533447, 1.5657999515533447, 1.5657000541687012, 1.461899995803833, 1.3743000030517578, 1.3739999532699585, 1.3708000183105469, 1.3707000017166138, 1.3695000410079956, 1.3669999837875366, 1.3580000400543213, 1.317199945449829, 1.3108999729156494, 1.2907999753952026, 1.2654999494552612, 1.2517000436782837, 1.2516000270843506, 1.2267999649047852, 1.1619000434875488, 1.0476000308990479, 1.2074999809265137, 0.49149999022483826, 0.4269999861717224, 0.11640000343322754, 0.42879998683929443, -0.2694000005722046, -0.26969999074935913, -0.25529998540878296, -0.33390000462532043, -0.34540000557899475, -0.5282999873161316, 2.073699951171875, 2.073699951171875, 2.073699951171875, 2.073699951171875, 2.073699951171875, 1.9701999425888062, 1.5378999710083008, 1.5378999710083008, 1.5378999710083008, 1.447700023651123, 1.447700023651123, 1.447700023651123, 1.447700023651123, 1.447700023651123, 1.4174000024795532, 1.4174000024795532, 1.4174000024795532, 1.4172999858856201, 1.4143999814987183, 1.3789000511169434, 1.3789000511169434, 1.3789000511169434, 1.3789000511169434, 1.3789000511169434, 1.3789000511169434, 1.3008999824523926, 1.3008999824523926, 1.3008999824523926, 1.3008999824523926, 1.3008999824523926, 1.2233999967575073, 1.0563000440597534, 0.6416000127792358, 0.12849999964237213, 0.10320000350475311, 0.0778999999165535, 0.07519999891519547, 0.09359999746084213, 0.05220000073313713, 0.03020000085234642, 0.003800000064074993, 0.02239999920129776, -0.013799999840557575, 0.5677000284194946, 0.40529999136924744, -0.15569999814033508, -0.06599999964237213, 0.2547000050544739, 0.186599999666214, 0.30790001153945923]}, \"token.table\": {\"Topic\": [6, 4, 4, 2, 3, 4, 7, 2, 5, 7, 5, 2, 1, 8, 1, 2, 3, 4, 6, 7, 2, 3, 5, 6, 1, 3, 8, 4, 6, 6, 2, 5, 6, 2, 3, 5, 3, 6, 7, 4, 7, 3, 2, 4, 1, 3, 6, 6, 3, 1, 8, 8, 8, 4, 4, 7, 2, 3, 2, 2, 5, 6, 8, 4, 4, 6, 3, 6, 4, 2, 3, 4, 7, 2, 4, 7, 4, 2, 6, 4, 7, 4, 2, 3, 4, 7, 4, 2, 5, 2, 2, 1, 4, 6, 7, 3, 2, 7, 5, 1, 3, 8, 3, 4, 3, 4, 1, 8, 4, 3, 2, 7, 1, 2, 5, 6, 3, 3, 2, 3, 5, 2, 7, 4, 2, 3, 4, 7, 4, 2, 3, 2, 3, 1, 2, 4, 3, 1, 2, 6, 1, 2, 3, 5, 7, 2, 1, 8, 7, 1, 3, 8, 1, 4, 6, 2, 3, 4, 5, 7, 4, 2, 2, 5, 4, 3, 2, 2, 6, 2, 3, 2, 8, 4, 3, 1, 3, 7, 4, 3, 4, 6, 1, 3, 4, 8, 4, 5, 7, 2, 3, 5, 2, 1, 3, 8, 2, 3, 1, 2, 4, 5, 7, 4, 1, 2, 4, 1, 2, 3, 5, 5, 1, 2, 6, 4, 4, 8, 3, 3, 2, 7, 5, 1, 6, 8, 3, 2, 6, 2, 3, 5, 2, 2, 2, 6, 3, 8], \"Freq\": [0.8338890671730042, 0.5944611430168152, 0.9724724888801575, 0.7162891030311584, 0.10232701152563095, 0.10232701152563095, 0.10232701152563095, 0.5308874845504761, 0.1769624948501587, 0.1769624948501587, 0.4484507143497467, 0.8944870829582214, 0.8531644344329834, 0.10664555430412292, 0.14100196957588196, 0.2820039391517639, 0.14100196957588196, 0.14100196957588196, 0.14100196957588196, 0.14100196957588196, 0.23763686418533325, 0.23763686418533325, 0.23763686418533325, 0.23763686418533325, 0.7242084741592407, 0.10345835983753204, 0.10345835983753204, 0.7528147101402283, 0.6516756415367126, 0.7358818650245667, 0.3584710359573364, 0.3584710359573364, 0.3584710359573364, 0.7668269872665405, 0.4143006205558777, 0.4143006205558777, 0.5485087633132935, 0.5485087633132935, 0.47528842091560364, 0.7279614806175232, 0.6427412033081055, 0.7479069828987122, 0.6648471355438232, 0.5527026057243347, 0.6207976937294006, 0.9448626637458801, 0.9078035950660706, 0.9736467003822327, 0.8670560717582703, 0.8112724423408508, 0.10140905529260635, 0.906469464302063, 0.9064708352088928, 0.9724721312522888, 0.97247314453125, 0.45903271436691284, 0.39789342880249023, 0.39789342880249023, 0.9366272687911987, 0.2793978750705719, 0.2793978750705719, 0.2793978750705719, 0.9064723253250122, 0.8804271817207336, 0.9995819926261902, 0.9181095361709595, 0.9433382749557495, 0.8149426579475403, 0.8683717250823975, 0.708840012550354, 0.10126286000013351, 0.10126286000013351, 0.10126286000013351, 0.7794444561004639, 0.09743055701255798, 0.09743055701255798, 0.8804270029067993, 0.6648448705673218, 0.6516773700714111, 0.5430601835250854, 0.7693341374397278, 0.8153843283653259, 0.3585220277309418, 0.3585220277309418, 0.3585220277309418, 0.8015339374542236, 0.7230913043022156, 0.30932366847991943, 0.30932366847991943, 0.7408397793769836, 0.8323041796684265, 0.265470951795578, 0.265470951795578, 0.265470951795578, 0.265470951795578, 0.8915618062019348, 0.2788061797618866, 0.2788061797618866, 0.4854716360569, 0.813900887966156, 0.1017376109957695, 0.1017376109957695, 0.3134699761867523, 0.3134699761867523, 0.4588320553302765, 0.4588320553302765, 0.8405556082725525, 0.10506945103406906, 0.5659105181694031, 0.9442204236984253, 0.277054101228714, 0.277054101228714, 0.7772281765937805, 0.2533751130104065, 0.2533751130104065, 0.2533751130104065, 0.8429354429244995, 0.9443920850753784, 0.6648452877998352, 0.2383154034614563, 0.4766308069229126, 0.7375839948654175, 0.7009714841842651, 0.8230459094047546, 0.6901957392692566, 0.0985993891954422, 0.0985993891954422, 0.0985993891954422, 0.8804278373718262, 0.32996276021003723, 0.32996276021003723, 0.9100272059440613, 0.910635232925415, 0.33475401997566223, 0.33475401997566223, 0.33475401997566223, 0.639219343662262, 0.23434112966060638, 0.23434112966060638, 0.23434112966060638, 0.2082296460866928, 0.4164592921733856, 0.2082296460866928, 0.2082296460866928, 0.8624414205551147, 0.847349226474762, 0.8218182325363159, 0.10272727906703949, 0.6502084136009216, 0.7224115133285522, 0.10320165008306503, 0.10320165008306503, 0.4109050929546356, 0.4109050929546356, 0.4109050929546356, 0.6109435558319092, 0.10182392597198486, 0.10182392597198486, 0.10182392597198486, 0.10182392597198486, 0.5948931574821472, 0.7920284867286682, 0.6204248070716858, 0.20680826902389526, 0.8804261684417725, 0.6392213702201843, 0.847345769405365, 0.8473465442657471, 0.9574329257011414, 0.5852013826370239, 0.1950671225786209, 0.7668273448944092, 0.9064653515815735, 0.6768513917922974, 0.8806025981903076, 0.6207977533340454, 0.500289797782898, 0.47528907656669617, 0.9724727272987366, 0.8806033134460449, 0.7682321071624756, 0.95743328332901, 0.6604231595993042, 0.11007052659988403, 0.11007052659988403, 0.11007052659988403, 0.34350448846817017, 0.34350448846817017, 0.8911460041999817, 0.3025052547454834, 0.3025052547454834, 0.3025052547454834, 0.8944880366325378, 0.7179638743400574, 0.10256627202033997, 0.10256627202033997, 0.3090493381023407, 0.3090493381023407, 0.16885286569595337, 0.33770573139190674, 0.16885286569595337, 0.16885286569595337, 0.16885286569595337, 0.6982660889625549, 0.6429109573364258, 0.346503347158432, 0.346503347158432, 0.4796891510486603, 0.11992228776216507, 0.11992228776216507, 0.11992228776216507, 0.6587907671928406, 0.2787216603755951, 0.2787216603755951, 0.2787216603755951, 0.9519528150558472, 0.8425348401069641, 0.906474232673645, 0.8130675554275513, 1.0108165740966797, 0.2913365662097931, 0.2913365662097931, 0.4920490086078644, 0.754557728767395, 0.10779396444559097, 0.10779396444559097, 0.9439903497695923, 0.8251325488090515, 0.8128252029418945, 0.7097883224487305, 0.33234918117523193, 0.33234918117523193, 0.7779368758201599, 0.8157626390457153, 0.6648449301719666, 0.8700496554374695, 0.7532649040222168, 0.3766324520111084], \"Term\": [\"10th\", \"2020\", \"644\", \"a\", \"a\", \"a\", \"a\", \"after\", \"after\", \"after\", \"all\", \"along\", \"amp\", \"amp\", \"and\", \"and\", \"and\", \"and\", \"and\", \"and\", \"are\", \"are\", \"are\", \"are\", \"at\", \"at\", \"at\", \"attack\", \"bai\", \"bandittalro\", \"be\", \"be\", \"be\", \"beat\", \"bloody\", \"bloody\", \"both\", \"both\", \"broad\", \"but\", \"cacsexa\\u2026\", \"calm\", \"chahal\", \"coincidence\", \"condition\", \"darr\", \"dboss\", \"dieheart\", \"down\", \"every\", \"every\", \"facewithhandovermouth\", \"facewithmedicalmask\", \"facewithoutmouth\", \"facewithraisedeyebrow\", \"facewithrollingeyes\", \"facewithtearsofjoy\", \"facewithtearsofjoy\", \"facewiththermometer\", \"fan\", \"fan\", \"fan\", \"fans\\u2026\", \"far\", \"fearfulface\", \"feel\", \"feeling\", \"first\", \"foldedhandslightskintone\", \"for\", \"for\", \"for\", \"for\", \"fuck\", \"fuck\", \"fuck\", \"fucked\", \"fun\", \"ge\", \"god\", \"hashtag\", \"have\", \"heart\", \"heart\", \"heart\", \"heartattack\", \"hell\", \"his\", \"his\", \"https\\u2026\", \"h\\u2026\", \"i\", \"i\", \"i\", \"i\", \"if\", \"in\", \"in\", \"including\", \"indian\", \"indian\", \"indian\", \"is\", \"is\", \"it\", \"it\", \"joking\", \"joking\", \"just\", \"ka\", \"le\", \"le\", \"lieheheheh\", \"like\", \"like\", \"like\", \"little\", \"mahol\", \"making\", \"me\", \"me\", \"meanwhile\", \"mini\", \"misleading\", \"moment\", \"moment\", \"moment\", \"moment\", \"most\", \"my\", \"my\", \"naik008\", \"need\", \"of\", \"of\", \"of\", \"omg\", \"on\", \"on\", \"on\", \"people\", \"people\", \"people\", \"people\", \"poutingface\", \"respect\", \"rn\", \"rn\", \"rollingonthefloorlaughing\", \"same\", \"same\", \"same\", \"saw\", \"saw\", \"saw\", \"scared\", \"scared\", \"scared\", \"scared\", \"scared\", \"scary\", \"second\", \"seeing\", \"seeing\", \"seen\", \"seenoevilmonkey\", \"share\", \"show\", \"simultaneously\", \"singh\", \"singh\", \"skipped\", \"smirkingface\", \"so\", \"somdy\", \"started\", \"stopped\", \"stuart\", \"t\", \"tell\", \"thank\", \"thankgod\", \"the\", \"the\", \"the\", \"the\", \"these\", \"these\", \"they\", \"this\", \"this\", \"this\", \"those\", \"time\", \"time\", \"time\", \"to\", \"to\", \"together\", \"together\", \"together\", \"together\", \"together\", \"too\", \"top\", \"trend\", \"trend\", \"trending\", \"trending\", \"trending\", \"trending\", \"tulip\", \"twitter\", \"twitter\", \"twitter\", \"twitteraties\", \"up\", \"upsidedownface\", \"vandana\", \"verma0\", \"watching\", \"watching\", \"whats\", \"when\", \"when\", \"when\", \"while\", \"who\", \"winkingface\", \"writing\", \"you\", \"you\", \"yuvi\", \"yuvraj\", \"yuzvendra\", \"\\u091c\\u0928\\u0928\\u093e\\u092f\\u0915\\u091b\\u093e\\u0924\\u094d\\u0930\\u094b\\u0902\\u2026\", \"\\u2026\", \"\\u2026\"]}, \"R\": 30, \"lambda.step\": 0.01, \"plot.opts\": {\"xlab\": \"PC1\", \"ylab\": \"PC2\"}, \"topic.order\": [7, 1, 8, 2, 4, 5, 6, 3]};\n",
              "\n",
              "function LDAvis_load_lib(url, callback){\n",
              "  var s = document.createElement('script');\n",
              "  s.src = url;\n",
              "  s.async = true;\n",
              "  s.onreadystatechange = s.onload = callback;\n",
              "  s.onerror = function(){console.warn(\"failed to load library \" + url);};\n",
              "  document.getElementsByTagName(\"head\")[0].appendChild(s);\n",
              "}\n",
              "\n",
              "if(typeof(LDAvis) !== \"undefined\"){\n",
              "   // already loaded: just create the visualization\n",
              "   !function(LDAvis){\n",
              "       new LDAvis(\"#\" + \"ldavis_el1211406444917573929036620277\", ldavis_el1211406444917573929036620277_data);\n",
              "   }(LDAvis);\n",
              "}else if(typeof define === \"function\" && define.amd){\n",
              "   // require.js is available: use it to load d3/LDAvis\n",
              "   require.config({paths: {d3: \"https://cdnjs.cloudflare.com/ajax/libs/d3/3.5.5/d3.min\"}});\n",
              "   require([\"d3\"], function(d3){\n",
              "      window.d3 = d3;\n",
              "      LDAvis_load_lib(\"https://cdn.rawgit.com/bmabey/pyLDAvis/files/ldavis.v1.0.0.js\", function(){\n",
              "        new LDAvis(\"#\" + \"ldavis_el1211406444917573929036620277\", ldavis_el1211406444917573929036620277_data);\n",
              "      });\n",
              "    });\n",
              "}else{\n",
              "    // require.js not available: dynamically load d3 & LDAvis\n",
              "    LDAvis_load_lib(\"https://cdnjs.cloudflare.com/ajax/libs/d3/3.5.5/d3.min.js\", function(){\n",
              "         LDAvis_load_lib(\"https://cdn.rawgit.com/bmabey/pyLDAvis/files/ldavis.v1.0.0.js\", function(){\n",
              "                 new LDAvis(\"#\" + \"ldavis_el1211406444917573929036620277\", ldavis_el1211406444917573929036620277_data);\n",
              "            })\n",
              "         });\n",
              "}\n",
              "</script>"
            ],
            "text/plain": [
              "PreparedData(topic_coordinates=              x         y  topics  cluster       Freq\n",
              "topic                                                \n",
              "6     -0.182291 -0.046770       1        1  20.460800\n",
              "0      0.117989 -0.106048       2        1  18.117437\n",
              "7     -0.006699 -0.010921       3        1  12.561181\n",
              "1      0.032779  0.052169       4        1  11.770998\n",
              "3      0.052998  0.033970       5        1  10.408332\n",
              "4      0.013395  0.074161       6        1   9.929714\n",
              "5      0.041051 -0.003193       7        1   9.858314\n",
              "2     -0.069223  0.006632       8        1   6.893223, topic_info=                   Term       Freq      Total Category  logprob  loglift\n",
              "51                every   9.000000   9.000000  Default  30.0000  30.0000\n",
              "54                   rn   9.000000   9.000000  Default  29.0000  29.0000\n",
              "53               joking   9.000000   9.000000  Default  28.0000  28.0000\n",
              "52               indian   9.000000   9.000000  Default  27.0000  27.0000\n",
              "103                fuck  10.000000  10.000000  Default  26.0000  26.0000\n",
              "..                  ...        ...        ...      ...      ...      ...\n",
              "58             trending   0.491915   8.338734   Topic8  -4.7037  -0.1557\n",
              "75                  and   0.457668   7.092099   Topic8  -4.7759  -0.0660\n",
              "110                  me   0.373164   4.196120   Topic8  -4.9800   0.2547\n",
              "120                 are   0.349596   4.208101   Topic8  -5.0453   0.1866\n",
              "244  facewithtearsofjoy   0.235713   2.513236   Topic8  -5.4394   0.3079\n",
              "\n",
              "[400 rows x 6 columns], token_table=      Topic      Freq            Term\n",
              "term                                 \n",
              "168       6  0.833889            10th\n",
              "37        4  0.594461            2020\n",
              "275       4  0.972472             644\n",
              "74        2  0.716289               a\n",
              "74        3  0.102327               a\n",
              "...     ...       ...             ...\n",
              "95        2  0.815763          yuvraj\n",
              "582       2  0.664845       yuzvendra\n",
              "186       6  0.870050  जननायकछात्रों…\n",
              "73        3  0.753265               …\n",
              "73        8  0.376632               …\n",
              "\n",
              "[238 rows x 3 columns], R=30, lambda_step=0.01, plot_opts={'xlab': 'PC1', 'ylab': 'PC2'}, topic_order=[7, 1, 8, 2, 4, 5, 6, 3])"
            ]
          },
          "metadata": {
            "tags": []
          },
          "execution_count": 240
        }
      ]
    },
    {
      "cell_type": "markdown",
      "metadata": {
        "id": "S7EJUssuXQwE",
        "colab_type": "text"
      },
      "source": [
        "**Number of deaths (loaction-wise)**"
      ]
    },
    {
      "cell_type": "code",
      "metadata": {
        "id": "rV6WhlqgXO9o",
        "colab_type": "code",
        "colab": {
          "base_uri": "https://localhost:8080/",
          "height": 779
        },
        "outputId": "0fcfc9c8-b290-4a19-8b1a-b61b9c6f5dda"
      },
      "source": [
        "df_B"
      ],
      "execution_count": 266,
      "outputs": [
        {
          "output_type": "execute_result",
          "data": {
            "text/html": [
              "<div>\n",
              "<style scoped>\n",
              "    .dataframe tbody tr th:only-of-type {\n",
              "        vertical-align: middle;\n",
              "    }\n",
              "\n",
              "    .dataframe tbody tr th {\n",
              "        vertical-align: top;\n",
              "    }\n",
              "\n",
              "    .dataframe thead th {\n",
              "        text-align: right;\n",
              "    }\n",
              "</style>\n",
              "<table border=\"1\" class=\"dataframe\">\n",
              "  <thead>\n",
              "    <tr style=\"text-align: right;\">\n",
              "      <th></th>\n",
              "      <th>_id</th>\n",
              "      <th>created_at</th>\n",
              "      <th>id</th>\n",
              "      <th>id_str</th>\n",
              "      <th>full_text</th>\n",
              "      <th>truncated</th>\n",
              "      <th>display_text_range</th>\n",
              "      <th>entities</th>\n",
              "      <th>metadata</th>\n",
              "      <th>source</th>\n",
              "      <th>in_reply_to_status_id</th>\n",
              "      <th>in_reply_to_status_id_str</th>\n",
              "      <th>in_reply_to_user_id</th>\n",
              "      <th>in_reply_to_user_id_str</th>\n",
              "      <th>in_reply_to_screen_name</th>\n",
              "      <th>user</th>\n",
              "      <th>geo</th>\n",
              "      <th>coordinates</th>\n",
              "      <th>place</th>\n",
              "      <th>contributors</th>\n",
              "      <th>retweeted_status</th>\n",
              "      <th>is_quote_status</th>\n",
              "      <th>retweet_count</th>\n",
              "      <th>favorite_count</th>\n",
              "      <th>favorited</th>\n",
              "      <th>retweeted</th>\n",
              "      <th>lang</th>\n",
              "    </tr>\n",
              "  </thead>\n",
              "  <tbody>\n",
              "    <tr>\n",
              "      <th>0</th>\n",
              "      <td>{'$oid': '5ee1244dc51e2d8beb570717'}</td>\n",
              "      <td>Wed Jun 10 18:19:05 +0000 2020</td>\n",
              "      <td>1270782555357212700</td>\n",
              "      <td>1270782555357212672</td>\n",
              "      <td>RT @PTTVOnlineNews: திமுக எம்எல்ஏ ஜெ.அன்பழகன் ...</td>\n",
              "      <td>False</td>\n",
              "      <td>[0, 140]</td>\n",
              "      <td>{'hashtags': [{'text': 'JAnbazhagan', 'indices...</td>\n",
              "      <td>{'iso_language_code': 'ta', 'result_type': 're...</td>\n",
              "      <td>&lt;a href=\"https://mobile.twitter.com\" rel=\"nofo...</td>\n",
              "      <td>NaN</td>\n",
              "      <td>None</td>\n",
              "      <td>NaN</td>\n",
              "      <td>None</td>\n",
              "      <td>None</td>\n",
              "      <td>{'id': 1146440916527243300, 'id_str': '1146440...</td>\n",
              "      <td>None</td>\n",
              "      <td>None</td>\n",
              "      <td>None</td>\n",
              "      <td>None</td>\n",
              "      <td>{'created_at': 'Wed Jun 10 06:32:16 +0000 2020...</td>\n",
              "      <td>False</td>\n",
              "      <td>90</td>\n",
              "      <td>0</td>\n",
              "      <td>False</td>\n",
              "      <td>False</td>\n",
              "      <td>ta</td>\n",
              "    </tr>\n",
              "    <tr>\n",
              "      <th>10</th>\n",
              "      <td>{'$oid': '5ee1244dc51e2d8beb570721'}</td>\n",
              "      <td>Wed Jun 10 18:17:40 +0000 2020</td>\n",
              "      <td>1270782198824788000</td>\n",
              "      <td>1270782198824787977</td>\n",
              "      <td>Virtual funerals are becoming more common, as ...</td>\n",
              "      <td>False</td>\n",
              "      <td>[0, 270]</td>\n",
              "      <td>{'hashtags': [{'text': 'RestInPeace', 'indices...</td>\n",
              "      <td>{'iso_language_code': 'en', 'result_type': 're...</td>\n",
              "      <td>&lt;a href=\"https://mobile.twitter.com\" rel=\"nofo...</td>\n",
              "      <td>NaN</td>\n",
              "      <td>None</td>\n",
              "      <td>NaN</td>\n",
              "      <td>None</td>\n",
              "      <td>None</td>\n",
              "      <td>{'id': 1209427513136562200, 'id_str': '1209427...</td>\n",
              "      <td>None</td>\n",
              "      <td>None</td>\n",
              "      <td>None</td>\n",
              "      <td>None</td>\n",
              "      <td>NaN</td>\n",
              "      <td>False</td>\n",
              "      <td>0</td>\n",
              "      <td>0</td>\n",
              "      <td>False</td>\n",
              "      <td>False</td>\n",
              "      <td>en</td>\n",
              "    </tr>\n",
              "    <tr>\n",
              "      <th>18</th>\n",
              "      <td>{'$oid': '5ee1244dc51e2d8beb570729'}</td>\n",
              "      <td>Wed Jun 10 18:15:27 +0000 2020</td>\n",
              "      <td>1270781638583042000</td>\n",
              "      <td>1270781638583042048</td>\n",
              "      <td>😭😭\\n\\n#RestInPeace https://t.co/N3Qm59QSjz</td>\n",
              "      <td>False</td>\n",
              "      <td>[0, 16]</td>\n",
              "      <td>{'hashtags': [{'text': 'RestInPeace', 'indices...</td>\n",
              "      <td>{'iso_language_code': 'und', 'result_type': 'r...</td>\n",
              "      <td>&lt;a href=\"http://twitter.com/download/android\" ...</td>\n",
              "      <td>NaN</td>\n",
              "      <td>None</td>\n",
              "      <td>NaN</td>\n",
              "      <td>None</td>\n",
              "      <td>None</td>\n",
              "      <td>{'id': 1112792532545466400, 'id_str': '1112792...</td>\n",
              "      <td>None</td>\n",
              "      <td>None</td>\n",
              "      <td>None</td>\n",
              "      <td>None</td>\n",
              "      <td>NaN</td>\n",
              "      <td>True</td>\n",
              "      <td>0</td>\n",
              "      <td>0</td>\n",
              "      <td>False</td>\n",
              "      <td>False</td>\n",
              "      <td>und</td>\n",
              "    </tr>\n",
              "    <tr>\n",
              "      <th>29</th>\n",
              "      <td>{'$oid': '5ee1244dc51e2d8beb570734'}</td>\n",
              "      <td>Wed Jun 10 18:12:53 +0000 2020</td>\n",
              "      <td>1270780994518474800</td>\n",
              "      <td>1270780994518474753</td>\n",
              "      <td>Rest in peace, George Floyd\\nWe Will Not Forge...</td>\n",
              "      <td>False</td>\n",
              "      <td>[0, 173]</td>\n",
              "      <td>{'hashtags': [{'text': 'RIPGeorgeFloyd', 'indi...</td>\n",
              "      <td>{'iso_language_code': 'en', 'result_type': 're...</td>\n",
              "      <td>&lt;a href=\"http://twitter.com/download/android\" ...</td>\n",
              "      <td>NaN</td>\n",
              "      <td>None</td>\n",
              "      <td>NaN</td>\n",
              "      <td>None</td>\n",
              "      <td>None</td>\n",
              "      <td>{'id': 1254525094937985000, 'id_str': '1254525...</td>\n",
              "      <td>None</td>\n",
              "      <td>None</td>\n",
              "      <td>None</td>\n",
              "      <td>None</td>\n",
              "      <td>NaN</td>\n",
              "      <td>False</td>\n",
              "      <td>0</td>\n",
              "      <td>0</td>\n",
              "      <td>False</td>\n",
              "      <td>False</td>\n",
              "      <td>en</td>\n",
              "    </tr>\n",
              "    <tr>\n",
              "      <th>34</th>\n",
              "      <td>{'$oid': '5ee1244dc51e2d8beb570739'}</td>\n",
              "      <td>Wed Jun 10 18:11:10 +0000 2020</td>\n",
              "      <td>1270780563331453000</td>\n",
              "      <td>1270780563331452929</td>\n",
              "      <td>RT @nehaa_sinha: And two firefighters have los...</td>\n",
              "      <td>False</td>\n",
              "      <td>[0, 137]</td>\n",
              "      <td>{'hashtags': [{'text': 'RestInPeace', 'indices...</td>\n",
              "      <td>{'iso_language_code': 'en', 'result_type': 're...</td>\n",
              "      <td>&lt;a href=\"https://mobile.twitter.com\" rel=\"nofo...</td>\n",
              "      <td>NaN</td>\n",
              "      <td>None</td>\n",
              "      <td>NaN</td>\n",
              "      <td>None</td>\n",
              "      <td>None</td>\n",
              "      <td>{'id': 2784446966, 'id_str': '2784446966', 'na...</td>\n",
              "      <td>None</td>\n",
              "      <td>None</td>\n",
              "      <td>None</td>\n",
              "      <td>None</td>\n",
              "      <td>{'created_at': 'Wed Jun 10 07:37:39 +0000 2020...</td>\n",
              "      <td>False</td>\n",
              "      <td>7</td>\n",
              "      <td>0</td>\n",
              "      <td>False</td>\n",
              "      <td>False</td>\n",
              "      <td>en</td>\n",
              "    </tr>\n",
              "    <tr>\n",
              "      <th>...</th>\n",
              "      <td>...</td>\n",
              "      <td>...</td>\n",
              "      <td>...</td>\n",
              "      <td>...</td>\n",
              "      <td>...</td>\n",
              "      <td>...</td>\n",
              "      <td>...</td>\n",
              "      <td>...</td>\n",
              "      <td>...</td>\n",
              "      <td>...</td>\n",
              "      <td>...</td>\n",
              "      <td>...</td>\n",
              "      <td>...</td>\n",
              "      <td>...</td>\n",
              "      <td>...</td>\n",
              "      <td>...</td>\n",
              "      <td>...</td>\n",
              "      <td>...</td>\n",
              "      <td>...</td>\n",
              "      <td>...</td>\n",
              "      <td>...</td>\n",
              "      <td>...</td>\n",
              "      <td>...</td>\n",
              "      <td>...</td>\n",
              "      <td>...</td>\n",
              "      <td>...</td>\n",
              "      <td>...</td>\n",
              "    </tr>\n",
              "    <tr>\n",
              "      <th>9050</th>\n",
              "      <td>{'$oid': '5ee125dcc51e2d8beb572a71'}</td>\n",
              "      <td>Wed Jun 10 09:05:47 +0000 2020</td>\n",
              "      <td>1270643310009278500</td>\n",
              "      <td>1270643310009278464</td>\n",
              "      <td>@ANI @rsprasad He's just an MP like any other ...</td>\n",
              "      <td>False</td>\n",
              "      <td>[5, 293]</td>\n",
              "      <td>{'hashtags': [{'text': 'karachi', 'indices': [...</td>\n",
              "      <td>{'iso_language_code': 'en', 'result_type': 're...</td>\n",
              "      <td>&lt;a href=\"https://mobile.twitter.com\" rel=\"nofo...</td>\n",
              "      <td>1.270628e+18</td>\n",
              "      <td>1270627935351762944</td>\n",
              "      <td>355989081.0</td>\n",
              "      <td>355989081</td>\n",
              "      <td>ANI</td>\n",
              "      <td>{'id': 1233066191389782000, 'id_str': '1233066...</td>\n",
              "      <td>None</td>\n",
              "      <td>None</td>\n",
              "      <td>None</td>\n",
              "      <td>None</td>\n",
              "      <td>NaN</td>\n",
              "      <td>False</td>\n",
              "      <td>0</td>\n",
              "      <td>0</td>\n",
              "      <td>False</td>\n",
              "      <td>False</td>\n",
              "      <td>en</td>\n",
              "    </tr>\n",
              "    <tr>\n",
              "      <th>9070</th>\n",
              "      <td>{'$oid': '5ee125dcc51e2d8beb572a85'}</td>\n",
              "      <td>Wed Jun 10 09:05:09 +0000 2020</td>\n",
              "      <td>1270643152593064000</td>\n",
              "      <td>1270643152593063936</td>\n",
              "      <td>RT @itsvjdmk: #JAnbazhagan\\n#RestInPeace\\n#RIP...</td>\n",
              "      <td>False</td>\n",
              "      <td>[0, 90]</td>\n",
              "      <td>{'hashtags': [{'text': 'JAnbazhagan', 'indices...</td>\n",
              "      <td>{'iso_language_code': 'und', 'result_type': 'r...</td>\n",
              "      <td>&lt;a href=\"http://twitter.com/download/android\" ...</td>\n",
              "      <td>NaN</td>\n",
              "      <td>None</td>\n",
              "      <td>NaN</td>\n",
              "      <td>None</td>\n",
              "      <td>None</td>\n",
              "      <td>{'id': 1007808431908982800, 'id_str': '1007808...</td>\n",
              "      <td>None</td>\n",
              "      <td>None</td>\n",
              "      <td>None</td>\n",
              "      <td>None</td>\n",
              "      <td>{'created_at': 'Wed Jun 10 08:39:15 +0000 2020...</td>\n",
              "      <td>False</td>\n",
              "      <td>1</td>\n",
              "      <td>0</td>\n",
              "      <td>False</td>\n",
              "      <td>False</td>\n",
              "      <td>und</td>\n",
              "    </tr>\n",
              "    <tr>\n",
              "      <th>9117</th>\n",
              "      <td>{'$oid': '5ee125e0c51e2d8beb572ab4'}</td>\n",
              "      <td>Wed Jun 10 09:04:18 +0000 2020</td>\n",
              "      <td>1270642938494832600</td>\n",
              "      <td>1270642938494832642</td>\n",
              "      <td>#JAnbazhagan \\n#RestInPeace https://t.co/KP5UI...</td>\n",
              "      <td>False</td>\n",
              "      <td>[0, 26]</td>\n",
              "      <td>{'hashtags': [{'text': 'JAnbazhagan', 'indices...</td>\n",
              "      <td>{'iso_language_code': 'und', 'result_type': 'r...</td>\n",
              "      <td>&lt;a href=\"http://twitter.com/download/android\" ...</td>\n",
              "      <td>NaN</td>\n",
              "      <td>None</td>\n",
              "      <td>NaN</td>\n",
              "      <td>None</td>\n",
              "      <td>None</td>\n",
              "      <td>{'id': 1260019038538752000, 'id_str': '1260019...</td>\n",
              "      <td>None</td>\n",
              "      <td>None</td>\n",
              "      <td>None</td>\n",
              "      <td>None</td>\n",
              "      <td>NaN</td>\n",
              "      <td>False</td>\n",
              "      <td>1</td>\n",
              "      <td>6</td>\n",
              "      <td>False</td>\n",
              "      <td>False</td>\n",
              "      <td>und</td>\n",
              "    </tr>\n",
              "    <tr>\n",
              "      <th>9140</th>\n",
              "      <td>{'$oid': '5ee125e0c51e2d8beb572acb'}</td>\n",
              "      <td>Wed Jun 10 09:03:47 +0000 2020</td>\n",
              "      <td>1270642809276522500</td>\n",
              "      <td>1270642809276522496</td>\n",
              "      <td>RT @thatsTamil: சென்னை கண்ணம்மாபேட்டையில் ஜெ. ...</td>\n",
              "      <td>False</td>\n",
              "      <td>[0, 140]</td>\n",
              "      <td>{'hashtags': [{'text': 'JAnbazhagan', 'indices...</td>\n",
              "      <td>{'iso_language_code': 'ta', 'result_type': 're...</td>\n",
              "      <td>&lt;a href=\"http://twitter.com/download/android\" ...</td>\n",
              "      <td>NaN</td>\n",
              "      <td>None</td>\n",
              "      <td>NaN</td>\n",
              "      <td>None</td>\n",
              "      <td>None</td>\n",
              "      <td>{'id': 1161653145375654000, 'id_str': '1161653...</td>\n",
              "      <td>None</td>\n",
              "      <td>None</td>\n",
              "      <td>None</td>\n",
              "      <td>None</td>\n",
              "      <td>{'created_at': 'Wed Jun 10 07:41:08 +0000 2020...</td>\n",
              "      <td>False</td>\n",
              "      <td>8</td>\n",
              "      <td>0</td>\n",
              "      <td>False</td>\n",
              "      <td>False</td>\n",
              "      <td>ta</td>\n",
              "    </tr>\n",
              "    <tr>\n",
              "      <th>9159</th>\n",
              "      <td>{'$oid': '5ee125e0c51e2d8beb572ade'}</td>\n",
              "      <td>Wed Jun 10 09:03:26 +0000 2020</td>\n",
              "      <td>1270642720604926000</td>\n",
              "      <td>1270642720604925954</td>\n",
              "      <td>RT @Iambhaarat1: #BiharKaCmGayabHai\\n#RestInPe...</td>\n",
              "      <td>False</td>\n",
              "      <td>[0, 72]</td>\n",
              "      <td>{'hashtags': [{'text': 'BiharKaCmGayabHai', 'i...</td>\n",
              "      <td>{'iso_language_code': 'und', 'result_type': 'r...</td>\n",
              "      <td>&lt;a href=\"http://twitter.com/download/android\" ...</td>\n",
              "      <td>NaN</td>\n",
              "      <td>None</td>\n",
              "      <td>NaN</td>\n",
              "      <td>None</td>\n",
              "      <td>None</td>\n",
              "      <td>{'id': 1253935697326559200, 'id_str': '1253935...</td>\n",
              "      <td>None</td>\n",
              "      <td>None</td>\n",
              "      <td>None</td>\n",
              "      <td>None</td>\n",
              "      <td>{'created_at': 'Wed Jun 10 08:59:04 +0000 2020...</td>\n",
              "      <td>False</td>\n",
              "      <td>3</td>\n",
              "      <td>0</td>\n",
              "      <td>False</td>\n",
              "      <td>False</td>\n",
              "      <td>und</td>\n",
              "    </tr>\n",
              "  </tbody>\n",
              "</table>\n",
              "<p>416 rows × 27 columns</p>\n",
              "</div>"
            ],
            "text/plain": [
              "                                       _id  ... lang\n",
              "0     {'$oid': '5ee1244dc51e2d8beb570717'}  ...   ta\n",
              "10    {'$oid': '5ee1244dc51e2d8beb570721'}  ...   en\n",
              "18    {'$oid': '5ee1244dc51e2d8beb570729'}  ...  und\n",
              "29    {'$oid': '5ee1244dc51e2d8beb570734'}  ...   en\n",
              "34    {'$oid': '5ee1244dc51e2d8beb570739'}  ...   en\n",
              "...                                    ...  ...  ...\n",
              "9050  {'$oid': '5ee125dcc51e2d8beb572a71'}  ...   en\n",
              "9070  {'$oid': '5ee125dcc51e2d8beb572a85'}  ...  und\n",
              "9117  {'$oid': '5ee125e0c51e2d8beb572ab4'}  ...  und\n",
              "9140  {'$oid': '5ee125e0c51e2d8beb572acb'}  ...   ta\n",
              "9159  {'$oid': '5ee125e0c51e2d8beb572ade'}  ...  und\n",
              "\n",
              "[416 rows x 27 columns]"
            ]
          },
          "metadata": {
            "tags": []
          },
          "execution_count": 266
        }
      ]
    },
    {
      "cell_type": "code",
      "metadata": {
        "id": "S6ZQJ7TNXdT-",
        "colab_type": "code",
        "colab": {
          "base_uri": "https://localhost:8080/",
          "height": 1000
        },
        "outputId": "17f1c08b-f63c-4e8c-9e4f-9c9b2b9324cc"
      },
      "source": [
        "locations = []\n",
        "for i in df_B.index:\n",
        "  locations.append(df_B.loc[i,'user']['location'])\n",
        "  print(df_B.loc[i,'user']['location'])"
      ],
      "execution_count": 268,
      "outputs": [
        {
          "output_type": "stream",
          "text": [
            "\n",
            "Charlotte, NC\n",
            "Andhra Pradesh, India\n",
            "مصر\n",
            "Switzerland\n",
            "\n",
            "\n",
            "England UK \n",
            "Kailua-Kona, HI\n",
            "Currently on planet Earth\n",
            "Hubli, India\n",
            "Global\n",
            "Hardoi, India\n",
            "Venezuela\n",
            "Johannesburg, South Africa\n",
            "\n",
            "Orl\n",
            "Madurai\n",
            "Dubai, United Arab Emirates\n",
            "\n",
            "PNW\n",
            "செக்காணூரணி, மதுரை\n",
            "New Delhi\n",
            "13 SummerSt, Rivonia, Sandton \n",
            "Somewhere Quiet\n",
            "Tamil Nadu, India\n",
            "Eldoret\n",
            "Somewhere Nowhere\n",
            "Singapore\n",
            "United States\n",
            "Chidambaram\n",
            "Marion, North Carolina\n",
            "world\n",
            "PDX☔️{in}TheUK☔️{daydreaming}\n",
            "\n",
            "california,usa\n",
            "Tamil Nadu, India\n",
            "Denver, Colorado\n",
            "\n",
            "Ramanathapuram \n",
            "\n",
            "\n",
            "Nationwide\n",
            "\n",
            "\n",
            "New York, USA\n",
            "Coimbatore, India\n",
            "\n",
            "United States\n",
            "\n",
            "India\n",
            "\n",
            "\n",
            "Singapore\n",
            "Guwahati, India\n",
            "Singapore\n",
            "Coimbatore, Tamilnadu\n",
            "Lovely Earth\n",
            "chennai\n",
            "Nairobi, Kenya\n",
            "ছিপাঝাৰ \n",
            "\n",
            "\n",
            "\n",
            "\n",
            "Southern California\n",
            "Tamil Nadu, India\n",
            "தல( தமிழ்)நாடு\n",
            "contact@vindylee.com\n",
            "MikeBoneMedia.com\n",
            "India\n",
            "\n",
            "Nairobi, Kenya\n",
            "India\n",
            "\n",
            "தஞ்சாவூர்\n",
            "\n",
            "Johannesburg, South Africa\n",
            "India\n",
            "Chennai\n",
            "\n",
            "West Virginia,USA\n",
            "Maharashtra, India\n",
            "East Bum F!#@, CT\n",
            "Chicago, IL\n",
            "Chennai, India\n",
            "Salem, India\n",
            "Albuquerque, NM\n",
            "மதுரை TamilNadu \n",
            "HONG KONG\n",
            "Nairobi\n",
            "North Lakhimpur, India\n",
            "Assam, India\n",
            "Chennai, India\n",
            "\n",
            "Ludhiana, India\n",
            "\n",
            "Chengalpattu, India\n",
            "Assam, India\n",
            "Kanungu \n",
            "Indore.M.P\n",
            "Kinshasa \n",
            "Ranchi, India\n",
            "\n",
            "Zuirch\n",
            "#LuchaKliq\n",
            "Tamil Nadu, India\n",
            "Ghana\n",
            "Nagercoil\n",
            "Yogyakarta, Indonesia\n",
            "\n",
            "\n",
            "Tamil \n",
            "Dubai, United Arab Emirates\n",
            "Tamil Nadu, India\n",
            "CNP,dindigul dist.TAMIL NADU\n",
            "Guwahati, Assam.\n",
            "\n",
            "\n",
            "India\n",
            "Chennai\n",
            "தொண்டாமுத்தூர், கோவை \n",
            "Twickenham, UK\n",
            "Nairobi\n",
            "Tamil Nadu, India\n",
            "Chennai, India\n",
            "Chennai, India\n",
            "Thiruthuraipoondi, India\n",
            "India\n",
            "\n",
            "Putnam, CT\n",
            "Jammu, Jammu And Kashmir\n",
            "Chennai india\n",
            "\n",
            "Karnal, Haryana, India\n",
            "Legoland\n",
            "\n",
            "\n",
            "India\n",
            "\n",
            "तमिलनाडु, भारत\n",
            "Here\n",
            "Yogyakarta, Indonesia\n",
            "Montana, USA\n",
            "Doha, Qatar\n",
            "தமிழ், தமிழர், தமிழ்நாடு, ஃ\n",
            "Hyderabad, India\n",
            "Orissa, India\n",
            "North Carolina, USA\n",
            "\n",
            "Bharat\n",
            "Bharat\n",
            "\n",
            "\n",
            "Yavatmal, India\n",
            "கொங்கு மண்டலம் \n",
            "Mombasa, Kenya\n",
            "Mumbai\n",
            "TN 49\n",
            "chennai,india\n",
            "\n",
            "DINDIGUL\n",
            "Egmore Nungambakkam, India\n",
            "Chennai\n",
            "India\n",
            "Laxmi Nagar, New Delhi\n",
            "Error 404 \n",
            "Kenya\n",
            "Sivakasi, India\n",
            "\n",
            "\n",
            "New York, USA\n",
            "தாராபுரம் திருப்பூர் மாவட்டம் \n",
            "\n",
            "Ariyalur, India\n",
            "India\n",
            "Kenya\n",
            "\n",
            "\n",
            "\n",
            "\n",
            "\n",
            "Chennai \n",
            "\n",
            "\n",
            "Kiambu Road,Nairobi, Kenya\n",
            "New Delhi, Delhi\n",
            "IT IS KNOWN  💯🌺 \n",
            "Chennai, India\n",
            "राजस्थान\n",
            "أبوظبي, الامارات العربية المتح\n",
            "Mumbai, India\n",
            "Nairobi, Kenya\n",
            "\n",
            "Nairobi, Kenya\n",
            "\n",
            "🇮🇳\n",
            "\n",
            "\n",
            "Jodhpur\n",
            "\n",
            "Karatina, Kenya\n",
            "Karatina, Kenya\n",
            "NunYa biz,\n",
            "Doha, Qatar \n",
            "ஈரோடு, தமிழ்நாடு\n",
            "Kenya\n",
            "\n",
            "\n",
            "Nairobi kenya\n",
            "Patna, India\n",
            "Tamil Nadu, India\n",
            "\n",
            "On a rock floating in space\n",
            "Tamil Nadu, India\n",
            "Karatina, Kenya\n",
            "Bhopal\n",
            "\n",
            "Marysville, WA\n",
            "Karatina, Kenya\n",
            "Darbhanga, India\n",
            "\n",
            "\n",
            "Al Jahra, Kuwait\n",
            "\n",
            "\n",
            "France\n",
            "Nakuru\n",
            "Nairobi, Kenya\n",
            "TN45,சோழநாடு\n",
            "Burundi\n",
            "kanpur\n",
            "Kenya\n",
            "Rajasthan, India\n",
            "தஞ்சை\n",
            "Hyderabad, India\n",
            "\n",
            "\n",
            "India\n",
            "\n",
            "Gurgaon, India\n",
            "\n",
            "Nairobi, Kenya\n",
            "Santa Ana, CA\n",
            "\n",
            "Pune, India\n",
            "\n",
            "Pune, India\n",
            "\n",
            "\n",
            "Maldives \n",
            "Silverdale, WA\n",
            "London, England\n",
            "Mumbai, India\n",
            "\n",
            "\n",
            "Pune\n",
            "Pune\n",
            "Pune\n",
            "\n",
            "Pune\n",
            "Yuvi ka Dil ❤\n",
            "\n",
            "Bangalore\n",
            "Bangalore\n",
            "Bangalore\n",
            "India\n",
            "\n",
            "\n",
            "Melbourne\n",
            "Chennai/Bengaluru\n",
            "Chennai, India\n",
            "Tiruchirapalli, India\n",
            "India\n",
            "India\n",
            "AKHAND BHARAT🚩\n",
            "Pune\n",
            "Chennai, India\n",
            "Allagadda, India\n",
            "Indore, India\n",
            "\n",
            "chennai\n",
            "\n",
            "Faridabad, haryana\n",
            "\n",
            "\n",
            "Surat, India\n",
            "Pune\n",
            "India\n",
            "Calcutta, India\n",
            "Pune\n",
            "Patna, India\n",
            "India\n",
            "India\n",
            "Chennai, Tamilnadu\n",
            "India\n",
            "\n",
            "Varanasi\n",
            "New Delhi, India\n",
            "Jaipur, India\n",
            "Kalinjikuppam\n",
            "ஈரோடு & கோவை\n",
            "\n",
            "Chennai\n",
            "Patna, Bihar\n",
            "\n",
            "\n",
            "Chennai\n",
            "\n",
            "Chennai, India\n",
            "India , Indore , Sendhwa\n",
            "गुड़गांव, भारत\n",
            "Chennai, India\n",
            "Jewar, India\n",
            "New Delhi , Noida \n",
            "Uttar Pradesh, India\n",
            "\n",
            "AIFF Football House, New Delhi\n",
            "India Normally\n",
            "Bihar, India\n",
            "RATANGARH\n",
            "Bengaluru, India\n",
            "\n",
            "Calicut\n",
            "Kanyakumari, India\n",
            "India\n",
            "\n",
            "Bengaluru, India\n",
            "Bengaluru, India\n",
            "Chennai, India\n",
            "Unofficial assembly\n",
            "\n",
            "India\n",
            "\n",
            "\n",
            "\n",
            "\n",
            "ஈரோடு\n",
            "Tamil Nadu, India\n",
            "Delhi, India\n",
            "Hyderabad, India\n",
            "\n",
            "\n",
            "\n",
            "\n",
            "\n",
            "अजमेर, भारत\n",
            "Chennai, India\n",
            "Thirunelveli \n",
            "சிவகங்கை\n",
            "Chennai, India\n",
            "\n",
            "\n",
            "Bihar, India\n",
            "\n",
            "\n",
            "\n",
            "New Delhi, India\n",
            "\n",
            "Vaniyambadi,Tamizhnadu,India\n",
            "\n",
            "Jaipur, India\n",
            " Thiruthani,Thamizhnadu,India\n",
            "Auckland, New Zealand\n",
            "Thirupattur,Thamizhnadu,India\n",
            "\n",
            "\n",
            "Hardoi, India\n",
            "Rishikesh, India\n",
            "Neyveli Township\n",
            "India\n",
            "Chennai\n",
            "Noida (UP)\n",
            "Central Region, Singapore\n",
            "Chennai, India\n",
            "Tamil Nadu, India\n",
            "\n",
            "coimbatore\n",
            "India\n",
            "Vitry-sur-Seine\n",
            "செங்கோட்டை, லெமூரியா கண்டம்\n",
            "\n",
            "Pondicherry, India\n",
            "New Delhi, India\n",
            "Mansa punjab\n",
            "Tamil Nadu, India\n",
            "திருநெல்வேலி\n",
            "Indore, India\n",
            "\n",
            "\n",
            "Neelangarai, Chennai\n",
            "\n",
            "South Australia, Adelaide\n",
            "Neyveli Township\n",
            "Raipur, Chhattisgarh\n",
            "\n",
            "\n",
            "Kozhippara,Palakkad \n",
            "\n",
            "Chennai, India\n",
            "தமிழ்நாடு\n",
            "Mumbai, India\n",
            "காட்டாங்கொளத்தூர்\n",
            "\n",
            "Trichy\n",
            "தமிழ்நாடு\n",
            "Pattukkottai, Thanjavur\n",
            "Neyveli Township\n",
            "Indore,M.P\n",
            "Chennai, India\n",
            "Darbhanga, India\n",
            "\n",
            "Erode, India\n",
            "Coimbatore, India\n",
            "\n",
            "\n"
          ],
          "name": "stdout"
        }
      ]
    },
    {
      "cell_type": "code",
      "metadata": {
        "id": "5CDZvHdPX8qK",
        "colab_type": "code",
        "colab": {
          "base_uri": "https://localhost:8080/",
          "height": 1000
        },
        "outputId": "f5cdf268-94bb-41e0-9d37-ffc122510bf4"
      },
      "source": [
        "Counter(locations)"
      ],
      "execution_count": 276,
      "outputs": [
        {
          "output_type": "execute_result",
          "data": {
            "text/plain": [
              "Counter({'': 119,\n",
              "         ' Thiruthani,Thamizhnadu,India': 1,\n",
              "         '#LuchaKliq': 1,\n",
              "         '13 SummerSt, Rivonia, Sandton ': 1,\n",
              "         'AIFF Football House, New Delhi': 1,\n",
              "         'AKHAND BHARAT🚩': 1,\n",
              "         'Al Jahra, Kuwait': 1,\n",
              "         'Albuquerque, NM': 1,\n",
              "         'Allagadda, India': 1,\n",
              "         'Andhra Pradesh, India': 1,\n",
              "         'Ariyalur, India': 1,\n",
              "         'Assam, India': 2,\n",
              "         'Auckland, New Zealand': 1,\n",
              "         'Bangalore': 3,\n",
              "         'Bengaluru, India': 3,\n",
              "         'Bharat': 2,\n",
              "         'Bhopal': 1,\n",
              "         'Bihar, India': 2,\n",
              "         'Burundi': 1,\n",
              "         'CNP,dindigul dist.TAMIL NADU': 1,\n",
              "         'Calcutta, India': 1,\n",
              "         'Calicut': 1,\n",
              "         'Central Region, Singapore': 1,\n",
              "         'Charlotte, NC': 1,\n",
              "         'Chengalpattu, India': 1,\n",
              "         'Chennai': 6,\n",
              "         'Chennai ': 1,\n",
              "         'Chennai india': 1,\n",
              "         'Chennai, India': 15,\n",
              "         'Chennai, Tamilnadu': 1,\n",
              "         'Chennai/Bengaluru': 1,\n",
              "         'Chicago, IL': 1,\n",
              "         'Chidambaram': 1,\n",
              "         'Coimbatore, India': 2,\n",
              "         'Coimbatore, Tamilnadu': 1,\n",
              "         'Currently on planet Earth': 1,\n",
              "         'DINDIGUL': 1,\n",
              "         'Darbhanga, India': 2,\n",
              "         'Delhi, India': 1,\n",
              "         'Denver, Colorado': 1,\n",
              "         'Doha, Qatar': 1,\n",
              "         'Doha, Qatar ': 1,\n",
              "         'Dubai, United Arab Emirates': 2,\n",
              "         'East Bum F!#@, CT': 1,\n",
              "         'Egmore Nungambakkam, India': 1,\n",
              "         'Eldoret': 1,\n",
              "         'England UK ': 1,\n",
              "         'Erode, India': 1,\n",
              "         'Error 404 ': 1,\n",
              "         'Faridabad, haryana': 1,\n",
              "         'France': 1,\n",
              "         'Ghana': 1,\n",
              "         'Global': 1,\n",
              "         'Gurgaon, India': 1,\n",
              "         'Guwahati, Assam.': 1,\n",
              "         'Guwahati, India': 1,\n",
              "         'HONG KONG': 1,\n",
              "         'Hardoi, India': 2,\n",
              "         'Here': 1,\n",
              "         'Hubli, India': 1,\n",
              "         'Hyderabad, India': 3,\n",
              "         'IT IS KNOWN  💯🌺 ': 1,\n",
              "         'India': 21,\n",
              "         'India , Indore , Sendhwa': 1,\n",
              "         'India Normally': 1,\n",
              "         'Indore, India': 2,\n",
              "         'Indore,M.P': 1,\n",
              "         'Indore.M.P': 1,\n",
              "         'Jaipur, India': 2,\n",
              "         'Jammu, Jammu And Kashmir': 1,\n",
              "         'Jewar, India': 1,\n",
              "         'Jodhpur': 1,\n",
              "         'Johannesburg, South Africa': 2,\n",
              "         'Kailua-Kona, HI': 1,\n",
              "         'Kalinjikuppam': 1,\n",
              "         'Kanungu ': 1,\n",
              "         'Kanyakumari, India': 1,\n",
              "         'Karatina, Kenya': 4,\n",
              "         'Karnal, Haryana, India': 1,\n",
              "         'Kenya': 4,\n",
              "         'Kiambu Road,Nairobi, Kenya': 1,\n",
              "         'Kinshasa ': 1,\n",
              "         'Kozhippara,Palakkad ': 1,\n",
              "         'Laxmi Nagar, New Delhi': 1,\n",
              "         'Legoland': 1,\n",
              "         'London, England': 1,\n",
              "         'Lovely Earth': 1,\n",
              "         'Ludhiana, India': 1,\n",
              "         'Madurai': 1,\n",
              "         'Maharashtra, India': 1,\n",
              "         'Maldives ': 1,\n",
              "         'Mansa punjab': 1,\n",
              "         'Marion, North Carolina': 1,\n",
              "         'Marysville, WA': 1,\n",
              "         'Melbourne': 1,\n",
              "         'MikeBoneMedia.com': 1,\n",
              "         'Mombasa, Kenya': 1,\n",
              "         'Montana, USA': 1,\n",
              "         'Mumbai': 1,\n",
              "         'Mumbai, India': 3,\n",
              "         'Nagercoil': 1,\n",
              "         'Nairobi': 2,\n",
              "         'Nairobi kenya': 1,\n",
              "         'Nairobi, Kenya': 6,\n",
              "         'Nakuru': 1,\n",
              "         'Nationwide': 1,\n",
              "         'Neelangarai, Chennai': 1,\n",
              "         'New Delhi': 1,\n",
              "         'New Delhi , Noida ': 1,\n",
              "         'New Delhi, Delhi': 1,\n",
              "         'New Delhi, India': 3,\n",
              "         'New York, USA': 2,\n",
              "         'Neyveli Township': 3,\n",
              "         'Noida (UP)': 1,\n",
              "         'North Carolina, USA': 1,\n",
              "         'North Lakhimpur, India': 1,\n",
              "         'NunYa biz,': 1,\n",
              "         'On a rock floating in space': 1,\n",
              "         'Orissa, India': 1,\n",
              "         'Orl': 1,\n",
              "         'PDX☔️{in}TheUK☔️{daydreaming}': 1,\n",
              "         'PNW': 1,\n",
              "         'Patna, Bihar': 1,\n",
              "         'Patna, India': 2,\n",
              "         'Pattukkottai, Thanjavur': 1,\n",
              "         'Pondicherry, India': 1,\n",
              "         'Pune': 7,\n",
              "         'Pune, India': 2,\n",
              "         'Putnam, CT': 1,\n",
              "         'RATANGARH': 1,\n",
              "         'Raipur, Chhattisgarh': 1,\n",
              "         'Rajasthan, India': 1,\n",
              "         'Ramanathapuram ': 1,\n",
              "         'Ranchi, India': 1,\n",
              "         'Rishikesh, India': 1,\n",
              "         'Salem, India': 1,\n",
              "         'Santa Ana, CA': 1,\n",
              "         'Silverdale, WA': 1,\n",
              "         'Singapore': 3,\n",
              "         'Sivakasi, India': 1,\n",
              "         'Somewhere Nowhere': 1,\n",
              "         'Somewhere Quiet': 1,\n",
              "         'South Australia, Adelaide': 1,\n",
              "         'Southern California': 1,\n",
              "         'Surat, India': 1,\n",
              "         'Switzerland': 1,\n",
              "         'TN 49': 1,\n",
              "         'TN45,சோழநாடு': 1,\n",
              "         'Tamil ': 1,\n",
              "         'Tamil Nadu, India': 11,\n",
              "         'Thirunelveli ': 1,\n",
              "         'Thirupattur,Thamizhnadu,India': 1,\n",
              "         'Thiruthuraipoondi, India': 1,\n",
              "         'Tiruchirapalli, India': 1,\n",
              "         'Trichy': 1,\n",
              "         'Twickenham, UK': 1,\n",
              "         'United States': 2,\n",
              "         'Unofficial assembly': 1,\n",
              "         'Uttar Pradesh, India': 1,\n",
              "         'Vaniyambadi,Tamizhnadu,India': 1,\n",
              "         'Varanasi': 1,\n",
              "         'Venezuela': 1,\n",
              "         'Vitry-sur-Seine': 1,\n",
              "         'West Virginia,USA': 1,\n",
              "         'Yavatmal, India': 1,\n",
              "         'Yogyakarta, Indonesia': 2,\n",
              "         'Yuvi ka Dil ❤': 1,\n",
              "         'Zuirch': 1,\n",
              "         'california,usa': 1,\n",
              "         'chennai': 2,\n",
              "         'chennai,india': 1,\n",
              "         'coimbatore': 1,\n",
              "         'contact@vindylee.com': 1,\n",
              "         'kanpur': 1,\n",
              "         'world': 1,\n",
              "         'أبوظبي, الامارات العربية المتح': 1,\n",
              "         'مصر': 1,\n",
              "         'अजमेर, भारत': 1,\n",
              "         'गुड़गांव, भारत': 1,\n",
              "         'तमिलनाडु, भारत': 1,\n",
              "         'राजस्थान': 1,\n",
              "         'ছিপাঝাৰ ': 1,\n",
              "         'ஈரோடு': 1,\n",
              "         'ஈரோடு & கோவை': 1,\n",
              "         'ஈரோடு, தமிழ்நாடு': 1,\n",
              "         'காட்டாங்கொளத்தூர்': 1,\n",
              "         'கொங்கு மண்டலம் ': 1,\n",
              "         'சிவகங்கை': 1,\n",
              "         'செக்காணூரணி, மதுரை': 1,\n",
              "         'செங்கோட்டை, லெமூரியா கண்டம்': 1,\n",
              "         'தஞ்சாவூர்': 1,\n",
              "         'தஞ்சை': 1,\n",
              "         'தமிழ், தமிழர், தமிழ்நாடு, ஃ': 1,\n",
              "         'தமிழ்நாடு': 2,\n",
              "         'தல( தமிழ்)நாடு': 1,\n",
              "         'தாராபுரம் திருப்பூர் மாவட்டம் ': 1,\n",
              "         'திருநெல்வேலி': 1,\n",
              "         'தொண்டாமுத்தூர், கோவை ': 1,\n",
              "         'மதுரை TamilNadu ': 1,\n",
              "         '🇮🇳': 1})"
            ]
          },
          "metadata": {
            "tags": []
          },
          "execution_count": 276
        }
      ]
    },
    {
      "cell_type": "code",
      "metadata": {
        "id": "QCzJ7VdxYbic",
        "colab_type": "code",
        "colab": {}
      },
      "source": [
        ""
      ],
      "execution_count": 0,
      "outputs": []
    }
  ]
}