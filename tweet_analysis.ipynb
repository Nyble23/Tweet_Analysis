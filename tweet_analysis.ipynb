{
  "nbformat": 4,
  "nbformat_minor": 0,
  "metadata": {
    "colab": {
      "name": "tweet_analysis.ipynb",
      "provenance": [],
      "collapsed_sections": [
        "fIpLJWV6qdb4"
      ]
    },
    "kernelspec": {
      "name": "python3",
      "display_name": "Python 3"
    },
    "accelerator": "TPU"
  },
  "cells": [
    {
      "cell_type": "markdown",
      "metadata": {
        "id": "TSLNmfUrwLiC"
      },
      "source": [
        "**importing libraries**"
      ]
    },
    {
      "cell_type": "code",
      "metadata": {
        "id": "16XRYJ6ljYDC"
      },
      "source": [
        "#for handling emoticons\n",
        "!pip install emoji"
      ],
      "execution_count": null,
      "outputs": []
    },
    {
      "cell_type": "code",
      "metadata": {
        "id": "rlT7cqZVuLtB"
      },
      "source": [
        "pip install num2words"
      ],
      "execution_count": null,
      "outputs": []
    },
    {
      "cell_type": "code",
      "metadata": {
        "id": "LS5tmcvrLNaa"
      },
      "source": [
        "pip install vaderSentiment"
      ],
      "execution_count": null,
      "outputs": []
    },
    {
      "cell_type": "code",
      "metadata": {
        "id": "ptKjt4GM5lGb"
      },
      "source": [
        "pip install pyLDAvis"
      ],
      "execution_count": null,
      "outputs": []
    },
    {
      "cell_type": "code",
      "metadata": {
        "id": "p3pRVsL9wJ0l"
      },
      "source": [
        "import json\n",
        "import csv\n",
        "from collections import defaultdict\n",
        "from collections import Counter\n",
        "import numpy as np\n",
        "import re\n",
        "from num2words import num2words\n",
        "import nltk\n",
        "import pandas as pd\n",
        "\n",
        "#for topic modelling\n",
        "import gensim\n",
        "from gensim import models\n",
        "from gensim import corpora\n",
        "from gensim.models import CoherenceModel\n",
        "\n",
        "#for plotting\n",
        "import seaborn as sns\n",
        "import matplotlib.pyplot as plt\n",
        "\n",
        "import pyLDAvis\n",
        "import pyLDAvis.gensim  \n",
        "%matplotlib inline\n",
        "\n",
        "#for handling emoticons\n",
        "import emoji\n",
        "\n",
        "#for sentiment analysis\n",
        "from vaderSentiment.vaderSentiment import SentimentIntensityAnalyzer "
      ],
      "execution_count": null,
      "outputs": []
    },
    {
      "cell_type": "markdown",
      "metadata": {
        "id": "blmbpKRmwQhX"
      },
      "source": [
        "**Loading data**"
      ]
    },
    {
      "cell_type": "code",
      "metadata": {
        "id": "k3A1FNx9kgef"
      },
      "source": [
        "with open('/content/drive/My Drive/Yuvi_RIP.json') as tweets:\n",
        "  tweet_data = json.load(tweets)"
      ],
      "execution_count": null,
      "outputs": []
    },
    {
      "cell_type": "code",
      "metadata": {
        "id": "6fayaUVZh2eV"
      },
      "source": [
        "tweet_data_frame = pd.DataFrame.from_dict(tweet_data)"
      ],
      "execution_count": null,
      "outputs": []
    },
    {
      "cell_type": "code",
      "metadata": {
        "id": "y7hcbUS3iUus",
        "colab": {
          "base_uri": "https://localhost:8080/",
          "height": 34
        },
        "outputId": "ef51b5a9-a663-4432-823e-c9e3ccf9d56f"
      },
      "source": [
        "tweet_data_frame.shape"
      ],
      "execution_count": null,
      "outputs": [
        {
          "output_type": "execute_result",
          "data": {
            "text/plain": [
              "(9189, 27)"
            ]
          },
          "metadata": {
            "tags": []
          },
          "execution_count": 9
        }
      ]
    },
    {
      "cell_type": "markdown",
      "metadata": {
        "id": "KFBAgFv5a_KT"
      },
      "source": [
        "**Exploratory Data Analysis**"
      ]
    },
    {
      "cell_type": "code",
      "metadata": {
        "id": "PC54kQRBkEf_",
        "colab": {
          "base_uri": "https://localhost:8080/",
          "height": 153
        },
        "outputId": "7fbe1c61-0607-4613-fb07-b75e60133610"
      },
      "source": [
        "tweet_data_frame.columns"
      ],
      "execution_count": null,
      "outputs": [
        {
          "output_type": "execute_result",
          "data": {
            "text/plain": [
              "Index(['_id', 'created_at', 'id', 'id_str', 'full_text', 'truncated',\n",
              "       'display_text_range', 'entities', 'metadata', 'source',\n",
              "       'in_reply_to_status_id', 'in_reply_to_status_id_str',\n",
              "       'in_reply_to_user_id', 'in_reply_to_user_id_str',\n",
              "       'in_reply_to_screen_name', 'user', 'geo', 'coordinates', 'place',\n",
              "       'contributors', 'retweeted_status', 'is_quote_status', 'retweet_count',\n",
              "       'favorite_count', 'favorited', 'retweeted', 'lang'],\n",
              "      dtype='object')"
            ]
          },
          "metadata": {
            "tags": []
          },
          "execution_count": 10
        }
      ]
    },
    {
      "cell_type": "code",
      "metadata": {
        "id": "a782jq1diBNf",
        "colab": {
          "base_uri": "https://localhost:8080/",
          "height": 462
        },
        "outputId": "7c6e81e2-c60d-4021-ed86-4161bdcbc728"
      },
      "source": [
        "tweet_data_frame.head()"
      ],
      "execution_count": null,
      "outputs": [
        {
          "output_type": "execute_result",
          "data": {
            "text/html": [
              "<div>\n",
              "<style scoped>\n",
              "    .dataframe tbody tr th:only-of-type {\n",
              "        vertical-align: middle;\n",
              "    }\n",
              "\n",
              "    .dataframe tbody tr th {\n",
              "        vertical-align: top;\n",
              "    }\n",
              "\n",
              "    .dataframe thead th {\n",
              "        text-align: right;\n",
              "    }\n",
              "</style>\n",
              "<table border=\"1\" class=\"dataframe\">\n",
              "  <thead>\n",
              "    <tr style=\"text-align: right;\">\n",
              "      <th></th>\n",
              "      <th>_id</th>\n",
              "      <th>created_at</th>\n",
              "      <th>id</th>\n",
              "      <th>id_str</th>\n",
              "      <th>full_text</th>\n",
              "      <th>truncated</th>\n",
              "      <th>display_text_range</th>\n",
              "      <th>entities</th>\n",
              "      <th>metadata</th>\n",
              "      <th>source</th>\n",
              "      <th>in_reply_to_status_id</th>\n",
              "      <th>in_reply_to_status_id_str</th>\n",
              "      <th>in_reply_to_user_id</th>\n",
              "      <th>in_reply_to_user_id_str</th>\n",
              "      <th>in_reply_to_screen_name</th>\n",
              "      <th>user</th>\n",
              "      <th>geo</th>\n",
              "      <th>coordinates</th>\n",
              "      <th>place</th>\n",
              "      <th>contributors</th>\n",
              "      <th>retweeted_status</th>\n",
              "      <th>is_quote_status</th>\n",
              "      <th>retweet_count</th>\n",
              "      <th>favorite_count</th>\n",
              "      <th>favorited</th>\n",
              "      <th>retweeted</th>\n",
              "      <th>lang</th>\n",
              "    </tr>\n",
              "  </thead>\n",
              "  <tbody>\n",
              "    <tr>\n",
              "      <th>0</th>\n",
              "      <td>{'$oid': '5ee1244dc51e2d8beb570717'}</td>\n",
              "      <td>Wed Jun 10 18:19:05 +0000 2020</td>\n",
              "      <td>1270782555357212700</td>\n",
              "      <td>1270782555357212672</td>\n",
              "      <td>RT @PTTVOnlineNews: திமுக எம்எல்ஏ ஜெ.அன்பழகன் ...</td>\n",
              "      <td>False</td>\n",
              "      <td>[0, 140]</td>\n",
              "      <td>{'hashtags': [{'text': 'JAnbazhagan', 'indices...</td>\n",
              "      <td>{'iso_language_code': 'ta', 'result_type': 're...</td>\n",
              "      <td>&lt;a href=\"https://mobile.twitter.com\" rel=\"nofo...</td>\n",
              "      <td>NaN</td>\n",
              "      <td>None</td>\n",
              "      <td>NaN</td>\n",
              "      <td>None</td>\n",
              "      <td>None</td>\n",
              "      <td>{'id': 1146440916527243300, 'id_str': '1146440...</td>\n",
              "      <td>None</td>\n",
              "      <td>None</td>\n",
              "      <td>None</td>\n",
              "      <td>None</td>\n",
              "      <td>{'created_at': 'Wed Jun 10 06:32:16 +0000 2020...</td>\n",
              "      <td>False</td>\n",
              "      <td>90</td>\n",
              "      <td>0</td>\n",
              "      <td>False</td>\n",
              "      <td>False</td>\n",
              "      <td>ta</td>\n",
              "    </tr>\n",
              "    <tr>\n",
              "      <th>1</th>\n",
              "      <td>{'$oid': '5ee1244dc51e2d8beb570718'}</td>\n",
              "      <td>Wed Jun 10 18:18:55 +0000 2020</td>\n",
              "      <td>1270782513577963500</td>\n",
              "      <td>1270782513577963525</td>\n",
              "      <td>RT @ShikharDhawan85: @WasimJaffer14 @virenders...</td>\n",
              "      <td>False</td>\n",
              "      <td>[0, 107]</td>\n",
              "      <td>{'hashtags': [{'text': 'TeamIndia', 'indices':...</td>\n",
              "      <td>{'iso_language_code': 'en', 'result_type': 're...</td>\n",
              "      <td>&lt;a href=\"https://mobile.twitter.com\" rel=\"nofo...</td>\n",
              "      <td>NaN</td>\n",
              "      <td>None</td>\n",
              "      <td>NaN</td>\n",
              "      <td>None</td>\n",
              "      <td>None</td>\n",
              "      <td>{'id': 2939301529, 'id_str': '2939301529', 'na...</td>\n",
              "      <td>None</td>\n",
              "      <td>None</td>\n",
              "      <td>None</td>\n",
              "      <td>None</td>\n",
              "      <td>{'created_at': 'Wed Jun 10 12:10:56 +0000 2020...</td>\n",
              "      <td>False</td>\n",
              "      <td>1</td>\n",
              "      <td>0</td>\n",
              "      <td>False</td>\n",
              "      <td>False</td>\n",
              "      <td>en</td>\n",
              "    </tr>\n",
              "    <tr>\n",
              "      <th>2</th>\n",
              "      <td>{'$oid': '5ee1244dc51e2d8beb570719'}</td>\n",
              "      <td>Wed Jun 10 18:18:43 +0000 2020</td>\n",
              "      <td>1270782461304164400</td>\n",
              "      <td>1270782461304164352</td>\n",
              "      <td>RT @TheCricketWire: #OnThisDay last year, Yuvr...</td>\n",
              "      <td>False</td>\n",
              "      <td>[0, 140]</td>\n",
              "      <td>{'hashtags': [{'text': 'OnThisDay', 'indices':...</td>\n",
              "      <td>{'iso_language_code': 'en', 'result_type': 're...</td>\n",
              "      <td>&lt;a href=\"http://twitter.com/download/android\" ...</td>\n",
              "      <td>NaN</td>\n",
              "      <td>None</td>\n",
              "      <td>NaN</td>\n",
              "      <td>None</td>\n",
              "      <td>None</td>\n",
              "      <td>{'id': 1256605147355988000, 'id_str': '1256605...</td>\n",
              "      <td>None</td>\n",
              "      <td>None</td>\n",
              "      <td>None</td>\n",
              "      <td>None</td>\n",
              "      <td>{'created_at': 'Wed Jun 10 10:26:06 +0000 2020...</td>\n",
              "      <td>False</td>\n",
              "      <td>36</td>\n",
              "      <td>0</td>\n",
              "      <td>False</td>\n",
              "      <td>False</td>\n",
              "      <td>en</td>\n",
              "    </tr>\n",
              "    <tr>\n",
              "      <th>3</th>\n",
              "      <td>{'$oid': '5ee1244dc51e2d8beb57071a'}</td>\n",
              "      <td>Wed Jun 10 18:18:41 +0000 2020</td>\n",
              "      <td>1270782454454837200</td>\n",
              "      <td>1270782454454837248</td>\n",
              "      <td>RT @Sra1karne: We are at 5th place in Trending...</td>\n",
              "      <td>False</td>\n",
              "      <td>[0, 140]</td>\n",
              "      <td>{'hashtags': [], 'symbols': [], 'user_mentions...</td>\n",
              "      <td>{'iso_language_code': 'en', 'result_type': 're...</td>\n",
              "      <td>&lt;a href=\"http://twitter.com/download/android\" ...</td>\n",
              "      <td>NaN</td>\n",
              "      <td>None</td>\n",
              "      <td>NaN</td>\n",
              "      <td>None</td>\n",
              "      <td>None</td>\n",
              "      <td>{'id': 464766558, 'id_str': '464766558', 'name...</td>\n",
              "      <td>None</td>\n",
              "      <td>None</td>\n",
              "      <td>None</td>\n",
              "      <td>None</td>\n",
              "      <td>{'created_at': 'Wed Jun 10 06:25:26 +0000 2020...</td>\n",
              "      <td>False</td>\n",
              "      <td>4</td>\n",
              "      <td>0</td>\n",
              "      <td>False</td>\n",
              "      <td>False</td>\n",
              "      <td>en</td>\n",
              "    </tr>\n",
              "    <tr>\n",
              "      <th>4</th>\n",
              "      <td>{'$oid': '5ee1244dc51e2d8beb57071b'}</td>\n",
              "      <td>Wed Jun 10 18:18:34 +0000 2020</td>\n",
              "      <td>1270782423538647000</td>\n",
              "      <td>1270782423538647040</td>\n",
              "      <td>RT @fadnavis_amruta: He was out on streets of ...</td>\n",
              "      <td>False</td>\n",
              "      <td>[0, 144]</td>\n",
              "      <td>{'hashtags': [{'text': 'Dharavi', 'indices': [...</td>\n",
              "      <td>{'iso_language_code': 'en', 'result_type': 're...</td>\n",
              "      <td>&lt;a href=\"https://mobile.twitter.com\" rel=\"nofo...</td>\n",
              "      <td>NaN</td>\n",
              "      <td>None</td>\n",
              "      <td>NaN</td>\n",
              "      <td>None</td>\n",
              "      <td>None</td>\n",
              "      <td>{'id': 1850478770, 'id_str': '1850478770', 'na...</td>\n",
              "      <td>None</td>\n",
              "      <td>None</td>\n",
              "      <td>None</td>\n",
              "      <td>None</td>\n",
              "      <td>{'created_at': 'Wed Jun 10 08:00:34 +0000 2020...</td>\n",
              "      <td>False</td>\n",
              "      <td>269</td>\n",
              "      <td>0</td>\n",
              "      <td>False</td>\n",
              "      <td>False</td>\n",
              "      <td>en</td>\n",
              "    </tr>\n",
              "  </tbody>\n",
              "</table>\n",
              "</div>"
            ],
            "text/plain": [
              "                                    _id  ... lang\n",
              "0  {'$oid': '5ee1244dc51e2d8beb570717'}  ...   ta\n",
              "1  {'$oid': '5ee1244dc51e2d8beb570718'}  ...   en\n",
              "2  {'$oid': '5ee1244dc51e2d8beb570719'}  ...   en\n",
              "3  {'$oid': '5ee1244dc51e2d8beb57071a'}  ...   en\n",
              "4  {'$oid': '5ee1244dc51e2d8beb57071b'}  ...   en\n",
              "\n",
              "[5 rows x 27 columns]"
            ]
          },
          "metadata": {
            "tags": []
          },
          "execution_count": 11
        }
      ]
    },
    {
      "cell_type": "markdown",
      "metadata": {
        "id": "A2HAtI_kbZgi"
      },
      "source": [
        "There were a total 9189 tweets and each tweet had 27 attributes."
      ]
    },
    {
      "cell_type": "markdown",
      "metadata": {
        "id": "XjQXkUJdmhfl"
      },
      "source": [
        "**Separating the tweets into different classes**"
      ]
    },
    {
      "cell_type": "markdown",
      "metadata": {
        "id": "IYaWPzV-bruF"
      },
      "source": [
        "The tweets were separated based on the hashtags.\n",
        "\n",
        "* Class A ⇒ #MissYouYuvi only\n",
        "* Class B ⇒ #RestInPeace only\n",
        "* Class C ⇒ both #MissYouYuvi and #RestInPeace"
      ]
    },
    {
      "cell_type": "code",
      "metadata": {
        "id": "_S5Ziq9g2p2E"
      },
      "source": [
        "df_A = pd.DataFrame()                       #dataframe that stores tweets of class A\n",
        "df_B = pd.DataFrame()                       #dataframe that stores tweets of class B\n",
        "df_C = pd.DataFrame()                       #dataframe that stores tweets of class C\n",
        "\n",
        "\n",
        "for i in range(len(tweet_data_frame)):\n",
        "  text = tweet_data_frame.loc[i,'full_text']\n",
        "\n",
        "  if(\"#MissYouYuvi\" in text and \"#RestInPeace\" not in text):\n",
        "    df_A = df_A.append(tweet_data_frame.loc[[i]])\n",
        "  elif(\"#RestInPeace\" in text and \"#MissYouYuvi\" not in text):\n",
        "    df_B = df_B.append(tweet_data_frame.loc[[i]])\n",
        "  elif(\"#RestInPeace\" in text and \"#MissYouYuvi\" in text):\n",
        "    df_C = df_C.append(tweet_data_frame.loc[[i]])"
      ],
      "execution_count": null,
      "outputs": []
    },
    {
      "cell_type": "markdown",
      "metadata": {
        "id": "fIpLJWV6qdb4"
      },
      "source": [
        "####**Analysing the data fetched**"
      ]
    },
    {
      "cell_type": "code",
      "metadata": {
        "id": "ZpfNQnVzoZ4P",
        "colab": {
          "base_uri": "https://localhost:8080/"
        },
        "outputId": "800338ef-6fc7-4daf-f760-676412fde43f"
      },
      "source": [
        "print(\"Size of class A = \",len(df_A.index))\n",
        "print(\"Size of class B = \",len(df_B.index))\n",
        "print(\"Size of class C = \",len(df_C.index))"
      ],
      "execution_count": null,
      "outputs": [
        {
          "output_type": "stream",
          "text": [
            "Size of class A =  5665\n",
            "Size of class B =  416\n",
            "Size of class C =  269\n"
          ],
          "name": "stdout"
        }
      ]
    },
    {
      "cell_type": "code",
      "metadata": {
        "id": "nENRjMpItyQk",
        "colab": {
          "base_uri": "https://localhost:8080/"
        },
        "outputId": "46314aab-7371-4531-ed61-1c6c8abdf7b4"
      },
      "source": [
        "class_name = ['A','B','C']\n",
        "count = [len(df_A.index),len(df_B.index),len(df_C.index)]\n",
        "\n",
        "index = np.arange(len(class_name))\n",
        "\n",
        "sns.barplot(x=class_name, y=count, linewidth=2.5, errcolor=\".2\", edgecolor=\".2\")\n",
        "plt.xlabel('Class', fontsize=15)\n",
        "plt.ylabel('Number of data', fontsize=15)\n",
        "plt.xticks(index, class_name, fontsize=15)\n",
        "plt.title('Class distribution')\n",
        "plt.show()"
      ],
      "execution_count": null,
      "outputs": [
        {
          "output_type": "display_data",
          "data": {
            "image/png": "[encoded data removed]",
            "text/plain": [
              "<Figure size 432x288 with 1 Axes>"
            ]
          },
          "metadata": {
            "tags": [],
            "needs_background": "light"
          }
        }
      ]
    },
    {
      "cell_type": "markdown",
      "metadata": {
        "id": "NDB_9r6e5sgr"
      },
      "source": [
        "**Number of users in each class**"
      ]
    },
    {
      "cell_type": "markdown",
      "metadata": {
        "id": "wY83MRtEcHqf"
      },
      "source": [
        "Information about the number of unique users was taken from the ‘user’ attribute of the tweet. This attribute consists of a dictionary, where ‘id_str’ gives the twitter user’s\n",
        "unique id. Following are the results for each class:"
      ]
    },
    {
      "cell_type": "markdown",
      "metadata": {
        "id": "bZqPQSo28h8T"
      },
      "source": [
        "*Class A*"
      ]
    },
    {
      "cell_type": "code",
      "metadata": {
        "id": "xdRwm6W95Hvd"
      },
      "source": [
        "users_A = []\n",
        "\n",
        "for i in df_A.index:\n",
        "  users_A.append(df_A.loc[i,'user']['id_str'])"
      ],
      "execution_count": null,
      "outputs": []
    },
    {
      "cell_type": "code",
      "metadata": {
        "id": "3Bpq74px7aNS",
        "colab": {
          "base_uri": "https://localhost:8080/"
        },
        "outputId": "1ba9c90a-a873-4080-d725-b4d119d3237f"
      },
      "source": [
        "print(\"Tweets for class A: \", len(users_A))\n",
        "print(\"Number of users tweeting for class A :\", len(set(users_A)))"
      ],
      "execution_count": null,
      "outputs": [
        {
          "output_type": "stream",
          "text": [
            "Tweets for class A:  5665\n",
            "Number of users tweeting for class A : 1617\n"
          ],
          "name": "stdout"
        }
      ]
    },
    {
      "cell_type": "markdown",
      "metadata": {
        "id": "uOXizDyk8_SG"
      },
      "source": [
        "*Class B*"
      ]
    },
    {
      "cell_type": "code",
      "metadata": {
        "id": "8Cw0WIG18_Er"
      },
      "source": [
        "users_B = []\n",
        "\n",
        "for i in df_B.index:\n",
        "  users_B.append(df_B.loc[i,'user']['id_str'])"
      ],
      "execution_count": null,
      "outputs": []
    },
    {
      "cell_type": "code",
      "metadata": {
        "id": "enAmAZ6r9GXK",
        "colab": {
          "base_uri": "https://localhost:8080/"
        },
        "outputId": "e6996034-ca84-452a-a660-43d633700eee"
      },
      "source": [
        "print(\"Tweets for class B: \", len(users_B))\n",
        "print(\"Number of users tweeting for class B :\", len(set(users_B)))"
      ],
      "execution_count": null,
      "outputs": [
        {
          "output_type": "stream",
          "text": [
            "Tweets for class B:  416\n",
            "Number of users tweeting for class B : 381\n"
          ],
          "name": "stdout"
        }
      ]
    },
    {
      "cell_type": "markdown",
      "metadata": {
        "id": "XcT8zMhK9KkW"
      },
      "source": [
        "*Class C*"
      ]
    },
    {
      "cell_type": "code",
      "metadata": {
        "id": "kfhhTq5K9Ond"
      },
      "source": [
        "users_C = []\n",
        "\n",
        "for i in df_C.index:\n",
        "  users_C.append(df_C.loc[i,'user']['id_str'])"
      ],
      "execution_count": null,
      "outputs": []
    },
    {
      "cell_type": "code",
      "metadata": {
        "id": "8vGrrYkW9KKo",
        "colab": {
          "base_uri": "https://localhost:8080/"
        },
        "outputId": "df3b05fa-721e-4b62-8c17-a77b917df613"
      },
      "source": [
        "print(\"Tweets for class C: \", len(users_C))\n",
        "print(\"Number of users tweeting for class C :\", len(set(users_C)))"
      ],
      "execution_count": null,
      "outputs": [
        {
          "output_type": "stream",
          "text": [
            "Tweets for class C:  269\n",
            "Number of users tweeting for class C : 197\n"
          ],
          "name": "stdout"
        }
      ]
    },
    {
      "cell_type": "markdown",
      "metadata": {
        "id": "9aIHE42y9WL-"
      },
      "source": [
        "**Number of verified users in each class**"
      ]
    },
    {
      "cell_type": "markdown",
      "metadata": {
        "id": "1d2TIyxbcQXY"
      },
      "source": [
        "Information about the number of verified users was taken from the ‘user’ attribute of the tweet. This attribute consists of a dictionary, where ‘verified’ gives the twitter user’s verification status. Following are the results for each class:"
      ]
    },
    {
      "cell_type": "code",
      "metadata": {
        "id": "ZwoQyfwj9hpf",
        "colab": {
          "base_uri": "https://localhost:8080/"
        },
        "outputId": "9558b520-7612-4340-9389-068b110e5d7d"
      },
      "source": [
        "count_A = 0\n",
        "\n",
        "for i in df_A.index:\n",
        "  if(df_A.loc[i,'user']['verified'] == True):\n",
        "    count_A +=1\n",
        "\n",
        "print(\"Number of verified users in class A = \", count_A)\n",
        "print(\"Number of non-verified users in class A = \",len(set(users_A))-count_A)"
      ],
      "execution_count": null,
      "outputs": [
        {
          "output_type": "stream",
          "text": [
            "Number of verified users in class A =  34\n",
            "Number of non-verified users in class A =  1583\n"
          ],
          "name": "stdout"
        }
      ]
    },
    {
      "cell_type": "markdown",
      "metadata": {
        "id": "A-rYxM7X9zq0"
      },
      "source": [
        "*Class B*"
      ]
    },
    {
      "cell_type": "code",
      "metadata": {
        "id": "OaAgYPIf9yQq",
        "colab": {
          "base_uri": "https://localhost:8080/"
        },
        "outputId": "39806134-5cdd-47c6-9c56-9f886896fe1e"
      },
      "source": [
        "count_B = 0\n",
        "\n",
        "for i in df_B.index:\n",
        "  if(df_B.loc[i,'user']['verified'] == True):\n",
        "    count_B +=1\n",
        "\n",
        "print(\"Number of verified users in class B = \", count_B)\n",
        "print(\"Number of non-verified users in class B = \",len(set(users_B))-count_B)"
      ],
      "execution_count": null,
      "outputs": [
        {
          "output_type": "stream",
          "text": [
            "Number of verified users in class B =  6\n",
            "Number of non-verified users in class B =  375\n"
          ],
          "name": "stdout"
        }
      ]
    },
    {
      "cell_type": "markdown",
      "metadata": {
        "id": "5d8KKdoW9-ep"
      },
      "source": [
        "*Class C*"
      ]
    },
    {
      "cell_type": "code",
      "metadata": {
        "id": "b_hFYbZA9zBr",
        "colab": {
          "base_uri": "https://localhost:8080/"
        },
        "outputId": "359e6832-8502-4f16-ad77-38df98ff55cc"
      },
      "source": [
        "count_C = 0\n",
        "\n",
        "for i in df_C.index:\n",
        "  if(df_C.loc[i,'user']['verified'] == True):\n",
        "    count_C +=1\n",
        "\n",
        "print(\"Number of verified users in class C = \", count_C)\n",
        "print(\"Number of non-verified users in class C = \",len(set(users_C))-count_C)"
      ],
      "execution_count": null,
      "outputs": [
        {
          "output_type": "stream",
          "text": [
            "Number of verified users in class C =  0\n",
            "Number of non-verified users in class C =  197\n"
          ],
          "name": "stdout"
        }
      ]
    },
    {
      "cell_type": "markdown",
      "metadata": {
        "id": "MSKCc74U_Q2y"
      },
      "source": [
        "**Number of hashtags vs timeline**"
      ]
    },
    {
      "cell_type": "markdown",
      "metadata": {
        "id": "lO-IfBqTcZX5"
      },
      "source": [
        "Since all the tweets belonged to the same date, so the time of the day was fetched and plotted against the number of hashtags.\n",
        "\n",
        "_One can also plot a time-series of the hash-tag usage with x-axis as the date and y-axis as count of hashtag use on that day for the 3 classes_"
      ]
    },
    {
      "cell_type": "code",
      "metadata": {
        "id": "Yxk56WsGXMGt"
      },
      "source": [
        "time_A = defaultdict(lambda:0)\n",
        "\n",
        "for i in df_A.index:\n",
        "  date_time = df_A.loc[i,'created_at']\n",
        "  time = date_time.split('Wed Jun 10')[1].strip()\n",
        "  hour = time.split(\":\")[0]\n",
        "  time_A[hour] +=1"
      ],
      "execution_count": null,
      "outputs": []
    },
    {
      "cell_type": "code",
      "metadata": {
        "id": "br-LUUqkZa_E",
        "colab": {
          "base_uri": "https://localhost:8080/"
        },
        "outputId": "db61289c-33e3-407e-8177-466a9af154bf"
      },
      "source": [
        "plt.plot(list(time_A.keys()), list(time_A.values()))\n",
        "plt.xlabel('Time of the day on Wed Jun 10 ') \n",
        "plt.ylabel('Number of hashtags')\n",
        "plt.title(\"Usage of hash-tags of class A\")\n",
        "plt.show()"
      ],
      "execution_count": null,
      "outputs": [
        {
          "output_type": "display_data",
          "data": {
            "image/png": "[encoded data removed]",
            "text/plain": [
              "<Figure size 432x288 with 1 Axes>"
            ]
          },
          "metadata": {
            "tags": [],
            "needs_background": "light"
          }
        }
      ]
    },
    {
      "cell_type": "code",
      "metadata": {
        "id": "M_adyfQn_VpF"
      },
      "source": [
        "time_B = defaultdict(lambda:0)\n",
        "\n",
        "for i in df_B.index:\n",
        "  date_time = df_B.loc[i,'created_at']\n",
        "  time = date_time.split('Wed Jun 10')[1].strip()\n",
        "  hour = time.split(\":\")[0]\n",
        "  time_B[hour] +=1"
      ],
      "execution_count": null,
      "outputs": []
    },
    {
      "cell_type": "code",
      "metadata": {
        "id": "XgRpnqBxZZA0",
        "colab": {
          "base_uri": "https://localhost:8080/"
        },
        "outputId": "70af9e0c-7521-45d1-92a6-a47dd8d313e7"
      },
      "source": [
        "plt.plot(list(time_B.keys()), list(time_B.values()))\n",
        "plt.xlabel('Time of the day on Wed Jun 10 ') \n",
        "plt.ylabel('Number of hashtags')\n",
        "plt.title(\"Usage of hash-tags of class B\")\n",
        "plt.show()"
      ],
      "execution_count": null,
      "outputs": [
        {
          "output_type": "display_data",
          "data": {
            "image/png": "[encoded data removed]",
            "text/plain": [
              "<Figure size 432x288 with 1 Axes>"
            ]
          },
          "metadata": {
            "tags": [],
            "needs_background": "light"
          }
        }
      ]
    },
    {
      "cell_type": "code",
      "metadata": {
        "id": "-VIluFvtYZDg"
      },
      "source": [
        "time_C = defaultdict(lambda:0)\n",
        "\n",
        "for i in df_C.index:\n",
        "  date_time = df_C.loc[i,'created_at']\n",
        "  time = date_time.split('Wed Jun 10')[1].strip()\n",
        "  hour = time.split(\":\")[0]\n",
        "  time_C[hour] +=1"
      ],
      "execution_count": null,
      "outputs": []
    },
    {
      "cell_type": "code",
      "metadata": {
        "id": "p7X8HBj9ZDto",
        "colab": {
          "base_uri": "https://localhost:8080/"
        },
        "outputId": "4519202a-f0e8-4a83-8f19-bb17d5b1fac6"
      },
      "source": [
        "plt.plot(list(time_C.keys()), list(time_C.values()))\n",
        "plt.xlabel('Time of the day on Wed Jun 10 ') \n",
        "plt.ylabel('Number of hashtags')\n",
        "plt.title(\"Usage of hash-tags of class C\")\n",
        "plt.show()"
      ],
      "execution_count": null,
      "outputs": [
        {
          "output_type": "display_data",
          "data": {
            "image/png": "[encoded data removed]",
            "text/plain": [
              "<Figure size 432x288 with 1 Axes>"
            ]
          },
          "metadata": {
            "tags": [],
            "needs_background": "light"
          }
        }
      ]
    },
    {
      "cell_type": "code",
      "metadata": {
        "id": "WTTTacGhlZvt",
        "colab": {
          "base_uri": "https://localhost:8080/"
        },
        "outputId": "5e458f05-6515-4003-bcda-a6960462e4aa"
      },
      "source": [
        "f, axs = plt.subplots(3,2,figsize=(10,10))\n",
        "\n",
        "plt.subplot(311)\n",
        "plt.plot(list(time_A.keys()), list(time_A.values()))\n",
        "plt.ylabel(\"No of #MissYouYuvi only\")\n",
        "plt.xlabel(\"Time of the day on Wed Jun 10 \")\n",
        "\n",
        "plt.subplot(312)\n",
        "plt.plot(list(time_B.keys()), list(time_B.values()))\n",
        "plt.ylabel(\"No of #RestInPeace only\")\n",
        "plt.xlabel(\"Time of the day on Wed Jun 10\")\n",
        "\n",
        "plt.subplot(313)\n",
        "plt.plot(list(time_C.keys()), list(time_C.values()))\n",
        "plt.ylabel(\"No of #RestInPeace and #MissYouYuvi\")\n",
        "plt.xlabel(\"Time of the day on Wed Jun 10\")\n",
        "\n",
        "f.subplots_adjust(hspace=0.4)\n",
        "plt.show()"
      ],
      "execution_count": null,
      "outputs": [
        {
          "output_type": "display_data",
          "data": {
            "image/png": "[encoded data removed]",
            "text/plain": [
              "<Figure size 720x720 with 3 Axes>"
            ]
          },
          "metadata": {
            "tags": [],
            "needs_background": "light"
          }
        }
      ]
    },
    {
      "cell_type": "code",
      "metadata": {
        "id": "O4vMeyRvaYAa",
        "colab": {
          "base_uri": "https://localhost:8080/"
        },
        "outputId": "04aeaef2-7481-48ce-d12b-3e41018dd519"
      },
      "source": [
        "plt.figure(figsize=(8,6))\n",
        "\n",
        "plt.plot(list(time_A.keys()), list(time_A.values()), label = \"#MissYouYuvi only\")  \n",
        "plt.plot(list(time_B.keys()), list(time_B.values()), label = \"#RestInPeace only\")  \n",
        "plt.plot(list(time_C.keys()), list(time_C.values()), label = \"#RestInPeace and #MissYouYuvi\")  \n",
        "  \n",
        "plt.xlabel('Time of the day on Wed Jun 10 ') \n",
        "\n",
        "plt.ylabel('Number of hashtags') \n",
        "\n",
        "plt.title('Hash-tag Usage')\n",
        "plt.legend()\n",
        "plt.show() "
      ],
      "execution_count": null,
      "outputs": [
        {
          "output_type": "display_data",
          "data": {
            "image/png": "[encoded data removed]",
            "text/plain": [
              "<Figure size 576x432 with 1 Axes>"
            ]
          },
          "metadata": {
            "tags": [],
            "needs_background": "light"
          }
        }
      ]
    },
    {
      "cell_type": "markdown",
      "metadata": {
        "id": "P8CPcBRQeEIt"
      },
      "source": [
        "####**Preparing the data for processing**"
      ]
    },
    {
      "cell_type": "markdown",
      "metadata": {
        "id": "L_84DPoVuadC"
      },
      "source": [
        "**Data pre-processing**"
      ]
    },
    {
      "cell_type": "code",
      "metadata": {
        "id": "4zuid08-dwU2"
      },
      "source": [
        "def remove_hashtag(sent):\n",
        "  sent = re.sub(r'(@[A-Za-z0-9]+)|(#[A-Za-z0-9]+)','',sent)\n",
        "  return sent"
      ],
      "execution_count": null,
      "outputs": []
    },
    {
      "cell_type": "code",
      "metadata": {
        "id": "mPh1n5FkqMRL"
      },
      "source": [
        "def remove_links(text):\n",
        "  text = re.sub(r'(\\w+:\\/\\/\\S+)','',text)\n",
        "  \n",
        "  return text"
      ],
      "execution_count": null,
      "outputs": []
    },
    {
      "cell_type": "code",
      "metadata": {
        "id": "W0-4p7CPszgH"
      },
      "source": [
        "def remove_specialChars(text):\n",
        "  text = (re.sub(r'[\\.•,;:?!#=+$%^&*_~><\\-\\(\\)\\{\\}\\[\\]\\\"\\'\\|\\/]','',text)).replace('RT','')\n",
        "  \n",
        "  # changing to lower case\n",
        "  text = text.lower()\n",
        "  return text"
      ],
      "execution_count": null,
      "outputs": []
    },
    {
      "cell_type": "code",
      "metadata": {
        "id": "38b8BrFSlkkr"
      },
      "source": [
        "def replace_emoji(text):\n",
        "  text = emoji.demojize(text)\n",
        "  text = text.replace(\":\",\" \")\n",
        "  tweet = ' '.join(text.split())\n",
        "\n",
        "  return tweet"
      ],
      "execution_count": null,
      "outputs": []
    },
    {
      "cell_type": "code",
      "metadata": {
        "id": "kY4ljyqTuCpI"
      },
      "source": [
        "def numberTowords(tweet):\n",
        "\n",
        "  final_tweet = []\n",
        "\n",
        "  for word in tweet:\n",
        "    if(word.isnumeric()):\n",
        "      final_tweet.append(num2words(word))\n",
        "    else:\n",
        "      final_tweet.append(word)\n",
        "  \n",
        "  return final_tweet"
      ],
      "execution_count": null,
      "outputs": []
    },
    {
      "cell_type": "code",
      "metadata": {
        "id": "RK1juVUNC4wg"
      },
      "source": [
        "# function to handle negative contractions\n",
        "\n",
        "def handle_negation(text):\n",
        "  text = re.sub(r'(\\w+)n\\'t', '\\g<1> not',text)\n",
        "  return text"
      ],
      "execution_count": null,
      "outputs": []
    },
    {
      "cell_type": "markdown",
      "metadata": {
        "id": "PwTnwoPpEE8C"
      },
      "source": [
        "**Tokenise and Lemmatise**"
      ]
    },
    {
      "cell_type": "code",
      "metadata": {
        "id": "5l2d-r5-EMUD",
        "colab": {
          "base_uri": "https://localhost:8080/",
          "height": 51
        },
        "outputId": "c8baa6a4-a26f-4728-a6d8-3cb0347620c2"
      },
      "source": [
        "nltk.download('wordnet')\n",
        "from nltk.stem import WordNetLemmatizer\n",
        "\n",
        "lm = WordNetLemmatizer()"
      ],
      "execution_count": null,
      "outputs": [
        {
          "output_type": "stream",
          "text": [
            "[nltk_data] Downloading package wordnet to /root/nltk_data...\n",
            "[nltk_data]   Unzipping corpora/wordnet.zip.\n"
          ],
          "name": "stdout"
        }
      ]
    },
    {
      "cell_type": "code",
      "metadata": {
        "id": "kQvPTq4TDYRp"
      },
      "source": [
        "def tokenise(line):\n",
        "  lem_words = []\n",
        "\n",
        "  tokens = line.split()\n",
        "\n",
        "  for j in tokens:\n",
        "    lem_words.append(lm.lemmatize(j))\n",
        "    \n",
        "  return lem_words"
      ],
      "execution_count": null,
      "outputs": []
    },
    {
      "cell_type": "markdown",
      "metadata": {
        "id": "_Y1dfP_SEXFV"
      },
      "source": [
        "**Preparing data for analysis**"
      ]
    },
    {
      "cell_type": "code",
      "metadata": {
        "id": "UfOfCFlxEWl6"
      },
      "source": [
        "def get_tweets(df):\n",
        "  cleaned_tweets = []\n",
        "  vocab = set()\n",
        "\n",
        "  tokens_dict = defaultdict(list)                           # dictionary that stores tokens of each tweet\n",
        "  wd_count = defaultdict(lambda:defaultdict(lambda:0))      # dictionary that stores count(term,tweet) i.e. tf\n",
        "  w_count = defaultdict(lambda:0)                           # dictionary that stores df(term)\n",
        "\n",
        "  for i in df.index:\n",
        "    text = df.loc[i,'full_text']\n",
        "\n",
        "    #cleaning the tweets\n",
        "    h_tweet = remove_hashtag(text)\n",
        "    l_tweet = remove_links(h_tweet)\n",
        "    demoji = replace_emoji(l_tweet)\n",
        "    n_tweet = handle_negation(demoji)\n",
        "    clean_tweet = remove_specialChars(n_tweet)\n",
        "\n",
        "    #generate tokens\n",
        "    tokens = tokenise(clean_tweet)\n",
        "\n",
        "    # final = numberTowords(tokens)\n",
        "    # print(final)\n",
        "    \n",
        "    cleaned_tweets.append(tokens)\n",
        "\n",
        "  return cleaned_tweets"
      ],
      "execution_count": null,
      "outputs": []
    },
    {
      "cell_type": "code",
      "metadata": {
        "id": "0sGK8dNtgboL"
      },
      "source": [
        "tweets_A = get_tweets(df_A)"
      ],
      "execution_count": null,
      "outputs": []
    },
    {
      "cell_type": "code",
      "metadata": {
        "id": "hY6zw4LXE4sc"
      },
      "source": [
        "tweets_B = get_tweets(df_B)"
      ],
      "execution_count": null,
      "outputs": []
    },
    {
      "cell_type": "code",
      "metadata": {
        "id": "WUjHVt-xE8V5"
      },
      "source": [
        "tweets_C = get_tweets(df_C)"
      ],
      "execution_count": null,
      "outputs": []
    },
    {
      "cell_type": "markdown",
      "metadata": {
        "id": "qm--acui36uB"
      },
      "source": [
        "####**Topic Modelling using LDA**"
      ]
    },
    {
      "cell_type": "code",
      "metadata": {
        "id": "b2SWQc4WsfJU"
      },
      "source": [
        "def build_corpus(final_tweet):\n",
        "  dictionary = corpora.Dictionary()\n",
        "\n",
        "  BoW_corpus = [dictionary.doc2bow(sent, allow_update=True) for sent in final_tweet]\n",
        "  dictionary = gensim.corpora.Dictionary(final_tweet)\n",
        "\n",
        "  tfidf = models.TfidfModel(BoW_corpus)\n",
        "  corpus_tfidf = tfidf[BoW_corpus]\n",
        "\n",
        "  return corpus_tfidf,dictionary"
      ],
      "execution_count": null,
      "outputs": []
    },
    {
      "cell_type": "code",
      "metadata": {
        "id": "NeOUbPg-Fb6n"
      },
      "source": [
        "BoW_A,dict_A = build_corpus(tweets_A)\n",
        "BoW_B,dict_B = build_corpus(tweets_B)\n",
        "BoW_C,dict_C = build_corpus(tweets_C)"
      ],
      "execution_count": null,
      "outputs": []
    },
    {
      "cell_type": "code",
      "metadata": {
        "id": "lU77BtZ7G2mz"
      },
      "source": [
        "def find_topics(corpus_tfidf,dictionary,num):\n",
        "\n",
        "  lda_model_tfidf = gensim.models.LdaMulticore(corpus_tfidf, num_topics=num, id2word=dictionary, passes=2, workers=4)\n",
        "\n",
        "  return lda_model_tfidf"
      ],
      "execution_count": null,
      "outputs": []
    },
    {
      "cell_type": "code",
      "metadata": {
        "id": "f8v2xfLfInOt"
      },
      "source": [
        "def show_topics(model,corpus,dictionary):\n",
        "  for idx, topic in model.print_topics(-1):\n",
        "    print('Topic: {} Word: {}'.format(idx, topic))"
      ],
      "execution_count": null,
      "outputs": []
    },
    {
      "cell_type": "markdown",
      "metadata": {
        "id": "Ng3GiiSDOYKI"
      },
      "source": [
        "**For Class A (#MissYouYuvi only)**"
      ]
    },
    {
      "cell_type": "code",
      "metadata": {
        "id": "iNrxGyUJHzaV"
      },
      "source": [
        "#perform topic modelling\n",
        "topics = 15\n",
        "model_A = find_topics(BoW_A,dict_A,topics)"
      ],
      "execution_count": null,
      "outputs": []
    },
    {
      "cell_type": "code",
      "metadata": {
        "id": "vVQVe3w6KSCO",
        "colab": {
          "base_uri": "https://localhost:8080/",
          "height": 292
        },
        "outputId": "79412e48-d97b-4e58-b89c-e01cfb26bed6"
      },
      "source": [
        "show_topics(model_A,BoW_A,dict_A)"
      ],
      "execution_count": null,
      "outputs": [
        {
          "output_type": "stream",
          "text": [
            "Topic: 0 Word: 0.009*\"a\" + 0.007*\"jersey\" + 0.007*\"you\" + 0.007*\"no\" + 0.006*\"12\" + 0.006*\"fire\" + 0.006*\"this\" + 0.006*\"to\" + 0.006*\"cricketgame\" + 0.005*\"of\"\n",
            "Topic: 1 Word: 0.023*\"heartsuit\" + 0.015*\"foldedhands\" + 0.012*\"a\" + 0.011*\"we\" + 0.011*\"you\" + 0.010*\"sir\" + 0.010*\"miss\" + 0.008*\"u\" + 0.008*\"yuvian\" + 0.008*\"the\"\n",
            "Topic: 2 Word: 0.048*\"redheart\" + 0.013*\"yuvi\" + 0.012*\"no\" + 0.010*\"yuvian\" + 0.010*\"love\" + 0.009*\"you\" + 0.008*\"like\" + 0.007*\"longer\" + 0.007*\"nd\" + 0.007*\"we\"\n",
            "Topic: 3 Word: 0.017*\"fire\" + 0.012*\"you\" + 0.012*\"the\" + 0.010*\"yuvi\" + 0.010*\"pensiveface\" + 0.010*\"miss\" + 0.010*\"is\" + 0.009*\"love\" + 0.009*\"of\" + 0.008*\"when\"\n",
            "Topic: 4 Word: 0.014*\"in\" + 0.013*\"you\" + 0.009*\"will\" + 0.009*\"year\" + 0.009*\"heart\" + 0.009*\"our\" + 0.008*\"completed\" + 0.008*\"of\" + 0.008*\"never\" + 0.008*\"speed\"\n",
            "Topic: 5 Word: 0.022*\"are\" + 0.019*\"always\" + 0.015*\"you\" + 0.014*\"yuvi\" + 0.012*\"phase\" + 0.012*\"with\" + 0.011*\"a\" + 0.011*\"the\" + 0.010*\"we\" + 0.009*\"in\"\n",
            "Topic: 6 Word: 0.017*\"stalwart\" + 0.011*\"immense\" + 0.010*\"is\" + 0.010*\"contribution\" + 0.009*\"redheart\" + 0.009*\"to\" + 0.008*\"your\" + 0.008*\"yuvi\" + 0.007*\"cricket\" + 0.006*\"fire\"\n",
            "Topic: 7 Word: 0.012*\"blueheart\" + 0.010*\"you\" + 0.009*\"miss\" + 0.009*\"of\" + 0.008*\"man\" + 0.008*\"one\" + 0.008*\"we\" + 0.008*\"the\" + 0.008*\"million\" + 0.007*\"u\"\n",
            "Topic: 8 Word: 0.010*\"…\" + 0.010*\"loudlycryingface\" + 0.009*\"heartsuit\" + 0.009*\"redheart\" + 0.008*\"my\" + 0.008*\"for\" + 0.007*\"i\" + 0.007*\"the\" + 0.007*\"you\" + 0.007*\"in\"\n",
            "Topic: 9 Word: 0.018*\"foldedhands\" + 0.014*\"emotion\" + 0.012*\"million\" + 0.011*\"one\" + 0.011*\"man\" + 0.010*\"of\" + 0.010*\"you\" + 0.008*\"fire\" + 0.008*\"redheart\" + 0.008*\"stalwart\"\n",
            "Topic: 10 Word: 0.024*\"collision\" + 0.020*\"tag\" + 0.017*\"bhavi\" + 0.016*\"champ\" + 0.012*\"you\" + 0.010*\"hash\" + 0.010*\"spread\" + 0.010*\"your\" + 0.010*\"use\" + 0.010*\"share\"\n",
            "Topic: 11 Word: 0.030*\"brokenheart\" + 0.021*\"love\" + 0.014*\"you\" + 0.010*\"hero\" + 0.010*\"enjoy\" + 0.010*\"faceblowingakiss\" + 0.010*\"blackheart\" + 0.010*\"thalaivaaaaa\" + 0.009*\"happy\" + 0.009*\"my\"\n",
            "Topic: 12 Word: 0.023*\"fire\" + 0.018*\"rt\" + 0.013*\"yuvian\" + 0.011*\"singh\" + 0.011*\"yuvraj\" + 0.010*\"the\" + 0.010*\"of\" + 0.009*\"redheart\" + 0.009*\"you\" + 0.009*\"u\"\n",
            "Topic: 13 Word: 0.011*\"yuvi\" + 0.010*\"the\" + 0.010*\"he\" + 0.009*\"you\" + 0.008*\"is\" + 0.008*\"to\" + 0.007*\"top\" + 0.007*\"yuvian\" + 0.007*\"it\" + 0.007*\"trending\"\n",
            "Topic: 14 Word: 0.011*\"six\" + 0.011*\"who\" + 0.010*\"tweet\" + 0.010*\"you\" + 0.010*\"completed\" + 0.010*\"minute\" + 0.010*\"hour\" + 0.010*\"speed\" + 0.010*\"and\" + 0.009*\"miss\"\n"
          ],
          "name": "stdout"
        }
      ]
    },
    {
      "cell_type": "markdown",
      "metadata": {
        "id": "NO6VoZA-fPcH"
      },
      "source": [
        "**_Analysis_**\n",
        "\n",
        "From the words obtained in the topics,\n",
        "* Topic 1: People remembering what a legend Yuvraj Singh was.\n",
        "* Topic 2: People are praising Yuvraj Singh\n",
        "\n",
        "The results obtained are not very diverse. All the topics express that people are missing Yujvraj Singh in the Indian Cricket team.\n",
        "The sentiment of all the topics is positive."
      ]
    },
    {
      "cell_type": "markdown",
      "metadata": {
        "id": "8BZe9wuCfkIZ"
      },
      "source": [
        "Most dominant topic of class A is shown below:"
      ]
    },
    {
      "cell_type": "code",
      "metadata": {
        "id": "TocD_hAgJ5CP",
        "colab": {
          "base_uri": "https://localhost:8080/",
          "height": 881
        },
        "outputId": "e0a2f751-d31f-48e6-90ce-fd925fb156a6"
      },
      "source": [
        "pyLDAvis.enable_notebook()\n",
        "vis = pyLDAvis.gensim.prepare(model_A, BoW_A, dict_A)\n",
        "vis"
      ],
      "execution_count": null,
      "outputs": [
        {
          "output_type": "execute_result",
          "data": {
            "text/html": [
              "\n",
              "<link rel=\"stylesheet\" type=\"text/css\" href=\"https://cdn.rawgit.com/bmabey/pyLDAvis/files/ldavis.v1.0.0.css\">\n",
              "\n",
              "\n",
              "<div id=\"ldavis_el1221401145124728482390335418\"></div>\n",
              "<script type=\"text/javascript\">\n",
              "\n",
              "var ldavis_el1221401145124728482390335418_data = {\"mdsDat\": {\"x\": [-0.03956225074085251, -0.026747844814435037, -0.0162992065523486, -0.009026759122246736, 0.07517168386602176, 0.050092555968762636, 0.011003221912327735, -0.034950760650567375, -0.0743103789996383, -0.02416660757297641, -0.03657443821335929, 0.1277140492961591, -0.020782406858664913, -0.0008859808958357188, 0.01932512337765362], \"y\": [0.02513335575063955, 0.019971797267287133, 0.03726625068126367, -0.11341811811738674, 0.05781601743941495, 0.061636367773950644, 0.021329826464789807, -0.0327188515727187, 0.027150400596868723, 0.017056494919384785, 0.004295619808489628, -0.04080770584137318, -0.014404354809296985, -0.05730357008828542, -0.013003530273028209], \"topics\": [1, 2, 3, 4, 5, 6, 7, 8, 9, 10, 11, 12, 13, 14, 15], \"cluster\": [1, 1, 1, 1, 1, 1, 1, 1, 1, 1, 1, 1, 1, 1, 1], \"Freq\": [9.903667449951172, 8.657322883605957, 8.575479507446289, 6.8541646003723145, 6.731418609619141, 6.716328144073486, 6.715362548828125, 6.461960792541504, 6.376820087432861, 6.168149948120117, 5.8901286125183105, 5.84133768081665, 5.786773204803467, 4.901533603668213, 4.419557094573975]}, \"tinfo\": {\"Term\": [\"redheart\", \"brokenheart\", \"collision\", \"fire\", \"tag\", \"heartsuit\", \"rt\", \"stalwart\", \"bhavi\", \"foldedhands\", \"champ\", \"emotion\", \"million\", \"love\", \"phase\", \"blueheart\", \"hash\", \"yuvian\", \"spread\", \"sir\", \"immense\", \"retweet\", \"12\", \"use\", \"share\", \"cricketgame\", \"thalaivaaaaa\", \"faceblowingakiss\", \"here\", \"contribution\", \"remembered\", \"1001\", \"retiredyour\", \"ram\", \"row\", \"incident\", \"neutralface\", \"intensity\", \"35k\", \"\\u201coverwhelmed\\u201d\", \"youll\", \"kelaaa\", \"sun\", \"h\", \"impactful\", \"ua\", \"shine\", \"phase\", \"pazi\", \"update\", \"others\", \"p\\u2026\", \"career\", \"plzz\", \"news\", \"doubt\", \"399\", \"slightlysmilingface\", \"legacy\", \"medal\", \"water\", \"bad\", \"good\", \"different\", \"achieve\", \"because\", \"are\", \"always\", \"form\", \"with\", \"inspiring\", \"if\", \"paaji\", \"level\", \"missed\", \"online\", \"yuvism\", \"unforgettable\", \"yuvi\", \"a\", \"you\", \"wa\", \"we\", \"trend\", \"the\", \"and\", \"bhavi\", \"be\", \"in\", \"six\", \"loudlycryingface\", \"yuvraj\", \"forever\", \"participating\", \"his\", \"of\", \"singh\", \"my\", \"will\", \"love\", \"on\", \"u\", \"smilingfacewith3hearts\", \"paaaji\", \"congratulation\", \"becoming\", \"27\", \"10k\", \"bhaji\", \"10062019\", \"dear\", \"author\", \"individual\", \"16k\", \"four\", \"greatly\", \"hammering\", \"controversy\", \"resign\", \"gunnu\", \"rock\", \"si\", \"\\u092e\\u093f\\u0936\\u094d\\u0930\\u093e\", \"kapil\", \"\\u0915\\u092a\\u093f\\u0932\", \"ndtv\", \"upcoming\", \"32k\", \"100k\", \"4\", \"website\", \"june10\", \"end\", \"25k\", \"common\", \"than\", \"who\", \"fighter\", \"just\", \"more\", \"hour\", \"completed\", \"minute\", \"speed\", \"12\", \"yuvians\", \"six\", \"cup\", \"up\", \"world\", \"6\", \"tweet\", \"man\", \"and\", \"miss\", \"era\", \"the\", \"cricket\", \"brokenheart\", \"missing\", \"you\", \"in\", \"yuvi\", \"we\", \"yovi\", \"celebration\", \"402\", \"pajis\", \"a\\u2026\", \"hand\", \"celebrating\", \"cherryblossom\", \"timefav\", \"put\", \"11778\", \"c\\u2026\", \"emotion\", \"lionface\", \"uploading\", \"17100s\", \"7150s\", \"factory\", \"kota\", \"34\", \"19\", \"\\u0918\\u091f\\u093f\\u092f\\u093e\", \"\\u0915\\u094c\\u0928\\u0938\\u093e\", \"\\u0928\\u094d\\u092f\\u0942\\u091c\", \"cricketing\", \"pl\\u2026\", \"yuvian15\", \"celebrates\", \"schedule\", \"y\\u2026\", \"million\", \"30k\", \"luv\", \"remember\", \"event\", \"june\", \"foldedhands\", \"10\", \"series\", \"follow\", \"man\", \"run\", \"one\", \"stalwart\", \"cricketgame\", \"will\", \"of\", \"many\", \"raisinghands\", \"year\", \"fire\", \"blackheart\", \"how\", \"not\", \"this\", \"you\", \"retirement\", \"world\", \"my\", \"redheart\", \"thank\", \"in\", \"the\", \"smilingfacewithhearteyes\", \"a\", \"yuvi\", \"ngo\", \"sunlo\", \"bahut\", \"yeh\", \"\\u0b8f\\u0b95\\u0bcd\\u0b95\\u0ba4\\u0bcd\\u0ba4\\u0bbf\\u0bb2\\u0bcd\", \"\\u0bb0\\u0b9a\\u0bbf\\u0b95\\u0bb0\\u0bcd\\u0b95\\u0bb3\\u0bcd\", \"important\", \"heartwithribbon\", \"\\u0280\\u1d07s\\u1d18\\u1d07\\u1d04\\u1d1b\\u0493\\u1d1c\\u029f\", \"\\u1d0d\\u1d0f\\u1d0d\\u1d07\\u0274\\u1d1b\", \"gade\", \"attitudedt\", \"everythingdt\", \"defeati\\u2026\", \"comebackdt\", \"resolute\", \"conquered\", \"brokenheart\", \"swag\", \"fleet\", \"power\", \"expressed\", \"feeling\", \"instagram\", \"grimacingface\", \"manfacepalminglightskintone\", \"800yuviyans\", \"yuvisir\", \"morning\", \"bc\", \"50k\", \"enjoy\", \"34k\", \"bhi\", \"facewithhandovermouth\", \"happy\", \"thalaivaaaaa\", \"determination\", \"cryingface\", \"love\", \"hero\", \"faceblowingakiss\", \"blackheart\", \"hai\", \"forever\", \"life\", \"12\", \"be\", \"you\", \"my\", \"year\", \"retirement\", \"one\", \"of\", \"your\", \"yuvi\", \"a\", \"never\", \"hitter\", \"whiteball\", \"mass\", \"walked\", \"agression\", \"ruthless\", \"maar\", \"shree45\", \"226k\", \"uhh\", \"sparklingheart\", \"inspir\\u2026\", \"classy\", \"timing\", \"boundary\", \"song\", \"khayegi\", \"oyee\", \"talkwalker\", \"ohhok\", \"s\\u2026\", \"bcci\", \"read\", \"long\", \"thrill\", \"fieldthose\", \"excitement\", \"nervous\", \"orangeheart\", \"elegant\", \"backlift\", \"taking\", \"high\", \"coach\", \"matchwinners\", \"pensiveface\", \"gratitude\", \"when\", \"full\", \"fire\", \"attendance\", \"watching\", \"now\", \"sir\", \"the\", \"is\", \"miss\", \"you\", \"yuvi\", \"love\", \"no\", \"of\", \"u\", \"participating\", \"are\", \"redheart\", \"and\", \"in\", \"we\", \"on\", \"foldedhands\", \"fc\", \"paaji\\u0964\\u0964\", \"dq369\", \"@zakeera\", \"history\", \"smilingfacewithsmilingeyes\", \"fb\", \"rt\", \"24k\", \"sad\", \"choudhary28\", \"therikanum\", \"orey\", \"sydney\", \"139\", \"nearly\", \"4ever\", \"growingheart\", \"muje\", \"guyz\", \"124k\", \"dikh\", \"au\", \"thalaivan\", \"vala\", \"ret\\u2026\", \"10am\", \"wc2011\", \"9067\", \"@\", \"worst\", \"making\", \"uv\", \"10th\", \"celebrate\", \"v\", \"pa\", \"fire\", \"very\", \"god\", \"yuvian\", \"anniversary\", \"singh\", \"yuvraj\", \"cricketgame\", \"retweet\", \"participating\", \"game\", \"stalwart\", \"cricket\", \"u\", \"the\", \"of\", \"trend\", \"redheart\", \"me\", \"you\", \"champion\", \"and\", \"miss\", \"in\", \"online\", \"paji\", \"tweet\", \"for\", \"on\", \"yuvi\", \"foldedhands\", \"is\", \"are\", \"21\", \"within\", \"proved\", \"theme\", \"8\", \"yasss\", \"came\", \"sagar12\", \"wid\", \"23k\", \"noticed\", \"530k\", \"likes\\u2661\\u2661\\u2661\", \"sharing\\u2606\\u2606\\u2606\", \"streaming\", \"sriv\", \"billion\", \"nowadays\", \"caption\", \"123k\", \"it\\u2019s\", \"vikramsingh\", \"clear\", \"delivered\", \"evident\", \"could\", \"11k\", \"talk\", \"celebrity\", \"male\", \"168\", \"female\", \"mandancing\", \"make\", \"he\", \"top\", \"human\", \"inspired\", \"trending\", \"any\", \"vintage\", \"ability\", \"same\", \"paaji\", \"need\", \"it\", \"great\", \"at\", \"to\", \"the\", \"yuvi\", \"is\", \"world\", \"amp\", \"yuvian\", \"cult\", \"stalwart\", \"you\", \"in\", \"foldedhands\", \"are\", \"with\", \"cricket\", \"redheart\", \"we\", \"of\", \"6\", \"man\", \"and\", \"blessing\", \"timeline\", \"sunna\", \"clutchest\", \"beloved\", \"son\", \"sixhitterone\", \"an\\u2026\", \"fifty\", \"20k\", \"skrao12\", \"@akshay17\", \"wow\", \"c\", \"aapko\", \"admin\", \"16th\", \"family\", \"punjab\", \"noticing\", \"effort\", \"hindupur\", \"mama\", \"haan\", \"goosebump\", \"karma\", \"nation\\u2026\", \"scored\", \"combo\", \"hua\", \"bringing\", \"anxiousfacewithsweat\", \"tour\", \"favourite\", \"birthday\", \"crown\", \"whenever\", \"wish\", \"wc\", \"legendary\", \"watch\", \"build\", \"\\u2026\", \"first\", \"loudlycryingface\", \"still\", \"heartsuit\", \"please\", \"i\", \"get\", \"my\", \"today\", \"for\", \"it\", \"cricketgame\", \"collision\", \"been\", \"redheart\", \"in\", \"a\", \"the\", \"foldedhands\", \"you\", \"six\", \"tweet\", \"our\", \"to\", \"of\", \"year\", \"retirement\", \"his\", \"hash\", \"spread\", \"tag\", \"share\", \"use\", \"umatched\", \"supporting\", \"afridi\", \"roar\", \"disappointedface\", \"unbelievable\", \"devil\", \"found\", \"combination\", \"againstfreedomofexpression\", \"micheal\", \"handshake\", \"collision\", \"aapka\", \"shaandar\", \"pointing\", \"chandani\", \"phenomenal\", \"crossedfingers\", \"surya\", \"thalaivaaaaaaa\", \"respectful\", \"smartness\", \"lovely\", \"mids\", \"safar\", \"bhavi\", \"champ\", \"clarke\", \"replacement\", \"fielder\", \"here\", \"im\", \"proud\", \"retire\", \"retweet\", \"yuvifan\", \"never\", \"your\", \"all\", \"legend\", \"thumbsup\", \"heart\", \"our\", \"always\", \"you\", \"is\", \"in\", \"tweet\", \"this\", \"u\", \"yuvi\", \"we\", \"for\", \"will\", \"love\", \"miss\", \"of\", \"6\\u00d76yuvi\", \"wonder\", \"fram\", \"263k\", \"counting\", \"thalaiva\", \"200\", \"cdp\", \"design\", \"forgot\", \"across\", \"paajj\", \"patriot\", \"bai\", \"diamant\", \"3rd\", \"akmeher\", \"globe\", \"666666\", \"teamhe\", \"irreplacable\", \"chandnishah\", \"shit\", \"dizzyface\", \"indelible\", \"can\\u2019t\", \"anna\", \"uncountable\", \"staaar\", \"legend12\", \"heartsuit\", \"thalaivaaaa\", \"impression\", \"sir\", \"made\", \"lot\", \"you\\u2019ve\", \"childhood\", \"boost\", \"foldedhands\", \"yes\", \"once\", \"faceblowingakiss\", \"a\", \"awesome\", \"we\", \"champion\", \"miss\", \"yuvian\", \"field\", \"legend\", \"u\", \"badly\", \"25k\", \"you\", \"all\", \"missing\", \"more\", \"the\", \"are\", \"collision\", \"6\", \"yuvi\", \"will\", \"redheart\", \"tweet\", \"and\", \"smilingfacewithhearteyes\", \"one\", \"on\", \"always\", \"of\", \"in\", \"cricket\", \"no12\", \"sethu\", \"paaajii\", \"seenoevilmonkey\", \"dhoniamp\", \"following\", \"july1207\", \"58\", \"15k\", \"helpful\", \"foundation\", \"wantjustice\", \"anyone\", \"awake\", \"sleep\", \"alert\", \"bhaiya\", \"rummy\", \"natwest\", \"lahu12\", \"honour\", \"awarded\", \"\\u2013\", \"forgotten\", \"veru\", \"magic\", \"eh\", \"aah\", \"undey\", \"hardworker\", \"remain\", \"stucked\", \"eternal\", \"smilingcatfacewithhearteyes\", \"heart\", \"spirit\", \"h\\u2026\", \"1st\", \"order\", \"middle\", \"completed\", \"our\", \"speed\", \"thalaivaaaaa\", \"retire\", \"in\", \"will\", \"hour\", \"never\", \"online\", \"minute\", \"up\", \"1\", \"year\", \"cult\", \"retirement\", \"you\", \"follow\", \"collision\", \"legend\", \"game\", \"of\", \"always\", \"we\", \"tweet\", \"one\", \"miss\", \"the\", \"yuvi\", \"sensation\", \"welcome\", \"longer\", \"whiteheavycheckmark\", \"backhandindexpointingright\", \"survivor\", \"repeatbutton\", \"berojgari\", \"rhe\", \"born\", \"must\", \"usse\", \"action\", \"reaction\", \"mp\", \"nd\", \"manfacepalming\", \"paajji\", \"mamaji\", \"jawab\", \"pehle\", \"se\", \"paaa\", \"pazi\\u2019s\", \"relievedface\", \"handle\", \"kr\", \"27th\", \"19th\", \"army\", \"rha\", \"ajeeb\", \"taise\", \"\\u092f\\u0941\\u0935\\u0930\\u093e\\u091c\\u0938\\u093f\\u0902\\u0939\\u092e\\u093e\\u092b\\u0940\\u092e\\u093e\\u0902\\u0917\\u094b\", \"chal\", \"redheart\", \"there\", \"like\", \"being\", \"no\", \"2\", \"facewithtearsofjoy\", \"again\", \"heavyheartexclamation\", \"yuvian\", \"here\", \"yuvi\", \"champion\", \"love\", \"retweet\", \"you\", \"loudlycryingface\", \"one\", \"is\", \"we\", \"tweet\", \"u\", \"on\", \"the\", \"me\", \"ntd\", \"mkr17\", \"missu\", \"latest\", \"aggression\", \"energy\", \"hasn\\u2019t\", \"fandom\", \"wee\", \"trade\", \"heas\", \"0f\", \"\\u0915\\u0947\\u2026\", \"sanghvi2\", \"hyd\", \"expression\", \"broad\\u2019s\", \"poutingface\", \"singh36\", \"fav\", \"imissyou\", \"deserve\", \"bos\", \"available\", \"seriously\", \"onr\", \"list\", \"bit\", \"mark\", \"reading\", \"collected\", \"flintoff\", \"sixer\", \"blueheart\", \"\\u0906\\u091c\", \"down\", \"these\", \"\\u0939\\u0940\", \"smashed\", \"since\", \"million\", \"come\", \"man\", \"miss\", \"one\", \"how\", \"been\", \"of\", \"you\", \"we\", \"the\", \"u\", \"my\", \"a\", \"always\", \"at\", \"his\", \"with\", \"many\", \"are\", \"love\", \"in\", \"20b\", \"clockwiseverticalarrows\", \"manoj7\", \"sportsword\", \"dhak\", \"dts\", \"nutshell\", \"50\", \"66\", \"mind\", \"little\", \"struggler\", \"resurfaces\", \"thelegend\", \"reach\", \"next\", \"brave\", \"whole\", \"personshrugging\", \"wrong\", \"believed\", \"19b\", \"12b\", \"21b\", \"fastest\", \"22b\", \"japanesesymbolforbeginner\", \"leeded\", \"vinesh\", \"okay\", \"singhs\", \"called\", \"perseveringface\", \"jersey\", \"which\", \"smartphone\", \"pick\", \"below\", \"asked\", \"attitude\", \"clappinghands\", \"those\", \"thumbsup\", \"smilingfacewithsunglasses\", \"12\", \"no\", \"a\", \"cricketgame\", \"this\", \"fire\", \"day\", \"can\", \"to\", \"you\", \"legend\", \"for\", \"bhavi\", \"year\", \"yuvraj\", \"of\", \"i\", \"is\", \"time\", \"the\", \"miss\", \"we\", \"in\", \"yuvi\", \"my\", \"your\", \"wrist\", \"mk13\", \"immense\", \"flushedface\", \"10dulkar\", \"flick\", \"\\u029f\\u1d07\\u0262\\u1d07\\u0274\\u1d05\", \"\\u1d00\", \"contribution\", \"nalla\", \"irruku\", \"25\", \"heartbreaking\", \"ekkada\", \"boy\", \"telugu\", \"3ok\", \"delhi\", \"livedareinspire\", \"raisedfist\", \"\\u0932\\u0940\\u091c\\u0947\\u0902\\u0921\", \"fr\", \"defeat\", \"sportsman\", \"500\", \"immeasurable\", \"sparkler\", \"26k\", \"lovelife\", \"samal7\", \"legend\\u2019s\", \"stalwart\", \"word\", \"pleadingface\", \"\\u2661\", \"guy\", \"is\", \"to\", \"your\", \"smilingfacewithhearteyes\", \"cricket\", \"redheart\", \"yuvi\", \"just\", \"fire\", \"u\", \"of\", \"tweet\", \"for\", \"love\", \"a\", \"game\", \"not\", \"up\", \"the\", \"you\", \"in\", \"we\", \"speed\", \"always\", \"are\", \"1\", \"this\"], \"Freq\": [118.0, 51.0, 43.0, 74.0, 26.0, 53.0, 28.0, 45.0, 34.0, 72.0, 32.0, 29.0, 30.0, 82.0, 32.0, 23.0, 12.0, 58.0, 12.0, 24.0, 11.0, 35.0, 34.0, 14.0, 14.0, 30.0, 22.0, 31.0, 24.0, 12.0, 2.413363218307495, 2.4568378925323486, 1.0824795961380005, 4.2312092781066895, 5.015822887420654, 5.0034074783325195, 3.0056490898132324, 0.9864439964294434, 4.636663436889648, 2.538997173309326, 4.986728668212891, 3.8866987228393555, 3.6085867881774902, 2.886686325073242, 1.8455623388290405, 1.2574999332427979, 1.8921139240264893, 16.878110885620117, 1.446248173713684, 1.446248173713684, 4.318134307861328, 8.493362426757812, 1.7359601259231567, 0.7699140310287476, 1.8282408714294434, 0.739931583404541, 1.0635759830474854, 2.0853219032287598, 1.0635759830474854, 1.0635757446289062, 1.8621894121170044, 8.40292739868164, 8.585122108459473, 4.290960311889648, 1.3741464614868164, 2.3924977779388428, 30.32814598083496, 26.206506729125977, 4.8542914390563965, 16.177221298217773, 4.204715251922607, 12.164613723754883, 9.906190872192383, 4.03082275390625, 5.444435119628906, 7.037667274475098, 4.2596893310546875, 4.661538600921631, 19.814605712890625, 15.850083351135254, 21.243507385253906, 7.236995220184326, 14.129331588745117, 9.112032890319824, 15.51628303527832, 12.54358959197998, 8.060711860656738, 8.990945816040039, 13.077783584594727, 9.603960037231445, 9.526315689086914, 9.750128746032715, 8.035209655761719, 6.477400779724121, 7.475214958190918, 9.776631355285645, 7.949422359466553, 7.970523357391357, 7.840407371520996, 8.419922828674316, 7.886648178100586, 7.568874835968018, 6.2856221199035645, 1.4162400960922241, 1.6369882822036743, 1.7396841049194336, 9.805394172668457, 5.62327766418457, 1.363691806793213, 1.5059248208999634, 2.022029161453247, 2.2165164947509766, 2.2165164947509766, 2.2165167331695557, 0.9670667052268982, 0.9670665860176086, 1.3603236675262451, 1.4514635801315308, 1.147942304611206, 0.8553365468978882, 1.1676025390625, 2.2549853324890137, 2.316481828689575, 2.316423177719116, 2.3159842491149902, 2.3153209686279297, 1.874152660369873, 1.7317572832107544, 1.7317572832107544, 9.716997146606445, 1.7915571928024292, 2.0937671661376953, 2.0937671661376953, 9.334029197692871, 9.10546875, 10.903398513793945, 12.849435806274414, 2.7344303131103516, 10.212335586547852, 10.665743827819824, 12.098114967346191, 12.324427604675293, 12.1221284866333, 11.938854217529297, 10.608280181884766, 8.859092712402344, 13.022990226745605, 10.294931411743164, 10.998544692993164, 10.869444847106934, 9.804299354553223, 12.366280555725098, 9.685796737670898, 11.515621185302734, 11.496575355529785, 2.9797000885009766, 11.363814353942871, 8.607182502746582, 7.893900394439697, 5.872828006744385, 12.328582763671875, 9.73737621307373, 10.038325309753418, 8.242369651794434, 1.959888219833374, 2.036188840866089, 3.8317623138427734, 2.4442925453186035, 1.0269148349761963, 2.504380941390991, 2.629840612411499, 1.5062757730484009, 0.9279031753540039, 1.4530001878738403, 3.4131219387054443, 1.338533639907837, 16.385595321655273, 2.127479314804077, 1.1384735107421875, 3.1532766819000244, 3.1532766819000244, 1.6769204139709473, 1.6769201755523682, 5.10552453994751, 4.651725769042969, 0.8175026774406433, 0.8175025582313538, 0.817502498626709, 1.4470962285995483, 1.7564727067947388, 6.371671199798584, 0.771401584148407, 1.4231901168823242, 3.288337469100952, 14.513866424560547, 7.153785228729248, 2.878127098083496, 6.2520952224731445, 5.165271282196045, 2.950523614883423, 21.769407272338867, 3.876006841659546, 3.295959234237671, 6.646119594573975, 13.429768562316895, 3.1825852394104004, 13.735483169555664, 9.81285572052002, 6.909223556518555, 9.595681190490723, 12.56060791015625, 6.548029899597168, 5.744606018066406, 9.171507835388184, 10.07218074798584, 6.796006679534912, 5.827674865722656, 6.233699798583984, 8.109357833862305, 12.386751174926758, 7.556018829345703, 7.452365398406982, 7.7854509353637695, 9.875082015991211, 5.855835914611816, 7.209697723388672, 6.895127773284912, 5.608199119567871, 5.932683944702148, 5.773715972900391, 3.3276751041412354, 4.803869247436523, 4.803869247436523, 4.754867076873779, 2.8253579139709473, 2.8253579139709473, 4.623507976531982, 2.3919131755828857, 1.5761312246322632, 1.5761311054229736, 0.9558321237564087, 5.212328910827637, 5.212328910827637, 5.212328910827637, 5.212329387664795, 5.212329387664795, 3.0204737186431885, 28.426008224487305, 1.3634636402130127, 2.74442720413208, 5.453334331512451, 1.510156512260437, 1.510156273841858, 1.730739712715149, 1.0308068990707397, 1.0308070182800293, 1.2258265018463135, 1.3386651277542114, 1.3386651277542114, 1.3619494438171387, 2.947441577911377, 9.406641960144043, 2.947441339492798, 4.361389636993408, 2.798290967941284, 9.036128044128418, 9.156131744384766, 4.924253463745117, 5.872958660125732, 20.392921447753906, 9.970850944519043, 9.311783790588379, 9.304659843444824, 4.460026741027832, 7.81659460067749, 7.358669757843018, 7.114120006561279, 7.807583332061768, 13.866005897521973, 8.751296043395996, 7.701131820678711, 7.194919109344482, 7.6487250328063965, 8.22452449798584, 6.843742847442627, 7.173992156982422, 6.22903299331665, 4.944798469543457, 4.65777587890625, 1.8161541223526, 4.000415325164795, 2.899345874786377, 2.9507980346679688, 2.9507980346679688, 1.4510931968688965, 1.3168790340423584, 1.3127577304840088, 2.056659460067749, 4.694797515869141, 1.311795711517334, 5.946387767791748, 5.946385860443115, 5.9170098304748535, 5.964084625244141, 1.2018003463745117, 1.2018001079559326, 0.8534665703773499, 0.8534663319587708, 3.397949695587158, 1.0594452619552612, 2.7368462085723877, 5.860343933105469, 3.56951642036438, 3.3592522144317627, 3.3498988151550293, 3.3494765758514404, 1.065666675567627, 5.806255340576172, 5.806254863739014, 3.41658616065979, 5.606505870819092, 2.206958293914795, 1.7862083911895752, 9.245532989501953, 2.792085886001587, 7.694823741912842, 2.863846778869629, 15.585582733154297, 3.632924795150757, 4.209664821624756, 4.7280073165893555, 5.808011054992676, 10.876856803894043, 9.05866813659668, 9.07990550994873, 11.29981803894043, 9.719486236572266, 8.413911819458008, 6.2728047370910645, 8.20795726776123, 7.227789878845215, 5.133655071258545, 7.07833194732666, 7.195947647094727, 6.3385796546936035, 6.501611709594727, 5.893686294555664, 5.082225799560547, 5.106390476226807, 1.736127257347107, 1.8932931423187256, 2.0298054218292236, 2.0298051834106445, 2.822377920150757, 2.9862959384918213, 4.770244598388672, 17.06635284423828, 3.092461585998535, 3.664806604385376, 1.2771551609039307, 1.2686353921890259, 1.2686352729797363, 2.4726266860961914, 2.4726271629333496, 1.888139247894287, 0.828791081905365, 0.828052282333374, 1.125640630722046, 1.9637833833694458, 0.799232542514801, 1.1321946382522583, 2.786827325820923, 1.2487730979919434, 1.3783012628555298, 2.9685556888580322, 3.1286799907684326, 0.6963813900947571, 2.4260411262512207, 3.1064839363098145, 1.365761399269104, 3.454129457473755, 2.838690996170044, 3.0515263080596924, 2.989370107650757, 3.6170341968536377, 3.044142484664917, 21.859455108642578, 4.060891628265381, 4.049736499786377, 12.312015533447266, 3.7067179679870605, 10.592676162719727, 9.9503755569458, 6.910257816314697, 7.26784610748291, 5.918872833251953, 5.094627857208252, 7.017425060272217, 7.87366247177124, 8.211461067199707, 9.567586898803711, 9.152449607849121, 6.0347700119018555, 8.785441398620605, 5.194863796234131, 8.681466102600098, 5.4784321784973145, 6.669609069824219, 6.710355758666992, 7.062601089477539, 4.573829650878906, 4.632177829742432, 5.775951385498047, 5.467615604400635, 5.436367034912109, 6.049508094787598, 4.911886692047119, 4.84339714050293, 4.7890400886535645, 5.260769367218018, 5.260770320892334, 1.699702501296997, 2.495507001876831, 5.824976921081543, 1.3842486143112183, 3.0146567821502686, 3.4873764514923096, 1.7071099281311035, 2.480328321456909, 1.5658968687057495, 1.3384904861450195, 1.3384904861450195, 1.33849036693573, 1.33849036693573, 1.4015836715698242, 2.7870917320251465, 1.5245102643966675, 1.3850879669189453, 1.5429877042770386, 1.01389741897583, 1.4456857442855835, 1.9009391069412231, 1.637685775756836, 1.740885853767395, 1.740885853767395, 0.6772775650024414, 1.7202335596084595, 1.5858598947525024, 1.146016001701355, 1.146016001701355, 1.146016001701355, 2.4236321449279785, 5.095546722412109, 9.434173583984375, 6.723324775695801, 2.467667818069458, 5.185363292694092, 6.393251419067383, 2.859381914138794, 2.3516950607299805, 2.0040886402130127, 2.4281017780303955, 6.353246212005615, 2.6900150775909424, 6.43461799621582, 4.0664472579956055, 4.927130222320557, 7.55629301071167, 9.747057914733887, 9.968652725219727, 7.835014820098877, 6.354000091552734, 3.947526454925537, 6.544437408447266, 4.892154693603516, 5.344560146331787, 8.054526329040527, 6.258596420288086, 5.620654582977295, 5.974179744720459, 4.89117956161499, 5.163524150848389, 6.162857532501221, 5.372809886932373, 5.2489237785339355, 4.537818431854248, 4.604249954223633, 4.610937595367432, 1.594774842262268, 1.594774842262268, 1.1981881856918335, 1.3574621677398682, 1.3574622869491577, 1.3574624061584473, 1.3574622869491577, 4.251175880432129, 1.7880009412765503, 2.0964419841766357, 0.8036845326423645, 0.7933776378631592, 1.1312811374664307, 2.5700252056121826, 1.1546751260757446, 1.5244159698486328, 1.333975911140442, 0.7166818380355835, 1.3366895914077759, 1.3954408168792725, 1.3954405784606934, 1.3603901863098145, 0.6639931797981262, 0.6639930605888367, 4.10611629486084, 1.0947688817977905, 1.8143247365951538, 1.784565806388855, 1.199044942855835, 1.0466282367706299, 1.793370246887207, 2.8503377437591553, 1.4358669519424438, 5.082923889160156, 2.8717918395996094, 2.1225318908691406, 4.247905254364014, 2.9118661880493164, 3.849510431289673, 4.082459926605225, 4.872157573699951, 2.171576738357544, 8.843883514404297, 3.0460500717163086, 8.678142547607422, 4.544398784637451, 8.25102424621582, 3.5900487899780273, 6.559345245361328, 3.5151283740997314, 7.593435764312744, 2.9890382289886475, 7.337576389312744, 5.910501003265381, 4.983077049255371, 5.612308025360107, 3.89494252204895, 7.7726640701293945, 6.4694695472717285, 6.108972072601318, 6.482824325561523, 5.323563098907471, 6.476159572601318, 4.718878269195557, 4.859323501586914, 4.318695545196533, 4.433045864105225, 4.346092224121094, 4.069645404815674, 3.978987216949463, 3.929266929626465, 9.321541786193848, 9.284442901611328, 18.076705932617188, 9.020161628723145, 9.107169151306152, 1.2415379285812378, 0.929280161857605, 0.9292800426483154, 2.7188637256622314, 2.1132397651672363, 1.2048720121383667, 1.5634098052978516, 3.4914095401763916, 1.7596981525421143, 0.7887811660766602, 1.638399600982666, 1.1321157217025757, 21.508167266845703, 1.096469759941101, 1.0964696407318115, 1.7642357349395752, 2.706575393676758, 0.8862398266792297, 0.8862399458885193, 0.6986424326896667, 0.6738522052764893, 0.6649426221847534, 0.9978251457214355, 0.8561314344406128, 0.918932318687439, 1.1194422245025635, 14.94589614868164, 14.155245780944824, 1.6067105531692505, 3.5293936729431152, 1.8613508939743042, 8.576912879943848, 2.775026559829712, 3.37994122505188, 8.335689544677734, 7.675666809082031, 1.6724354028701782, 8.957005500793457, 9.258296966552734, 8.066679000854492, 8.5089693069458, 2.8374385833740234, 5.758870601654053, 6.537560939788818, 8.752440452575684, 10.68333911895752, 7.495575904846191, 8.396225929260254, 7.158921718597412, 6.388836860656738, 6.184072494506836, 7.014545440673828, 6.3375935554504395, 5.303407669067383, 5.113978385925293, 5.559511184692383, 5.146674633026123, 5.267806053161621, 2.238678455352783, 1.248382806777954, 1.266686201095581, 1.2164324522018433, 1.2164320945739746, 2.999591827392578, 1.5328956842422485, 1.1289750337600708, 1.1289747953414917, 1.1124112606048584, 0.9996485710144043, 0.8022684454917908, 1.0762989521026611, 0.7809807658195496, 1.3924721479415894, 1.412611484527588, 2.0064871311187744, 0.8807309865951538, 2.3230764865875244, 0.8759952783584595, 0.8759952783584595, 0.6992459893226624, 1.7199184894561768, 0.6715564131736755, 1.9826303720474243, 1.5924638509750366, 1.250597357749939, 1.3265129327774048, 1.2915756702423096, 1.4238982200622559, 19.939146041870117, 4.093774795532227, 1.96042001247406, 9.045252799987793, 3.5404653549194336, 4.334482192993164, 1.9396435022354126, 2.2902629375457764, 1.80490243434906, 12.982843399047852, 3.1192550659179688, 3.294703245162964, 6.224319934844971, 10.008296012878418, 2.4585907459259033, 9.754769325256348, 5.932709217071533, 8.453975677490234, 6.923369884490967, 4.083705425262451, 6.112195014953613, 7.280250549316406, 3.645143985748291, 3.8276901245117188, 9.334794044494629, 4.837850093841553, 4.0675554275512695, 4.09019136428833, 6.522400379180908, 5.994255542755127, 4.626734733581543, 4.530758857727051, 6.150051593780518, 4.840182304382324, 5.69318962097168, 4.911823272705078, 4.810726165771484, 4.165297508239746, 4.643795490264893, 4.461584568023682, 4.527772903442383, 4.3421196937561035, 4.237924575805664, 4.101332187652588, 1.9990785121917725, 0.957217812538147, 1.5036195516586304, 1.7144516706466675, 1.7144513130187988, 1.148434042930603, 1.2897700071334839, 4.9682297706604, 4.9682297706604, 1.4858983755111694, 1.4858983755111694, 0.6873334050178528, 5.341116428375244, 1.4393413066864014, 1.439341425895691, 1.4393411874771118, 1.0606234073638916, 0.648346483707428, 0.8122278451919556, 1.8004231452941895, 0.9207184910774231, 0.9207184910774231, 0.5983565449714661, 1.0782090425491333, 0.7123240232467651, 0.7123240232467651, 0.7123239636421204, 0.7123239636421204, 0.7123239636421204, 0.5690742135047913, 6.546111106872559, 0.8275420665740967, 1.3960806131362915, 1.791078805923462, 7.238189697265625, 1.4503369331359863, 1.4325976371765137, 2.579545736312866, 1.8159490823745728, 1.8159492015838623, 6.936246871948242, 7.125316619873047, 6.554800033569336, 4.5890116691589355, 5.620423793792725, 11.409290313720703, 7.659702777862549, 5.5636186599731445, 6.777690410614014, 4.336989402770996, 5.6557393074035645, 6.378167152404785, 5.537508010864258, 7.260523796081543, 5.217604637145996, 6.50321102142334, 10.627184867858887, 3.8008782863616943, 5.364549160003662, 5.668650150299072, 3.7556841373443604, 6.9165873527526855, 6.012698173522949, 6.141983509063721, 5.484241962432861, 5.03213357925415, 5.140069961547852, 5.4385576248168945, 4.735154151916504, 5.0644917488098145, 2.2940332889556885, 6.031197547912598, 3.987905502319336, 4.931427001953125, 3.616950273513794, 1.626725196838379, 1.6516259908676147, 1.6516259908676147, 5.812417507171631, 2.4666011333465576, 3.1903252601623535, 3.1903250217437744, 3.1903252601623535, 1.6254900693893433, 5.870861053466797, 3.160831928253174, 0.793268084526062, 1.6254898309707642, 1.6254898309707642, 3.132852792739868, 3.1328530311584473, 0.767874002456665, 1.833585500717163, 0.6964837312698364, 1.2730083465576172, 1.6018465757369995, 1.743389368057251, 1.7433891296386719, 3.140279531478882, 1.7476580142974854, 1.7476582527160645, 1.7476580142974854, 1.7476582527160645, 1.7476580142974854, 39.050804138183594, 5.505701541900635, 6.93013858795166, 5.440056324005127, 9.647451400756836, 4.624216079711914, 3.679980993270874, 3.9157443046569824, 5.478932857513428, 8.365738868713379, 4.887705326080322, 10.399459838867188, 5.658280372619629, 8.251091003417969, 5.2887444496154785, 7.49402379989624, 5.28529691696167, 5.6433610916137695, 5.695572376251221, 5.862479209899902, 5.02860164642334, 5.051063060760498, 4.088958263397217, 3.916116952896118, 3.718205451965332, 3.998589277267456, 2.5502355098724365, 1.496631383895874, 1.8133543729782104, 3.6368367671966553, 1.2341749668121338, 3.3920373916625977, 3.3920373916625977, 3.392037868499756, 0.814011812210083, 4.1094069480896, 4.316629886627197, 3.2909531593322754, 0.7724551558494568, 0.7719495296478271, 1.997208833694458, 1.9972089529037476, 0.9032268524169922, 2.5292415618896484, 2.8464725017547607, 0.6781026721000671, 0.6642768383026123, 4.137681007385254, 4.227365970611572, 1.0986679792404175, 0.6346929669380188, 1.4996830224990845, 3.2665300369262695, 0.7749528288841248, 0.9940793514251709, 4.141617298126221, 1.9513163566589355, 4.426970958709717, 9.769608497619629, 3.194972515106201, 3.7528750896453857, 3.903049945831299, 3.1462137699127197, 1.9306187629699707, 3.977457284927368, 6.255496501922607, 3.521899700164795, 6.677574634552002, 7.5018110275268555, 6.570424556732178, 4.244643211364746, 3.91548490524292, 6.892890930175781, 7.950332164764404, 6.431156158447266, 6.345315456390381, 5.705116271972656, 5.151793479919434, 5.492735862731934, 5.14178466796875, 4.05653715133667, 4.25112247467041, 4.177141189575195, 3.923868417739868, 4.265015602111816, 4.124758720397949, 4.052895545959473, 1.2471723556518555, 2.1243231296539307, 2.261744260787964, 0.980278730392456, 0.8525091409683228, 1.345771312713623, 1.345771312713623, 1.488071322441101, 2.0834896564483643, 2.6965830326080322, 1.6689003705978394, 1.1290446519851685, 0.9531506896018982, 1.0776466131210327, 1.0776464939117432, 1.9286118745803833, 0.9862102270126343, 2.311544418334961, 0.6582025289535522, 1.4545872211456299, 1.4545872211456299, 0.6489154100418091, 0.6489154100418091, 0.6489154696464539, 0.6489154100418091, 0.6489153504371643, 0.6362547874450684, 1.1510287523269653, 1.1510288715362549, 0.6968653202056885, 1.996613621711731, 1.6047509908676147, 2.1564583778381348, 5.103811740875244, 2.892868757247925, 0.9137560129165649, 0.9137558341026306, 0.9137560129165649, 0.9137560129165649, 2.1937108039855957, 1.3619166612625122, 3.0786523818969727, 2.321040391921997, 2.199498414993286, 4.455465793609619, 4.6771440505981445, 6.253406047821045, 3.8070101737976074, 3.972062349319458, 4.39278507232666, 2.7807462215423584, 2.5397019386291504, 3.8926174640655518, 4.886387348175049, 3.379039764404297, 3.5069804191589355, 2.878169059753418, 3.320054054260254, 3.2468409538269043, 3.6563310623168945, 2.843714714050293, 3.072888135910034, 2.535102605819702, 3.142332077026367, 2.986788511276245, 3.01169490814209, 2.850125789642334, 2.809044599533081, 2.568390369415283, 2.5505051612854004, 2.178772211074829, 1.771213412284851, 6.557216167449951, 0.9724248647689819, 0.9486791491508484, 2.127316474914551, 1.2633675336837769, 1.2633675336837769, 6.153284549713135, 1.4183377027511597, 1.4183377027511597, 0.8649320602416992, 1.621238350868225, 0.862532913684845, 0.862532913684845, 0.8625327348709106, 0.9883552193641663, 1.4820473194122314, 2.086561441421509, 1.3375844955444336, 0.7936953902244568, 1.3468021154403687, 1.001111388206482, 1.1856855154037476, 0.707700788974762, 0.8362075090408325, 0.6553348302841187, 1.0330511331558228, 0.8297666311264038, 0.5214941501617432, 0.6903384327888489, 10.674261093139648, 1.1804225444793701, 2.3553223609924316, 1.4364969730377197, 2.191624641418457, 6.37015962600708, 5.426095962524414, 4.714602947235107, 3.7015225887298584, 4.5589094161987305, 5.557646751403809, 4.663963794708252, 2.5939745903015137, 3.7158420085906982, 3.590160608291626, 3.6513748168945312, 3.2154347896575928, 3.0390617847442627, 3.2897861003875732, 3.1234214305877686, 2.2090542316436768, 2.3600118160247803, 2.585063934326172, 3.0366709232330322, 3.187873363494873, 2.87229061126709, 2.8005027770996094, 2.3527157306671143, 2.472738742828369, 2.432671070098877, 2.3274970054626465, 2.3147895336151123], \"Total\": [118.0, 51.0, 43.0, 74.0, 26.0, 53.0, 28.0, 45.0, 34.0, 72.0, 32.0, 29.0, 30.0, 82.0, 32.0, 23.0, 12.0, 58.0, 12.0, 24.0, 11.0, 35.0, 34.0, 14.0, 14.0, 30.0, 22.0, 31.0, 24.0, 12.0, 3.7664780616760254, 3.90565824508667, 1.8109279870986938, 7.140234470367432, 8.51240348815918, 8.51151180267334, 5.21867036819458, 1.7148927450180054, 8.061319351196289, 4.456048011779785, 8.79999828338623, 7.029508590698242, 6.545314788818359, 5.258782386779785, 3.390540361404419, 2.3501110076904297, 3.553682327270508, 32.03424835205078, 2.763270854949951, 2.763270378112793, 8.278082847595215, 16.305204391479492, 3.3557283878326416, 1.4983625411987305, 3.6217708587646484, 1.4683794975280762, 2.113896131515503, 4.1446533203125, 2.113896131515503, 2.113896131515503, 3.706171751022339, 17.445402145385742, 17.9364013671875, 8.783206939697266, 2.7512319087982178, 4.972837448120117, 87.97097778320312, 78.70911407470703, 11.1615571975708, 48.30851364135742, 9.815842628479004, 36.37771987915039, 30.773632049560547, 9.816828727722168, 15.545207977294922, 23.427139282226562, 11.395892143249512, 12.987540245056152, 111.44392395019531, 84.04974365234375, 148.500732421875, 25.432209014892578, 87.37437438964844, 40.20478820800781, 106.3185043334961, 72.6185302734375, 34.30064392089844, 42.494850158691406, 94.19586944580078, 49.80725860595703, 48.985496520996094, 54.82479476928711, 40.47429656982422, 24.870492935180664, 38.6802978515625, 97.20952606201172, 51.15846252441406, 58.1955680847168, 54.82175827026367, 82.94989776611328, 58.10044479370117, 73.78279113769531, 9.151538848876953, 2.152883529663086, 2.6480631828308105, 2.8535501956939697, 16.710432052612305, 9.604961395263672, 2.3630762100219727, 2.6296029090881348, 3.5373342037200928, 3.886540651321411, 3.886540651321411, 3.8865408897399902, 1.7037090063095093, 1.7037090063095093, 2.4075052738189697, 2.5753695964813232, 2.101583242416382, 1.5919798612594604, 2.1895577907562256, 4.292998313903809, 4.451873779296875, 4.451827526092529, 4.4515275955200195, 4.451160430908203, 3.6307754516601562, 3.396768808364868, 3.396768569946289, 19.09632682800293, 3.546077251434326, 4.181748390197754, 4.181748867034912, 21.500160217285156, 21.461877822875977, 27.09589195251465, 34.080963134765625, 5.767118453979492, 27.510011672973633, 29.065122604370117, 33.9328498840332, 35.79035568237305, 36.92878341674805, 37.581905364990234, 34.70051193237305, 28.59988784790039, 49.80725860595703, 37.40415573120117, 45.690982818603516, 50.14501190185547, 44.07450485229492, 69.33998107910156, 52.30303955078125, 72.6185302734375, 77.40680694580078, 7.120047569274902, 106.3185043334961, 60.39899826049805, 51.70049285888672, 28.472505569458008, 148.500732421875, 94.19586944580078, 111.44392395019531, 87.37437438964844, 3.2658164501190186, 3.4122681617736816, 6.519742965698242, 4.179407119750977, 1.7590214014053345, 4.365303993225098, 4.587662220001221, 2.673236131668091, 1.6600110530853271, 2.601789951324463, 6.121473789215088, 2.4173192977905273, 29.733139038085938, 3.8902461528778076, 2.0912513732910156, 5.82228422164917, 5.82228422164917, 3.123516321182251, 3.123516321182251, 9.536308288574219, 8.775077819824219, 1.5496095418930054, 1.5496095418930054, 1.5496097803115845, 2.7982115745544434, 3.4093668460845947, 12.397544860839844, 1.5035085678100586, 2.7872419357299805, 6.467266082763672, 30.809158325195312, 14.881195068359375, 5.908515453338623, 13.706022262573242, 11.582368850708008, 6.423452854156494, 72.30316925048828, 9.122003555297852, 7.795969009399414, 19.812780380249023, 52.30303955078125, 8.166766166687012, 70.47896575927734, 45.81623077392578, 30.17868995666504, 54.82175827026367, 97.20952606201172, 29.893396377563477, 23.982620239257812, 59.141048431396484, 74.1319808959961, 33.9614372253418, 26.272327423095703, 30.700212478637695, 55.551204681396484, 148.500732421875, 51.0213508605957, 50.14501190185547, 58.1955680847168, 118.2171630859375, 28.953203201293945, 94.19586944580078, 106.3185043334961, 35.3480110168457, 84.04974365234375, 111.44392395019531, 4.155174255371094, 6.812075138092041, 6.812075614929199, 6.930506229400635, 4.395987033843994, 4.395987033843994, 7.2163238525390625, 3.834543228149414, 2.779247760772705, 2.779247999191284, 1.686194658279419, 9.327913284301758, 9.327913284301758, 9.327913284301758, 9.327913284301758, 9.327913284301758, 5.419426918029785, 51.70049285888672, 2.488577127456665, 5.069457530975342, 10.123004913330078, 2.809723138809204, 2.809723138809204, 3.2255241870880127, 1.9357547760009766, 1.9357548952102661, 2.312321901321411, 2.5694665908813477, 2.5694668292999268, 2.624358892440796, 5.761683464050293, 18.85488510131836, 5.761683464050293, 9.075142860412598, 5.807640552520752, 22.008516311645508, 22.560890197753906, 11.088254928588867, 14.64519214630127, 82.94989776611328, 33.02846145629883, 31.930831909179688, 33.9614372253418, 12.603873252868652, 40.47429656982422, 36.2174072265625, 34.70051193237305, 42.494850158691406, 148.500732421875, 58.1955680847168, 59.141048431396484, 51.0213508605957, 70.47896575927734, 97.20952606201172, 51.55018997192383, 111.44392395019531, 84.04974365234375, 48.01084518432617, 7.149538516998291, 2.849473476409912, 6.42356538772583, 4.874182224273682, 4.974709987640381, 4.974709987640381, 2.4713566303253174, 2.2969679832458496, 2.307971477508545, 3.680209159851074, 8.442839622497559, 2.366353988647461, 10.734670639038086, 10.73466682434082, 10.80618667602539, 11.059577941894531, 2.233304023742676, 2.2333037853240967, 1.5902267694473267, 1.5902268886566162, 6.351244926452637, 1.9919357299804688, 5.179349899291992, 11.113475799560547, 6.820888042449951, 6.426923751831055, 6.425867557525635, 6.4258198738098145, 2.046640396118164, 11.260233879089355, 11.606825828552246, 6.863015174865723, 11.634598731994629, 4.371099472045898, 3.518604040145874, 23.377500534057617, 5.974009037017822, 23.82451057434082, 6.7302727699279785, 74.1319808959961, 9.863227844238281, 12.452203750610352, 15.229277610778809, 24.642383575439453, 106.3185043334961, 73.74761962890625, 77.40680694580078, 148.500732421875, 111.44392395019531, 82.94989776611328, 40.65484619140625, 97.20952606201172, 73.78279113769531, 24.870492935180664, 87.97097778320312, 118.2171630859375, 72.6185302734375, 94.19586944580078, 87.37437438964844, 58.10044479370117, 72.30316925048828, 2.5507287979125977, 2.9391419887542725, 3.198575258255005, 3.2547059059143066, 4.697664260864258, 4.982199192047119, 7.996931552886963, 28.872343063354492, 5.306277275085449, 6.326248645782471, 2.2531380653381348, 2.278583526611328, 2.278583526611328, 4.44109582901001, 4.441096305847168, 3.557115077972412, 1.5652271509170532, 1.5644882917404175, 2.135533094406128, 3.7346436977386475, 1.5356686115264893, 2.221259355545044, 5.501716136932373, 2.4786648750305176, 2.742100477218628, 6.041069507598877, 6.429862022399902, 1.4328174591064453, 5.064558029174805, 6.487332820892334, 2.8530707359313965, 7.484956741333008, 6.167057037353516, 6.888587951660156, 6.815415859222412, 8.62675666809082, 7.076571464538574, 74.1319808959961, 11.171720504760742, 11.258318901062012, 58.49435806274414, 10.606022834777832, 51.15846252441406, 54.82479476928711, 30.17868995666504, 35.49009323120117, 24.870492935180664, 22.065893173217773, 45.81623077392578, 60.39899826049805, 73.78279113769531, 106.3185043334961, 97.20952606201172, 40.20478820800781, 118.2171630859375, 29.930635452270508, 148.500732421875, 37.16252899169922, 72.6185302734375, 77.40680694580078, 94.19586944580078, 23.427139282226562, 25.148488998413086, 69.33998107910156, 57.60038375854492, 58.10044479370117, 111.44392395019531, 72.30316925048828, 73.74761962890625, 87.97097778320312, 8.683004379272461, 8.683005332946777, 2.8130288124084473, 4.306491851806641, 10.114188194274902, 2.4264883995056152, 5.329727649688721, 6.29576301574707, 3.095883846282959, 4.513274669647217, 3.0019633769989014, 2.5710339546203613, 2.5710339546203613, 2.5710337162017822, 2.5710339546203613, 2.6969544887542725, 5.409541606903076, 3.01511549949646, 2.7608845233917236, 3.0774621963500977, 2.02508282661438, 2.8930723667144775, 3.8643739223480225, 3.374204158782959, 3.642360210418701, 3.642360210418701, 1.4200595617294312, 3.710103750228882, 3.430692672729492, 2.482877254486084, 2.482877254486084, 2.482877254486084, 5.492172718048096, 12.817061424255371, 25.772912979125977, 19.762174606323242, 6.209636211395264, 17.843732833862305, 24.26524543762207, 7.692111492156982, 5.871860504150391, 4.744722366333008, 6.485889911651611, 30.773632049560547, 8.297703742980957, 41.17308044433594, 18.550323486328125, 26.816509246826172, 63.19151306152344, 106.3185043334961, 111.44392395019531, 73.74761962890625, 50.14501190185547, 18.450963973999023, 58.49435806274414, 32.59250259399414, 45.81623077392578, 148.500732421875, 94.19586944580078, 72.30316925048828, 87.97097778320312, 48.30851364135742, 60.39899826049805, 118.2171630859375, 87.37437438964844, 97.20952606201172, 44.07450485229492, 52.30303955078125, 72.6185302734375, 2.7105252742767334, 2.7105252742767334, 2.1424710750579834, 2.438703775405884, 2.438703775405884, 2.438704013824463, 2.438703775405884, 7.734135627746582, 3.2962093353271484, 3.938462495803833, 1.5365774631500244, 1.5262707471847534, 2.1970324516296387, 5.043346405029297, 2.2935373783111572, 3.0313353538513184, 2.6921494007110596, 1.449574589729309, 2.719031572341919, 2.868156671524048, 2.868156671524048, 2.8018040657043457, 1.3968862295150757, 1.3968861103057861, 8.644994735717773, 2.306865692138672, 3.848064422607422, 3.8193893432617188, 2.5870461463928223, 2.2764265537261963, 3.9011168479919434, 6.411113739013672, 3.153812885284424, 12.151118278503418, 6.788912773132324, 4.882756233215332, 10.721466064453125, 7.196481704711914, 10.310593605041504, 11.353529930114746, 15.552175521850586, 5.334418296813965, 38.530277252197266, 8.828757286071777, 48.985496520996094, 19.179288864135742, 53.083683013916016, 13.668996810913086, 42.20055389404297, 13.868436813354492, 58.1955680847168, 10.580768585205078, 57.60038375854492, 41.17308044433594, 30.17868995666504, 43.5505256652832, 22.51776885986328, 118.2171630859375, 94.19586944580078, 84.04974365234375, 106.3185043334961, 72.30316925048828, 148.500732421875, 49.80725860595703, 69.33998107910156, 41.522212982177734, 63.19151306152344, 97.20952606201172, 59.141048431396484, 51.0213508605957, 38.6802978515625, 12.852766990661621, 12.951937675476074, 26.222352981567383, 14.438701629638672, 14.723406791687012, 2.160663604736328, 1.6700825691223145, 1.670082449913025, 5.001367092132568, 3.892958879470825, 2.258840560913086, 2.931190013885498, 6.6792826652526855, 3.37959885597229, 1.5295841693878174, 3.1897380352020264, 2.2600772380828857, 43.5505256652832, 2.228595733642578, 2.228595733642578, 3.5956168174743652, 5.53895378112793, 1.8211311101913452, 1.8211312294006348, 1.439444899559021, 1.4146544933319092, 1.4057449102401733, 2.1239945888519287, 1.8248769044876099, 1.9724743366241455, 2.405759811401367, 34.30064392089844, 32.79153060913086, 3.5104618072509766, 8.449278831481934, 4.232420921325684, 24.730546951293945, 6.911239147186279, 9.233105659484863, 31.46194076538086, 35.49009323120117, 4.100760459899902, 48.01084518432617, 51.55018997192383, 42.723594665527344, 49.46426773071289, 9.2120943069458, 31.577865600585938, 41.522212982177734, 78.70911407470703, 148.500732421875, 73.74761962890625, 94.19586944580078, 69.33998107910156, 55.551204681396484, 73.78279113769531, 111.44392395019531, 87.37437438964844, 57.60038375854492, 54.82175827026367, 82.94989776611328, 77.40680694580078, 97.20952606201172, 3.8290014266967773, 2.170370578765869, 2.2667365074157715, 2.202922821044922, 2.202923059463501, 5.530346393585205, 2.8644938468933105, 2.1253185272216797, 2.1253185272216797, 2.1032962799072266, 1.9070180654525757, 1.5422290563583374, 2.0797946453094482, 1.5209403038024902, 2.8073108196258545, 2.8564929962158203, 4.058950424194336, 1.7947380542755127, 4.749912738800049, 1.8019839525222778, 1.8019839525222778, 1.4392054080963135, 3.5834171772003174, 1.4115155935287476, 4.199656009674072, 3.3761391639709473, 2.6568617820739746, 2.8359646797180176, 2.8203959465026855, 3.11777925491333, 53.083683013916016, 9.690079689025879, 4.477600574493408, 24.642383575439453, 8.808708190917969, 11.339313507080078, 4.45799446105957, 5.72495174407959, 4.422173976898193, 72.30316925048828, 10.41842269897461, 11.336499214172363, 31.930831909179688, 84.04974365234375, 7.947595596313477, 87.37437438964844, 37.16252899169922, 77.40680694580078, 58.49435806274414, 21.814205169677734, 49.46426773071289, 73.78279113769531, 18.552438735961914, 21.500160217285156, 148.500732421875, 42.723594665527344, 28.472505569458008, 29.065122604370117, 106.3185043334961, 87.97097778320312, 43.5505256652832, 44.07450485229492, 111.44392395019531, 54.82175827026367, 118.2171630859375, 69.33998107910156, 72.6185302734375, 35.3480110168457, 70.47896575927734, 58.10044479370117, 78.70911407470703, 97.20952606201172, 94.19586944580078, 60.39899826049805, 3.2591075897216797, 1.6995857954025269, 2.7137534618377686, 3.3001346588134766, 3.3001346588134766, 2.2547292709350586, 2.5677530765533447, 9.924650192260742, 9.925241470336914, 3.0008068084716797, 3.000807285308838, 1.4297012090682983, 11.29897403717041, 3.0465247631073, 3.046525001525879, 3.0465247631073, 2.253796100616455, 1.3907142877578735, 1.7482160329818726, 3.8891303539276123, 2.0485544204711914, 2.0485546588897705, 1.3407243490219116, 2.448408365249634, 1.6279813051223755, 1.6279815435409546, 1.6279813051223755, 1.6279813051223755, 1.6279813051223755, 1.3114417791366577, 18.797199249267578, 1.9769704341888428, 3.728560447692871, 5.240433216094971, 31.577865600585938, 4.030079364776611, 3.9689722061157227, 8.769612312316895, 5.545412063598633, 5.545412063598633, 35.79035568237305, 41.522212982177734, 37.581905364990234, 22.560890197753906, 31.46194076538086, 94.19586944580078, 54.82175827026367, 33.9328498840332, 48.01084518432617, 23.427139282226562, 36.92878341674805, 45.690982818603516, 36.19977951049805, 59.141048431396484, 32.59250259399414, 51.0213508605957, 148.500732421875, 19.812780380249023, 43.5505256652832, 49.46426773071289, 22.065893173217773, 97.20952606201172, 78.70911407470703, 87.37437438964844, 69.33998107910156, 70.47896575927734, 77.40680694580078, 106.3185043334961, 111.44392395019531, 7.000575542449951, 3.3628759384155273, 9.894328117370605, 6.62825345993042, 8.386690139770508, 6.244933128356934, 2.971325635910034, 3.034769296646118, 3.0347695350646973, 10.729890823364258, 4.563182353973389, 5.939152717590332, 5.939152240753174, 5.939152717590332, 3.1097002029418945, 11.247374534606934, 6.0879926681518555, 1.5304948091506958, 3.1524672508239746, 3.1524674892425537, 6.07961368560791, 6.092357635498047, 1.5051003694534302, 3.601073980331421, 1.4337098598480225, 2.6242873668670654, 3.309190273284912, 3.6149017810821533, 3.614901304244995, 6.587343215942383, 3.711726188659668, 3.711726665496826, 3.711726427078247, 3.711726665496826, 3.711726427078247, 118.2171630859375, 13.402414321899414, 19.76365852355957, 15.245991706848145, 40.65484619140625, 14.883209228515625, 11.252528190612793, 12.973299026489258, 25.847780227661133, 58.49435806274414, 24.730546951293945, 111.44392395019531, 37.16252899169922, 82.94989776611328, 35.49009323120117, 148.500732421875, 48.985496520996094, 70.47896575927734, 73.74761962890625, 87.37437438964844, 69.33998107910156, 73.78279113769531, 58.10044479370117, 106.3185043334961, 29.930635452270508, 5.179214000701904, 3.6789698600769043, 2.2384562492370605, 3.232879400253296, 6.711547374725342, 2.32973313331604, 6.432564735412598, 6.433778762817383, 6.433870315551758, 1.5558340549468994, 7.868174076080322, 8.266249656677246, 6.349010467529297, 1.514278531074524, 1.5137720108032227, 4.052144527435303, 4.052144527435303, 1.8430932760238647, 5.255971908569336, 5.94758939743042, 1.419925570487976, 1.4060994386672974, 8.860270500183105, 9.122686386108398, 2.3717246055603027, 1.3765156269073486, 3.300147533416748, 7.195098876953125, 1.7419171333312988, 2.241954803466797, 9.712512969970703, 4.482050895690918, 10.461360931396484, 23.93189239501953, 7.714022636413574, 9.227916717529297, 10.003361701965332, 7.9571967124938965, 4.530606746673584, 11.613143920898438, 30.809158325195312, 14.241268157958984, 52.30303955078125, 77.40680694580078, 70.47896575927734, 26.272327423095703, 22.51776885986328, 97.20952606201172, 148.500732421875, 87.37437438964844, 106.3185043334961, 73.78279113769531, 58.1955680847168, 84.04974365234375, 78.70911407470703, 26.816509246826172, 38.6802978515625, 48.30851364135742, 29.893396377563477, 87.97097778320312, 82.94989776611328, 94.19586944580078, 1.9866149425506592, 3.422342538833618, 3.775005578994751, 1.7197213172912598, 1.591951608657837, 2.5655014514923096, 2.5655014514923096, 2.891981840133667, 4.081479072570801, 5.3336501121521, 3.303584098815918, 2.2616801261901855, 1.9450914859771729, 2.2177035808563232, 2.217703342437744, 4.023022174835205, 2.0597057342529297, 4.863368034362793, 1.3976447582244873, 3.1021859645843506, 3.1021859645843506, 1.3883576393127441, 1.3883576393127441, 1.3883576393127441, 1.3883577585220337, 1.3883576393127441, 1.375697374343872, 2.52833890914917, 2.52833890914917, 1.5455878973007202, 4.551245212554932, 3.6817355155944824, 5.238574028015137, 14.285945892333984, 8.116886138916016, 2.0993642807006836, 2.0993642807006836, 2.0993642807006836, 2.0993645191192627, 6.368288993835449, 3.803469657897949, 13.048491477966309, 9.2120943069458, 8.856040954589844, 34.70051193237305, 40.65484619140625, 84.04974365234375, 30.17868995666504, 55.551204681396484, 74.1319808959961, 23.08640480041504, 19.194053649902344, 63.19151306152344, 148.500732421875, 49.46426773071289, 57.60038375854492, 34.30064392089844, 59.141048431396484, 54.82479476928711, 97.20952606201172, 42.20055389404297, 73.74761962890625, 22.728675842285156, 106.3185043334961, 77.40680694580078, 87.37437438964844, 94.19586944580078, 111.44392395019531, 58.1955680847168, 51.55018997192383, 3.1932854652404785, 2.792943239212036, 11.352651596069336, 1.7157912254333496, 1.6920465230941772, 4.151102542877197, 2.5135722160339355, 2.5135722160339355, 12.248245239257812, 2.8971073627471924, 2.8971076011657715, 1.7694236040115356, 3.37121844291687, 1.8126533031463623, 1.8126533031463623, 1.8126533031463623, 2.0917165279388428, 3.142056941986084, 4.533972263336182, 2.960066795349121, 1.777118444442749, 3.020869255065918, 2.2640533447265625, 2.687105894088745, 1.6185808181762695, 1.9179191589355469, 1.53275465965271, 2.4169435501098633, 1.9954935312271118, 1.2648603916168213, 1.688071608543396, 45.81623077392578, 3.288675308227539, 9.43695068359375, 4.6081013679504395, 9.6217622756958, 73.74761962890625, 63.19151306152344, 51.55018997192383, 35.3480110168457, 60.39899826049805, 118.2171630859375, 111.44392395019531, 27.510011672973633, 74.1319808959961, 73.78279113769531, 97.20952606201172, 69.33998107910156, 57.60038375854492, 82.94989776611328, 84.04974365234375, 22.065893173217773, 30.700212478637695, 45.690982818603516, 106.3185043334961, 148.500732421875, 94.19586944580078, 87.37437438964844, 37.581905364990234, 78.70911407470703, 87.97097778320312, 36.19977951049805, 55.551204681396484], \"Category\": [\"Default\", \"Default\", \"Default\", \"Default\", \"Default\", \"Default\", \"Default\", \"Default\", \"Default\", \"Default\", \"Default\", \"Default\", \"Default\", \"Default\", \"Default\", \"Default\", \"Default\", \"Default\", \"Default\", \"Default\", \"Default\", \"Default\", \"Default\", \"Default\", \"Default\", \"Default\", \"Default\", \"Default\", \"Default\", \"Default\", \"Topic1\", \"Topic1\", \"Topic1\", \"Topic1\", \"Topic1\", \"Topic1\", \"Topic1\", \"Topic1\", \"Topic1\", \"Topic1\", \"Topic1\", \"Topic1\", \"Topic1\", \"Topic1\", \"Topic1\", \"Topic1\", \"Topic1\", \"Topic1\", \"Topic1\", \"Topic1\", \"Topic1\", \"Topic1\", \"Topic1\", \"Topic1\", \"Topic1\", \"Topic1\", \"Topic1\", \"Topic1\", \"Topic1\", \"Topic1\", \"Topic1\", \"Topic1\", \"Topic1\", \"Topic1\", \"Topic1\", \"Topic1\", \"Topic1\", \"Topic1\", \"Topic1\", \"Topic1\", \"Topic1\", \"Topic1\", \"Topic1\", \"Topic1\", \"Topic1\", \"Topic1\", \"Topic1\", \"Topic1\", \"Topic1\", \"Topic1\", \"Topic1\", \"Topic1\", \"Topic1\", \"Topic1\", \"Topic1\", \"Topic1\", \"Topic1\", \"Topic1\", \"Topic1\", \"Topic1\", \"Topic1\", \"Topic1\", \"Topic1\", \"Topic1\", \"Topic1\", \"Topic1\", \"Topic1\", \"Topic1\", \"Topic1\", \"Topic1\", \"Topic1\", \"Topic1\", \"Topic2\", \"Topic2\", \"Topic2\", \"Topic2\", \"Topic2\", \"Topic2\", \"Topic2\", \"Topic2\", \"Topic2\", \"Topic2\", \"Topic2\", \"Topic2\", \"Topic2\", \"Topic2\", \"Topic2\", \"Topic2\", \"Topic2\", \"Topic2\", \"Topic2\", \"Topic2\", \"Topic2\", \"Topic2\", \"Topic2\", \"Topic2\", \"Topic2\", \"Topic2\", \"Topic2\", \"Topic2\", \"Topic2\", \"Topic2\", \"Topic2\", \"Topic2\", \"Topic2\", \"Topic2\", \"Topic2\", \"Topic2\", \"Topic2\", \"Topic2\", \"Topic2\", \"Topic2\", \"Topic2\", \"Topic2\", \"Topic2\", \"Topic2\", \"Topic2\", \"Topic2\", \"Topic2\", \"Topic2\", \"Topic2\", \"Topic2\", \"Topic2\", \"Topic2\", \"Topic2\", \"Topic2\", \"Topic2\", \"Topic2\", \"Topic2\", \"Topic2\", \"Topic2\", \"Topic2\", \"Topic2\", \"Topic2\", \"Topic3\", \"Topic3\", \"Topic3\", \"Topic3\", \"Topic3\", \"Topic3\", \"Topic3\", \"Topic3\", \"Topic3\", \"Topic3\", \"Topic3\", \"Topic3\", \"Topic3\", \"Topic3\", \"Topic3\", \"Topic3\", \"Topic3\", \"Topic3\", \"Topic3\", \"Topic3\", \"Topic3\", \"Topic3\", \"Topic3\", \"Topic3\", \"Topic3\", \"Topic3\", \"Topic3\", \"Topic3\", \"Topic3\", \"Topic3\", \"Topic3\", \"Topic3\", \"Topic3\", \"Topic3\", \"Topic3\", \"Topic3\", \"Topic3\", \"Topic3\", \"Topic3\", \"Topic3\", \"Topic3\", \"Topic3\", \"Topic3\", \"Topic3\", \"Topic3\", \"Topic3\", \"Topic3\", \"Topic3\", \"Topic3\", \"Topic3\", \"Topic3\", \"Topic3\", \"Topic3\", \"Topic3\", \"Topic3\", \"Topic3\", \"Topic3\", \"Topic3\", \"Topic3\", \"Topic3\", \"Topic3\", \"Topic3\", \"Topic3\", \"Topic3\", \"Topic3\", \"Topic3\", \"Topic4\", \"Topic4\", \"Topic4\", \"Topic4\", \"Topic4\", \"Topic4\", \"Topic4\", \"Topic4\", \"Topic4\", \"Topic4\", \"Topic4\", \"Topic4\", \"Topic4\", \"Topic4\", \"Topic4\", \"Topic4\", \"Topic4\", \"Topic4\", \"Topic4\", \"Topic4\", \"Topic4\", \"Topic4\", \"Topic4\", \"Topic4\", \"Topic4\", \"Topic4\", \"Topic4\", \"Topic4\", \"Topic4\", \"Topic4\", \"Topic4\", \"Topic4\", \"Topic4\", \"Topic4\", \"Topic4\", \"Topic4\", \"Topic4\", \"Topic4\", \"Topic4\", \"Topic4\", \"Topic4\", \"Topic4\", \"Topic4\", \"Topic4\", \"Topic4\", \"Topic4\", \"Topic4\", \"Topic4\", \"Topic4\", \"Topic4\", \"Topic4\", \"Topic4\", \"Topic4\", \"Topic4\", \"Topic4\", \"Topic4\", \"Topic4\", \"Topic4\", \"Topic5\", \"Topic5\", \"Topic5\", \"Topic5\", \"Topic5\", \"Topic5\", \"Topic5\", \"Topic5\", \"Topic5\", \"Topic5\", \"Topic5\", \"Topic5\", \"Topic5\", \"Topic5\", \"Topic5\", \"Topic5\", \"Topic5\", \"Topic5\", \"Topic5\", \"Topic5\", \"Topic5\", \"Topic5\", \"Topic5\", \"Topic5\", \"Topic5\", \"Topic5\", \"Topic5\", \"Topic5\", \"Topic5\", \"Topic5\", \"Topic5\", \"Topic5\", \"Topic5\", \"Topic5\", \"Topic5\", \"Topic5\", \"Topic5\", \"Topic5\", \"Topic5\", \"Topic5\", \"Topic5\", \"Topic5\", \"Topic5\", \"Topic5\", \"Topic5\", \"Topic5\", \"Topic5\", \"Topic5\", \"Topic5\", \"Topic5\", \"Topic5\", \"Topic5\", \"Topic5\", \"Topic5\", \"Topic5\", \"Topic5\", \"Topic5\", \"Topic5\", \"Topic5\", \"Topic5\", \"Topic5\", \"Topic6\", \"Topic6\", \"Topic6\", \"Topic6\", \"Topic6\", \"Topic6\", \"Topic6\", \"Topic6\", \"Topic6\", \"Topic6\", \"Topic6\", \"Topic6\", \"Topic6\", \"Topic6\", \"Topic6\", \"Topic6\", \"Topic6\", \"Topic6\", \"Topic6\", \"Topic6\", \"Topic6\", \"Topic6\", \"Topic6\", \"Topic6\", \"Topic6\", \"Topic6\", \"Topic6\", \"Topic6\", \"Topic6\", \"Topic6\", \"Topic6\", \"Topic6\", \"Topic6\", \"Topic6\", \"Topic6\", \"Topic6\", \"Topic6\", \"Topic6\", \"Topic6\", \"Topic6\", \"Topic6\", \"Topic6\", \"Topic6\", \"Topic6\", \"Topic6\", \"Topic6\", \"Topic6\", \"Topic6\", \"Topic6\", \"Topic6\", \"Topic6\", \"Topic6\", \"Topic6\", \"Topic6\", \"Topic6\", \"Topic6\", \"Topic6\", \"Topic6\", \"Topic6\", \"Topic6\", \"Topic6\", \"Topic6\", \"Topic6\", \"Topic6\", \"Topic6\", \"Topic6\", \"Topic6\", \"Topic6\", \"Topic6\", \"Topic6\", \"Topic7\", \"Topic7\", \"Topic7\", \"Topic7\", \"Topic7\", \"Topic7\", \"Topic7\", \"Topic7\", \"Topic7\", \"Topic7\", \"Topic7\", \"Topic7\", \"Topic7\", \"Topic7\", \"Topic7\", \"Topic7\", \"Topic7\", \"Topic7\", \"Topic7\", \"Topic7\", \"Topic7\", \"Topic7\", \"Topic7\", \"Topic7\", \"Topic7\", \"Topic7\", \"Topic7\", \"Topic7\", \"Topic7\", \"Topic7\", \"Topic7\", \"Topic7\", \"Topic7\", \"Topic7\", \"Topic7\", \"Topic7\", \"Topic7\", \"Topic7\", \"Topic7\", \"Topic7\", \"Topic7\", \"Topic7\", \"Topic7\", \"Topic7\", \"Topic7\", \"Topic7\", \"Topic7\", \"Topic7\", \"Topic7\", \"Topic7\", \"Topic7\", \"Topic7\", \"Topic7\", \"Topic7\", \"Topic7\", \"Topic7\", \"Topic7\", \"Topic7\", \"Topic7\", \"Topic7\", \"Topic7\", \"Topic7\", \"Topic7\", \"Topic7\", \"Topic7\", \"Topic7\", \"Topic7\", \"Topic7\", \"Topic7\", \"Topic8\", \"Topic8\", \"Topic8\", \"Topic8\", \"Topic8\", \"Topic8\", \"Topic8\", \"Topic8\", \"Topic8\", \"Topic8\", \"Topic8\", \"Topic8\", \"Topic8\", \"Topic8\", \"Topic8\", \"Topic8\", \"Topic8\", \"Topic8\", \"Topic8\", \"Topic8\", \"Topic8\", \"Topic8\", \"Topic8\", \"Topic8\", \"Topic8\", \"Topic8\", \"Topic8\", \"Topic8\", \"Topic8\", \"Topic8\", \"Topic8\", \"Topic8\", \"Topic8\", \"Topic8\", \"Topic8\", \"Topic8\", \"Topic8\", \"Topic8\", \"Topic8\", \"Topic8\", \"Topic8\", \"Topic8\", \"Topic8\", \"Topic8\", \"Topic8\", \"Topic8\", \"Topic8\", \"Topic8\", \"Topic8\", \"Topic8\", \"Topic8\", \"Topic8\", \"Topic8\", \"Topic8\", \"Topic8\", \"Topic8\", \"Topic8\", \"Topic8\", \"Topic8\", \"Topic8\", \"Topic8\", \"Topic8\", \"Topic8\", \"Topic8\", \"Topic8\", \"Topic8\", \"Topic8\", \"Topic8\", \"Topic8\", \"Topic8\", \"Topic8\", \"Topic9\", \"Topic9\", \"Topic9\", \"Topic9\", \"Topic9\", \"Topic9\", \"Topic9\", \"Topic9\", \"Topic9\", \"Topic9\", \"Topic9\", \"Topic9\", \"Topic9\", \"Topic9\", \"Topic9\", \"Topic9\", \"Topic9\", \"Topic9\", \"Topic9\", \"Topic9\", \"Topic9\", \"Topic9\", \"Topic9\", \"Topic9\", \"Topic9\", \"Topic9\", \"Topic9\", \"Topic9\", \"Topic9\", \"Topic9\", \"Topic9\", \"Topic9\", \"Topic9\", \"Topic9\", \"Topic9\", \"Topic9\", \"Topic9\", \"Topic9\", \"Topic9\", \"Topic9\", \"Topic9\", \"Topic9\", \"Topic9\", \"Topic9\", \"Topic9\", \"Topic9\", \"Topic9\", \"Topic9\", \"Topic9\", \"Topic9\", \"Topic9\", \"Topic9\", \"Topic9\", \"Topic9\", \"Topic9\", \"Topic9\", \"Topic9\", \"Topic9\", \"Topic9\", \"Topic9\", \"Topic9\", \"Topic9\", \"Topic9\", \"Topic10\", \"Topic10\", \"Topic10\", \"Topic10\", \"Topic10\", \"Topic10\", \"Topic10\", \"Topic10\", \"Topic10\", \"Topic10\", \"Topic10\", \"Topic10\", \"Topic10\", \"Topic10\", \"Topic10\", \"Topic10\", \"Topic10\", \"Topic10\", \"Topic10\", \"Topic10\", \"Topic10\", \"Topic10\", \"Topic10\", \"Topic10\", \"Topic10\", \"Topic10\", \"Topic10\", \"Topic10\", \"Topic10\", \"Topic10\", \"Topic10\", \"Topic10\", \"Topic10\", \"Topic10\", \"Topic10\", \"Topic10\", \"Topic10\", \"Topic10\", \"Topic10\", \"Topic10\", \"Topic10\", \"Topic10\", \"Topic10\", \"Topic10\", \"Topic10\", \"Topic10\", \"Topic10\", \"Topic10\", \"Topic10\", \"Topic10\", \"Topic10\", \"Topic10\", \"Topic10\", \"Topic10\", \"Topic10\", \"Topic10\", \"Topic10\", \"Topic10\", \"Topic10\", \"Topic10\", \"Topic10\", \"Topic10\", \"Topic10\", \"Topic10\", \"Topic10\", \"Topic10\", \"Topic10\", \"Topic10\", \"Topic10\", \"Topic10\", \"Topic10\", \"Topic10\", \"Topic10\", \"Topic10\", \"Topic11\", \"Topic11\", \"Topic11\", \"Topic11\", \"Topic11\", \"Topic11\", \"Topic11\", \"Topic11\", \"Topic11\", \"Topic11\", \"Topic11\", \"Topic11\", \"Topic11\", \"Topic11\", \"Topic11\", \"Topic11\", \"Topic11\", \"Topic11\", \"Topic11\", \"Topic11\", \"Topic11\", \"Topic11\", \"Topic11\", \"Topic11\", \"Topic11\", \"Topic11\", \"Topic11\", \"Topic11\", \"Topic11\", \"Topic11\", \"Topic11\", \"Topic11\", \"Topic11\", \"Topic11\", \"Topic11\", \"Topic11\", \"Topic11\", \"Topic11\", \"Topic11\", \"Topic11\", \"Topic11\", \"Topic11\", \"Topic11\", \"Topic11\", \"Topic11\", \"Topic11\", \"Topic11\", \"Topic11\", \"Topic11\", \"Topic11\", \"Topic11\", \"Topic11\", \"Topic11\", \"Topic11\", \"Topic11\", \"Topic11\", \"Topic11\", \"Topic11\", \"Topic11\", \"Topic11\", \"Topic11\", \"Topic11\", \"Topic11\", \"Topic11\", \"Topic11\", \"Topic11\", \"Topic11\", \"Topic11\", \"Topic11\", \"Topic12\", \"Topic12\", \"Topic12\", \"Topic12\", \"Topic12\", \"Topic12\", \"Topic12\", \"Topic12\", \"Topic12\", \"Topic12\", \"Topic12\", \"Topic12\", \"Topic12\", \"Topic12\", \"Topic12\", \"Topic12\", \"Topic12\", \"Topic12\", \"Topic12\", \"Topic12\", \"Topic12\", \"Topic12\", \"Topic12\", \"Topic12\", \"Topic12\", \"Topic12\", \"Topic12\", \"Topic12\", \"Topic12\", \"Topic12\", \"Topic12\", \"Topic12\", \"Topic12\", \"Topic12\", \"Topic12\", \"Topic12\", \"Topic12\", \"Topic12\", \"Topic12\", \"Topic12\", \"Topic12\", \"Topic12\", \"Topic12\", \"Topic12\", \"Topic12\", \"Topic12\", \"Topic12\", \"Topic12\", \"Topic12\", \"Topic12\", \"Topic12\", \"Topic12\", \"Topic12\", \"Topic12\", \"Topic12\", \"Topic12\", \"Topic12\", \"Topic12\", \"Topic12\", \"Topic12\", \"Topic13\", \"Topic13\", \"Topic13\", \"Topic13\", \"Topic13\", \"Topic13\", \"Topic13\", \"Topic13\", \"Topic13\", \"Topic13\", \"Topic13\", \"Topic13\", \"Topic13\", \"Topic13\", \"Topic13\", \"Topic13\", \"Topic13\", \"Topic13\", \"Topic13\", \"Topic13\", \"Topic13\", \"Topic13\", \"Topic13\", \"Topic13\", \"Topic13\", \"Topic13\", \"Topic13\", \"Topic13\", \"Topic13\", \"Topic13\", \"Topic13\", \"Topic13\", \"Topic13\", \"Topic13\", \"Topic13\", \"Topic13\", \"Topic13\", \"Topic13\", \"Topic13\", \"Topic13\", \"Topic13\", \"Topic13\", \"Topic13\", \"Topic13\", \"Topic13\", \"Topic13\", \"Topic13\", \"Topic13\", \"Topic13\", \"Topic13\", \"Topic13\", \"Topic13\", \"Topic13\", \"Topic13\", \"Topic13\", \"Topic13\", \"Topic13\", \"Topic13\", \"Topic13\", \"Topic13\", \"Topic13\", \"Topic13\", \"Topic14\", \"Topic14\", \"Topic14\", \"Topic14\", \"Topic14\", \"Topic14\", \"Topic14\", \"Topic14\", \"Topic14\", \"Topic14\", \"Topic14\", \"Topic14\", \"Topic14\", \"Topic14\", \"Topic14\", \"Topic14\", \"Topic14\", \"Topic14\", \"Topic14\", \"Topic14\", \"Topic14\", \"Topic14\", \"Topic14\", \"Topic14\", \"Topic14\", \"Topic14\", \"Topic14\", \"Topic14\", \"Topic14\", \"Topic14\", \"Topic14\", \"Topic14\", \"Topic14\", \"Topic14\", \"Topic14\", \"Topic14\", \"Topic14\", \"Topic14\", \"Topic14\", \"Topic14\", \"Topic14\", \"Topic14\", \"Topic14\", \"Topic14\", \"Topic14\", \"Topic14\", \"Topic14\", \"Topic14\", \"Topic14\", \"Topic14\", \"Topic14\", \"Topic14\", \"Topic14\", \"Topic14\", \"Topic14\", \"Topic14\", \"Topic14\", \"Topic14\", \"Topic14\", \"Topic14\", \"Topic14\", \"Topic14\", \"Topic14\", \"Topic14\", \"Topic14\", \"Topic14\", \"Topic14\", \"Topic14\", \"Topic14\", \"Topic14\", \"Topic15\", \"Topic15\", \"Topic15\", \"Topic15\", \"Topic15\", \"Topic15\", \"Topic15\", \"Topic15\", \"Topic15\", \"Topic15\", \"Topic15\", \"Topic15\", \"Topic15\", \"Topic15\", \"Topic15\", \"Topic15\", \"Topic15\", \"Topic15\", \"Topic15\", \"Topic15\", \"Topic15\", \"Topic15\", \"Topic15\", \"Topic15\", \"Topic15\", \"Topic15\", \"Topic15\", \"Topic15\", \"Topic15\", \"Topic15\", \"Topic15\", \"Topic15\", \"Topic15\", \"Topic15\", \"Topic15\", \"Topic15\", \"Topic15\", \"Topic15\", \"Topic15\", \"Topic15\", \"Topic15\", \"Topic15\", \"Topic15\", \"Topic15\", \"Topic15\", \"Topic15\", \"Topic15\", \"Topic15\", \"Topic15\", \"Topic15\", \"Topic15\", \"Topic15\", \"Topic15\", \"Topic15\", \"Topic15\", \"Topic15\", \"Topic15\", \"Topic15\", \"Topic15\", \"Topic15\", \"Topic15\", \"Topic15\", \"Topic15\"], \"logprob\": [30.0, 29.0, 28.0, 27.0, 26.0, 25.0, 24.0, 23.0, 22.0, 21.0, 20.0, 19.0, 18.0, 17.0, 16.0, 15.0, 14.0, 13.0, 12.0, 11.0, 10.0, 9.0, 8.0, 7.0, 6.0, 5.0, 4.0, 3.0, 2.0, 1.0, -6.3531999588012695, -6.335400104522705, -7.15500020980835, -5.791800022125244, -5.621699810028076, -5.624100208282471, -6.133800029754639, -7.247900009155273, -5.700300216674805, -6.302499771118164, -5.627500057220459, -5.876699924468994, -5.951000213623047, -6.174200057983398, -6.621500015258789, -7.005099773406982, -6.59660005569458, -4.408299922943115, -6.865300178527832, -6.865300178527832, -5.771399974822998, -5.09499979019165, -6.682700157165527, -7.495699882507324, -6.630899906158447, -7.5355000495910645, -7.172599792480469, -6.499300003051758, -7.172599792480469, -7.172599792480469, -6.612500190734863, -5.1057000160217285, -5.084199905395508, -5.7778000831604, -6.916399955749512, -6.3618998527526855, -3.822200059890747, -3.9683001041412354, -5.654399871826172, -4.450699806213379, -5.798099994659424, -4.7357001304626465, -4.941100120544434, -5.8403000831604, -5.539700031280518, -5.2829999923706055, -5.785099983215332, -5.694900035858154, -4.247799873352051, -4.471099853515625, -4.178199768066406, -5.255099773406982, -4.585999965667725, -5.024700164794922, -4.492400169372559, -4.705100059509277, -5.147299766540527, -5.038000106811523, -4.663400173187256, -4.972099781036377, -4.980199813842773, -4.956999778747559, -5.150400161743164, -5.365900039672852, -5.222700119018555, -4.9542999267578125, -5.161200046539307, -5.1585001945495605, -5.175000190734863, -5.103700160980225, -5.169099807739258, -5.21019983291626, -5.261499881744385, -6.751800060272217, -6.606900215148926, -6.54610013961792, -4.816800117492676, -5.372900009155273, -6.789599895477295, -6.690400123596191, -6.395699977874756, -6.303800106048584, -6.303800106048584, -6.303800106048584, -7.133299827575684, -7.133299827575684, -6.791999816894531, -6.727200031280518, -6.9618000984191895, -7.25600004196167, -6.944799900054932, -6.286600112915039, -6.259699821472168, -6.259699821472168, -6.259900093078613, -6.260200023651123, -6.47160005569458, -6.550600051879883, -6.550600051879883, -4.825900077819824, -6.51669979095459, -6.360799789428711, -6.360799789428711, -4.866099834442139, -4.890900135040283, -4.710700035095215, -4.546500205993652, -6.093800067901611, -4.776199817657471, -4.732699871063232, -4.6066999435424805, -4.588200092315674, -4.604700088500977, -4.619999885559082, -4.738100051879883, -4.918300151824951, -4.533100128173828, -4.768099784851074, -4.702000141143799, -4.713799953460693, -4.81689977645874, -4.584799766540527, -4.829100131988525, -4.656099796295166, -4.657700061798096, -6.007900238037109, -4.669300079345703, -4.947199821472168, -5.033699989318848, -5.329400062561035, -4.587800025939941, -4.823800086975098, -4.793399810791016, -4.990499973297119, -6.417399883270264, -6.379199981689453, -5.7469000816345215, -6.196499824523926, -7.063700199127197, -6.1722002029418945, -6.123300075531006, -6.680600166320801, -7.16510009765625, -6.716599941253662, -5.862599849700928, -6.798699855804443, -4.293900012969971, -6.335299968719482, -6.960599899291992, -5.941800117492676, -5.941800117492676, -6.573299884796143, -6.573299884796143, -5.45989990234375, -5.552999973297119, -7.291800022125244, -7.291800022125244, -7.291800022125244, -6.720699787139893, -6.5269999504089355, -5.238399982452393, -7.349800109863281, -6.737400054931641, -5.899899959564209, -4.415200233459473, -5.122600078582764, -6.033100128173828, -5.257400035858154, -5.448299884796143, -6.008299827575684, -4.009799957275391, -5.735499858856201, -5.897600173950195, -5.196199893951416, -4.492800235748291, -5.932600021362305, -4.470300197601318, -4.806600093841553, -5.157400131225586, -4.828999996185303, -4.559700012207031, -5.211100101470947, -5.3420000076293945, -4.874199867248535, -4.7804999351501465, -5.173900127410889, -5.327700138092041, -5.260300159454346, -4.997300148010254, -4.573599815368652, -5.06790018081665, -5.081699848175049, -5.038000106811523, -4.800300121307373, -5.322800159454346, -5.114799976348877, -5.1595001220703125, -5.366000175476074, -5.309800148010254, -5.336999893188477, -5.663899898529053, -5.296800136566162, -5.296800136566162, -5.30709981918335, -5.827600002288818, -5.827600002288818, -5.335100173950195, -5.994100093841553, -6.411200046539307, -6.411200046539307, -6.911399841308594, -5.215199947357178, -5.215199947357178, -5.215199947357178, -5.215199947357178, -5.215199947357178, -5.760799884796143, -3.518899917602539, -6.55620002746582, -5.856599807739258, -5.170000076293945, -6.453999996185303, -6.453999996185303, -6.317699909210205, -6.835899829864502, -6.835899829864502, -6.662600040435791, -6.57450008392334, -6.57450008392334, -6.557300090789795, -5.785299777984619, -4.624800205230713, -5.785299777984619, -5.393400192260742, -5.837200164794922, -4.664999961853027, -4.651800155639648, -5.271999835968018, -5.095900058746338, -3.8510000705718994, -4.5665998458862305, -4.634900093078613, -4.635700225830078, -5.371099948883057, -4.809999942779541, -4.870299816131592, -4.904099941253662, -4.811100006103516, -4.236800193786621, -4.697000026702881, -4.824900150299072, -4.8927998542785645, -4.831699848175049, -4.759099960327148, -4.94290018081665, -4.8958001136779785, -5.0370001792907715, -5.267899990081787, -5.309599876403809, -6.251399993896484, -5.4618000984191895, -5.783699989318848, -5.76609992980957, -5.76609992980957, -6.475800037384033, -6.57289981842041, -6.576000213623047, -6.127099990844727, -5.301700115203857, -6.5767998695373535, -5.065400123596191, -5.065400123596191, -5.070300102233887, -5.062399864196777, -6.664299964904785, -6.664299964904785, -7.0065999031066895, -7.0065999031066895, -5.625, -6.79040002822876, -5.841300010681152, -5.079899787902832, -5.575699806213379, -5.63640022277832, -5.639200210571289, -5.6392998695373535, -6.7845001220703125, -5.089200019836426, -5.089200019836426, -5.619500160217285, -5.124199867248535, -6.05649995803833, -6.268099784851074, -4.624000072479248, -5.821400165557861, -4.807600021362305, -5.796000003814697, -4.101799964904785, -5.55810022354126, -5.410799980163574, -5.294600009918213, -5.088900089263916, -4.46150016784668, -4.644400119781494, -4.642099857330322, -4.423399925231934, -4.573999881744385, -4.718299865722656, -5.011899948120117, -4.743000030517578, -4.870200157165527, -5.212299823760986, -4.89109992980957, -4.874599933624268, -5.001500129699707, -4.976099967956543, -5.0742998123168945, -5.222400188446045, -5.217700004577637, -6.2941999435424805, -6.207600116729736, -6.138000011444092, -6.138000011444092, -5.808300018310547, -5.7519001960754395, -5.2835001945495605, -4.008800029754639, -5.716899871826172, -5.547100067138672, -6.60129976272583, -6.607999801635742, -6.607999801635742, -5.9405999183654785, -5.9405999183654785, -6.210299968719482, -7.033699989318848, -7.034599781036377, -6.72760009765625, -6.171000003814697, -7.070000171661377, -6.721700191497803, -5.821000099182129, -6.623700141906738, -6.525100231170654, -5.757800102233887, -5.7052998542785645, -7.207799911499023, -5.95959997177124, -5.712399959564209, -6.534200191497803, -5.606299877166748, -5.802599906921387, -5.730299949645996, -5.750800132751465, -5.560299873352051, -5.732699871063232, -3.7613000869750977, -5.444499969482422, -5.447299957275391, -4.335299968719482, -5.535799980163574, -4.4857001304626465, -4.548299789428711, -4.912899971008301, -4.862400054931641, -5.067800045013428, -5.217700004577637, -4.897500038146973, -4.782400131225586, -4.7403998374938965, -4.587500095367432, -4.631899833679199, -5.048399925231934, -4.672800064086914, -5.198200225830078, -4.684700012207031, -5.145100116729736, -4.948299884796143, -4.942299842834473, -4.89109992980957, -5.3256001472473145, -5.312900066375732, -5.092199802398682, -5.14709997177124, -5.1528000831604, -5.045899868011475, -5.254199981689453, -5.2683000564575195, -5.279600143432617, -5.185500144958496, -5.185500144958496, -6.315299987792969, -5.931300163269043, -5.083600044250488, -6.520599842071533, -5.742300033569336, -5.59660005569458, -6.310999870300293, -5.937399864196777, -6.397299766540527, -6.554200172424316, -6.554200172424316, -6.554200172424316, -6.554200172424316, -6.508200168609619, -5.820799827575684, -6.424099922180176, -6.519999980926514, -6.4120001792907715, -6.831999778747559, -6.477200031280518, -6.203400135040283, -6.352499961853027, -6.291399955749512, -6.291399955749512, -7.235400199890137, -6.303299903869629, -6.3846001625061035, -6.709499835968018, -6.709499835968018, -6.709499835968018, -5.9604997634887695, -5.217400074005127, -4.601399898529053, -4.940199851989746, -5.942500114440918, -5.199900150299072, -4.990499973297119, -5.795199871063232, -5.990600109100342, -6.150599956512451, -5.958700180053711, -4.996799945831299, -5.856200218200684, -4.984099864959717, -5.442999839782715, -5.250999927520752, -4.823400020599365, -4.56879997253418, -4.546299934387207, -4.787199974060059, -4.996699810028076, -5.472700119018555, -4.967100143432617, -5.2581000328063965, -5.1697001457214355, -4.759500026702881, -5.0117998123168945, -5.11929988861084, -5.058300018310547, -5.258299827575684, -5.204100131988525, -5.027200222015381, -5.164400100708008, -5.187699794769287, -5.3333001136779785, -5.31879997253418, -5.317299842834473, -6.34060001373291, -6.34060001373291, -6.626500129699707, -6.501699924468994, -6.501699924468994, -6.501699924468994, -6.501699924468994, -5.360099792480469, -6.226200103759766, -6.0671000480651855, -7.0258002281188965, -7.03879976272583, -6.683899879455566, -5.863399982452393, -6.66349983215332, -6.385700225830078, -6.519100189208984, -7.140399932861328, -6.517099857330322, -6.474100112915039, -6.474100112915039, -6.499499797821045, -7.216800212860107, -7.216800212860107, -5.394800186157227, -6.716800212860107, -6.211599826812744, -6.228099822998047, -6.625800132751465, -6.76170015335083, -6.223199844360352, -5.759900093078613, -6.445499897003174, -5.181399822235107, -5.752399921417236, -6.054699897766113, -5.360899925231934, -5.738500118255615, -5.4593000411987305, -5.400599956512451, -5.223800182342529, -6.031799793243408, -4.627600193023682, -5.693399906158447, -4.646500110626221, -5.293399810791016, -4.697000026702881, -5.529099941253662, -4.926400184631348, -5.55019998550415, -4.78000020980835, -5.712299823760986, -4.814300060272217, -5.030600070953369, -5.201200008392334, -5.082300186157227, -5.4475998878479, -4.756700038909912, -4.940199851989746, -4.997499942779541, -4.9380998611450195, -5.135200023651123, -4.939199924468994, -5.25570011138916, -5.226399898529053, -5.344299793243408, -5.31820011138916, -5.3379998207092285, -5.40369987487793, -5.426300048828125, -5.438799858093262, -4.561699867248535, -4.565700054168701, -3.899399995803833, -4.594600200653076, -4.585000038146973, -6.577700138092041, -6.867400169372559, -6.867400169372559, -5.793799877166748, -6.04580020904541, -6.607699871063232, -6.3471999168396, -5.543700218200684, -6.228899955749512, -7.031300067901611, -6.300300121307373, -6.669899940490723, -3.725600004196167, -6.701900005340576, -6.701900005340576, -6.22629976272583, -5.798299789428711, -6.91480016708374, -6.91480016708374, -7.152599811553955, -7.188799858093262, -7.202099800109863, -6.796199798583984, -6.949399948120117, -6.878600120544434, -6.68120002746582, -4.089600086212158, -4.143899917602539, -6.319799900054932, -5.532899856567383, -6.172699928283691, -4.644999980926514, -5.773399829864502, -5.576200008392334, -4.673500061035156, -4.75600004196167, -6.279799938201904, -4.601600170135498, -4.56850004196167, -4.706299781799316, -4.652900218963623, -5.751100063323975, -5.043300151824951, -4.916500091552734, -4.62470006942749, -4.425300121307373, -4.779699802398682, -4.666299819946289, -4.825699806213379, -4.939499855041504, -4.972099781036377, -4.8460001945495605, -4.947500228881836, -5.125699996948242, -5.162099838256836, -5.078499794006348, -5.155700206756592, -5.132400035858154, -5.954899787902832, -6.538899898529053, -6.524400234222412, -6.564799785614014, -6.564799785614014, -5.662300109863281, -6.333600044250488, -6.639500141143799, -6.639500141143799, -6.654200077056885, -6.761099815368652, -6.981100082397461, -6.68720006942749, -7.007999897003174, -6.429699897766113, -6.415299892425537, -6.0644001960754395, -6.887800216674805, -5.917900085449219, -6.893199920654297, -6.893199920654297, -7.118500232696533, -6.218500137329102, -7.158899784088135, -6.076300144195557, -6.295499801635742, -6.537099838256836, -6.4781999588012695, -6.504899978637695, -6.407400131225586, -3.7681000232696533, -5.35129976272583, -6.087600231170654, -4.558499813079834, -5.496500015258789, -5.2941999435424805, -6.098299980163574, -5.93209981918335, -6.170300006866455, -4.1971001625061035, -5.623199939727783, -5.568399906158447, -4.932300090789795, -4.457300186157227, -5.861199855804443, -4.482999801635742, -4.980299949645996, -4.626100063323975, -4.825900077819824, -5.353799819946289, -4.950500011444092, -4.775599956512451, -5.467400074005127, -5.418499946594238, -4.5269999504089355, -5.184299945831299, -5.357699871063232, -5.352200031280518, -4.885499954223633, -4.96999979019165, -5.228899955749512, -5.249899864196777, -4.944300174713135, -5.183800220489502, -5.021500110626221, -5.169099807739258, -5.189899921417236, -5.334000110626221, -5.225200176239014, -5.2652997970581055, -5.250500202178955, -5.292399883270264, -5.316699981689453, -5.349400043487549, -6.021999835968018, -6.758399963378906, -6.30679988861084, -6.17549991607666, -6.17549991607666, -6.576200008392334, -6.46019983291626, -5.111599922180176, -5.111599922180176, -6.318600177764893, -6.318600177764893, -7.089600086212158, -5.0391998291015625, -6.350500106811523, -6.350500106811523, -6.350500106811523, -6.655799865722656, -7.1479997634887695, -6.922599792480469, -6.1265997886657715, -6.7972002029418945, -6.7972002029418945, -7.2281999588012695, -6.6392998695373535, -7.053899765014648, -7.053899765014648, -7.053899765014648, -7.053899765014648, -7.053899765014648, -7.27839994430542, -4.8358001708984375, -6.903900146484375, -6.38100004196167, -6.131800174713135, -4.735300064086914, -6.342800140380859, -6.355199813842773, -5.767000198364258, -6.118000030517578, -6.118000030517578, -4.777900218963623, -4.750999927520752, -4.834400177001953, -5.190999984741211, -4.9882001876831055, -4.280200004577637, -4.678699970245361, -4.9984002113342285, -4.801000118255615, -5.247499942779541, -4.98199987411499, -4.861800193786621, -5.0030999183654785, -4.7322001457214355, -5.062600135803223, -4.842299938201904, -4.351200103759766, -5.37939977645874, -5.034800052642822, -4.979700088500977, -5.39139986038208, -4.780700206756592, -4.92080020904541, -4.899499893188477, -5.012800216674805, -5.098800182342529, -5.077600002288818, -5.021100044250488, -5.159599781036377, -5.084099769592285, -5.875999927520752, -4.90939998626709, -5.3231000900268555, -5.1107001304626465, -5.4207000732421875, -6.219799995422363, -6.204599857330322, -6.204599857330322, -4.946300029754639, -5.803500175476074, -5.546199798583984, -5.546199798583984, -5.546199798583984, -6.2204999923706055, -4.936299800872803, -5.555500030517578, -6.937900066375732, -6.2204999923706055, -6.2204999923706055, -5.5644001960754395, -5.5644001960754395, -6.9704999923706055, -6.099999904632568, -7.067999839782715, -6.464900016784668, -6.235199928283691, -6.1504998207092285, -6.1504998207092285, -5.561999797821045, -6.1479997634887695, -6.1479997634887695, -6.1479997634887695, -6.1479997634887695, -6.1479997634887695, -3.0415000915527344, -5.000500202178955, -4.770400047302246, -5.012499809265137, -4.439599990844727, -5.175000190734863, -5.40339994430542, -5.341300010681152, -5.00540018081665, -4.582200050354004, -5.11959981918335, -4.36460018157959, -4.973199844360352, -4.5960001945495605, -5.0406999588012695, -4.692200183868408, -5.041399955749512, -4.975800037384033, -4.966599941253662, -4.93779993057251, -5.09119987487793, -5.086699962615967, -5.297999858856201, -5.34119987487793, -5.393099784851074, -5.310999870300293, -5.760799884796143, -6.293700218200684, -6.101799964904785, -5.405799865722656, -6.486499786376953, -5.475500106811523, -5.475500106811523, -5.475500106811523, -6.902699947357178, -5.283699989318848, -5.234499931335449, -5.505799770355225, -6.955100059509277, -6.9558000564575195, -6.005199909210205, -6.005199909210205, -6.798699855804443, -5.769000053405762, -5.650899887084961, -7.085400104522705, -7.105999946594238, -5.276800155639648, -5.25540018081665, -6.602799892425537, -7.151599884033203, -6.2916998863220215, -5.513199806213379, -6.951900005340576, -6.702899932861328, -5.275899887084961, -6.02839994430542, -5.209199905395508, -4.417699813842773, -5.535399913787842, -5.3744001388549805, -5.33519983291626, -5.5507001876831055, -6.039100170135498, -5.316299915313721, -4.863500118255615, -5.437900066375732, -4.7982001304626465, -4.68179988861084, -4.8144001960754395, -5.251299858093262, -5.331999778747559, -4.76639986038208, -4.623700141906738, -4.8358001708984375, -4.8491997718811035, -4.955599784851074, -5.057600021362305, -4.993500232696533, -5.059500217437744, -5.296599864959717, -5.249800205230713, -5.267300128936768, -5.329899787902832, -5.246500015258789, -5.279900074005127, -5.297500133514404, -6.309999942779541, -5.777500152587891, -5.714799880981445, -6.55079984664917, -6.690499782562256, -6.23390007019043, -6.23390007019043, -6.133399963378906, -5.796899795532227, -5.538899898529053, -6.018700122833252, -6.4095001220703125, -6.57889986038208, -6.456099987030029, -6.456099987030029, -5.874100208282471, -6.5447998046875, -5.692999839782715, -6.94920015335083, -6.156199932098389, -6.156199932098389, -6.963399887084961, -6.963399887084961, -6.963399887084961, -6.963399887084961, -6.963399887084961, -6.983099937438965, -6.3902997970581055, -6.3902997970581055, -6.892099857330322, -5.8394999504089355, -6.0578999519348145, -5.762400150299072, -4.900899887084961, -5.468699932098389, -6.621099948883057, -6.621099948883057, -6.621099948883057, -6.621099948883057, -5.745299816131592, -6.2220001220703125, -5.406400203704834, -5.688899993896484, -5.742700099945068, -5.036799907684326, -4.9882001876831055, -4.697800159454346, -5.1940999031066895, -5.151599884033203, -5.050899982452393, -5.508200168609619, -5.598899841308594, -5.171800136566162, -4.944499969482422, -5.313300132751465, -5.276199817657471, -5.473800182342529, -5.330900192260742, -5.3531999588012695, -5.234499931335449, -5.485799789428711, -5.408299922943115, -5.6006999015808105, -5.385900020599365, -5.436699867248535, -5.428400039672852, -5.483500003814697, -5.4980998039245605, -5.587600231170654, -5.594600200653076, -5.648600101470947, -5.8557000160217285, -4.546800136566162, -6.455399990081787, -6.480100154876709, -5.672500133514404, -6.193600177764893, -6.193600177764893, -4.610400199890137, -6.077899932861328, -6.077899932861328, -6.572500228881836, -5.944200038909912, -6.575300216674805, -6.575300216674805, -6.575300216674805, -6.4390997886657715, -6.033999919891357, -5.69189977645874, -6.136499881744385, -6.6585001945495605, -6.129700183868408, -6.426300048828125, -6.2571001052856445, -6.773099899291992, -6.606299877166748, -6.849999904632568, -6.394899845123291, -6.613999843597412, -7.078499794006348, -6.797999858856201, -4.059599876403809, -6.261499881744385, -5.570700168609619, -6.065199851989746, -5.6427998542785645, -4.575799942016602, -4.736199855804443, -4.876699924468994, -5.11870002746582, -4.910299777984619, -4.712200164794922, -4.887499809265137, -5.4741997718811035, -5.114799976348877, -5.149199962615967, -5.132299900054932, -5.259399890899658, -5.315899848937988, -5.236599922180176, -5.28849983215332, -5.634799957275391, -5.568699836730957, -5.477700233459473, -5.3165998458862305, -5.26800012588501, -5.372300148010254, -5.397600173950195, -5.571800231933594, -5.52209997177124, -5.538400173187256, -5.582600116729736, -5.588099956512451], \"loglift\": [30.0, 29.0, 28.0, 27.0, 26.0, 25.0, 24.0, 23.0, 22.0, 21.0, 20.0, 19.0, 18.0, 17.0, 16.0, 15.0, 14.0, 13.0, 12.0, 11.0, 10.0, 9.0, 8.0, 7.0, 6.0, 5.0, 4.0, 3.0, 2.0, 1.0, 1.8671000003814697, 1.8487000465393066, 1.797700047492981, 1.7890000343322754, 1.7833000421524048, 1.781000018119812, 1.7604999542236328, 1.7592999935150146, 1.7591999769210815, 1.7497999668121338, 1.7443000078201294, 1.7196999788284302, 1.7167999744415283, 1.712499976158142, 1.7041000127792358, 1.686900019645691, 1.6820000410079956, 1.6714999675750732, 1.6648000478744507, 1.6648000478744507, 1.6614999771118164, 1.660099983215332, 1.6532000303268433, 1.646399974822998, 1.6287000179290771, 1.6268999576568604, 1.6253999471664429, 1.6253999471664429, 1.6253999471664429, 1.6253999471664429, 1.6239999532699585, 1.5817999839782715, 1.5755000114440918, 1.595900058746338, 1.6180000305175781, 1.5806000232696533, 1.2473000288009644, 1.212499976158142, 1.479699969291687, 1.2182999849319458, 1.4644999504089355, 1.2167999744415283, 1.1787999868392944, 1.4220999479293823, 1.263100028038025, 1.1095999479293823, 1.3281999826431274, 1.287600040435791, 0.5852000117301941, 0.6439999938011169, 0.3677000105381012, 1.0555000305175781, 0.4902999997138977, 0.8278999924659729, 0.38769999146461487, 0.5562999844551086, 0.8640999794006348, 0.7591000199317932, 0.337799996137619, 0.6662999987602234, 0.6747999787330627, 0.5853999853134155, 0.6953999996185303, 0.9668999910354614, 0.6685000061988831, 0.015399999916553497, 0.4503999948501587, 0.32420000433921814, 0.3675000071525574, 0.02459999918937683, 0.31529998779296875, 0.03519999980926514, 2.0710999965667725, 2.0280001163482666, 1.9658000469207764, 1.9519000053405762, 1.913699984550476, 1.9113999605178833, 1.8969999551773071, 1.889299988746643, 1.8875000476837158, 1.885200023651123, 1.885200023651123, 1.885200023651123, 1.8804999589920044, 1.8804999589920044, 1.8759000301361084, 1.8732999563217163, 1.8420000076293945, 1.8255000114440918, 1.8179999589920044, 1.802899956703186, 1.7934999465942383, 1.7934999465942383, 1.7934000492095947, 1.7930999994277954, 1.7855000495910645, 1.7731000185012817, 1.7731000185012817, 1.7711000442504883, 1.7640000581741333, 1.7549999952316284, 1.7549999952316284, 1.6124000549316406, 1.589400053024292, 1.5364999771118164, 1.4713000059127808, 1.7005000114440918, 1.4558000564575195, 1.4443000555038452, 1.4154000282287598, 1.3806999921798706, 1.332800030708313, 1.2999999523162842, 1.2616000175476074, 1.2747999429702759, 1.105299949645996, 1.156599998474121, 1.0226000547409058, 0.9178000092506409, 0.9437000155448914, 0.7226999998092651, 0.7603999972343445, 0.6051999926567078, 0.5396999716758728, 1.575700044631958, 0.21080000698566437, 0.4984000027179718, 0.5673999786376953, 0.8682000041007996, -0.04190000146627426, 0.17739999294281006, 0.03970000147819519, 0.08590000122785568, 1.9456000328063965, 1.940000057220459, 1.9248000383377075, 1.919800043106079, 1.9180999994277954, 1.9005999565124512, 1.8997999429702759, 1.882599949836731, 1.8746000528335571, 1.8737000226974487, 1.8720999956130981, 1.8652000427246094, 1.8603999614715576, 1.8526999950408936, 1.8481999635696411, 1.843000054359436, 1.843000054359436, 1.8343000411987305, 1.8343000411987305, 1.8315000534057617, 1.8215999603271484, 1.8167999982833862, 1.8167999982833862, 1.8167999982833862, 1.7968000173568726, 1.7929999828338623, 1.7905999422073364, 1.7889000177383423, 1.78410005569458, 1.7798999547958374, 1.7036000490188599, 1.7237999439239502, 1.7369999885559082, 1.6713000535964966, 1.6486999988555908, 1.6783000230789185, 1.2559000253677368, 1.6003999710083008, 1.5953999757766724, 1.3639999628067017, 1.0966999530792236, 1.5139000415802002, 0.820900022983551, 0.9153000116348267, 0.9819999933242798, 0.7135000228881836, 0.4099999964237213, 0.9377999901771545, 1.0271999835968018, 0.5924000144004822, 0.4602000117301941, 0.8474000096321106, 0.9503999948501587, 0.8619999885559082, 0.5320000052452087, -0.027699999511241913, 0.5464000105857849, 0.5498999953269958, 0.4447000026702881, -0.026200000196695328, 0.8579999804496765, -0.1137000024318695, -0.2793999910354614, 0.6152999997138977, -0.19470000267028809, -0.5038999915122986, 2.458199977874756, 2.3310000896453857, 2.3310000896453857, 2.303499937057495, 2.238300085067749, 2.238300085067749, 2.235100030899048, 2.208400011062622, 2.113100051879883, 2.113100051879883, 2.1126999855041504, 2.098299980163574, 2.098299980163574, 2.098299980163574, 2.098299980163574, 2.098299980163574, 2.0957000255584717, 2.082200050354004, 2.0785999298095703, 2.066699981689453, 2.0617001056671143, 2.0594000816345215, 2.0594000816345215, 2.057800054550171, 2.0501999855041504, 2.0501999855041504, 2.0457000732421875, 2.0283000469207764, 2.0283000469207764, 2.024399995803833, 2.009999990463257, 1.9850000143051147, 2.009999990463257, 1.94760000705719, 1.9500999450683594, 1.7900999784469604, 1.778499960899353, 1.8686000108718872, 1.7666000127792358, 1.2773000001907349, 1.4825999736785889, 1.4479999542236328, 1.385599970817566, 1.6414999961853027, 1.0358999967575073, 1.0866999626159668, 1.0956000089645386, 0.9860000014305115, 0.3091999888420105, 0.7857000231742859, 0.6417999863624573, 0.7214000225067139, 0.4595000147819519, 0.21060000360012054, 0.6610999703407288, -0.06270000338554382, 0.07810000330209732, 0.40720000863075256, 2.26990008354187, 2.247999906539917, 2.2248001098632812, 2.1789000034332275, 2.176100015640259, 2.176100015640259, 2.1658999919891357, 2.1421000957489014, 2.1340999603271484, 2.116499900817871, 2.1115000247955322, 2.1084001064300537, 2.1077001094818115, 2.1077001094818115, 2.096100091934204, 2.0808000564575195, 2.078700065612793, 2.078700065612793, 2.0761001110076904, 2.0761001110076904, 2.0729000568389893, 2.066999912261963, 2.060499906539917, 2.0583999156951904, 2.050800085067749, 2.0495998859405518, 2.046999931335449, 2.0469000339508057, 2.045799970626831, 2.0360000133514404, 2.00570011138916, 2.0009000301361084, 1.9682999849319458, 2.015000104904175, 2.020400047302246, 1.770799994468689, 1.9378000497817993, 1.5681999921798706, 1.8438999652862549, 1.1389000415802002, 1.6995999813079834, 1.6138999462127686, 1.5286999940872192, 1.2532000541687012, 0.4185999929904938, 0.6014999747276306, 0.555400013923645, 0.1225999966263771, 0.2590000033378601, 0.4099999964237213, 0.8295000195503235, 0.22660000622272491, 0.3752000033855438, 1.1204999685287476, 0.17839999496936798, -0.1005999967455864, 0.259799987077713, 0.025100000202655792, 0.002099999925121665, 0.2619999945163727, 0.04800000041723251, 2.3159000873565674, 2.2607998847961426, 2.2458999156951904, 2.2284998893737793, 2.1910998821258545, 2.188800096511841, 2.184000015258789, 2.1749000549316406, 2.1607000827789307, 2.1547000408172607, 2.1328999996185303, 2.115000009536743, 2.115000009536743, 2.115000009536743, 2.115000009536743, 2.0673000812530518, 2.0648000240325928, 2.0643999576568604, 2.06030011177063, 2.057800054550171, 2.047600030899048, 2.026700019836426, 2.0204999446868896, 2.0151000022888184, 2.0127999782562256, 1.9901000261306763, 1.980299949645996, 1.979099988937378, 1.9645999670028687, 1.9643000364303589, 1.9638999700546265, 1.927299976348877, 1.9248000383377075, 1.8863999843597412, 1.8765000104904175, 1.8314000368118286, 1.857100009918213, 1.4794000387191772, 1.688599944114685, 1.6782000064849854, 1.142300009727478, 1.649399995803833, 1.1259000301361084, 0.9940999746322632, 1.2265000343322754, 1.114799976348877, 1.2651000022888184, 1.2347999811172485, 0.824400007724762, 0.6632000207901001, 0.5049999952316284, 0.29260000586509705, 0.337799996137619, 0.8041999936103821, 0.10119999945163727, 0.949400007724762, -0.1387999951839447, 0.7860999703407288, 0.31299999356269836, 0.25519999861717224, 0.11010000109672546, 1.0671000480651855, 1.0089000463485718, 0.21529999375343323, 0.3458999991416931, 0.33160001039505005, -0.21289999783039093, 0.01140000019222498, -0.02239999920129776, -0.20999999344348907, 2.199700117111206, 2.199700117111206, 2.197000026702881, 2.155100107192993, 2.1489999294281006, 2.1394999027252197, 2.13100004196167, 2.109999895095825, 2.1054999828338623, 2.102099895477295, 2.049999952316284, 2.0480000972747803, 2.0480000972747803, 2.0480000972747803, 2.0480000972747803, 2.046299934387207, 2.037600040435791, 2.0188000202178955, 2.010999917984009, 2.0104000568389893, 2.009000062942505, 2.006999969482422, 1.9912999868392944, 1.9779000282287598, 1.962499976158142, 1.962499976158142, 1.9603999853134155, 1.9321999549865723, 1.9291000366210938, 1.9276000261306763, 1.9276000261306763, 1.9276000261306763, 1.882699966430664, 1.77839994430542, 1.6957999467849731, 1.6225999593734741, 1.777899980545044, 1.465000033378601, 1.3669999837875366, 1.7111999988555908, 1.7856999635696411, 1.8388999700546265, 1.7182999849319458, 1.1231000423431396, 1.5743000507354736, 0.8446999788284302, 1.1830999851226807, 1.006500005722046, 0.5770000219345093, 0.31130000948905945, 0.2867000102996826, 0.4587000012397766, 0.6348999738693237, 1.1586999893188477, 0.5105000138282776, 0.8043000102043152, 0.5522000193595886, -0.21359999477863312, -0.010599999688565731, 0.14640000462532043, 0.01119999960064888, 0.4106000065803528, 0.24140000343322754, -0.2531999945640564, -0.08810000121593475, -0.21809999644756317, 0.42730000615119934, 0.27070000767707825, -0.0560000017285347, 2.2088000774383545, 2.2088000774383545, 2.158099889755249, 2.15339994430542, 2.15339994430542, 2.15339994430542, 2.15339994430542, 2.1407999992370605, 2.1275999546051025, 2.1087000370025635, 2.091099977493286, 2.0850000381469727, 2.075500011444092, 2.0650999546051025, 2.052999973297119, 2.051800012588501, 2.037100076675415, 2.0348000526428223, 2.0292000770568848, 2.0188000202178955, 2.0188000202178955, 2.016700029373169, 1.9954999685287476, 1.9954999685287476, 1.9946999549865723, 1.993899941444397, 1.9874000549316406, 1.9782999753952026, 1.9701999425888062, 1.9622000455856323, 1.9621000289916992, 1.9285999536514282, 1.9523999691009521, 1.8676999807357788, 1.8789000511169434, 1.9061000347137451, 1.8134000301361084, 1.8344000577926636, 1.753999948501587, 1.7164000272750854, 1.5786000490188599, 1.840499997138977, 1.2675000429153442, 1.6750999689102173, 1.0084999799728394, 1.299299955368042, 0.8776999711990356, 1.4023000001907349, 0.8776999711990356, 1.3667000532150269, 0.7027000188827515, 1.4752000570297241, 0.6786999702453613, 0.7982000112533569, 0.9380999803543091, 0.6902999877929688, 0.9846000075340271, 0.01730000041425228, 0.061000000685453415, 0.11760000139474869, -0.057999998331069946, 0.13050000369548798, -0.39320001006126404, 0.38260000944137573, 0.08110000193119049, 0.47600001096725464, 0.08219999819993973, -0.3684000074863434, 0.06289999932050705, 0.18799999356269836, 0.45239999890327454, 2.431299924850464, 2.419600009918213, 2.380500078201294, 2.282099962234497, 2.2720999717712402, 2.1984000205993652, 2.166300058364868, 2.166300058364868, 2.1429998874664307, 2.1415998935699463, 2.124000072479248, 2.124000072479248, 2.103800058364868, 2.099900007247925, 2.0901999473571777, 2.0862998962402344, 2.061199903488159, 2.046999931335449, 2.0432000160217285, 2.0432000160217285, 2.0404999256134033, 2.036400079727173, 2.0322999954223633, 2.0322999954223633, 2.029599905014038, 2.0109000205993652, 2.0039000511169434, 1.996999979019165, 1.9957000017166138, 1.988700032234192, 1.9874999523162842, 1.9218000173568726, 1.9124000072479248, 1.970900058746338, 1.8795000314712524, 1.930999994277954, 1.69350004196167, 1.840000033378601, 1.7475999593734741, 1.424299955368042, 1.2213000059127808, 1.8555999994277954, 1.0735000371932983, 1.0355000495910645, 1.0855000019073486, 0.9923999905586243, 1.5749000310897827, 1.0507999658584595, 0.9038000106811523, 0.5561000108718872, 0.12060000002384186, 0.46619999408721924, 0.33489999175071716, 0.48179998993873596, 0.5896999835968018, 0.2734000086784363, -0.013000000268220901, 0.12880000472068787, 0.36730000376701355, 0.38040000200271606, 0.049800001084804535, 0.04179999977350235, -0.16279999911785126, 2.2490999698638916, 2.2327001094818115, 2.2037999629974365, 2.1919000148773193, 2.1919000148773193, 2.1740000247955322, 2.1605000495910645, 2.1531999111175537, 2.1531999111175537, 2.1487998962402344, 2.139899969100952, 2.132200002670288, 2.127000093460083, 2.1191999912261963, 2.0845999717712402, 2.0815999507904053, 2.081199884414673, 2.073899984359741, 2.070499897003174, 2.064500093460083, 2.064500093460083, 2.0638999938964844, 2.0517001152038574, 2.0429999828338623, 2.0352001190185547, 2.0343000888824463, 2.0322000980377197, 2.025899887084961, 2.0048000812530518, 2.002000093460083, 1.8065999746322632, 1.9241000413894653, 1.9598000049591064, 1.7834999561309814, 1.8743000030517578, 1.8241000175476074, 1.9536000490188599, 1.8696000576019287, 1.8896000385284424, 1.06850004196167, 1.579800009727478, 1.5500999689102173, 1.1506999731063843, 0.657800018787384, 1.6124999523162842, 0.5932999849319458, 0.9509999752044678, 0.5713000297546387, 0.6517000198364258, 1.110200047492981, 0.6948000192642212, 0.4697999954223633, 1.1585999727249146, 1.059999942779541, 0.01889999955892563, 0.6075000166893005, 0.839900016784668, 0.8248000144958496, -0.005400000140070915, 0.09960000216960907, 0.5436999797821045, 0.5108000040054321, -0.11129999905824661, 0.358599990606308, -0.2475000023841858, 0.13840000331401825, 0.0714000016450882, 0.6473000049591064, 0.06599999964237213, 0.2190999984741211, -0.0697999969124794, -0.32269999384880066, -0.3154999911785126, 0.09610000252723694, 2.343100070953369, 2.2578001022338867, 2.2414000034332275, 2.177000045776367, 2.177000045776367, 2.1572999954223633, 2.1433000564575195, 2.139899969100952, 2.139899969100952, 2.128999948501587, 2.128999948501587, 2.0994999408721924, 2.0826001167297363, 2.0820999145507812, 2.0820999145507812, 2.0820999145507812, 2.0780999660491943, 2.068700075149536, 2.0652999877929688, 2.0617001056671143, 2.0322000980377197, 2.0322000980377197, 2.025099992752075, 2.0118000507354736, 2.0053000450134277, 2.0053000450134277, 2.0053000450134277, 2.0053000450134277, 2.0053000450134277, 1.996999979019165, 1.7770999670028687, 1.9609999656677246, 1.8494999408721924, 1.7582999467849731, 1.3588000535964966, 1.8099000453948975, 1.8128999471664429, 1.608199954032898, 1.715499997138977, 1.715499997138977, 1.190999984741211, 1.0693000555038452, 1.0856000185012817, 1.239300012588501, 1.1095000505447388, 0.7208999991416931, 0.8637999892234802, 1.023800015449524, 0.8741000294685364, 1.1452000141143799, 0.9556000232696533, 0.8629000186920166, 0.9544000029563904, 0.7343999743461609, 0.9998000264167786, 0.7718999981880188, 0.19470000267028809, 1.180799961090088, 0.7378000020980835, 0.6656000018119812, 1.0611000061035156, 0.18889999389648438, 0.25999999046325684, 0.17679999768733978, 0.2946999967098236, 0.1923999935388565, 0.11990000307559967, -0.14100000262260437, -0.32659998536109924, 2.5164999961853027, 2.45770001411438, 2.3452000617980957, 2.3320999145507812, 2.3092000484466553, 2.294100046157837, 2.237799882888794, 2.231800079345703, 2.231800079345703, 2.2272000312805176, 2.2249999046325684, 2.2188000679016113, 2.2188000679016113, 2.2188000679016113, 2.191499948501587, 2.1900999546051025, 2.1847000122070312, 2.183000087738037, 2.177799940109253, 2.177799940109253, 2.1772000789642334, 2.175100088119507, 2.1672000885009766, 2.165299892425537, 2.1182000637054443, 2.11680006980896, 2.1147000789642334, 2.1110000610351562, 2.1110000610351562, 2.099400043487549, 2.0869998931884766, 2.0869998931884766, 2.0869998931884766, 2.0869998931884766, 2.0869998931884766, 1.7325999736785889, 1.950600028038025, 1.792199969291687, 1.8097000122070312, 1.4018000364303589, 1.6713000535964966, 1.722499966621399, 1.642300009727478, 1.2889000177383423, 0.8953999876976013, 1.2188999652862549, 0.4684000015258789, 0.9580000042915344, 0.5322999954223633, 0.9365000128746033, -0.14630000293254852, 0.6136000156402588, 0.31540000438690186, 0.2793000042438507, 0.13860000669956207, 0.21629999577999115, 0.15870000422000885, 0.18629999458789825, -0.4611000120639801, 0.7545999884605408, 2.59089994430542, 2.483099937438965, 2.447000026702881, 2.271399974822998, 2.2369000911712646, 2.214200019836426, 2.209700107574463, 2.2095000743865967, 2.209399938583374, 2.2018001079559326, 2.200000047683716, 2.199899911880493, 2.192500114440918, 2.176500082015991, 2.1761999130249023, 2.1421000957489014, 2.1421000957489014, 2.136399984359741, 2.1182000637054443, 2.1126999855041504, 2.1105000972747803, 2.0996999740600586, 2.088200092315674, 2.080399990081787, 2.0801000595092773, 2.0754001140594482, 2.0608999729156494, 2.0599000453948975, 2.0397000312805176, 2.03629994392395, 1.9973000288009644, 2.0179998874664307, 1.9895999431610107, 1.9536999464035034, 1.9680999517440796, 1.9499000310897827, 1.908400058746338, 1.9217000007629395, 1.9966000318527222, 1.7781000137329102, 1.2552000284194946, 1.4524999856948853, 0.7912999987602234, 0.5156999826431274, 0.47690001130104065, 1.0267000198364258, 1.1002000570297241, 0.20319999754428864, -0.07779999822378159, 0.24050000309944153, 0.030899999663233757, 0.2897999882698059, 0.4250999987125397, 0.12160000205039978, 0.12120000272989273, 0.9609000086784363, 0.6413999795913696, 0.4016000032424927, 0.8190000057220459, -0.1770000010728836, -0.15160000324249268, -0.2962999939918518, 2.550100088119507, 2.538800001144409, 2.5034000873565674, 2.4535000324249268, 2.3910999298095703, 2.3703999519348145, 2.3703999519348145, 2.3512001037597656, 2.3431999683380127, 2.3336000442504883, 2.3327999114990234, 2.3208999633789062, 2.302299976348877, 2.2939000129699707, 2.2939000129699707, 2.280400037765503, 2.2792000770568848, 2.2718000411987305, 2.2625999450683594, 2.25819993019104, 2.25819993019104, 2.255000114440918, 2.255000114440918, 2.255000114440918, 2.255000114440918, 2.255000114440918, 2.244499921798706, 2.2286999225616455, 2.2286999225616455, 2.219099998474121, 2.191699981689453, 2.1851999759674072, 2.128000020980835, 1.986299991607666, 1.9838999509811401, 2.183799982070923, 2.183799982070923, 2.183799982070923, 2.183799982070923, 1.9499000310897827, 1.9886000156402588, 1.5714000463485718, 1.6370999813079834, 1.6227999925613403, 0.9629999995231628, 0.8532000184059143, 0.4172999858856201, 0.9452999830245972, 0.3776000142097473, 0.18970000743865967, 0.8991000056266785, 0.9930999875068665, 0.22849999368190765, -0.398499995470047, 0.3319999873638153, 0.2168000042438507, 0.5375999808311462, 0.13570000231266022, 0.1891999989748001, -0.2648000121116638, 0.3183000087738037, -0.1624000072479248, 0.8222000002861023, -0.5059000253677368, -0.23929999768733978, -0.3521000146865845, -0.48240000009536743, -0.6650999784469604, -0.10490000247955322, 0.009399999864399433, 2.736799955368042, 2.6637001037597656, 2.570199966430664, 2.551300048828125, 2.5404999256134033, 2.4505999088287354, 2.4312000274658203, 2.4312000274658203, 2.4307000637054443, 2.404900074005127, 2.404900074005127, 2.40339994430542, 2.38700008392334, 2.376499891281128, 2.376499891281128, 2.376499891281128, 2.3694000244140625, 2.3677000999450684, 2.3429999351501465, 2.3248000144958496, 2.3131000995635986, 2.311300039291382, 2.303100109100342, 2.3010001182556152, 2.291800022125244, 2.2890000343322754, 2.2695000171661377, 2.2690999507904053, 2.2416000366210938, 2.233099937438965, 2.2249999046325684, 1.6622999906539917, 2.0945000648498535, 1.7311999797821045, 1.9535000324249268, 1.6397000551223755, 0.6700999736785889, 0.6642000079154968, 0.7271999716758728, 0.8626000285148621, 0.5351999998092651, 0.061799999326467514, -0.054499998688697815, 0.7577999830245972, 0.125900000333786, 0.09619999676942825, -0.16259999573230743, 0.04809999838471413, 0.17720000445842743, -0.10830000042915344, -0.17329999804496765, 0.8177000284194946, 0.5534999966621399, 0.24699999392032623, -0.43650001287460327, -0.722100019454956, -0.3711000084877014, -0.3212999999523163, 0.3481999933719635, -0.34130001068115234, -0.46889999508857727, 0.3749000132083893, -0.05889999866485596]}, \"token.table\": {\"Topic\": [2, 3, 6, 13, 1, 2, 3, 4, 5, 6, 7, 8, 9, 10, 11, 12, 13, 14, 15, 2, 3, 14, 1, 2, 2, 2, 6, 15, 2, 8, 11, 15, 2, 3, 6, 11, 3, 7, 1, 2, 4, 5, 8, 9, 10, 11, 12, 14, 15, 7, 6, 14, 6, 2, 3, 8, 11, 7, 2, 8, 3, 3, 10, 11, 14, 12, 3, 5, 6, 10, 11, 1, 3, 4, 5, 6, 7, 10, 11, 12, 13, 15, 10, 14, 7, 8, 2, 5, 7, 14, 5, 14, 2, 7, 6, 15, 2, 4, 6, 8, 9, 10, 11, 12, 13, 15, 10, 15, 2, 4, 5, 9, 10, 11, 12, 13, 12, 3, 4, 6, 7, 9, 11, 15, 2, 3, 4, 9, 11, 1, 4, 8, 15, 1, 8, 1, 15, 10, 2, 4, 5, 9, 10, 11, 13, 15, 3, 6, 14, 15, 1, 4, 8, 15, 7, 2, 3, 8, 11, 1, 2, 3, 4, 5, 6, 7, 8, 9, 10, 11, 12, 13, 14, 15, 3, 14, 5, 10, 10, 3, 2, 4, 5, 6, 7, 4, 1, 6, 7, 15, 2, 6, 8, 4, 6, 1, 2, 3, 4, 5, 6, 7, 8, 9, 10, 11, 12, 13, 14, 15, 11, 9, 8, 7, 13, 14, 1, 10, 5, 12, 8, 9, 1, 2, 3, 10, 11, 12, 13, 14, 9, 13, 3, 5, 12, 3, 10, 11, 1, 2, 3, 4, 5, 6, 7, 8, 9, 10, 11, 12, 13, 14, 15, 1, 2, 3, 4, 5, 6, 7, 8, 9, 10, 11, 12, 13, 14, 15, 1, 2, 3, 5, 6, 7, 8, 9, 10, 12, 15, 1, 2, 3, 4, 5, 6, 7, 8, 9, 10, 11, 12, 13, 14, 15, 10, 1, 3, 6, 14, 1, 3, 8, 5, 7, 13, 15, 1, 2, 3, 4, 7, 11, 8, 14, 1, 2, 3, 4, 5, 6, 7, 8, 9, 10, 11, 12, 13, 14, 15, 2, 3, 12, 14, 1, 2, 3, 4, 5, 6, 7, 8, 9, 10, 11, 12, 13, 14, 15, 3, 5, 6, 5, 10, 14, 4, 5, 11, 12, 5, 6, 8, 2, 1, 9, 13, 14, 11, 11, 3, 10, 11, 3, 1, 2, 12, 2, 5, 6, 10, 11, 1, 2, 4, 7, 9, 11, 13, 15, 1, 2, 3, 5, 8, 10, 11, 13, 4, 10, 4, 5, 1, 2, 3, 4, 5, 6, 7, 8, 9, 10, 11, 12, 13, 14, 15, 1, 9, 2, 1, 2, 3, 4, 5, 6, 7, 8, 9, 10, 11, 13, 14, 15, 2, 3, 4, 5, 7, 8, 12, 14, 14, 8, 14, 12, 11, 2, 1, 2, 3, 7, 9, 10, 13, 14, 3, 4, 12, 14, 7, 12, 2, 4, 8, 13, 14, 1, 2, 3, 4, 5, 6, 7, 8, 10, 11, 14, 15, 8, 2, 4, 5, 6, 7, 8, 9, 11, 12, 13, 14, 15, 6, 10, 2, 4, 9, 12, 14, 1, 3, 7, 9, 13, 14, 2, 5, 6, 11, 15, 14, 6, 8, 13, 1, 2, 4, 7, 8, 9, 11, 12, 13, 15, 5, 8, 14, 1, 8, 14, 2, 7, 8, 1, 2, 3, 4, 5, 6, 7, 10, 11, 12, 13, 14, 10, 7, 1, 13, 10, 2, 3, 6, 3, 3, 3, 7, 12, 1, 2, 3, 5, 6, 8, 9, 10, 13, 1, 2, 3, 4, 5, 6, 7, 8, 9, 10, 11, 12, 14, 9, 11, 10, 3, 1, 10, 11, 6, 11, 14, 9, 2, 5, 6, 11, 7, 14, 8, 5, 7, 3, 6, 13, 14, 2, 3, 5, 8, 9, 10, 11, 14, 1, 9, 8, 1, 2, 3, 5, 7, 8, 10, 11, 13, 14, 15, 4, 5, 11, 12, 1, 2, 3, 4, 8, 9, 10, 11, 12, 13, 15, 1, 2, 3, 4, 5, 7, 8, 9, 10, 11, 12, 13, 14, 15, 2, 4, 7, 1, 2, 3, 6, 9, 11, 15, 2, 7, 10, 1, 2, 3, 4, 5, 6, 7, 8, 9, 10, 11, 12, 13, 14, 15, 1, 3, 4, 5, 6, 8, 9, 10, 11, 13, 14, 3, 9, 8, 9, 11, 1, 2, 4, 7, 10, 11, 1, 2, 3, 4, 5, 6, 7, 8, 10, 11, 12, 15, 1, 2, 3, 4, 5, 6, 7, 8, 9, 10, 11, 12, 13, 14, 15, 3, 1, 2, 3, 4, 6, 7, 8, 9, 10, 11, 12, 13, 14, 2, 15, 4, 5, 11, 12, 15, 4, 7, 13, 10, 1, 4, 5, 9, 11, 12, 9, 14, 11, 6, 10, 1, 4, 8, 10, 13, 6, 9, 13, 10, 1, 1, 8, 11, 13, 14, 6, 10, 14, 8, 11, 15, 2, 3, 5, 6, 11, 12, 1, 3, 4, 5, 9, 10, 11, 12, 13, 15, 2, 13, 1, 3, 4, 6, 7, 8, 10, 11, 14, 1, 2, 10, 11, 2, 3, 5, 7, 8, 12, 13, 15, 4, 5, 11, 12, 7, 5, 7, 12, 4, 13, 1, 2, 3, 4, 5, 6, 7, 8, 10, 11, 13, 14, 15, 4, 7, 12, 3, 4, 5, 7, 12, 15, 3, 8, 13, 14, 14, 3, 13, 1, 8, 9, 12, 13, 15, 6, 7, 11, 6, 4, 7, 1, 2, 3, 4, 5, 6, 7, 8, 9, 10, 12, 14, 1, 6, 9, 5, 7, 12, 8, 2, 1, 2, 3, 4, 5, 6, 7, 8, 9, 10, 11, 12, 13, 14, 15, 4, 5, 6, 8, 14, 4, 14, 14, 15, 13, 15, 15, 1, 2, 3, 4, 5, 6, 7, 8, 10, 11, 12, 13, 14, 15, 1, 2, 3, 8, 9, 10, 11, 12, 14, 15, 11, 1, 2, 3, 4, 5, 6, 7, 8, 9, 10, 11, 12, 13, 14, 15, 1, 2, 3, 4, 5, 6, 7, 8, 9, 10, 11, 12, 13, 15, 10, 11, 1, 3, 4, 8, 13, 6, 9, 11, 2, 15, 10, 2, 5, 7, 12, 4, 1, 2, 3, 5, 6, 7, 10, 11, 13, 14, 15, 1, 4, 6, 8, 10, 13, 14, 15, 10, 1, 2, 6, 8, 13, 1, 2, 4, 7, 9, 11, 13, 15, 4, 8, 10, 14, 2, 5, 12, 1, 2, 3, 4, 6, 7, 8, 10, 12, 13, 14, 2, 4, 6, 2, 1, 3, 10, 11, 13, 14, 15, 6, 1, 11, 8, 3, 4, 7, 8, 11, 12, 13, 2, 3, 12, 9, 1, 2, 3, 4, 6, 7, 8, 10, 11, 14, 11, 7, 9, 14, 13, 14, 1, 2, 3, 6, 7, 8, 10, 11, 13, 15, 1, 2, 3, 5, 6, 7, 8, 9, 10, 11, 13, 15, 1, 2, 3, 4, 5, 6, 7, 8, 9, 10, 11, 13, 4, 3, 7, 9, 13, 14, 1, 2, 3, 4, 5, 6, 7, 8, 9, 12, 14, 11, 2, 4, 5, 6, 7, 8, 9, 11, 12, 14, 15, 1, 2, 3, 4, 5, 6, 7, 8, 9, 10, 11, 13, 14, 15, 2, 5, 6, 10, 11, 8, 1, 2, 3, 4, 5, 6, 7, 8, 9, 10, 11, 12, 13, 14, 15, 6, 5, 13, 11, 1, 2, 3, 4, 5, 7, 8, 9, 10, 11, 12, 13, 14, 15, 2, 3, 5, 6, 7, 8, 11, 12, 13, 14, 15, 8, 1, 7, 10, 13, 9, 11, 14, 1, 2, 3, 4, 5, 6, 7, 8, 9, 10, 11, 12, 13, 14, 15, 1, 2, 3, 4, 5, 6, 7, 8, 9, 10, 11, 12, 13, 14, 15, 2, 3, 9, 13, 13, 15, 1, 2, 9, 11, 15, 1, 3, 4, 10, 3, 10, 1, 2, 3, 4, 5, 6, 7, 8, 9, 10, 11, 12, 13, 14, 15, 1, 5, 8, 3, 10, 2, 1, 2, 3, 5, 6, 7, 11, 12, 15, 1, 2, 4, 9, 5, 4, 1, 10, 15, 1, 2, 3, 4, 5, 6, 7, 8, 9, 10, 11, 12, 13, 14, 15, 1, 2, 3, 4, 5, 6, 7, 8, 9, 10, 11, 12, 13, 14, 15, 7, 14, 12, 1, 5, 6, 8, 10, 11, 14, 15, 11, 1, 2, 3, 2, 1, 2, 3, 5, 6, 7, 9, 10, 11, 12, 13, 15, 2, 8, 1, 13, 5, 3, 12, 10, 11, 13, 14, 1, 1, 2, 3, 4, 5, 6, 7, 8, 9, 10, 11, 12, 13, 14, 15, 10, 2, 4, 8, 10, 13, 14, 15, 1, 2, 4, 5, 8, 9, 1, 2, 3, 4, 5, 6, 7, 8, 10, 11, 12, 13, 14, 15, 1, 2, 3, 4, 6, 7, 8, 10, 12, 14, 15, 7, 3, 6, 13, 14, 5, 8, 15, 2, 5, 6, 11, 2, 4, 12, 14, 1, 2, 5, 7, 10, 12, 13, 14, 1, 2, 3, 4, 5, 6, 7, 8, 9, 10, 11, 12, 13, 14, 15, 1, 2, 3, 4, 5, 6, 7, 8, 9, 10, 11, 12, 13, 14, 15, 15, 9, 3, 7, 5, 1, 3, 6, 8, 10, 11, 11, 1, 2, 5, 6, 7, 11, 12, 5, 6, 12, 7, 8, 12, 1, 2, 3, 4, 5, 6, 7, 9, 10, 11, 12, 13, 14, 15, 1, 2, 7, 5, 12, 4, 7, 14, 1, 2, 3, 5, 6, 7, 8, 9, 10, 11, 12, 13, 14, 15, 13, 5, 6, 5, 1, 2, 3, 5, 6, 7, 8, 9, 10, 11, 12, 13, 14, 15, 1, 9, 5, 11, 14, 9, 1, 2, 3, 4, 7, 9, 10, 11, 12, 13, 14, 15, 14, 1, 2, 3, 4, 5, 6, 7, 8, 9, 10, 11, 12, 13, 14, 15, 1, 2, 3, 4, 5, 6, 7, 8, 9, 10, 11, 12, 13, 14, 15, 1, 3, 4, 5, 7, 8, 9, 10, 14, 1, 2, 3, 5, 6, 7, 8, 9, 10, 11, 13, 14, 13, 15, 13, 1, 2, 3, 5, 6, 7, 8, 10, 12, 13, 15, 4, 12, 6, 12, 1, 2, 3, 4, 5, 6, 7, 8, 9, 10, 11, 12, 13, 14, 15, 15, 8, 11, 2, 4, 12, 14, 2, 6, 1, 2, 3, 6, 7, 10, 13, 5, 7, 12, 1, 12, 1, 2, 3, 4, 5, 6, 7, 8, 9, 10, 11, 12, 13, 14, 15, 1, 4, 14, 4, 1, 2, 3, 4, 5, 6, 7, 8, 9, 10, 11, 12, 13, 14, 15, 11, 1, 2, 3, 4, 5, 6, 7, 8, 9, 10, 11, 13, 14, 15, 7, 8, 1, 2, 3, 5, 6, 7, 8, 9, 12, 13, 7, 13, 10, 14, 1, 2, 3, 4, 5, 6, 7, 8, 9, 10, 11, 12, 13, 14, 15, 5, 14, 1, 2, 3, 4, 5, 6, 7, 8, 9, 10, 11, 12, 13, 14, 15, 1, 4, 10, 11, 14, 15, 1, 2, 3, 4, 5, 6, 7, 8, 9, 10, 11, 12, 13, 14, 15, 1, 3, 5, 6, 7, 11, 12, 13, 13, 5, 5, 11, 14, 6, 1, 4, 8, 13, 1, 2, 3, 4, 5, 6, 7, 8, 9, 10, 11, 12, 13, 14, 15, 5, 2, 5, 6, 11, 12, 2, 8, 11, 1, 3, 4, 5, 6, 7, 8, 10, 12, 13, 15, 6, 10, 12, 1, 2, 3, 4, 5, 6, 9, 10, 11, 12, 13, 14, 15, 3, 1, 2, 3, 5, 6, 7, 12, 13, 10, 1, 12, 5, 12, 1, 2, 5, 8, 9, 10, 11, 13, 14, 15, 4, 9, 14, 14, 1, 2, 4, 7, 9, 11, 13, 15, 9, 14, 1, 2, 5, 9, 11, 15, 1, 2, 3, 7, 8, 10, 11, 14, 1, 3, 9, 13, 4, 5, 11, 12, 2, 5, 7, 9, 15, 7, 8, 3, 1, 2, 4, 7, 9, 11, 13, 15, 15, 1, 2, 3, 4, 5, 6, 7, 10, 11, 13, 14, 1, 5, 14, 5, 12, 5, 13, 1, 2, 3, 4, 5, 6, 7, 8, 9, 10, 11, 12, 13, 14, 15, 12, 1, 2, 3, 5, 6, 9, 10, 11, 13, 1, 2, 3, 5, 7, 8, 11, 12, 13, 15, 1, 12, 3, 7, 8, 9, 2, 4, 5, 11, 12, 9, 14, 1, 2, 3, 4, 5, 6, 7, 8, 9, 10, 11, 1, 1, 2, 3, 4, 6, 7, 8, 9, 10, 11, 12, 13, 14, 15, 2, 3, 5, 6, 7, 8, 9, 10, 12, 14, 15, 6, 12, 12, 5, 8, 9, 2, 1, 5, 8, 1, 2, 3, 5, 6, 7, 9, 12, 11, 3, 4, 5, 10, 15, 3, 5, 6, 9, 9, 7, 12, 15, 1, 7, 8, 10, 13, 3, 8, 5, 12, 11, 7, 12, 1, 3, 5, 6, 9, 13, 11, 9, 2, 6, 7, 8, 9, 13, 14, 7, 1, 10, 12, 5, 2, 13, 1, 3, 6, 7, 11, 13, 14, 15, 1, 2, 3, 4, 5, 6, 7, 8, 9, 10, 11, 12, 13, 14, 15, 13, 1, 14, 1, 2, 3, 5, 9, 10, 11, 13, 14, 15, 1, 2, 3, 4, 5, 6, 7, 8, 9, 10, 11, 12, 13, 14, 15, 2, 4, 6, 9, 13, 8, 8, 11, 1, 2, 9, 14, 13, 15, 4, 6, 11, 2, 10, 2, 3, 4, 5, 6, 7, 9, 10, 11, 13, 15, 6, 1, 2, 11, 12, 14, 8, 2, 5, 6, 11, 15, 1, 5, 6, 14, 1, 2, 3, 4, 5, 6, 7, 8, 9, 10, 11, 12, 13, 14, 15, 1, 11, 15, 14, 7, 9, 14, 7, 10, 1, 2, 3, 4, 5, 6, 7, 8, 9, 11, 12, 13, 15, 1, 2, 3, 5, 6, 7, 8, 9, 10, 11, 14, 7, 14, 11, 1, 3, 12, 4, 8, 9, 4, 5, 6, 12, 9, 4, 6, 5, 7, 12, 2, 6, 7, 8, 9, 13, 14, 12, 5, 6, 7, 12, 7, 5, 10, 15, 7, 10, 1, 3, 5, 7, 8, 10, 1, 3, 4, 6, 7, 8, 10, 11, 14, 9, 6, 1, 2, 3, 7, 8, 10, 12, 13, 15, 1, 2, 3, 5, 6, 7, 8, 9, 10, 11, 12, 13, 14, 15, 1, 2, 3, 4, 5, 6, 7, 8, 9, 10, 11, 12, 13, 14, 15, 14, 7, 1, 2, 3, 4, 8, 12, 13, 14, 6, 2, 3, 6, 13, 14, 1, 2, 3, 4, 5, 6, 7, 8, 9, 10, 11, 12, 13, 14, 15, 5, 6, 7, 9, 12, 14, 15, 5, 7, 12, 6, 7, 9, 11, 14, 1, 2, 3, 5, 6, 7, 8, 9, 10, 11, 12, 13, 14, 15, 3, 8, 2, 5, 6, 11, 1, 2, 3, 4, 5, 6, 7, 8, 9, 10, 11, 12, 13, 14, 15, 1, 2, 8, 9, 10, 14, 1, 2, 4, 5, 6, 7, 8, 10, 11, 12, 13, 14, 8, 13, 1, 2, 3, 4, 5, 6, 7, 8, 9, 10, 11, 12, 13, 14, 15, 2, 4, 5, 6, 7, 8, 10, 11, 12, 13, 14, 15, 1, 2, 3, 4, 5, 6, 7, 8, 9, 10, 11, 12, 13, 14, 15, 1, 2, 3, 4, 5, 6, 7, 8, 9, 10, 11, 12, 13, 14, 15, 1, 5, 9, 9, 10, 11, 1, 3, 5, 8, 10, 1, 2, 3, 4, 5, 6, 7, 8, 9, 10, 11, 12, 13, 14, 15, 2, 1, 3, 2, 4, 7, 9, 14, 5, 12, 6, 9, 15, 2, 3, 4, 5, 6, 15, 6, 11, 1, 2, 6, 7, 9, 12, 7, 14, 7, 14, 15, 1, 2, 3, 4, 5, 6, 7, 8, 9, 10, 12, 13, 14, 15, 5, 11, 2, 3, 4, 6, 7, 8, 10, 14, 15, 2, 3, 5, 6, 7, 12, 1, 5, 6, 7, 8, 11, 13, 14, 6, 1, 2, 3, 4, 5, 6, 7, 8, 9, 10, 11, 12, 13, 14, 15, 2, 13, 14, 12, 1, 2, 3, 4, 5, 6, 7, 9, 11, 12, 2, 7, 8, 11, 14, 15, 1, 4, 11, 13, 14, 5, 1, 12, 1, 2, 3, 4, 6, 7, 8, 9, 10, 11, 12, 13, 15, 2, 14, 7, 1, 2, 3, 4, 5, 6, 7, 8, 9, 10, 11, 12, 13, 14, 15, 2, 8, 10, 1, 2, 3, 4, 5, 6, 7, 8, 9, 10, 11, 13, 14, 15, 2, 5, 7, 10, 15, 1, 2, 3, 4, 5, 6, 7, 8, 9, 10, 11, 12, 13, 14, 15, 6, 8, 15, 14, 7, 1, 2, 3, 4, 5, 6, 7, 8, 9, 10, 11, 12, 13, 14, 15, 4, 6, 7, 9, 10, 15, 1, 2, 3, 4, 5, 6, 7, 8, 9, 10, 11, 12, 13, 14, 15, 1, 5, 8, 1, 2, 3, 4, 5, 6, 7, 8, 9, 10, 11, 12, 13, 14, 15, 3, 10, 3, 1, 2, 3, 4, 5, 6, 7, 8, 9, 10, 11, 12, 13, 14, 15, 1, 2, 3, 4, 5, 6, 7, 8, 9, 10, 11, 12, 13, 14, 15, 1, 2, 3, 11, 2, 3, 4, 5, 6, 8, 9, 10, 11, 12, 13, 14, 15, 9, 4, 1, 2, 3, 5, 9, 10, 1, 2, 3, 4, 5, 6, 7, 8, 9, 10, 11, 12, 13, 14, 15, 3, 11, 4, 15, 12, 13, 14, 15, 2, 13, 14, 3, 3, 3, 2, 12, 15, 1, 11, 12, 13, 14, 15, 4, 9, 4, 9, 15, 4, 11, 1, 4, 1, 2, 3, 4, 5, 6, 7, 8, 10, 11, 12, 13, 14, 15, 8, 15], \"Freq\": [0.1209738478064537, 0.1209738478064537, 0.1209738478064537, 0.4838953912258148, 0.08287343382835388, 0.13812239468097687, 0.08287343382835388, 0.027624478563666344, 0.027624478563666344, 0.11049791425466537, 0.027624478563666344, 0.05524895712733269, 0.027624478563666344, 0.05524895712733269, 0.16574686765670776, 0.08287343382835388, 0.05524895712733269, 0.027624478563666344, 0.05524895712733269, 0.10962504148483276, 0.43850016593933105, 0.10962504148483276, 0.5120775699615479, 0.7605711221694946, 0.5887948870658875, 0.1555243283510208, 0.46657299995422363, 0.5910003185272217, 0.6246771812438965, 0.10411286354064941, 0.10411286354064941, 0.10411286354064941, 0.14516763389110565, 0.14516763389110565, 0.43550288677215576, 0.14516763389110565, 0.49007806181907654, 0.7041957974433899, 0.08645405620336533, 0.3169982135295868, 0.20172612369060516, 0.02881801873445511, 0.02881801873445511, 0.02881801873445511, 0.02881801873445511, 0.02881801873445511, 0.05763603746891022, 0.11527207493782043, 0.02881801873445511, 0.6498861312866211, 0.6511821746826172, 0.7202755212783813, 0.45033925771713257, 0.10075321793556213, 0.10075321793556213, 0.10075321793556213, 0.5037660598754883, 0.40275853872299194, 0.5145964026451111, 0.37145042419433594, 0.515261709690094, 0.5697954893112183, 0.11395910382270813, 0.11395910382270813, 0.7202755212783813, 0.5532654523849487, 0.22806024551391602, 0.11403012275695801, 0.11403012275695801, 0.11403012275695801, 0.342090368270874, 0.06718981266021729, 0.06718981266021729, 0.06718981266021729, 0.06718981266021729, 0.06718981266021729, 0.06718981266021729, 0.06718981266021729, 0.06718981266021729, 0.3359490633010864, 0.06718981266021729, 0.06718981266021729, 0.6982036232948303, 0.5033687949180603, 0.2539061903953552, 0.5078123807907104, 0.1151675134897232, 0.1151675134897232, 0.5758375525474548, 0.7202755212783813, 0.43328091502189636, 0.7202755212783813, 0.22156861424446106, 0.4431372284889221, 0.565368115901947, 0.5651558041572571, 0.41860154271125793, 0.04651128128170967, 0.04651128128170967, 0.04651128128170967, 0.04651128128170967, 0.18604512512683868, 0.09302256256341934, 0.04651128128170967, 0.04651128128170967, 0.04651128128170967, 0.45394235849380493, 0.4137457013130188, 0.5984285473823547, 0.05984285846352577, 0.05984285846352577, 0.05984285846352577, 0.05984285846352577, 0.05984285846352577, 0.05984285846352577, 0.05984285846352577, 0.553265392780304, 0.4703923165798187, 0.06719890236854553, 0.13439780473709106, 0.06719890236854553, 0.06719890236854553, 0.06719890236854553, 0.06719890236854553, 0.5887948274612427, 0.524311900138855, 0.10486238449811935, 0.10486238449811935, 0.10486238449811935, 0.17356038093566895, 0.5206811428070068, 0.17356038093566895, 0.17356038093566895, 0.6202458739280701, 0.12404917180538177, 0.47306013107299805, 0.4780762493610382, 0.35007962584495544, 0.5236608982086182, 0.052366092801094055, 0.052366092801094055, 0.052366092801094055, 0.052366092801094055, 0.052366092801094055, 0.10473218560218811, 0.052366092801094055, 0.6135210990905762, 0.6388849020004272, 0.34578365087509155, 0.6178252100944519, 0.17356038093566895, 0.5206811428070068, 0.17356038093566895, 0.17356038093566895, 0.38894858956336975, 0.10075921565294266, 0.10075921565294266, 0.10075921565294266, 0.5037961006164551, 0.0680665597319603, 0.2268885374069214, 0.1134442687034607, 0.0680665597319603, 0.0226888544857502, 0.0226888544857502, 0.1134442687034607, 0.0680665597319603, 0.0907554179430008, 0.1134442687034607, 0.0226888544857502, 0.0226888544857502, 0.0226888544857502, 0.0226888544857502, 0.0226888544857502, 0.24500921368598938, 0.49001842737197876, 0.21053017675876617, 0.42106035351753235, 0.5223293900489807, 0.515261709690094, 0.09887100756168365, 0.09887100756168365, 0.09887100756168365, 0.09887100756168365, 0.5932260751724243, 0.43246573209762573, 0.19745059311389923, 0.39490118622779846, 0.19745059311389923, 0.19745059311389923, 0.15414655208587646, 0.4624396562576294, 0.6551917195320129, 0.30724743008613586, 0.6144948601722717, 0.19036346673965454, 0.059488579630851746, 0.07138630002737045, 0.07138630002737045, 0.023795433342456818, 0.059488579630851746, 0.035693150013685226, 0.07138630002737045, 0.047590866684913635, 0.11897715926170349, 0.035693150013685226, 0.035693150013685226, 0.059488579630851746, 0.07138630002737045, 0.035693150013685226, 0.6142576932907104, 0.4487130641937256, 0.43600770831108093, 0.42152097821235657, 0.21076048910617828, 0.21076048910617828, 0.3634735345840454, 0.5243788957595825, 0.1683741956949234, 0.5051226019859314, 0.6597752571105957, 0.5987728238105774, 0.07708139717578888, 0.07708139717578888, 0.15416279435157776, 0.07708139717578888, 0.07708139717578888, 0.3083255887031555, 0.07708139717578888, 0.15416279435157776, 0.6537724733352661, 0.5959877371788025, 0.20101673901081085, 0.6030502319335938, 0.5388327836990356, 0.2463691085577011, 0.4927382171154022, 0.32824286818504333, 0.11703135073184967, 0.09362508356571198, 0.11703135073184967, 0.023406270891427994, 0.07021880894899368, 0.023406270891427994, 0.04681254178285599, 0.04681254178285599, 0.18725016713142395, 0.11703135073184967, 0.023406270891427994, 0.023406270891427994, 0.023406270891427994, 0.023406270891427994, 0.023406270891427994, 0.3303302228450775, 0.03811502829194069, 0.03811502829194069, 0.06352504342794418, 0.03811502829194069, 0.025410018861293793, 0.050820037722587585, 0.025410018861293793, 0.11434508115053177, 0.06352504342794418, 0.07623005658388138, 0.025410018861293793, 0.06352504342794418, 0.012705009430646896, 0.025410018861293793, 0.10839542001485825, 0.05419771000742912, 0.05419771000742912, 0.2167908400297165, 0.05419771000742912, 0.2167908400297165, 0.05419771000742912, 0.05419771000742912, 0.05419771000742912, 0.10839542001485825, 0.05419771000742912, 0.17901766300201416, 0.1652470827102661, 0.05508235841989517, 0.04131177067756653, 0.08262354135513306, 0.0963941290974617, 0.06885294616222382, 0.027541179209947586, 0.05508235841989517, 0.06885294616222382, 0.05508235841989517, 0.027541179209947586, 0.05508235841989517, 0.027541179209947586, 0.027541179209947586, 0.376383900642395, 0.18857209384441376, 0.09428604692220688, 0.3771441876888275, 0.09428604692220688, 0.31195828318595886, 0.15597914159297943, 0.4679374098777771, 0.13000331819057465, 0.39000993967056274, 0.13000331819057465, 0.13000331819057465, 0.08850361406803131, 0.08850361406803131, 0.08850361406803131, 0.08850361406803131, 0.08850361406803131, 0.44251805543899536, 0.5171877145767212, 0.1292969286441803, 0.3410215675830841, 0.0795716941356659, 0.02273477055132389, 0.04546954110264778, 0.0795716941356659, 0.05683692544698715, 0.06820431351661682, 0.04546954110264778, 0.05683692544698715, 0.06820431351661682, 0.03410215675830841, 0.02273477055132389, 0.04546954110264778, 0.011367385275661945, 0.02273477055132389, 0.15180626511573792, 0.15180626511573792, 0.45541879534721375, 0.4763346314430237, 0.07458092272281647, 0.037290461361408234, 0.037290461361408234, 0.037290461361408234, 0.07458092272281647, 0.07458092272281647, 0.18645229935646057, 0.037290461361408234, 0.07458092272281647, 0.037290461361408234, 0.07458092272281647, 0.037290461361408234, 0.14916184544563293, 0.037290461361408234, 0.07458092272281647, 0.10138668864965439, 0.40554675459861755, 0.20277337729930878, 0.15702804923057556, 0.15702804923057556, 0.3140560984611511, 0.5360255837440491, 0.1072051152586937, 0.1072051152586937, 0.1072051152586937, 0.1817614734172821, 0.5452843904495239, 0.1817614734172821, 0.5145964622497559, 0.10961683094501495, 0.10961683094501495, 0.4384673237800598, 0.10961683094501495, 0.32824286818504333, 0.4881490468978882, 0.3774726390838623, 0.2516484260559082, 0.1258242130279541, 0.568497896194458, 0.1192365512251854, 0.1192365512251854, 0.5961827635765076, 0.0861561968922615, 0.5169371962547302, 0.0861561968922615, 0.0861561968922615, 0.0861561968922615, 0.4585735499858856, 0.0573216937482357, 0.0573216937482357, 0.1146433874964714, 0.0573216937482357, 0.0573216937482357, 0.0573216937482357, 0.0573216937482357, 0.053901270031929016, 0.053901270031929016, 0.21560508012771606, 0.10780254006385803, 0.053901270031929016, 0.21560508012771606, 0.053901270031929016, 0.16170381009578705, 0.7339906692504883, 0.6574879884719849, 0.3810454308986664, 0.502024233341217, 0.21179036796092987, 0.023532263934612274, 0.11766131967306137, 0.1882581114768982, 0.023532263934612274, 0.023532263934612274, 0.04706452786922455, 0.07059679180383682, 0.07059679180383682, 0.04706452786922455, 0.0941290557384491, 0.023532263934612274, 0.023532263934612274, 0.023532263934612274, 0.023532263934612274, 0.4021848738193512, 0.2010924369096756, 0.70088130235672, 0.0888187438249588, 0.0444093719124794, 0.0888187438249588, 0.0444093719124794, 0.0444093719124794, 0.0444093719124794, 0.0888187438249588, 0.1776374876499176, 0.0444093719124794, 0.0444093719124794, 0.0444093719124794, 0.1776374876499176, 0.0888187438249588, 0.0444093719124794, 0.0655910074710846, 0.0655910074710846, 0.1311820149421692, 0.0655910074710846, 0.1311820149421692, 0.0655910074710846, 0.327955037355423, 0.0655910074710846, 0.322353333234787, 0.41005390882492065, 0.47633466124534607, 0.6590286493301392, 0.44369587302207947, 0.42317721247673035, 0.23323176801204681, 0.029153971001505852, 0.058307942003011703, 0.058307942003011703, 0.4373095631599426, 0.029153971001505852, 0.029153971001505852, 0.087461918592453, 0.11019109934568405, 0.4407643973827362, 0.11019109934568405, 0.11019109934568405, 0.5545756220817566, 0.1848585456609726, 0.14729899168014526, 0.14729899168014526, 0.4418969750404358, 0.4169504940509796, 0.13898350298404694, 0.05889032408595085, 0.029445162042975426, 0.20611612498760223, 0.2650064527988434, 0.08833548426628113, 0.05889032408595085, 0.029445162042975426, 0.029445162042975426, 0.029445162042975426, 0.08833548426628113, 0.029445162042975426, 0.029445162042975426, 0.7378643751144409, 0.04178524389863014, 0.04178524389863014, 0.04178524389863014, 0.16714097559452057, 0.04178524389863014, 0.12535573542118073, 0.04178524389863014, 0.04178524389863014, 0.04178524389863014, 0.4178524613380432, 0.04178524389863014, 0.08357048779726028, 0.22613312304019928, 0.45226624608039856, 0.09319759160280228, 0.09319759160280228, 0.09319759160280228, 0.5591855645179749, 0.09319759160280228, 0.11286336928606033, 0.11286336928606033, 0.11286336928606033, 0.11286336928606033, 0.45145347714424133, 0.11286336928606033, 0.09253957867622375, 0.5552374720573425, 0.09253957867622375, 0.09253957867622375, 0.5516774654388428, 0.48550623655319214, 0.25633683800697327, 0.5126736760139465, 0.49356579780578613, 0.058026526123285294, 0.15473739802837372, 0.5415809154510498, 0.019342174753546715, 0.019342174753546715, 0.03868434950709343, 0.019342174753546715, 0.03868434950709343, 0.03868434950709343, 0.019342174753546715, 0.18746186792850494, 0.3749237358570099, 0.18746186792850494, 0.19828104972839355, 0.5948431491851807, 0.5432220697402954, 0.18762685358524323, 0.5628805160522461, 0.18762685358524323, 0.10419894009828568, 0.1562984138727188, 0.05209947004914284, 0.05209947004914284, 0.05209947004914284, 0.05209947004914284, 0.05209947004914284, 0.10419894009828568, 0.10419894009828568, 0.05209947004914284, 0.05209947004914284, 0.1562984138727188, 0.59239262342453, 0.3622027635574341, 0.5959957838058472, 0.2979978919029236, 0.47051769495010376, 0.14672619104385376, 0.14672619104385376, 0.4401785731315613, 0.6651109457015991, 0.6539278030395508, 0.5861204266548157, 0.5829726457595825, 0.5388328433036804, 0.12198271602392197, 0.09148703515529633, 0.03049567900598049, 0.06099135801196098, 0.06099135801196098, 0.03049567900598049, 0.4269395172595978, 0.03049567900598049, 0.06099135801196098, 0.05381765216588974, 0.02690882608294487, 0.10763530433177948, 0.02690882608294487, 0.05381765216588974, 0.13454411923885345, 0.05381765216588974, 0.08072647452354431, 0.02690882608294487, 0.16145294904708862, 0.08072647452354431, 0.16145294904708862, 0.02690882608294487, 0.5416185259819031, 0.18053950369358063, 0.6948278546333313, 0.7481569051742554, 0.17467395961284637, 0.34934791922569275, 0.17467395961284637, 0.44382545351982117, 0.2629178464412689, 0.2629178464412689, 0.5697256326675415, 0.09315609186887741, 0.558936595916748, 0.09315609186887741, 0.09315609186887741, 0.5175482630729675, 0.5843950510025024, 0.41005390882492065, 0.4575507938861847, 0.22877539694309235, 0.10295996814966202, 0.10295996814966202, 0.41183987259864807, 0.10295996814966202, 0.02296183444559574, 0.02296183444559574, 0.02296183444559574, 0.13777101039886475, 0.505160391330719, 0.11480917781591415, 0.11480917781591415, 0.02296183444559574, 0.2958931028842926, 0.5917862057685852, 0.3865412175655365, 0.07021846622228622, 0.07021846622228622, 0.07021846622228622, 0.07021846622228622, 0.07021846622228622, 0.07021846622228622, 0.07021846622228622, 0.07021846622228622, 0.2808738648891449, 0.07021846622228622, 0.07021846622228622, 0.5360255837440491, 0.1072051152586937, 0.1072051152586937, 0.1072051152586937, 0.04659424349665642, 0.41934821009635925, 0.04659424349665642, 0.13978274166584015, 0.04659424349665642, 0.04659424349665642, 0.04659424349665642, 0.04659424349665642, 0.09318848699331284, 0.04659424349665642, 0.04659424349665642, 0.08382146060466766, 0.33528584241867065, 0.05588097497820854, 0.02794048748910427, 0.02794048748910427, 0.02794048748910427, 0.08382146060466766, 0.02794048748910427, 0.05588097497820854, 0.19558341801166534, 0.02794048748910427, 0.02794048748910427, 0.02794048748910427, 0.02794048748910427, 0.7552689909934998, 0.5535640716552734, 0.1845213621854782, 0.08164434880018234, 0.08164434880018234, 0.08164434880018234, 0.08164434880018234, 0.08164434880018234, 0.08164434880018234, 0.48986607789993286, 0.3882937729358673, 0.5490944981575012, 0.45394232869148254, 0.11589596420526505, 0.1490090936422348, 0.06622626632452011, 0.016556566581130028, 0.049669697880744934, 0.13245253264904022, 0.08278282731771469, 0.049669697880744934, 0.049669697880744934, 0.06622626632452011, 0.06622626632452011, 0.016556566581130028, 0.049669697880744934, 0.016556566581130028, 0.08278282731771469, 0.03313596546649933, 0.2319517582654953, 0.03313596546649933, 0.03313596546649933, 0.2319517582654953, 0.16567982733249664, 0.03313596546649933, 0.03313596546649933, 0.03313596546649933, 0.06627193093299866, 0.13254386186599731, 0.35737112164497375, 0.5491092205047607, 0.4096047282218933, 0.20480236411094666, 0.20480236411094666, 0.06828179210424423, 0.27312716841697693, 0.4096907675266266, 0.06828179210424423, 0.06828179210424423, 0.06828179210424423, 0.09204570949077606, 0.15340951085090637, 0.030681902542710304, 0.06136380508542061, 0.030681902542710304, 0.06136380508542061, 0.15340951085090637, 0.09204570949077606, 0.030681902542710304, 0.15340951085090637, 0.06136380508542061, 0.030681902542710304, 0.10693998634815216, 0.2673499584197998, 0.1336749792098999, 0.02673499658703804, 0.02673499658703804, 0.05346999317407608, 0.08020499348640442, 0.08020499348640442, 0.02673499658703804, 0.08020499348640442, 0.02673499658703804, 0.02673499658703804, 0.05346999317407608, 0.02673499658703804, 0.02673499658703804, 0.41368138790130615, 0.08663107454776764, 0.17326214909553528, 0.08663107454776764, 0.04331553727388382, 0.04331553727388382, 0.08663107454776764, 0.04331553727388382, 0.04331553727388382, 0.08663107454776764, 0.04331553727388382, 0.04331553727388382, 0.08663107454776764, 0.12994660437107086, 0.5653975009918213, 0.4416857063770294, 0.5360255837440491, 0.1072051152586937, 0.1072051152586937, 0.1072051152586937, 0.31826284527778625, 0.2963661849498749, 0.5927323698997498, 0.7111872434616089, 0.47051769495010376, 0.09018551558256149, 0.45092758536338806, 0.09018551558256149, 0.09018551558256149, 0.09018551558256149, 0.09018551558256149, 0.6823167204856873, 0.6281598210334778, 0.6060358881950378, 0.3562127947807312, 0.3562127947807312, 0.4554145336151123, 0.11385363340377808, 0.11385363340377808, 0.11385363340377808, 0.11385363340377808, 0.4501950740814209, 0.513748049736023, 0.2568740248680115, 0.7084583640098572, 0.6810228824615479, 0.10836682468652725, 0.10836682468652725, 0.10836682468652725, 0.433467298746109, 0.10836682468652725, 0.6252784132957458, 0.38978734612464905, 0.38978734612464905, 0.3486559987068176, 0.6142576932907104, 0.5516774654388428, 0.0888081043958664, 0.0888081043958664, 0.532848596572876, 0.0888081043958664, 0.0888081043958664, 0.0888081043958664, 0.03363250568509102, 0.5381200909614563, 0.03363250568509102, 0.03363250568509102, 0.03363250568509102, 0.03363250568509102, 0.03363250568509102, 0.06726501137018204, 0.10089752078056335, 0.06726501137018204, 0.4782688021659851, 0.42923370003700256, 0.0530366525053978, 0.0530366525053978, 0.47732987999916077, 0.0530366525053978, 0.0530366525053978, 0.0530366525053978, 0.0530366525053978, 0.159109964966774, 0.0530366525053978, 0.14044849574565887, 0.4213455021381378, 0.14044849574565887, 0.26820001006126404, 0.08633812516927719, 0.43169063329696655, 0.08633812516927719, 0.08633812516927719, 0.08633812516927719, 0.08633812516927719, 0.17267625033855438, 0.08633812516927719, 0.5360255837440491, 0.1072051152586937, 0.1072051152586937, 0.1072051152586937, 0.5490944981575012, 0.4668630361557007, 0.1556210070848465, 0.1556210070848465, 0.7118139266967773, 0.49356579780578613, 0.03131769225001335, 0.03131769225001335, 0.03131769225001335, 0.28185924887657166, 0.03131769225001335, 0.0626353845000267, 0.09395308047533035, 0.0626353845000267, 0.1879061609506607, 0.09395308047533035, 0.03131769225001335, 0.03131769225001335, 0.03131769225001335, 0.5165609121322632, 0.1721869707107544, 0.1721869707107544, 0.08886891603469849, 0.08886891603469849, 0.08886891603469849, 0.08886891603469849, 0.35547566413879395, 0.08886891603469849, 0.6403040289878845, 0.689857542514801, 0.4662889540195465, 0.1554296463727951, 0.7202754616737366, 0.16813534498214722, 0.5044060349464417, 0.2468908578157425, 0.4114847481250763, 0.0822969526052475, 0.0822969526052475, 0.0822969526052475, 0.0822969526052475, 0.6252397894859314, 0.125047966837883, 0.125047966837883, 0.7840896248817444, 0.7118139266967773, 0.40275853872299194, 0.22920843958854675, 0.04584169015288353, 0.04584169015288353, 0.09168338030576706, 0.09168338030576706, 0.04584169015288353, 0.09168338030576706, 0.04584169015288353, 0.04584169015288353, 0.18336676061153412, 0.04584169015288353, 0.04584169015288353, 0.23627139627933502, 0.23627139627933502, 0.47254279255867004, 0.46678629517555237, 0.15559543669223785, 0.15559543669223785, 0.6067575812339783, 0.5201904773712158, 0.026978909969329834, 0.04046836495399475, 0.13489454984664917, 0.013489454984664917, 0.21583127975463867, 0.2967680096626282, 0.013489454984664917, 0.026978909969329834, 0.026978909969329834, 0.013489454984664917, 0.04046836495399475, 0.013489454984664917, 0.013489454984664917, 0.05395781993865967, 0.05395781993865967, 0.226532444357872, 0.113266222178936, 0.113266222178936, 0.3397986590862274, 0.113266222178936, 0.5917792916297913, 0.19725976884365082, 0.24089986085891724, 0.4817997217178345, 0.44622430205345154, 0.22311215102672577, 0.5828214883804321, 0.05532260984182358, 0.013830652460455894, 0.3042743504047394, 0.041491955518722534, 0.06915326416492462, 0.06915326416492462, 0.08298391103744507, 0.06915326416492462, 0.17979848384857178, 0.041491955518722534, 0.013830652460455894, 0.02766130492091179, 0.013830652460455894, 0.013830652460455894, 0.05047247186303139, 0.05047247186303139, 0.35330730676651, 0.05047247186303139, 0.05047247186303139, 0.05047247186303139, 0.20188988745212555, 0.10094494372606277, 0.05047247186303139, 0.05047247186303139, 0.4435122311115265, 0.10416597127914429, 0.06944397836923599, 0.08680497854948044, 0.034721989184617996, 0.034721989184617996, 0.08680497854948044, 0.052082985639572144, 0.12152697145938873, 0.08680497854948044, 0.06944397836923599, 0.034721989184617996, 0.034721989184617996, 0.052082985639572144, 0.06944397836923599, 0.052082985639572144, 0.1976563036441803, 0.09882815182209015, 0.09882815182209015, 0.1976563036441803, 0.049414075911045074, 0.024707037955522537, 0.049414075911045074, 0.049414075911045074, 0.09882815182209015, 0.024707037955522537, 0.024707037955522537, 0.024707037955522537, 0.024707037955522537, 0.024707037955522537, 0.4754441976547241, 0.4084286093711853, 0.44796615839004517, 0.08959323167800903, 0.08959323167800903, 0.17918646335601807, 0.08959323167800903, 0.14971667528152466, 0.449150025844574, 0.3332436680793762, 0.5869547128677368, 0.33103054761886597, 0.4411628842353821, 0.14858238399028778, 0.44574716687202454, 0.14858238399028778, 0.14858238399028778, 0.5930513143539429, 0.13595642149448395, 0.045318808406591415, 0.09063761681318283, 0.045318808406591415, 0.22659404575824738, 0.045318808406591415, 0.045318808406591415, 0.18127523362636566, 0.045318808406591415, 0.045318808406591415, 0.09063761681318283, 0.14421236515045166, 0.07210618257522583, 0.07210618257522583, 0.2884247303009033, 0.14421236515045166, 0.07210618257522583, 0.07210618257522583, 0.07210618257522583, 0.5571843981742859, 0.08882320672273636, 0.17764641344547272, 0.35529282689094543, 0.08882320672273636, 0.08882320672273636, 0.5017728805541992, 0.05575254186987877, 0.05575254186987877, 0.1672576367855072, 0.05575254186987877, 0.05575254186987877, 0.05575254186987877, 0.05575254186987877, 0.11567386984825134, 0.46269547939300537, 0.11567386984825134, 0.11567386984825134, 0.16739177703857422, 0.5021753311157227, 0.16739177703857422, 0.10781483352184296, 0.10781483352184296, 0.10781483352184296, 0.05390741676092148, 0.05390741676092148, 0.2156296670436859, 0.05390741676092148, 0.05390741676092148, 0.05390741676092148, 0.10781483352184296, 0.10781483352184296, 0.5869547128677368, 0.5165943503379822, 0.6391866207122803, 0.6281486749649048, 0.10393106192350388, 0.10393106192350388, 0.10393106192350388, 0.10393106192350388, 0.10393106192350388, 0.10393106192350388, 0.20786212384700775, 0.5355263352394104, 0.5704742670059204, 0.19015808403491974, 0.7158779501914978, 0.07934068888425827, 0.3173627555370331, 0.07934068888425827, 0.07934068888425827, 0.07934068888425827, 0.07934068888425827, 0.07934068888425827, 0.4153677225112915, 0.6872373819351196, 0.3810558319091797, 0.4424627423286438, 0.045436955988407135, 0.045436955988407135, 0.045436955988407135, 0.4089325964450836, 0.045436955988407135, 0.045436955988407135, 0.09087391197681427, 0.09087391197681427, 0.09087391197681427, 0.045436955988407135, 0.7625195384025574, 0.07780425995588303, 0.7002383470535278, 0.07780425995588303, 0.4663769602775574, 0.1554589867591858, 0.11640127748250961, 0.038800425827503204, 0.07760085165500641, 0.038800425827503204, 0.34920382499694824, 0.11640127748250961, 0.07760085165500641, 0.07760085165500641, 0.038800425827503204, 0.038800425827503204, 0.12667100131511688, 0.06333550065755844, 0.09500325471162796, 0.03166775032877922, 0.03166775032877922, 0.03166775032877922, 0.06333550065755844, 0.19000650942325592, 0.09500325471162796, 0.22167426347732544, 0.03166775032877922, 0.5932573080062866, 0.09419090300798416, 0.018838180229067802, 0.037676360458135605, 0.018838180229067802, 0.056514542549848557, 0.018838180229067802, 0.056514542549848557, 0.15070544183254242, 0.07535272091627121, 0.37676361203193665, 0.018838180229067802, 0.037676360458135605, 0.5215744972229004, 0.12709428369998932, 0.12709428369998932, 0.12709428369998932, 0.5083771347999573, 0.12709428369998932, 0.15475216507911682, 0.11606412380933762, 0.15475216507911682, 0.038688041269779205, 0.038688041269779205, 0.038688041269779205, 0.15475216507911682, 0.038688041269779205, 0.038688041269779205, 0.19344021379947662, 0.038688041269779205, 0.3332436978816986, 0.08087164163589478, 0.04043582081794739, 0.04043582081794739, 0.04043582081794739, 0.04043582081794739, 0.08087164163589478, 0.3639223873615265, 0.04043582081794739, 0.20217910408973694, 0.08087164163589478, 0.04043582081794739, 0.030276916921138763, 0.030276916921138763, 0.12110766768455505, 0.30276918411254883, 0.06055383384227753, 0.12110766768455505, 0.030276916921138763, 0.09083075076341629, 0.09083075076341629, 0.030276916921138763, 0.06055383384227753, 0.030276916921138763, 0.030276916921138763, 0.030276916921138763, 0.08595053851604462, 0.5157032012939453, 0.08595053851604462, 0.08595053851604462, 0.08595053851604462, 0.35691288113594055, 0.1809706836938858, 0.05170591175556183, 0.10341182351112366, 0.05170591175556183, 0.025852955877780914, 0.05170591175556183, 0.07755886763334274, 0.10341182351112366, 0.05170591175556183, 0.05170591175556183, 0.025852955877780914, 0.025852955877780914, 0.10341182351112366, 0.05170591175556183, 0.025852955877780914, 0.6386152505874634, 0.6993458271026611, 0.13986916840076447, 0.48814910650253296, 0.029469968751072884, 0.3536396026611328, 0.11787987500429153, 0.029469968751072884, 0.029469968751072884, 0.029469968751072884, 0.0884099006652832, 0.029469968751072884, 0.029469968751072884, 0.1768198013305664, 0.029469968751072884, 0.029469968751072884, 0.029469968751072884, 0.029469968751072884, 0.03806286305189133, 0.22837717831134796, 0.1522514522075653, 0.11418858915567398, 0.03806286305189133, 0.03806286305189133, 0.03806286305189133, 0.03806286305189133, 0.1522514522075653, 0.07612572610378265, 0.03806286305189133, 0.4392849802970886, 0.1610400229692459, 0.3220800459384918, 0.1610400229692459, 0.6606014370918274, 0.25195440649986267, 0.25195440649986267, 0.25195440649986267, 0.047392744570970535, 0.09478548914194107, 0.09478548914194107, 0.023696372285485268, 0.07108911126852036, 0.047392744570970535, 0.09478548914194107, 0.16587460041046143, 0.023696372285485268, 0.07108911126852036, 0.07108911126852036, 0.047392744570970535, 0.023696372285485268, 0.07108911126852036, 0.047392744570970535, 0.3298722505569458, 0.05497870594263077, 0.10995741188526154, 0.027489352971315384, 0.05497870594263077, 0.10995741188526154, 0.05497870594263077, 0.027489352971315384, 0.027489352971315384, 0.027489352971315384, 0.027489352971315384, 0.05497870594263077, 0.05497870594263077, 0.027489352971315384, 0.027489352971315384, 0.1446918547153473, 0.1446918547153473, 0.43407556414604187, 0.1446918547153473, 0.7042622566223145, 0.5213984251022339, 0.08808514475822449, 0.08808514475822449, 0.08808514475822449, 0.08808514475822449, 0.6165960431098938, 0.5898764729499817, 0.1385747194290161, 0.6928735375404358, 0.1385747194290161, 0.22333389520645142, 0.44666779041290283, 0.13801029324531555, 0.10616176575422287, 0.07431323826313019, 0.021232353523373604, 0.07431323826313019, 0.07431323826313019, 0.06369706243276596, 0.06369706243276596, 0.08492941409349442, 0.04246470704674721, 0.1167779415845871, 0.021232353523373604, 0.04246470704674721, 0.03184853121638298, 0.03184853121638298, 0.5874397158622742, 0.11748794466257095, 0.11748794466257095, 0.23811474442481995, 0.4762294888496399, 0.5145964622497559, 0.11208417266607285, 0.05604208633303642, 0.05604208633303642, 0.05604208633303642, 0.16812625527381897, 0.2802104353904724, 0.11208417266607285, 0.05604208633303642, 0.05604208633303642, 0.40750449895858765, 0.10187612473964691, 0.20375224947929382, 0.10187612473964691, 0.42259103059768677, 0.6200542449951172, 0.5831268429756165, 0.5549439191818237, 0.34517183899879456, 0.04067927971482277, 0.09491831809282303, 0.05423903837800026, 0.05423903837800026, 0.12203783541917801, 0.06779880076646805, 0.10847807675600052, 0.04067927971482277, 0.09491831809282303, 0.02711951918900013, 0.05423903837800026, 0.08135855942964554, 0.04067927971482277, 0.04067927971482277, 0.08135855942964554, 0.0728631392121315, 0.0728631392121315, 0.09715085476636887, 0.04857542738318443, 0.04857542738318443, 0.0728631392121315, 0.145726278424263, 0.145726278424263, 0.04857542738318443, 0.024287713691592216, 0.024287713691592216, 0.024287713691592216, 0.09715085476636887, 0.04857542738318443, 0.04857542738318443, 0.49380695819854736, 0.726904034614563, 0.6344236731529236, 0.06999886780977249, 0.06999886780977249, 0.06999886780977249, 0.06999886780977249, 0.06999886780977249, 0.13999773561954498, 0.34999433159828186, 0.06999886780977249, 0.38944554328918457, 0.15567950904369354, 0.15567950904369354, 0.4670385420322418, 0.4782688617706299, 0.10905120521783829, 0.363504022359848, 0.03635040298104286, 0.03635040298104286, 0.07270080596208572, 0.07270080596208572, 0.03635040298104286, 0.03635040298104286, 0.03635040298104286, 0.03635040298104286, 0.03635040298104286, 0.10905120521783829, 0.44925370812416077, 0.4334886074066162, 0.5690298080444336, 0.1422574520111084, 0.44776707887649536, 0.6403040289878845, 0.6043774485588074, 0.25712689757347107, 0.5142537951469421, 0.618643581867218, 0.39551660418510437, 0.47306013107299805, 0.06064984202384949, 0.06064984202384949, 0.10108307003974915, 0.04043322801589966, 0.02021661400794983, 0.06064984202384949, 0.04043322801589966, 0.08086645603179932, 0.18194952607154846, 0.12129968404769897, 0.12129968404769897, 0.02021661400794983, 0.02021661400794983, 0.06064984202384949, 0.02021661400794983, 0.32074111700057983, 0.0880783349275589, 0.0880783349275589, 0.3523133397102356, 0.0880783349275589, 0.1761566698551178, 0.0880783349275589, 0.5923919081687927, 0.40746355056762695, 0.10186588764190674, 0.10186588764190674, 0.10186588764190674, 0.10186588764190674, 0.10186588764190674, 0.19327722489833832, 0.027611032128334045, 0.11044412851333618, 0.19327722489833832, 0.027611032128334045, 0.08283309638500214, 0.027611032128334045, 0.05522206425666809, 0.05522206425666809, 0.11044412851333618, 0.027611032128334045, 0.027611032128334045, 0.027611032128334045, 0.027611032128334045, 0.05059792101383209, 0.05059792101383209, 0.05059792101383209, 0.05059792101383209, 0.05059792101383209, 0.10119584202766418, 0.05059792101383209, 0.05059792101383209, 0.35418543219566345, 0.10119584202766418, 0.05059792101383209, 0.38894858956336975, 0.514106273651123, 0.2570531368255615, 0.3030167520046234, 0.6054030656814575, 0.22055715322494507, 0.22055715322494507, 0.44111430644989014, 0.089980848133564, 0.5398851037025452, 0.089980848133564, 0.089980848133564, 0.10106800496578217, 0.10106800496578217, 0.6064079999923706, 0.10106800496578217, 0.08818875998258591, 0.08818875998258591, 0.08818875998258591, 0.08818875998258591, 0.35275503993034363, 0.08818875998258591, 0.08818875998258591, 0.08818875998258591, 0.20414206385612488, 0.14289943873882294, 0.020414205268025398, 0.040828410536050797, 0.040828410536050797, 0.020414205268025398, 0.061242617666721344, 0.18372784554958344, 0.040828410536050797, 0.061242617666721344, 0.020414205268025398, 0.10207103192806244, 0.020414205268025398, 0.020414205268025398, 0.020414205268025398, 0.09644375741481781, 0.07233282178640366, 0.024110939353704453, 0.24110940098762512, 0.09644375741481781, 0.03616641089320183, 0.048221878707408905, 0.024110939353704453, 0.07233282178640366, 0.048221878707408905, 0.024110939353704453, 0.09644375741481781, 0.048221878707408905, 0.024110939353704453, 0.03616641089320183, 0.501129150390625, 0.5479821562767029, 0.5077417492866516, 0.16924725472927094, 0.40463605523109436, 0.11352402716875076, 0.11352402716875076, 0.11352402716875076, 0.11352402716875076, 0.45409610867500305, 0.11352402716875076, 0.6142575740814209, 0.07802100479602814, 0.07802100479602814, 0.07802100479602814, 0.07802100479602814, 0.3901050090789795, 0.07802100479602814, 0.07802100479602814, 0.13360130786895752, 0.40080392360687256, 0.13360130786895752, 0.40275853872299194, 0.715877890586853, 0.6344237327575684, 0.057358041405677795, 0.19119347631931305, 0.24855151772499084, 0.019119348376989365, 0.019119348376989365, 0.019119348376989365, 0.09559673815965652, 0.019119348376989365, 0.057358041405677795, 0.019119348376989365, 0.057358041405677795, 0.13383543491363525, 0.03823869675397873, 0.03823869675397873, 0.1820773035287857, 0.1820773035287857, 0.3641546070575714, 0.16425774991512299, 0.49277326464653015, 0.5165943503379822, 0.264900267124176, 0.529800534248352, 0.06690441071987152, 0.03345220535993576, 0.23416543006896973, 0.10035661607980728, 0.06690441071987152, 0.10035661607980728, 0.03345220535993576, 0.03345220535993576, 0.03345220535993576, 0.03345220535993576, 0.03345220535993576, 0.13380882143974304, 0.06690441071987152, 0.03345220535993576, 0.5740801095962524, 0.6227071285247803, 0.15567678213119507, 0.5684072375297546, 0.06682116538286209, 0.033410582691431046, 0.16705292463302612, 0.033410582691431046, 0.16705292463302612, 0.10023175179958344, 0.10023175179958344, 0.033410582691431046, 0.033410582691431046, 0.06682116538286209, 0.13364233076572418, 0.033410582691431046, 0.033410582691431046, 0.033410582691431046, 0.47306013107299805, 0.6270107626914978, 0.18032924830913544, 0.3606584966182709, 0.18032924830913544, 0.5069774389266968, 0.032457880675792694, 0.032457880675792694, 0.4868682324886322, 0.032457880675792694, 0.032457880675792694, 0.032457880675792694, 0.032457880675792694, 0.032457880675792694, 0.06491576135158539, 0.19474728405475616, 0.032457880675792694, 0.032457880675792694, 0.5624666213989258, 0.027079148218035698, 0.3249497711658478, 0.10831659287214279, 0.027079148218035698, 0.027079148218035698, 0.027079148218035698, 0.10831659287214279, 0.054158296436071396, 0.027079148218035698, 0.027079148218035698, 0.1624748855829239, 0.027079148218035698, 0.027079148218035698, 0.027079148218035698, 0.054158296436071396, 0.06459379941225052, 0.14210636913776398, 0.06459379941225052, 0.025837520137429237, 0.11626884341239929, 0.0904313251376152, 0.025837520137429237, 0.03875628113746643, 0.06459379941225052, 0.10335008054971695, 0.06459379941225052, 0.03875628113746643, 0.10335008054971695, 0.03875628113746643, 0.012918760068714619, 0.32164251804351807, 0.06432850658893585, 0.06432850658893585, 0.19298551976680756, 0.06432850658893585, 0.06432850658893585, 0.06432850658893585, 0.06432850658893585, 0.06432850658893585, 0.14048640429973602, 0.21072961390018463, 0.10536480695009232, 0.10536480695009232, 0.035121601074934006, 0.035121601074934006, 0.035121601074934006, 0.035121601074934006, 0.14048640429973602, 0.035121601074934006, 0.07024320214986801, 0.035121601074934006, 0.4467364549636841, 0.7160904407501221, 0.8154456615447998, 0.06881099194288254, 0.37846046686172485, 0.03440549597144127, 0.03440549597144127, 0.03440549597144127, 0.1032164916396141, 0.06881099194288254, 0.13762198388576508, 0.03440549597144127, 0.06881099194288254, 0.03440549597144127, 0.3891857862472534, 0.6431488394737244, 0.46826714277267456, 0.43829062581062317, 0.13746751844882965, 0.05155031755566597, 0.13746751844882965, 0.1546509563922882, 0.05155031755566597, 0.03436687961220741, 0.03436687961220741, 0.13746751844882965, 0.03436687961220741, 0.03436687961220741, 0.03436687961220741, 0.017183439806103706, 0.08591719716787338, 0.05155031755566597, 0.03436687961220741, 0.34517186880111694, 0.5197418332099915, 0.5720117092132568, 0.17781928181648254, 0.08890964090824127, 0.5334578156471252, 0.08890964090824127, 0.44932103157043457, 0.5622534155845642, 0.12051527202129364, 0.12051527202129364, 0.12051527202129364, 0.12051527202129364, 0.3615458011627197, 0.24103054404258728, 0.12051527202129364, 0.46686649322509766, 0.15562216937541962, 0.15562216937541962, 0.574859082698822, 0.19161969423294067, 0.041657254099845886, 0.06248588114976883, 0.10414313524961472, 0.10414313524961472, 0.041657254099845886, 0.08331450819969177, 0.08331450819969177, 0.020828627049922943, 0.18745765089988708, 0.06248588114976883, 0.1458003968000412, 0.020828627049922943, 0.020828627049922943, 0.020828627049922943, 0.020828627049922943, 0.5522160530090332, 0.2761080265045166, 0.49713870882987976, 0.7219913601875305, 0.07379194349050522, 0.07379194349050522, 0.02459731325507164, 0.07379194349050522, 0.14758388698101044, 0.02459731325507164, 0.04919462651014328, 0.02459731325507164, 0.02459731325507164, 0.04919462651014328, 0.02459731325507164, 0.245973140001297, 0.02459731325507164, 0.1229865700006485, 0.02459731325507164, 0.6136649250984192, 0.06514612585306168, 0.06514612585306168, 0.19543838500976562, 0.06514612585306168, 0.03257306292653084, 0.06514612585306168, 0.09771919250488281, 0.06514612585306168, 0.06514612585306168, 0.06514612585306168, 0.03257306292653084, 0.06514612585306168, 0.03257306292653084, 0.06514612585306168, 0.6662306189537048, 0.3486559987068176, 0.06566299498081207, 0.06566299498081207, 0.06566299498081207, 0.32831498980522156, 0.13132598996162415, 0.06566299498081207, 0.06566299498081207, 0.06566299498081207, 0.06566299498081207, 0.06566299498081207, 0.6633245348930359, 0.7723179459571838, 0.38978734612464905, 0.38978734612464905, 0.10287057608366013, 0.07200940698385239, 0.13373175263404846, 0.0822964608669281, 0.0822964608669281, 0.09258352220058441, 0.05143528804183006, 0.04114823043346405, 0.05143528804183006, 0.04114823043346405, 0.07200940698385239, 0.020574115216732025, 0.07200940698385239, 0.04114823043346405, 0.04114823043346405, 0.6288411021232605, 0.6470029950141907, 0.13769257068634033, 0.0860578641295433, 0.0860578641295433, 0.06884628534317017, 0.0860578641295433, 0.0860578641295433, 0.06884628534317017, 0.03442314267158508, 0.01721157133579254, 0.06884628534317017, 0.03442314267158508, 0.06884628534317017, 0.06884628534317017, 0.03442314267158508, 0.01721157133579254, 0.17642129957675934, 0.08821064978837967, 0.2646319568157196, 0.08821064978837967, 0.17642129957675934, 0.08821064978837967, 0.07094315439462662, 0.056754522025585175, 0.1986408233642578, 0.11350904405117035, 0.07094315439462662, 0.028377261012792587, 0.04256588965654373, 0.04256588965654373, 0.04256588965654373, 0.07094315439462662, 0.07094315439462662, 0.08513177931308746, 0.0993204116821289, 0.028377261012792587, 0.014188630506396294, 0.29879873991012573, 0.04268553480505943, 0.08537106961011887, 0.21342767775058746, 0.04268553480505943, 0.17074213922023773, 0.08537106961011887, 0.04268553480505943, 0.7264719605445862, 0.4886056184768677, 0.18032924830913544, 0.3606584966182709, 0.18032924830913544, 0.4388691484928131, 0.4832036793231964, 0.1208009198307991, 0.1208009198307991, 0.1208009198307991, 0.09633398056030273, 0.07225048542022705, 0.09633398056030273, 0.024083495140075684, 0.04816699028015137, 0.04816699028015137, 0.04816699028015137, 0.09633398056030273, 0.16858446598052979, 0.09633398056030273, 0.16858446598052979, 0.024083495140075684, 0.024083495140075684, 0.024083495140075684, 0.04816699028015137, 0.44776710867881775, 0.14131136238574982, 0.14131136238574982, 0.42393410205841064, 0.14131136238574982, 0.66440749168396, 0.4644933044910431, 0.36849331855773926, 0.7369866371154785, 0.32495352625846863, 0.03249535337090492, 0.06499070674180984, 0.09748605638742447, 0.06499070674180984, 0.19497211277484894, 0.03249535337090492, 0.03249535337090492, 0.03249535337090492, 0.06499070674180984, 0.03249535337090492, 0.6804707050323486, 0.6484121084213257, 0.6533834934234619, 0.07952763885259628, 0.03976381942629814, 0.15905527770519257, 0.03976381942629814, 0.07952763885259628, 0.198819100856781, 0.07952763885259628, 0.03976381942629814, 0.03976381942629814, 0.07952763885259628, 0.11929146200418472, 0.03976381942629814, 0.03976381942629814, 0.47853678464889526, 0.24124974012374878, 0.04020829126238823, 0.04020829126238823, 0.20104144513607025, 0.24124974012374878, 0.04020829126238823, 0.08041658252477646, 0.04020829126238823, 0.48081669211387634, 0.36188995838165283, 0.5553898811340332, 0.16448412835597992, 0.49345239996910095, 0.08555234223604202, 0.12832851707935333, 0.3849855661392212, 0.04277617111802101, 0.08555234223604202, 0.04277617111802101, 0.04277617111802101, 0.04277617111802101, 0.04277617111802101, 0.08555234223604202, 0.19089163839817047, 0.19089163839817047, 0.38178327679634094, 0.715489387512207, 0.5306820273399353, 0.09364976733922958, 0.031216589733958244, 0.12486635893583298, 0.06243317946791649, 0.031216589733958244, 0.031216589733958244, 0.06243317946791649, 0.5491092801094055, 0.47633466124534607, 0.21193286776542664, 0.10596643388271332, 0.10596643388271332, 0.10596643388271332, 0.10596643388271332, 0.21193286776542664, 0.1463165134191513, 0.07315825670957565, 0.21947477757930756, 0.07315825670957565, 0.2926330268383026, 0.07315825670957565, 0.07315825670957565, 0.07315825670957565, 0.6673952341079712, 0.5866191983222961, 0.5562328100204468, 0.5425661206245422, 0.49392449855804443, 0.09878489375114441, 0.09878489375114441, 0.09878489375114441, 0.1083059161901474, 0.2166118323802948, 0.1083059161901474, 0.3249177634716034, 0.1083059161901474, 0.7109774351119995, 0.3677780032157898, 0.3843507766723633, 0.49064087867736816, 0.06133010983467102, 0.06133010983467102, 0.12266021966934204, 0.06133010983467102, 0.06133010983467102, 0.06133010983467102, 0.06133010983467102, 0.33783021569252014, 0.08339372277259827, 0.08339372277259827, 0.2501811683177948, 0.16678744554519653, 0.04169686138629913, 0.04169686138629913, 0.1250905841588974, 0.04169686138629913, 0.1250905841588974, 0.04169686138629913, 0.04169686138629913, 0.5602056980133057, 0.14005142450332642, 0.45091694593429565, 0.1683741807937622, 0.5051225423812866, 0.5792232751846313, 0.4460393190383911, 0.0592130608856678, 0.06767206639051437, 0.08459008485078812, 0.03383603319525719, 0.0592130608856678, 0.07613107562065125, 0.05075405165553093, 0.06767206639051437, 0.016918016597628593, 0.05075405165553093, 0.03383603319525719, 0.3299013376235962, 0.016918016597628593, 0.008459008298814297, 0.05075405165553093, 0.6974911689758301, 0.10639882832765579, 0.053199414163827896, 0.10639882832765579, 0.053199414163827896, 0.053199414163827896, 0.159598246216774, 0.10639882832765579, 0.37239590287208557, 0.053199414163827896, 0.07296063005924225, 0.07296063005924225, 0.4377637803554535, 0.07296063005924225, 0.07296063005924225, 0.07296063005924225, 0.07296063005924225, 0.07296063005924225, 0.07296063005924225, 0.07296063005924225, 0.531000018119812, 0.6731002330780029, 0.11835329979658127, 0.11835329979658127, 0.11835329979658127, 0.4734131991863251, 0.4758317470550537, 0.5360255837440491, 0.1072051152586937, 0.1072051152586937, 0.1072051152586937, 0.711366593837738, 0.5141146183013916, 0.031784433871507645, 0.09535330533981323, 0.09535330533981323, 0.031784433871507645, 0.031784433871507645, 0.06356886774301529, 0.031784433871507645, 0.031784433871507645, 0.25427547097206116, 0.09535330533981323, 0.19070661067962646, 0.5522030591964722, 0.09799818694591522, 0.03919927403330803, 0.15679709613323212, 0.13719746470451355, 0.05879891291260719, 0.05879891291260719, 0.07839854806661606, 0.019599637016654015, 0.03919927403330803, 0.13719746470451355, 0.03919927403330803, 0.07839854806661606, 0.03919927403330803, 0.019599637016654015, 0.08453062921762466, 0.02817687764763832, 0.08453062921762466, 0.19723814725875854, 0.02817687764763832, 0.02817687764763832, 0.22541502118110657, 0.05635375529527664, 0.1408843845129013, 0.05635375529527664, 0.02817687764763832, 0.49660080671310425, 0.5388328433036804, 0.6590286493301392, 0.199945330619812, 0.199945330619812, 0.599835991859436, 0.4567132294178009, 0.5873781442642212, 0.11747563630342484, 0.11747563630342484, 0.06927044689655304, 0.03463522344827652, 0.03463522344827652, 0.03463522344827652, 0.5887987613677979, 0.13854089379310608, 0.03463522344827652, 0.03463522344827652, 0.7190549373626709, 0.367342472076416, 0.12244749069213867, 0.12244749069213867, 0.12244749069213867, 0.12244749069213867, 0.20101673901081085, 0.6030502319335938, 0.6322862505912781, 0.15807156264781952, 0.4156690835952759, 0.4765109419822693, 0.1588369756937027, 0.7906010746955872, 0.1541808396577835, 0.308361679315567, 0.1541808396577835, 0.1541808396577835, 0.660380482673645, 0.35877761244773865, 0.5236439108848572, 0.16414007544517517, 0.4924201965332031, 0.6060358881950378, 0.14284539222717285, 0.7142269611358643, 0.1282714158296585, 0.3848142623901367, 0.1282714158296585, 0.1282714158296585, 0.1282714158296585, 0.42163410782814026, 0.5883786678314209, 0.4487130641937256, 0.06925830245018005, 0.06925830245018005, 0.06925830245018005, 0.06925830245018005, 0.6233247518539429, 0.06925830245018005, 0.06925830245018005, 0.38894861936569214, 0.5627965331077576, 0.5581264495849609, 0.27906322479248047, 0.4353565275669098, 0.4658748507499695, 0.23293742537498474, 0.08610932528972626, 0.08610932528972626, 0.08610932528972626, 0.08610932528972626, 0.08610932528972626, 0.34443730115890503, 0.08610932528972626, 0.08610932528972626, 0.15637686848640442, 0.05864132568240166, 0.09773553907871246, 0.05864132568240166, 0.05864132568240166, 0.21501818299293518, 0.09773553907871246, 0.05864132568240166, 0.039094217121601105, 0.039094217121601105, 0.039094217121601105, 0.05864132568240166, 0.019547108560800552, 0.019547108560800552, 0.019547108560800552, 0.5707793235778809, 0.21972009539604187, 0.43944019079208374, 0.08116097748279572, 0.04058048874139786, 0.04058048874139786, 0.24348294734954834, 0.08116097748279572, 0.3652244210243225, 0.04058048874139786, 0.04058048874139786, 0.04058048874139786, 0.04058048874139786, 0.2007739543914795, 0.2610061466693878, 0.04015478864312172, 0.04015478864312172, 0.06023218482732773, 0.04015478864312172, 0.06023218482732773, 0.10038697719573975, 0.04015478864312172, 0.06023218482732773, 0.02007739432156086, 0.02007739432156086, 0.02007739432156086, 0.02007739432156086, 0.04015478864312172, 0.09558985382318497, 0.2867695689201355, 0.09558985382318497, 0.09558985382318497, 0.38235941529273987, 0.41005390882492065, 0.6507970094680786, 0.32824283838272095, 0.48254939913749695, 0.24127469956874847, 0.47081097960472107, 0.47633466124534607, 0.44144198298454285, 0.22072099149227142, 0.19082391262054443, 0.19082391262054443, 0.38164782524108887, 0.655627429485321, 0.21854248642921448, 0.11316054314374924, 0.16974081099033356, 0.05658027157187462, 0.11316054314374924, 0.02829013578593731, 0.08487040549516678, 0.05658027157187462, 0.11316054314374924, 0.11316054314374924, 0.02829013578593731, 0.11316054314374924, 0.6021437048912048, 0.11291727423667908, 0.11291727423667908, 0.11291727423667908, 0.11291727423667908, 0.22583454847335815, 0.4100538492202759, 0.09041936695575714, 0.5425161719322205, 0.09041936695575714, 0.09041936695575714, 0.652420163154602, 0.118443563580513, 0.5922178030014038, 0.118443563580513, 0.118443563580513, 0.026608549058437347, 0.31930258870124817, 0.10643419623374939, 0.026608549058437347, 0.026608549058437347, 0.026608549058437347, 0.026608549058437347, 0.07982564717531204, 0.026608549058437347, 0.053217098116874695, 0.18625985085964203, 0.026608549058437347, 0.026608549058437347, 0.026608549058437347, 0.053217098116874695, 0.2481340765953064, 0.2481340765953064, 0.3721475899219513, 0.5814895629882812, 0.07720852643251419, 0.6948767304420471, 0.07720852643251419, 0.3707886040210724, 0.35456013679504395, 0.021826326847076416, 0.021826326847076416, 0.21826326847076416, 0.04365265369415283, 0.04365265369415283, 0.1527842879295349, 0.10913163423538208, 0.021826326847076416, 0.021826326847076416, 0.06547898054122925, 0.06547898054122925, 0.021826326847076416, 0.24008959531784058, 0.05213957652449608, 0.05213957652449608, 0.05213957652449608, 0.05213957652449608, 0.10427915304899216, 0.05213957652449608, 0.2606978714466095, 0.10427915304899216, 0.10427915304899216, 0.05213957652449608, 0.05213957652449608, 0.38894858956336975, 0.44214916229248047, 0.5058244466781616, 0.6111241579055786, 0.15278103947639465, 0.15278103947639465, 0.7339907288551331, 0.46675077080726624, 0.5987727642059326, 0.16012981534004211, 0.16012981534004211, 0.16012981534004211, 0.6405192613601685, 0.694712221622467, 0.4018360376358032, 0.45033931732177734, 0.47234833240509033, 0.15744945406913757, 0.15744945406913757, 0.03813540190458298, 0.03813540190458298, 0.03813540190458298, 0.03813540190458298, 0.6864372491836548, 0.03813540190458298, 0.03813540190458298, 0.5388328433036804, 0.43712565302848816, 0.14570854604244232, 0.14570854604244232, 0.14570854604244232, 0.5390684604644775, 0.6288411021232605, 0.5549439191818237, 0.5516774654388428, 0.180820494890213, 0.5424615144729614, 0.1031983271241188, 0.1031983271241188, 0.1031983271241188, 0.1031983271241188, 0.1031983271241188, 0.4127933084964752, 0.044324491173028946, 0.044324491173028946, 0.3989204168319702, 0.044324491173028946, 0.044324491173028946, 0.044324491173028946, 0.044324491173028946, 0.22162246704101562, 0.044324491173028946, 0.7068864107131958, 0.40344300866127014, 0.07381192594766617, 0.4059655964374542, 0.036905962973833084, 0.11071789264678955, 0.036905962973833084, 0.11071789264678955, 0.036905962973833084, 0.036905962973833084, 0.036905962973833084, 0.13815397024154663, 0.03453849256038666, 0.20723095536231995, 0.03453849256038666, 0.10361547768115997, 0.03453849256038666, 0.06907698512077332, 0.03453849256038666, 0.06907698512077332, 0.10361547768115997, 0.03453849256038666, 0.03453849256038666, 0.06907698512077332, 0.03453849256038666, 0.15049120783805847, 0.10346270352602005, 0.06583990156650543, 0.028217101469635963, 0.10346270352602005, 0.09405700117349625, 0.09405700117349625, 0.05643420293927193, 0.03762280195951462, 0.06583990156650543, 0.04702850058674812, 0.03762280195951462, 0.05643420293927193, 0.028217101469635963, 0.028217101469635963, 0.4509168863296509, 0.46441513299942017, 0.07461342215538025, 0.07461342215538025, 0.1492268443107605, 0.07461342215538025, 0.07461342215538025, 0.4476805329322815, 0.07461342215538025, 0.07461342215538025, 0.4388691484928131, 0.0999663919210434, 0.0999663919210434, 0.0999663919210434, 0.3998655676841736, 0.0999663919210434, 0.054004229605197906, 0.12600986659526825, 0.14401127398014069, 0.03600281849503517, 0.03600281849503517, 0.07200563699007034, 0.07200563699007034, 0.07200563699007034, 0.10800845921039581, 0.018001409247517586, 0.03600281849503517, 0.054004229605197906, 0.054004229605197906, 0.07200563699007034, 0.03600281849503517, 0.22991164028644562, 0.07663720846176147, 0.07663720846176147, 0.07663720846176147, 0.07663720846176147, 0.22991164028644562, 0.07663720846176147, 0.5864338874816895, 0.14660847187042236, 0.14660847187042236, 0.108552947640419, 0.108552947640419, 0.3256588578224182, 0.108552947640419, 0.217105895280838, 0.04399728402495384, 0.04399728402495384, 0.17598913609981537, 0.17598913609981537, 0.13199184834957123, 0.04399728402495384, 0.04399728402495384, 0.04399728402495384, 0.04399728402495384, 0.04399728402495384, 0.04399728402495384, 0.04399728402495384, 0.13199184834957123, 0.04399728402495384, 0.6024056077003479, 0.7378643751144409, 0.0931561291217804, 0.5589367747306824, 0.0931561291217804, 0.0931561291217804, 0.07912454754114151, 0.1265992820262909, 0.047474730759859085, 0.06329964101314545, 0.06329964101314545, 0.03164982050657272, 0.1265992820262909, 0.06329964101314545, 0.06329964101314545, 0.047474730759859085, 0.047474730759859085, 0.047474730759859085, 0.047474730759859085, 0.06329964101314545, 0.07912454754114151, 0.09451109170913696, 0.09451109170913696, 0.2835332751274109, 0.09451109170913696, 0.18902218341827393, 0.09451109170913696, 0.10120343416929245, 0.050601717084646225, 0.050601717084646225, 0.050601717084646225, 0.10120343416929245, 0.35421204566955566, 0.050601717084646225, 0.050601717084646225, 0.050601717084646225, 0.050601717084646225, 0.10120343416929245, 0.050601717084646225, 0.31707650423049927, 0.6427420973777771, 0.2238539308309555, 0.04974531754851341, 0.07461797446012497, 0.04974531754851341, 0.09949063509702682, 0.14923594892024994, 0.024872658774256706, 0.024872658774256706, 0.04974531754851341, 0.024872658774256706, 0.024872658774256706, 0.07461797446012497, 0.04974531754851341, 0.04974531754851341, 0.024872658774256706, 0.0824224129319191, 0.04121120646595955, 0.04121120646595955, 0.04121120646595955, 0.2472672313451767, 0.0824224129319191, 0.04121120646595955, 0.04121120646595955, 0.1648448258638382, 0.0824224129319191, 0.04121120646595955, 0.04121120646595955, 0.05768677592277527, 0.1730603277683258, 0.07210846990346909, 0.05768677592277527, 0.028843387961387634, 0.0865301638841629, 0.05768677592277527, 0.07210846990346909, 0.10095185786485672, 0.07210846990346909, 0.07210846990346909, 0.07210846990346909, 0.014421693980693817, 0.028843387961387634, 0.04326508194208145, 0.10842636972665787, 0.09487307071685791, 0.054213184863328934, 0.06776648014783859, 0.09487307071685791, 0.10842636972665787, 0.040659885853528976, 0.013553296215832233, 0.08131977170705795, 0.09487307071685791, 0.027106592431664467, 0.06776648014783859, 0.08131977170705795, 0.027106592431664467, 0.054213184863328934, 0.42551180720329285, 0.5434473752975464, 0.46282076835632324, 0.4427050054073334, 0.3526136875152588, 0.6142576932907104, 0.3849843740463257, 0.07699687033891678, 0.15399374067783356, 0.15399374067783356, 0.07699687033891678, 0.021886156871914864, 0.24074772000312805, 0.08754462748765945, 0.08754462748765945, 0.021886156871914864, 0.04377231374382973, 0.06565847247838974, 0.06565847247838974, 0.021886156871914864, 0.04377231374382973, 0.13131694495677948, 0.04377231374382973, 0.04377231374382973, 0.021886156871914864, 0.06565847247838974, 0.550846517086029, 0.3618900179862976, 0.4781825840473175, 0.067919060587883, 0.067919060587883, 0.067919060587883, 0.6112715601921082, 0.067919060587883, 0.1683741807937622, 0.5051225423812866, 0.48645567893981934, 0.16215190291404724, 0.16215190291404724, 0.11591842025518417, 0.11591842025518417, 0.11591842025518417, 0.11591842025518417, 0.4636736810207367, 0.11591842025518417, 0.36468392610549927, 0.6142576932907104, 0.17902345955371857, 0.08951172977685928, 0.35804691910743713, 0.08951172977685928, 0.08951172977685928, 0.08951172977685928, 0.3456532955169678, 0.39551660418510437, 0.34060755372047424, 0.17030377686023712, 0.17030377686023712, 0.27524152398109436, 0.07864043861627579, 0.07864043861627579, 0.039320219308137894, 0.039320219308137894, 0.039320219308137894, 0.07864043861627579, 0.07864043861627579, 0.039320219308137894, 0.039320219308137894, 0.039320219308137894, 0.039320219308137894, 0.07864043861627579, 0.039320219308137894, 0.6154878735542297, 0.6994468569755554, 0.06429968774318695, 0.06429968774318695, 0.06429968774318695, 0.1285993754863739, 0.06429968774318695, 0.32149842381477356, 0.1285993754863739, 0.1285993754863739, 0.06429968774318695, 0.16061413288116455, 0.08030706644058228, 0.3212282657623291, 0.08030706644058228, 0.16061413288116455, 0.08030706644058228, 0.5396404266357422, 0.09698762744665146, 0.09698762744665146, 0.09698762744665146, 0.38795050978660583, 0.09698762744665146, 0.09698762744665146, 0.09698762744665146, 0.6979256272315979, 0.16023004055023193, 0.09156002849340439, 0.045780014246702194, 0.045780014246702194, 0.06867001950740814, 0.03433500975370407, 0.05722501501441002, 0.011445003561675549, 0.06867001950740814, 0.11445003002882004, 0.06867001950740814, 0.06867001950740814, 0.06867001950740814, 0.03433500975370407, 0.03433500975370407, 0.5640035271644592, 0.46628233790397644, 0.15542744100093842, 0.5947290658950806, 0.08394715934991837, 0.08394715934991837, 0.12592074275016785, 0.04197357967495918, 0.33578863739967346, 0.04197357967495918, 0.12592074275016785, 0.04197357967495918, 0.04197357967495918, 0.04197357967495918, 0.09327082335948944, 0.18654164671897888, 0.37308329343795776, 0.09327082335948944, 0.09327082335948944, 0.09327082335948944, 0.1231999546289444, 0.1231999546289444, 0.1231999546289444, 0.1231999546289444, 0.369599848985672, 0.7018840312957764, 0.15086930990219116, 0.6034772396087646, 0.11736757308244705, 0.38144463300704956, 0.029341893270611763, 0.08802568167448044, 0.029341893270611763, 0.11736757308244705, 0.029341893270611763, 0.029341893270611763, 0.08802568167448044, 0.029341893270611763, 0.029341893270611763, 0.029341893270611763, 0.029341893270611763, 0.20561881363391876, 0.4112376272678375, 0.6460190415382385, 0.14592745900154114, 0.07296372950077057, 0.18240933120250702, 0.018240932375192642, 0.018240932375192642, 0.07296372950077057, 0.036481864750385284, 0.036481864750385284, 0.09120466560125351, 0.09120466560125351, 0.14592745900154114, 0.036481864750385284, 0.018240932375192642, 0.036481864750385284, 0.018240932375192642, 0.13895678520202637, 0.4168703854084015, 0.13895678520202637, 0.3312045633792877, 0.08280114084482193, 0.020700285211205482, 0.0621008537709713, 0.041400570422410965, 0.020700285211205482, 0.10350142419338226, 0.041400570422410965, 0.08280114084482193, 0.041400570422410965, 0.020700285211205482, 0.08280114084482193, 0.020700285211205482, 0.041400570422410965, 0.11516749858856201, 0.11516749858856201, 0.5758374929428101, 0.4607508182525635, 0.3040738105773926, 0.09971081465482712, 0.21936379373073578, 0.1395951360464096, 0.03988432511687279, 0.019942162558436394, 0.03988432511687279, 0.11965297907590866, 0.05982648953795433, 0.019942162558436394, 0.05982648953795433, 0.03988432511687279, 0.019942162558436394, 0.05982648953795433, 0.03988432511687279, 0.019942162558436394, 0.35049954056739807, 0.45515942573547363, 0.6263141632080078, 0.322353333234787, 0.41211819648742676, 0.10145238041877747, 0.06763491779565811, 0.1521785706281662, 0.13526983559131622, 0.033817458897829056, 0.05072619020938873, 0.05072619020938873, 0.06763491779565811, 0.016908729448914528, 0.033817458897829056, 0.11836110800504684, 0.016908729448914528, 0.06763491779565811, 0.05072619020938873, 0.016908729448914528, 0.7214480042457581, 0.09598381817340851, 0.19196763634681702, 0.09598381817340851, 0.2879514694213867, 0.09598381817340851, 0.14141345024108887, 0.08080768585205078, 0.08080768585205078, 0.09427563101053238, 0.07407370954751968, 0.06060576066374779, 0.05387178808450699, 0.04040384292602539, 0.07407370954751968, 0.06060576066374779, 0.07407370954751968, 0.04713781550526619, 0.05387178808450699, 0.03366986662149429, 0.020201921463012695, 0.5681819319725037, 0.11363638937473297, 0.11363638937473297, 0.07759428024291992, 0.07759428024291992, 0.03879714012145996, 0.13578999042510986, 0.03879714012145996, 0.03879714012145996, 0.05819571018218994, 0.03879714012145996, 0.17458713054656982, 0.03879714012145996, 0.07759428024291992, 0.01939857006072998, 0.05819571018218994, 0.05819571018218994, 0.0969928503036499, 0.22431612014770508, 0.44863224029541016, 0.6124042868614197, 0.17946244776248932, 0.08973122388124466, 0.053838737308979034, 0.06281185895204544, 0.08973122388124466, 0.053838737308979034, 0.08973122388124466, 0.03589249029755592, 0.06281185895204544, 0.053838737308979034, 0.04486561194062233, 0.08973122388124466, 0.026919368654489517, 0.026919368654489517, 0.04486561194062233, 0.05128699913620949, 0.06838266551494598, 0.05128699913620949, 0.05128699913620949, 0.03419133275747299, 0.20514799654483795, 0.11966966092586517, 0.017095666378736496, 0.05128699913620949, 0.11966966092586517, 0.017095666378736496, 0.13676533102989197, 0.017095666378736496, 0.017095666378736496, 0.03419133275747299, 0.16132226586341858, 0.08066113293170929, 0.48396679759025574, 0.08066113293170929, 0.31468653678894043, 0.13986068964004517, 0.06993034482002258, 0.03496517241001129, 0.06993034482002258, 0.03496517241001129, 0.06993034482002258, 0.03496517241001129, 0.06993034482002258, 0.03496517241001129, 0.03496517241001129, 0.03496517241001129, 0.03496517241001129, 0.48771440982818604, 0.3891858458518982, 0.3510036766529083, 0.08775091916322708, 0.26325276494026184, 0.08775091916322708, 0.08775091916322708, 0.08775091916322708, 0.1823992282152176, 0.07295969128608704, 0.0911996141076088, 0.05471976846456528, 0.03647984564304352, 0.1823992282152176, 0.0911996141076088, 0.03647984564304352, 0.05471976846456528, 0.05471976846456528, 0.03647984564304352, 0.03647984564304352, 0.01823992282152176, 0.05471976846456528, 0.03647984564304352, 0.4638745188713074, 0.1546248495578766, 0.7196191549301147, 0.3978401720523834, 0.1296340525150299, 0.3889021575450897, 0.1296340525150299, 0.1296340525150299, 0.4492839574813843, 0.4725145697593689, 0.1575048565864563, 0.6453238725662231, 0.6453238725662231, 0.6453237533569336, 0.4492490291595459, 0.5388327836990356, 0.5627086758613586, 0.12567239999771118, 0.12567239999771118, 0.12567239999771118, 0.37701719999313354, 0.12567239999771118, 0.12567239999771118, 0.6824405789375305, 0.2274802029132843, 0.6824405789375305, 0.2274802029132843, 0.3978401720523834, 0.71961909532547, 0.7458654642105103, 0.6732422709465027, 0.22441409528255463, 0.12976807355880737, 0.10381446033716202, 0.05190723016858101, 0.025953615084290504, 0.05190723016858101, 0.025953615084290504, 0.07786084711551666, 0.23358254134655, 0.025953615084290504, 0.025953615084290504, 0.07786084711551666, 0.10381446033716202, 0.025953615084290504, 0.05190723016858101, 0.21700911223888397, 0.21700911223888397], \"Term\": [\"0f\", \"0f\", \"0f\", \"0f\", \"1\", \"1\", \"1\", \"1\", \"1\", \"1\", \"1\", \"1\", \"1\", \"1\", \"1\", \"1\", \"1\", \"1\", \"1\", \"10\", \"10\", \"10\", \"1001\", \"10062019\", \"100k\", \"10am\", \"10am\", \"10dulkar\", \"10k\", \"10k\", \"10k\", \"10k\", \"10th\", \"10th\", \"10th\", \"10th\", \"11778\", \"11k\", \"12\", \"12\", \"12\", \"12\", \"12\", \"12\", \"12\", \"12\", \"12\", \"12\", \"12\", \"123k\", \"124k\", \"12b\", \"139\", \"15k\", \"15k\", \"15k\", \"15k\", \"168\", \"16k\", \"16th\", \"17100s\", \"19\", \"19\", \"19\", \"19b\", \"19th\", \"1st\", \"1st\", \"1st\", \"1st\", \"1st\", \"2\", \"2\", \"2\", \"2\", \"2\", \"2\", \"2\", \"2\", \"2\", \"2\", \"2\", \"200\", \"20b\", \"20k\", \"20k\", \"21\", \"21\", \"21\", \"21b\", \"226k\", \"22b\", \"23k\", \"23k\", \"24k\", \"25\", \"25k\", \"25k\", \"25k\", \"25k\", \"25k\", \"25k\", \"25k\", \"25k\", \"25k\", \"25k\", \"263k\", \"26k\", \"27\", \"27\", \"27\", \"27\", \"27\", \"27\", \"27\", \"27\", \"27th\", \"30k\", \"30k\", \"30k\", \"30k\", \"30k\", \"30k\", \"30k\", \"32k\", \"34\", \"34\", \"34\", \"34\", \"34k\", \"34k\", \"34k\", \"34k\", \"35k\", \"35k\", \"399\", \"3ok\", \"3rd\", \"4\", \"4\", \"4\", \"4\", \"4\", \"4\", \"4\", \"4\", \"402\", \"4ever\", \"50\", \"500\", \"50k\", \"50k\", \"50k\", \"50k\", \"530k\", \"58\", \"58\", \"58\", \"58\", \"6\", \"6\", \"6\", \"6\", \"6\", \"6\", \"6\", \"6\", \"6\", \"6\", \"6\", \"6\", \"6\", \"6\", \"6\", \"66\", \"66\", \"666666\", \"666666\", \"6\\u00d76yuvi\", \"7150s\", \"8\", \"8\", \"8\", \"8\", \"8\", \"800yuviyans\", \"9067\", \"9067\", \"9067\", \"9067\", \"@\", \"@\", \"@akshay17\", \"@zakeera\", \"@zakeera\", \"a\", \"a\", \"a\", \"a\", \"a\", \"a\", \"a\", \"a\", \"a\", \"a\", \"a\", \"a\", \"a\", \"a\", \"a\", \"aah\", \"aapka\", \"aapko\", \"ability\", \"ability\", \"ability\", \"achieve\", \"across\", \"action\", \"action\", \"admin\", \"afridi\", \"again\", \"again\", \"again\", \"again\", \"again\", \"again\", \"again\", \"again\", \"againstfreedomofexpression\", \"aggression\", \"agression\", \"agression\", \"ajeeb\", \"akmeher\", \"akmeher\", \"alert\", \"all\", \"all\", \"all\", \"all\", \"all\", \"all\", \"all\", \"all\", \"all\", \"all\", \"all\", \"all\", \"all\", \"all\", \"all\", \"always\", \"always\", \"always\", \"always\", \"always\", \"always\", \"always\", \"always\", \"always\", \"always\", \"always\", \"always\", \"always\", \"always\", \"always\", \"amp\", \"amp\", \"amp\", \"amp\", \"amp\", \"amp\", \"amp\", \"amp\", \"amp\", \"amp\", \"amp\", \"and\", \"and\", \"and\", \"and\", \"and\", \"and\", \"and\", \"and\", \"and\", \"and\", \"and\", \"and\", \"and\", \"and\", \"and\", \"anna\", \"anniversary\", \"anniversary\", \"anniversary\", \"anniversary\", \"anxiousfacewithsweat\", \"anxiousfacewithsweat\", \"anxiousfacewithsweat\", \"any\", \"any\", \"any\", \"any\", \"anyone\", \"anyone\", \"anyone\", \"anyone\", \"anyone\", \"anyone\", \"an\\u2026\", \"an\\u2026\", \"are\", \"are\", \"are\", \"are\", \"are\", \"are\", \"are\", \"are\", \"are\", \"are\", \"are\", \"are\", \"are\", \"are\", \"are\", \"army\", \"army\", \"army\", \"asked\", \"at\", \"at\", \"at\", \"at\", \"at\", \"at\", \"at\", \"at\", \"at\", \"at\", \"at\", \"at\", \"at\", \"at\", \"at\", \"attendance\", \"attendance\", \"attendance\", \"attitude\", \"attitude\", \"attitude\", \"attitudedt\", \"attitudedt\", \"attitudedt\", \"attitudedt\", \"au\", \"au\", \"au\", \"author\", \"available\", \"available\", \"available\", \"available\", \"awake\", \"awarded\", \"awesome\", \"awesome\", \"awesome\", \"a\\u2026\", \"backhandindexpointingright\", \"backhandindexpointingright\", \"backhandindexpointingright\", \"backlift\", \"backlift\", \"backlift\", \"backlift\", \"backlift\", \"bad\", \"bad\", \"bad\", \"bad\", \"bad\", \"bad\", \"bad\", \"bad\", \"badly\", \"badly\", \"badly\", \"badly\", \"badly\", \"badly\", \"badly\", \"badly\", \"bahut\", \"bai\", \"bc\", \"bcci\", \"be\", \"be\", \"be\", \"be\", \"be\", \"be\", \"be\", \"be\", \"be\", \"be\", \"be\", \"be\", \"be\", \"be\", \"be\", \"because\", \"because\", \"becoming\", \"been\", \"been\", \"been\", \"been\", \"been\", \"been\", \"been\", \"been\", \"been\", \"been\", \"been\", \"been\", \"been\", \"been\", \"being\", \"being\", \"being\", \"being\", \"being\", \"being\", \"being\", \"being\", \"believed\", \"beloved\", \"below\", \"berojgari\", \"bhaiya\", \"bhaji\", \"bhavi\", \"bhavi\", \"bhavi\", \"bhavi\", \"bhavi\", \"bhavi\", \"bhavi\", \"bhavi\", \"bhi\", \"bhi\", \"bhi\", \"bhi\", \"billion\", \"billion\", \"birthday\", \"birthday\", \"birthday\", \"bit\", \"bit\", \"blackheart\", \"blackheart\", \"blackheart\", \"blackheart\", \"blackheart\", \"blackheart\", \"blackheart\", \"blackheart\", \"blackheart\", \"blackheart\", \"blackheart\", \"blackheart\", \"blessing\", \"blueheart\", \"blueheart\", \"blueheart\", \"blueheart\", \"blueheart\", \"blueheart\", \"blueheart\", \"blueheart\", \"blueheart\", \"blueheart\", \"blueheart\", \"blueheart\", \"boost\", \"boost\", \"born\", \"born\", \"born\", \"born\", \"born\", \"bos\", \"bos\", \"bos\", \"bos\", \"bos\", \"bos\", \"boundary\", \"boundary\", \"boundary\", \"boundary\", \"boy\", \"brave\", \"bringing\", \"bringing\", \"broad\\u2019s\", \"brokenheart\", \"brokenheart\", \"brokenheart\", \"brokenheart\", \"brokenheart\", \"brokenheart\", \"brokenheart\", \"brokenheart\", \"brokenheart\", \"brokenheart\", \"build\", \"build\", \"build\", \"c\", \"c\", \"called\", \"came\", \"came\", \"came\", \"can\", \"can\", \"can\", \"can\", \"can\", \"can\", \"can\", \"can\", \"can\", \"can\", \"can\", \"can\", \"can\\u2019t\", \"caption\", \"career\", \"career\", \"cdp\", \"celebrate\", \"celebrate\", \"celebrate\", \"celebrates\", \"celebrating\", \"celebration\", \"celebrity\", \"chal\", \"champ\", \"champ\", \"champ\", \"champ\", \"champ\", \"champ\", \"champ\", \"champ\", \"champ\", \"champion\", \"champion\", \"champion\", \"champion\", \"champion\", \"champion\", \"champion\", \"champion\", \"champion\", \"champion\", \"champion\", \"champion\", \"champion\", \"chandani\", \"chandani\", \"chandnishah\", \"cherryblossom\", \"childhood\", \"childhood\", \"childhood\", \"choudhary28\", \"clappinghands\", \"clappinghands\", \"clarke\", \"classy\", \"classy\", \"classy\", \"classy\", \"clear\", \"clockwiseverticalarrows\", \"clutchest\", \"coach\", \"coach\", \"collected\", \"collected\", \"collected\", \"collected\", \"collision\", \"collision\", \"collision\", \"collision\", \"collision\", \"collision\", \"collision\", \"collision\", \"combination\", \"combination\", \"combo\", \"come\", \"come\", \"come\", \"come\", \"come\", \"come\", \"come\", \"come\", \"come\", \"come\", \"come\", \"comebackdt\", \"comebackdt\", \"comebackdt\", \"comebackdt\", \"common\", \"common\", \"common\", \"common\", \"common\", \"common\", \"common\", \"common\", \"common\", \"common\", \"common\", \"completed\", \"completed\", \"completed\", \"completed\", \"completed\", \"completed\", \"completed\", \"completed\", \"completed\", \"completed\", \"completed\", \"completed\", \"completed\", \"completed\", \"congratulation\", \"conquered\", \"conquered\", \"contribution\", \"contribution\", \"contribution\", \"contribution\", \"contribution\", \"contribution\", \"contribution\", \"controversy\", \"could\", \"counting\", \"cricket\", \"cricket\", \"cricket\", \"cricket\", \"cricket\", \"cricket\", \"cricket\", \"cricket\", \"cricket\", \"cricket\", \"cricket\", \"cricket\", \"cricket\", \"cricket\", \"cricket\", \"cricketgame\", \"cricketgame\", \"cricketgame\", \"cricketgame\", \"cricketgame\", \"cricketgame\", \"cricketgame\", \"cricketgame\", \"cricketgame\", \"cricketgame\", \"cricketgame\", \"cricketing\", \"crossedfingers\", \"crown\", \"crown\", \"crown\", \"cryingface\", \"cryingface\", \"cryingface\", \"cryingface\", \"cryingface\", \"cryingface\", \"cult\", \"cult\", \"cult\", \"cult\", \"cult\", \"cult\", \"cult\", \"cult\", \"cult\", \"cult\", \"cult\", \"cult\", \"cup\", \"cup\", \"cup\", \"cup\", \"cup\", \"cup\", \"cup\", \"cup\", \"cup\", \"cup\", \"cup\", \"cup\", \"cup\", \"cup\", \"cup\", \"c\\u2026\", \"day\", \"day\", \"day\", \"day\", \"day\", \"day\", \"day\", \"day\", \"day\", \"day\", \"day\", \"day\", \"day\", \"dear\", \"defeat\", \"defeati\\u2026\", \"defeati\\u2026\", \"defeati\\u2026\", \"defeati\\u2026\", \"delhi\", \"delivered\", \"delivered\", \"deserve\", \"design\", \"determination\", \"determination\", \"determination\", \"determination\", \"determination\", \"determination\", \"devil\", \"dhak\", \"dhoniamp\", \"diamant\", \"diamant\", \"different\", \"different\", \"different\", \"different\", \"different\", \"dikh\", \"disappointedface\", \"disappointedface\", \"dizzyface\", \"doubt\", \"down\", \"down\", \"down\", \"down\", \"down\", \"dq369\", \"dts\", \"dts\", \"effort\", \"eh\", \"ekkada\", \"elegant\", \"elegant\", \"elegant\", \"elegant\", \"elegant\", \"elegant\", \"emotion\", \"emotion\", \"emotion\", \"emotion\", \"emotion\", \"emotion\", \"emotion\", \"emotion\", \"emotion\", \"emotion\", \"end\", \"energy\", \"enjoy\", \"enjoy\", \"enjoy\", \"enjoy\", \"enjoy\", \"enjoy\", \"enjoy\", \"enjoy\", \"enjoy\", \"era\", \"era\", \"era\", \"eternal\", \"event\", \"event\", \"event\", \"event\", \"event\", \"event\", \"event\", \"event\", \"everythingdt\", \"everythingdt\", \"everythingdt\", \"everythingdt\", \"evident\", \"excitement\", \"excitement\", \"excitement\", \"expressed\", \"expression\", \"faceblowingakiss\", \"faceblowingakiss\", \"faceblowingakiss\", \"faceblowingakiss\", \"faceblowingakiss\", \"faceblowingakiss\", \"faceblowingakiss\", \"faceblowingakiss\", \"faceblowingakiss\", \"faceblowingakiss\", \"faceblowingakiss\", \"faceblowingakiss\", \"faceblowingakiss\", \"facewithhandovermouth\", \"facewithhandovermouth\", \"facewithhandovermouth\", \"facewithtearsofjoy\", \"facewithtearsofjoy\", \"facewithtearsofjoy\", \"facewithtearsofjoy\", \"facewithtearsofjoy\", \"facewithtearsofjoy\", \"factory\", \"family\", \"fandom\", \"fandom\", \"fastest\", \"fav\", \"fav\", \"favourite\", \"favourite\", \"favourite\", \"favourite\", \"favourite\", \"favourite\", \"fb\", \"fb\", \"fb\", \"fc\", \"feeling\", \"female\", \"field\", \"field\", \"field\", \"field\", \"field\", \"field\", \"field\", \"field\", \"field\", \"field\", \"field\", \"field\", \"fielder\", \"fielder\", \"fielder\", \"fieldthose\", \"fieldthose\", \"fieldthose\", \"fifty\", \"fighter\", \"fire\", \"fire\", \"fire\", \"fire\", \"fire\", \"fire\", \"fire\", \"fire\", \"fire\", \"fire\", \"fire\", \"fire\", \"fire\", \"fire\", \"fire\", \"first\", \"first\", \"first\", \"first\", \"first\", \"fleet\", \"fleet\", \"flick\", \"flick\", \"flintoff\", \"flintoff\", \"flushedface\", \"foldedhands\", \"foldedhands\", \"foldedhands\", \"foldedhands\", \"foldedhands\", \"foldedhands\", \"foldedhands\", \"foldedhands\", \"foldedhands\", \"foldedhands\", \"foldedhands\", \"foldedhands\", \"foldedhands\", \"foldedhands\", \"follow\", \"follow\", \"follow\", \"follow\", \"follow\", \"follow\", \"follow\", \"follow\", \"follow\", \"follow\", \"following\", \"for\", \"for\", \"for\", \"for\", \"for\", \"for\", \"for\", \"for\", \"for\", \"for\", \"for\", \"for\", \"for\", \"for\", \"for\", \"forever\", \"forever\", \"forever\", \"forever\", \"forever\", \"forever\", \"forever\", \"forever\", \"forever\", \"forever\", \"forever\", \"forever\", \"forever\", \"forever\", \"forgot\", \"forgotten\", \"form\", \"form\", \"form\", \"form\", \"form\", \"found\", \"found\", \"foundation\", \"four\", \"fr\", \"fram\", \"full\", \"full\", \"full\", \"full\", \"gade\", \"game\", \"game\", \"game\", \"game\", \"game\", \"game\", \"game\", \"game\", \"game\", \"game\", \"game\", \"get\", \"get\", \"get\", \"get\", \"get\", \"get\", \"get\", \"get\", \"globe\", \"god\", \"god\", \"god\", \"god\", \"god\", \"good\", \"good\", \"good\", \"good\", \"good\", \"good\", \"good\", \"good\", \"goosebump\", \"goosebump\", \"goosebump\", \"goosebump\", \"gratitude\", \"gratitude\", \"gratitude\", \"great\", \"great\", \"great\", \"great\", \"great\", \"great\", \"great\", \"great\", \"great\", \"great\", \"great\", \"greatly\", \"grimacingface\", \"growingheart\", \"gunnu\", \"guy\", \"guy\", \"guy\", \"guy\", \"guy\", \"guy\", \"guy\", \"guyz\", \"h\", \"h\", \"haan\", \"hai\", \"hai\", \"hai\", \"hai\", \"hai\", \"hai\", \"hai\", \"hammering\", \"hand\", \"handle\", \"handshake\", \"happy\", \"happy\", \"happy\", \"happy\", \"happy\", \"happy\", \"happy\", \"happy\", \"happy\", \"happy\", \"hardworker\", \"hash\", \"hash\", \"hash\", \"hasn\\u2019t\", \"hasn\\u2019t\", \"he\", \"he\", \"he\", \"he\", \"he\", \"he\", \"he\", \"he\", \"he\", \"he\", \"heart\", \"heart\", \"heart\", \"heart\", \"heart\", \"heart\", \"heart\", \"heart\", \"heart\", \"heart\", \"heart\", \"heartbreaking\", \"heartsuit\", \"heartsuit\", \"heartsuit\", \"heartsuit\", \"heartsuit\", \"heartsuit\", \"heartsuit\", \"heartsuit\", \"heartsuit\", \"heartsuit\", \"heartsuit\", \"heartsuit\", \"heartwithribbon\", \"heas\", \"heas\", \"heas\", \"heas\", \"heas\", \"heavyheartexclamation\", \"heavyheartexclamation\", \"heavyheartexclamation\", \"heavyheartexclamation\", \"heavyheartexclamation\", \"heavyheartexclamation\", \"heavyheartexclamation\", \"heavyheartexclamation\", \"heavyheartexclamation\", \"heavyheartexclamation\", \"heavyheartexclamation\", \"helpful\", \"here\", \"here\", \"here\", \"here\", \"here\", \"here\", \"here\", \"here\", \"here\", \"here\", \"here\", \"hero\", \"hero\", \"hero\", \"hero\", \"hero\", \"hero\", \"hero\", \"hero\", \"hero\", \"hero\", \"hero\", \"hero\", \"hero\", \"hero\", \"high\", \"high\", \"high\", \"high\", \"high\", \"hindupur\", \"his\", \"his\", \"his\", \"his\", \"his\", \"his\", \"his\", \"his\", \"his\", \"his\", \"his\", \"his\", \"his\", \"his\", \"his\", \"history\", \"hitter\", \"hitter\", \"honour\", \"hour\", \"hour\", \"hour\", \"hour\", \"hour\", \"hour\", \"hour\", \"hour\", \"hour\", \"hour\", \"hour\", \"hour\", \"hour\", \"hour\", \"how\", \"how\", \"how\", \"how\", \"how\", \"how\", \"how\", \"how\", \"how\", \"how\", \"how\", \"hua\", \"human\", \"human\", \"human\", \"hyd\", \"h\\u2026\", \"h\\u2026\", \"h\\u2026\", \"i\", \"i\", \"i\", \"i\", \"i\", \"i\", \"i\", \"i\", \"i\", \"i\", \"i\", \"i\", \"i\", \"i\", \"i\", \"if\", \"if\", \"if\", \"if\", \"if\", \"if\", \"if\", \"if\", \"if\", \"if\", \"if\", \"if\", \"if\", \"if\", \"if\", \"im\", \"im\", \"im\", \"im\", \"imissyou\", \"immeasurable\", \"immense\", \"immense\", \"immense\", \"immense\", \"immense\", \"impactful\", \"important\", \"important\", \"important\", \"impression\", \"impression\", \"in\", \"in\", \"in\", \"in\", \"in\", \"in\", \"in\", \"in\", \"in\", \"in\", \"in\", \"in\", \"in\", \"in\", \"in\", \"incident\", \"incident\", \"incident\", \"indelible\", \"indelible\", \"individual\", \"inspired\", \"inspired\", \"inspired\", \"inspired\", \"inspired\", \"inspired\", \"inspired\", \"inspired\", \"inspired\", \"inspiring\", \"inspiring\", \"inspiring\", \"inspiring\", \"inspir\\u2026\", \"instagram\", \"intensity\", \"irreplacable\", \"irruku\", \"is\", \"is\", \"is\", \"is\", \"is\", \"is\", \"is\", \"is\", \"is\", \"is\", \"is\", \"is\", \"is\", \"is\", \"is\", \"it\", \"it\", \"it\", \"it\", \"it\", \"it\", \"it\", \"it\", \"it\", \"it\", \"it\", \"it\", \"it\", \"it\", \"it\", \"it\\u2019s\", \"japanesesymbolforbeginner\", \"jawab\", \"jersey\", \"jersey\", \"jersey\", \"jersey\", \"jersey\", \"jersey\", \"jersey\", \"jersey\", \"july1207\", \"june\", \"june\", \"june\", \"june10\", \"just\", \"just\", \"just\", \"just\", \"just\", \"just\", \"just\", \"just\", \"just\", \"just\", \"just\", \"just\", \"kapil\", \"karma\", \"kelaaa\", \"kelaaa\", \"khayegi\", \"kota\", \"kr\", \"lahu12\", \"lahu12\", \"latest\", \"leeded\", \"legacy\", \"legend\", \"legend\", \"legend\", \"legend\", \"legend\", \"legend\", \"legend\", \"legend\", \"legend\", \"legend\", \"legend\", \"legend\", \"legend\", \"legend\", \"legend\", \"legend12\", \"legendary\", \"legendary\", \"legendary\", \"legendary\", \"legendary\", \"legendary\", \"legend\\u2019s\", \"level\", \"level\", \"level\", \"level\", \"level\", \"level\", \"life\", \"life\", \"life\", \"life\", \"life\", \"life\", \"life\", \"life\", \"life\", \"life\", \"life\", \"life\", \"life\", \"life\", \"like\", \"like\", \"like\", \"like\", \"like\", \"like\", \"like\", \"like\", \"like\", \"like\", \"like\", \"likes\\u2661\\u2661\\u2661\", \"lionface\", \"lionface\", \"list\", \"little\", \"livedareinspire\", \"livedareinspire\", \"livedareinspire\", \"long\", \"long\", \"long\", \"long\", \"longer\", \"longer\", \"longer\", \"longer\", \"lot\", \"lot\", \"lot\", \"lot\", \"lot\", \"lot\", \"lot\", \"lot\", \"loudlycryingface\", \"loudlycryingface\", \"loudlycryingface\", \"loudlycryingface\", \"loudlycryingface\", \"loudlycryingface\", \"loudlycryingface\", \"loudlycryingface\", \"loudlycryingface\", \"loudlycryingface\", \"loudlycryingface\", \"loudlycryingface\", \"loudlycryingface\", \"loudlycryingface\", \"loudlycryingface\", \"love\", \"love\", \"love\", \"love\", \"love\", \"love\", \"love\", \"love\", \"love\", \"love\", \"love\", \"love\", \"love\", \"love\", \"love\", \"lovelife\", \"lovely\", \"luv\", \"luv\", \"maar\", \"made\", \"made\", \"made\", \"made\", \"made\", \"made\", \"magic\", \"make\", \"make\", \"make\", \"make\", \"make\", \"make\", \"make\", \"making\", \"making\", \"making\", \"male\", \"mama\", \"mamaji\", \"man\", \"man\", \"man\", \"man\", \"man\", \"man\", \"man\", \"man\", \"man\", \"man\", \"man\", \"man\", \"man\", \"man\", \"mandancing\", \"mandancing\", \"mandancing\", \"manfacepalming\", \"manfacepalming\", \"manfacepalminglightskintone\", \"manoj7\", \"manoj7\", \"many\", \"many\", \"many\", \"many\", \"many\", \"many\", \"many\", \"many\", \"many\", \"many\", \"many\", \"many\", \"many\", \"many\", \"mark\", \"mass\", \"mass\", \"matchwinners\", \"me\", \"me\", \"me\", \"me\", \"me\", \"me\", \"me\", \"me\", \"me\", \"me\", \"me\", \"me\", \"me\", \"me\", \"medal\", \"micheal\", \"middle\", \"middle\", \"middle\", \"mids\", \"million\", \"million\", \"million\", \"million\", \"million\", \"million\", \"million\", \"million\", \"million\", \"million\", \"million\", \"million\", \"mind\", \"minute\", \"minute\", \"minute\", \"minute\", \"minute\", \"minute\", \"minute\", \"minute\", \"minute\", \"minute\", \"minute\", \"minute\", \"minute\", \"minute\", \"minute\", \"miss\", \"miss\", \"miss\", \"miss\", \"miss\", \"miss\", \"miss\", \"miss\", \"miss\", \"miss\", \"miss\", \"miss\", \"miss\", \"miss\", \"miss\", \"missed\", \"missed\", \"missed\", \"missed\", \"missed\", \"missed\", \"missed\", \"missed\", \"missed\", \"missing\", \"missing\", \"missing\", \"missing\", \"missing\", \"missing\", \"missing\", \"missing\", \"missing\", \"missing\", \"missing\", \"missing\", \"missu\", \"mk13\", \"mkr17\", \"more\", \"more\", \"more\", \"more\", \"more\", \"more\", \"more\", \"more\", \"more\", \"more\", \"more\", \"morning\", \"mp\", \"muje\", \"must\", \"my\", \"my\", \"my\", \"my\", \"my\", \"my\", \"my\", \"my\", \"my\", \"my\", \"my\", \"my\", \"my\", \"my\", \"my\", \"nalla\", \"nation\\u2026\", \"natwest\", \"nd\", \"nd\", \"nd\", \"nd\", \"ndtv\", \"nearly\", \"need\", \"need\", \"need\", \"need\", \"need\", \"need\", \"need\", \"nervous\", \"nervous\", \"nervous\", \"neutralface\", \"neutralface\", \"never\", \"never\", \"never\", \"never\", \"never\", \"never\", \"never\", \"never\", \"never\", \"never\", \"never\", \"never\", \"never\", \"never\", \"never\", \"news\", \"news\", \"next\", \"ngo\", \"no\", \"no\", \"no\", \"no\", \"no\", \"no\", \"no\", \"no\", \"no\", \"no\", \"no\", \"no\", \"no\", \"no\", \"no\", \"no12\", \"not\", \"not\", \"not\", \"not\", \"not\", \"not\", \"not\", \"not\", \"not\", \"not\", \"not\", \"not\", \"not\", \"not\", \"noticed\", \"noticing\", \"now\", \"now\", \"now\", \"now\", \"now\", \"now\", \"now\", \"now\", \"now\", \"now\", \"nowadays\", \"ntd\", \"nutshell\", \"nutshell\", \"of\", \"of\", \"of\", \"of\", \"of\", \"of\", \"of\", \"of\", \"of\", \"of\", \"of\", \"of\", \"of\", \"of\", \"of\", \"ohhok\", \"okay\", \"on\", \"on\", \"on\", \"on\", \"on\", \"on\", \"on\", \"on\", \"on\", \"on\", \"on\", \"on\", \"on\", \"on\", \"on\", \"once\", \"once\", \"once\", \"once\", \"once\", \"once\", \"one\", \"one\", \"one\", \"one\", \"one\", \"one\", \"one\", \"one\", \"one\", \"one\", \"one\", \"one\", \"one\", \"one\", \"one\", \"online\", \"online\", \"online\", \"online\", \"online\", \"online\", \"online\", \"online\", \"onr\", \"orangeheart\", \"order\", \"order\", \"order\", \"orey\", \"others\", \"others\", \"others\", \"others\", \"our\", \"our\", \"our\", \"our\", \"our\", \"our\", \"our\", \"our\", \"our\", \"our\", \"our\", \"our\", \"our\", \"our\", \"our\", \"oyee\", \"pa\", \"pa\", \"pa\", \"pa\", \"paaa\", \"paaaji\", \"paaajii\", \"paaajii\", \"paaji\", \"paaji\", \"paaji\", \"paaji\", \"paaji\", \"paaji\", \"paaji\", \"paaji\", \"paaji\", \"paaji\", \"paaji\", \"paaji\\u0964\\u0964\", \"paajj\", \"paajji\", \"paji\", \"paji\", \"paji\", \"paji\", \"paji\", \"paji\", \"paji\", \"paji\", \"paji\", \"paji\", \"paji\", \"paji\", \"paji\", \"pajis\", \"participating\", \"participating\", \"participating\", \"participating\", \"participating\", \"participating\", \"participating\", \"participating\", \"patriot\", \"pazi\", \"pazi\\u2019s\", \"pehle\", \"pehle\", \"pensiveface\", \"pensiveface\", \"pensiveface\", \"pensiveface\", \"pensiveface\", \"pensiveface\", \"pensiveface\", \"pensiveface\", \"pensiveface\", \"pensiveface\", \"perseveringface\", \"perseveringface\", \"perseveringface\", \"personshrugging\", \"phase\", \"phase\", \"phase\", \"phase\", \"phase\", \"phase\", \"phase\", \"phase\", \"phenomenal\", \"pick\", \"pleadingface\", \"pleadingface\", \"pleadingface\", \"pleadingface\", \"pleadingface\", \"pleadingface\", \"please\", \"please\", \"please\", \"please\", \"please\", \"please\", \"please\", \"please\", \"plzz\", \"pl\\u2026\", \"pointing\", \"poutingface\", \"power\", \"power\", \"power\", \"power\", \"proud\", \"proud\", \"proud\", \"proud\", \"proud\", \"proved\", \"punjab\", \"put\", \"p\\u2026\", \"p\\u2026\", \"p\\u2026\", \"p\\u2026\", \"p\\u2026\", \"p\\u2026\", \"p\\u2026\", \"p\\u2026\", \"raisedfist\", \"raisinghands\", \"raisinghands\", \"raisinghands\", \"raisinghands\", \"raisinghands\", \"raisinghands\", \"raisinghands\", \"raisinghands\", \"raisinghands\", \"raisinghands\", \"raisinghands\", \"ram\", \"ram\", \"reach\", \"reaction\", \"reaction\", \"read\", \"reading\", \"redheart\", \"redheart\", \"redheart\", \"redheart\", \"redheart\", \"redheart\", \"redheart\", \"redheart\", \"redheart\", \"redheart\", \"redheart\", \"redheart\", \"redheart\", \"redheart\", \"redheart\", \"relievedface\", \"remain\", \"remain\", \"remain\", \"remain\", \"remain\", \"remain\", \"remain\", \"remain\", \"remain\", \"remember\", \"remember\", \"remember\", \"remember\", \"remember\", \"remember\", \"remember\", \"remember\", \"remember\", \"remember\", \"remembered\", \"repeatbutton\", \"replacement\", \"replacement\", \"replacement\", \"replacement\", \"resign\", \"resolute\", \"resolute\", \"resolute\", \"resolute\", \"respectful\", \"resurfaces\", \"retire\", \"retire\", \"retire\", \"retire\", \"retire\", \"retire\", \"retire\", \"retire\", \"retire\", \"retire\", \"retire\", \"retiredyour\", \"retirement\", \"retirement\", \"retirement\", \"retirement\", \"retirement\", \"retirement\", \"retirement\", \"retirement\", \"retirement\", \"retirement\", \"retirement\", \"retirement\", \"retirement\", \"retirement\", \"retweet\", \"retweet\", \"retweet\", \"retweet\", \"retweet\", \"retweet\", \"retweet\", \"retweet\", \"retweet\", \"retweet\", \"retweet\", \"ret\\u2026\", \"rha\", \"rhe\", \"roar\", \"roar\", \"roar\", \"rock\", \"row\", \"row\", \"row\", \"rt\", \"rt\", \"rt\", \"rt\", \"rt\", \"rt\", \"rt\", \"rt\", \"rummy\", \"run\", \"run\", \"run\", \"run\", \"run\", \"ruthless\", \"ruthless\", \"sad\", \"sad\", \"safar\", \"sagar12\", \"sagar12\", \"samal7\", \"same\", \"same\", \"same\", \"same\", \"sanghvi2\", \"schedule\", \"scored\", \"se\", \"se\", \"seenoevilmonkey\", \"sensation\", \"sensation\", \"series\", \"series\", \"series\", \"series\", \"series\", \"seriously\", \"sethu\", \"shaandar\", \"share\", \"share\", \"share\", \"share\", \"share\", \"share\", \"share\", \"sharing\\u2606\\u2606\\u2606\", \"shine\", \"shit\", \"shit\", \"shree45\", \"si\", \"si\", \"since\", \"since\", \"since\", \"since\", \"since\", \"since\", \"since\", \"since\", \"singh\", \"singh\", \"singh\", \"singh\", \"singh\", \"singh\", \"singh\", \"singh\", \"singh\", \"singh\", \"singh\", \"singh\", \"singh\", \"singh\", \"singh\", \"singh36\", \"singhs\", \"singhs\", \"sir\", \"sir\", \"sir\", \"sir\", \"sir\", \"sir\", \"sir\", \"sir\", \"sir\", \"sir\", \"six\", \"six\", \"six\", \"six\", \"six\", \"six\", \"six\", \"six\", \"six\", \"six\", \"six\", \"six\", \"six\", \"six\", \"six\", \"sixer\", \"sixer\", \"sixer\", \"sixer\", \"sixer\", \"sixhitterone\", \"skrao12\", \"sleep\", \"slightlysmilingface\", \"slightlysmilingface\", \"smartness\", \"smartphone\", \"smashed\", \"smashed\", \"smilingcatfacewithhearteyes\", \"smilingcatfacewithhearteyes\", \"smilingcatfacewithhearteyes\", \"smilingfacewith3hearts\", \"smilingfacewith3hearts\", \"smilingfacewithhearteyes\", \"smilingfacewithhearteyes\", \"smilingfacewithhearteyes\", \"smilingfacewithhearteyes\", \"smilingfacewithhearteyes\", \"smilingfacewithhearteyes\", \"smilingfacewithhearteyes\", \"smilingfacewithhearteyes\", \"smilingfacewithhearteyes\", \"smilingfacewithhearteyes\", \"smilingfacewithhearteyes\", \"smilingfacewithsmilingeyes\", \"smilingfacewithsunglasses\", \"smilingfacewithsunglasses\", \"smilingfacewithsunglasses\", \"smilingfacewithsunglasses\", \"smilingfacewithsunglasses\", \"son\", \"song\", \"song\", \"song\", \"song\", \"sparkler\", \"sparklingheart\", \"sparklingheart\", \"sparklingheart\", \"sparklingheart\", \"speed\", \"speed\", \"speed\", \"speed\", \"speed\", \"speed\", \"speed\", \"speed\", \"speed\", \"speed\", \"speed\", \"speed\", \"speed\", \"speed\", \"speed\", \"spirit\", \"spirit\", \"sportsman\", \"sportsword\", \"spread\", \"spread\", \"spread\", \"sriv\", \"staaar\", \"stalwart\", \"stalwart\", \"stalwart\", \"stalwart\", \"stalwart\", \"stalwart\", \"stalwart\", \"stalwart\", \"stalwart\", \"stalwart\", \"stalwart\", \"stalwart\", \"stalwart\", \"still\", \"still\", \"still\", \"still\", \"still\", \"still\", \"still\", \"still\", \"still\", \"still\", \"still\", \"streaming\", \"struggler\", \"stucked\", \"sun\", \"sun\", \"sun\", \"sunlo\", \"sunna\", \"supporting\", \"survivor\", \"survivor\", \"survivor\", \"survivor\", \"surya\", \"swag\", \"sydney\", \"s\\u2026\", \"s\\u2026\", \"s\\u2026\", \"tag\", \"tag\", \"tag\", \"tag\", \"tag\", \"tag\", \"tag\", \"taise\", \"taking\", \"taking\", \"taking\", \"taking\", \"talk\", \"talkwalker\", \"teamhe\", \"telugu\", \"thalaiva\", \"thalaiva\", \"thalaivaaaa\", \"thalaivaaaa\", \"thalaivaaaa\", \"thalaivaaaa\", \"thalaivaaaa\", \"thalaivaaaa\", \"thalaivaaaaa\", \"thalaivaaaaa\", \"thalaivaaaaa\", \"thalaivaaaaa\", \"thalaivaaaaa\", \"thalaivaaaaa\", \"thalaivaaaaa\", \"thalaivaaaaa\", \"thalaivaaaaa\", \"thalaivaaaaaaa\", \"thalaivan\", \"than\", \"than\", \"than\", \"than\", \"than\", \"than\", \"than\", \"than\", \"than\", \"thank\", \"thank\", \"thank\", \"thank\", \"thank\", \"thank\", \"thank\", \"thank\", \"thank\", \"thank\", \"thank\", \"thank\", \"thank\", \"thank\", \"the\", \"the\", \"the\", \"the\", \"the\", \"the\", \"the\", \"the\", \"the\", \"the\", \"the\", \"the\", \"the\", \"the\", \"the\", \"thelegend\", \"theme\", \"there\", \"there\", \"there\", \"there\", \"there\", \"there\", \"there\", \"there\", \"therikanum\", \"these\", \"these\", \"these\", \"these\", \"these\", \"this\", \"this\", \"this\", \"this\", \"this\", \"this\", \"this\", \"this\", \"this\", \"this\", \"this\", \"this\", \"this\", \"this\", \"this\", \"those\", \"those\", \"those\", \"those\", \"those\", \"those\", \"those\", \"thrill\", \"thrill\", \"thrill\", \"thumbsup\", \"thumbsup\", \"thumbsup\", \"thumbsup\", \"thumbsup\", \"time\", \"time\", \"time\", \"time\", \"time\", \"time\", \"time\", \"time\", \"time\", \"time\", \"time\", \"time\", \"time\", \"time\", \"timefav\", \"timeline\", \"timing\", \"timing\", \"timing\", \"timing\", \"to\", \"to\", \"to\", \"to\", \"to\", \"to\", \"to\", \"to\", \"to\", \"to\", \"to\", \"to\", \"to\", \"to\", \"to\", \"today\", \"today\", \"today\", \"today\", \"today\", \"today\", \"top\", \"top\", \"top\", \"top\", \"top\", \"top\", \"top\", \"top\", \"top\", \"top\", \"top\", \"top\", \"tour\", \"trade\", \"trend\", \"trend\", \"trend\", \"trend\", \"trend\", \"trend\", \"trend\", \"trend\", \"trend\", \"trend\", \"trend\", \"trend\", \"trend\", \"trend\", \"trend\", \"trending\", \"trending\", \"trending\", \"trending\", \"trending\", \"trending\", \"trending\", \"trending\", \"trending\", \"trending\", \"trending\", \"trending\", \"tweet\", \"tweet\", \"tweet\", \"tweet\", \"tweet\", \"tweet\", \"tweet\", \"tweet\", \"tweet\", \"tweet\", \"tweet\", \"tweet\", \"tweet\", \"tweet\", \"tweet\", \"u\", \"u\", \"u\", \"u\", \"u\", \"u\", \"u\", \"u\", \"u\", \"u\", \"u\", \"u\", \"u\", \"u\", \"u\", \"ua\", \"uhh\", \"umatched\", \"unbelievable\", \"uncountable\", \"undey\", \"unforgettable\", \"unforgettable\", \"unforgettable\", \"unforgettable\", \"unforgettable\", \"up\", \"up\", \"up\", \"up\", \"up\", \"up\", \"up\", \"up\", \"up\", \"up\", \"up\", \"up\", \"up\", \"up\", \"up\", \"upcoming\", \"update\", \"uploading\", \"use\", \"use\", \"use\", \"use\", \"use\", \"usse\", \"usse\", \"uv\", \"uv\", \"uv\", \"v\", \"v\", \"v\", \"v\", \"v\", \"v\", \"vala\", \"veru\", \"very\", \"very\", \"very\", \"very\", \"very\", \"very\", \"vikramsingh\", \"vinesh\", \"vintage\", \"vintage\", \"vintage\", \"wa\", \"wa\", \"wa\", \"wa\", \"wa\", \"wa\", \"wa\", \"wa\", \"wa\", \"wa\", \"wa\", \"wa\", \"wa\", \"wa\", \"walked\", \"wantjustice\", \"watch\", \"watch\", \"watch\", \"watch\", \"watch\", \"watch\", \"watch\", \"watch\", \"watch\", \"watching\", \"watching\", \"watching\", \"watching\", \"watching\", \"watching\", \"water\", \"wc\", \"wc\", \"wc\", \"wc\", \"wc\", \"wc\", \"wc\", \"wc2011\", \"we\", \"we\", \"we\", \"we\", \"we\", \"we\", \"we\", \"we\", \"we\", \"we\", \"we\", \"we\", \"we\", \"we\", \"we\", \"website\", \"wee\", \"wee\", \"welcome\", \"when\", \"when\", \"when\", \"when\", \"when\", \"when\", \"when\", \"when\", \"when\", \"when\", \"whenever\", \"whenever\", \"whenever\", \"whenever\", \"whenever\", \"whenever\", \"which\", \"which\", \"which\", \"which\", \"which\", \"whiteball\", \"whiteheavycheckmark\", \"whiteheavycheckmark\", \"who\", \"who\", \"who\", \"who\", \"who\", \"who\", \"who\", \"who\", \"who\", \"who\", \"who\", \"who\", \"who\", \"whole\", \"whole\", \"wid\", \"will\", \"will\", \"will\", \"will\", \"will\", \"will\", \"will\", \"will\", \"will\", \"will\", \"will\", \"will\", \"will\", \"will\", \"will\", \"wish\", \"wish\", \"wish\", \"with\", \"with\", \"with\", \"with\", \"with\", \"with\", \"with\", \"with\", \"with\", \"with\", \"with\", \"with\", \"with\", \"with\", \"within\", \"within\", \"within\", \"wonder\", \"word\", \"world\", \"world\", \"world\", \"world\", \"world\", \"world\", \"world\", \"world\", \"world\", \"world\", \"world\", \"world\", \"world\", \"world\", \"world\", \"worst\", \"wow\", \"wrist\", \"wrong\", \"yasss\", \"year\", \"year\", \"year\", \"year\", \"year\", \"year\", \"year\", \"year\", \"year\", \"year\", \"year\", \"year\", \"year\", \"year\", \"year\", \"yeh\", \"yes\", \"yes\", \"yes\", \"yes\", \"yes\", \"you\", \"you\", \"you\", \"you\", \"you\", \"you\", \"you\", \"you\", \"you\", \"you\", \"you\", \"you\", \"you\", \"you\", \"you\", \"youll\", \"youll\", \"youll\", \"your\", \"your\", \"your\", \"your\", \"your\", \"your\", \"your\", \"your\", \"your\", \"your\", \"your\", \"your\", \"your\", \"your\", \"your\", \"you\\u2019ve\", \"you\\u2019ve\", \"yovi\", \"yuvi\", \"yuvi\", \"yuvi\", \"yuvi\", \"yuvi\", \"yuvi\", \"yuvi\", \"yuvi\", \"yuvi\", \"yuvi\", \"yuvi\", \"yuvi\", \"yuvi\", \"yuvi\", \"yuvi\", \"yuvian\", \"yuvian\", \"yuvian\", \"yuvian\", \"yuvian\", \"yuvian\", \"yuvian\", \"yuvian\", \"yuvian\", \"yuvian\", \"yuvian\", \"yuvian\", \"yuvian\", \"yuvian\", \"yuvian\", \"yuvian15\", \"yuvian15\", \"yuvian15\", \"yuvian15\", \"yuvians\", \"yuvians\", \"yuvians\", \"yuvians\", \"yuvians\", \"yuvians\", \"yuvians\", \"yuvians\", \"yuvians\", \"yuvians\", \"yuvians\", \"yuvians\", \"yuvians\", \"yuvifan\", \"yuvisir\", \"yuvism\", \"yuvism\", \"yuvism\", \"yuvism\", \"yuvism\", \"yuvism\", \"yuvraj\", \"yuvraj\", \"yuvraj\", \"yuvraj\", \"yuvraj\", \"yuvraj\", \"yuvraj\", \"yuvraj\", \"yuvraj\", \"yuvraj\", \"yuvraj\", \"yuvraj\", \"yuvraj\", \"yuvraj\", \"yuvraj\", \"y\\u2026\", \"y\\u2026\", \"\\u0280\\u1d07s\\u1d18\\u1d07\\u1d04\\u1d1b\\u0493\\u1d1c\\u029f\", \"\\u029f\\u1d07\\u0262\\u1d07\\u0274\\u1d05\", \"\\u0906\\u091c\", \"\\u0906\\u091c\", \"\\u0906\\u091c\", \"\\u0906\\u091c\", \"\\u0915\\u092a\\u093f\\u0932\", \"\\u0915\\u0947\\u2026\", \"\\u0915\\u0947\\u2026\", \"\\u0915\\u094c\\u0928\\u0938\\u093e\", \"\\u0918\\u091f\\u093f\\u092f\\u093e\", \"\\u0928\\u094d\\u092f\\u0942\\u091c\", \"\\u092e\\u093f\\u0936\\u094d\\u0930\\u093e\", \"\\u092f\\u0941\\u0935\\u0930\\u093e\\u091c\\u0938\\u093f\\u0902\\u0939\\u092e\\u093e\\u092b\\u0940\\u092e\\u093e\\u0902\\u0917\\u094b\", \"\\u0932\\u0940\\u091c\\u0947\\u0902\\u0921\", \"\\u0939\\u0940\", \"\\u0939\\u0940\", \"\\u0939\\u0940\", \"\\u0939\\u0940\", \"\\u0939\\u0940\", \"\\u0939\\u0940\", \"\\u0b8f\\u0b95\\u0bcd\\u0b95\\u0ba4\\u0bcd\\u0ba4\\u0bbf\\u0bb2\\u0bcd\", \"\\u0b8f\\u0b95\\u0bcd\\u0b95\\u0ba4\\u0bcd\\u0ba4\\u0bbf\\u0bb2\\u0bcd\", \"\\u0bb0\\u0b9a\\u0bbf\\u0b95\\u0bb0\\u0bcd\\u0b95\\u0bb3\\u0bcd\", \"\\u0bb0\\u0b9a\\u0bbf\\u0b95\\u0bb0\\u0bcd\\u0b95\\u0bb3\\u0bcd\", \"\\u1d00\", \"\\u1d0d\\u1d0f\\u1d0d\\u1d07\\u0274\\u1d1b\", \"\\u2013\", \"\\u201coverwhelmed\\u201d\", \"\\u201coverwhelmed\\u201d\", \"\\u2026\", \"\\u2026\", \"\\u2026\", \"\\u2026\", \"\\u2026\", \"\\u2026\", \"\\u2026\", \"\\u2026\", \"\\u2026\", \"\\u2026\", \"\\u2026\", \"\\u2026\", \"\\u2026\", \"\\u2026\", \"\\u2661\", \"\\u2661\"]}, \"R\": 30, \"lambda.step\": 0.01, \"plot.opts\": {\"xlab\": \"PC1\", \"ylab\": \"PC2\"}, \"topic.order\": [6, 15, 10, 12, 4, 13, 14, 9, 11, 2, 5, 3, 8, 1, 7]};\n",
              "\n",
              "function LDAvis_load_lib(url, callback){\n",
              "  var s = document.createElement('script');\n",
              "  s.src = url;\n",
              "  s.async = true;\n",
              "  s.onreadystatechange = s.onload = callback;\n",
              "  s.onerror = function(){console.warn(\"failed to load library \" + url);};\n",
              "  document.getElementsByTagName(\"head\")[0].appendChild(s);\n",
              "}\n",
              "\n",
              "if(typeof(LDAvis) !== \"undefined\"){\n",
              "   // already loaded: just create the visualization\n",
              "   !function(LDAvis){\n",
              "       new LDAvis(\"#\" + \"ldavis_el1221401145124728482390335418\", ldavis_el1221401145124728482390335418_data);\n",
              "   }(LDAvis);\n",
              "}else if(typeof define === \"function\" && define.amd){\n",
              "   // require.js is available: use it to load d3/LDAvis\n",
              "   require.config({paths: {d3: \"https://cdnjs.cloudflare.com/ajax/libs/d3/3.5.5/d3.min\"}});\n",
              "   require([\"d3\"], function(d3){\n",
              "      window.d3 = d3;\n",
              "      LDAvis_load_lib(\"https://cdn.rawgit.com/bmabey/pyLDAvis/files/ldavis.v1.0.0.js\", function(){\n",
              "        new LDAvis(\"#\" + \"ldavis_el1221401145124728482390335418\", ldavis_el1221401145124728482390335418_data);\n",
              "      });\n",
              "    });\n",
              "}else{\n",
              "    // require.js not available: dynamically load d3 & LDAvis\n",
              "    LDAvis_load_lib(\"https://cdnjs.cloudflare.com/ajax/libs/d3/3.5.5/d3.min.js\", function(){\n",
              "         LDAvis_load_lib(\"https://cdn.rawgit.com/bmabey/pyLDAvis/files/ldavis.v1.0.0.js\", function(){\n",
              "                 new LDAvis(\"#\" + \"ldavis_el1221401145124728482390335418\", ldavis_el1221401145124728482390335418_data);\n",
              "            })\n",
              "         });\n",
              "}\n",
              "</script>"
            ],
            "text/plain": [
              "PreparedData(topic_coordinates=              x         y  topics  cluster      Freq\n",
              "topic                                               \n",
              "5     -0.039562  0.025133       1        1  9.903667\n",
              "14    -0.026748  0.019972       2        1  8.657323\n",
              "9     -0.016299  0.037266       3        1  8.575480\n",
              "11    -0.009027 -0.113418       4        1  6.854165\n",
              "3      0.075172  0.057816       5        1  6.731419\n",
              "12     0.050093  0.061636       6        1  6.716328\n",
              "13     0.011003  0.021330       7        1  6.715363\n",
              "8     -0.034951 -0.032719       8        1  6.461961\n",
              "10    -0.074310  0.027150       9        1  6.376820\n",
              "1     -0.024167  0.017056      10        1  6.168150\n",
              "4     -0.036574  0.004296      11        1  5.890129\n",
              "2      0.127714 -0.040808      12        1  5.841338\n",
              "7     -0.020782 -0.014404      13        1  5.786773\n",
              "0     -0.000886 -0.057304      14        1  4.901534\n",
              "6      0.019325 -0.013004      15        1  4.419557, topic_info=            Term        Freq       Total Category  logprob  loglift\n",
              "86      redheart  118.000000  118.000000  Default  30.0000  30.0000\n",
              "287  brokenheart   51.000000   51.000000  Default  29.0000  29.0000\n",
              "429    collision   43.000000   43.000000  Default  28.0000  28.0000\n",
              "237         fire   74.000000   74.000000  Default  27.0000  27.0000\n",
              "281          tag   26.000000   26.000000  Default  26.0000  26.0000\n",
              "..           ...         ...         ...      ...      ...      ...\n",
              "394        speed    2.352716   37.581905  Topic15  -5.5718   0.3482\n",
              "119       always    2.472739   78.709114  Topic15  -5.5221  -0.3413\n",
              "9            are    2.432671   87.970978  Topic15  -5.5384  -0.4689\n",
              "662            1    2.327497   36.199780  Topic15  -5.5826   0.3749\n",
              "200         this    2.314790   55.551205  Topic15  -5.5881  -0.0589\n",
              "\n",
              "[1020 rows x 6 columns], token_table=      Topic      Freq Term\n",
              "term                      \n",
              "1103      2  0.120974   0f\n",
              "1103      3  0.120974   0f\n",
              "1103      6  0.120974   0f\n",
              "1103     13  0.483895   0f\n",
              "662       1  0.082873    1\n",
              "...     ...       ...  ...\n",
              "138      13  0.103814    …\n",
              "138      14  0.025954    …\n",
              "138      15  0.051907    …\n",
              "3238      8  0.217009    ♡\n",
              "3238     15  0.217009    ♡\n",
              "\n",
              "[2908 rows x 3 columns], R=30, lambda_step=0.01, plot_opts={'xlab': 'PC1', 'ylab': 'PC2'}, topic_order=[6, 15, 10, 12, 4, 13, 14, 9, 11, 2, 5, 3, 8, 1, 7])"
            ]
          },
          "metadata": {
            "tags": []
          },
          "execution_count": 50
        }
      ]
    },
    {
      "cell_type": "markdown",
      "metadata": {
        "id": "J9_R05xqOjl5"
      },
      "source": [
        "**For Class B (#RestInPeace only)**"
      ]
    },
    {
      "cell_type": "code",
      "metadata": {
        "id": "z6IXInRINc_X"
      },
      "source": [
        "topics = 8\n",
        "model_B = find_topics(BoW_B,dict_B,topics)"
      ],
      "execution_count": null,
      "outputs": []
    },
    {
      "cell_type": "code",
      "metadata": {
        "id": "v8Lt0g6PNkKq",
        "colab": {
          "base_uri": "https://localhost:8080/",
          "height": 173
        },
        "outputId": "68140ec5-9896-4f7a-b082-1adce4ab7c70"
      },
      "source": [
        "show_topics(model_B,BoW_B,dict_B)"
      ],
      "execution_count": null,
      "outputs": [
        {
          "output_type": "stream",
          "text": [
            "Topic: 0 Word: 0.006*\"campaign\" + 0.006*\"govt\" + 0.006*\"school\" + 0.006*\"covid\" + 0.006*\"class\" + 0.006*\"19\" + 0.006*\"10th\" + 0.005*\"…\" + 0.005*\"ஜெஅன்பழகன்\" + 0.004*\"in\"\n",
            "Topic: 1 Word: 0.007*\"…\" + 0.006*\"அடக்கம்\" + 0.006*\"செய்யப்பட்டது\" + 0.005*\"உடல்\" + 0.005*\"முதல்வர்\" + 0.005*\"எமஎல்ஏ\" + 0.005*\"பினராயி\" + 0.005*\"கேரள\" + 0.005*\"grinningfacewithsweat\" + 0.005*\"dhak\"\n",
            "Topic: 2 Word: 0.006*\"to\" + 0.006*\"and\" + 0.005*\"பொருளாளர்\" + 0.005*\"துரைமுருகன்\" + 0.005*\"the\" + 0.005*\"loudlycryingface\" + 0.005*\"such\" + 0.004*\"ஜெஅன்பழகன்\" + 0.004*\"a\" + 0.004*\"their\"\n",
            "Topic: 3 Word: 0.049*\"ht…\" + 0.048*\"சீமான்\" + 0.046*\"எம்எல்ஏ\" + 0.045*\"மறைவுக்கு\" + 0.045*\"இரங்கல்\" + 0.042*\"திமுக\" + 0.038*\"ஜெஅன்பழகன்\" + 0.003*\"yes\" + 0.003*\"his\" + 0.003*\"are\"\n",
            "Topic: 4 Word: 0.016*\"rip\" + 0.016*\"foldedhands\" + 0.015*\"bouquet\" + 0.014*\"may\" + 0.012*\"he\" + 0.007*\"இரங்கல்\" + 0.007*\"திமுக\" + 0.007*\"மறைவுக்கு\" + 0.007*\"எம்எல்ஏ\" + 0.007*\"ஜெஅன்பழகன்\"\n",
            "Topic: 5 Word: 0.005*\"and\" + 0.005*\"the\" + 0.004*\"whitemediumstar\" + 0.004*\"sparkle\" + 0.004*\"rest\" + 0.004*\"glowingstar\" + 0.004*\"blackheart\" + 0.004*\"illuminardi\" + 0.004*\"respectblackpink\" + 0.004*\"me\"\n",
            "Topic: 6 Word: 0.009*\"இறுதி\" + 0.009*\"மறைந்த\" + 0.009*\"அஞ்சலி\" + 0.009*\"அவரது\" + 0.009*\"புதல்வர்\" + 0.009*\"திருராஜாஅன்பழகன்\" + 0.009*\"அவர்களுக்கு\" + 0.009*\"செலுத்தும்\" + 0.008*\"இன்று\" + 0.007*\"what\"\n",
            "Topic: 7 Word: 0.007*\"வீரவணக்கம்\" + 0.005*\"foldedhands\" + 0.005*\"i\" + 0.004*\"memory\" + 0.004*\"with\" + 0.003*\"yuvi\" + 0.003*\"my\" + 0.003*\"a\" + 0.003*\"the\" + 0.003*\"के\"\n"
          ],
          "name": "stdout"
        }
      ]
    },
    {
      "cell_type": "markdown",
      "metadata": {
        "id": "7nikNlKHft4P"
      },
      "source": [
        "**_Analysis_**\n",
        "\n",
        "Most of the tweets containing #RestInPeace contained words from some South Indian languages which were uninterpretable. Since, these words were quite frequent and occurred in most of the tweets, they were retained after selecting tf-idf features and thus appeared in topics as well.\n",
        "\n",
        "Of the words that could be read, my analysis is as follows:\n",
        "* Topic 2 : People express their dissatisfaction about the ruling political party.\n",
        "* Topic 4 : People expressing their tributes and sorrow towards “dubey” who possibly\n",
        "might’ve been infected by corona.\n",
        "* Topic 8 : Grief expressed by people."
      ]
    },
    {
      "cell_type": "code",
      "metadata": {
        "id": "B_g1eWmrNvbh",
        "colab": {
          "base_uri": "https://localhost:8080/",
          "height": 881
        },
        "outputId": "f22f8dbe-3c50-4716-b458-c2056b91f8d4"
      },
      "source": [
        "pyLDAvis.enable_notebook()\n",
        "vis = pyLDAvis.gensim.prepare(model_B, BoW_B, dict_B)\n",
        "vis"
      ],
      "execution_count": null,
      "outputs": [
        {
          "output_type": "execute_result",
          "data": {
            "text/html": [
              "\n",
              "<link rel=\"stylesheet\" type=\"text/css\" href=\"https://cdn.rawgit.com/bmabey/pyLDAvis/files/ldavis.v1.0.0.css\">\n",
              "\n",
              "\n",
              "<div id=\"ldavis_el1221401145018895043479319187\"></div>\n",
              "<script type=\"text/javascript\">\n",
              "\n",
              "var ldavis_el1221401145018895043479319187_data = {\"mdsDat\": {\"x\": [-0.13462240573105663, 0.032973338371387606, 0.014799468539503504, 0.01153444225247742, -0.018344219201564878, 0.028014589912676236, 0.03673937511625188, 0.028905410740324704], \"y\": [0.009175150944233233, 0.07548084008472387, -0.013819885821255321, 0.011198240200138357, -0.028254776827463746, -0.02140331524002027, -0.02057332516745319, -0.011802928172903031], \"topics\": [1, 2, 3, 4, 5, 6, 7, 8], \"cluster\": [1, 1, 1, 1, 1, 1, 1, 1], \"Freq\": [21.216083526611328, 13.488091468811035, 12.48568344116211, 12.383230209350586, 10.850069999694824, 10.45981216430664, 10.275392532348633, 8.841635704040527]}, \"tinfo\": {\"Term\": [\"\\u0b9a\\u0bc0\\u0bae\\u0bbe\\u0ba9\\u0bcd\", \"ht\\u2026\", \"\\u0b8e\\u0bae\\u0bcd\\u0b8e\\u0bb2\\u0bcd\\u0b8f\", \"\\u0b87\\u0bb0\\u0b99\\u0bcd\\u0b95\\u0bb2\\u0bcd\", \"\\u0bae\\u0bb1\\u0bc8\\u0bb5\\u0bc1\\u0b95\\u0bcd\\u0b95\\u0bc1\", \"\\u0ba4\\u0bbf\\u0bae\\u0bc1\\u0b95\", \"\\u0b9c\\u0bc6\\u0b85\\u0ba9\\u0bcd\\u0baa\\u0bb4\\u0b95\\u0ba9\\u0bcd\", \"rip\", \"bouquet\", \"foldedhands\", \"may\", \"he\", \"\\u0b87\\u0bb1\\u0bc1\\u0ba4\\u0bbf\", \"\\u0bae\\u0bb1\\u0bc8\\u0ba8\\u0bcd\\u0ba4\", \"\\u0b85\\u0b9e\\u0bcd\\u0b9a\\u0bb2\\u0bbf\", \"\\u0b85\\u0bb5\\u0bb0\\u0ba4\\u0bc1\", \"\\u0baa\\u0bc1\\u0ba4\\u0bb2\\u0bcd\\u0bb5\\u0bb0\\u0bcd\", \"\\u0ba4\\u0bbf\\u0bb0\\u0bc1\\u0bb0\\u0bbe\\u0b9c\\u0bbe\\u0b85\\u0ba9\\u0bcd\\u0baa\\u0bb4\\u0b95\\u0ba9\\u0bcd\", \"\\u0b85\\u0bb5\\u0bb0\\u0bcd\\u0b95\\u0bb3\\u0bc1\\u0b95\\u0bcd\\u0b95\\u0bc1\", \"\\u0b9a\\u0bc6\\u0bb2\\u0bc1\\u0ba4\\u0bcd\\u0ba4\\u0bc1\\u0bae\\u0bcd\", \"\\u0b87\\u0ba9\\u0bcd\\u0bb1\\u0bc1\", \"\\u0bb5\\u0bc0\\u0bb0\\u0bb5\\u0ba3\\u0b95\\u0bcd\\u0b95\\u0bae\\u0bcd\", \"\\u2026\", \"loudlycryingface\", \"10th\", \"\\u0b85\\u0b9f\\u0b95\\u0bcd\\u0b95\\u0bae\\u0bcd\", \"\\u0b89\\u0b9f\\u0bb2\\u0bcd\", \"campaign\", \"govt\", \"school\", \"\\u0b9a\\u0bc0\\u0bae\\u0bbe\\u0ba9\\u0bcd\", \"ht\\u2026\", \"\\u0b8e\\u0bae\\u0bcd\\u0b8e\\u0bb2\\u0bcd\\u0b8f\", \"\\u0b87\\u0bb0\\u0b99\\u0bcd\\u0b95\\u0bb2\\u0bcd\", \"\\u0bae\\u0bb1\\u0bc8\\u0bb5\\u0bc1\\u0b95\\u0bcd\\u0b95\\u0bc1\", \"\\u0ba4\\u0bbf\\u0bae\\u0bc1\\u0b95\", \"\\u0b9c\\u0bc6\\u0b85\\u0ba9\\u0bcd\\u0baa\\u0bb4\\u0b95\\u0ba9\\u0bcd\", \"yes\", \"name\", \"\\u0b85\\u0ba3\\u0bcd\\u0ba3\\u0ba3\\u0bcd\", \"\\u0b85\\u0bb5\\u0bb0\\u0bcd\\u0b95\\u0bb3\\u0bbf\\u0ba9\\u0bcd\", \"son\", \"ya\", \"eagerly\", \"post\", \"waiting\", \"divine\", \"soham\", \"title\", \"no\", \"idolize\", \"hero\", \"2\", \"they\", \"follow\", \"videoo\", \"\\ub434\\uc2b9\\ud638\\ubc29\\uad6c\\uc11d\\uc544\\ud2b8\\ud640\", \"seuraajani\", \"rakkaat\", \"uutta\", \"week\", \"us\\u2026\", \"his\", \"when\", \"full\", \"\\u0b85\\u0ba3\\u0bcd\\u0ba3\\u0ba9\\u0bc7\", \"amp\", \"are\", \"is\", \"u\", \"for\", \"to\", \"twitter\", \"in\", \"wa\", \"the\", \"\\u0b85\\u0bb5\\u0bb0\\u0ba4\\u0bc1\", \"\\u0baa\\u0bc1\\u0ba4\\u0bb2\\u0bcd\\u0bb5\\u0bb0\\u0bcd\", \"\\u0ba4\\u0bbf\\u0bb0\\u0bc1\\u0bb0\\u0bbe\\u0b9c\\u0bbe\\u0b85\\u0ba9\\u0bcd\\u0baa\\u0bb4\\u0b95\\u0ba9\\u0bcd\", \"\\u0b85\\u0bb5\\u0bb0\\u0bcd\\u0b95\\u0bb3\\u0bc1\\u0b95\\u0bcd\\u0b95\\u0bc1\", \"\\u0b9a\\u0bc6\\u0bb2\\u0bc1\\u0ba4\\u0bcd\\u0ba4\\u0bc1\\u0bae\\u0bcd\", \"\\u0b87\\u0bb1\\u0bc1\\u0ba4\\u0bbf\", \"\\u0bae\\u0bb1\\u0bc8\\u0ba8\\u0bcd\\u0ba4\", \"\\u0b85\\u0b9e\\u0bcd\\u0b9a\\u0bb2\\u0bbf\", \"\\u0b87\\u0ba9\\u0bcd\\u0bb1\\u0bc1\", \"pensiveface\", \"facewithmonocle\", \"much\", \"\\u0b89\\u0baf\\u0bbf\\u0bb0\\u0bbf\\u0bb4\\u0baa\\u0bcd\\u0baa\\u0bc1\", \"tribute\", \"incredible\", \"inning\", \"dubey\", \"special\", \"via\", \"happening\", \"what\", \"sleeve\", \"beautiful\", \"service\", \"state\", \"frank\", \"garden\", \"tan\", \"restore\", \"faith\", \"from\", \"an\", \"now\", \"out\", \"watch\", \"\\u2026\", \"rest\", \"for\", \"we\", \"to\", \"\\u0b9c\\u0bc6\\u0b85\\u0ba9\\u0bcd\\u0baa\\u0bb4\\u0b95\\u0ba9\\u0bcd\", \"a\", \"in\", \"the\", \"\\u0baa\\u0bca\\u0bb0\\u0bc1\\u0bb3\\u0bbe\\u0bb3\\u0bb0\\u0bcd\", \"\\u0ba4\\u0bc1\\u0bb0\\u0bc8\\u0bae\\u0bc1\\u0bb0\\u0bc1\\u0b95\\u0ba9\\u0bcd\", \"such\", \"giving\", \"justice\", \"\\u0bae\\u0bb0\\u0bc1\\u0ba4\\u0bcd\\u0ba4\\u0bc1\\u0bb5\\u0bae\\u0ba9\\u0bc8\\u0baf\\u0bbf\\u0bb2\\u0bcd\", \"\\u0b86\\u0bae\\u0bcd\\u0baa\\u0bc1\\u0bb2\\u0ba9\\u0bcd\\u0bb8\\u0bcd\", \"\\u0baa\\u0bc1\\u0bb1\\u0baa\\u0bcd\\u0baa\\u0b9f\\u0bcd\\u0b9f\\u0ba4\\u0bc1\", \"http\", \"\\u0b87\\u0bb0\\u0bc1\\u0ba8\\u0bcd\\u0ba4\\u0bc1\", \"\\u0b89\\u0b9f\\u0bb2\\u0bc1\\u0b9f\\u0ba9\\u0bcd\", \"firefighter\", \"tragedy\", \"sinha\", \"9th\", \"amazing\", \"flex\", \"art\", \"photo\", \"photography\", \"piece\", \"credit\", \"any\", \"famous\", \"okhand\", \"backhandindexpointingdown\", \"yuvraaj\", \"togather\", \"try\", \"governor\", \"please\", \"commited\", \"devastating\", \"19he\", \"and\", \"help\", \"their\", \"loudlycryingface\", \"people\", \"to\", \"have\", \"news\", \"lost\", \"life\", \"the\", \"two\", \"a\", \"are\", \"end\", \"till\", \"feed\", \"pass\", \"hungry\", \"\\u0b9c\\u0bc6\\u0b85\\u0ba9\\u0bcd\\u0baa\\u0bb4\\u0b95\\u0ba9\\u0bcd\", \"\\u0b87\\u0bb0\\u0b99\\u0bcd\\u0b95\\u0bb2\\u0bcd\", \"\\u0bae\\u0bb1\\u0bc8\\u0bb5\\u0bc1\\u0b95\\u0bcd\\u0b95\\u0bc1\", \"\\u0ba4\\u0bbf\\u0bae\\u0bc1\\u0b95\", \"on\", \"campaign\", \"govt\", \"school\", \"class\", \"covid\", \"\\u0bb5\\u0bc0\\u0b9f\\u0bcd\\u0b9f\\u0bbf\\u0bb1\\u0bcd\\u0b95\\u0bc1\", \"\\u0ba4\\u0bbf\\u0ba8\\u0b95\\u0bb0\\u0bbf\\u0bb2\\u0bcd\", \"\\u0b89\\u0bb3\\u0bcd\\u0bb3\", \"\\u0b9a\\u0bc6\\u0bb2\\u0bcd\\u0bb2\\u0baa\\u0bcd\\u0baa\\u0b9f\\u0bcd\\u0b9f\\u0ba4\\u0bc1\", \"\\u0baa\\u0bbe\\u0ba4\\u0bbf\\u0baa\\u0bcd\\u0baa\\u0bbe\\u0bb2\\u0bcd\", \"\\u0b95\\u0bca\\u0bb0\\u0bcb\\u0ba9\\u0bbe\", \"\\u0b95\\u0bca\\u0ba3\\u0bcd\\u0b9f\\u0bc1\", \"found\", \"ndrf\", \"jawan\", \"coming\", \"recovered\", \"employee\", \"\\u0b9a\\u0bc6\\u0ba9\\u0bcd\\u0ba9\\u0bc8\", \"10th\", \"heart\", \"human\", \"\\u0baa\\u0bc1\\u0b95\\u0bc8\\u0baa\\u0bcd\\u0baa\\u0b9f\\u0b99\\u0bcd\\u0b95\\u0bb3\\u0bcd\", \"whenever\", \"leadership\", \"sad\", \"pointer\", \"grandfather\", \"foldedhandsmediumdarkskintone\", \"whiteheart\", \"19\", \"by\", \"new\", \"body\", \"\\u0b89\\u0b9f\\u0bb2\\u0bcd\", \"in\", \"\\u2026\", \"of\", \"from\", \"\\u0b9c\\u0bc6\\u0b85\\u0ba9\\u0bcd\\u0baa\\u0bb4\\u0b95\\u0ba9\\u0bcd\", \"the\", \"\\u0b8e\\u0bae\\u0bcd\\u0b8e\\u0bb2\\u0bcd\\u0b8f\", \"\\u0ba4\\u0bbf\\u0bae\\u0bc1\\u0b95\", \"ht\\u2026\", \"\\u0b9a\\u0bc0\\u0bae\\u0bbe\\u0ba9\\u0bcd\", \"\\u0bae\\u0bb1\\u0bc8\\u0bb5\\u0bc1\\u0b95\\u0bcd\\u0b95\\u0bc1\", \"\\u0b87\\u0bb0\\u0b99\\u0bcd\\u0b95\\u0bb2\\u0bcd\", \"to\", \"and\", \"rip\", \"bouquet\", \"may\", \"foldedhands\", \"democracy\", \"facewithtearsofjoy\", \"he\", \"everybody\", \"\\u0baa\\u0bc1\\u0bb0\\u0bcb\\u0bb9\\u0bbf\\u0ba4\\u0bcd\", \"\\u0b86\\u0bb3\\u0bc1\\u0ba8\\u0bb0\\u0bcd\", \"\\u0baa\\u0ba9\\u0bcd\\u0bb5\\u0bbe\\u0bb0\\u0bbf\\u0bb2\\u0bbe\\u0bb2\\u0bcd\", \"\\u0bb5\\u0bbf\\u0b9c\\u0baf\\u0ba9\\u0bcd\", \"\\u0b9a\\u0bb1\\u0bcd\\u0bb1\\u0bc1\\u0ba8\\u0bc7\\u0bb0\\u0ba4\\u0bcd\\u0ba4\\u0bbf\\u0bb2\\u0bcd\", \"sorry\", \"everytime\", \"supporting\", \"humanity\", \"why\", \"because\", \"china\", \"pakistan\", \"use\", \"shubham\", \"him\", \"knew\", \"seemed\", \"thought\", \"omg\", \"ex\", \"acha\", \"loudlycryingface\", \"let\", \"criminal\", \"all\", \"due\", \"this\", \"le\", \"a\", \"to\", \"\\u0ba4\\u0bbf\\u0bae\\u0bc1\\u0b95\", \"\\u0b87\\u0bb0\\u0b99\\u0bcd\\u0b95\\u0bb2\\u0bcd\", \"\\u0bae\\u0bb1\\u0bc8\\u0bb5\\u0bc1\\u0b95\\u0bcd\\u0b95\\u0bc1\", \"\\u0b8e\\u0bae\\u0bcd\\u0b8e\\u0bb2\\u0bcd\\u0b8f\", \"\\u0b9c\\u0bc6\\u0b85\\u0ba9\\u0bcd\\u0baa\\u0bb4\\u0b95\\u0ba9\\u0bcd\", \"ht\\u2026\", \"\\u0b9a\\u0bc0\\u0bae\\u0bbe\\u0ba9\\u0bcd\", \"the\", \"is\", \"i\", \"grinningfacewithsweat\", \"dhak\", \"ek\", \"\\u0b9a\\u0bc6\\u0baf\\u0bcd\\u0baf\\u0baa\\u0bcd\\u0baa\\u0b9f\\u0bcd\\u0b9f\\u0ba4\\u0bc1\", \"midila\", \"\\u0bb5\\u0bbf\\u0b9c\\u2026\", \"\\u0b86\\u0bb4\\u0bcd\\u0ba8\\u0bcd\\u0ba4\\u0b87\\u0bb0\\u0b99\\u0bcd\\u0b95\\u0bb2\\u0bcd\", \"fb\", \"downcastfacewithsweat\", \"\\u0bae\\u0bc1\\u0ba4\\u0bb2\\u0bcd\\u0bb5\\u0bb0\\u0bcd\", \"\\u0baa\\u0bbf\\u0ba9\\u0bb0\\u0bbe\\u0baf\\u0bbf\", \"\\u0b8e\\u0bae\\u0b8e\\u0bb2\\u0bcd\\u0b8f\", \"\\u0b95\\u0bc7\\u0bb0\\u0bb3\", \"2012\", \"gya\", \"\\u0b85\\u0b9f\\u0b95\\u0bcd\\u0b95\\u0bae\\u0bcd\", \"ke\", \"dono\", \"tha\", \"pal\", \"sath\", \"hone\", \"dekh\", \"hi\", \"main\", \"dar\", \"aise\", \"yeh\", \"thi\", \"liye\", \"\\u0b89\\u0b9f\\u0bb2\\u0bcd\", \"\\u0b89\\u0bb1\\u0bc1\\u0baa\\u0bcd\\u0baa\\u0bbf\\u0ba9\\u0bb0\\u0bcd\", \"\\u0b9a\\u0b9f\\u0bcd\\u0b9f\\u0bae\\u0ba9\\u0bcd\\u0bb1\", \"june\", \"\\u2026\", \"fire\", \"jaldi\", \"kyu\", \"khatam\", \"\\u0b9c\\u0bc6\", \"2020\", \"10th\", \"\\u0b85\\u0ba9\\u0bcd\\u0baa\\u0bb4\\u0b95\\u0ba9\\u0bcd\", \"foldedhands\", \"\\u0ba4\\u0bbf\\u0bae\\u0bc1\\u0b95\", \"\\u0b95\\u0bbe\\u0bb2\\u0bae\\u0bbe\\u0ba9\\u0bbe\\u0bb0\\u0bcd\", \"\\u0b9c\\u0bc6\\u0b85\\u0ba9\\u0bcd\\u0baa\\u0bb4\\u0b95\\u0ba9\\u0bcd\", \"\\u0bb5\\u0bc0\\u0bb0\\u0bb5\\u0ba3\\u0b95\\u0bcd\\u0b95\\u0bae\\u0bcd\", \"yuvi\", \"memory\", \"\\u0995\\u09f0\\u09bf\\u09b2\\u09cb\\u0964\", \"swearrr\", \"dream\", \"\\u0915\\u0947\", \"sleepyface\", \"\\u0997\\u0997\\u09c8\\u0995\", \"\\u0995\\u09f0\\u09cd\\u09ae\\u099a\\u09be\\u09f0\\u09c0\", \"\\u0997\\u09cb\\u09b9\\u09be\\u0981\\u0987\", \"\\u09a4\\u09c0\\u0996\\u09c7\\u09b6\\u09cd\\u09ac\\u09f0\", \"\\u09b8\\u09a6\\u0997\\u09a4\\u09bf\", \"\\u09a6\\u09c1\\u09f0\\u09cd\\u09b2\\u09ad\", \"\\u0987\\u09a3\\u09cd\\u09a1\\u09bf\\u09af\\u09bc\\u09be\", \"\\u0986\\u09f0\\u09c1\", \"\\u0985\\u0987\\u09b2\", \"\\u09b2\\u09bf\\u09ae\\u09bf\\u099f\\u09c7\\u09a1\\u09f0\", \"\\u0995\\u09be\\u09ae\\u09a8\\u09be\", \"\\u0986\\u09a4\\u09cd\\u09ae\\u09be\\u09f0\", \"trend\", \"\\u0928\\u0947\", \"\\u092d\\u093e\\u0937\\u0923\", \"\\u0b95\\u0bc2\\u0b9f\", \"\\u0baa\\u0bbf\\u0bb1\\u0ba8\\u0bcd\\u0ba4\\u0ba8\\u0bbe\\u0bb3\\u0bc1\\u0bae\\u0bcd\", \"child\", \"rose\", \"crossedfingersdarkskintone\", \"palmsuptogetherdarkskintone\", \"meet\", \"with\", \"i\", \"hashtag\", \"my\", \"foldedhands\", \"\\u0b9a\\u0b9f\\u0bcd\\u0b9f\\u0b9a\\u0baa\\u0bc8\\u0baf\\u0bbf\\u0bb2\\u0bcd\", \"97\", \"\\u0b85\\u0b9f\\u0bc1\\u0ba4\\u0bcd\\u0ba4\\u0b9f\\u0bc1\\u0ba4\\u0bcd\\u0ba4\\u0bc1\", \"\\u0b86\\u0b95\", \"sir\", \"a\", \"the\", \"amp\", \"and\", \"twitter\", \"you\", \"on\", \"whitemediumstar\", \"sparkle\", \"illuminardi\", \"respectblackpink\", \"seeing\", \"blackheart\", \"glowingstar\", \"burundi\", \"fallen\", \"reaction\", \"search\", \"bug\", \"later\", \"lyric\", \"thank\", \"google\", \"voice\", \"student\", \"ari\", \"abaire\", \"omukucanga\", \"akapiira\", \"omugyenzi\", \"owomutaano\", \"purezidenti\", \"blackflag\", \"\\u0b89\\u0bae\\u0bcd\\u0bae\\u0bc8\", \"\\u0b87\\u0bb4\\u0ba8\\u0bcd\\u0ba4\\u0bcb\\u0bae\\u0bc7\", \"\\u0b87\\u0bb0\\u0b99\\u0bcd\\u0b95\\u0bb2\\u0bcd\\u0b95\\u0bb3\\u0bcd\", \"\\u0baa\\u0bcb\\u0bb0\\u0bcd\\u0bb5\\u0bbe\\u0bb3\\u0bcd\", \"pierre\", \"nkurunziza\", \"passed\", \"rest\", \"well\", \"and\", \"me\", \"\\u0b86\\u0bb4\\u0bcd\\u0ba8\\u0bcd\\u0ba4\", \"both\", \"away\", \"trending\", \"the\", \"on\", \"just\", \"my\", \"sir\", \"in\", \"wa\", \"of\", \"after\", \"his\"], \"Freq\": [14.0, 14.0, 14.0, 14.0, 14.0, 14.0, 13.0, 2.0, 2.0, 3.0, 2.0, 3.0, 2.0, 2.0, 2.0, 1.0, 1.0, 1.0, 1.0, 1.0, 1.0, 1.0, 3.0, 2.0, 1.0, 1.0, 1.0, 1.0, 1.0, 1.0, 12.39634895324707, 12.424827575683594, 11.756733894348145, 11.38707447052002, 11.38709831237793, 10.709806442260742, 9.742819786071777, 0.8570190668106079, 0.7753406167030334, 0.42711421847343445, 0.42709851264953613, 0.46122196316719055, 0.3901863396167755, 0.43412670493125916, 0.4341188669204712, 0.43409907817840576, 0.37115874886512756, 0.3711540400981903, 0.3711329996585846, 0.7871936559677124, 0.3800748288631439, 0.38007456064224243, 0.43833836913108826, 0.7443993091583252, 0.29536348581314087, 0.28937941789627075, 0.2893780767917633, 0.2893748879432678, 0.28937163949012756, 0.2893677353858948, 0.36188116669654846, 0.31790727376937866, 0.8492971658706665, 0.6084903478622437, 0.3618691563606262, 0.414536714553833, 0.6729239225387573, 0.7929632663726807, 0.7403227090835571, 0.48988792300224304, 0.6100369691848755, 0.6824744343757629, 0.48794713616371155, 0.5733184218406677, 0.5114018321037292, 0.5384408831596375, 1.4385677576065063, 1.4385136365890503, 1.438489317893982, 1.4384868144989014, 1.4384667873382568, 1.5227636098861694, 1.5227493047714233, 1.5227289199829102, 1.370910882949829, 0.5491800904273987, 0.44689640402793884, 0.4468889832496643, 0.39105287194252014, 0.5200262069702148, 0.5200241804122925, 0.5200185179710388, 0.5200191736221313, 0.5200138092041016, 0.4768219590187073, 0.39436566829681396, 1.1065219640731812, 0.3157218098640442, 0.3040471374988556, 0.3040338456630707, 0.35897159576416016, 0.3589710295200348, 0.35896071791648865, 0.28671419620513916, 0.280244916677475, 0.28023749589920044, 0.8440465927124023, 0.4792911410331726, 0.6158499717712402, 0.4631391167640686, 0.46377891302108765, 1.0898301601409912, 0.5738261938095093, 0.6751002073287964, 0.4891974627971649, 0.7119573950767517, 1.0059336423873901, 0.5804832577705383, 0.5608793497085571, 0.6010160446166992, 0.7997912168502808, 0.7997338175773621, 0.678019642829895, 0.43625497817993164, 0.43622079491615295, 0.3998574912548065, 0.3998458683490753, 0.3998425304889679, 0.39983558654785156, 0.3998338580131531, 0.39981207251548767, 0.5181884169578552, 0.5181834697723389, 0.5181798338890076, 0.36080050468444824, 0.33583781123161316, 0.33583465218544006, 0.33583444356918335, 0.3358301520347595, 0.3358299434185028, 0.33582380414009094, 0.33582282066345215, 0.35797953605651855, 0.3907448351383209, 0.30300307273864746, 0.30298104882240295, 0.3449491858482361, 0.34494030475616455, 0.4072396755218506, 0.3371206223964691, 0.38668495416641235, 0.44710543751716614, 0.4470963180065155, 0.4470779597759247, 0.8744691014289856, 0.46358591318130493, 0.606925368309021, 0.7021380066871643, 0.5194382071495056, 0.8947402238845825, 0.5123836398124695, 0.4708951711654663, 0.474749356508255, 0.47782695293426514, 0.7547025084495544, 0.47047945857048035, 0.6118158102035522, 0.5403990149497986, 0.4328150749206543, 0.43281227350234985, 0.43281090259552, 0.43280673027038574, 0.4328018128871918, 0.6217760443687439, 0.5895222425460815, 0.5894531011581421, 0.5621598958969116, 0.45345428586006165, 0.8774876594543457, 0.8774766325950623, 0.8774563074111938, 0.8474347591400146, 0.8767076134681702, 0.6005303859710693, 0.600519061088562, 0.6005049347877502, 0.6005029678344727, 0.4450261890888214, 0.44501495361328125, 0.5742257237434387, 0.44573986530303955, 0.44573673605918884, 0.44573384523391724, 0.44572713971138, 0.44572335481643677, 0.44571831822395325, 0.5741584300994873, 0.8214524984359741, 0.3709290623664856, 0.42463386058807373, 0.3594158887863159, 0.3139634132385254, 0.3080665171146393, 0.5013826489448547, 0.2919325828552246, 0.34496545791625977, 0.344963014125824, 0.34496191143989563, 0.8326037526130676, 0.5879818201065063, 0.4114364683628082, 0.41140487790107727, 0.5612654685974121, 0.6457709074020386, 0.7409846186637878, 0.5402888059616089, 0.5054005980491638, 0.704742431640625, 0.5338715314865112, 0.6212935447692871, 0.589264988899231, 0.5621916651725769, 0.5539909601211548, 0.5344282388687134, 0.513180136680603, 0.47512078285217285, 0.4519983232021332, 2.122910976409912, 1.9645253419876099, 1.886059284210205, 2.0568032264709473, 0.4117072820663452, 0.40841466188430786, 1.5974094867706299, 0.35792458057403564, 0.3757755756378174, 0.37577277421951294, 0.3757709264755249, 0.34845542907714844, 0.2752203345298767, 0.2740546762943268, 0.2703675329685211, 0.3113339841365814, 0.4117557406425476, 0.31745052337646484, 0.29115763306617737, 0.24458548426628113, 0.2445673793554306, 0.2911721169948578, 0.21194010972976685, 0.34749191999435425, 0.18989500403404236, 0.18989340960979462, 0.1869882196187973, 0.1869877129793167, 0.18698756396770477, 0.18698468804359436, 0.7426482439041138, 0.3972328007221222, 0.2768295407295227, 0.39333903789520264, 0.3449992835521698, 0.50791996717453, 0.30439332127571106, 0.5299929976463318, 0.6062829494476318, 0.9772238731384277, 0.9782903790473938, 0.976667046546936, 0.9192582368850708, 0.8937333822250366, 0.8392664194107056, 0.826554000377655, 0.5121880769729614, 0.4004780948162079, 0.36418288946151733, 0.5797109007835388, 0.5797022581100464, 0.5796724557876587, 0.6945310235023499, 0.48505374789237976, 0.5316802263259888, 0.4319232106208801, 0.4318559467792511, 0.5542712807655334, 0.6481971740722656, 0.6481935381889343, 0.6481956839561462, 0.6480889916419983, 0.4519073963165283, 0.370615154504776, 0.7706510424613953, 0.33585017919540405, 0.31387075781822205, 0.31386804580688477, 0.31386804580688477, 0.3138677179813385, 0.3138672113418579, 0.3138647973537445, 0.31386271119117737, 0.31386008858680725, 0.31385713815689087, 0.3138563930988312, 0.31385499238967896, 0.31385186314582825, 0.31385180354118347, 0.692003607749939, 0.3594655394554138, 0.35946226119995117, 0.4102672338485718, 0.8506419062614441, 0.40559542179107666, 0.3291364014148712, 0.32912808656692505, 0.32912755012512207, 0.3811107277870178, 0.4014076888561249, 0.41756540536880493, 0.3673785626888275, 0.5015777945518494, 0.548965573310852, 0.3358142673969269, 0.3874310851097107, 0.8165327310562134, 0.432302325963974, 0.4853009581565857, 0.34141820669174194, 0.27819424867630005, 0.2753114104270935, 0.3858484923839569, 0.25447359681129456, 0.3243098855018616, 0.3243093490600586, 0.3243078589439392, 0.3243052363395691, 0.3243044316768646, 0.3243040442466736, 0.32430368661880493, 0.3243030905723572, 0.3243020176887512, 0.3243010342121124, 0.32429781556129456, 0.32429707050323486, 0.24016356468200684, 0.2342752069234848, 0.23193944990634918, 0.230014830827713, 0.23001237213611603, 0.22759513556957245, 0.20804953575134277, 0.20804966986179352, 0.20804573595523834, 0.20641587674617767, 0.45312830805778503, 0.5839047431945801, 0.3604447543621063, 0.41884252429008484, 0.6454361081123352, 0.2618550658226013, 0.2618531286716461, 0.26185157895088196, 0.26184961199760437, 0.30735889077186584, 0.39411136507987976, 0.38957294821739197, 0.30336830019950867, 0.3290151059627533, 0.2897387444972992, 0.29124021530151367, 0.28508198261260986, 0.4636135697364807, 0.46357256174087524, 0.39839813113212585, 0.39839592576026917, 0.37217798829078674, 0.3984745144844055, 0.431849867105484, 0.33913150429725647, 0.2474406510591507, 0.34729713201522827, 0.2599669098854065, 0.25996559858322144, 0.25996464490890503, 0.259963721036911, 0.25996237993240356, 0.2599615454673767, 0.21310196816921234, 0.21309958398342133, 0.23617209494113922, 0.23616954684257507, 0.23616422712802887, 0.23616383969783783, 0.23616234958171844, 0.2361617237329483, 0.2361578494310379, 0.2351931482553482, 0.23519206047058105, 0.23519191145896912, 0.23519116640090942, 0.2351909875869751, 0.27519381046295166, 0.27518734335899353, 0.34351691603660583, 0.43751609325408936, 0.25565046072006226, 0.5599488019943237, 0.39732736349105835, 0.2809807360172272, 0.31598085165023804, 0.357116162776947, 0.39450371265411377, 0.5162109732627869, 0.39332160353660583, 0.2865476906299591, 0.3255937695503235, 0.29968154430389404, 0.34161749482154846, 0.3077240288257599, 0.28640997409820557, 0.2734040319919586, 0.2713273763656616], \"Total\": [14.0, 14.0, 14.0, 14.0, 14.0, 14.0, 13.0, 2.0, 2.0, 3.0, 2.0, 3.0, 2.0, 2.0, 2.0, 1.0, 1.0, 1.0, 1.0, 1.0, 1.0, 1.0, 3.0, 2.0, 1.0, 1.0, 1.0, 1.0, 1.0, 1.0, 14.857769966125488, 14.92037582397461, 14.575511932373047, 14.351537704467773, 14.394563674926758, 14.05940055847168, 13.622896194458008, 1.268721580505371, 1.394067645072937, 0.7737312912940979, 0.7737264633178711, 0.8397106528282166, 0.7367727756500244, 0.8313140273094177, 0.8313122987747192, 0.831307590007782, 0.7177746295928955, 0.7177728414535522, 0.7177667021751404, 1.5583248138427734, 0.758558452129364, 0.7585580348968506, 0.9245319366455078, 1.5749377012252808, 0.6419397592544556, 0.6359644532203674, 0.6359639167785645, 0.6359636783599854, 0.6359621286392212, 0.6359610557556152, 0.7961761951446533, 0.6990175247192383, 1.8906748294830322, 1.3503261804580688, 0.8198861479759216, 0.9782919883728027, 1.8261692523956299, 2.5490598678588867, 2.399134874343872, 1.3775156736373901, 2.342116594314575, 4.000969409942627, 1.6084115505218506, 2.714607000350952, 2.1289796829223633, 3.9887890815734863, 1.8406894207000732, 1.8406904935836792, 1.8406864404678345, 1.8406850099563599, 1.8406884670257568, 2.0148251056671143, 2.0148212909698486, 2.0148253440856934, 1.9676942825317383, 0.9096854329109192, 0.8580149412155151, 0.858012855052948, 0.7515949010848999, 1.0190417766571045, 1.0190391540527344, 1.0190391540527344, 1.019040584564209, 1.019038200378418, 0.9872328042984009, 0.8181951642036438, 2.3102028369903564, 0.6761671304702759, 0.6645210981369019, 0.664521336555481, 0.7942923307418823, 0.7943004965782166, 0.7942996025085449, 0.6471530795097351, 0.6407034397125244, 0.6407038569450378, 2.0131077766418457, 1.121968150138855, 1.511605978012085, 1.1248798370361328, 1.1442478895187378, 3.7843620777130127, 1.71109139919281, 2.342116594314575, 1.411150574684143, 4.000969409942627, 13.622896194458008, 3.0847597122192383, 2.714607000350952, 3.9887890815734863, 1.2376590967178345, 1.237656831741333, 1.2156312465667725, 0.7967737913131714, 0.7967740893363953, 0.7603598833084106, 0.7603593468666077, 0.7603592276573181, 0.7603579759597778, 0.7603588700294495, 0.760357141494751, 1.0128804445266724, 1.0128769874572754, 1.0128766298294067, 0.7213244438171387, 0.6963227391242981, 0.6963220238685608, 0.6963229179382324, 0.696322500705719, 0.6963223218917847, 0.6963225603103638, 0.6963212490081787, 0.747403621673584, 0.8349703550338745, 0.6635302305221558, 0.6635287404060364, 0.7623559236526489, 0.7623568773269653, 0.9099774956703186, 0.7666121125221252, 0.9042853116989136, 1.083517074584961, 1.0835148096084595, 1.0835137367248535, 3.033267021179199, 1.1787105798721313, 1.7920660972595215, 2.2567763328552246, 1.5108258724212646, 4.000969409942627, 1.483230471611023, 1.2863305807113647, 1.3305613994598389, 1.398221731185913, 3.9887890815734863, 1.3878521919250488, 3.0847597122192383, 2.5490598678588867, 1.1530312299728394, 1.1530346870422363, 1.1530332565307617, 1.153032898902893, 1.1530306339263916, 13.622896194458008, 14.351537704467773, 14.394563674926758, 14.05940055847168, 2.3315272331237793, 1.3942368030548096, 1.3942317962646484, 1.3942307233810425, 1.4243606328964233, 1.502701997756958, 1.0736163854599, 1.0736148357391357, 1.0736156702041626, 1.0736145973205566, 0.8556086421012878, 0.8556070923805237, 1.1170387268066406, 0.8814834356307983, 0.8814829587936401, 0.8814822435379028, 0.8814827799797058, 0.8814836144447327, 0.8814818263053894, 1.1474807262420654, 1.6513776779174805, 0.7797398567199707, 0.9087563157081604, 0.7740161418914795, 0.6762383580207825, 0.670344352722168, 1.1136175394058228, 0.6541959047317505, 0.7815666794776917, 0.7815676927566528, 0.781568706035614, 2.0638742446899414, 1.5368927717208862, 0.9979192018508911, 1.0283440351486206, 1.8870773315429688, 2.714607000350952, 3.7843620777130127, 2.4468789100646973, 2.0131077766418457, 13.622896194458008, 3.9887890815734863, 14.575511932373047, 14.05940055847168, 14.92037582397461, 14.857769966125488, 14.394563674926758, 14.351537704467773, 4.000969409942627, 3.033267021179199, 2.8785359859466553, 2.7848868370056152, 2.8649983406066895, 3.8699636459350586, 0.7807233929634094, 0.7772125005722046, 3.1765785217285156, 0.7266926765441895, 0.8207412362098694, 0.8207421898841858, 0.8207430839538574, 0.7797701358795166, 0.6440553069114685, 0.6428197026252747, 0.639160692691803, 0.7414525151252747, 0.980922520160675, 0.8228800296783447, 0.7751376032829285, 0.6553149223327637, 0.655319094657898, 0.7977586984634399, 0.5807077884674072, 0.984837532043457, 0.5586452484130859, 0.5586452484130859, 0.5557388067245483, 0.5557386875152588, 0.555739164352417, 0.5557390451431274, 2.2567763328552246, 1.2053580284118652, 0.9172585010528564, 1.4807175397872925, 1.288692593574524, 2.2319254875183105, 1.11496102809906, 3.0847597122192383, 4.000969409942627, 14.05940055847168, 14.351537704467773, 14.394563674926758, 14.575511932373047, 13.622896194458008, 14.92037582397461, 14.857769966125488, 3.9887890815734863, 2.399134874343872, 2.2236666679382324, 0.9462562203407288, 0.9462560415267944, 0.9462614059448242, 1.1559710502624512, 0.8516812324523926, 0.9627000093460083, 0.798628032207489, 0.798636257648468, 1.0380223989486694, 1.2162528038024902, 1.2162494659423828, 1.2162550687789917, 1.2162541151046753, 0.8806042671203613, 0.7371472716331482, 1.5806994438171387, 0.7023741602897644, 0.6803747415542603, 0.6803746819496155, 0.6803750395774841, 0.6803749799728394, 0.6803749799728394, 0.6803756356239319, 0.6803749203681946, 0.6803755760192871, 0.6803760528564453, 0.6803758144378662, 0.6803764700889587, 0.6803754568099976, 0.6803765892982483, 1.8870773315429688, 0.8121767640113831, 0.812171220779419, 1.0637590885162354, 3.7843620777130127, 1.1823256015777588, 0.7575312852859497, 0.757532000541687, 0.7575328946113586, 1.0819340944290161, 1.4411828517913818, 1.6513776779174805, 1.1480207443237305, 3.8699636459350586, 14.05940055847168, 0.9308066368103027, 13.622896194458008, 1.1834999322891235, 0.7989965081214905, 1.0272448062896729, 0.7489555478096008, 0.6447311043739319, 0.6418061852455139, 0.9308649301528931, 0.6209530234336853, 0.7943127751350403, 0.7943123579025269, 0.7943122982978821, 0.7943136096000671, 0.794312596321106, 0.7943127155303955, 0.794313371181488, 0.7943136692047119, 0.7943134307861328, 0.7943137884140015, 0.7943139672279358, 0.7943140268325806, 0.6066392064094543, 0.6007511615753174, 0.5984017252922058, 0.5964884161949158, 0.5964880585670471, 0.5940433740615845, 0.5745171308517456, 0.574517548084259, 0.5745177268981934, 0.5728650689125061, 1.306604266166687, 2.2236666679382324, 1.2495518922805786, 1.6308703422546387, 3.8699636459350586, 0.8091342449188232, 0.8091277480125427, 0.809135913848877, 0.8091325759887695, 1.2725695371627808, 3.0847597122192383, 3.9887890815734863, 1.8261692523956299, 3.033267021179199, 1.6084115505218506, 1.928060531616211, 2.3315272331237793, 0.8339980840682983, 0.8340065479278564, 0.7688525915145874, 0.7688509225845337, 0.7424464225769043, 0.850239634513855, 0.9446192979812622, 0.8265711069107056, 0.6176853775978088, 0.8746748566627502, 0.675969660282135, 0.6759709715843201, 0.6759690046310425, 0.6759705543518066, 0.6759710311889648, 0.675971269607544, 0.58334881067276, 0.5833494663238525, 0.6506852507591248, 0.6506861448287964, 0.6506868004798889, 0.6506866216659546, 0.6506869792938232, 0.6506876349449158, 0.6506888270378113, 0.6494887471199036, 0.6494883298873901, 0.6494886875152588, 0.6494885087013245, 0.6494888067245483, 0.764179527759552, 0.7641812562942505, 1.047307014465332, 1.71109139919281, 0.744621217250824, 3.033267021179199, 1.6469662189483643, 0.9094393253326416, 1.1709074974060059, 1.5194902420043945, 1.8797082901000977, 3.9887890815734863, 2.3315272331237793, 1.0826172828674316, 1.6308703422546387, 1.2725695371627808, 2.714607000350952, 2.1289796829223633, 2.4468789100646973, 1.4353848695755005, 1.8906748294830322], \"Category\": [\"Default\", \"Default\", \"Default\", \"Default\", \"Default\", \"Default\", \"Default\", \"Default\", \"Default\", \"Default\", \"Default\", \"Default\", \"Default\", \"Default\", \"Default\", \"Default\", \"Default\", \"Default\", \"Default\", \"Default\", \"Default\", \"Default\", \"Default\", \"Default\", \"Default\", \"Default\", \"Default\", \"Default\", \"Default\", \"Default\", \"Topic1\", \"Topic1\", \"Topic1\", \"Topic1\", \"Topic1\", \"Topic1\", \"Topic1\", \"Topic1\", \"Topic1\", \"Topic1\", \"Topic1\", \"Topic1\", \"Topic1\", \"Topic1\", \"Topic1\", \"Topic1\", \"Topic1\", \"Topic1\", \"Topic1\", \"Topic1\", \"Topic1\", \"Topic1\", \"Topic1\", \"Topic1\", \"Topic1\", \"Topic1\", \"Topic1\", \"Topic1\", \"Topic1\", \"Topic1\", \"Topic1\", \"Topic1\", \"Topic1\", \"Topic1\", \"Topic1\", \"Topic1\", \"Topic1\", \"Topic1\", \"Topic1\", \"Topic1\", \"Topic1\", \"Topic1\", \"Topic1\", \"Topic1\", \"Topic1\", \"Topic1\", \"Topic2\", \"Topic2\", \"Topic2\", \"Topic2\", \"Topic2\", \"Topic2\", \"Topic2\", \"Topic2\", \"Topic2\", \"Topic2\", \"Topic2\", \"Topic2\", \"Topic2\", \"Topic2\", \"Topic2\", \"Topic2\", \"Topic2\", \"Topic2\", \"Topic2\", \"Topic2\", \"Topic2\", \"Topic2\", \"Topic2\", \"Topic2\", \"Topic2\", \"Topic2\", \"Topic2\", \"Topic2\", \"Topic2\", \"Topic2\", \"Topic2\", \"Topic2\", \"Topic2\", \"Topic2\", \"Topic2\", \"Topic2\", \"Topic2\", \"Topic2\", \"Topic2\", \"Topic2\", \"Topic2\", \"Topic2\", \"Topic2\", \"Topic2\", \"Topic3\", \"Topic3\", \"Topic3\", \"Topic3\", \"Topic3\", \"Topic3\", \"Topic3\", \"Topic3\", \"Topic3\", \"Topic3\", \"Topic3\", \"Topic3\", \"Topic3\", \"Topic3\", \"Topic3\", \"Topic3\", \"Topic3\", \"Topic3\", \"Topic3\", \"Topic3\", \"Topic3\", \"Topic3\", \"Topic3\", \"Topic3\", \"Topic3\", \"Topic3\", \"Topic3\", \"Topic3\", \"Topic3\", \"Topic3\", \"Topic3\", \"Topic3\", \"Topic3\", \"Topic3\", \"Topic3\", \"Topic3\", \"Topic3\", \"Topic3\", \"Topic3\", \"Topic3\", \"Topic3\", \"Topic3\", \"Topic3\", \"Topic3\", \"Topic3\", \"Topic3\", \"Topic3\", \"Topic3\", \"Topic3\", \"Topic3\", \"Topic3\", \"Topic3\", \"Topic3\", \"Topic3\", \"Topic3\", \"Topic3\", \"Topic3\", \"Topic3\", \"Topic4\", \"Topic4\", \"Topic4\", \"Topic4\", \"Topic4\", \"Topic4\", \"Topic4\", \"Topic4\", \"Topic4\", \"Topic4\", \"Topic4\", \"Topic4\", \"Topic4\", \"Topic4\", \"Topic4\", \"Topic4\", \"Topic4\", \"Topic4\", \"Topic4\", \"Topic4\", \"Topic4\", \"Topic4\", \"Topic4\", \"Topic4\", \"Topic4\", \"Topic4\", \"Topic4\", \"Topic4\", \"Topic4\", \"Topic4\", \"Topic4\", \"Topic4\", \"Topic4\", \"Topic4\", \"Topic4\", \"Topic4\", \"Topic4\", \"Topic4\", \"Topic4\", \"Topic4\", \"Topic4\", \"Topic4\", \"Topic4\", \"Topic4\", \"Topic4\", \"Topic4\", \"Topic4\", \"Topic4\", \"Topic4\", \"Topic5\", \"Topic5\", \"Topic5\", \"Topic5\", \"Topic5\", \"Topic5\", \"Topic5\", \"Topic5\", \"Topic5\", \"Topic5\", \"Topic5\", \"Topic5\", \"Topic5\", \"Topic5\", \"Topic5\", \"Topic5\", \"Topic5\", \"Topic5\", \"Topic5\", \"Topic5\", \"Topic5\", \"Topic5\", \"Topic5\", \"Topic5\", \"Topic5\", \"Topic5\", \"Topic5\", \"Topic5\", \"Topic5\", \"Topic5\", \"Topic5\", \"Topic5\", \"Topic5\", \"Topic5\", \"Topic5\", \"Topic5\", \"Topic5\", \"Topic5\", \"Topic5\", \"Topic5\", \"Topic5\", \"Topic5\", \"Topic5\", \"Topic5\", \"Topic5\", \"Topic5\", \"Topic5\", \"Topic5\", \"Topic5\", \"Topic6\", \"Topic6\", \"Topic6\", \"Topic6\", \"Topic6\", \"Topic6\", \"Topic6\", \"Topic6\", \"Topic6\", \"Topic6\", \"Topic6\", \"Topic6\", \"Topic6\", \"Topic6\", \"Topic6\", \"Topic6\", \"Topic6\", \"Topic6\", \"Topic6\", \"Topic6\", \"Topic6\", \"Topic6\", \"Topic6\", \"Topic6\", \"Topic6\", \"Topic6\", \"Topic6\", \"Topic6\", \"Topic6\", \"Topic6\", \"Topic6\", \"Topic6\", \"Topic6\", \"Topic6\", \"Topic6\", \"Topic6\", \"Topic6\", \"Topic6\", \"Topic6\", \"Topic6\", \"Topic6\", \"Topic6\", \"Topic6\", \"Topic6\", \"Topic6\", \"Topic6\", \"Topic6\", \"Topic7\", \"Topic7\", \"Topic7\", \"Topic7\", \"Topic7\", \"Topic7\", \"Topic7\", \"Topic7\", \"Topic7\", \"Topic7\", \"Topic7\", \"Topic7\", \"Topic7\", \"Topic7\", \"Topic7\", \"Topic7\", \"Topic7\", \"Topic7\", \"Topic7\", \"Topic7\", \"Topic7\", \"Topic7\", \"Topic7\", \"Topic7\", \"Topic7\", \"Topic7\", \"Topic7\", \"Topic7\", \"Topic7\", \"Topic7\", \"Topic7\", \"Topic7\", \"Topic7\", \"Topic7\", \"Topic7\", \"Topic7\", \"Topic7\", \"Topic7\", \"Topic7\", \"Topic7\", \"Topic7\", \"Topic7\", \"Topic7\", \"Topic7\", \"Topic7\", \"Topic7\", \"Topic7\", \"Topic8\", \"Topic8\", \"Topic8\", \"Topic8\", \"Topic8\", \"Topic8\", \"Topic8\", \"Topic8\", \"Topic8\", \"Topic8\", \"Topic8\", \"Topic8\", \"Topic8\", \"Topic8\", \"Topic8\", \"Topic8\", \"Topic8\", \"Topic8\", \"Topic8\", \"Topic8\", \"Topic8\", \"Topic8\", \"Topic8\", \"Topic8\", \"Topic8\", \"Topic8\", \"Topic8\", \"Topic8\", \"Topic8\", \"Topic8\", \"Topic8\", \"Topic8\", \"Topic8\", \"Topic8\", \"Topic8\", \"Topic8\", \"Topic8\", \"Topic8\", \"Topic8\", \"Topic8\", \"Topic8\", \"Topic8\", \"Topic8\", \"Topic8\", \"Topic8\", \"Topic8\", \"Topic8\", \"Topic8\", \"Topic8\", \"Topic8\", \"Topic8\"], \"logprob\": [30.0, 29.0, 28.0, 27.0, 26.0, 25.0, 24.0, 23.0, 22.0, 21.0, 20.0, 19.0, 18.0, 17.0, 16.0, 15.0, 14.0, 13.0, 12.0, 11.0, 10.0, 9.0, 8.0, 7.0, 6.0, 5.0, 4.0, 3.0, 2.0, 1.0, -3.026599884033203, -3.024399995803833, -3.0796000957489014, -3.111599922180176, -3.111599922180176, -3.1728999614715576, -3.2674999237060547, -5.698299884796143, -5.798500061035156, -6.394800186157227, -6.394800186157227, -6.31790018081665, -6.485199928283691, -6.378499984741211, -6.378499984741211, -6.378499984741211, -6.535200119018555, -6.535200119018555, -6.535200119018555, -5.783299922943115, -6.51140022277832, -6.51140022277832, -6.368800163269043, -5.839200019836426, -6.763599872589111, -6.78410005569458, -6.78410005569458, -6.78410005569458, -6.78410005569458, -6.78410005569458, -6.560500144958496, -6.690000057220459, -5.707399845123291, -6.040800094604492, -6.560500144958496, -6.424600124359131, -5.940199851989746, -5.776000022888184, -5.844699859619141, -6.257599830627441, -6.038300037384033, -5.92609977722168, -6.261600017547607, -6.100399971008301, -6.214700222015381, -6.163099765777588, -4.727499961853027, -4.727499961853027, -4.727499961853027, -4.727499961853027, -4.727499961853027, -4.670599937438965, -4.670599937438965, -4.670599937438965, -4.775599956512451, -5.690400123596191, -5.896500110626221, -5.896500110626221, -6.03000020980835, -5.744999885559082, -5.744999885559082, -5.744999885559082, -5.744999885559082, -5.744999885559082, -5.831699848175049, -6.021599769592285, -4.9899001121521, -6.24399995803833, -6.281700134277344, -6.281700134277344, -6.115600109100342, -6.115600109100342, -6.115600109100342, -6.340400218963623, -6.3632001876831055, -6.3632001876831055, -5.2606000900268555, -5.826499938964844, -5.575900077819824, -5.860799789428711, -5.859399795532227, -5.005099773406982, -5.646500110626221, -5.484000205993652, -5.806099891662598, -5.430799961090088, -5.08519983291626, -5.635000228881836, -5.669300079345703, -5.600200176239014, -5.237299919128418, -5.237400054931641, -5.402500152587891, -5.843400001525879, -5.843500137329102, -5.930500030517578, -5.930600166320801, -5.930600166320801, -5.930600166320801, -5.930600166320801, -5.930600166320801, -5.671299934387207, -5.671299934387207, -5.671299934387207, -6.033299922943115, -6.105000019073486, -6.105000019073486, -6.105000019073486, -6.105000019073486, -6.105000019073486, -6.105000019073486, -6.105000019073486, -6.041200160980225, -5.95359992980957, -6.207900047302246, -6.208000183105469, -6.078199863433838, -6.0782999992370605, -5.912199974060059, -6.101200103759766, -5.964000225067139, -5.81879997253418, -5.818900108337402, -5.818900108337402, -5.1479997634887695, -5.782599925994873, -5.513199806213379, -5.367499828338623, -5.668900012969971, -5.125100135803223, -5.682600021362305, -5.767000198364258, -5.758800029754639, -5.752399921417236, -5.295300006866455, -5.767899990081787, -5.505199909210205, -5.629300117492676, -5.85129976272583, -5.85129976272583, -5.85129976272583, -5.85129976272583, -5.851399898529053, -5.489099979400635, -5.542300224304199, -5.542399883270264, -5.589799880981445, -5.804699897766113, -5.136300086975098, -5.136300086975098, -5.13640022277832, -5.171199798583984, -5.137199878692627, -5.515600204467773, -5.515600204467773, -5.515600204467773, -5.515600204467773, -5.815299987792969, -5.815299987792969, -5.560400009155273, -5.813700199127197, -5.813700199127197, -5.813700199127197, -5.813700199127197, -5.813700199127197, -5.813700199127197, -5.560500144958496, -5.202300071716309, -5.997399806976318, -5.862199783325195, -6.028900146484375, -6.164100170135498, -6.18310022354126, -5.696000099182129, -6.2368998527526855, -6.069900035858154, -6.070000171661377, -6.070000171661377, -5.188799858093262, -5.5366997718811035, -5.893700122833252, -5.893799781799316, -5.583199977874756, -5.44290018081665, -5.3053998947143555, -5.621300220489502, -5.688000202178955, -5.355599880218506, -5.633200168609619, -5.481599807739258, -5.5345001220703125, -5.581500053405762, -5.596199989318848, -5.632199764251709, -5.672800064086914, -5.749800205230713, -5.799699783325195, -4.120699882507324, -4.198200225830078, -4.238999843597412, -4.152299880981445, -5.760900020599365, -5.768899917602539, -4.405099868774414, -5.900899887084961, -5.852200031280518, -5.852200031280518, -5.852200031280518, -5.927700042724609, -6.163599967956543, -6.167900085449219, -6.181399822235107, -6.04040002822876, -5.760799884796143, -6.020899772644043, -6.107399940490723, -6.281700134277344, -6.281700134277344, -6.1072998046875, -6.424900054931641, -5.930500030517578, -6.5346999168396, -6.534800052642822, -6.55019998550415, -6.55019998550415, -6.55019998550415, -6.55019998550415, -5.171000003814697, -5.7967000007629395, -6.157800197601318, -5.80649995803833, -5.937699794769287, -5.550899982452393, -6.062900066375732, -5.508399963378906, -5.373899936676025, -4.896500110626221, -4.895400047302246, -4.89709997177124, -4.957699775695801, -4.985799789428711, -5.048699855804443, -5.064000129699707, -5.542500019073486, -5.788599967956543, -5.883600234985352, -5.3821001052856445, -5.3821001052856445, -5.3821001052856445, -5.201399803161621, -5.560299873352051, -5.468500137329102, -5.676300048828125, -5.676499843597412, -5.4268999099731445, -5.270400047302246, -5.270400047302246, -5.270400047302246, -5.270599842071533, -5.631100177764893, -5.829400062561035, -5.097400188446045, -5.9278998374938965, -5.99560022354126, -5.99560022354126, -5.99560022354126, -5.99560022354126, -5.99560022354126, -5.99560022354126, -5.99560022354126, -5.99560022354126, -5.995699882507324, -5.995699882507324, -5.995699882507324, -5.995699882507324, -5.995699882507324, -5.204999923706055, -5.860000133514404, -5.860000133514404, -5.727799892425537, -4.998600006103516, -5.739200115203857, -5.9481000900268555, -5.9481000900268555, -5.9481000900268555, -5.801499843597412, -5.749599933624268, -5.710100173950195, -5.838200092315674, -5.526800155639648, -5.436600208282471, -5.927999973297119, -5.784999847412109, -5.021699905395508, -5.657700061798096, -5.541999816894531, -5.893700122833252, -6.098499774932861, -6.10890007019043, -5.771399974822998, -6.187600135803223, -5.945099830627441, -5.945099830627441, -5.945099830627441, -5.945099830627441, -5.945099830627441, -5.945099830627441, -5.945099830627441, -5.945099830627441, -5.945099830627441, -5.945099830627441, -5.945099830627441, -5.945099830627441, -6.245500087738037, -6.270299911499023, -6.280300140380859, -6.288700103759766, -6.288700103759766, -6.299200057983398, -6.388999938964844, -6.388999938964844, -6.388999938964844, -6.396900177001953, -5.610599994659424, -5.357100009918213, -5.8394999504089355, -5.689300060272217, -5.256899833679199, -6.158999919891357, -6.158999919891357, -6.158999919891357, -6.158999919891357, -5.998799800872803, -5.750199794769287, -5.76170015335083, -6.011899948120117, -5.930699825286865, -6.057799816131592, -6.052700042724609, -6.073999881744385, -5.4375, -5.437600135803223, -5.589099884033203, -5.589099884033203, -5.657100200653076, -5.588900089263916, -5.508399963378906, -5.750100135803223, -6.065299987792969, -5.72629976272583, -6.015999794006348, -6.015999794006348, -6.015999794006348, -6.015999794006348, -6.015999794006348, -6.015999794006348, -6.214700222015381, -6.214799880981445, -6.111999988555908, -6.111999988555908, -6.111999988555908, -6.111999988555908, -6.111999988555908, -6.111999988555908, -6.111999988555908, -6.116099834442139, -6.116099834442139, -6.116099834442139, -6.116099834442139, -6.116099834442139, -5.959000110626221, -5.959099769592285, -5.737299919128418, -5.4953999519348145, -6.032700061798096, -5.248700141906738, -5.591800212860107, -5.938199996948242, -5.820799827575684, -5.698500156402588, -5.598899841308594, -5.329999923706055, -5.601900100708008, -5.918600082397461, -5.790900230407715, -5.873799800872803, -5.742800235748291, -5.847300052642822, -5.919099807739258, -5.96560001373291, -5.973199844360352], \"loglift\": [30.0, 29.0, 28.0, 27.0, 26.0, 25.0, 24.0, 23.0, 22.0, 21.0, 20.0, 19.0, 18.0, 17.0, 16.0, 15.0, 14.0, 13.0, 12.0, 11.0, 10.0, 9.0, 8.0, 7.0, 6.0, 5.0, 4.0, 3.0, 2.0, 1.0, 1.3693000078201294, 1.367400050163269, 1.3355000019073486, 1.319000005722046, 1.315999984741211, 1.2783000469207764, 1.2151999473571777, 1.1581000089645386, 0.963699996471405, 0.9562000036239624, 0.9562000036239624, 0.951200008392334, 0.9147999882698059, 0.9006999731063843, 0.9006999731063843, 0.9006999731063843, 0.8909000158309937, 0.8909000158309937, 0.8907999992370605, 0.8675000071525574, 0.8593999743461609, 0.8593999743461609, 0.804099977016449, 0.8009999990463257, 0.7741000056266785, 0.7630000114440918, 0.7630000114440918, 0.7630000114440918, 0.7630000114440918, 0.7630000114440918, 0.761900007724762, 0.762499988079071, 0.7501000165939331, 0.7533000111579895, 0.7325000166893005, 0.6917999982833862, 0.5521000027656555, 0.38269999623298645, 0.37459999322891235, 0.5166000127792358, 0.20509999990463257, -0.21819999814033508, 0.35760000348091125, -0.004600000102072954, 0.1242000013589859, -0.4521999955177307, 1.7568999528884888, 1.7568000555038452, 1.7568000555038452, 1.7568000555038452, 1.7568000555038452, 1.7233999967575073, 1.7233999967575073, 1.7232999801635742, 1.6419999599456787, 1.4987000226974487, 1.351099967956543, 1.351099967956543, 1.350000023841858, 1.3306000232696533, 1.3306000232696533, 1.3306000232696533, 1.3306000232696533, 1.3306000232696533, 1.2755999565124512, 1.2734999656677246, 1.267199993133545, 1.2417999505996704, 1.221500039100647, 1.2214000225067139, 1.2092000246047974, 1.2091000080108643, 1.2091000080108643, 1.1892999410629272, 1.1764999628067017, 1.1763999462127686, 1.1340999603271484, 1.1527999639511108, 1.1053999662399292, 1.1160000562667847, 1.1002999544143677, 0.7584999799728394, 0.9107999801635742, 0.7594000101089478, 0.9440000057220459, 0.27709999680519104, -0.6025000214576721, 0.3330000042915344, 0.42649999260902405, 0.11069999635219574, 1.6440000534057617, 1.6439000368118286, 1.4967000484466553, 1.4781999588012695, 1.4781999588012695, 1.4378999471664429, 1.4378999471664429, 1.4378999471664429, 1.4378999471664429, 1.4378000497817993, 1.4378000497817993, 1.4104000329971313, 1.4104000329971313, 1.4104000329971313, 1.3877999782562256, 1.3514000177383423, 1.3514000177383423, 1.3514000177383423, 1.3514000177383423, 1.3514000177383423, 1.3514000177383423, 1.3514000177383423, 1.344499945640564, 1.3212000131607056, 1.2968000173568726, 1.2967000007629395, 1.287600040435791, 1.287500023841858, 1.2766000032424927, 1.2589999437332153, 1.2310999631881714, 1.1953999996185303, 1.1953999996185303, 1.1953999996185303, 0.8367999792098999, 1.1474000215530396, 0.9979000091552734, 0.9129999876022339, 1.0128999948501587, 0.5827999711036682, 1.017699956893921, 1.075700044631958, 1.0499999523162842, 1.0068999528884888, 0.4156999886035919, 0.9987999796867371, 0.462799996137619, 0.5293999910354614, 1.1007000207901, 1.1007000207901, 1.1007000207901, 1.1007000207901, 1.1007000207901, -1.0062999725341797, -1.1117000579833984, -1.114799976348877, -1.138700008392334, 0.4431999921798706, 1.6258000135421753, 1.6258000135421753, 1.6258000135421753, 1.569599986076355, 1.5499999523162842, 1.5078999996185303, 1.5077999830245972, 1.5077999830245972, 1.5077999830245972, 1.4350999593734741, 1.4350999593734741, 1.4234000444412231, 1.406999945640564, 1.4069000482559204, 1.4069000482559204, 1.4069000482559204, 1.4069000482559204, 1.4069000482559204, 1.396399974822998, 1.3904999494552612, 1.345900058746338, 1.3279999494552612, 1.3216999769210815, 1.3215999603271484, 1.311400055885315, 1.2907999753952026, 1.2819000482559204, 1.2710000276565552, 1.2710000276565552, 1.2710000276565552, 1.180999994277954, 1.128000020980835, 1.2028000354766846, 1.172700047492981, 0.8762000203132629, 0.652899980545044, 0.45820000767707825, 0.5784000158309937, 0.7067000269889832, -0.8727999925613403, 0.07769999653100967, -1.066499948501587, -1.083299994468689, -1.1898000240325928, -1.2002999782562256, -1.2045999765396118, -1.2422000169754028, -0.04190000146627426, 0.1851000040769577, 1.9164999723434448, 1.871999979019165, 1.802899956703186, 1.5888999700546265, 1.5810999870300293, 1.5776000022888184, 1.5335999727249146, 1.5127999782562256, 1.4398000240325928, 1.4398000240325928, 1.4398000240325928, 1.4155000448226929, 1.3708000183105469, 1.368499994277954, 1.3605999946594238, 1.3532999753952026, 1.3529000282287598, 1.2684999704360962, 1.2417999505996704, 1.2353999614715576, 1.2353999614715576, 1.2130999565124512, 1.2130999565124512, 1.1792999505996704, 1.1419999599456787, 1.1418999433517456, 1.131700038909912, 1.131700038909912, 1.131700038909912, 1.131700038909912, 1.1095000505447388, 1.1109999418258667, 1.0230000019073486, 0.8953999876976013, 0.9031999707221985, 0.7407000064849854, 0.9226999878883362, 0.4596000015735626, 0.33410000801086426, -0.44530001282691956, -0.46480000019073486, -0.46950000524520874, -0.5425000190734863, -0.5030999779701233, -0.6570000052452087, -0.6679999828338623, 0.16840000450611115, 0.4307999908924103, 0.4117000102996826, 1.7676000595092773, 1.7676000595092773, 1.7676000595092773, 1.7482000589370728, 1.694700002670288, 1.6639000177383423, 1.6430000066757202, 1.642799973487854, 1.6302000284194946, 1.6282999515533447, 1.6282999515533447, 1.6282999515533447, 1.628100037574768, 1.590499997138977, 1.5700000524520874, 1.539199948310852, 1.5197999477386475, 1.4839999675750732, 1.4839999675750732, 1.4839999675750732, 1.4839999675750732, 1.4839999675750732, 1.4838999509811401, 1.4838999509811401, 1.4838999509811401, 1.4838999509811401, 1.4838999509811401, 1.4838999509811401, 1.4838999509811401, 1.4838999509811401, 1.2544000148773193, 1.4424999952316284, 1.4424999952316284, 1.304900050163269, 0.7649999856948853, 1.1877000331878662, 1.4240000247955322, 1.4240000247955322, 1.4240000247955322, 1.2142000198364258, 0.9793999791145325, 0.8827000260353088, 1.1181999444961548, 0.21439999341964722, -0.9854000210762024, 1.2381000518798828, -1.302299976348877, 1.9042999744415283, 1.6612000465393066, 1.5255999565124512, 1.489799976348877, 1.4349000453948975, 1.4290000200271606, 1.394700050354004, 1.3833999633789062, 1.3796000480651855, 1.3796000480651855, 1.3796000480651855, 1.3796000480651855, 1.3796000480651855, 1.3796000480651855, 1.3796000480651855, 1.3796000480651855, 1.3796000480651855, 1.3796000480651855, 1.3796000480651855, 1.3796000480651855, 1.3487999439239502, 1.3336999416351318, 1.3276000022888184, 1.3224999904632568, 1.3224999904632568, 1.315999984741211, 1.2596999406814575, 1.2596999406814575, 1.259600043296814, 1.254699945449829, 1.2164000272750854, 0.9381999969482422, 1.0321999788284302, 0.9160000085830688, 0.48429998755455017, 1.1471999883651733, 1.1471999883651733, 1.1471999883651733, 1.1471999883651733, 0.8546000123023987, 0.21780000627040863, -0.05079999938607216, 0.4803999960422516, 0.054099999368190765, 0.5613999962806702, 0.38530001044273376, 0.17389999330043793, 1.8385000228881836, 1.8384000062942505, 1.7683000564575195, 1.7682000398635864, 1.7351000308990479, 1.667799949645996, 1.6430000066757202, 1.5348000526428223, 1.5109000205993652, 1.5019999742507935, 1.4701000452041626, 1.4701000452041626, 1.4701000452041626, 1.4701000452041626, 1.4701000452041626, 1.4701000452041626, 1.4186999797821045, 1.4186999797821045, 1.4121999740600586, 1.4121999740600586, 1.4121999740600586, 1.4121999740600586, 1.4121999740600586, 1.4121999740600586, 1.4121999740600586, 1.4098999500274658, 1.4098999500274658, 1.4098999500274658, 1.4098999500274658, 1.4098999500274658, 1.4043999910354614, 1.4042999744415283, 1.3109999895095825, 1.061900019645691, 1.356600046157837, 0.7361000180244446, 1.0038000345230103, 1.2511999607086182, 1.1158000230789185, 0.9775999784469604, 0.8644999861717224, 0.38100001215934753, 0.6460000276565552, 1.096500039100647, 0.8144999742507935, 0.9796000123023987, 0.3529999852180481, 0.49149999022483826, 0.28060001134872437, 0.7674999833106995, 0.48429998755455017]}, \"token.table\": {\"Topic\": [4, 4, 2, 3, 5, 1, 3, 8, 1, 3, 5, 4, 4, 4, 4, 6, 6, 2, 6, 3, 5, 6, 7, 1, 2, 2, 4, 4, 6, 3, 5, 1, 1, 4, 5, 7, 1, 2, 4, 2, 2, 1, 3, 5, 5, 1, 1, 2, 4, 2, 3, 2, 5, 4, 4, 3, 2, 3, 1, 2, 3, 4, 5, 8, 3, 1, 5, 1, 2, 3, 5, 3, 2, 1, 2, 1, 1, 2, 6, 2, 2, 2, 1, 3, 4, 5, 2, 4, 6, 4, 6, 1, 4, 5, 6, 4, 1, 4, 5, 4, 6, 2, 4, 1, 2, 3, 4, 5, 4, 1, 3, 4, 5, 6, 2, 3, 6, 2, 3, 2, 1, 3, 4, 5, 6, 6, 4, 7, 2, 4, 6], \"Freq\": [0.60555499792099, 0.4845256507396698, 0.32417434453964233, 0.32417434453964233, 0.32417434453964233, 0.5475943684577942, 0.3296775221824646, 0.3296775221824646, 0.3923014998435974, 0.3923014998435974, 0.7181620597839355, 0.6506634950637817, 0.7172382473945618, 0.7020694017410278, 0.6654679179191589, 1.0567964315414429, 0.9633703231811523, 0.9813151955604553, 1.0567904710769653, 0.9872833490371704, 0.5168007016181946, 0.2584003508090973, 0.2584003508090973, 0.4269642233848572, 0.4269642233848572, 0.49674439430236816, 0.49674439430236816, 0.7172408699989319, 1.0567961931228638, 0.6742040514945984, 0.6296082139015198, 0.5289116501808167, 0.8042693138122559, 0.06702244281768799, 0.06702244281768799, 0.44970768690109253, 0.3683774471282959, 0.3683774471282959, 0.3683774471282959, 0.9813165664672852, 0.9813165664672852, 0.41681692004203796, 0.443109929561615, 0.443109929561615, 0.6980806589126587, 0.7173253297805786, 0.6417147517204285, 0.6615480780601501, 0.4086838960647583, 1.0992810726165771, 0.6618896722793579, 0.5844222903251648, 0.6947976350784302, 0.8979743719100952, 0.7172414064407349, 0.9872870445251465, 0.9813174605369568, 0.8226178884506226, 0.2507026493549347, 0.2507026493549347, 0.2507026493549347, 0.2507026493549347, 0.2507026493549347, 0.2507026493549347, 0.5580151081085205, 0.6349457502365112, 0.4480436444282532, 0.249939426779747, 0.249939426779747, 0.249939426779747, 0.249939426779747, 0.9872867465019226, 0.9813140630722046, 0.46970856189727783, 0.43286243081092834, 0.7405617833137512, 0.788195013999939, 0.9926418662071228, 0.6326313614845276, 0.5432747006416321, 0.5432760119438171, 0.5082090497016907, 0.7664684057235718, 0.06967894732952118, 0.06967894732952118, 0.06967894732952118, 0.9926419854164124, 0.5299199819564819, 0.5299199819564819, 0.9314320087432861, 0.8221959471702576, 0.8232986927032471, 0.06860822439193726, 0.06860822439193726, 0.8221966028213501, 0.8952240943908691, 0.8076581954956055, 0.06730484962463379, 0.06730484962463379, 0.8714743256568909, 0.865073561668396, 0.543274998664856, 0.9314329624176025, 0.7340583205223083, 0.07340583205223083, 0.07340583205223083, 0.07340583205223083, 0.07340583205223083, 0.9314327239990234, 0.7823946475982666, 0.071126788854599, 0.071126788854599, 0.071126788854599, 0.071126788854599, 0.5432755947113037, 0.8079783916473389, 0.8221997618675232, 0.5432744026184082, 0.8079769611358643, 0.9926438927650452, 0.7641773819923401, 0.06947067379951477, 0.06947067379951477, 0.06947067379951477, 0.8221974968910217, 1.0387451648712158, 0.9314314126968384, 0.8449514508247375, 0.26424533128738403, 0.26424533128738403, 0.26424533128738403], \"Term\": [\"10th\", \"19\", \"a\", \"a\", \"a\", \"amp\", \"and\", \"and\", \"are\", \"are\", \"bouquet\", \"by\", \"campaign\", \"class\", \"covid\", \"dhak\", \"downcastfacewithsweat\", \"dubey\", \"ek\", \"firefighter\", \"foldedhands\", \"foldedhands\", \"foldedhands\", \"for\", \"for\", \"from\", \"from\", \"govt\", \"grinningfacewithsweat\", \"have\", \"he\", \"his\", \"ht\\u2026\", \"ht\\u2026\", \"ht\\u2026\", \"i\", \"in\", \"in\", \"in\", \"incredible\", \"inning\", \"is\", \"loudlycryingface\", \"loudlycryingface\", \"may\", \"name\", \"no\", \"now\", \"of\", \"pensiveface\", \"people\", \"rest\", \"rip\", \"sad\", \"school\", \"sinha\", \"special\", \"such\", \"the\", \"the\", \"the\", \"the\", \"the\", \"the\", \"their\", \"they\", \"this\", \"to\", \"to\", \"to\", \"to\", \"tragedy\", \"tribute\", \"wa\", \"what\", \"when\", \"yes\", \"\\u0b85\\u0b9e\\u0bcd\\u0b9a\\u0bb2\\u0bbf\", \"\\u0b85\\u0b9f\\u0b95\\u0bcd\\u0b95\\u0bae\\u0bcd\", \"\\u0b85\\u0bb5\\u0bb0\\u0ba4\\u0bc1\", \"\\u0b85\\u0bb5\\u0bb0\\u0bcd\\u0b95\\u0bb3\\u0bc1\\u0b95\\u0bcd\\u0b95\\u0bc1\", \"\\u0b87\\u0ba9\\u0bcd\\u0bb1\\u0bc1\", \"\\u0b87\\u0bb0\\u0b99\\u0bcd\\u0b95\\u0bb2\\u0bcd\", \"\\u0b87\\u0bb0\\u0b99\\u0bcd\\u0b95\\u0bb2\\u0bcd\", \"\\u0b87\\u0bb0\\u0b99\\u0bcd\\u0b95\\u0bb2\\u0bcd\", \"\\u0b87\\u0bb0\\u0b99\\u0bcd\\u0b95\\u0bb2\\u0bcd\", \"\\u0b87\\u0bb1\\u0bc1\\u0ba4\\u0bbf\", \"\\u0b89\\u0b9f\\u0bb2\\u0bcd\", \"\\u0b89\\u0b9f\\u0bb2\\u0bcd\", \"\\u0b89\\u0bb3\\u0bcd\\u0bb3\", \"\\u0b8e\\u0bae\\u0b8e\\u0bb2\\u0bcd\\u0b8f\", \"\\u0b8e\\u0bae\\u0bcd\\u0b8e\\u0bb2\\u0bcd\\u0b8f\", \"\\u0b8e\\u0bae\\u0bcd\\u0b8e\\u0bb2\\u0bcd\\u0b8f\", \"\\u0b8e\\u0bae\\u0bcd\\u0b8e\\u0bb2\\u0bcd\\u0b8f\", \"\\u0b95\\u0bc7\\u0bb0\\u0bb3\", \"\\u0b95\\u0bca\\u0ba3\\u0bcd\\u0b9f\\u0bc1\", \"\\u0b9a\\u0bc0\\u0bae\\u0bbe\\u0ba9\\u0bcd\", \"\\u0b9a\\u0bc0\\u0bae\\u0bbe\\u0ba9\\u0bcd\", \"\\u0b9a\\u0bc0\\u0bae\\u0bbe\\u0ba9\\u0bcd\", \"\\u0b9a\\u0bc6\\u0ba9\\u0bcd\\u0ba9\\u0bc8\", \"\\u0b9a\\u0bc6\\u0baf\\u0bcd\\u0baf\\u0baa\\u0bcd\\u0baa\\u0b9f\\u0bcd\\u0b9f\\u0ba4\\u0bc1\", \"\\u0b9a\\u0bc6\\u0bb2\\u0bc1\\u0ba4\\u0bcd\\u0ba4\\u0bc1\\u0bae\\u0bcd\", \"\\u0b9a\\u0bc6\\u0bb2\\u0bcd\\u0bb2\\u0baa\\u0bcd\\u0baa\\u0b9f\\u0bcd\\u0b9f\\u0ba4\\u0bc1\", \"\\u0b9c\\u0bc6\\u0b85\\u0ba9\\u0bcd\\u0baa\\u0bb4\\u0b95\\u0ba9\\u0bcd\", \"\\u0b9c\\u0bc6\\u0b85\\u0ba9\\u0bcd\\u0baa\\u0bb4\\u0b95\\u0ba9\\u0bcd\", \"\\u0b9c\\u0bc6\\u0b85\\u0ba9\\u0bcd\\u0baa\\u0bb4\\u0b95\\u0ba9\\u0bcd\", \"\\u0b9c\\u0bc6\\u0b85\\u0ba9\\u0bcd\\u0baa\\u0bb4\\u0b95\\u0ba9\\u0bcd\", \"\\u0b9c\\u0bc6\\u0b85\\u0ba9\\u0bcd\\u0baa\\u0bb4\\u0b95\\u0ba9\\u0bcd\", \"\\u0ba4\\u0bbf\\u0ba8\\u0b95\\u0bb0\\u0bbf\\u0bb2\\u0bcd\", \"\\u0ba4\\u0bbf\\u0bae\\u0bc1\\u0b95\", \"\\u0ba4\\u0bbf\\u0bae\\u0bc1\\u0b95\", \"\\u0ba4\\u0bbf\\u0bae\\u0bc1\\u0b95\", \"\\u0ba4\\u0bbf\\u0bae\\u0bc1\\u0b95\", \"\\u0ba4\\u0bbf\\u0bae\\u0bc1\\u0b95\", \"\\u0ba4\\u0bbf\\u0bb0\\u0bc1\\u0bb0\\u0bbe\\u0b9c\\u0bbe\\u0b85\\u0ba9\\u0bcd\\u0baa\\u0bb4\\u0b95\\u0ba9\\u0bcd\", \"\\u0ba4\\u0bc1\\u0bb0\\u0bc8\\u0bae\\u0bc1\\u0bb0\\u0bc1\\u0b95\\u0ba9\\u0bcd\", \"\\u0baa\\u0bbf\\u0ba9\\u0bb0\\u0bbe\\u0baf\\u0bbf\", \"\\u0baa\\u0bc1\\u0ba4\\u0bb2\\u0bcd\\u0bb5\\u0bb0\\u0bcd\", \"\\u0baa\\u0bca\\u0bb0\\u0bc1\\u0bb3\\u0bbe\\u0bb3\\u0bb0\\u0bcd\", \"\\u0bae\\u0bb1\\u0bc8\\u0ba8\\u0bcd\\u0ba4\", \"\\u0bae\\u0bb1\\u0bc8\\u0bb5\\u0bc1\\u0b95\\u0bcd\\u0b95\\u0bc1\", \"\\u0bae\\u0bb1\\u0bc8\\u0bb5\\u0bc1\\u0b95\\u0bcd\\u0b95\\u0bc1\", \"\\u0bae\\u0bb1\\u0bc8\\u0bb5\\u0bc1\\u0b95\\u0bcd\\u0b95\\u0bc1\", \"\\u0bae\\u0bb1\\u0bc8\\u0bb5\\u0bc1\\u0b95\\u0bcd\\u0b95\\u0bc1\", \"\\u0bae\\u0bc1\\u0ba4\\u0bb2\\u0bcd\\u0bb5\\u0bb0\\u0bcd\", \"\\u0bb5\\u0bbf\\u0b9c\\u2026\", \"\\u0bb5\\u0bc0\\u0b9f\\u0bcd\\u0b9f\\u0bbf\\u0bb1\\u0bcd\\u0b95\\u0bc1\", \"\\u0bb5\\u0bc0\\u0bb0\\u0bb5\\u0ba3\\u0b95\\u0bcd\\u0b95\\u0bae\\u0bcd\", \"\\u2026\", \"\\u2026\", \"\\u2026\"]}, \"R\": 30, \"lambda.step\": 0.01, \"plot.opts\": {\"xlab\": \"PC1\", \"ylab\": \"PC2\"}, \"topic.order\": [4, 7, 3, 1, 5, 2, 8, 6]};\n",
              "\n",
              "function LDAvis_load_lib(url, callback){\n",
              "  var s = document.createElement('script');\n",
              "  s.src = url;\n",
              "  s.async = true;\n",
              "  s.onreadystatechange = s.onload = callback;\n",
              "  s.onerror = function(){console.warn(\"failed to load library \" + url);};\n",
              "  document.getElementsByTagName(\"head\")[0].appendChild(s);\n",
              "}\n",
              "\n",
              "if(typeof(LDAvis) !== \"undefined\"){\n",
              "   // already loaded: just create the visualization\n",
              "   !function(LDAvis){\n",
              "       new LDAvis(\"#\" + \"ldavis_el1221401145018895043479319187\", ldavis_el1221401145018895043479319187_data);\n",
              "   }(LDAvis);\n",
              "}else if(typeof define === \"function\" && define.amd){\n",
              "   // require.js is available: use it to load d3/LDAvis\n",
              "   require.config({paths: {d3: \"https://cdnjs.cloudflare.com/ajax/libs/d3/3.5.5/d3.min\"}});\n",
              "   require([\"d3\"], function(d3){\n",
              "      window.d3 = d3;\n",
              "      LDAvis_load_lib(\"https://cdn.rawgit.com/bmabey/pyLDAvis/files/ldavis.v1.0.0.js\", function(){\n",
              "        new LDAvis(\"#\" + \"ldavis_el1221401145018895043479319187\", ldavis_el1221401145018895043479319187_data);\n",
              "      });\n",
              "    });\n",
              "}else{\n",
              "    // require.js not available: dynamically load d3 & LDAvis\n",
              "    LDAvis_load_lib(\"https://cdnjs.cloudflare.com/ajax/libs/d3/3.5.5/d3.min.js\", function(){\n",
              "         LDAvis_load_lib(\"https://cdn.rawgit.com/bmabey/pyLDAvis/files/ldavis.v1.0.0.js\", function(){\n",
              "                 new LDAvis(\"#\" + \"ldavis_el1221401145018895043479319187\", ldavis_el1221401145018895043479319187_data);\n",
              "            })\n",
              "         });\n",
              "}\n",
              "</script>"
            ],
            "text/plain": [
              "PreparedData(topic_coordinates=              x         y  topics  cluster       Freq\n",
              "topic                                                \n",
              "3     -0.134622  0.009175       1        1  21.216084\n",
              "6      0.032973  0.075481       2        1  13.488091\n",
              "2      0.014799 -0.013820       3        1  12.485683\n",
              "0      0.011534  0.011198       4        1  12.383230\n",
              "4     -0.018344 -0.028255       5        1  10.850070\n",
              "1      0.028015 -0.021403       6        1  10.459812\n",
              "7      0.036739 -0.020573       7        1  10.275393\n",
              "5      0.028905 -0.011803       8        1   8.841636, topic_info=          Term       Freq      Total Category  logprob  loglift\n",
              "3       சீமான்  14.000000  14.000000  Default  30.0000  30.0000\n",
              "0          ht…  14.000000  14.000000  Default  29.0000  29.0000\n",
              "2      எம்எல்ஏ  14.000000  14.000000  Default  28.0000  28.0000\n",
              "1      இரங்கல்  14.000000  14.000000  Default  27.0000  27.0000\n",
              "6    மறைவுக்கு  14.000000  14.000000  Default  26.0000  26.0000\n",
              "..         ...        ...        ...      ...      ...      ...\n",
              "31          in   0.341617   2.714607   Topic8  -5.7428   0.3530\n",
              "138         wa   0.307724   2.128980   Topic8  -5.8473   0.4915\n",
              "114         of   0.286410   2.446879   Topic8  -5.9191   0.2806\n",
              "470      after   0.273404   1.435385   Topic8  -5.9656   0.7675\n",
              "157        his   0.271327   1.890675   Topic8  -5.9732   0.4843\n",
              "\n",
              "[421 rows x 6 columns], token_table=      Topic      Freq        Term\n",
              "term                             \n",
              "848       4  0.605555        10th\n",
              "515       4  0.484526          19\n",
              "7         2  0.324174           a\n",
              "7         3  0.324174           a\n",
              "7         5  0.324174           a\n",
              "...     ...       ...         ...\n",
              "400       4  0.931431  வீட்டிற்கு\n",
              "726       7  0.844951  வீரவணக்கம்\n",
              "127       2  0.264245           …\n",
              "127       4  0.264245           …\n",
              "127       6  0.264245           …\n",
              "\n",
              "[131 rows x 3 columns], R=30, lambda_step=0.01, plot_opts={'xlab': 'PC1', 'ylab': 'PC2'}, topic_order=[4, 7, 3, 1, 5, 2, 8, 6])"
            ]
          },
          "metadata": {
            "tags": []
          },
          "execution_count": 53
        }
      ]
    },
    {
      "cell_type": "markdown",
      "metadata": {
        "id": "Rk01xepNOrMq"
      },
      "source": [
        "**For Class C (Both #RestInPeace and #MissYouYuvi)**"
      ]
    },
    {
      "cell_type": "code",
      "metadata": {
        "id": "piK1pFSIN13k"
      },
      "source": [
        "topics = 8\n",
        "model_C = find_topics(BoW_C,dict_C,topics)"
      ],
      "execution_count": null,
      "outputs": []
    },
    {
      "cell_type": "code",
      "metadata": {
        "id": "waAbBEs5N_1z",
        "colab": {
          "base_uri": "https://localhost:8080/",
          "height": 173
        },
        "outputId": "3c59f37d-4786-42db-c232-51a60acbfd44"
      },
      "source": [
        "show_topics(model_C,BoW_C,dict_C)"
      ],
      "execution_count": null,
      "outputs": [
        {
          "output_type": "stream",
          "text": [
            "Topic: 0 Word: 0.018*\"be\" + 0.016*\"on\" + 0.014*\"like\" + 0.013*\"i\" + 0.012*\"fan\" + 0.012*\"and\" + 0.012*\"to\" + 0.011*\"twitter\" + 0.010*\"facewithrollingeyes\" + 0.009*\"top\"\n",
            "Topic: 1 Word: 0.018*\"heart\" + 0.017*\"…\" + 0.016*\"my\" + 0.013*\"stopped\" + 0.011*\"omg\" + 0.011*\"seenoevilmonkey\" + 0.011*\"ge\" + 0.011*\"bai\" + 0.010*\"a\" + 0.010*\"and\"\n",
            "Topic: 2 Word: 0.015*\"stuart\" + 0.015*\"broad\" + 0.015*\"i\" + 0.015*\"together\" + 0.014*\"they\" + 0.014*\"le\" + 0.013*\"watching\" + 0.013*\"in\" + 0.011*\"when\" + 0.011*\"and\"\n",
            "Topic: 3 Word: 0.012*\"the\" + 0.010*\"scared\" + 0.010*\"hell\" + 0.009*\"me\" + 0.009*\"are\" + 0.009*\"out\" + 0.009*\"time\" + 0.008*\"yuvraj\" + 0.008*\"at\" + 0.008*\"same\"\n",
            "Topic: 4 Word: 0.015*\"cacsexa…\" + 0.011*\"rollingonthefloorlaughing\" + 0.007*\"hashtag\" + 0.006*\"𝙎𝙞𝙣𝙜𝙝\" + 0.006*\"𝙡𝙞𝙠𝙚\" + 0.006*\"𝙗𝙚\" + 0.006*\"kawaii\" + 0.006*\"𝙛𝙖𝙣𝙨\" + 0.006*\"𝙔𝙪𝙫𝙧𝙖𝙟\" + 0.006*\"fuck\"\n",
            "Topic: 5 Word: 0.045*\"जननायकछात्रों…\" + 0.028*\"singh\" + 0.027*\"seeing\" + 0.027*\"yuvraj\" + 0.025*\"after\" + 0.023*\"together\" + 0.016*\"writing\" + 0.014*\"and\" + 0.011*\"people\" + 0.010*\"watching\"\n",
            "Topic: 6 Word: 0.045*\"indian\" + 0.045*\"every\" + 0.044*\"rn\" + 0.043*\"joking\" + 0.040*\"amp\" + 0.039*\"time\" + 0.038*\"at\" + 0.038*\"same\" + 0.035*\"when\" + 0.033*\"the\"\n",
            "Topic: 7 Word: 0.054*\"fuck\" + 0.049*\"moment\" + 0.049*\"scared\" + 0.046*\"for\" + 0.042*\"a\" + 0.017*\"people\" + 0.014*\"this\" + 0.014*\"bloody\" + 0.012*\"whats\" + 0.012*\"you\"\n"
          ],
          "name": "stdout"
        }
      ]
    },
    {
      "cell_type": "markdown",
      "metadata": {
        "id": "DXNxLtTUgBRJ"
      },
      "source": [
        "**_Analysis_**\n",
        "\n",
        "Topics in this class showed mixed emotions: some reported to be extremely negative and others extremely positive.\n",
        "\n",
        "* Topic 1 shows negative sentiments, with more weight given to the words like “fuck”, “scared”."
      ]
    },
    {
      "cell_type": "code",
      "metadata": {
        "id": "4uzZGwciOFy8",
        "colab": {
          "base_uri": "https://localhost:8080/",
          "height": 881
        },
        "outputId": "fa66aa58-01b4-4bf8-d25a-a8437d80f60d"
      },
      "source": [
        "pyLDAvis.enable_notebook()\n",
        "vis = pyLDAvis.gensim.prepare(model_C, BoW_C, dict_C)\n",
        "vis"
      ],
      "execution_count": null,
      "outputs": [
        {
          "output_type": "execute_result",
          "data": {
            "text/html": [
              "\n",
              "<link rel=\"stylesheet\" type=\"text/css\" href=\"https://cdn.rawgit.com/bmabey/pyLDAvis/files/ldavis.v1.0.0.css\">\n",
              "\n",
              "\n",
              "<div id=\"ldavis_el1221401145124733288331908877\"></div>\n",
              "<script type=\"text/javascript\">\n",
              "\n",
              "var ldavis_el1221401145124733288331908877_data = {\"mdsDat\": {\"x\": [0.1593863798268786, -0.04444166027077893, -0.09343271180620355, 0.003641880004432867, -0.018690240147974, -0.0066340290720469965, 0.003921829927079124, -0.0037514484613869756], \"y\": [-0.015593220286731933, -0.13194676471515238, 0.02705130283692122, 0.04402666470252283, 0.042025456946666706, 0.01458477058851907, -0.0071357982268148625, 0.0269875881540693], \"topics\": [1, 2, 3, 4, 5, 6, 7, 8], \"cluster\": [1, 1, 1, 1, 1, 1, 1, 1], \"Freq\": [21.481840133666992, 18.268526077270508, 12.65451431274414, 11.26978874206543, 10.539446830749512, 10.428085327148438, 8.794520378112793, 6.563276767730713]}, \"tinfo\": {\"Term\": [\"\\u091c\\u0928\\u0928\\u093e\\u092f\\u0915\\u091b\\u093e\\u0924\\u094d\\u0930\\u094b\\u0902\\u2026\", \"fuck\", \"scared\", \"moment\", \"every\", \"indian\", \"rn\", \"joking\", \"for\", \"amp\", \"singh\", \"a\", \"yuvraj\", \"seeing\", \"together\", \"time\", \"at\", \"after\", \"same\", \"heart\", \"be\", \"when\", \"writing\", \"the\", \"i\", \"my\", \"\\u2026\", \"cacsexa\\u2026\", \"stuart\", \"broad\", \"indian\", \"every\", \"rn\", \"joking\", \"amp\", \"time\", \"at\", \"same\", \"most\", \"seen\", \"far\", \"fucked\", \"when\", \"the\", \"upsidedownface\", \"facewithmedicalmask\", \"facewithhandovermouth\", \"fans\\u2026\", \"smirkingface\", \"up\", \"bluebirdie\", \"verma0\", \"have\", \"pm\", \"need\", \"facewithtearsofjoy\", \"little\", \"down\", \"backhandindexpointingdown\", \"fuckkkkk\", \"trending\", \"so\", \"to\", \"and\", \"coincidence\", \"\\u2026\", \"a\", \"whats\", \"fuck\", \"bloody\", \"scared\", \"moment\", \"for\", \"a\", \"making\", \"chahal\", \"fun\", \"yuzvendra\", \"this\", \"you\", \"aur\", \"some\", \"meanwhile\", \"\\u0939\\u0948\", \"people\", \"naik008\", \"but\", \"\\u0926\\u093f\\u0928\\u094b\\u0902\", \"\\u0915\\u0941\\u091b\", \"kyu\", \"\\u0907\\u0928\", \"\\u092a\\u0930\", \"\\u092d\\u0940\", \"\\u0939\\u094b\", \"ab\", \"yuvi\", \"misleading\", \"started\", \"condition\", \"of\", \"on\", \"twitter\", \"me\", \"thank\", \"god\", \"trend\", \"are\", \"and\", \"seeing\", \"the\", \"when\", \"trending\", \"after\", \"\\u091c\\u0928\\u0928\\u093e\\u092f\\u0915\\u091b\\u093e\\u0924\\u094d\\u0930\\u094b\\u0902\\u2026\", \"writing\", \"friend\", \"yuvraj\", \"tulip\", \"singh\", \"seeing\", \"including\", \"aane\", \"wala\", \"dekhke\", \"ky\", \"baat\", \"jane\", \"after\", \"all\", \"hi\", \"trendi\\u2026\", \"again\", \"together\", \"m\", \"waqt\", \"aaj\", \"also\", \"anniversa\\u2026\", \"tha\", \"dono\", \"trulyshiv\", \"sinha99\", \"ek\", \"these\", \"watching\", \"le\", \"people\", \"and\", \"his\", \"in\", \"like\", \"is\", \"me\", \"fan\", \"are\", \"trending\", \"it\", \"my\", \"a\", \"fuck\", \"god\", \"scared\", \"moment\", \"stuart\", \"broad\", \"poutingface\", \"too\", \"feel\", \"they\", \"winkingface\", \"facewiththermometer\", \"first\", \"topic\", \"scary\", \"2020\", \"trading\", \"place\", \"yuraj\", \"played\", \"inshallah\", \"boy\", \"make\", \"something\", \"saw\", \"downcastfacewithsweat\", \"expressionlessface\", \"creating\", \"spread\", \"confusion\", \"watching\", \"i\", \"told\", \"looking\", \"le\", \"in\", \"wa\", \"together\", \"just\", \"after\", \"and\", \"trend\", \"these\", \"when\", \"trending\", \"do\", \"at\", \"same\", \"amp\", \"joking\", \"my\", \"rn\", \"every\", \"indian\", \"time\", \"omg\", \"seenoevilmonkey\", \"heart\", \"stopped\", \"ge\", \"bai\", \"bandittalro\", \"beat\", \"skipped\", \"dboss\", \"\\u2026\", \"h\\u2026\", \"my\", \"almost\", \"correlating\", \"karde\", \"jaldi\", \"facewithraisedeyebrow\", \"t\", \"facewithoutmouth\", \"644\", \"had\", \"badittalro\", \"kgf2\", \"boo09\", \"attack\", \"clear\", \"http\", \"2\", \"twitterhop\\u2026\", \"bhai\", \"are\", \"and\", \"not\", \"together\", \"a\", \"do\", \"including\", \"trending\", \"time\", \"moment\", \"at\", \"same\", \"for\", \"the\", \"seeing\", \"his\", \"these\", \"be\", \"twitteraties\", \"top\", \"vandana\", \"lieheheheh\", \"today\", \"heartattack\", \"there\", \"respect\", \"share\", \"show\", \"togther\", \"momemnt\", \"sid\", \"will\", \"gaand\", \"bhadwo\", \"gyi\", \"fatt\", \"madarchodo\", \"pakistan\", \"dubey\", \"bp011\", \"trended\", \"dieheart\", \"mini\", \"fcisback\", \"which\", \"app\", \"favourite\", \"ki\", \"facewithrollingeyes\", \"on\", \"to\", \"fan\", \"like\", \"i\", \"saw\", \"twitter\", \"and\", \"yuvi\", \"his\", \"singh\", \"trending\", \"is\", \"when\", \"time\", \"at\", \"same\", \"yuvraj\", \"hell\", \"along\", \"those\", \"fearfulface\", \"foldedhandslightskintone\", \"na\", \"ho\", \"out\", \"who\", \"worriedface\", \"ese\", \"much\", \"toghter\", \"kra\", \"soo\", \"expect\", \"stay\", \"prasad\", \"same\\u2026\", \"course\", \"kro\", \"hai\", \"raha\", \"mazak\", \"unamusedface\", \"uv\", \"confusedface\", \"\\u0915\\u093f\\u0938\\u093e\\u0928\\u0915\\u0947\\u092c\\u094b\\u0932\", \"govt\", \"\\u092e\\u0939\\u093e\\u0930\\u093e\\u0937\\u094d\\u091f\\u094d\\u0930\\u092a\\u0924\\u0902\\u091c\\u0932\\u093f\\u092f\\u094b\\u0917\\u0926\\u093f\\u0935\\u0938\", \"dhak\", \"with\", \"pleadingface\", \"see\", \"feeling\", \"mahol\", \"darr\", \"are\", \"me\", \"yuvraj\", \"the\", \"writing\", \"singh\", \"scared\", \"of\", \"time\", \"at\", \"same\", \"and\", \"trending\", \"to\", \"people\", \"amp\", \"fuck\", \"a\", \"moment\", \"joking\", \"cacsexa\\u2026\", \"rollingonthefloorlaughing\", \"\\ud835\\ude4e\\ud835\\ude5e\\ud835\\ude63\\ud835\\ude5c\\ud835\\ude5d\", \"\\ud835\\ude61\\ud835\\ude5e\\ud835\\ude60\\ud835\\ude5a\", \"\\ud835\\ude57\\ud835\\ude5a\", \"kawaii\", \"\\ud835\\ude5b\\ud835\\ude56\\ud835\\ude63\\ud835\\ude68\", \"\\ud835\\ude54\\ud835\\ude6a\\ud835\\ude6b\\ud835\\ude67\\ud835\\ude56\\ud835\\ude5f\", \"krishna\", \"sai\", \"azad\", \"engaged\", \"someone\", \"random\", \"how\", \"hashtag\", \"yr\", \"joro\", \"chl\", \"bhaii\", \"hamara\", \"yha\", \"n\", \"dhadkne\", \"pr\", \"lg\", \"nd\", \"nightm\\u2026\", \"utter\", \"nothing\", \"second\", \"dil\", \"why\", \"one\", \"together\", \"stopped\", \"fuck\", \"for\", \"watching\", \"trending\", \"joking\", \"rn\", \"every\", \"amp\", \"indian\"], \"Freq\": [5.0, 9.0, 9.0, 9.0, 9.0, 9.0, 9.0, 9.0, 9.0, 9.0, 4.0, 9.0, 4.0, 4.0, 5.0, 9.0, 9.0, 5.0, 9.0, 2.0, 2.0, 9.0, 2.0, 9.0, 3.0, 2.0, 2.0, 1.0, 2.0, 2.0, 7.673194885253906, 7.647335529327393, 7.495364665985107, 7.225912094116211, 6.824182987213135, 6.5576491355896, 6.468252182006836, 6.4183030128479, 0.8038953542709351, 0.8038873672485352, 0.8038862943649292, 0.8038694858551025, 5.8926825523376465, 5.60297966003418, 0.8595489263534546, 0.8595435619354248, 0.8595435619354248, 0.8595296144485474, 0.8595201373100281, 0.7579975724220276, 0.7352190613746643, 0.63627028465271, 0.757973313331604, 0.5799703598022461, 0.6644467115402222, 1.537636160850525, 0.6165354251861572, 0.6165404319763184, 0.6022542715072632, 0.38025808334350586, 3.555500030517578, 0.6932908296585083, 0.9287299513816833, 1.1634775400161743, 0.6777176260948181, 0.6982560157775879, 0.6996379494667053, 1.776185154914856, 7.730773448944092, 2.0347893238067627, 7.061648845672607, 7.116791725158691, 6.553128242492676, 6.053750038146973, 0.8714005947113037, 0.8713838458061218, 0.8713811635971069, 0.8713653087615967, 2.050952434539795, 1.7505953311920166, 0.5515305995941162, 0.5625651478767395, 0.6898600459098816, 0.6441569924354553, 2.388479709625244, 0.5267845988273621, 0.6935403347015381, 0.4089545011520386, 0.40895408391952515, 0.4089512228965759, 0.4089509844779968, 0.40894436836242676, 0.4089444875717163, 0.408943772315979, 0.4089391231536865, 1.1150940656661987, 0.5927675366401672, 0.722937822341919, 0.72293621301651, 1.1973198652267456, 1.6354866027832031, 1.3744828701019287, 1.6267080307006836, 0.5668002367019653, 0.7100983262062073, 0.8949504494667053, 1.057267427444458, 0.9881027340888977, 0.8358432650566101, 0.9743210673332214, 0.9790713787078857, 0.9304884076118469, 0.8032597899436951, 4.452573776245117, 1.6038669347763062, 0.75933438539505, 2.6686758995056152, 0.9203587174415588, 2.743312358856201, 2.685340166091919, 0.9741018414497375, 0.4360613524913788, 0.43605807423591614, 0.4360492527484894, 0.4153178334236145, 0.4153110980987549, 0.4153061807155609, 2.5078024864196777, 0.91189044713974, 0.4059154987335205, 0.3870769739151001, 0.3870733380317688, 2.2683515548706055, 0.3224974274635315, 0.32248735427856445, 0.40588483214378357, 0.3925960958003998, 0.2909112870693207, 0.38454896211624146, 0.3845352828502655, 0.2725563645362854, 0.25856003165245056, 0.5068482160568237, 0.9485105872154236, 1.043252944946289, 1.0261951684951782, 1.0553938150405884, 1.3526537418365479, 0.816373348236084, 0.8338869214057922, 0.8131564259529114, 0.7336743474006653, 0.869133472442627, 0.7268387079238892, 0.8099383115768433, 0.9841710329055786, 0.581505298614502, 0.5915206074714661, 0.6653788685798645, 0.6441113352775574, 0.4889945387840271, 0.6148549318313599, 0.6134718060493469, 1.37018883228302, 1.3701469898223877, 0.7573376297950745, 0.8369956016540527, 0.660646378993988, 1.2806373834609985, 0.6869000792503357, 0.5047158002853394, 0.6527799963951111, 0.4131133556365967, 0.7187764644622803, 0.6925277709960938, 0.42453935742378235, 0.42453742027282715, 0.4245176613330841, 0.33296650648117065, 0.33296239376068115, 0.33294230699539185, 0.31945228576660156, 0.3194460868835449, 0.9038736820220947, 0.2863110303878784, 0.270145446062088, 0.38468137383461, 0.38467204570770264, 0.3846707344055176, 1.1732169389724731, 1.3694535493850708, 0.2749061584472656, 0.27490466833114624, 1.1997640132904053, 1.1469130516052246, 0.5319191813468933, 1.3008795976638794, 0.5075467824935913, 0.9277032613754272, 0.973858654499054, 0.622204065322876, 0.6011025905609131, 0.9810723066329956, 0.877543032169342, 0.4597488343715668, 0.646658718585968, 0.6456180810928345, 0.6323019862174988, 0.6145934462547302, 0.5077885389328003, 0.5798799395561218, 0.5732306241989136, 0.5602331161499023, 0.5401700735092163, 0.9182553291320801, 0.9182367920875549, 1.5342342853546143, 1.0502898693084717, 0.8903009295463562, 0.8902541995048523, 0.7129638195037842, 0.5752981305122375, 0.5752745270729065, 0.5401634573936462, 1.385276198387146, 0.4955625534057617, 1.3329627513885498, 0.3793896734714508, 0.43158602714538574, 0.43156957626342773, 0.4315613806247711, 0.43620383739471436, 0.43619853258132935, 0.43619444966316223, 0.43618518114089966, 0.3682769238948822, 0.35501065850257874, 0.3549991250038147, 0.32286810874938965, 0.5235660076141357, 0.4012022912502289, 0.32242903113365173, 0.35066938400268555, 0.2477906495332718, 0.3796505331993103, 0.6829795837402344, 0.8622500896453857, 0.43275555968284607, 0.7011073231697083, 0.8642852902412415, 0.432672917842865, 0.4475897550582886, 0.5563015937805176, 0.558610737323761, 0.5580252408981323, 0.5479864478111267, 0.5478545427322388, 0.5107056498527527, 0.5078297257423401, 0.47460758686065674, 0.45909109711647034, 0.45275628566741943, 1.4562181234359741, 0.5234481692314148, 0.7537057995796204, 0.6239800453186035, 0.5654462575912476, 0.43172115087509155, 0.6150340437889099, 0.41184014081954956, 0.4730572998523712, 0.47305214405059814, 0.47305169701576233, 0.372911661863327, 0.37288814783096313, 0.35535019636154175, 0.3543877601623535, 0.38411667943000793, 0.38410988450050354, 0.3841077983379364, 0.38410478830337524, 0.3841013014316559, 0.38408491015434265, 0.32412680983543396, 0.31409600377082825, 0.31408125162124634, 0.40663519501686096, 0.5797438621520996, 0.29373759031295776, 0.29373618960380554, 0.2937351167201996, 0.29372847080230713, 0.4172484278678894, 0.8489104509353638, 1.2820603847503662, 0.9891647696495056, 1.0235027074813843, 1.1177802085876465, 1.0343897342681885, 0.6960961818695068, 0.8847533464431763, 1.01898193359375, 0.6073727011680603, 0.5365037322044373, 0.5358988046646118, 0.586788535118103, 0.4734594225883484, 0.5399530529975891, 0.5088242292404175, 0.4992626905441284, 0.49924778938293457, 0.45520803332328796, 0.684297502040863, 0.4961127042770386, 0.49607574939727783, 0.45570486783981323, 0.5049108266830444, 0.43709275126457214, 0.44176676869392395, 0.6015348434448242, 0.4346865117549896, 0.3401598334312439, 0.34015953540802, 0.3401578664779663, 0.34015607833862305, 0.3401528000831604, 0.340145081281662, 0.3430803418159485, 0.34306979179382324, 0.334063857793808, 0.3340640366077423, 0.2904549837112427, 0.3170695900917053, 0.5371487736701965, 0.23964755237102509, 0.23918339610099792, 0.23918317258358002, 0.2391805201768875, 0.23917680978775024, 0.2720106840133667, 0.23422159254550934, 0.23422084748744965, 0.3227303624153137, 0.3987598121166229, 0.3197515904903412, 0.3615328371524811, 0.31148409843444824, 0.3114832937717438, 0.31147608160972595, 0.639807939529419, 0.6414552330970764, 0.5865591168403625, 0.8030931949615479, 0.45546144247055054, 0.5669450759887695, 0.7005727291107178, 0.461628258228302, 0.5911259651184082, 0.5796254277229309, 0.5795866847038269, 0.5348975658416748, 0.5168031454086304, 0.4274921119213104, 0.4294060170650482, 0.46459895372390747, 0.458710253238678, 0.42688098549842834, 0.41202884912490845, 0.40067219734191895, 0.7647705078125, 0.5548977255821228, 0.31604066491127014, 0.31603679060935974, 0.31603410840034485, 0.3160295784473419, 0.3160257339477539, 0.31602343916893005, 0.2430836707353592, 0.24308279156684875, 0.243080735206604, 0.24079112708568573, 0.24078716337680817, 0.24077238142490387, 0.24076858162879944, 0.38292208313941956, 0.22386907041072845, 0.22386890649795532, 0.22386762499809265, 0.22386695444583893, 0.22386594116687775, 0.22386406362056732, 0.2238638699054718, 0.2238636314868927, 0.22386322915554047, 0.22386211156845093, 0.22385501861572266, 0.18852916359901428, 0.18852747976779938, 0.18852491676807404, 0.28608566522598267, 0.20972055196762085, 0.2515271306037903, 0.25018659234046936, 0.29324519634246826, 0.24999910593032837, 0.30664780735969543, 0.30071988701820374, 0.2538240849971771, 0.2526167035102844, 0.24896781146526337, 0.24897348880767822, 0.24636146426200867, 0.24355502426624298, 0.24138085544109344], \"Total\": [5.0, 9.0, 9.0, 9.0, 9.0, 9.0, 9.0, 9.0, 9.0, 9.0, 4.0, 9.0, 4.0, 4.0, 5.0, 9.0, 9.0, 5.0, 9.0, 2.0, 2.0, 9.0, 2.0, 9.0, 3.0, 2.0, 2.0, 1.0, 2.0, 2.0, 9.929101943969727, 9.915074348449707, 9.787193298339844, 9.552759170532227, 9.433721542358398, 9.832013130187988, 9.756696701049805, 9.775679588317871, 1.265612244606018, 1.2656103372573853, 1.2656102180480957, 1.2656059265136719, 9.425481796264648, 9.142023086547852, 1.423290729522705, 1.4232889413833618, 1.4232903718948364, 1.4232852458953857, 1.4232845306396484, 1.280957579612732, 1.244273066520691, 1.098204255104065, 1.3217130899429321, 1.0418152809143066, 1.216917634010315, 2.816235065460205, 1.2846792936325073, 1.2882850170135498, 1.2621920108795166, 0.841952383518219, 8.260212898254395, 1.6089341640472412, 3.1845576763153076, 7.112949848175049, 1.9458332061767578, 2.836167573928833, 9.531864166259766, 2.2441487312316895, 9.936934471130371, 2.6999967098236084, 9.761186599731445, 9.907953262329102, 9.604312896728516, 9.531864166259766, 1.465847134590149, 1.4658443927764893, 1.4658430814743042, 1.4658418893814087, 3.5858347415924072, 3.226302146911621, 1.019262433052063, 1.0715411901474, 1.3206913471221924, 1.2363871335983276, 4.7818074226379395, 1.0847511291503906, 1.4355692863464355, 0.8766637444496155, 0.8766638040542603, 0.8766628503799438, 0.8766629695892334, 0.8766617178916931, 0.8766619563102722, 0.8766616582870483, 0.8766618967056274, 2.4344089031219482, 1.2947157621383667, 1.6023168563842773, 1.6023166179656982, 2.936758518218994, 4.281863689422607, 3.686948299407959, 4.526340484619141, 1.3518520593643188, 1.942514419555664, 2.8742880821228027, 4.326247215270996, 7.112949848175049, 4.617329120635986, 9.142023086547852, 9.425481796264648, 8.260212898254395, 5.4079461097717285, 5.063632011413574, 2.5225112438201904, 1.2350331544876099, 4.368771553039551, 1.5267516374588013, 4.580202102661133, 4.617329120635986, 2.0145151615142822, 0.9117094874382019, 0.9117107391357422, 0.9117093682289124, 0.8909714818000793, 0.8909704089164734, 0.8909704685211182, 5.4079461097717285, 2.123284101486206, 0.9689006209373474, 0.933609127998352, 0.9336076974868774, 5.5766377449035645, 0.7981485724449158, 0.7981492877006531, 1.01793372631073, 0.9991018772125244, 0.766546905040741, 1.0202962160110474, 1.02029550075531, 0.7481844425201416, 0.7341969013214111, 1.440049648284912, 2.8939244747161865, 3.3043015003204346, 3.5226683616638184, 4.7818074226379395, 7.112949848175049, 3.315959930419922, 3.5353548526763916, 3.8783304691314697, 3.215717077255249, 4.526340484619141, 3.390300989151001, 4.326247215270996, 8.260212898254395, 2.220017671585083, 2.9503445625305176, 9.531864166259766, 9.936934471130371, 1.942514419555664, 9.761186599731445, 9.907953262329102, 2.209805488586426, 2.2098236083984375, 1.2354607582092285, 1.384392499923706, 1.1387968063354492, 2.3295845985412598, 1.2847942113876343, 0.982905924320221, 1.278476357460022, 0.8911852836608887, 1.6316951513290405, 1.6556978225708008, 1.0264419317245483, 1.0264414548873901, 1.026442527770996, 0.8110201954841614, 0.8110201954841614, 0.8110190629959106, 0.7974967956542969, 0.7974967360496521, 2.3679442405700684, 0.7643392086029053, 0.7481664419174194, 1.0677354335784912, 1.0677344799041748, 1.067736029624939, 3.3043015003204346, 3.861870765686035, 0.7928701043128967, 0.792870044708252, 3.5226683616638184, 3.5353548526763916, 1.6188493967056274, 5.5766377449035645, 1.7925702333450317, 5.4079461097717285, 7.112949848175049, 2.8742880821228027, 2.8939244747161865, 9.425481796264648, 8.260212898254395, 1.7394462823867798, 9.756696701049805, 9.775679588317871, 9.433721542358398, 9.552759170532227, 2.9503445625305176, 9.787193298339844, 9.915074348449707, 9.929101943969727, 9.832013130187988, 1.4820410013198853, 1.4820431470870972, 2.529991865158081, 1.8034567832946777, 1.5375028848648071, 1.5375052690505981, 1.3715434074401855, 1.1532526016235352, 1.1532509326934814, 1.0961953401565552, 2.836167573928833, 1.0647788047790527, 2.9503445625305176, 0.862028956413269, 0.9879357218742371, 0.9879379272460938, 0.9879380464553833, 1.0046697854995728, 1.0046719312667847, 1.0046725273132324, 1.004670262336731, 0.8509212732315063, 0.8376814126968384, 0.8376821279525757, 0.8056408166885376, 1.31941556930542, 1.0810608863830566, 0.8691439032554626, 1.028175711631775, 0.7304163575172424, 1.2686097621917725, 4.326247215270996, 7.112949848175049, 1.7030237913131714, 5.5766377449035645, 9.531864166259766, 1.7394462823867798, 2.0145151615142822, 8.260212898254395, 9.832013130187988, 9.907953262329102, 9.756696701049805, 9.775679588317871, 9.604312896728516, 9.142023086547852, 4.617329120635986, 3.315959930419922, 2.8939244747161865, 2.642265558242798, 1.0065498352050781, 1.4640570878982544, 1.2481311559677124, 1.1531723737716675, 0.9147109389305115, 1.306780457496643, 0.8948366641998291, 1.0400689840316772, 1.0400662422180176, 1.0400681495666504, 0.8559066653251648, 0.8559074401855469, 0.8383264541625977, 0.8373785614967346, 0.9339271783828735, 0.9339284896850586, 0.933928906917572, 0.9339284896850586, 0.9339290261268616, 0.9339316487312317, 0.8071252703666687, 0.7970649600028992, 0.7970666885375977, 1.0340192317962646, 1.4868550300598145, 0.7767235040664673, 0.7767242193222046, 0.7767238616943359, 0.7767232656478882, 1.116593360900879, 2.395423173904419, 4.281863689422607, 3.1845576763153076, 3.390300989151001, 3.8783304691314697, 3.861870765686035, 2.3679442405700684, 3.686948299407959, 7.112949848175049, 2.4344089031219482, 3.315959930419922, 4.580202102661133, 8.260212898254395, 3.215717077255249, 9.425481796264648, 9.832013130187988, 9.756696701049805, 9.775679588317871, 4.368771553039551, 1.3158583641052246, 0.9820330142974854, 0.9820379018783569, 0.9416947960853577, 1.098742961883545, 0.9645255208015442, 1.0553025007247925, 1.5204594135284424, 1.1065315008163452, 0.8713331818580627, 0.8713356256484985, 0.8713324069976807, 0.8713376522064209, 0.8713380098342896, 0.8713371157646179, 0.890678882598877, 0.8906804919242859, 0.8913849592208862, 0.8913859724998474, 0.7763397097587585, 0.9282470345497131, 1.6088359355926514, 0.7255245447158813, 0.7250708937644958, 0.7250711917877197, 0.7250707149505615, 0.7250718474388123, 0.8267335295677185, 0.7201099991798401, 0.7201099395751953, 0.9991033673286438, 1.3484396934509277, 1.041843056678772, 1.285852074623108, 1.0801087617874146, 1.0801061391830444, 1.0801106691360474, 4.326247215270996, 4.526340484619141, 4.368771553039551, 9.142023086547852, 2.5225112438201904, 4.580202102661133, 9.761186599731445, 2.936758518218994, 9.832013130187988, 9.756696701049805, 9.775679588317871, 7.112949848175049, 8.260212898254395, 3.1845576763153076, 4.7818074226379395, 9.433721542358398, 9.936934471130371, 9.531864166259766, 9.907953262329102, 9.552759170532227, 1.4744980335235596, 1.4299921989440918, 0.8766456842422485, 0.8766477108001709, 0.8766478300094604, 0.8766497373580933, 0.8766512274742126, 0.8766523599624634, 0.7371758818626404, 0.737176239490509, 0.7371772527694702, 0.7348863482475281, 0.7348871827125549, 0.7348930239677429, 0.7348933219909668, 1.2142597436904907, 0.7569236755371094, 0.7569237947463989, 0.7569236755371094, 0.7569244503974915, 0.7569240927696228, 0.7569252848625183, 0.7569246292114258, 0.756925106048584, 0.7569248676300049, 0.7569252848625183, 0.7569281458854675, 0.6825981140136719, 0.682598352432251, 0.6825991868972778, 1.128814935684204, 0.8233043551445007, 1.3119549751281738, 1.3643838167190552, 5.5766377449035645, 1.8034567832946777, 9.936934471130371, 9.604312896728516, 3.3043015003204346, 8.260212898254395, 9.552759170532227, 9.787193298339844, 9.915074348449707, 9.433721542358398, 9.929101943969727], \"Category\": [\"Default\", \"Default\", \"Default\", \"Default\", \"Default\", \"Default\", \"Default\", \"Default\", \"Default\", \"Default\", \"Default\", \"Default\", \"Default\", \"Default\", \"Default\", \"Default\", \"Default\", \"Default\", \"Default\", \"Default\", \"Default\", \"Default\", \"Default\", \"Default\", \"Default\", \"Default\", \"Default\", \"Default\", \"Default\", \"Default\", \"Topic1\", \"Topic1\", \"Topic1\", \"Topic1\", \"Topic1\", \"Topic1\", \"Topic1\", \"Topic1\", \"Topic1\", \"Topic1\", \"Topic1\", \"Topic1\", \"Topic1\", \"Topic1\", \"Topic1\", \"Topic1\", \"Topic1\", \"Topic1\", \"Topic1\", \"Topic1\", \"Topic1\", \"Topic1\", \"Topic1\", \"Topic1\", \"Topic1\", \"Topic1\", \"Topic1\", \"Topic1\", \"Topic1\", \"Topic1\", \"Topic1\", \"Topic1\", \"Topic1\", \"Topic1\", \"Topic1\", \"Topic1\", \"Topic1\", \"Topic2\", \"Topic2\", \"Topic2\", \"Topic2\", \"Topic2\", \"Topic2\", \"Topic2\", \"Topic2\", \"Topic2\", \"Topic2\", \"Topic2\", \"Topic2\", \"Topic2\", \"Topic2\", \"Topic2\", \"Topic2\", \"Topic2\", \"Topic2\", \"Topic2\", \"Topic2\", \"Topic2\", \"Topic2\", \"Topic2\", \"Topic2\", \"Topic2\", \"Topic2\", \"Topic2\", \"Topic2\", \"Topic2\", \"Topic2\", \"Topic2\", \"Topic2\", \"Topic2\", \"Topic2\", \"Topic2\", \"Topic2\", \"Topic2\", \"Topic2\", \"Topic2\", \"Topic2\", \"Topic2\", \"Topic2\", \"Topic2\", \"Topic2\", \"Topic2\", \"Topic2\", \"Topic3\", \"Topic3\", \"Topic3\", \"Topic3\", \"Topic3\", \"Topic3\", \"Topic3\", \"Topic3\", \"Topic3\", \"Topic3\", \"Topic3\", \"Topic3\", \"Topic3\", \"Topic3\", \"Topic3\", \"Topic3\", \"Topic3\", \"Topic3\", \"Topic3\", \"Topic3\", \"Topic3\", \"Topic3\", \"Topic3\", \"Topic3\", \"Topic3\", \"Topic3\", \"Topic3\", \"Topic3\", \"Topic3\", \"Topic3\", \"Topic3\", \"Topic3\", \"Topic3\", \"Topic3\", \"Topic3\", \"Topic3\", \"Topic3\", \"Topic3\", \"Topic3\", \"Topic3\", \"Topic3\", \"Topic3\", \"Topic3\", \"Topic3\", \"Topic3\", \"Topic3\", \"Topic3\", \"Topic3\", \"Topic3\", \"Topic3\", \"Topic4\", \"Topic4\", \"Topic4\", \"Topic4\", \"Topic4\", \"Topic4\", \"Topic4\", \"Topic4\", \"Topic4\", \"Topic4\", \"Topic4\", \"Topic4\", \"Topic4\", \"Topic4\", \"Topic4\", \"Topic4\", \"Topic4\", \"Topic4\", \"Topic4\", \"Topic4\", \"Topic4\", \"Topic4\", \"Topic4\", \"Topic4\", \"Topic4\", \"Topic4\", \"Topic4\", \"Topic4\", \"Topic4\", \"Topic4\", \"Topic4\", \"Topic4\", \"Topic4\", \"Topic4\", \"Topic4\", \"Topic4\", \"Topic4\", \"Topic4\", \"Topic4\", \"Topic4\", \"Topic4\", \"Topic4\", \"Topic4\", \"Topic4\", \"Topic4\", \"Topic4\", \"Topic4\", \"Topic4\", \"Topic4\", \"Topic4\", \"Topic4\", \"Topic5\", \"Topic5\", \"Topic5\", \"Topic5\", \"Topic5\", \"Topic5\", \"Topic5\", \"Topic5\", \"Topic5\", \"Topic5\", \"Topic5\", \"Topic5\", \"Topic5\", \"Topic5\", \"Topic5\", \"Topic5\", \"Topic5\", \"Topic5\", \"Topic5\", \"Topic5\", \"Topic5\", \"Topic5\", \"Topic5\", \"Topic5\", \"Topic5\", \"Topic5\", \"Topic5\", \"Topic5\", \"Topic5\", \"Topic5\", \"Topic5\", \"Topic5\", \"Topic5\", \"Topic5\", \"Topic5\", \"Topic5\", \"Topic5\", \"Topic5\", \"Topic5\", \"Topic5\", \"Topic5\", \"Topic5\", \"Topic5\", \"Topic5\", \"Topic5\", \"Topic5\", \"Topic5\", \"Topic5\", \"Topic6\", \"Topic6\", \"Topic6\", \"Topic6\", \"Topic6\", \"Topic6\", \"Topic6\", \"Topic6\", \"Topic6\", \"Topic6\", \"Topic6\", \"Topic6\", \"Topic6\", \"Topic6\", \"Topic6\", \"Topic6\", \"Topic6\", \"Topic6\", \"Topic6\", \"Topic6\", \"Topic6\", \"Topic6\", \"Topic6\", \"Topic6\", \"Topic6\", \"Topic6\", \"Topic6\", \"Topic6\", \"Topic6\", \"Topic6\", \"Topic6\", \"Topic6\", \"Topic6\", \"Topic6\", \"Topic6\", \"Topic6\", \"Topic6\", \"Topic6\", \"Topic6\", \"Topic6\", \"Topic6\", \"Topic6\", \"Topic6\", \"Topic6\", \"Topic6\", \"Topic6\", \"Topic6\", \"Topic6\", \"Topic6\", \"Topic6\", \"Topic7\", \"Topic7\", \"Topic7\", \"Topic7\", \"Topic7\", \"Topic7\", \"Topic7\", \"Topic7\", \"Topic7\", \"Topic7\", \"Topic7\", \"Topic7\", \"Topic7\", \"Topic7\", \"Topic7\", \"Topic7\", \"Topic7\", \"Topic7\", \"Topic7\", \"Topic7\", \"Topic7\", \"Topic7\", \"Topic7\", \"Topic7\", \"Topic7\", \"Topic7\", \"Topic7\", \"Topic7\", \"Topic7\", \"Topic7\", \"Topic7\", \"Topic7\", \"Topic7\", \"Topic7\", \"Topic7\", \"Topic7\", \"Topic7\", \"Topic7\", \"Topic7\", \"Topic7\", \"Topic7\", \"Topic7\", \"Topic7\", \"Topic7\", \"Topic7\", \"Topic7\", \"Topic7\", \"Topic7\", \"Topic7\", \"Topic7\", \"Topic7\", \"Topic7\", \"Topic7\", \"Topic7\", \"Topic7\", \"Topic7\", \"Topic7\", \"Topic8\", \"Topic8\", \"Topic8\", \"Topic8\", \"Topic8\", \"Topic8\", \"Topic8\", \"Topic8\", \"Topic8\", \"Topic8\", \"Topic8\", \"Topic8\", \"Topic8\", \"Topic8\", \"Topic8\", \"Topic8\", \"Topic8\", \"Topic8\", \"Topic8\", \"Topic8\", \"Topic8\", \"Topic8\", \"Topic8\", \"Topic8\", \"Topic8\", \"Topic8\", \"Topic8\", \"Topic8\", \"Topic8\", \"Topic8\", \"Topic8\", \"Topic8\", \"Topic8\", \"Topic8\", \"Topic8\", \"Topic8\", \"Topic8\", \"Topic8\", \"Topic8\", \"Topic8\", \"Topic8\", \"Topic8\", \"Topic8\", \"Topic8\", \"Topic8\"], \"logprob\": [30.0, 29.0, 28.0, 27.0, 26.0, 25.0, 24.0, 23.0, 22.0, 21.0, 20.0, 19.0, 18.0, 17.0, 16.0, 15.0, 14.0, 13.0, 12.0, 11.0, 10.0, 9.0, 8.0, 7.0, 6.0, 5.0, 4.0, 3.0, 2.0, 1.0, -3.0931999683380127, -3.09660005569458, -3.1166999340057373, -3.1533000469207764, -3.2105000019073486, -3.2502999305725098, -3.2641000747680664, -3.2718000411987305, -5.349299907684326, -5.349299907684326, -5.349299907684326, -5.349299907684326, -3.357300043106079, -3.4077000617980957, -5.282299995422363, -5.282299995422363, -5.282299995422363, -5.282299995422363, -5.282299995422363, -5.4079999923706055, -5.438600063323975, -5.583099842071533, -5.408100128173828, -5.6757001876831055, -5.53980016708374, -4.700699806213379, -5.61460018157959, -5.61460018157959, -5.638000011444092, -6.097899913787842, -3.862499952316284, -5.497300148010254, -5.204899787902832, -4.979599952697754, -5.519999980926514, -5.490099906921387, -5.4882001876831055, -4.394499778747559, -2.9237000942230225, -4.258500099182129, -3.0143001079559326, -3.006500005722046, -3.0889999866485596, -3.168299913406372, -5.106599807739258, -5.106599807739258, -5.106599807739258, -5.106599807739258, -4.2505998611450195, -4.408999919891357, -5.564000129699707, -5.5441999435424805, -5.340199947357178, -5.408699989318848, -4.098299980163574, -5.609899997711182, -5.33489990234375, -5.863100051879883, -5.863100051879883, -5.863100051879883, -5.863100051879883, -5.863100051879883, -5.863100051879883, -5.863100051879883, -5.863100051879883, -4.860000133514404, -5.4918999671936035, -5.293399810791016, -5.293399810791016, -4.788899898529053, -4.4770002365112305, -4.650899887084961, -4.482399940490723, -5.5366997718811035, -5.311299800872803, -5.079899787902832, -4.9131999015808105, -4.980899810791016, -5.148200035095215, -4.994999885559082, -4.990099906921387, -5.040999889373779, -5.188000202178955, -3.108299970626831, -4.12939977645874, -4.877099990844727, -3.6201999187469482, -4.684800148010254, -3.592600107192993, -3.614000082015991, -4.627999782562256, -5.431700229644775, -5.43179988861084, -5.43179988861084, -5.480500221252441, -5.480500221252441, -5.480500221252441, -3.6823999881744385, -4.693999767303467, -5.503399848937988, -5.550899982452393, -5.550899982452393, -3.7827000617980957, -5.733399868011475, -5.733500003814697, -5.503499984741211, -5.5366997718811035, -5.83650016784668, -5.557499885559082, -5.557499885559082, -5.901700019836426, -5.954400062561035, -5.281300067901611, -4.654600143432617, -4.5594000816345215, -4.575900077819824, -4.547900199890137, -4.299699783325195, -4.804699897766113, -4.783400058746338, -4.808599948883057, -4.911499977111816, -4.742000102996826, -4.92080020904541, -4.812600135803223, -4.617700099945068, -5.143899917602539, -5.126800060272217, -5.009200096130371, -5.0416998863220215, -5.317200183868408, -5.088099956512451, -5.090400218963623, -4.170899868011475, -4.171000003814697, -4.763800144195557, -4.66379976272583, -4.900400161743164, -4.238500118255615, -4.861400127410889, -5.169600009918213, -4.912399768829346, -5.369900226593018, -4.816100120544434, -4.853300094604492, -5.342599868774414, -5.342599868774414, -5.342700004577637, -5.585599899291992, -5.585599899291992, -5.585700035095215, -5.626999855041504, -5.626999855041504, -4.586900234222412, -5.736599922180176, -5.7947001457214355, -5.441199779510498, -5.441199779510498, -5.441199779510498, -4.326099872589111, -4.171500205993652, -5.777200222015381, -5.777200222015381, -4.303800106048584, -4.348800182342529, -5.117099761962891, -4.222799777984619, -5.164000034332275, -4.5609002113342285, -4.512400150299072, -4.960400104522705, -4.994900226593018, -4.505000114440918, -4.616499900817871, -5.263000011444092, -4.921800136566162, -4.923399925231934, -4.944300174713135, -4.972700119018555, -5.163599967956543, -5.030799865722656, -5.042300224304199, -5.065299987792969, -5.101799964904785, -4.504199981689453, -4.504199981689453, -3.990799903869629, -4.369800090789795, -4.535099983215332, -4.535099983215332, -4.757199764251709, -4.971700191497803, -4.971799850463867, -5.034800052642822, -4.0929999351501465, -5.1209001541137695, -4.131499767303467, -5.3881001472473145, -5.259200096130371, -5.259200096130371, -5.259200096130371, -5.248499870300293, -5.248499870300293, -5.248499870300293, -5.248600006103516, -5.417799949645996, -5.454500198364258, -5.454500198364258, -5.5493998527526855, -5.065999984741211, -5.332200050354004, -5.55079984664917, -5.466800212860107, -5.8140997886657715, -5.387400150299072, -4.80019998550415, -4.5671000480651855, -5.256499767303467, -4.77400016784668, -4.564700126647949, -5.256700038909912, -5.222799777984619, -5.005300045013428, -5.001200199127197, -5.002200126647949, -5.020400047302246, -5.020599842071533, -5.090799808502197, -5.096499919891357, -5.164100170135498, -5.197400093078613, -5.211299896240234, -4.032400131225586, -5.055600166320801, -4.690999984741211, -4.879899978637695, -4.978400230407715, -5.248199939727783, -4.8942999839782715, -5.295400142669678, -5.156799793243408, -5.156799793243408, -5.156799793243408, -5.394700050354004, -5.394700050354004, -5.44290018081665, -5.4456000328063965, -5.365099906921387, -5.365099906921387, -5.365099906921387, -5.365099906921387, -5.365099906921387, -5.365200042724609, -5.534900188446045, -5.566299915313721, -5.566400051116943, -5.30810022354126, -4.953400135040283, -5.633299827575684, -5.633299827575684, -5.633299827575684, -5.633399963378906, -5.282299995422363, -4.5721001625061035, -4.159800052642822, -4.4191999435424805, -4.385000228881836, -4.296899795532227, -4.3744001388549805, -4.770500183105469, -4.530700206756592, -4.389500141143799, -4.906899929046631, -5.030900001525879, -5.032100200653076, -4.941299915313721, -5.155900001525879, -5.024499893188477, -5.083899974822998, -5.10290002822876, -5.10290002822876, -5.195300102233887, -4.617199897766113, -4.938799858093262, -4.938899993896484, -5.023799896240234, -4.921299934387207, -5.065499782562256, -5.054900169372559, -4.746200084686279, -5.071000099182129, -5.316199779510498, -5.316199779510498, -5.316199779510498, -5.316199779510498, -5.316199779510498, -5.316299915313721, -5.307700157165527, -5.307700157165527, -5.3343000411987305, -5.3343000411987305, -5.4741997718811035, -5.386499881744385, -4.859399795532227, -5.666500091552734, -5.668399810791016, -5.668399810791016, -5.668399810791016, -5.668399810791016, -5.53980016708374, -5.6894001960754395, -5.6894001960754395, -5.368800163269043, -5.157299995422363, -5.3780999183654785, -5.255300045013428, -5.404300212860107, -5.404300212860107, -5.404300212860107, -4.684500217437744, -4.6819000244140625, -4.771399974822998, -4.457200050354004, -5.0243000984191895, -4.8053998947143555, -4.593699932098389, -5.010900020599365, -4.763599872589111, -4.783299922943115, -4.783299922943115, -4.86359977722168, -4.8979997634887695, -5.087699890136719, -5.083199977874756, -5.004499912261963, -5.017199993133545, -5.089099884033203, -5.124499797821045, -5.152500152587891, -4.213399887084961, -4.534200191497803, -5.097099781036377, -5.097099781036377, -5.0971999168396, -5.0971999168396, -5.0971999168396, -5.0971999168396, -5.359600067138672, -5.359600067138672, -5.359600067138672, -5.369100093841553, -5.369100093841553, -5.369100093841553, -5.369200229644775, -4.905200004577637, -5.44189977645874, -5.44189977645874, -5.44189977645874, -5.44189977645874, -5.441999912261963, -5.441999912261963, -5.441999912261963, -5.441999912261963, -5.441999912261963, -5.441999912261963, -5.441999912261963, -5.613699913024902, -5.613800048828125, -5.613800048828125, -5.196700096130371, -5.507199764251709, -5.325500011444092, -5.3308000564575195, -5.171999931335449, -5.331500053405762, -5.127299785614014, -5.1468000411987305, -5.316400051116943, -5.321100234985352, -5.335700035095215, -5.335700035095215, -5.346199989318848, -5.357699871063232, -5.366600036621094], \"loglift\": [30.0, 29.0, 28.0, 27.0, 26.0, 25.0, 24.0, 23.0, 22.0, 21.0, 20.0, 19.0, 18.0, 17.0, 16.0, 15.0, 14.0, 13.0, 12.0, 11.0, 10.0, 9.0, 8.0, 7.0, 6.0, 5.0, 4.0, 3.0, 2.0, 1.0, 1.2802000045776367, 1.2783000469207764, 1.2711999416351318, 1.2588000297546387, 1.2141000032424927, 1.1330000162124634, 1.1268999576568604, 1.1172000169754028, 1.0841000080108643, 1.0841000080108643, 1.0841000080108643, 1.0841000080108643, 1.0683000087738037, 1.0484000444412231, 1.0335999727249146, 1.0335999727249146, 1.0335999727249146, 1.0335999727249146, 1.0335999727249146, 1.0132999420166016, 1.0118000507354736, 0.9922000169754028, 0.9818999767303467, 0.9521999955177307, 0.9327999949455261, 0.9327999949455261, 0.8037999868392944, 0.8009999990463257, 0.7979999780654907, 0.7430999875068665, 0.6949999928474426, 0.6960999965667725, 0.30570000410079956, -0.27250000834465027, 0.4832000136375427, 0.1362999975681305, -1.0738999843597412, 1.4660999774932861, 1.4488999843597412, 1.417099952697754, 1.3762999773025513, 1.3690999746322632, 1.3177000284194946, 1.246000051498413, 1.179900050163269, 1.179900050163269, 1.179900050163269, 1.179900050163269, 1.1412999629974365, 1.0886000394821167, 1.0858999490737915, 1.0556000471115112, 1.0506000518798828, 1.0479999780654907, 1.0058000087738037, 0.9776999950408936, 0.9725000262260437, 0.9375, 0.9375, 0.9375, 0.9375, 0.9373999834060669, 0.9373999834060669, 0.9373999834060669, 0.9373999834060669, 0.9192000031471252, 0.9186999797821045, 0.9041000008583069, 0.9041000008583069, 0.8027999997138977, 0.737500011920929, 0.7132999897003174, 0.6765999794006348, 0.8307999968528748, 0.6937000155448914, 0.5332000255584717, 0.29100000858306885, -0.27390000224113464, -0.009100000374019146, -0.5389000177383423, -0.5645999908447266, -0.48350000381469727, -0.2070000022649765, 1.938599944114685, 1.614300012588501, 1.5807000398635864, 1.5743000507354736, 1.5609999895095825, 1.5546000003814697, 1.5250999927520752, 1.340499997138977, 1.3295999765396118, 1.3295999765396118, 1.3295999765396118, 1.3039000034332275, 1.3039000034332275, 1.3039000034332275, 1.298699975013733, 1.222000002861023, 1.197100043296814, 1.1866999864578247, 1.1866999864578247, 1.1676000356674194, 1.1610000133514404, 1.1608999967575073, 1.1476999521255493, 1.1331000328063965, 1.0982999801635742, 1.0914000272750854, 1.0913000106811523, 1.0573999881744385, 1.0234999656677246, 1.0228999853134155, 0.95169997215271, 0.9143000245094299, 0.8338000178337097, 0.5562999844551086, 0.4072999954223633, 0.6654999852180481, 0.6226999759674072, 0.5048999786376953, 0.5893999934196472, 0.4169999957084656, 0.5271999835968018, 0.39169999957084656, -0.06019999831914902, 0.7275000214576721, 0.4602000117301941, -0.5949000120162964, -0.6690000295639038, 0.6877999901771545, -0.6976000070571899, -0.7148000001907349, 1.7051000595092773, 1.7050000429153442, 1.6936999559402466, 1.679800033569336, 1.6384999752044678, 1.5846999883651733, 1.5569000244140625, 1.5164999961853027, 1.5109000205993652, 1.414199948310852, 1.3631999492645264, 1.311400055885315, 1.3001999855041504, 1.3001999855041504, 1.3000999689102173, 1.292799949645996, 1.292799949645996, 1.2927000522613525, 1.2682000398635864, 1.2682000398635864, 1.2200000286102295, 1.2010999917984009, 1.1643999814987183, 1.1621999740600586, 1.1620999574661255, 1.1620999574661255, 1.1476000547409058, 1.146299958229065, 1.1238000392913818, 1.1238000392913818, 1.1059999465942383, 1.0572999715805054, 1.070099949836731, 0.7275000214576721, 0.9211999773979187, 0.42010000348091125, 0.19460000097751617, 0.6528000235557556, 0.6114000082015991, -0.0794999971985817, -0.05900000035762787, 0.852400004863739, -0.5307999849319458, -0.5343999862670898, -0.519599974155426, -0.5605999827384949, 0.42340001463890076, -0.6430000066757202, -0.6675000190734863, -0.6917999982833862, -0.718500018119812, 1.771299958229065, 1.771299958229065, 1.749899983406067, 1.7094000577926636, 1.7036999464035034, 1.7036000490188599, 1.5958000421524048, 1.5546000003814697, 1.5546000003814697, 1.5422999858856201, 1.5334999561309814, 1.485200047492981, 1.4555000066757202, 1.4292999505996704, 1.4219000339508057, 1.4219000339508057, 1.4218000173568726, 1.4156999588012695, 1.4156999588012695, 1.4156999588012695, 1.4156999588012695, 1.412600040435791, 1.3916000127792358, 1.3914999961853027, 1.3357000350952148, 1.3257999420166016, 1.2588000297546387, 1.2583999633789062, 1.174299955368042, 1.1690000295639038, 1.0435999631881714, 0.4041000008583069, 0.13989999890327454, 0.8801000118255615, 0.17640000581741333, -0.15039999783039093, 0.8586999773979187, 0.7458000183105469, -0.44780001044273376, -0.617900013923645, -0.6266000270843506, -0.6294000148773193, -0.631600022315979, -0.6840999722480774, -0.6403999924659729, -0.02500000037252903, 0.2727999985218048, 0.39500001072883606, 1.6648999452590942, 1.6067999601364136, 1.5966999530792236, 1.5673999786376953, 1.5479999780654907, 1.5097999572753906, 1.5069999694824219, 1.4846999645233154, 1.4728000164031982, 1.4728000164031982, 1.4728000164031982, 1.429800033569336, 1.429800033569336, 1.402400016784668, 1.4007999897003174, 1.3722000122070312, 1.3722000122070312, 1.3722000122070312, 1.3722000122070312, 1.3722000122070312, 1.3720999956130981, 1.3482999801635742, 1.3293999433517456, 1.3293999433517456, 1.3273999691009521, 1.3187999725341797, 1.2883000373840332, 1.2883000373840332, 1.2883000373840332, 1.2882000207901, 1.2762999534606934, 1.2232999801635742, 1.0547000169754028, 1.0915000438690186, 1.062999963760376, 1.0166000127792358, 0.9433000087738037, 1.0363999605178833, 0.8334000110626221, 0.3176000118255615, 0.8723999857902527, 0.4392000138759613, 0.11509999632835388, -0.383899986743927, 0.3449000120162964, -0.5989999771118164, -0.7006000280380249, -0.711899995803833, -0.7139000296592712, -0.0007999999797903001, 1.7771999835968018, 1.7482000589370728, 1.7481000423431396, 1.705199956893921, 1.653499960899353, 1.6396000385284424, 1.5601999759674072, 1.5038000345230103, 1.4967000484466553, 1.490399956703186, 1.490399956703186, 1.490399956703186, 1.490399956703186, 1.490399956703186, 1.490399956703186, 1.4769999980926514, 1.4769999980926514, 1.4495999813079834, 1.4495999813079834, 1.4479000568389893, 1.3568999767303467, 1.3341000080108643, 1.3233000040054321, 1.3220000267028809, 1.3220000267028809, 1.3220000267028809, 1.3220000267028809, 1.3193999528884888, 1.3078999519348145, 1.3078999519348145, 1.3009999990463257, 1.2127000093460083, 1.2497999668121338, 1.1621999740600586, 1.187600016593933, 1.187600016593933, 1.1875, 0.5198000073432922, 0.4771000146865845, 0.42309999465942383, -0.0010999999940395355, 0.7192999720573425, 0.3418000042438507, -0.20319999754428864, 0.5806999802589417, -0.38029998540878296, -0.392300009727478, -0.39430001378059387, -0.1565999984741211, -0.34049999713897705, 0.42289999127388, 0.020899999886751175, -0.579800009727478, -0.644599974155426, -0.6747999787330627, -0.7490000128746033, -0.7404000163078308, 2.067199945449829, 1.7769999504089355, 1.7034000158309937, 1.7034000158309937, 1.7034000158309937, 1.7034000158309937, 1.7034000158309937, 1.7034000158309937, 1.614300012588501, 1.614300012588501, 1.6141999959945679, 1.6079000234603882, 1.6079000234603882, 1.607800006866455, 1.607800006866455, 1.569599986076355, 1.5054999589920044, 1.5054999589920044, 1.5054999589920044, 1.5054999589920044, 1.5054999589920044, 1.5054999589920044, 1.5054999589920044, 1.5054999589920044, 1.5054999589920044, 1.5053999423980713, 1.5053999423980713, 1.437000036239624, 1.437000036239624, 1.437000036239624, 1.3509999513626099, 1.3560999631881714, 1.0720000267028809, 1.027400016784668, -0.22169999778270721, 0.7476999759674072, -0.7545999884605408, -0.7401000261306763, 0.15729999542236328, -0.763700008392334, -0.9236000180244446, -0.9477999806404114, -0.9713000059127808, -0.9330000281333923, -0.9932000041007996]}, \"token.table\": {\"Topic\": [4, 1, 2, 3, 5, 2, 3, 4, 3, 1, 4, 1, 2, 3, 4, 5, 6, 7, 1, 2, 3, 5, 7, 1, 2, 4, 5, 7, 5, 2, 1, 5, 5, 2, 6, 5, 2, 1, 4, 2, 8, 2, 1, 2, 5, 1, 3, 1, 4, 1, 1, 2, 6, 1, 2, 4, 3, 6, 1, 1, 4, 4, 7, 1, 2, 3, 5, 3, 2, 3, 1, 2, 5, 2, 7, 1, 5, 6, 7, 1, 2, 3, 6, 1, 4, 6, 2, 3, 4, 3, 1, 4, 1, 3, 3, 1, 4, 2, 4, 3, 4, 6, 2, 3, 6, 1, 2, 1, 2, 3, 7, 2, 6, 2, 1, 2, 3, 5, 1, 3, 4, 5, 2, 1, 2, 5, 1, 2, 6, 7, 2, 3, 1, 4, 1, 4, 8, 1, 2, 4, 5, 7, 4, 6, 1, 2, 3, 7, 4, 2, 3, 1, 5, 3, 6, 7, 5, 1, 1, 2, 2, 5, 4, 2, 1, 2, 4, 5, 7, 3, 4, 4, 1, 2, 1, 2, 4, 5, 6, 7, 1, 6, 3, 4, 5, 4, 6, 2, 4, 1, 2, 3, 4, 5, 6, 7, 3, 1, 2, 6, 6, 1, 1, 6, 1, 4, 3, 4, 2, 1, 2, 4, 6, 4, 3, 2, 2, 6, 3, 7, 2, 3, 2, 1, 5], \"Freq\": [0.6039749383926392, 0.10491127520799637, 0.6294676065444946, 0.10491127520799637, 0.10491127520799637, 0.18491308391094208, 0.554739236831665, 0.18491308391094208, 0.4709685444831848, 0.7420189380645752, 0.10600270330905914, 0.140588641166687, 0.140588641166687, 0.140588641166687, 0.140588641166687, 0.140588641166687, 0.140588641166687, 0.140588641166687, 0.23114721477031708, 0.23114721477031708, 0.23114721477031708, 0.23114721477031708, 0.23114721477031708, 0.6149622201919556, 0.10249370336532593, 0.10249370336532593, 0.10249370336532593, 0.10249370336532593, 0.7579113245010376, 0.9811015725135803, 0.7922725081443787, 0.6504042744636536, 0.7291055917739868, 0.37846308946609497, 0.37846308946609497, 0.8671126961708069, 0.7407416701316833, 0.8036820888519287, 0.4525248110294342, 0.6965877413749695, 0.678196907043457, 0.6822006702423096, 0.5139186382293701, 0.6240963935852051, 0.9122461676597595, 0.776225745677948, 0.6944205164909363, 0.8068522214889526, 0.10085652768611908, 0.7025973200798035, 0.7025980353355408, 0.4174627661705017, 0.4174627661705017, 0.7101680040359497, 0.35508400201797485, 1.017391324043274, 0.29495906829833984, 0.29495906829833984, 0.702599823474884, 0.7901327013969421, 0.8781197667121887, 0.7821810841560364, 0.9101309776306152, 0.10411988943815231, 0.7288392186164856, 0.10411988943815231, 0.10411988943815231, 0.8096948862075806, 0.8050772547721863, 0.10063465684652328, 0.790135383605957, 0.6822012662887573, 0.6504052877426147, 0.5147966742515564, 0.62156742811203, 0.7565938830375671, 0.7905163764953613, 0.7652394771575928, 0.7599602341651917, 0.301571786403656, 0.301571786403656, 0.301571786403656, 0.301571786403656, 0.2589418590068817, 0.2589418590068817, 0.2589418590068817, 0.2828570306301117, 0.2828570306301117, 0.2828570306301117, 0.49639734625816345, 0.8057123422622681, 0.10071404278278351, 0.3109726309776306, 0.3109726309776306, 0.45044687390327454, 0.7327725887298584, 0.10468179732561111, 0.5578581690788269, 0.5578581690788269, 0.2838757038116455, 0.2838757038116455, 0.8671730756759644, 0.25784289836883545, 0.25784289836883545, 0.25784289836883545, 0.7784044146537781, 0.6821993589401245, 0.22092902660369873, 0.44185805320739746, 0.22092902660369873, 0.22092902660369873, 0.7571792006492615, 0.6725605130195618, 0.7723702788352966, 0.10092902183532715, 0.70650315284729, 0.10092902183532715, 0.10092902183532715, 0.7901314496994019, 0.3389434516429901, 0.3389434516429901, 0.3389434516429901, 0.9218704104423523, 0.8217483162879944, 0.3405114710330963, 0.6747451424598694, 0.23354317247867584, 0.4670863449573517, 0.23354317247867584, 0.6576959490776062, 0.4182519018650055, 0.20912595093250275, 0.9598630666732788, 0.8094146251678467, 0.7152203917503357, 0.10217434167861938, 0.6993045210838318, 0.6137680411338806, 0.1022946760058403, 0.1022946760058403, 0.1022946760058403, 0.1022946760058403, 0.42230725288391113, 0.42230725288391113, 0.10244656354188919, 0.7171259522438049, 0.10244656354188919, 0.10244656354188919, 0.6128595471382141, 0.21657541394233704, 0.6497262716293335, 0.7901325821876526, 0.674744188785553, 0.654992938041687, 0.218330979347229, 0.218330979347229, 0.8671139478683472, 0.7026001811027527, 0.6215294599533081, 0.933235228061676, 0.6240962743759155, 0.5544906854629517, 0.4525285065174103, 0.7397258877754211, 0.6563098430633545, 0.10938497632741928, 0.10938497632741928, 0.10938497632741928, 0.10938497632741928, 0.3455515205860138, 0.3455515205860138, 0.42926108837127686, 0.27887508273124695, 0.5577501654624939, 0.7119600176811218, 0.10170856863260269, 0.10170856863260269, 0.10170856863260269, 0.10170856863260269, 0.10170856863260269, 0.31401535868644714, 0.31401535868644714, 0.35863903164863586, 0.17931951582431793, 0.17931951582431793, 0.7223384976387024, 0.6830334663391113, 0.3479122519493103, 0.3479122519493103, 0.4842490255832672, 0.1210622563958168, 0.1210622563958168, 0.1210622563958168, 0.1210622563958168, 0.1210622563958168, 0.1210622563958168, 0.6549853682518005, 0.27122703194618225, 0.27122703194618225, 0.27122703194618225, 0.9934927821159363, 0.7806659936904907, 0.7025971412658691, 0.8011978268623352, 0.9105774164199829, 0.6177226901054382, 0.3026358187198639, 0.3026358187198639, 0.8912065029144287, 0.6365722417831421, 0.10609537363052368, 0.10609537363052368, 0.10609537363052368, 0.7783347368240356, 0.7928606867790222, 0.6199047565460205, 0.41077733039855957, 0.41077733039855957, 0.6866918802261353, 0.2288973033428192, 0.6822018027305603, 0.7899467945098877, 0.8088081479072571, 0.3525884747505188, 0.3525884747505188], \"Term\": [\"2020\", \"a\", \"a\", \"a\", \"a\", \"after\", \"after\", \"after\", \"all\", \"amp\", \"amp\", \"and\", \"and\", \"and\", \"and\", \"and\", \"and\", \"and\", \"are\", \"are\", \"are\", \"are\", \"are\", \"at\", \"at\", \"at\", \"at\", \"at\", \"attack\", \"aur\", \"backhandindexpointingdown\", \"bai\", \"bandittalro\", \"be\", \"be\", \"beat\", \"bloody\", \"bluebirdie\", \"broad\", \"but\", \"cacsexa\\u2026\", \"chahal\", \"coincidence\", \"condition\", \"dboss\", \"down\", \"ek\", \"every\", \"every\", \"facewithhandovermouth\", \"facewithmedicalmask\", \"facewithrollingeyes\", \"facewithrollingeyes\", \"facewithtearsofjoy\", \"facewithtearsofjoy\", \"facewiththermometer\", \"fan\", \"fan\", \"fans\\u2026\", \"far\", \"feel\", \"first\", \"foldedhandslightskintone\", \"for\", \"for\", \"for\", \"for\", \"friend\", \"fuck\", \"fuck\", \"fucked\", \"fun\", \"ge\", \"god\", \"hai\", \"have\", \"heart\", \"heartattack\", \"hell\", \"his\", \"his\", \"his\", \"his\", \"i\", \"i\", \"i\", \"in\", \"in\", \"in\", \"including\", \"indian\", \"indian\", \"is\", \"is\", \"it\", \"joking\", \"joking\", \"just\", \"just\", \"le\", \"le\", \"lieheheheh\", \"like\", \"like\", \"like\", \"little\", \"making\", \"me\", \"me\", \"me\", \"me\", \"meanwhile\", \"mini\", \"misleading\", \"moment\", \"moment\", \"moment\", \"moment\", \"most\", \"my\", \"my\", \"my\", \"naik008\", \"need\", \"of\", \"omg\", \"on\", \"on\", \"on\", \"out\", \"people\", \"people\", \"pm\", \"poutingface\", \"rn\", \"rn\", \"rollingonthefloorlaughing\", \"same\", \"same\", \"same\", \"same\", \"same\", \"saw\", \"saw\", \"scared\", \"scared\", \"scared\", \"scared\", \"scary\", \"seeing\", \"seeing\", \"seen\", \"seenoevilmonkey\", \"singh\", \"singh\", \"singh\", \"skipped\", \"smirkingface\", \"so\", \"some\", \"started\", \"stopped\", \"stuart\", \"thank\", \"the\", \"the\", \"the\", \"the\", \"the\", \"these\", \"these\", \"they\", \"this\", \"this\", \"time\", \"time\", \"time\", \"time\", \"time\", \"time\", \"to\", \"to\", \"together\", \"together\", \"together\", \"too\", \"top\", \"trend\", \"trend\", \"trending\", \"trending\", \"trending\", \"trending\", \"trending\", \"trending\", \"trending\", \"tulip\", \"twitter\", \"twitter\", \"twitter\", \"twitteraties\", \"up\", \"upsidedownface\", \"vandana\", \"verma0\", \"wa\", \"watching\", \"watching\", \"whats\", \"when\", \"when\", \"when\", \"when\", \"winkingface\", \"writing\", \"you\", \"yuvi\", \"yuvi\", \"yuvraj\", \"yuvraj\", \"yuzvendra\", \"\\u091c\\u0928\\u0928\\u093e\\u092f\\u0915\\u091b\\u093e\\u0924\\u094d\\u0930\\u094b\\u0902\\u2026\", \"\\u0939\\u0948\", \"\\u2026\", \"\\u2026\"]}, \"R\": 30, \"lambda.step\": 0.01, \"plot.opts\": {\"xlab\": \"PC1\", \"ylab\": \"PC2\"}, \"topic.order\": [7, 8, 6, 3, 2, 1, 4, 5]};\n",
              "\n",
              "function LDAvis_load_lib(url, callback){\n",
              "  var s = document.createElement('script');\n",
              "  s.src = url;\n",
              "  s.async = true;\n",
              "  s.onreadystatechange = s.onload = callback;\n",
              "  s.onerror = function(){console.warn(\"failed to load library \" + url);};\n",
              "  document.getElementsByTagName(\"head\")[0].appendChild(s);\n",
              "}\n",
              "\n",
              "if(typeof(LDAvis) !== \"undefined\"){\n",
              "   // already loaded: just create the visualization\n",
              "   !function(LDAvis){\n",
              "       new LDAvis(\"#\" + \"ldavis_el1221401145124733288331908877\", ldavis_el1221401145124733288331908877_data);\n",
              "   }(LDAvis);\n",
              "}else if(typeof define === \"function\" && define.amd){\n",
              "   // require.js is available: use it to load d3/LDAvis\n",
              "   require.config({paths: {d3: \"https://cdnjs.cloudflare.com/ajax/libs/d3/3.5.5/d3.min\"}});\n",
              "   require([\"d3\"], function(d3){\n",
              "      window.d3 = d3;\n",
              "      LDAvis_load_lib(\"https://cdn.rawgit.com/bmabey/pyLDAvis/files/ldavis.v1.0.0.js\", function(){\n",
              "        new LDAvis(\"#\" + \"ldavis_el1221401145124733288331908877\", ldavis_el1221401145124733288331908877_data);\n",
              "      });\n",
              "    });\n",
              "}else{\n",
              "    // require.js not available: dynamically load d3 & LDAvis\n",
              "    LDAvis_load_lib(\"https://cdnjs.cloudflare.com/ajax/libs/d3/3.5.5/d3.min.js\", function(){\n",
              "         LDAvis_load_lib(\"https://cdn.rawgit.com/bmabey/pyLDAvis/files/ldavis.v1.0.0.js\", function(){\n",
              "                 new LDAvis(\"#\" + \"ldavis_el1221401145124733288331908877\", ldavis_el1221401145124733288331908877_data);\n",
              "            })\n",
              "         });\n",
              "}\n",
              "</script>"
            ],
            "text/plain": [
              "PreparedData(topic_coordinates=              x         y  topics  cluster       Freq\n",
              "topic                                                \n",
              "6      0.159386 -0.015593       1        1  21.481840\n",
              "7     -0.044442 -0.131947       2        1  18.268526\n",
              "5     -0.093433  0.027051       3        1  12.654514\n",
              "2      0.003642  0.044027       4        1  11.269789\n",
              "1     -0.018690  0.042025       5        1  10.539447\n",
              "0     -0.006634  0.014585       6        1  10.428085\n",
              "3      0.003922 -0.007136       7        1   8.794520\n",
              "4     -0.003751  0.026988       8        1   6.563277, topic_info=               Term      Freq     Total Category  logprob  loglift\n",
              "186  जननायकछात्रों…  5.000000  5.000000  Default  30.0000  30.0000\n",
              "103            fuck  9.000000  9.000000  Default  29.0000  29.0000\n",
              "90           scared  9.000000  9.000000  Default  28.0000  28.0000\n",
              "77           moment  9.000000  9.000000  Default  27.0000  27.0000\n",
              "51            every  9.000000  9.000000  Default  26.0000  26.0000\n",
              "..              ...       ...       ...      ...      ...      ...\n",
              "53           joking  0.248968  9.552759   Topic8  -5.3357  -0.9236\n",
              "54               rn  0.248973  9.787193   Topic8  -5.3357  -0.9478\n",
              "51            every  0.246361  9.915074   Topic8  -5.3462  -0.9713\n",
              "49              amp  0.243555  9.433722   Topic8  -5.3577  -0.9330\n",
              "52           indian  0.241381  9.929102   Topic8  -5.3666  -0.9932\n",
              "\n",
              "[414 rows x 6 columns], token_table=      Topic      Freq            Term\n",
              "term                                 \n",
              "37        4  0.603975            2020\n",
              "74        1  0.104911               a\n",
              "74        2  0.629468               a\n",
              "74        3  0.104911               a\n",
              "74        5  0.104911               a\n",
              "...     ...       ...             ...\n",
              "582       2  0.682202       yuzvendra\n",
              "186       3  0.789947  जननायकछात्रों…\n",
              "35        2  0.808808              है\n",
              "73        1  0.352588               …\n",
              "73        5  0.352588               …\n",
              "\n",
              "[225 rows x 3 columns], R=30, lambda_step=0.01, plot_opts={'xlab': 'PC1', 'ylab': 'PC2'}, topic_order=[7, 8, 6, 3, 2, 1, 4, 5])"
            ]
          },
          "metadata": {
            "tags": []
          },
          "execution_count": 56
        }
      ]
    },
    {
      "cell_type": "markdown",
      "metadata": {
        "id": "cklf5W51QDeq"
      },
      "source": [
        "**Analysing sentiments of each class**"
      ]
    },
    {
      "cell_type": "code",
      "metadata": {
        "id": "HIKYGLYtQCxq"
      },
      "source": [
        "def detect_sentiment(sentence): \n",
        "    senti = SentimentIntensityAnalyzer() \n",
        "    sentiment_score = senti.polarity_scores(sentence) \n",
        "      \n",
        "    print(\"Sentiment scores are: \", sentiment_score) \n",
        "\n",
        "    if sentiment_score['compound'] <= - 0.05 :\n",
        "      sentiment = \"Negative\"\n",
        "      return sentiment\n",
        "\n",
        "    elif sentiment_score['compound'] >= 0.05:\n",
        "      sentiment = \"Positive\"\n",
        "      return sentiment\n",
        "        \n",
        "    else : \n",
        "      sentiment = \"Neutral\"\n",
        "      return sentiment\n"
      ],
      "execution_count": null,
      "outputs": []
    },
    {
      "cell_type": "code",
      "metadata": {
        "id": "KqrHjO9JP9S2"
      },
      "source": [
        "def class_sentiment(model,dictionary,num_topics):\n",
        "  # find the most significant words in each topic(here I've taken top 5 words)\n",
        "  topic_words = []\n",
        "\n",
        "  for i in range(num_topics):\n",
        "    #considering top 5 words from each topic for sentiment analysis\n",
        "    tt = model_A.get_topic_terms(i,5)\n",
        "    topic_words.append([dict_A[pair[0]] for pair in tt])\n",
        "\n",
        "\n",
        "  # Detect the sentiment of each topic\n",
        "  j = 0\n",
        "  for topic in topic_words:\n",
        "    #making sentence from the top 5 words for each topic\n",
        "    sentence = ' '.join(map(str, topic)) \n",
        "    print(\"For topic \",j,\":\")\n",
        "    j+=1\n",
        "    print(\"Topic Overall Rated As\",detect_sentiment(sentence))"
      ],
      "execution_count": null,
      "outputs": []
    },
    {
      "cell_type": "markdown",
      "metadata": {
        "id": "499e8V6TfVJ8"
      },
      "source": [
        "**for class A**"
      ]
    },
    {
      "cell_type": "code",
      "metadata": {
        "id": "byCG02GxfL8-",
        "colab": {
          "base_uri": "https://localhost:8080/",
          "height": 782
        },
        "outputId": "4896245e-f630-44bc-9a00-1868cf5edf8a"
      },
      "source": [
        "class_sentiment(model_A,dict_A,15)"
      ],
      "execution_count": null,
      "outputs": [
        {
          "output_type": "stream",
          "text": [
            "For topic  0 :\n",
            "Sentiment scores are:  {'neg': 0.355, 'neu': 0.645, 'pos': 0.0, 'compound': -0.296}\n",
            "Topic Overall Rated As Negative\n",
            "For topic  1 :\n",
            "Sentiment scores are:  {'neg': 0.0, 'neu': 1.0, 'pos': 0.0, 'compound': 0.0}\n",
            "Topic Overall Rated As Neutral\n",
            "For topic  2 :\n",
            "Sentiment scores are:  {'neg': 0.65, 'neu': 0.35, 'pos': 0.0, 'compound': -0.6776}\n",
            "Topic Overall Rated As Negative\n",
            "For topic  3 :\n",
            "Sentiment scores are:  {'neg': 0.375, 'neu': 0.625, 'pos': 0.0, 'compound': -0.34}\n",
            "Topic Overall Rated As Negative\n",
            "For topic  4 :\n",
            "Sentiment scores are:  {'neg': 0.0, 'neu': 0.488, 'pos': 0.512, 'compound': 0.6369}\n",
            "Topic Overall Rated As Positive\n",
            "For topic  5 :\n",
            "Sentiment scores are:  {'neg': 0.0, 'neu': 1.0, 'pos': 0.0, 'compound': 0.0}\n",
            "Topic Overall Rated As Neutral\n",
            "For topic  6 :\n",
            "Sentiment scores are:  {'neg': 0.0, 'neu': 1.0, 'pos': 0.0, 'compound': 0.0}\n",
            "Topic Overall Rated As Neutral\n",
            "For topic  7 :\n",
            "Sentiment scores are:  {'neg': 0.286, 'neu': 0.714, 'pos': 0.0, 'compound': -0.1531}\n",
            "Topic Overall Rated As Negative\n",
            "For topic  8 :\n",
            "Sentiment scores are:  {'neg': 0.0, 'neu': 1.0, 'pos': 0.0, 'compound': 0.0}\n",
            "Topic Overall Rated As Neutral\n",
            "For topic  9 :\n",
            "Sentiment scores are:  {'neg': 0.0, 'neu': 1.0, 'pos': 0.0, 'compound': 0.0}\n",
            "Topic Overall Rated As Neutral\n",
            "For topic  10 :\n",
            "Sentiment scores are:  {'neg': 0.291, 'neu': 0.349, 'pos': 0.36, 'compound': 0.1531}\n",
            "Topic Overall Rated As Positive\n",
            "For topic  11 :\n",
            "Sentiment scores are:  {'neg': 0.0, 'neu': 0.154, 'pos': 0.846, 'compound': 0.9001}\n",
            "Topic Overall Rated As Positive\n",
            "For topic  12 :\n",
            "Sentiment scores are:  {'neg': 0.375, 'neu': 0.625, 'pos': 0.0, 'compound': -0.34}\n",
            "Topic Overall Rated As Negative\n",
            "For topic  13 :\n",
            "Sentiment scores are:  {'neg': 0.0, 'neu': 1.0, 'pos': 0.0, 'compound': 0.0}\n",
            "Topic Overall Rated As Neutral\n",
            "For topic  14 :\n",
            "Sentiment scores are:  {'neg': 0.0, 'neu': 1.0, 'pos': 0.0, 'compound': 0.0}\n",
            "Topic Overall Rated As Neutral\n"
          ],
          "name": "stdout"
        }
      ]
    },
    {
      "cell_type": "markdown",
      "metadata": {
        "id": "Qs_qHUc5glXA"
      },
      "source": [
        "\n",
        "\n",
        "> The most dominant sentiment in the class is **Neutral**. So, class A has **Neutral sentiment**.\n",
        "\n"
      ]
    },
    {
      "cell_type": "markdown",
      "metadata": {
        "id": "7mUwrb0pfjUp"
      },
      "source": [
        "**for class B**"
      ]
    },
    {
      "cell_type": "code",
      "metadata": {
        "id": "kW0W6tQZfiM3",
        "colab": {
          "base_uri": "https://localhost:8080/",
          "height": 425
        },
        "outputId": "1c90e837-0ef0-406c-ddcb-ae3b7fe08c7a"
      },
      "source": [
        "class_sentiment(model_B,dict_B,8)"
      ],
      "execution_count": null,
      "outputs": [
        {
          "output_type": "stream",
          "text": [
            "For topic  0 :\n",
            "Sentiment scores are:  {'neg': 0.355, 'neu': 0.645, 'pos': 0.0, 'compound': -0.296}\n",
            "Topic Overall Rated As Negative\n",
            "For topic  1 :\n",
            "Sentiment scores are:  {'neg': 0.0, 'neu': 1.0, 'pos': 0.0, 'compound': 0.0}\n",
            "Topic Overall Rated As Neutral\n",
            "For topic  2 :\n",
            "Sentiment scores are:  {'neg': 0.65, 'neu': 0.35, 'pos': 0.0, 'compound': -0.6776}\n",
            "Topic Overall Rated As Negative\n",
            "For topic  3 :\n",
            "Sentiment scores are:  {'neg': 0.375, 'neu': 0.625, 'pos': 0.0, 'compound': -0.34}\n",
            "Topic Overall Rated As Negative\n",
            "For topic  4 :\n",
            "Sentiment scores are:  {'neg': 0.0, 'neu': 0.488, 'pos': 0.512, 'compound': 0.6369}\n",
            "Topic Overall Rated As Positive\n",
            "For topic  5 :\n",
            "Sentiment scores are:  {'neg': 0.0, 'neu': 1.0, 'pos': 0.0, 'compound': 0.0}\n",
            "Topic Overall Rated As Neutral\n",
            "For topic  6 :\n",
            "Sentiment scores are:  {'neg': 0.0, 'neu': 1.0, 'pos': 0.0, 'compound': 0.0}\n",
            "Topic Overall Rated As Neutral\n",
            "For topic  7 :\n",
            "Sentiment scores are:  {'neg': 0.286, 'neu': 0.714, 'pos': 0.0, 'compound': -0.1531}\n",
            "Topic Overall Rated As Negative\n"
          ],
          "name": "stdout"
        }
      ]
    },
    {
      "cell_type": "markdown",
      "metadata": {
        "id": "jI-slOjIfy4r"
      },
      "source": [
        "\n",
        "\n",
        "> The most dominant sentiment in the class is **Negative**. So, class B has **negative sentiment**.\n",
        "\n",
        "\n",
        "\n",
        "\n"
      ]
    },
    {
      "cell_type": "markdown",
      "metadata": {
        "id": "V0CZQ4aLfrTq"
      },
      "source": [
        "**for class C**"
      ]
    },
    {
      "cell_type": "code",
      "metadata": {
        "id": "GpQQC1cHfrHk",
        "colab": {
          "base_uri": "https://localhost:8080/",
          "height": 425
        },
        "outputId": "1ee11040-8a1c-4ac5-ae71-ca2f9e83f957"
      },
      "source": [
        "class_sentiment(model_C,dict_C,8)"
      ],
      "execution_count": null,
      "outputs": [
        {
          "output_type": "stream",
          "text": [
            "For topic  0 :\n",
            "Sentiment scores are:  {'neg': 0.355, 'neu': 0.645, 'pos': 0.0, 'compound': -0.296}\n",
            "Topic Overall Rated As Negative\n",
            "For topic  1 :\n",
            "Sentiment scores are:  {'neg': 0.0, 'neu': 1.0, 'pos': 0.0, 'compound': 0.0}\n",
            "Topic Overall Rated As Neutral\n",
            "For topic  2 :\n",
            "Sentiment scores are:  {'neg': 0.65, 'neu': 0.35, 'pos': 0.0, 'compound': -0.6776}\n",
            "Topic Overall Rated As Negative\n",
            "For topic  3 :\n",
            "Sentiment scores are:  {'neg': 0.375, 'neu': 0.625, 'pos': 0.0, 'compound': -0.34}\n",
            "Topic Overall Rated As Negative\n",
            "For topic  4 :\n",
            "Sentiment scores are:  {'neg': 0.0, 'neu': 0.488, 'pos': 0.512, 'compound': 0.6369}\n",
            "Topic Overall Rated As Positive\n",
            "For topic  5 :\n",
            "Sentiment scores are:  {'neg': 0.0, 'neu': 1.0, 'pos': 0.0, 'compound': 0.0}\n",
            "Topic Overall Rated As Neutral\n",
            "For topic  6 :\n",
            "Sentiment scores are:  {'neg': 0.0, 'neu': 1.0, 'pos': 0.0, 'compound': 0.0}\n",
            "Topic Overall Rated As Neutral\n",
            "For topic  7 :\n",
            "Sentiment scores are:  {'neg': 0.286, 'neu': 0.714, 'pos': 0.0, 'compound': -0.1531}\n",
            "Topic Overall Rated As Negative\n"
          ],
          "name": "stdout"
        }
      ]
    },
    {
      "cell_type": "markdown",
      "metadata": {
        "id": "zBzAFj6Ega0V"
      },
      "source": [
        "\n",
        "\n",
        "> The most dominant sentiment in the class is **Negative**. So, class C has **negative sentiment**.\n",
        "\n"
      ]
    },
    {
      "cell_type": "markdown",
      "metadata": {
        "id": "S7EJUssuXQwE"
      },
      "source": [
        "**Number of deaths (loaction-wise)**"
      ]
    },
    {
      "cell_type": "code",
      "metadata": {
        "id": "rV6WhlqgXO9o",
        "colab": {
          "base_uri": "https://localhost:8080/",
          "height": 779
        },
        "outputId": "043e6650-9cc0-4613-8021-7dfd6fc5fc48"
      },
      "source": [
        "df_B"
      ],
      "execution_count": null,
      "outputs": [
        {
          "output_type": "execute_result",
          "data": {
            "text/html": [
              "<div>\n",
              "<style scoped>\n",
              "    .dataframe tbody tr th:only-of-type {\n",
              "        vertical-align: middle;\n",
              "    }\n",
              "\n",
              "    .dataframe tbody tr th {\n",
              "        vertical-align: top;\n",
              "    }\n",
              "\n",
              "    .dataframe thead th {\n",
              "        text-align: right;\n",
              "    }\n",
              "</style>\n",
              "<table border=\"1\" class=\"dataframe\">\n",
              "  <thead>\n",
              "    <tr style=\"text-align: right;\">\n",
              "      <th></th>\n",
              "      <th>_id</th>\n",
              "      <th>created_at</th>\n",
              "      <th>id</th>\n",
              "      <th>id_str</th>\n",
              "      <th>full_text</th>\n",
              "      <th>truncated</th>\n",
              "      <th>display_text_range</th>\n",
              "      <th>entities</th>\n",
              "      <th>metadata</th>\n",
              "      <th>source</th>\n",
              "      <th>in_reply_to_status_id</th>\n",
              "      <th>in_reply_to_status_id_str</th>\n",
              "      <th>in_reply_to_user_id</th>\n",
              "      <th>in_reply_to_user_id_str</th>\n",
              "      <th>in_reply_to_screen_name</th>\n",
              "      <th>user</th>\n",
              "      <th>geo</th>\n",
              "      <th>coordinates</th>\n",
              "      <th>place</th>\n",
              "      <th>contributors</th>\n",
              "      <th>retweeted_status</th>\n",
              "      <th>is_quote_status</th>\n",
              "      <th>retweet_count</th>\n",
              "      <th>favorite_count</th>\n",
              "      <th>favorited</th>\n",
              "      <th>retweeted</th>\n",
              "      <th>lang</th>\n",
              "    </tr>\n",
              "  </thead>\n",
              "  <tbody>\n",
              "    <tr>\n",
              "      <th>0</th>\n",
              "      <td>{'$oid': '5ee1244dc51e2d8beb570717'}</td>\n",
              "      <td>Wed Jun 10 18:19:05 +0000 2020</td>\n",
              "      <td>1270782555357212700</td>\n",
              "      <td>1270782555357212672</td>\n",
              "      <td>RT @PTTVOnlineNews: திமுக எம்எல்ஏ ஜெ.அன்பழகன் ...</td>\n",
              "      <td>False</td>\n",
              "      <td>[0, 140]</td>\n",
              "      <td>{'hashtags': [{'text': 'JAnbazhagan', 'indices...</td>\n",
              "      <td>{'iso_language_code': 'ta', 'result_type': 're...</td>\n",
              "      <td>&lt;a href=\"https://mobile.twitter.com\" rel=\"nofo...</td>\n",
              "      <td>NaN</td>\n",
              "      <td>None</td>\n",
              "      <td>NaN</td>\n",
              "      <td>None</td>\n",
              "      <td>None</td>\n",
              "      <td>{'id': 1146440916527243300, 'id_str': '1146440...</td>\n",
              "      <td>None</td>\n",
              "      <td>None</td>\n",
              "      <td>None</td>\n",
              "      <td>None</td>\n",
              "      <td>{'created_at': 'Wed Jun 10 06:32:16 +0000 2020...</td>\n",
              "      <td>False</td>\n",
              "      <td>90</td>\n",
              "      <td>0</td>\n",
              "      <td>False</td>\n",
              "      <td>False</td>\n",
              "      <td>ta</td>\n",
              "    </tr>\n",
              "    <tr>\n",
              "      <th>10</th>\n",
              "      <td>{'$oid': '5ee1244dc51e2d8beb570721'}</td>\n",
              "      <td>Wed Jun 10 18:17:40 +0000 2020</td>\n",
              "      <td>1270782198824788000</td>\n",
              "      <td>1270782198824787977</td>\n",
              "      <td>Virtual funerals are becoming more common, as ...</td>\n",
              "      <td>False</td>\n",
              "      <td>[0, 270]</td>\n",
              "      <td>{'hashtags': [{'text': 'RestInPeace', 'indices...</td>\n",
              "      <td>{'iso_language_code': 'en', 'result_type': 're...</td>\n",
              "      <td>&lt;a href=\"https://mobile.twitter.com\" rel=\"nofo...</td>\n",
              "      <td>NaN</td>\n",
              "      <td>None</td>\n",
              "      <td>NaN</td>\n",
              "      <td>None</td>\n",
              "      <td>None</td>\n",
              "      <td>{'id': 1209427513136562200, 'id_str': '1209427...</td>\n",
              "      <td>None</td>\n",
              "      <td>None</td>\n",
              "      <td>None</td>\n",
              "      <td>None</td>\n",
              "      <td>NaN</td>\n",
              "      <td>False</td>\n",
              "      <td>0</td>\n",
              "      <td>0</td>\n",
              "      <td>False</td>\n",
              "      <td>False</td>\n",
              "      <td>en</td>\n",
              "    </tr>\n",
              "    <tr>\n",
              "      <th>18</th>\n",
              "      <td>{'$oid': '5ee1244dc51e2d8beb570729'}</td>\n",
              "      <td>Wed Jun 10 18:15:27 +0000 2020</td>\n",
              "      <td>1270781638583042000</td>\n",
              "      <td>1270781638583042048</td>\n",
              "      <td>😭😭\\n\\n#RestInPeace https://t.co/N3Qm59QSjz</td>\n",
              "      <td>False</td>\n",
              "      <td>[0, 16]</td>\n",
              "      <td>{'hashtags': [{'text': 'RestInPeace', 'indices...</td>\n",
              "      <td>{'iso_language_code': 'und', 'result_type': 'r...</td>\n",
              "      <td>&lt;a href=\"http://twitter.com/download/android\" ...</td>\n",
              "      <td>NaN</td>\n",
              "      <td>None</td>\n",
              "      <td>NaN</td>\n",
              "      <td>None</td>\n",
              "      <td>None</td>\n",
              "      <td>{'id': 1112792532545466400, 'id_str': '1112792...</td>\n",
              "      <td>None</td>\n",
              "      <td>None</td>\n",
              "      <td>None</td>\n",
              "      <td>None</td>\n",
              "      <td>NaN</td>\n",
              "      <td>True</td>\n",
              "      <td>0</td>\n",
              "      <td>0</td>\n",
              "      <td>False</td>\n",
              "      <td>False</td>\n",
              "      <td>und</td>\n",
              "    </tr>\n",
              "    <tr>\n",
              "      <th>29</th>\n",
              "      <td>{'$oid': '5ee1244dc51e2d8beb570734'}</td>\n",
              "      <td>Wed Jun 10 18:12:53 +0000 2020</td>\n",
              "      <td>1270780994518474800</td>\n",
              "      <td>1270780994518474753</td>\n",
              "      <td>Rest in peace, George Floyd\\nWe Will Not Forge...</td>\n",
              "      <td>False</td>\n",
              "      <td>[0, 173]</td>\n",
              "      <td>{'hashtags': [{'text': 'RIPGeorgeFloyd', 'indi...</td>\n",
              "      <td>{'iso_language_code': 'en', 'result_type': 're...</td>\n",
              "      <td>&lt;a href=\"http://twitter.com/download/android\" ...</td>\n",
              "      <td>NaN</td>\n",
              "      <td>None</td>\n",
              "      <td>NaN</td>\n",
              "      <td>None</td>\n",
              "      <td>None</td>\n",
              "      <td>{'id': 1254525094937985000, 'id_str': '1254525...</td>\n",
              "      <td>None</td>\n",
              "      <td>None</td>\n",
              "      <td>None</td>\n",
              "      <td>None</td>\n",
              "      <td>NaN</td>\n",
              "      <td>False</td>\n",
              "      <td>0</td>\n",
              "      <td>0</td>\n",
              "      <td>False</td>\n",
              "      <td>False</td>\n",
              "      <td>en</td>\n",
              "    </tr>\n",
              "    <tr>\n",
              "      <th>34</th>\n",
              "      <td>{'$oid': '5ee1244dc51e2d8beb570739'}</td>\n",
              "      <td>Wed Jun 10 18:11:10 +0000 2020</td>\n",
              "      <td>1270780563331453000</td>\n",
              "      <td>1270780563331452929</td>\n",
              "      <td>RT @nehaa_sinha: And two firefighters have los...</td>\n",
              "      <td>False</td>\n",
              "      <td>[0, 137]</td>\n",
              "      <td>{'hashtags': [{'text': 'RestInPeace', 'indices...</td>\n",
              "      <td>{'iso_language_code': 'en', 'result_type': 're...</td>\n",
              "      <td>&lt;a href=\"https://mobile.twitter.com\" rel=\"nofo...</td>\n",
              "      <td>NaN</td>\n",
              "      <td>None</td>\n",
              "      <td>NaN</td>\n",
              "      <td>None</td>\n",
              "      <td>None</td>\n",
              "      <td>{'id': 2784446966, 'id_str': '2784446966', 'na...</td>\n",
              "      <td>None</td>\n",
              "      <td>None</td>\n",
              "      <td>None</td>\n",
              "      <td>None</td>\n",
              "      <td>{'created_at': 'Wed Jun 10 07:37:39 +0000 2020...</td>\n",
              "      <td>False</td>\n",
              "      <td>7</td>\n",
              "      <td>0</td>\n",
              "      <td>False</td>\n",
              "      <td>False</td>\n",
              "      <td>en</td>\n",
              "    </tr>\n",
              "    <tr>\n",
              "      <th>...</th>\n",
              "      <td>...</td>\n",
              "      <td>...</td>\n",
              "      <td>...</td>\n",
              "      <td>...</td>\n",
              "      <td>...</td>\n",
              "      <td>...</td>\n",
              "      <td>...</td>\n",
              "      <td>...</td>\n",
              "      <td>...</td>\n",
              "      <td>...</td>\n",
              "      <td>...</td>\n",
              "      <td>...</td>\n",
              "      <td>...</td>\n",
              "      <td>...</td>\n",
              "      <td>...</td>\n",
              "      <td>...</td>\n",
              "      <td>...</td>\n",
              "      <td>...</td>\n",
              "      <td>...</td>\n",
              "      <td>...</td>\n",
              "      <td>...</td>\n",
              "      <td>...</td>\n",
              "      <td>...</td>\n",
              "      <td>...</td>\n",
              "      <td>...</td>\n",
              "      <td>...</td>\n",
              "      <td>...</td>\n",
              "    </tr>\n",
              "    <tr>\n",
              "      <th>9050</th>\n",
              "      <td>{'$oid': '5ee125dcc51e2d8beb572a71'}</td>\n",
              "      <td>Wed Jun 10 09:05:47 +0000 2020</td>\n",
              "      <td>1270643310009278500</td>\n",
              "      <td>1270643310009278464</td>\n",
              "      <td>@ANI @rsprasad He's just an MP like any other ...</td>\n",
              "      <td>False</td>\n",
              "      <td>[5, 293]</td>\n",
              "      <td>{'hashtags': [{'text': 'karachi', 'indices': [...</td>\n",
              "      <td>{'iso_language_code': 'en', 'result_type': 're...</td>\n",
              "      <td>&lt;a href=\"https://mobile.twitter.com\" rel=\"nofo...</td>\n",
              "      <td>1.270628e+18</td>\n",
              "      <td>1270627935351762944</td>\n",
              "      <td>355989081.0</td>\n",
              "      <td>355989081</td>\n",
              "      <td>ANI</td>\n",
              "      <td>{'id': 1233066191389782000, 'id_str': '1233066...</td>\n",
              "      <td>None</td>\n",
              "      <td>None</td>\n",
              "      <td>None</td>\n",
              "      <td>None</td>\n",
              "      <td>NaN</td>\n",
              "      <td>False</td>\n",
              "      <td>0</td>\n",
              "      <td>0</td>\n",
              "      <td>False</td>\n",
              "      <td>False</td>\n",
              "      <td>en</td>\n",
              "    </tr>\n",
              "    <tr>\n",
              "      <th>9070</th>\n",
              "      <td>{'$oid': '5ee125dcc51e2d8beb572a85'}</td>\n",
              "      <td>Wed Jun 10 09:05:09 +0000 2020</td>\n",
              "      <td>1270643152593064000</td>\n",
              "      <td>1270643152593063936</td>\n",
              "      <td>RT @itsvjdmk: #JAnbazhagan\\n#RestInPeace\\n#RIP...</td>\n",
              "      <td>False</td>\n",
              "      <td>[0, 90]</td>\n",
              "      <td>{'hashtags': [{'text': 'JAnbazhagan', 'indices...</td>\n",
              "      <td>{'iso_language_code': 'und', 'result_type': 'r...</td>\n",
              "      <td>&lt;a href=\"http://twitter.com/download/android\" ...</td>\n",
              "      <td>NaN</td>\n",
              "      <td>None</td>\n",
              "      <td>NaN</td>\n",
              "      <td>None</td>\n",
              "      <td>None</td>\n",
              "      <td>{'id': 1007808431908982800, 'id_str': '1007808...</td>\n",
              "      <td>None</td>\n",
              "      <td>None</td>\n",
              "      <td>None</td>\n",
              "      <td>None</td>\n",
              "      <td>{'created_at': 'Wed Jun 10 08:39:15 +0000 2020...</td>\n",
              "      <td>False</td>\n",
              "      <td>1</td>\n",
              "      <td>0</td>\n",
              "      <td>False</td>\n",
              "      <td>False</td>\n",
              "      <td>und</td>\n",
              "    </tr>\n",
              "    <tr>\n",
              "      <th>9117</th>\n",
              "      <td>{'$oid': '5ee125e0c51e2d8beb572ab4'}</td>\n",
              "      <td>Wed Jun 10 09:04:18 +0000 2020</td>\n",
              "      <td>1270642938494832600</td>\n",
              "      <td>1270642938494832642</td>\n",
              "      <td>#JAnbazhagan \\n#RestInPeace https://t.co/KP5UI...</td>\n",
              "      <td>False</td>\n",
              "      <td>[0, 26]</td>\n",
              "      <td>{'hashtags': [{'text': 'JAnbazhagan', 'indices...</td>\n",
              "      <td>{'iso_language_code': 'und', 'result_type': 'r...</td>\n",
              "      <td>&lt;a href=\"http://twitter.com/download/android\" ...</td>\n",
              "      <td>NaN</td>\n",
              "      <td>None</td>\n",
              "      <td>NaN</td>\n",
              "      <td>None</td>\n",
              "      <td>None</td>\n",
              "      <td>{'id': 1260019038538752000, 'id_str': '1260019...</td>\n",
              "      <td>None</td>\n",
              "      <td>None</td>\n",
              "      <td>None</td>\n",
              "      <td>None</td>\n",
              "      <td>NaN</td>\n",
              "      <td>False</td>\n",
              "      <td>1</td>\n",
              "      <td>6</td>\n",
              "      <td>False</td>\n",
              "      <td>False</td>\n",
              "      <td>und</td>\n",
              "    </tr>\n",
              "    <tr>\n",
              "      <th>9140</th>\n",
              "      <td>{'$oid': '5ee125e0c51e2d8beb572acb'}</td>\n",
              "      <td>Wed Jun 10 09:03:47 +0000 2020</td>\n",
              "      <td>1270642809276522500</td>\n",
              "      <td>1270642809276522496</td>\n",
              "      <td>RT @thatsTamil: சென்னை கண்ணம்மாபேட்டையில் ஜெ. ...</td>\n",
              "      <td>False</td>\n",
              "      <td>[0, 140]</td>\n",
              "      <td>{'hashtags': [{'text': 'JAnbazhagan', 'indices...</td>\n",
              "      <td>{'iso_language_code': 'ta', 'result_type': 're...</td>\n",
              "      <td>&lt;a href=\"http://twitter.com/download/android\" ...</td>\n",
              "      <td>NaN</td>\n",
              "      <td>None</td>\n",
              "      <td>NaN</td>\n",
              "      <td>None</td>\n",
              "      <td>None</td>\n",
              "      <td>{'id': 1161653145375654000, 'id_str': '1161653...</td>\n",
              "      <td>None</td>\n",
              "      <td>None</td>\n",
              "      <td>None</td>\n",
              "      <td>None</td>\n",
              "      <td>{'created_at': 'Wed Jun 10 07:41:08 +0000 2020...</td>\n",
              "      <td>False</td>\n",
              "      <td>8</td>\n",
              "      <td>0</td>\n",
              "      <td>False</td>\n",
              "      <td>False</td>\n",
              "      <td>ta</td>\n",
              "    </tr>\n",
              "    <tr>\n",
              "      <th>9159</th>\n",
              "      <td>{'$oid': '5ee125e0c51e2d8beb572ade'}</td>\n",
              "      <td>Wed Jun 10 09:03:26 +0000 2020</td>\n",
              "      <td>1270642720604926000</td>\n",
              "      <td>1270642720604925954</td>\n",
              "      <td>RT @Iambhaarat1: #BiharKaCmGayabHai\\n#RestInPe...</td>\n",
              "      <td>False</td>\n",
              "      <td>[0, 72]</td>\n",
              "      <td>{'hashtags': [{'text': 'BiharKaCmGayabHai', 'i...</td>\n",
              "      <td>{'iso_language_code': 'und', 'result_type': 'r...</td>\n",
              "      <td>&lt;a href=\"http://twitter.com/download/android\" ...</td>\n",
              "      <td>NaN</td>\n",
              "      <td>None</td>\n",
              "      <td>NaN</td>\n",
              "      <td>None</td>\n",
              "      <td>None</td>\n",
              "      <td>{'id': 1253935697326559200, 'id_str': '1253935...</td>\n",
              "      <td>None</td>\n",
              "      <td>None</td>\n",
              "      <td>None</td>\n",
              "      <td>None</td>\n",
              "      <td>{'created_at': 'Wed Jun 10 08:59:04 +0000 2020...</td>\n",
              "      <td>False</td>\n",
              "      <td>3</td>\n",
              "      <td>0</td>\n",
              "      <td>False</td>\n",
              "      <td>False</td>\n",
              "      <td>und</td>\n",
              "    </tr>\n",
              "  </tbody>\n",
              "</table>\n",
              "<p>416 rows × 27 columns</p>\n",
              "</div>"
            ],
            "text/plain": [
              "                                       _id  ... lang\n",
              "0     {'$oid': '5ee1244dc51e2d8beb570717'}  ...   ta\n",
              "10    {'$oid': '5ee1244dc51e2d8beb570721'}  ...   en\n",
              "18    {'$oid': '5ee1244dc51e2d8beb570729'}  ...  und\n",
              "29    {'$oid': '5ee1244dc51e2d8beb570734'}  ...   en\n",
              "34    {'$oid': '5ee1244dc51e2d8beb570739'}  ...   en\n",
              "...                                    ...  ...  ...\n",
              "9050  {'$oid': '5ee125dcc51e2d8beb572a71'}  ...   en\n",
              "9070  {'$oid': '5ee125dcc51e2d8beb572a85'}  ...  und\n",
              "9117  {'$oid': '5ee125e0c51e2d8beb572ab4'}  ...  und\n",
              "9140  {'$oid': '5ee125e0c51e2d8beb572acb'}  ...   ta\n",
              "9159  {'$oid': '5ee125e0c51e2d8beb572ade'}  ...  und\n",
              "\n",
              "[416 rows x 27 columns]"
            ]
          },
          "metadata": {
            "tags": []
          },
          "execution_count": 57
        }
      ]
    },
    {
      "cell_type": "code",
      "metadata": {
        "id": "S6ZQJ7TNXdT-",
        "colab": {
          "base_uri": "https://localhost:8080/",
          "height": 1000
        },
        "outputId": "0ff6b3ee-a567-474b-8338-0164902fd727"
      },
      "source": [
        "locations = []\n",
        "for i in df_B.index:\n",
        "  locations.append(df_B.loc[i,'user']['location'])\n",
        "  print(df_B.loc[i,'user']['location'])"
      ],
      "execution_count": null,
      "outputs": [
        {
          "output_type": "stream",
          "text": [
            "\n",
            "Charlotte, NC\n",
            "Andhra Pradesh, India\n",
            "مصر\n",
            "Switzerland\n",
            "\n",
            "\n",
            "England UK \n",
            "Kailua-Kona, HI\n",
            "Currently on planet Earth\n",
            "Hubli, India\n",
            "Global\n",
            "Hardoi, India\n",
            "Venezuela\n",
            "Johannesburg, South Africa\n",
            "\n",
            "Orl\n",
            "Madurai\n",
            "Dubai, United Arab Emirates\n",
            "\n",
            "PNW\n",
            "செக்காணூரணி, மதுரை\n",
            "New Delhi\n",
            "13 SummerSt, Rivonia, Sandton \n",
            "Somewhere Quiet\n",
            "Tamil Nadu, India\n",
            "Eldoret\n",
            "Somewhere Nowhere\n",
            "Singapore\n",
            "United States\n",
            "Chidambaram\n",
            "Marion, North Carolina\n",
            "world\n",
            "PDX☔️{in}TheUK☔️{daydreaming}\n",
            "\n",
            "california,usa\n",
            "Tamil Nadu, India\n",
            "Denver, Colorado\n",
            "\n",
            "Ramanathapuram \n",
            "\n",
            "\n",
            "Nationwide\n",
            "\n",
            "\n",
            "New York, USA\n",
            "Coimbatore, India\n",
            "\n",
            "United States\n",
            "\n",
            "India\n",
            "\n",
            "\n",
            "Singapore\n",
            "Guwahati, India\n",
            "Singapore\n",
            "Coimbatore, Tamilnadu\n",
            "Lovely Earth\n",
            "chennai\n",
            "Nairobi, Kenya\n",
            "ছিপাঝাৰ \n",
            "\n",
            "\n",
            "\n",
            "\n",
            "Southern California\n",
            "Tamil Nadu, India\n",
            "தல( தமிழ்)நாடு\n",
            "contact@vindylee.com\n",
            "MikeBoneMedia.com\n",
            "India\n",
            "\n",
            "Nairobi, Kenya\n",
            "India\n",
            "\n",
            "தஞ்சாவூர்\n",
            "\n",
            "Johannesburg, South Africa\n",
            "India\n",
            "Chennai\n",
            "\n",
            "West Virginia,USA\n",
            "Maharashtra, India\n",
            "East Bum F!#@, CT\n",
            "Chicago, IL\n",
            "Chennai, India\n",
            "Salem, India\n",
            "Albuquerque, NM\n",
            "மதுரை TamilNadu \n",
            "HONG KONG\n",
            "Nairobi\n",
            "North Lakhimpur, India\n",
            "Assam, India\n",
            "Chennai, India\n",
            "\n",
            "Ludhiana, India\n",
            "\n",
            "Chengalpattu, India\n",
            "Assam, India\n",
            "Kanungu \n",
            "Indore.M.P\n",
            "Kinshasa \n",
            "Ranchi, India\n",
            "\n",
            "Zuirch\n",
            "#LuchaKliq\n",
            "Tamil Nadu, India\n",
            "Ghana\n",
            "Nagercoil\n",
            "Yogyakarta, Indonesia\n",
            "\n",
            "\n",
            "Tamil \n",
            "Dubai, United Arab Emirates\n",
            "Tamil Nadu, India\n",
            "CNP,dindigul dist.TAMIL NADU\n",
            "Guwahati, Assam.\n",
            "\n",
            "\n",
            "India\n",
            "Chennai\n",
            "தொண்டாமுத்தூர், கோவை \n",
            "Twickenham, UK\n",
            "Nairobi\n",
            "Tamil Nadu, India\n",
            "Chennai, India\n",
            "Chennai, India\n",
            "Thiruthuraipoondi, India\n",
            "India\n",
            "\n",
            "Putnam, CT\n",
            "Jammu, Jammu And Kashmir\n",
            "Chennai india\n",
            "\n",
            "Karnal, Haryana, India\n",
            "Legoland\n",
            "\n",
            "\n",
            "India\n",
            "\n",
            "तमिलनाडु, भारत\n",
            "Here\n",
            "Yogyakarta, Indonesia\n",
            "Montana, USA\n",
            "Doha, Qatar\n",
            "தமிழ், தமிழர், தமிழ்நாடு, ஃ\n",
            "Hyderabad, India\n",
            "Orissa, India\n",
            "North Carolina, USA\n",
            "\n",
            "Bharat\n",
            "Bharat\n",
            "\n",
            "\n",
            "Yavatmal, India\n",
            "கொங்கு மண்டலம் \n",
            "Mombasa, Kenya\n",
            "Mumbai\n",
            "TN 49\n",
            "chennai,india\n",
            "\n",
            "DINDIGUL\n",
            "Egmore Nungambakkam, India\n",
            "Chennai\n",
            "India\n",
            "Laxmi Nagar, New Delhi\n",
            "Error 404 \n",
            "Kenya\n",
            "Sivakasi, India\n",
            "\n",
            "\n",
            "New York, USA\n",
            "தாராபுரம் திருப்பூர் மாவட்டம் \n",
            "\n",
            "Ariyalur, India\n",
            "India\n",
            "Kenya\n",
            "\n",
            "\n",
            "\n",
            "\n",
            "\n",
            "Chennai \n",
            "\n",
            "\n",
            "Kiambu Road,Nairobi, Kenya\n",
            "New Delhi, Delhi\n",
            "IT IS KNOWN  💯🌺 \n",
            "Chennai, India\n",
            "राजस्थान\n",
            "أبوظبي, الامارات العربية المتح\n",
            "Mumbai, India\n",
            "Nairobi, Kenya\n",
            "\n",
            "Nairobi, Kenya\n",
            "\n",
            "🇮🇳\n",
            "\n",
            "\n",
            "Jodhpur\n",
            "\n",
            "Karatina, Kenya\n",
            "Karatina, Kenya\n",
            "NunYa biz,\n",
            "Doha, Qatar \n",
            "ஈரோடு, தமிழ்நாடு\n",
            "Kenya\n",
            "\n",
            "\n",
            "Nairobi kenya\n",
            "Patna, India\n",
            "Tamil Nadu, India\n",
            "\n",
            "On a rock floating in space\n",
            "Tamil Nadu, India\n",
            "Karatina, Kenya\n",
            "Bhopal\n",
            "\n",
            "Marysville, WA\n",
            "Karatina, Kenya\n",
            "Darbhanga, India\n",
            "\n",
            "\n",
            "Al Jahra, Kuwait\n",
            "\n",
            "\n",
            "France\n",
            "Nakuru\n",
            "Nairobi, Kenya\n",
            "TN45,சோழநாடு\n",
            "Burundi\n",
            "kanpur\n",
            "Kenya\n",
            "Rajasthan, India\n",
            "தஞ்சை\n",
            "Hyderabad, India\n",
            "\n",
            "\n",
            "India\n",
            "\n",
            "Gurgaon, India\n",
            "\n",
            "Nairobi, Kenya\n",
            "Santa Ana, CA\n",
            "\n",
            "Pune, India\n",
            "\n",
            "Pune, India\n",
            "\n",
            "\n",
            "Maldives \n",
            "Silverdale, WA\n",
            "London, England\n",
            "Mumbai, India\n",
            "\n",
            "\n",
            "Pune\n",
            "Pune\n",
            "Pune\n",
            "\n",
            "Pune\n",
            "Yuvi ka Dil ❤\n",
            "\n",
            "Bangalore\n",
            "Bangalore\n",
            "Bangalore\n",
            "India\n",
            "\n",
            "\n",
            "Melbourne\n",
            "Chennai/Bengaluru\n",
            "Chennai, India\n",
            "Tiruchirapalli, India\n",
            "India\n",
            "India\n",
            "AKHAND BHARAT🚩\n",
            "Pune\n",
            "Chennai, India\n",
            "Allagadda, India\n",
            "Indore, India\n",
            "\n",
            "chennai\n",
            "\n",
            "Faridabad, haryana\n",
            "\n",
            "\n",
            "Surat, India\n",
            "Pune\n",
            "India\n",
            "Calcutta, India\n",
            "Pune\n",
            "Patna, India\n",
            "India\n",
            "India\n",
            "Chennai, Tamilnadu\n",
            "India\n",
            "\n",
            "Varanasi\n",
            "New Delhi, India\n",
            "Jaipur, India\n",
            "Kalinjikuppam\n",
            "ஈரோடு & கோவை\n",
            "\n",
            "Chennai\n",
            "Patna, Bihar\n",
            "\n",
            "\n",
            "Chennai\n",
            "\n",
            "Chennai, India\n",
            "India , Indore , Sendhwa\n",
            "गुड़गांव, भारत\n",
            "Chennai, India\n",
            "Jewar, India\n",
            "New Delhi , Noida \n",
            "Uttar Pradesh, India\n",
            "\n",
            "AIFF Football House, New Delhi\n",
            "India Normally\n",
            "Bihar, India\n",
            "RATANGARH\n",
            "Bengaluru, India\n",
            "\n",
            "Calicut\n",
            "Kanyakumari, India\n",
            "India\n",
            "\n",
            "Bengaluru, India\n",
            "Bengaluru, India\n",
            "Chennai, India\n",
            "Unofficial assembly\n",
            "\n",
            "India\n",
            "\n",
            "\n",
            "\n",
            "\n",
            "ஈரோடு\n",
            "Tamil Nadu, India\n",
            "Delhi, India\n",
            "Hyderabad, India\n",
            "\n",
            "\n",
            "\n",
            "\n",
            "\n",
            "अजमेर, भारत\n",
            "Chennai, India\n",
            "Thirunelveli \n",
            "சிவகங்கை\n",
            "Chennai, India\n",
            "\n",
            "\n",
            "Bihar, India\n",
            "\n",
            "\n",
            "\n",
            "New Delhi, India\n",
            "\n",
            "Vaniyambadi,Tamizhnadu,India\n",
            "\n",
            "Jaipur, India\n",
            " Thiruthani,Thamizhnadu,India\n",
            "Auckland, New Zealand\n",
            "Thirupattur,Thamizhnadu,India\n",
            "\n",
            "\n",
            "Hardoi, India\n",
            "Rishikesh, India\n",
            "Neyveli Township\n",
            "India\n",
            "Chennai\n",
            "Noida (UP)\n",
            "Central Region, Singapore\n",
            "Chennai, India\n",
            "Tamil Nadu, India\n",
            "\n",
            "coimbatore\n",
            "India\n",
            "Vitry-sur-Seine\n",
            "செங்கோட்டை, லெமூரியா கண்டம்\n",
            "\n",
            "Pondicherry, India\n",
            "New Delhi, India\n",
            "Mansa punjab\n",
            "Tamil Nadu, India\n",
            "திருநெல்வேலி\n",
            "Indore, India\n",
            "\n",
            "\n",
            "Neelangarai, Chennai\n",
            "\n",
            "South Australia, Adelaide\n",
            "Neyveli Township\n",
            "Raipur, Chhattisgarh\n",
            "\n",
            "\n",
            "Kozhippara,Palakkad \n",
            "\n",
            "Chennai, India\n",
            "தமிழ்நாடு\n",
            "Mumbai, India\n",
            "காட்டாங்கொளத்தூர்\n",
            "\n",
            "Trichy\n",
            "தமிழ்நாடு\n",
            "Pattukkottai, Thanjavur\n",
            "Neyveli Township\n",
            "Indore,M.P\n",
            "Chennai, India\n",
            "Darbhanga, India\n",
            "\n",
            "Erode, India\n",
            "Coimbatore, India\n",
            "\n",
            "\n"
          ],
          "name": "stdout"
        }
      ]
    },
    {
      "cell_type": "code",
      "metadata": {
        "id": "5CDZvHdPX8qK",
        "colab": {
          "base_uri": "https://localhost:8080/",
          "height": 1000
        },
        "outputId": "de780969-993b-4028-f093-5dbbadab8daa"
      },
      "source": [
        "Counter(locations)"
      ],
      "execution_count": null,
      "outputs": [
        {
          "output_type": "execute_result",
          "data": {
            "text/plain": [
              "Counter({'': 119,\n",
              "         ' Thiruthani,Thamizhnadu,India': 1,\n",
              "         '#LuchaKliq': 1,\n",
              "         '13 SummerSt, Rivonia, Sandton ': 1,\n",
              "         'AIFF Football House, New Delhi': 1,\n",
              "         'AKHAND BHARAT🚩': 1,\n",
              "         'Al Jahra, Kuwait': 1,\n",
              "         'Albuquerque, NM': 1,\n",
              "         'Allagadda, India': 1,\n",
              "         'Andhra Pradesh, India': 1,\n",
              "         'Ariyalur, India': 1,\n",
              "         'Assam, India': 2,\n",
              "         'Auckland, New Zealand': 1,\n",
              "         'Bangalore': 3,\n",
              "         'Bengaluru, India': 3,\n",
              "         'Bharat': 2,\n",
              "         'Bhopal': 1,\n",
              "         'Bihar, India': 2,\n",
              "         'Burundi': 1,\n",
              "         'CNP,dindigul dist.TAMIL NADU': 1,\n",
              "         'Calcutta, India': 1,\n",
              "         'Calicut': 1,\n",
              "         'Central Region, Singapore': 1,\n",
              "         'Charlotte, NC': 1,\n",
              "         'Chengalpattu, India': 1,\n",
              "         'Chennai': 6,\n",
              "         'Chennai ': 1,\n",
              "         'Chennai india': 1,\n",
              "         'Chennai, India': 15,\n",
              "         'Chennai, Tamilnadu': 1,\n",
              "         'Chennai/Bengaluru': 1,\n",
              "         'Chicago, IL': 1,\n",
              "         'Chidambaram': 1,\n",
              "         'Coimbatore, India': 2,\n",
              "         'Coimbatore, Tamilnadu': 1,\n",
              "         'Currently on planet Earth': 1,\n",
              "         'DINDIGUL': 1,\n",
              "         'Darbhanga, India': 2,\n",
              "         'Delhi, India': 1,\n",
              "         'Denver, Colorado': 1,\n",
              "         'Doha, Qatar': 1,\n",
              "         'Doha, Qatar ': 1,\n",
              "         'Dubai, United Arab Emirates': 2,\n",
              "         'East Bum F!#@, CT': 1,\n",
              "         'Egmore Nungambakkam, India': 1,\n",
              "         'Eldoret': 1,\n",
              "         'England UK ': 1,\n",
              "         'Erode, India': 1,\n",
              "         'Error 404 ': 1,\n",
              "         'Faridabad, haryana': 1,\n",
              "         'France': 1,\n",
              "         'Ghana': 1,\n",
              "         'Global': 1,\n",
              "         'Gurgaon, India': 1,\n",
              "         'Guwahati, Assam.': 1,\n",
              "         'Guwahati, India': 1,\n",
              "         'HONG KONG': 1,\n",
              "         'Hardoi, India': 2,\n",
              "         'Here': 1,\n",
              "         'Hubli, India': 1,\n",
              "         'Hyderabad, India': 3,\n",
              "         'IT IS KNOWN  💯🌺 ': 1,\n",
              "         'India': 21,\n",
              "         'India , Indore , Sendhwa': 1,\n",
              "         'India Normally': 1,\n",
              "         'Indore, India': 2,\n",
              "         'Indore,M.P': 1,\n",
              "         'Indore.M.P': 1,\n",
              "         'Jaipur, India': 2,\n",
              "         'Jammu, Jammu And Kashmir': 1,\n",
              "         'Jewar, India': 1,\n",
              "         'Jodhpur': 1,\n",
              "         'Johannesburg, South Africa': 2,\n",
              "         'Kailua-Kona, HI': 1,\n",
              "         'Kalinjikuppam': 1,\n",
              "         'Kanungu ': 1,\n",
              "         'Kanyakumari, India': 1,\n",
              "         'Karatina, Kenya': 4,\n",
              "         'Karnal, Haryana, India': 1,\n",
              "         'Kenya': 4,\n",
              "         'Kiambu Road,Nairobi, Kenya': 1,\n",
              "         'Kinshasa ': 1,\n",
              "         'Kozhippara,Palakkad ': 1,\n",
              "         'Laxmi Nagar, New Delhi': 1,\n",
              "         'Legoland': 1,\n",
              "         'London, England': 1,\n",
              "         'Lovely Earth': 1,\n",
              "         'Ludhiana, India': 1,\n",
              "         'Madurai': 1,\n",
              "         'Maharashtra, India': 1,\n",
              "         'Maldives ': 1,\n",
              "         'Mansa punjab': 1,\n",
              "         'Marion, North Carolina': 1,\n",
              "         'Marysville, WA': 1,\n",
              "         'Melbourne': 1,\n",
              "         'MikeBoneMedia.com': 1,\n",
              "         'Mombasa, Kenya': 1,\n",
              "         'Montana, USA': 1,\n",
              "         'Mumbai': 1,\n",
              "         'Mumbai, India': 3,\n",
              "         'Nagercoil': 1,\n",
              "         'Nairobi': 2,\n",
              "         'Nairobi kenya': 1,\n",
              "         'Nairobi, Kenya': 6,\n",
              "         'Nakuru': 1,\n",
              "         'Nationwide': 1,\n",
              "         'Neelangarai, Chennai': 1,\n",
              "         'New Delhi': 1,\n",
              "         'New Delhi , Noida ': 1,\n",
              "         'New Delhi, Delhi': 1,\n",
              "         'New Delhi, India': 3,\n",
              "         'New York, USA': 2,\n",
              "         'Neyveli Township': 3,\n",
              "         'Noida (UP)': 1,\n",
              "         'North Carolina, USA': 1,\n",
              "         'North Lakhimpur, India': 1,\n",
              "         'NunYa biz,': 1,\n",
              "         'On a rock floating in space': 1,\n",
              "         'Orissa, India': 1,\n",
              "         'Orl': 1,\n",
              "         'PDX☔️{in}TheUK☔️{daydreaming}': 1,\n",
              "         'PNW': 1,\n",
              "         'Patna, Bihar': 1,\n",
              "         'Patna, India': 2,\n",
              "         'Pattukkottai, Thanjavur': 1,\n",
              "         'Pondicherry, India': 1,\n",
              "         'Pune': 7,\n",
              "         'Pune, India': 2,\n",
              "         'Putnam, CT': 1,\n",
              "         'RATANGARH': 1,\n",
              "         'Raipur, Chhattisgarh': 1,\n",
              "         'Rajasthan, India': 1,\n",
              "         'Ramanathapuram ': 1,\n",
              "         'Ranchi, India': 1,\n",
              "         'Rishikesh, India': 1,\n",
              "         'Salem, India': 1,\n",
              "         'Santa Ana, CA': 1,\n",
              "         'Silverdale, WA': 1,\n",
              "         'Singapore': 3,\n",
              "         'Sivakasi, India': 1,\n",
              "         'Somewhere Nowhere': 1,\n",
              "         'Somewhere Quiet': 1,\n",
              "         'South Australia, Adelaide': 1,\n",
              "         'Southern California': 1,\n",
              "         'Surat, India': 1,\n",
              "         'Switzerland': 1,\n",
              "         'TN 49': 1,\n",
              "         'TN45,சோழநாடு': 1,\n",
              "         'Tamil ': 1,\n",
              "         'Tamil Nadu, India': 11,\n",
              "         'Thirunelveli ': 1,\n",
              "         'Thirupattur,Thamizhnadu,India': 1,\n",
              "         'Thiruthuraipoondi, India': 1,\n",
              "         'Tiruchirapalli, India': 1,\n",
              "         'Trichy': 1,\n",
              "         'Twickenham, UK': 1,\n",
              "         'United States': 2,\n",
              "         'Unofficial assembly': 1,\n",
              "         'Uttar Pradesh, India': 1,\n",
              "         'Vaniyambadi,Tamizhnadu,India': 1,\n",
              "         'Varanasi': 1,\n",
              "         'Venezuela': 1,\n",
              "         'Vitry-sur-Seine': 1,\n",
              "         'West Virginia,USA': 1,\n",
              "         'Yavatmal, India': 1,\n",
              "         'Yogyakarta, Indonesia': 2,\n",
              "         'Yuvi ka Dil ❤': 1,\n",
              "         'Zuirch': 1,\n",
              "         'california,usa': 1,\n",
              "         'chennai': 2,\n",
              "         'chennai,india': 1,\n",
              "         'coimbatore': 1,\n",
              "         'contact@vindylee.com': 1,\n",
              "         'kanpur': 1,\n",
              "         'world': 1,\n",
              "         'أبوظبي, الامارات العربية المتح': 1,\n",
              "         'مصر': 1,\n",
              "         'अजमेर, भारत': 1,\n",
              "         'गुड़गांव, भारत': 1,\n",
              "         'तमिलनाडु, भारत': 1,\n",
              "         'राजस्थान': 1,\n",
              "         'ছিপাঝাৰ ': 1,\n",
              "         'ஈரோடு': 1,\n",
              "         'ஈரோடு & கோவை': 1,\n",
              "         'ஈரோடு, தமிழ்நாடு': 1,\n",
              "         'காட்டாங்கொளத்தூர்': 1,\n",
              "         'கொங்கு மண்டலம் ': 1,\n",
              "         'சிவகங்கை': 1,\n",
              "         'செக்காணூரணி, மதுரை': 1,\n",
              "         'செங்கோட்டை, லெமூரியா கண்டம்': 1,\n",
              "         'தஞ்சாவூர்': 1,\n",
              "         'தஞ்சை': 1,\n",
              "         'தமிழ், தமிழர், தமிழ்நாடு, ஃ': 1,\n",
              "         'தமிழ்நாடு': 2,\n",
              "         'தல( தமிழ்)நாடு': 1,\n",
              "         'தாராபுரம் திருப்பூர் மாவட்டம் ': 1,\n",
              "         'திருநெல்வேலி': 1,\n",
              "         'தொண்டாமுத்தூர், கோவை ': 1,\n",
              "         'மதுரை TamilNadu ': 1,\n",
              "         '🇮🇳': 1})"
            ]
          },
          "metadata": {
            "tags": []
          },
          "execution_count": 59
        }
      ]
    },
    {
      "cell_type": "markdown",
      "metadata": {
        "id": "ZzMzLksPnKfw"
      },
      "source": [
        "We can see that the number of Covid-19 patients increased in Southern India, with many entries of cities of that region. \n",
        "\n",
        "The data from ​ https://www.covid19india.org/​ ​ also certifies the above fact. There was an increase of 300 corona positive cases on 10 June in Tamil Nadu.\n",
        "\n",
        "The topics obtained from topic modelling on class containing #RestInPeace have maximum words of some South Indian language, which again supports the above finding."
      ]
    },
    {
      "cell_type": "code",
      "metadata": {
        "id": "QCzJ7VdxYbic"
      },
      "source": [
        ""
      ],
      "execution_count": null,
      "outputs": []
    }
  ]
}